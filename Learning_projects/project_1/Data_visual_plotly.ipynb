{
 "cells": [
  {
   "cell_type": "markdown",
   "metadata": {},
   "source": [
    "## PYTHON-13. Визуализация данных  9. Закрепление знаний.\n",
    "***\n",
    "- Файл с исходными данными можно скачать [здесь](https://lms.skillfactory.ru/assets/courseware/v1/c903ecd0b0c995c44213d620ab6ae94d/asset-v1:SkillFactory+DST-3.0+28FEB2021+type@asset+block/churn.zip).\n",
    "- В качестве инструмента визуализации используется библиотека Plotly (express).\n",
    "- Ссылка на GitHub [здесь](https://github.com/drSever/drSever_data_science/tree/main/my_project_2)\n",
    "***\n",
    "В файле с исходными данными (churn.csv) нам представлены данные об оттоке клиентов некоторого банка.\n",
    "\n",
    "Столбцы таблицы (признаки):\n",
    "\n",
    "1. ***RowNumber*** — номер строки таблицы (это лишняя информация, поэтому можете сразу от неё избавиться)\n",
    "2. ***CustomerId*** — идентификатор клиента\n",
    "3. ***Surname*** — фамилия клиента\n",
    "4. ***CreditScore*** — кредитный рейтинг клиента (чем он выше, тем больше клиент брал кредитов и возвращал их)\n",
    "5. ***Geography*** — страна клиента (банк международный)\n",
    "6. ***Gender*** — пол клиента\n",
    "7. ***Age*** — возраст клиента\n",
    "8. ***Tenure*** — сколько лет клиент пользуется услугами банка\n",
    "9. ***Balance*** — баланс на счетах клиента в банке\n",
    "10. ***NumOfProducts*** — количество услуг банка, которые приобрёл клиент\n",
    "11. ***HasCrCard*** — есть ли у клиента кредитная карта (1 — да, 0 — нет)\n",
    "12. ***IsActiveMember*** — есть ли у клиента статус активного клиента банка (1 — да, 0 — нет)\n",
    "13. ***EstimatedSalary*** — предполагаемая заработная плата клиента\n",
    "14. ***Exited*** — статус лояльности (1 — ушедший клиент, 0 — лояльный клиент)\n",
    "\n",
    "Итак, банк обращается к нам за помощью: он хочет разработать кампанию лояльности по удержанию клиентов, но для этого ему необходимо, чтобы мы выяснили основные причины оттока клиентов. Иными словами, нужно установить, чем ушедшие клиенты отличаются от лояльных и как между собой связаны различные признаки, определяющие клиентов.\n",
    "\n",
    "После разведывательного анализа, с целью выявления наиболее важных признаков оттока, банк сможет построить модель машинного обучения, которая будет прогнозировать уход клиента. "
   ]
  },
  {
   "cell_type": "code",
   "execution_count": 1,
   "metadata": {},
   "outputs": [],
   "source": [
    "import pandas as pd\n",
    "import plotly.express as px\n",
    "\n",
    "churn_data = pd.read_csv('data/churn.csv') # загружаем данные\n",
    "\n",
    "churn_data = churn_data.drop('RowNumber', axis=1) # удаляем ненужный столбец RowNumber\n",
    "churn_data['Exited_str'] = churn_data['Exited'].apply(\n",
    "    lambda x: 'exited' if x == 1 else 'loyal') # создаем дополнительный столбец, где статус лояльности будет обозначен 'loyal' или 'exited'\n",
    "churn_data['IsActiveMember_str'] = churn_data['IsActiveMember'].apply(\n",
    "    lambda x: 'activе' if x == 1 else 'non-active') # создаем дополнительный столбец, \n",
    "                                                    # где статус активности клиента будет обозначен 'active' или 'non-active'\n",
    "\n",
    "# display(churn_data) # выводим и проверяем, что данные загружаются и ошибок нет\n",
    "# churn_data.info() # выводим и проверяем на наличие пустых значений\n",
    "# churn_data['CustomerId'].nunique() # выводим и проверяем на отсутствие дублированных записей о клиентах"
   ]
  },
  {
   "cell_type": "markdown",
   "metadata": {},
   "source": [
    "***\n",
    "**Задание 9.1.**   \n",
    "Каково соотношение ушедших и лояльных клиентов?   \n",
    "Покажите это на графике и дайте комментарий по соотношению.\n",
    "\n"
   ]
  },
  {
   "cell_type": "code",
   "execution_count": 2,
   "metadata": {},
   "outputs": [],
   "source": [
    "churn_data_pie = churn_data.groupby(by='Exited_str', as_index=False).agg('count') # группируем данные для графика\n",
    "\n",
    "# display(churn_data_pie) # выводим и визуально проверяем правильность группировки данных\n",
    "\n",
    "fig = px.pie(churn_data_pie, values='Exited', names='Exited_str', color='Exited_str',\n",
    "             title='Ratio of exited and loyal customers',\n",
    "             labels={'Exited':'Number of customers ',\n",
    "                     'Exited_str':'Loyalty status '\n",
    "                     },\n",
    "             color_discrete_map={'loyal': '#636EFA',\n",
    "                                 'exited':'#EF553B',\n",
    "                                 },\n",
    "             height=500,width=600\n",
    "             )\n",
    "\n",
    "# fig.show() # GitHub не поддерживает Plotly\n",
    "\n",
    "# сохраняем диаграмму в html, svg\n",
    "fig.write_html(\"plotly/1.html\")\n",
    "fig.write_image('plotly/img1.svg')\n"
   ]
  },
  {
   "attachments": {},
   "cell_type": "markdown",
   "metadata": {},
   "source": [
    "![Диаграмма](plotly/img1.svg \"Для просмотра HTML-версии нажмите ссылку ниже\") \n",
    "\n",
    "[html-версия диаграммы](plotly/1.html)  "
   ]
  },
  {
   "cell_type": "markdown",
   "metadata": {},
   "source": [
    "Из представленной выше круговой диаграммы видно, что число ушедших клиентов составляет около 20%, а число лояльных – около 80% от общего числа клиентов, соотношение 1:4 в пользу лояльных. "
   ]
  },
  {
   "cell_type": "markdown",
   "metadata": {},
   "source": [
    "***\n",
    "**Задание 9.2.**  \n",
    "Постройте график, показывающий распределение баланса пользователей, у которых на счету больше 2 500 долларов.   \n",
    "Опишите распределение и сделайте выводы."
   ]
  },
  {
   "cell_type": "code",
   "execution_count": 3,
   "metadata": {},
   "outputs": [],
   "source": [
    "mask = churn_data['Balance'] > 2500 # создаем маску для фильтрации клиентов с балансом > 2500 долларов\n",
    "churn_data_mask = churn_data[mask]  # применяем маску к базе данных\n",
    "\n",
    "fig = px.histogram(churn_data_mask, x='Balance', nbins=30,\n",
    "                   title='User balance distribution (Balance > 2500)',\n",
    "                   height=500,width=1200\n",
    "                   )\n",
    "\n",
    "# fig.show() # GitHub не поддерживает Plotly\n",
    "\n",
    "# сохраняем гистограмму в html, svg\n",
    "fig.write_html(\"plotly/2.html\")\n",
    "fig.write_image('plotly/img2.svg')"
   ]
  },
  {
   "attachments": {},
   "cell_type": "markdown",
   "metadata": {},
   "source": [
    "![Гистограмма](plotly/img2.svg \"Для просмотра HTML-версии нажмите ссылку ниже\") \n",
    "\n",
    "[html-версия гистограммы](plotly/2.html)  "
   ]
  },
  {
   "cell_type": "markdown",
   "metadata": {},
   "source": [
    "Из представленной выше гистограммы можно сделать следующие выводы:\n",
    "- распределение клиентов с балансом выше 2500 долларов носит равномерный характер без аномалий. \n",
    "- большинство представленных клиентов имеют на балансе сумму 100-140 тыс. долларов (пиковые значения 120-130тыс. долларов). \n",
    "- большинство клиентов банка – достаточно обеспеченные люди. Например, в среднем, немцы от 14 лет и старше имеют на душу населения 12 400 евро (13 000 долларов по курсу) на своих счетах [ссылка на источник](https://www.mknews.de/social/2019/10/07/nemcy-derzhat-pochti-billion-evro-na-besprocentnykh-schetakh.html). \n",
    "- все клиенты банка имеют баланс в долларах США, хотя банковские отделения расположены в Германии, Франции, Испании (об этом мы узнаем ниже в задании 9.9)\n"
   ]
  },
  {
   "cell_type": "markdown",
   "metadata": {},
   "source": [
    "***\n",
    "**Задание 9.3.**  \n",
    "Посмотрите на распределение баланса клиента в разрезе признака оттока.   \n",
    "Как различаются суммы на накопительном счёте ушедших и лояльных клиентов?   \n",
    "Подумайте и напишите, с чем это может быть связано, что может не устраивать ушедших клиентов в банке.  "
   ]
  },
  {
   "cell_type": "code",
   "execution_count": 4,
   "metadata": {},
   "outputs": [],
   "source": [
    "fig = px.box(churn_data, x='Exited_str', y='Balance', color='Exited_str',\n",
    "             title='Distribution of customer balance in the context of exodus',\n",
    "             labels={'Exited_str':'Loyalty status '},\n",
    "             color_discrete_map={'loyal': '#636EFA',\n",
    "                                 'exited':'#EF553B',\n",
    "                                 },\n",
    "             height=500,width=1200\n",
    "             ) \n",
    "\n",
    "# fig.show() # GitHub не поддерживает Plotly\n",
    "\n",
    "# сохраняем коробку с усами в html, svg\n",
    "fig.write_html(\"plotly/3.html\")\n",
    "fig.write_image('plotly/img3.svg')"
   ]
  },
  {
   "attachments": {},
   "cell_type": "markdown",
   "metadata": {},
   "source": [
    "![Диаграмма](plotly/img3.svg \"Для просмотра HTML-версии нажмите ссылку ниже\") \n",
    "\n",
    "[html-версия диаграмма](plotly/3.html)  "
   ]
  },
  {
   "attachments": {},
   "cell_type": "markdown",
   "metadata": {},
   "source": [
    "На коробчатой диаграмме представленной выше видно следующее:\n",
    "- межквартильный размах больше в группе лояльных клиентов, а границы распределния больше в группе ушедших клиентов. \n",
    "- максимальная сумма на балансе (250тыс. долларов) у клиента, который покинул банк. \n",
    "- межквартильный размах (IQR) больше среди лояльных клиентов и составляет от 0 до 126тыс. долларов. У покинувших банк клиентов данный показатель находится в пределах 37-131тыс. долларов.  \n",
    "- медианный показатель выше у ушедших клиентов (109тыс. долларов), у лояльных он составляет 92тыс. долларов. \n",
    "- потенциальные выбросы отсутствуют.\n",
    "\n",
    "Итак, мы можем сделать вывод, что чаще покидают банк более обеспеченные клиенты. Вероятно, их не устраивают условия, которые им предлагает банк для хранения денег либо их инвестиций. \n",
    "\n",
    "Кроме того, как было указано выше, открытие счетов в долларах в европейском банке может говорить о том, что по крайней мере часть его клиентов – граждане США, причем они могут быть как резидентами, так и нерезидентами. Вполне может быть, что условия для нерезидентов хуже или с ограничениями, что влияет на уход таких клиентов. \n"
   ]
  },
  {
   "cell_type": "code",
   "execution_count": 5,
   "metadata": {},
   "outputs": [],
   "source": [
    "# добавим гистограмму распределения в разрезе ушедших и лояльных клиентов без ограничений по балансу на счете\n",
    "fig = px.histogram(churn_data, x='Balance', nbins=30, color='Exited_str',\n",
    "                   title='User balance distribution (loyal and exited)',\n",
    "                   labels={'Exited_str':'Loyalty status '},\n",
    "                   color_discrete_map={'loyal': '#636EFA',\n",
    "                                       'exited':'#EF553B',\n",
    "                                      },\n",
    "                   height=500,width=1200\n",
    "                   )\n",
    "\n",
    "# fig.show() # GitHub не поддерживает Plotly\n",
    "\n",
    "# сохраняем гистограмму в html, svg\n",
    "fig.write_html(\"plotly/4.html\")\n",
    "fig.write_image('plotly/img4.svg')"
   ]
  },
  {
   "attachments": {},
   "cell_type": "markdown",
   "metadata": {},
   "source": [
    "![Гистограмма](plotly/img4.svg \"Для просмотра HTML-версии нажмите ссылку ниже\") \n",
    "\n",
    "[html-версия гистограммы](plotly/4.html)  "
   ]
  },
  {
   "cell_type": "markdown",
   "metadata": {},
   "source": [
    "Действительно, на данной гистограмме очень хорошо видно большое количество клиентов (как лояльных, так и ушедших) с нулевым балансом. Правда, надо отметить, что таковых лояльных клиентов значительно больше: 501 ушедший и 3117 лояльный.\n",
    "\n",
    "С чем это может быть связано? Возможно, эти клиенты открыли счета, но условия банка по их использованию их не устраивают. Кстати, лояльные клиенты с нулевыми балансами могут быть уже фактически ушедшими и просто ожидают окончания договора с банком, пользуясь уже услугами других банков."
   ]
  },
  {
   "cell_type": "markdown",
   "metadata": {},
   "source": [
    "***\n",
    "**Задание 9.4.**   \n",
    "Посмотрите на распределение возраста в разрезе признака оттока.   \n",
    "В какой группе больше потенциальных выбросов?   \n",
    "На какую возрастную категорию клиентов стоит обратить внимание банку?  "
   ]
  },
  {
   "cell_type": "code",
   "execution_count": 6,
   "metadata": {},
   "outputs": [],
   "source": [
    "fig = px.box(churn_data, x='Exited_str', y='Age', color='Exited_str',\n",
    "             title='Age distribution in relation to exodus',\n",
    "             labels={'Exited_str':'Loyalty status '},\n",
    "             color_discrete_map={'loyal': '#636EFA',\n",
    "                                 'exited':'#EF553B',\n",
    "                                 },\n",
    "             height=500,width=1200\n",
    "             ) \n",
    "\n",
    "# fig.show() # GitHub не поддерживает Plotly\n",
    "\n",
    "# сохраняем коробчатую диаграмму в html, svg\n",
    "fig.write_html(\"plotly/5.html\")\n",
    "fig.write_image('plotly/img5.svg')"
   ]
  },
  {
   "attachments": {},
   "cell_type": "markdown",
   "metadata": {},
   "source": [
    "![Коробчатая диаграмма](plotly/img5.svg \"Для просмотра HTML-версии нажмите ссылку ниже\") \n",
    "\n",
    "[html-версия коробчатой диаграммы](plotly/5.html)  "
   ]
  },
  {
   "attachments": {},
   "cell_type": "markdown",
   "metadata": {},
   "source": [
    "На коробчатой диаграмме представленной выше видно следующее:\n",
    "- длина ящика с усами (межквартильный размах) больше в группе ушедших клиентов, однако число потенциальных выбросов выше в группе лояльных. \n",
    "- возрастная группа ушедших клиентов – это люди преимущественно от 38 до 51 года, медиана – 45 лет. При этом это более обеспеченные люди (как мы выяснили выше), чем лояльные клиенты.  Это логично, т.к. именно к этому возрасту доходы человека обычно растут – он получает необходимый опыт и продвигается по карьерной лестнице либо начинают приносить прибыль его инвестиции и увеличиваются его накопления. \n",
    "- возрастная группа лояльных клиентов – это люди возрастом от 31 до 41 года, медиана – 36 лет. То есть, другими словами, группа лояльных клиентов младше в среднем примерно на 10 лет группы ушедших клиентов. \n",
    "\n",
    "Соответственно, делаем вывод, что банку следует обратить внимание на группу клиентов возрастом 38-51 год. \n"
   ]
  },
  {
   "cell_type": "markdown",
   "metadata": {},
   "source": [
    "***\n",
    "**Задание 9.5.**  \n",
    "Постройте график, который показывает взаимосвязь кредитного рейтинга клиента и его предполагаемой зарплаты.   \n",
    "Добавьте расцветку по признаку оттока клиентов.   \n",
    "Какова взаимосвязь между признаками? Если не видите явной взаимосвязи, укажите это.  "
   ]
  },
  {
   "cell_type": "code",
   "execution_count": 7,
   "metadata": {},
   "outputs": [],
   "source": [
    "fig = px.scatter(churn_data, x='EstimatedSalary', y='CreditScore', color='Exited_str', \n",
    "                 title=\"Relationship between the customer’s credit rating and his estimated salary\",\n",
    "                 labels={'Exited_str':'Loyalty status ', \n",
    "                         'EstimatedSalary':'Estimated Salary ',\n",
    "                         'CreditScore':'Credit Score '\n",
    "                         },\n",
    "                 color_discrete_map={'loyal': '#636EFA',\n",
    "                                    'exited':'#EF553B',\n",
    "                                    },\n",
    "                 hover_data=['Exited_str'], \n",
    "                 log_x=True, # используем логарифмическую шкалу, чтобы увидеть взаимосвязь!\n",
    "                 height=500,width=1200\n",
    "                 )\n",
    "\n",
    "# fig.show() # GitHub не поддерживает Plotly\n",
    "\n",
    "# сохраняем диаграмму рассеяния в html, svg\n",
    "fig.write_html(\"plotly/6.html\")\n",
    "fig.write_image('plotly/img6.svg')"
   ]
  },
  {
   "attachments": {},
   "cell_type": "markdown",
   "metadata": {},
   "source": [
    "![Диаграмма рассеяния](plotly/img6.svg \"Для просмотра HTML-версии нажмите ссылку ниже\") \n",
    "\n",
    "[html-версия диаграммы](plotly/6.html)  "
   ]
  },
  {
   "cell_type": "markdown",
   "metadata": {},
   "source": [
    "Из представленой диаграммы рассеяния мы можем увидеть следующее:\n",
    "- видна четкая взаимосвязь кредитного рейтинга клиента и его предполагаемой зарплаты: более высокому уровню зарплаты обычно соответствует более высокий кредитный рейтинг. Это логично, т.к. клиент с более высоким доходом будет во время погашать и обслуживать кредиты, а также будет иметь более хорошую кредитную историю. \n",
    "- если сравнить данную взаимосвязь в разрезе ушедших и лояльных клиентов, то отличий между этими двумя группами нет. \n"
   ]
  },
  {
   "cell_type": "markdown",
   "metadata": {},
   "source": [
    "***\n",
    "**Задание 9.6.**  \n",
    "Кто чаще уходит, мужчины или женщины?   \n",
    "Постройте график, который иллюстрирует это."
   ]
  },
  {
   "cell_type": "code",
   "execution_count": 8,
   "metadata": {},
   "outputs": [],
   "source": [
    "mask = churn_data['Exited'] == 1 # маска для выборки только ушедших клиентов\n",
    "churn_data_pie = churn_data[mask].groupby(by=['Gender','Exited_str'], as_index=False)['Exited'].count() # можно использовать sum()\n",
    "\n",
    "# display(churn_data_pie) # выводим и визуально проверяем правильность группировки данных\n",
    "\n",
    "fig = px.pie(churn_data_pie, values='Exited', names='Gender', color='Gender',\n",
    "             title='Sex ratio of exodus customers',\n",
    "             labels={'Exited':'Number of exodus customers ',\n",
    "                     'Exited_str':'Loyalty status ',\n",
    "                     'Gender':'Gender '\n",
    "                     },\n",
    "             color_discrete_map={'Male': '#636EFA',\n",
    "                                 'Female':'#EF553B',\n",
    "                                 },\n",
    "             height=500,width=600\n",
    "             )\n",
    "\n",
    "# fig.show() # GitHub не поддерживает Plotly\n",
    "\n",
    "# сохраняем диаграмму в html, svg\n",
    "fig.write_html(\"plotly/7.html\")\n",
    "fig.write_image('plotly/img7.svg')\n",
    "\n"
   ]
  },
  {
   "attachments": {},
   "cell_type": "markdown",
   "metadata": {},
   "source": [
    "![Диаграмма](plotly/img7.svg \"Для просмотра HTML-версии нажмите ссылку ниже\") \n",
    "\n",
    "[html-версия диаграммы](plotly/7.html)  "
   ]
  },
  {
   "cell_type": "markdown",
   "metadata": {},
   "source": [
    "Представленная выше круговая диаграмма показывает, что число ушедших женщин выше, чем число ушедших мужчин – 56% против 44% соответственно. "
   ]
  },
  {
   "cell_type": "markdown",
   "metadata": {},
   "source": [
    "***\n",
    "**Задание 9.7**  \n",
    "Как отток клиентов зависит от числа приобретённых у банка услуг?   \n",
    "Для ответа на этот вопрос постройте многоуровневую столбчатую диаграмму."
   ]
  },
  {
   "cell_type": "code",
   "execution_count": 9,
   "metadata": {},
   "outputs": [],
   "source": [
    "churn_data_bar = churn_data.groupby(by='Exited_str', as_index=False)['NumOfProducts'].value_counts()\n",
    "\n",
    "# display(churn_data_bar) # выводим и визуально проверяем правильность группировки данных\n",
    "\n",
    "fig = px.bar(churn_data_bar, x='Exited_str', y='count', color='NumOfProducts', \n",
    "             title='Customer exodus relationship from the number of services purchased from the bank',\n",
    "             labels={'count':'Number of customers ',\n",
    "                     'Exited_str':'Loyalty status ',\n",
    "                     'NumOfProducts':'Num Of Products '\n",
    "                     },\n",
    "             height=500,width=1200\n",
    "             )\n",
    "\n",
    "# fig.show() # GitHub не поддерживает Plotly\n",
    "\n",
    "# сохраняем диаграмму в html, svg\n",
    "fig.write_html(\"plotly/8.html\")\n",
    "fig.write_image('plotly/img8.svg')"
   ]
  },
  {
   "attachments": {},
   "cell_type": "markdown",
   "metadata": {},
   "source": [
    "![Диаграмма](plotly/img8.svg \"Для просмотра HTML-версии нажмите ссылку ниже\") \n",
    "\n",
    "[html-версия диаграммы](plotly/8.html)  "
   ]
  },
  {
   "cell_type": "markdown",
   "metadata": {},
   "source": [
    "Представленные выше столбчатые диаграммы показывают:\n",
    "-\tПокинувшие банк клиенты приобретали все предоставляемые банком услуги (их всего четыре), однако большинство из них пользовались только одной и совсем немногие пользовались всеми четырьмя. \n",
    "-\tЛояльные банку клиенты приобретают обычно одну или две услуги (последних клиентов больше), однако все четыре услуги в этой группе никто не приобретает. \n"
   ]
  },
  {
   "cell_type": "markdown",
   "metadata": {},
   "source": [
    "***\n",
    "**Задание 9.8.**  \n",
    "Как влияет наличие статуса активного клиента на отток клиентов?  \n",
    "Постройте диаграмму, иллюстрирующую это. Что бы вы предложили банку, чтобы уменьшить отток клиентов среди неактивных?"
   ]
  },
  {
   "cell_type": "code",
   "execution_count": 10,
   "metadata": {},
   "outputs": [],
   "source": [
    "churn_data_bar = churn_data.groupby(by='Exited_str', as_index=False)['IsActiveMember_str'].value_counts()\n",
    "\n",
    "# display(churn_data_bar) # выводим и визуально проверяем правильность группировки данных\n",
    "\n",
    "fig = px.bar(churn_data_bar, x='Exited_str', y='count', color='IsActiveMember_str', \n",
    "             title='How active client status affects client exodus',\n",
    "             labels={'count':'Number of customers ',\n",
    "                     'Exited_str':'Loyalty status ',\n",
    "                     'IsActiveMember_str':'Is Active Member '\n",
    "                     },\n",
    "             height=500,width=1200\n",
    "             )\n",
    "\n",
    "# fig.show() # GitHub не поддерживает Plotly\n",
    "\n",
    "# сохраняем диаграмму в html, svg\n",
    "fig.write_html(\"plotly/9.html\")\n",
    "fig.write_image('plotly/img9.svg')\n"
   ]
  },
  {
   "attachments": {},
   "cell_type": "markdown",
   "metadata": {},
   "source": [
    "![Диаграмма](plotly/img9.svg \"Для просмотра HTML-версии нажмите ссылку ниже\") \n",
    "\n",
    "[html-версия диаграммы](plotly/9.html)  "
   ]
  },
  {
   "cell_type": "markdown",
   "metadata": {},
   "source": [
    "Столбчатая диаграмма выше четко показывает, что бОльшая часть ушедших клиентов имеют статус неактивных, а бОльшая часть лояльных – наоборот. \n",
    "\n",
    "1) Если статус активного или неактивного клиента означает, соответственно, движение или отсутствие движения денег на счетах клиента, то можно сделать следующий вывод – большинство лояльных клиентов устраивает условия банка по транзакциям (переводы, оплаты в магазинах, интернет-платежи и т.д.), а большинство ушедших клиентов либо нет, либо они об этих условиях не знают. Либо ушедшие неактивные клиенты рассматривали данный банк как место хранения своих сбережений и получения дохода по вкладам за счет процентной ставки. \n",
    "\n",
    "    Таким образом банку в сложившейся ситуации можно предложить:\n",
    "- активно работать с неактивными клиентами в плане информирования их о выгодных условиях и предложениях со стороны банка, акциях банка и его партнеров (например, есть магазины, которые дают скидки или кешбэк за оплату картой данного банка) - информационные рассылки (смс, e-mail), реклама в СМИ и Интернете. \n",
    "- заинтересовывать длительно хранить деньги на счетах банка, путем увеличения доходов по вкладам или предоставления новых выгодных предложений по ним. \n",
    "2) Если активность клиентов связана с количеством услуг, которые те приобретают у банка и статус активного клиента означает, что клиент приобрел более, чем одну услугу банка, то этот график прекрасно коррелирует с предыдущим. Мы видим, что в этом случае среди ушедших клиентов – 1302 неактивных, в то же время 1409 из них приобрели только одну услугу банка. Похожая картина наблюдается при анализе лояльных клиентов – 4416 из них имеют статус активных, 4242 использует 2 услуги, приобретенные у банка. \n",
    "\n",
    "    В этом случае банку можно предложить снизить стоимость предлагаемых услуг либо улучшить их функционал. \n"
   ]
  },
  {
   "cell_type": "markdown",
   "metadata": {},
   "source": [
    "***\n",
    "**Задание 9.9.**  \n",
    "В какой стране доля ушедших клиентов больше?  \n",
    "Постройте тепловую картограмму, которая покажет это соотношение на карте мира.  \n",
    "Предположите, с чем это может быть связано."
   ]
  },
  {
   "cell_type": "code",
   "execution_count": 11,
   "metadata": {},
   "outputs": [
    {
     "name": "stdout",
     "output_type": "stream",
     "text": [
      "Дополнительно к графику выведем таблицу с долей ушедших \n",
      "клиентов от общего их числа c группировкой по странам\n"
     ]
    },
    {
     "data": {
      "text/html": [
       "<div>\n",
       "<style scoped>\n",
       "    .dataframe tbody tr th:only-of-type {\n",
       "        vertical-align: middle;\n",
       "    }\n",
       "\n",
       "    .dataframe tbody tr th {\n",
       "        vertical-align: top;\n",
       "    }\n",
       "\n",
       "    .dataframe thead th {\n",
       "        text-align: right;\n",
       "    }\n",
       "</style>\n",
       "<table border=\"1\" class=\"dataframe\">\n",
       "  <thead>\n",
       "    <tr style=\"text-align: right;\">\n",
       "      <th></th>\n",
       "      <th>Geography</th>\n",
       "      <th>Exited</th>\n",
       "    </tr>\n",
       "  </thead>\n",
       "  <tbody>\n",
       "    <tr>\n",
       "      <th>0</th>\n",
       "      <td>France</td>\n",
       "      <td>0.161548</td>\n",
       "    </tr>\n",
       "    <tr>\n",
       "      <th>1</th>\n",
       "      <td>Germany</td>\n",
       "      <td>0.324432</td>\n",
       "    </tr>\n",
       "    <tr>\n",
       "      <th>2</th>\n",
       "      <td>Spain</td>\n",
       "      <td>0.166734</td>\n",
       "    </tr>\n",
       "  </tbody>\n",
       "</table>\n",
       "</div>"
      ],
      "text/plain": [
       "  Geography    Exited\n",
       "0    France  0.161548\n",
       "1   Germany  0.324432\n",
       "2     Spain  0.166734"
      ]
     },
     "metadata": {},
     "output_type": "display_data"
    }
   ],
   "source": [
    "mask = churn_data['Exited'] == 1 # маска для выборки только ушедших клиентов\n",
    "churn_data_choropleth = churn_data[mask].groupby(by='Geography', as_index=False)['Exited_str'].value_counts() # группируем ушедших клиентов по региону\n",
    "\n",
    "\n",
    "# display(churn_data_choropleth) # выводим и визуально проверяем правильность группировки данных\n",
    "\n",
    "fig = px.choropleth(\n",
    "    data_frame=churn_data_choropleth, \n",
    "    locations='Geography', \n",
    "    locationmode = 'country names', # режим сопоставления локаций с базой plotly\n",
    "    color=\"count\", # от чего зависит цвет\n",
    "    range_color=[0, 1000],\n",
    "    title='Distribution of departed clients by country',\n",
    "    labels={'count':'Number of exited ',\n",
    "            'Geography':'Geography ',\n",
    "            }, \n",
    "    width=1200, \n",
    "    height=500, \n",
    "    color_continuous_scale='Reds' # палитра цветов\n",
    ")\n",
    "\n",
    "# fig.show() # GitHub не поддерживает Plotly\n",
    "\n",
    "# сохраняем диаграмму в html, svg\n",
    "fig.write_html(\"plotly/10.html\")\n",
    "fig.write_image('plotly/img10.svg')\n",
    "\n",
    "print('Дополнительно к графику выведем таблицу с долей ушедших \\nклиентов от общего их числа c группировкой по странам')\n",
    "churn_data_choropleth_more = churn_data.groupby(by='Geography', as_index=False)['Exited'].mean()\n",
    "display(churn_data_choropleth_more)"
   ]
  },
  {
   "attachments": {},
   "cell_type": "markdown",
   "metadata": {},
   "source": [
    "![Диаграмма](plotly/img10.svg \"Для просмотра HTML-версии нажмите ссылку ниже\") \n",
    "\n",
    "[html-версия диаграммы](plotly/10.html)  "
   ]
  },
  {
   "cell_type": "markdown",
   "metadata": {},
   "source": [
    "При анализе данной картограммы обращает на себя внимание следующее:\n",
    "- банк представлен в трех европейских странах – Германии, Франции, Испании. \n",
    "- наибольшая доля ушедших клиентов в Германии и Франции (чуть более 800 человек в каждой из этих стран), наименьшая – в Испании (чуть более 400 клиентов). \n",
    "- однако, если мы посмотрим долю ушедших клиентов от общего количества клиентов в разрезе по странам (см. таблицу ниже картограммы), то обнаружим, что наибольшая доля ушедших клиентов в Германии (32%), а в Испании и Франции их доли почти равны и составляют по 16%. \n",
    "- таким образом можно сделать главный вывод – наибольшая проблема оттока клиентов у банка в Германии. \n",
    "\n",
    "Наиболее вероятной причиной этого, по моему мнению, является более высокая конкуренция среди банков в Германии, чем во Франции и Испании. Клиенты имеют бОльшую возможность выбрать банк с более выгодными условиями в Германии, чем в других странах. Косвенно это подтверждают данные по количеству банков в этих странах – в Германии более 2000 банков на конец 2009 года [ссылка](https://ru.wikipedia.org/wiki/Банковская_система_Германии), во Франции – более 400 по данным 2021 года [ссылка](https://corporatefinanceinstitute.com/resources/careers/companies/top-banks-in-france/), в Испании – только 10 [ссылка](https://translated.turbopages.org/proxy_u/en-ru.ru.b5bf9164-62b7566b-142fdf31-74722d776562/https/en.wikipedia.org/wiki/List_of_banks_in_Spain). \n"
   ]
  },
  {
   "cell_type": "markdown",
   "metadata": {},
   "source": [
    "***\n",
    "**Задание 9.10.**  \n",
    "Переведите числовой признак CreditScore в категориальный.  \n",
    "Для этого воспользуйтесь функцией get_credit_score_cat(), которая приведена ниже.  \n",
    "Примените её к столбцу CreditScore и создайте новый признак CreditScoreCat — категории кредитного рейтинга.  \n",
    "Постройте сводную таблицу, строками которой являются категории кредитного рейтинга (CreditScoreCat),  \n",
    "а столбцами — количество лет, в течение которых клиент пользуется услугами банка (Tenure).  \n",
    "В ячейках сводной таблицы должно находиться среднее по признаку оттока (Exited) — доля ушедших пользователей.  \n",
    "    \n",
    "На основе полученной сводной таблицы постройте тепловую карту с аннотацией.  \n",
    "Найдите на тепловой карте категории клиентов, которые уходят чаще всего."
   ]
  },
  {
   "cell_type": "code",
   "execution_count": 12,
   "metadata": {},
   "outputs": [],
   "source": [
    "def get_credit_score_cat(credit_score): # представленная в задании функция\n",
    "    if credit_score >= 300 and credit_score < 500:\n",
    "        return \"Very_Poor\"\n",
    "    elif credit_score >= 500 and credit_score < 601:\n",
    "        return \"Poor\"\n",
    "    elif credit_score >= 601 and credit_score < 661:\n",
    "        return \"Fair\"\n",
    "    elif credit_score >= 661 and credit_score < 781:\n",
    "        return \"Good\"\n",
    "    elif credit_score >= 781 and credit_score < 851:\n",
    "        return \"Excellent\"\n",
    "    elif credit_score >= 851:\n",
    "        return \"Top\"\n",
    "    elif credit_score < 300:\n",
    "        return \"Deep\"\n",
    "\n",
    "   \n",
    "churn_data['CreditScoreCat'] = churn_data['CreditScore'].apply(get_credit_score_cat) # применяем функция к стобцу CreditScore \n",
    "                                                                                     # и создаем новый столбец CreditScoreCat\n",
    "\n",
    "# display(churn_data) # проверяем, что появился новый столбец \n",
    "# churn_data.info() # проверяем, что столбец CreditScore стал категориальным\n",
    "\n",
    "churn_data_pivot = churn_data.pivot_table( # создаем сводную таблицу согласно условиям задачи\n",
    "    values='Exited',\n",
    "    index='CreditScoreCat',\n",
    "    columns='Tenure',\n",
    "    aggfunc='mean'\n",
    ")\n",
    "\n",
    "# display(churn_data_pivot) # проверяем правильность сводной таблицы\n",
    "\n",
    "fig = px.imshow(churn_data_pivot, text_auto=True,\n",
    "                title=\"Dependence of the share of departed customers on the category of credit rating <br>and the number of years during which the client used the bank’s services.\",\n",
    "                labels=dict(x='Tenure ', y='Credit Score Category', color='Share of Exited '),\n",
    "                width=1200, \n",
    "                height=500, \n",
    "                color_continuous_scale='Reds' \n",
    "                )\n",
    "\n",
    "# fig.show() # GitHub не поддерживает Plotly\n",
    "\n",
    "# сохраняем тепловую карту в html, svg\n",
    "fig.write_html(\"plotly/11.html\")\n",
    "fig.write_image('plotly/img11.svg')"
   ]
  },
  {
   "attachments": {},
   "cell_type": "markdown",
   "metadata": {},
   "source": [
    "![Тепловая карта](plotly/img11.svg \"Для просмотра HTML-версии нажмите ссылку ниже\") \n",
    "\n",
    "[html-версия тепловой карты](plotly/11.html)  "
   ]
  },
  {
   "cell_type": "markdown",
   "metadata": {},
   "source": [
    "На представленной тепловой карте можно отметить следующие категории клиентов, которые уходят чаще всего:\n",
    "-  с категорией кредитного рейтинга “Very Poor” и сроком обслуживания менее года и в течение 10 лет (это значительно выше общей доли ушедших клиентов в 20%), также высокий уровень оттока демонстрируют клиенты этого же кредитного рейтинга со сроком обслуживания 1,3,4 года, 8 лет. \n",
    "- с категорией \"Poor\" и сроком обслуживания 1 и 9 лет.\n",
    "- с категорией кредитного рейтинга “Excellent” и сроком обслуживания менее года и в течение 9-10 лет. \n",
    "\n",
    "NB. За критерий наиболее частого ухода клиентов возьмем 25% и выше, учитывая что общая доля ушедших клиентов 20% (данные из первого графика).\n"
   ]
  }
 ],
 "metadata": {
  "kernelspec": {
   "display_name": "Python 3",
   "language": "python",
   "name": "python3"
  },
  "language_info": {
   "codemirror_mode": {
    "name": "ipython",
    "version": 3
   },
   "file_extension": ".py",
   "mimetype": "text/x-python",
   "name": "python",
   "nbconvert_exporter": "python",
   "pygments_lexer": "ipython3",
   "version": "3.9.13"
  },
  "orig_nbformat": 4,
  "vscode": {
   "interpreter": {
    "hash": "397704579725e15f5c7cb49fe5f0341eb7531c82d19f2c29d197e8b64ab5776b"
   }
  }
 },
 "nbformat": 4,
 "nbformat_minor": 2
}
