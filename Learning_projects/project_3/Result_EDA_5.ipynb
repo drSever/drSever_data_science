{
 "cells": [
  {
   "cell_type": "markdown",
   "id": "b50ac21d",
   "metadata": {},
   "source": [
    "Александр Журавлев DST-120  \n",
    "[ссылка](https://github.com/drSever/drSever_data_science/tree/main/Small_training_projects/project_4) на GitHub проекта.\n",
    "***"
   ]
  },
  {
   "cell_type": "markdown",
   "id": "c8a6af25-08d3-487a-bd90-001772ac9161",
   "metadata": {},
   "source": [
    "## <center> **Анализ результатов A/B-тестирования**"
   ]
  },
  {
   "cell_type": "markdown",
   "id": "d7d45571-6545-4904-a86b-9b3b6b8163d3",
   "metadata": {},
   "source": [
    "Компания планирует запустить новую акцию, чтобы продать как можно больше туров. Команда разработала два варианта посадочной страницы официального сайта компании и провела A/B-тестирование. Собранные в результате проведения эксперимента данные вы можете найти [здесь](https://lms.skillfactory.ru/assets/courseware/v1/c5e135f1dc26e5f342916b8ab78357f1/asset-v1:SkillFactory+DST-3.0+28FEB2021+type@asset+block/ab_data_tourist.zip).\n",
    "\n",
    "Вам предстоит решить настоящую бизнес-задачу: проанализировать эффективность обоих вариантов посадочной страницы сразу по двум критериям: конверсии покупки и среднему чеку. На основе проведенного анализа вам будет необходимо сделать выводы и принять решение: какой из вариантов дизайна более предпочтительный.\n",
    "\n",
    "Итак, наша фирма предлагает следующие варианты туров и их соответствующие стоимости:\n",
    "* Таиланд — 100000 рублей;\n",
    "* Турция — 60000 рублей;\n",
    "* Мальдивы — 200000 рублей;\n",
    "* Санкт-Петербург — 10000 рублей;\n",
    "* Камчатка — 150000 рублей."
   ]
  },
  {
   "cell_type": "markdown",
   "id": "0ee45602",
   "metadata": {},
   "source": [
    "Импортируем необходимые библиотеки"
   ]
  },
  {
   "cell_type": "code",
   "execution_count": 1,
   "id": "a974b482-e192-4014-8520-8a5c0c946da6",
   "metadata": {},
   "outputs": [],
   "source": [
    "import pandas as pd\n",
    "\n",
    "# средства визуализации\n",
    "import matplotlib.pyplot as plt\n",
    "import seaborn as sns\n",
    "\n",
    "# статистические тесты\n",
    "from scipy.stats import norm\n",
    "from scipy.stats import t\n",
    "from scipy.stats import ttest_ind, shapiro, normaltest, f_oneway, mannwhitneyu\n",
    "from statsmodels.stats.proportion import proportions_ztest"
   ]
  },
  {
   "cell_type": "markdown",
   "id": "55c84550-4162-4325-acc2-7d3c0aafe6f0",
   "metadata": {},
   "source": [
    "Прочитаем наши данные и посмотрим на столбцы таблицы:"
   ]
  },
  {
   "cell_type": "code",
   "execution_count": 2,
   "id": "b0d18245-b9da-44bd-8aea-d272ea74b63a",
   "metadata": {},
   "outputs": [
    {
     "data": {
      "text/html": [
       "<div>\n",
       "<style scoped>\n",
       "    .dataframe tbody tr th:only-of-type {\n",
       "        vertical-align: middle;\n",
       "    }\n",
       "\n",
       "    .dataframe tbody tr th {\n",
       "        vertical-align: top;\n",
       "    }\n",
       "\n",
       "    .dataframe thead th {\n",
       "        text-align: right;\n",
       "    }\n",
       "</style>\n",
       "<table border=\"1\" class=\"dataframe\">\n",
       "  <thead>\n",
       "    <tr style=\"text-align: right;\">\n",
       "      <th></th>\n",
       "      <th>user_id</th>\n",
       "      <th>date</th>\n",
       "      <th>group</th>\n",
       "      <th>purchase</th>\n",
       "      <th>price</th>\n",
       "    </tr>\n",
       "  </thead>\n",
       "  <tbody>\n",
       "    <tr>\n",
       "      <th>0</th>\n",
       "      <td>851104</td>\n",
       "      <td>2021-01-21</td>\n",
       "      <td>A</td>\n",
       "      <td>0</td>\n",
       "      <td>0</td>\n",
       "    </tr>\n",
       "    <tr>\n",
       "      <th>1</th>\n",
       "      <td>804228</td>\n",
       "      <td>2021-01-12</td>\n",
       "      <td>A</td>\n",
       "      <td>0</td>\n",
       "      <td>0</td>\n",
       "    </tr>\n",
       "    <tr>\n",
       "      <th>2</th>\n",
       "      <td>661590</td>\n",
       "      <td>2021-01-11</td>\n",
       "      <td>B</td>\n",
       "      <td>0</td>\n",
       "      <td>0</td>\n",
       "    </tr>\n",
       "    <tr>\n",
       "      <th>3</th>\n",
       "      <td>853541</td>\n",
       "      <td>2021-01-08</td>\n",
       "      <td>B</td>\n",
       "      <td>0</td>\n",
       "      <td>0</td>\n",
       "    </tr>\n",
       "    <tr>\n",
       "      <th>4</th>\n",
       "      <td>864975</td>\n",
       "      <td>2021-01-21</td>\n",
       "      <td>A</td>\n",
       "      <td>1</td>\n",
       "      <td>150000</td>\n",
       "    </tr>\n",
       "  </tbody>\n",
       "</table>\n",
       "</div>"
      ],
      "text/plain": [
       "   user_id        date group  purchase   price\n",
       "0   851104  2021-01-21     A         0       0\n",
       "1   804228  2021-01-12     A         0       0\n",
       "2   661590  2021-01-11     B         0       0\n",
       "3   853541  2021-01-08     B         0       0\n",
       "4   864975  2021-01-21     A         1  150000"
      ]
     },
     "execution_count": 2,
     "metadata": {},
     "output_type": "execute_result"
    }
   ],
   "source": [
    "data = pd.read_csv('data/ab_data_tourist.csv')\n",
    "data.head()"
   ]
  },
  {
   "cell_type": "markdown",
   "id": "7e982f23",
   "metadata": {},
   "source": [
    "Наша таблица представлена следующими полями:  \n",
    "  \n",
    "**user_id** - идентификатор пользователя, зашедшего на сайт  \n",
    "**date** - дата захода  \n",
    "**group** - группа теста (контрольная — А или тестовая — B)  \n",
    "**purchase** - признак покупки: совершил ли пользователь покупку тура (1 — да, 0 — нет)  \n",
    "**price** - цена купленного тура (если покупка не состоялась, цена равна 0)"
   ]
  },
  {
   "cell_type": "markdown",
   "id": "4e44a9eb",
   "metadata": {},
   "source": [
    "***\n",
    "## <center> **Решение**"
   ]
  },
  {
   "cell_type": "markdown",
   "id": "2fc48225-26ac-49c4-b99d-8b2a03dd74a1",
   "metadata": {
    "tags": []
   },
   "source": [
    "## **Задание 7.1.**\n",
    "\n",
    "Начнем с исследования структуры наших данных. С помощью метода info() выведите информацию о типах данных и количестве непустых значений. Какой тип данных имеет столбец date?\n"
   ]
  },
  {
   "cell_type": "code",
   "execution_count": 3,
   "id": "23496521-4878-46e2-ab02-1a98be14884a",
   "metadata": {},
   "outputs": [
    {
     "name": "stdout",
     "output_type": "stream",
     "text": [
      "<class 'pandas.core.frame.DataFrame'>\n",
      "RangeIndex: 294478 entries, 0 to 294477\n",
      "Data columns (total 5 columns):\n",
      " #   Column    Non-Null Count   Dtype \n",
      "---  ------    --------------   ----- \n",
      " 0   user_id   294478 non-null  int64 \n",
      " 1   date      294478 non-null  object\n",
      " 2   group     294478 non-null  object\n",
      " 3   purchase  294478 non-null  int64 \n",
      " 4   price     294478 non-null  int64 \n",
      "dtypes: int64(3), object(2)\n",
      "memory usage: 11.2+ MB\n"
     ]
    }
   ],
   "source": [
    "data.info()"
   ]
  },
  {
   "cell_type": "code",
   "execution_count": 4,
   "id": "f665c064",
   "metadata": {},
   "outputs": [
    {
     "data": {
      "text/plain": [
       "(294478, 5)"
      ]
     },
     "execution_count": 4,
     "metadata": {},
     "output_type": "execute_result"
    }
   ],
   "source": [
    "data.shape"
   ]
  },
  {
   "cell_type": "markdown",
   "id": "809b634c",
   "metadata": {},
   "source": [
    "**Выводы:**\n",
    "- **data** - это таблица с **первоначальными данными**.\n",
    "- Первоначальная таблица с данными **data** имеет 294478 строк, 5 столбцов, пустых значений нет.  \n",
    "- Столбец **date** имеет тип данных **object**, что говорит о том, что придется приводить его к типу данных **datetime**.\n",
    "***"
   ]
  },
  {
   "cell_type": "markdown",
   "id": "946d017d-b4fe-4a17-b91d-0ce369d1ab2e",
   "metadata": {
    "tags": []
   },
   "source": [
    "## **Задание 7.2.**\n",
    "\n",
    "Приведите столбец date к типу данных datetime. Убедитесь в равной длительности проведения тестирования для каждой из группы. Для этого сгруппируйте данные по признаку группы и определите первую и последнюю дату наблюдения для каждой из групп. \n",
    "\n",
    "В какой промежуток времени проводился A/B-тест?\n"
   ]
  },
  {
   "cell_type": "code",
   "execution_count": 5,
   "id": "604c619d-6338-45c8-8248-ac098a2366bb",
   "metadata": {},
   "outputs": [
    {
     "name": "stdout",
     "output_type": "stream",
     "text": [
      "Первая дата наблюдений группы А 2021-01-02 00:00:00\n",
      "Последняя дата наблюдений группы А 2021-01-24 00:00:00 \n",
      "\n",
      "Первая дата наблюдений группы B 2021-01-02 00:00:00\n",
      "Последняя дата наблюдений группы B 2021-01-24 00:00:00\n"
     ]
    }
   ],
   "source": [
    "# приводим столбец date к типу данных datetime\n",
    "data['date'] = pd.to_datetime(data['date'], format='%Y-%m-%d')\n",
    "\n",
    "# сгруппируем данные по признаку группы\n",
    "data_a = data[data['group'] == 'A'] # данные группы А\n",
    "data_b = data[data['group'] == 'B'] # данные группы В\n",
    "\n",
    "# расчитываем и выводим информацию о длительности тестирования в группах\n",
    "print('Первая дата наблюдений группы А {}'.format(data_a['date'].min()))\n",
    "print('Последняя дата наблюдений группы А {}'.format(data_a['date'].max()), '\\n')\n",
    "print('Первая дата наблюдений группы B {}'.format(data_a['date'].min()))\n",
    "print('Последняя дата наблюдений группы B {}'.format(data_a['date'].max()))"
   ]
  },
  {
   "cell_type": "markdown",
   "id": "57ee5738",
   "metadata": {},
   "source": [
    "**Выводы:**  \n",
    "- А/В тест выполнялся в промежуток с 2 января 2021 года по 24 января 2021 года.   \n",
    "- Длительность тестирования одинакова в обеих группах.\n",
    "- **data_a** и **data_b** - это **первоначальные** данные, разделенные по признаку группы.\n",
    "***"
   ]
  },
  {
   "cell_type": "markdown",
   "id": "e04eb341-52ae-48b3-9dc2-0578ca91641a",
   "metadata": {},
   "source": [
    "## **Задание 7.3.**  \n",
    "\n",
    "- Чему равно количество посещений сайта в группах А и B?  \n",
    "\n",
    "- Чему равно суммарное количество покупок в группах А и B?  \n",
    "\n",
    "- Чему равна сумма всех покупок в группах А и B? Ответ приведите в миллионах рублей. Например, 185.52 млн. руб. "
   ]
  },
  {
   "cell_type": "code",
   "execution_count": 6,
   "id": "02bf0148-488e-4f34-95bf-37794b2fa98b",
   "metadata": {},
   "outputs": [
    {
     "data": {
      "text/html": [
       "<div>\n",
       "<style scoped>\n",
       "    .dataframe tbody tr th:only-of-type {\n",
       "        vertical-align: middle;\n",
       "    }\n",
       "\n",
       "    .dataframe tbody tr th {\n",
       "        vertical-align: top;\n",
       "    }\n",
       "\n",
       "    .dataframe thead th {\n",
       "        text-align: right;\n",
       "    }\n",
       "</style>\n",
       "<table border=\"1\" class=\"dataframe\">\n",
       "  <thead>\n",
       "    <tr style=\"text-align: right;\">\n",
       "      <th></th>\n",
       "      <th>users_count</th>\n",
       "      <th>purchase_sum</th>\n",
       "      <th>price_sum</th>\n",
       "    </tr>\n",
       "    <tr>\n",
       "      <th>group</th>\n",
       "      <th></th>\n",
       "      <th></th>\n",
       "      <th></th>\n",
       "    </tr>\n",
       "  </thead>\n",
       "  <tbody>\n",
       "    <tr>\n",
       "      <th>A</th>\n",
       "      <td>147202</td>\n",
       "      <td>17723</td>\n",
       "      <td>1436260000</td>\n",
       "    </tr>\n",
       "    <tr>\n",
       "      <th>B</th>\n",
       "      <td>147276</td>\n",
       "      <td>17514</td>\n",
       "      <td>1554100000</td>\n",
       "    </tr>\n",
       "  </tbody>\n",
       "</table>\n",
       "</div>"
      ],
      "text/plain": [
       "       users_count  purchase_sum   price_sum\n",
       "group                                       \n",
       "A           147202         17723  1436260000\n",
       "B           147276         17514  1554100000"
      ]
     },
     "metadata": {},
     "output_type": "display_data"
    },
    {
     "name": "stdout",
     "output_type": "stream",
     "text": [
      "В группе А 147202 посещений.\n",
      "В группе B 147276 посещений.\n",
      "Суммарное количество покупок в группе А 17723\n",
      "Суммарное количество покупок в группе В 17514\n",
      "Сумма покупок в группе А 1436.26 млн. рублей\n",
      "Сумма покупок в группе В 1554.1 млн. рублей\n",
      "Сумма всех покупок в обеих группах 2990.36 млн. рублей\n"
     ]
    }
   ],
   "source": [
    "# сгруппируем первоначальные данные по группам A и B и \n",
    "# расчитаем кол-во посещений сайта и кол-во покупок, сумму покупок\n",
    "data_info = data.groupby(['group']).agg({\n",
    "    'user_id':'count',\n",
    "    'purchase':'sum',\n",
    "    'price':'sum'\n",
    "}).rename(columns={ # переименуем полученные столбы (признаки)\n",
    "    'user_id': 'users_count', # данные по кол-ву посещений сайта\n",
    "    'purchase':'purchase_sum', # данные о суммарном кол-ве покупок\n",
    "    'price':'price_sum' # данные о сумме покупок\n",
    "})\n",
    "\n",
    "# выводим сгруппированные первоначальные данные\n",
    "display(data_info)\n",
    "\n",
    "# выводим данные о посещении сайта в группах А и В взяв данные из сгруппированной таблицы\n",
    "print('В группе А {} посещений.'.format(data_info.loc['A', 'users_count']))\n",
    "print('В группе B {} посещений.'.format(data_info.loc['B', 'users_count']))\n",
    "\n",
    "# здесь мы возьмем первоначальные данные, разделенные по признаку группы\n",
    "\n",
    "# расчитаем и выведем суммарное количество покупок в группах\n",
    "purchase_sum_a = data_a['purchase'].sum()\n",
    "purchase_sum_b = data_b['purchase'].sum()\n",
    "print('Суммарное количество покупок в группе А {}'.format(purchase_sum_a))\n",
    "print('Суммарное количество покупок в группе В {}'.format(purchase_sum_b))\n",
    "\n",
    "# рассчитываем и выводим сумму покупок\n",
    "price_sum_a = round((data_a['price'].sum()/1e6),2)\n",
    "price_sum_b = round((data_b['price'].sum()/1e6),2)\n",
    "price_sum_ab = round((price_sum_a + price_sum_b),2)\n",
    "print('Сумма покупок в группе А {} млн. рублей'.format(price_sum_a))\n",
    "print('Сумма покупок в группе В {} млн. рублей'.format(price_sum_b))\n",
    "print('Сумма всех покупок в обеих группах {} млн. рублей'.format(price_sum_ab))\n"
   ]
  },
  {
   "cell_type": "markdown",
   "id": "c8ee0e20",
   "metadata": {},
   "source": [
    "**Выводы:**\n",
    "- **data_info** - это сгруппированные **первоначальные данные** в разрезе признака группы.  \n",
    "- ответы на вопросы задания представлены в ячейке вывода.\n",
    "***"
   ]
  },
  {
   "cell_type": "markdown",
   "id": "2434db1b-17e6-4977-8e54-1df875c6f221",
   "metadata": {
    "tags": []
   },
   "source": [
    "## **Задание 7.4.**\n",
    "\n",
    "Проверьте, есть ли пользователи, которые в процессе A/B-теста попали в обе тестовые группы? Если да, то сколько таких уникальных пользователей, если нет - введите в поле для ответа 0?  \n",
    "  \n",
    "**Подсказка:**  \n",
    "\n",
    "*Создайте множество пользователей группы А и множество пользователей группы B. Пересеките два этих множества (операция intersection) и вычислите количество элементов в полученном множестве.*\n"
   ]
  },
  {
   "cell_type": "code",
   "execution_count": 7,
   "id": "57a2d711-057d-4f8b-9f56-df0f772d41c8",
   "metadata": {},
   "outputs": [
    {
     "name": "stdout",
     "output_type": "stream",
     "text": [
      "В процессе А/В-тестирования 1895 пользователей попали в обе группы.\n"
     ]
    }
   ],
   "source": [
    "# зададим множества, содержащие пользователей групп А и В, используя\n",
    "# data_a и data_b содержащие первоначальные данные групп А и В соответственно\n",
    "user_id_a = set(data_a['user_id']) # пользователи группы А\n",
    "user_id_b = set(data_b['user_id']) # пользователи группы В\n",
    "\n",
    "# объединим множества, получив пользователей в обеих группах\n",
    "user_id_ab = user_id_a.intersection(user_id_b)\n",
    "\n",
    "# выведем количество пользователей в обеих группах\n",
    "print('В процессе А/В-тестирования {} пользователей попали в обе группы.'.format(len(user_id_ab)))"
   ]
  },
  {
   "cell_type": "markdown",
   "id": "780fb2a4",
   "metadata": {},
   "source": [
    "**Вывод:** в обеих группах присутствуют 1895 пользователей которых следует удалить.\n",
    "***"
   ]
  },
  {
   "cell_type": "markdown",
   "id": "118b1904-7d7a-4935-825e-535da45c611b",
   "metadata": {
    "tags": []
   },
   "source": [
    "## **Исключите пользователей, оказавшихся в обеих группах**\n",
    "\n",
    "Так как мы не можем определить, какая из версий сайта повлияла на принятие решения, исключим этих пользователей. Далее мы будем работать только с очищенными от пересечений данными.  \n",
    "\n",
    "Возможный вариант исключения пользователей:"
   ]
  },
  {
   "cell_type": "code",
   "execution_count": 8,
   "id": "f618b34b-35a3-4bf1-8d6d-38b3401930b7",
   "metadata": {},
   "outputs": [],
   "source": [
    "updated_data = data[data['user_id'].apply(lambda x: x not in user_id_ab)]"
   ]
  },
  {
   "cell_type": "markdown",
   "id": "2bce6c9a-6580-4250-b280-204d40d20da2",
   "metadata": {},
   "source": [
    "Где user_id_ab - множество пересечений пользователей групп А и B."
   ]
  },
  {
   "cell_type": "markdown",
   "id": "5554a7ab",
   "metadata": {},
   "source": [
    "**Вывод:** обновленные (очищеные от участников в обеих группах) **первоначальные данные** содержатся в таблице **updated_data**.\n",
    "***"
   ]
  },
  {
   "attachments": {
    "95f235d2-6323-4799-bf69-697fc57f727b.png": {
     "image/png": "[encoded data removed]"
    }
   },
   "cell_type": "markdown",
   "id": "2ddf6b2c-7987-41f3-82b1-8992630ae97b",
   "metadata": {
    "tags": []
   },
   "source": [
    "## **Задание 7.5.**\n",
    "\n",
    "Для первичного анализа результатов A/B-тестирования нам понадобится таблица следующего вида:\n",
    "\n",
    "![image.png](attachment:95f235d2-6323-4799-bf69-697fc57f727b.png)\n",
    " \n",
    " \n",
    "Для того, чтобы получить такую таблицу, сгруппируйте данные по признаку группы. В каждой группе рассчитайте следующие показатели:\n",
    "* количество посещений (количество пользователей)\n",
    "* количество совершенных покупок\n",
    "* сумма всех покупок в группе\n",
    "\n",
    "В полученной сгруппированной таблице переименуйте столбцы на **count_visits, count_purchases и sum_price**.\n",
    "\n",
    "**Подсказка:**\n",
    "\n",
    "*Для переименования столбцов можно использовать метод rename() с параметром columns, в который передается словарь. Ключи этого словаря - старые имена столбцов, а значения - новые.*\n",
    "\n",
    "Чему на этот раз равно количество посещений сайта в группах А и B?\n"
   ]
  },
  {
   "cell_type": "code",
   "execution_count": 9,
   "id": "5c0c018e-a250-48e9-b72a-e3c7be586ebd",
   "metadata": {},
   "outputs": [
    {
     "data": {
      "text/html": [
       "<div>\n",
       "<style scoped>\n",
       "    .dataframe tbody tr th:only-of-type {\n",
       "        vertical-align: middle;\n",
       "    }\n",
       "\n",
       "    .dataframe tbody tr th {\n",
       "        vertical-align: top;\n",
       "    }\n",
       "\n",
       "    .dataframe thead th {\n",
       "        text-align: right;\n",
       "    }\n",
       "</style>\n",
       "<table border=\"1\" class=\"dataframe\">\n",
       "  <thead>\n",
       "    <tr style=\"text-align: right;\">\n",
       "      <th></th>\n",
       "      <th>group</th>\n",
       "      <th>count_visits</th>\n",
       "      <th>count_purchases</th>\n",
       "      <th>sum_price</th>\n",
       "    </tr>\n",
       "  </thead>\n",
       "  <tbody>\n",
       "    <tr>\n",
       "      <th>0</th>\n",
       "      <td>A</td>\n",
       "      <td>145307</td>\n",
       "      <td>17487</td>\n",
       "      <td>1417780000</td>\n",
       "    </tr>\n",
       "    <tr>\n",
       "      <th>1</th>\n",
       "      <td>B</td>\n",
       "      <td>145381</td>\n",
       "      <td>17290</td>\n",
       "      <td>1533010000</td>\n",
       "    </tr>\n",
       "  </tbody>\n",
       "</table>\n",
       "</div>"
      ],
      "text/plain": [
       "  group  count_visits  count_purchases   sum_price\n",
       "0     A        145307            17487  1417780000\n",
       "1     B        145381            17290  1533010000"
      ]
     },
     "metadata": {},
     "output_type": "display_data"
    },
    {
     "name": "stdout",
     "output_type": "stream",
     "text": [
      "В группе А 145307 посещений.\n",
      "В группе B 145381 посещений.\n"
     ]
    }
   ],
   "source": [
    "# заново сгруппируем данные по признаку группы\n",
    "# чтобы получить заданную таблицу сбросим индексы и переименуем столбцы\n",
    "data_info = updated_data.groupby(['group']).agg({\n",
    "    'user_id':'count',\n",
    "    'purchase':'sum',\n",
    "    'price':'sum'\n",
    "}).reset_index().rename(columns={ # сбросим индексы и переименуем столбцы\n",
    "    'user_id': 'count_visits', # данные по кол-ву посещений сайта (кол-во пользователей)\n",
    "    'purchase':'count_purchases', # данные о суммарном кол-ве покупок\n",
    "    'price':'sum_price' # данные о сумме покупок\n",
    "})\n",
    "\n",
    "# выведем полученную таблицу\n",
    "display(data_info)\n",
    "\n",
    "# расчитываем и выводим обновленные данные о посещении сайта в группах А и В\n",
    "print('В группе А {} посещений.'.format(data_info[data_info['group'] == 'A']['count_visits'].iloc[0]))\n",
    "print('В группе B {} посещений.'.format(data_info[data_info['group'] == 'B']['count_visits'].iloc[0]))"
   ]
  },
  {
   "cell_type": "markdown",
   "id": "b71e1390-9846-4a8e-b357-f82b847d1952",
   "metadata": {},
   "source": [
    "Приведите промежуточные выводы по построенной таблице. Сопоставимо ли количество посещений обоих вариантов посадочной странице, можно ли говорить о сбалансированности выборок?"
   ]
  },
  {
   "cell_type": "markdown",
   "id": "4ea1b65b-475e-4bff-9460-fac0acdb9620",
   "metadata": {},
   "source": [
    "**Выводы:**  \n",
    "- Количество посещений после очистки первоначальных данных уменьшилось почти на 2 000 в обеих группах.  \n",
    "- В группе А посещений меньше, чем в группе В на 74 человека, как и в первоначальных данных.  \n",
    "- Схожие изменения наблюдаются в оставшихся 2-х признаках.  \n",
    "- Учитывая большое количество посещений в обеих группах, которые сопоставимы между собой (разница составляет 0.05%), полагаю, что можно говорить о сбалансированности выборок.  \n",
    "***"
   ]
  },
  {
   "cell_type": "markdown",
   "id": "afb2ee0a-31d1-45a5-be42-a2bf168b9448",
   "metadata": {
    "tags": []
   },
   "source": [
    "## **Задание 7.6.**\n",
    "\n",
    "Добавьте в сгруппированную таблицу столбцы conversion - конверсия покупки (отношение количества покупок к количеству посещений сайта в каждой группе, выраженное в процентах) и mean_check - средний чек (отношение суммы покупок к количеству покупок в каждой группе).  \n",
    "  \n",
    "- Чему равна конверсия в группах? Ответ приведите в процентах и округлите до сотых. Например, 75.12 %  \n",
    "- Чему равен средний чек в группах? Ответ приведите в рублях и округлите до целых. Например, 120519 рублей.  "
   ]
  },
  {
   "cell_type": "code",
   "execution_count": 10,
   "id": "bd9c3b3e-5956-41a8-bae0-43693f6de1f2",
   "metadata": {},
   "outputs": [
    {
     "data": {
      "text/html": [
       "<div>\n",
       "<style scoped>\n",
       "    .dataframe tbody tr th:only-of-type {\n",
       "        vertical-align: middle;\n",
       "    }\n",
       "\n",
       "    .dataframe tbody tr th {\n",
       "        vertical-align: top;\n",
       "    }\n",
       "\n",
       "    .dataframe thead th {\n",
       "        text-align: right;\n",
       "    }\n",
       "</style>\n",
       "<table border=\"1\" class=\"dataframe\">\n",
       "  <thead>\n",
       "    <tr style=\"text-align: right;\">\n",
       "      <th></th>\n",
       "      <th>group</th>\n",
       "      <th>count_visits</th>\n",
       "      <th>count_purchases</th>\n",
       "      <th>sum_price</th>\n",
       "      <th>conversion</th>\n",
       "      <th>mean_check</th>\n",
       "    </tr>\n",
       "  </thead>\n",
       "  <tbody>\n",
       "    <tr>\n",
       "      <th>0</th>\n",
       "      <td>A</td>\n",
       "      <td>145307</td>\n",
       "      <td>17487</td>\n",
       "      <td>1417780000</td>\n",
       "      <td>12.034520</td>\n",
       "      <td>81076.228055</td>\n",
       "    </tr>\n",
       "    <tr>\n",
       "      <th>1</th>\n",
       "      <td>B</td>\n",
       "      <td>145381</td>\n",
       "      <td>17290</td>\n",
       "      <td>1533010000</td>\n",
       "      <td>11.892888</td>\n",
       "      <td>88664.545980</td>\n",
       "    </tr>\n",
       "  </tbody>\n",
       "</table>\n",
       "</div>"
      ],
      "text/plain": [
       "  group  count_visits  count_purchases   sum_price  conversion    mean_check\n",
       "0     A        145307            17487  1417780000   12.034520  81076.228055\n",
       "1     B        145381            17290  1533010000   11.892888  88664.545980"
      ]
     },
     "metadata": {},
     "output_type": "display_data"
    },
    {
     "name": "stdout",
     "output_type": "stream",
     "text": [
      "Конверсия в группах А и В соответственно (%):  12.03 и 11.89\n",
      "Средний чек в группах А и В соответсвенно (руб):  81076 и 88665\n"
     ]
    }
   ],
   "source": [
    "# добавляем признак конверсии покупки\n",
    "data_info['conversion'] = data_info['count_purchases'] / data_info['count_visits'] * 100 # конверсия покупки в %\n",
    "# добавляем признак среднего чека\n",
    "data_info['mean_check'] = data_info['sum_price'] / data_info['count_purchases'] # средний чек\n",
    "\n",
    "# рассчитываем и выводим искомые данные\n",
    "display(data_info)\n",
    "print('Конверсия в группах А и В соответственно (%): ', \n",
    "      round((data_info['conversion'].iloc[0]),2), 'и',  \n",
    "      round((data_info['conversion'].iloc[1]),2)\n",
    ")\n",
    "print('Средний чек в группах А и В соответсвенно (руб): ', \n",
    "      round(data_info['mean_check'].iloc[0]), 'и', \n",
    "      round(data_info['mean_check'].iloc[1])\n",
    ")"
   ]
  },
  {
   "cell_type": "markdown",
   "id": "1eb6e140-c702-43e0-b301-9914a7f49448",
   "metadata": {},
   "source": [
    "Приведите промежуточные выводы по таблице. По какому(им) показателю(ям) вариант А эффективнее варианта B и наоборот?"
   ]
  },
  {
   "cell_type": "markdown",
   "id": "9e88c883-84f9-44ec-accd-04d5d459b261",
   "metadata": {},
   "source": [
    "**Выводы:**  \n",
    "- По конверсии покупки вариант А более эффективен.  \n",
    "- По среднему чеку наоборот - более эффективен вариант В.  \n",
    "\n",
    "**Примечание:** данные выводы носят промежуточный характер.\n",
    "***"
   ]
  },
  {
   "cell_type": "markdown",
   "id": "7f9f1ae0-f12f-49b3-8b57-1c299c208c49",
   "metadata": {
    "tags": []
   },
   "source": [
    "## **Задание 7.7.**\n",
    "\n",
    "Теперь давайте сравним варианты по покупательской способности туров. Для этого постройте сводную таблицу, которая покажет зависимость количества продаж от группы и цены тура. "
   ]
  },
  {
   "cell_type": "code",
   "execution_count": 11,
   "id": "78d46a02-cc30-4783-9b18-9fc9c6a08012",
   "metadata": {},
   "outputs": [
    {
     "data": {
      "text/html": [
       "<div>\n",
       "<style scoped>\n",
       "    .dataframe tbody tr th:only-of-type {\n",
       "        vertical-align: middle;\n",
       "    }\n",
       "\n",
       "    .dataframe tbody tr th {\n",
       "        vertical-align: top;\n",
       "    }\n",
       "\n",
       "    .dataframe thead th {\n",
       "        text-align: right;\n",
       "    }\n",
       "</style>\n",
       "<table border=\"1\" class=\"dataframe\">\n",
       "  <thead>\n",
       "    <tr style=\"text-align: right;\">\n",
       "      <th>price</th>\n",
       "      <th>0</th>\n",
       "      <th>10000</th>\n",
       "      <th>60000</th>\n",
       "      <th>100000</th>\n",
       "      <th>150000</th>\n",
       "      <th>200000</th>\n",
       "    </tr>\n",
       "    <tr>\n",
       "      <th>group</th>\n",
       "      <th></th>\n",
       "      <th></th>\n",
       "      <th></th>\n",
       "      <th></th>\n",
       "      <th></th>\n",
       "      <th></th>\n",
       "    </tr>\n",
       "  </thead>\n",
       "  <tbody>\n",
       "    <tr>\n",
       "      <th>A</th>\n",
       "      <td>0</td>\n",
       "      <td>5182</td>\n",
       "      <td>5271</td>\n",
       "      <td>1832</td>\n",
       "      <td>3478</td>\n",
       "      <td>1724</td>\n",
       "    </tr>\n",
       "    <tr>\n",
       "      <th>B</th>\n",
       "      <td>0</td>\n",
       "      <td>5201</td>\n",
       "      <td>1730</td>\n",
       "      <td>5227</td>\n",
       "      <td>3438</td>\n",
       "      <td>1694</td>\n",
       "    </tr>\n",
       "  </tbody>\n",
       "</table>\n",
       "</div>"
      ],
      "text/plain": [
       "price  0       10000   60000   100000  150000  200000\n",
       "group                                                \n",
       "A           0    5182    5271    1832    3478    1724\n",
       "B           0    5201    1730    5227    3438    1694"
      ]
     },
     "metadata": {},
     "output_type": "display_data"
    },
    {
     "name": "stdout",
     "output_type": "stream",
     "text": [
      "Количество проданных туров за 60 000 рублей в группах: \n",
      "group\n",
      "A    5271\n",
      "B    1730\n",
      "Name: 60000, dtype: int64\n"
     ]
    }
   ],
   "source": [
    "# создадим сводную таблицу согласно условиям задания\n",
    "data_info_pivot = pd.pivot_table(updated_data,\n",
    "    index = ['group'],\n",
    "    columns = ['price'],\n",
    "    values = 'purchase',\n",
    "    aggfunc = 'sum'\n",
    ")\n",
    "\n",
    "# рассчитываем и выводим искомые данные\n",
    "display(data_info_pivot)\n",
    "print('Количество проданных туров за 60 000 рублей в группах: ', data_info_pivot[60000], sep='\\n')\n"
   ]
  },
  {
   "cell_type": "markdown",
   "id": "977423ed-8f8d-475c-b773-621edd95338d",
   "metadata": {},
   "source": [
    "Визуализируйте полученную сводную таблицу с помощью тепловой карты с аннотацией. \n",
    "Чему равно количество проданных туров за 60000 рублей в группах?"
   ]
  },
  {
   "cell_type": "code",
   "execution_count": 12,
   "id": "f634fa8d-585c-42e3-b7d5-78e8d9eaa8c5",
   "metadata": {},
   "outputs": [
    {
     "data": {
      "image/png": "[encoded data removed]",
      "text/plain": [
       "<Figure size 720x504 with 2 Axes>"
      ]
     },
     "metadata": {
      "needs_background": "light"
     },
     "output_type": "display_data"
    }
   ],
   "source": [
    "# зададим размер тепловой карты\n",
    "fig = plt.figure(figsize=(10, 7))\n",
    "# зададим параметры тепловой карты\n",
    "heatmap = sns.heatmap(data=data_info_pivot, annot=True)\n",
    "# подпишем тепловую карту\n",
    "heatmap.set_title('Тепловая карта зависимости количества продаж от группы и цены тура', fontsize=16);\n",
    "heatmap.set_xlabel('Цена');\n",
    "heatmap.set_ylabel('Группа');"
   ]
  },
  {
   "cell_type": "markdown",
   "id": "9caa92ca-e261-4b8f-a16c-2abc322c9ffb",
   "metadata": {},
   "source": [
    "Сделайте выводы по построенной таблице. По каким турам покупательская способность участников группы А выше, чем участников группы B и наоборот?"
   ]
  },
  {
   "cell_type": "markdown",
   "id": "6d13fd45-e3df-468f-9d32-1fc45d38b10c",
   "metadata": {},
   "source": [
    "**Выводы:**  \n",
    "- Количество проданных туров за 60 000 рублей в группах А и В составляет 5271 и 1730 соответственно.  \n",
    "- По турам стоимостью 60 000 рублей покупательская способность группы А значительно выше, по турам стоимостью 100 000 рублей - наоборот, в группе В их покупают значительно чаще.  \n",
    "- По остальным турам большой разницы в покупательской способности между группами нет.  \n",
    "***"
   ]
  },
  {
   "cell_type": "markdown",
   "id": "8f021fb4-d0f6-4e43-b518-1a96c07a4531",
   "metadata": {
    "tags": []
   },
   "source": [
    "## **Задание 7.8.**\n",
    "\n",
    "Настало время поговорить о стабилизации кумулятивных метрик во времени. Но прежде, чем перейти к кумулятивным метрикам, нам необходимо построить таблицу с ежедневными данными результатов проведения A/B-тестирования.\n",
    "\n",
    "Сгруппируйте данные по дате и группе тестирования. В каждой группе вычислите количество посещений страницы, количество покупок и сумму покупок. \n",
    "\n",
    "Добавьте в таблицу информацию о ежедневной конверсии (ежедневное количество покупок / ежедневное количество посещений) в группе и ежедневном среднем чеке (ежедневная сумма покупок / ежедневное количество покупок)\n",
    "* Чему равна конверсия 3 января 2021 года? Ответ приведите в процентах и округлите до сотых.\n",
    "\n",
    "* Чему равен средний чек 3 января 2021 года? Ответ приведите в рублях и округлите до целого."
   ]
  },
  {
   "cell_type": "code",
   "execution_count": 13,
   "id": "4503b528-412e-433a-bc03-da7da52fa1a3",
   "metadata": {},
   "outputs": [
    {
     "name": "stdout",
     "output_type": "stream",
     "text": [
      "Данные на 3 января 2021 года:\n",
      "\t- конверсия в группе А составила 11.34%\n",
      "\t- конверсия в группе B составила 11.39%\n",
      "\t- средний чек в группе А составил 82888 рублей\n",
      "\t- средний чек в группе B составил 87480 рублей\n"
     ]
    }
   ],
   "source": [
    "# заново сгруппируем данные согласно условиям задания - по группам и датам\n",
    "# прокачаем навыки работы с DataFrame и не будем сбрасывать индексы\n",
    "data_info = updated_data.groupby(['group','date']).agg({\n",
    "    'user_id':'count',\n",
    "    'purchase':'sum',\n",
    "    'price':'sum'\n",
    "}).rename(columns={ # не будем в этот раз сбрасывать индексы\n",
    "    'user_id': 'count_visits', # данные по кол-ву посещений сайта (кол-во пользователей)\n",
    "    'purchase':'count_purchases', # данные о суммарном кол-ве покупок\n",
    "    'price':'sum_price' # данные о сумме покупок\n",
    "})\n",
    "\n",
    "# добавляем необходимые столбцы в сгруппированную таблицу\n",
    "# ежедневная конверсия в %\n",
    "data_info['conversion'] = data_info['count_purchases'] / data_info['count_visits'] * 100\n",
    "# ежедневный средний чек\n",
    "data_info['mean_check'] = data_info['sum_price'] / data_info['count_purchases']\n",
    "\n",
    "# рассчитаем и выведем необходимую информацию на дату 3 января 2021\n",
    "print('Данные на 3 января 2021 года:')\n",
    "print('\\t- конверсия в группе А составила {}%'.format(round(data_info.loc['A', '2021-01-03'][3], 2)))\n",
    "print('\\t- конверсия в группе B составила {}%'.format(round(data_info.loc['B', '2021-01-03'][3], 2)))\n",
    "print('\\t- средний чек в группе А составил {} рублей'.format(round(data_info.loc['A', '2021-01-03'][4])))\n",
    "print('\\t- средний чек в группе B составил {} рублей'.format(round(data_info.loc['B', '2021-01-03'][4])))"
   ]
  },
  {
   "cell_type": "markdown",
   "id": "6872a3cc",
   "metadata": {},
   "source": [
    "**Вывод:** ответы на вопросы в задании приведены в ячейке вывода.\n",
    "***"
   ]
  },
  {
   "cell_type": "markdown",
   "id": "bc8e241b-1ef1-4f67-ab90-77251889b7f2",
   "metadata": {},
   "source": [
    "## **Задание 7.9.** \n",
    "\n",
    "Добавьте в таблицу с ежедневными показателями кумулятивные признаки:\n",
    "* кумулятивное количество посещений страницы\n",
    "* кумулятивное количество покупок\n",
    "* кумулятивную сумму покупок\n",
    "\n",
    "Не забудьте при расчете кумулятивной суммы сгруппировать данные по группам. \n",
    "\n",
    "Вычислите кумулятивную конверсию и кумулятивный средний чек на основе полученных кумулятивных показателей. \n",
    "\n",
    "* Какая **кумулятивная** конверсия была в группе B на 20 января? Ответ приведите в процентах, округлив до сотых.\n",
    "* Какой **кумулятивный** средний чек был в группе А на 12 января 2021 года? Ответ приведите в рублях, округлив до целых."
   ]
  },
  {
   "cell_type": "code",
   "execution_count": 14,
   "id": "afe59f9a-8d39-45c1-a14f-9f62091d81a1",
   "metadata": {},
   "outputs": [
    {
     "name": "stdout",
     "output_type": "stream",
     "text": [
      "Кумулятивная конверсия в группе B на 20 января 2021 года составила 11.9%\n",
      "Кумулятивный средний чек в группе А на 12 января 2021 года составил 81492 рублей\n"
     ]
    }
   ],
   "source": [
    "# а теперь сбросим индексы для упрощения кода\n",
    "data_info = data_info.reset_index()\n",
    "\n",
    "# подготовим маски для разделения данных по группам\n",
    "mask_a = data_info['group'] == 'A'\n",
    "mask_b = data_info['group'] == 'B'\n",
    "\n",
    "# добавляем кумулятивные признаки в группу А\n",
    "data_info.loc[mask_a, 'cum_count_visits'] = data_info[mask_a]['count_visits'].cumsum()\n",
    "data_info.loc[mask_a, 'cum_count_purchases'] = data_info[mask_a]['count_purchases'].cumsum()\n",
    "data_info.loc[mask_a, 'cum_sum_price'] = data_info[mask_a]['sum_price'].cumsum()\n",
    "\n",
    "# добавляем кумулятивные признаки в группу B\n",
    "data_info.loc[mask_b, 'cum_count_visits'] = data_info[mask_b]['count_visits'].cumsum()\n",
    "data_info.loc[mask_b, 'cum_count_purchases'] = data_info[mask_b]['count_purchases'].cumsum()\n",
    "data_info.loc[mask_b, 'cum_sum_price'] = data_info[mask_b]['sum_price'].cumsum()\n",
    "\n",
    "# вычислим кумулятивную конверсию и кумулятивный средний чек\n",
    "data_info['cum_conversion'] = data_info['cum_count_purchases'] / data_info['cum_count_visits'] * 100\n",
    "data_info['cum_mean_check'] = data_info['cum_sum_price'] / data_info['cum_count_purchases']\n",
    "\n",
    "# вычисляем и выводим запрашиваемые данные\n",
    "\n",
    "# кумулятивная конверсия в группе B на 20 января 2021 года\n",
    "result_1 = data_info[(data_info['group'] == 'B') & (data_info['date'] == '2021-01-20')]['cum_conversion'].iloc[0]\n",
    "# кумулятивный средний чек в группе А на 12 января 2021 года\n",
    "result_2 = data_info[(data_info['group'] == 'A') & (data_info['date'] == '2021-01-12')]['cum_mean_check'].iloc[0]\n",
    "\n",
    "# выводим запрашиваемые данные\n",
    "print('Кумулятивная конверсия в группе B на 20 января 2021 года составила {}%'.format(round(result_1,2)))\n",
    "print('Кумулятивный средний чек в группе А на 12 января 2021 года составил {} рублей'.format(round(result_2)))"
   ]
  },
  {
   "cell_type": "markdown",
   "id": "c252b8ba-371b-4795-8fc3-a62317e9ba39",
   "metadata": {},
   "source": [
    "Постройте кумулятивные графики конверсии и среднего чека в каждой группе по дням. Сделайте выводы. Можно ли назвать A/B-тест завершенным - стабилизировались ли значения метрик во времени? Как соотносятся кумулятивные показатели в каждой группе?"
   ]
  },
  {
   "cell_type": "code",
   "execution_count": 15,
   "id": "27e23d20-7ed6-4a26-973d-6d0320b81adb",
   "metadata": {},
   "outputs": [
    {
     "data": {
      "image/png": "[encoded data removed]",
      "text/plain": [
       "<Figure size 864x432 with 1 Axes>"
      ]
     },
     "metadata": {
      "needs_background": "light"
     },
     "output_type": "display_data"
    },
    {
     "data": {
      "image/png": "[encoded data removed]",
      "text/plain": [
       "<Figure size 864x432 with 1 Axes>"
      ]
     },
     "metadata": {
      "needs_background": "light"
     },
     "output_type": "display_data"
    }
   ],
   "source": [
    "# строим кумулятивный график конверсии\n",
    "# создаём фигуру размером 12x6\n",
    "fig = plt.figure(figsize=(12, 6))\n",
    "# добавляем систему координат\n",
    "ax = fig.add_axes([1, 1, 1, 1])\n",
    "# строим lineplot для кумулятивной конверсии во времени в каждой группе\n",
    "sns.lineplot(x='date', y='cum_conversion', data=data_info, hue='group', ax=ax)\n",
    "# задаём подписи к графику\n",
    "ax.set_title('График кумулятивной конверсии по дням')\n",
    "ax.set_xlabel('Дата');\n",
    "ax.set_ylabel('Кумулятивная конверсия')\n",
    "# задаём отображение сетки\n",
    "ax.grid(True);\n",
    "\n",
    "# строим кумулятивный график среднего чека\n",
    "# создаём фигуру размером 12x6\n",
    "fig = plt.figure(figsize=(12, 6))\n",
    "# добавляем систему координат\n",
    "ax = fig.add_axes([1, 1, 1, 1])\n",
    "# строим lineplot для кумулятивного среднего чека во времени в каждой группе\n",
    "sns.lineplot(x='date', y='cum_mean_check', data=data_info, hue='group', ax=ax)\n",
    "# задаём подпись к графику\n",
    "ax.set_title('График кумулятивного среднего чека по дням')\n",
    "ax.set_xlabel('Дата');\n",
    "ax.set_ylabel('Кумулятивный средний чек')\n",
    "# задаём отображение сетки\n",
    "ax.grid(True);\n",
    "\n",
    "\n"
   ]
  },
  {
   "cell_type": "markdown",
   "id": "f645f8e5-ad16-4b3b-8228-fbdeeb286833",
   "metadata": {},
   "source": [
    "**Выводы:**  \n",
    "- Данные, запрошенные в задании, представлены в ячейке вывода (верхняя ячейка в этом задании).  \n",
    "- Анализ верхнего графика показывает, что кумулятивная метрика (конверсия) стабилизировалась примерно с 11 января 2021 года. Кумулятивная конверсия после стабилизации выше в группе А. \n",
    "- Анализ нижнего графика показывает, что кумулятивная метрика (средний чек) стабилизировалась примерно также с 11 января 2021 года, причем кумулятивный средний чек **постоянно** выше в группе В.  \n",
    "- В **data_info** содержатся очищенные (обновленные) первоначальные данные, сгруппированные по группам и дате (по дням) с добавленными кумуллятивными признаками.\n",
    "***"
   ]
  },
  {
   "cell_type": "markdown",
   "id": "2ecaa382-56e2-47f4-b086-24b4742570a3",
   "metadata": {
    "tags": []
   },
   "source": [
    "## **Задание 7.10.**\n",
    "\n",
    "Настало время переходить к проверке статистической значимости разницы между метриками в группах. Начнем с конверсии.\n",
    "\n",
    "Какой тест вы примените для проверки гипотезы о равенстве конверсий в группах?\n",
    "\n",
    "Проведите тестирование при следующих нулевой и альтернативной гипотезе:\n",
    "* $H_0$: Конверсии в группах А и B равны; \n",
    "* $H_1$: Конверсия в группе А больше чем конверсия в группе B;\n",
    "\n",
    "Вычислите p-value вашего теста для конверсий в группах А и B. Сравните полученное значение p-value с уровнем значимости $\\alpha$=0.05. "
   ]
  },
  {
   "cell_type": "markdown",
   "id": "6203e649",
   "metadata": {},
   "source": [
    "Для решения задачи проанализируем наши данные:  \n",
    "- признак группы (**group**) - категориальная независимая переменная\n",
    "- признак конверсии (**conversion**) - зависимая количественная переменная\n",
    "- группы происходят из разных совокупностей - А и В; пользователей, которые в первоначальных данных присутствовали в обеих группах мы удалили\n",
    "- в каждой группе менее 30 объектов (**data_info** - очищенные (обновленные) первоначальные данные, сгруппированные по группам и дате (по дням) с добавленными кумуллятивными признаками) и более 30 объектов, если мы рассматриваем просто очищенные (обновленные) первоначальные данные (**updated_data**)\n",
    "- у нас нет информации о разбросе данных\n",
    "- конверсия (признак **conversion**)— это доля (пропорция) пользователей, которые добавили сопутствующий товар в корзину (в нашем случае купили тур)\n",
    "\n",
    "Полагаю, что в данной ситуации правильно использовать **Z-тест для пропорций**.  \n",
    "По логике задачи 7.10 и всего задания в целом, полагаю, что данные распределены нормально. Однако, также полагаю, что это нужно проверить."
   ]
  },
  {
   "cell_type": "markdown",
   "id": "28303045",
   "metadata": {},
   "source": [
    "Проведем **тест на нормальность Шапиро-Уилка**"
   ]
  },
  {
   "cell_type": "code",
   "execution_count": 16,
   "id": "9dd1f6fd-2fa0-4a2f-8181-dbed4c302bce",
   "metadata": {},
   "outputs": [
    {
     "name": "stdout",
     "output_type": "stream",
     "text": [
      "p-value группы А 0.29\n",
      "p-value группы B 0.91\n",
      "Принимаем нулевую гипотезу. Распределения в обеих группах нормальные\n"
     ]
    }
   ],
   "source": [
    "# нулевая и альтернативная гипотезы\n",
    "H0 = 'Распределения в обеих группах нормальные'\n",
    "H1 = 'Распределение в одной или обеих группах отлично от нормального'\n",
    "\n",
    "alpha = 0.05 # уровень значимости\n",
    "\n",
    "# вычисляем результат теста Шапиро-Уилка для выборок\n",
    "shapiro_result_a = shapiro(data_info[data_info['group'] == 'A']['conversion'])\n",
    "shapiro_result_b = shapiro(data_info[data_info['group'] == 'B']['conversion'])\n",
    "print('p-value группы А', round(shapiro_result_a.pvalue, 2))\n",
    "print('p-value группы B', round(shapiro_result_b.pvalue, 2))\n",
    "# сравниваем полученное p-value с уровнем значимости\n",
    "if shapiro_result_a.pvalue < alpha or shapiro_result_b.pvalue < alpha:\n",
    "    print(\"Отвергаем нулевую гипотезу. {}\".format(H0))\n",
    "    print(\"Альтернативная гипотеза. H1: {}\".format(H1))\n",
    "else:\n",
    "    print(\"Принимаем нулевую гипотезу. {}\".format(H0))"
   ]
  },
  {
   "cell_type": "markdown",
   "id": "d8a83936",
   "metadata": {},
   "source": [
    "Проведем **тест на нормальность Д'Агостино**"
   ]
  },
  {
   "cell_type": "code",
   "execution_count": 17,
   "id": "8f4fc1b5",
   "metadata": {},
   "outputs": [
    {
     "name": "stdout",
     "output_type": "stream",
     "text": [
      "p-value группы А 0.63\n",
      "p-value группы B 0.91\n",
      "Принимаем нулевую гипотезу. Распределения в обеих группах нормальные\n"
     ]
    }
   ],
   "source": [
    "# нулевая и альтернативная гипотезы\n",
    "H0 = 'Распределения в обеих группах нормальные'\n",
    "H1 = 'Распределение в одной или обеих группах отлично от нормального'\n",
    "\n",
    "alpha = 0.05 # уровень значимости\n",
    "\n",
    "# вычисляем результат теста Д'Агостино\n",
    "normaltest_result_a = normaltest(data_info[data_info['group'] == 'A']['conversion'])\n",
    "normaltest_result_b = normaltest(data_info[data_info['group'] == 'B']['conversion'])\n",
    "print('p-value группы А', round(normaltest_result_a.pvalue, 2))\n",
    "print('p-value группы B', round(normaltest_result_b.pvalue, 2))\n",
    "# сравниваем полученное p-value с уровнем значимости\n",
    "if normaltest_result_a.pvalue < alpha or normaltest_result_b.pvalue < alpha:\n",
    "    print(\"Отвергаем нулевую гипотезу. {}\".format(H0))\n",
    "    print(\"Альтернативная гипотеза. H1: {}\".format(H1))\n",
    "else:\n",
    "    print(\"Принимаем нулевую гипотезу. {}\".format(H0))"
   ]
  },
  {
   "cell_type": "markdown",
   "id": "5a094dda",
   "metadata": {},
   "source": [
    "Итак, данные распределены нормально.  \n",
    "Теперь нужно подготовить данные для проведения **Z-теста для пропорций**."
   ]
  },
  {
   "cell_type": "code",
   "execution_count": 18,
   "id": "3e72259e",
   "metadata": {},
   "outputs": [
    {
     "data": {
      "text/html": [
       "<div>\n",
       "<style scoped>\n",
       "    .dataframe tbody tr th:only-of-type {\n",
       "        vertical-align: middle;\n",
       "    }\n",
       "\n",
       "    .dataframe tbody tr th {\n",
       "        vertical-align: top;\n",
       "    }\n",
       "\n",
       "    .dataframe thead th {\n",
       "        text-align: right;\n",
       "    }\n",
       "</style>\n",
       "<table border=\"1\" class=\"dataframe\">\n",
       "  <thead>\n",
       "    <tr style=\"text-align: right;\">\n",
       "      <th></th>\n",
       "      <th>count_purchases</th>\n",
       "      <th>count_visits</th>\n",
       "    </tr>\n",
       "    <tr>\n",
       "      <th>group</th>\n",
       "      <th></th>\n",
       "      <th></th>\n",
       "    </tr>\n",
       "  </thead>\n",
       "  <tbody>\n",
       "    <tr>\n",
       "      <th>A</th>\n",
       "      <td>17487</td>\n",
       "      <td>145307</td>\n",
       "    </tr>\n",
       "    <tr>\n",
       "      <th>B</th>\n",
       "      <td>17290</td>\n",
       "      <td>145381</td>\n",
       "    </tr>\n",
       "  </tbody>\n",
       "</table>\n",
       "</div>"
      ],
      "text/plain": [
       "       count_purchases  count_visits\n",
       "group                               \n",
       "A                17487        145307\n",
       "B                17290        145381"
      ]
     },
     "execution_count": 18,
     "metadata": {},
     "output_type": "execute_result"
    }
   ],
   "source": [
    "# сгруппируем дальше наши данные по признаку группы\n",
    "data_info_group = data_info.groupby('group').agg({\n",
    "    'count_purchases':'sum', # посчитаем общее число конверсий (\"успехов\")\n",
    "    'count_visits':'sum' # посчитаем число посещений сайта (общее число наблюдений)\n",
    "})\n",
    "data_info_group"
   ]
  },
  {
   "cell_type": "markdown",
   "id": "5fbf7cff",
   "metadata": {},
   "source": [
    "Проведем **Z-тест для пропорций**."
   ]
  },
  {
   "cell_type": "code",
   "execution_count": 19,
   "id": "54ee3701",
   "metadata": {},
   "outputs": [
    {
     "name": "stdout",
     "output_type": "stream",
     "text": [
      "p-value:  0.12\n",
      "Принимаем нулевую гипотезу. Конверсии в группах А и B равны\n"
     ]
    }
   ],
   "source": [
    "# нулевая и альтернативная гипотезы\n",
    "H0 = 'Конверсии в группах А и B равны'\n",
    "H1 = 'Конверсия в группе А больше, чем конверсия в группе B'\n",
    "\n",
    "alpha = 0.05 # уровень значимости\n",
    "\n",
    "# вычисляем значение p-value для z-теста для пропорций\n",
    "_, p_value = proportions_ztest(\n",
    "    count=data_info_group['count_purchases'], # число \"успехов\"\n",
    "    nobs=data_info_group['count_visits'], # общее число наблюдений\n",
    "    alternative='larger' # первое значение (в группе А) больше второго (в группе В)\n",
    ")\n",
    "# выводим результат на экран\n",
    "print('p-value: ', round(p_value, 2))\n",
    "# сравниваем полученное p-value с уровнем значимости\n",
    "if (p_value < alpha): \n",
    "    print(\"Отвергаем нулевую гипотезу. {}\".format(H0))\n",
    "    print(\"Альтернативная гипотеза. H1: {}\".format(H1))\n",
    "else:\n",
    "    print(\"Принимаем нулевую гипотезу. {}\".format(H0))"
   ]
  },
  {
   "cell_type": "markdown",
   "id": "da794b48-80e3-47af-aceb-084a1862c86b",
   "metadata": {},
   "source": [
    "Приведите свои выводы по результатам проведенного статистического теста. Есть ли статистическая разница между конверсиями в группах А и B?"
   ]
  },
  {
   "cell_type": "markdown",
   "id": "75dddb06-389d-4d65-92c7-425efa28e51a",
   "metadata": {},
   "source": [
    "**Выводы:**  \n",
    "- Промежуточные выводы (задания 7.6 и 7.9) говорили о том, что конверсия в группе А более эффективна.  \n",
    "- Однако проведенный статистический тест показал, что статистически значимой разницы между конверсиями в группах А и В нет.\n",
    "***"
   ]
  },
  {
   "cell_type": "markdown",
   "id": "32c5a1af-8cb2-4f3c-a126-410b70fb3ff3",
   "metadata": {
    "tags": []
   },
   "source": [
    "## **Задание 7.11.**\n",
    "\n",
    "Убедитесь в своих рассуждениях, построив 95%-ый доверительный интервал для конверсий и разницы между ними. Используйте $z_{крит}$ в своих расчетах\n",
    "\n",
    "Укажите нижнюю и верхнюю границы доверительных интервалов. Границы приведите в процентах и округлите до 2 знака после запятой. Например: нижняя граница 89.24%, верхняя граница 91.25%."
   ]
  },
  {
   "cell_type": "code",
   "execution_count": 20,
   "id": "e9decb7d-ff5e-40a6-8b71-63627c4ef64a",
   "metadata": {},
   "outputs": [
    {
     "name": "stdout",
     "output_type": "stream",
     "text": [
      "Доверительный интервал для конверсии группы А: (11.87, 12.2)\n",
      "Доверительный интервал для конверсии группы B: (11.73, 12.06)\n"
     ]
    }
   ],
   "source": [
    "# используем очищенные (обновленные) первоначальные данные\n",
    "\n",
    "# фильтруем данные группы А\n",
    "updated_data_a = updated_data[updated_data['group'] == 'A']\n",
    "# фильтруем данные группы B\n",
    "updated_data_b = updated_data[updated_data['group'] == 'B']\n",
    "\n",
    "def proportions_conf_interval(n, x_p, gamma=0.95):   \n",
    "    alpha = 1 - gamma # уровень значимости\n",
    "    z_crit = -norm.ppf(alpha/2) # z критическое\n",
    "    eps = z_crit * (x_p * (1 - x_p) / n) ** 0.5 # погрешность\n",
    "    lower_bound = x_p - eps # левая (нижняя) граница\n",
    "    upper_bound = x_p + eps # правая (верхняя) граница\n",
    "    # возвращаем кортеж из округлённых границ интервала\n",
    "    return round(lower_bound * 100, 2), round(upper_bound * 100, 2)\n",
    "\n",
    "conf_interval_a = proportions_conf_interval(\n",
    "n=updated_data_a['user_id'].count(), # размер выборки\n",
    "x_p=updated_data_a['purchase'].mean() # выборочная пропорция\n",
    ")\n",
    "conf_interval_b = proportions_conf_interval(\n",
    "n=updated_data_b['user_id'].count(), # размер выборки\n",
    "x_p=updated_data_b['purchase'].mean() # выборочная пропорция\n",
    ")\n",
    "print('Доверительный интервал для конверсии группы А: {}'.format(conf_interval_a))\n",
    "print('Доверительный интервал для конверсии группы B: {}'.format(conf_interval_b))\n",
    "\n"
   ]
  },
  {
   "cell_type": "code",
   "execution_count": 21,
   "id": "935e107b",
   "metadata": {},
   "outputs": [
    {
     "name": "stdout",
     "output_type": "stream",
     "text": [
      "Доверительный интервал для разности конверсий: (-0.38, 0.09)\n"
     ]
    }
   ],
   "source": [
    "def diff_proportions_conf_interval(n, xp, gamma=0.95):\n",
    "    '''\n",
    "    данная функция рассчитывает доверительный интервал для разности конверсий\n",
    "    функция принимает на вход следующие данные:\n",
    "        n - размеры выборок в виде списка с двумя значениями\n",
    "        xp - выборочная пропорция групп в виде списка с двумя значениями\n",
    "        gamma - уровень надежности, по умолчанию равен 0.95\n",
    "    функция возвращает доверительный интервал для разности конверсий в виде кортежа\n",
    "    '''\n",
    "    alpha = 1 - gamma # уровень значимости\n",
    "    diff = xp[1] - xp[0] # выборочная разница конверсий групп B и A\n",
    "    z_crit = -norm.ppf(alpha/2) # z критическое\n",
    "    eps = z_crit * (xp[0] * (1 - xp[0])/n[0] + xp[1] * (1 - xp[1])/n[1]) ** 0.5 # погрешность\n",
    "    lower_bound = diff - eps # левая (нижняя) граница\n",
    "    upper_bound = diff + eps # правая (верхняя) граница\n",
    "    # возвращаем кортеж из округлённых границ интервала\n",
    "    return round(lower_bound *100, 2), round(upper_bound * 100, 2)\n",
    "\n",
    "# размеры выборок групп А и B\n",
    "n = [updated_data_a['user_id'].count(), updated_data_b['user_id'].count()]\n",
    "# выборочная пропорция групп A и B\n",
    "xp = [updated_data_a['purchase'].mean(), updated_data_b['purchase'].mean()]\n",
    "# строим доверительный интервал для разности конверсий\n",
    "diff_inverval = diff_proportions_conf_interval(n, xp)\n",
    "print('Доверительный интервал для разности конверсий: {}'.format(diff_inverval))"
   ]
  },
  {
   "cell_type": "markdown",
   "id": "9332372d-66b2-45e9-a74c-f5d8b1d44afb",
   "metadata": {},
   "source": [
    "Проинтерпретируйте построенные доверительные интервалы для конверсий в группах. Есть ли перекрытие между доверительными интервалами для групп? Есть ли статистическая разница между конверсиями в группах А и B?"
   ]
  },
  {
   "cell_type": "markdown",
   "id": "290d3734",
   "metadata": {},
   "source": [
    "**Выводы:**\n",
    "- доверительные интервалы для конверсии групп А и В перекрывают друг друга, что говорит о том, что существует вероятность, что истинное значение конверсии в обеих группах может совпасть.  \n",
    "- доверительный интервал для разности конверсий захватывает ноль - варианты А и В равнозначны по метрике конверсии.  \n",
    "- мы снова убедились в том, что нет статистически значимой разницы между конверсиями в группах А и В.  \n",
    "***"
   ]
  },
  {
   "cell_type": "markdown",
   "id": "73c54883-b919-4889-bbf2-e1bdeb0b7055",
   "metadata": {},
   "source": [
    "## **Задание 7.12.**\n",
    "\n",
    "Ранее мы построили таблицу с ежедневными показателями. Теперь она нам снова понадобится, так как нас интересует ежедневный средний чек.\n",
    "\n",
    "Проверьте гипотезу о нормальности распределения ежедневного среднего чека в каждой из групп тестирования. \n",
    "\n",
    "* Какой тест вы примените  для проверки гипотезы о нормальности распределения ежедневного среднего чека?\n",
    "* Как будут звучать нулевая и альтернативная гипотезы?\n",
    "* Каковы результаты статистического теста с уровнем значимости $\\alpha$ =0.05?"
   ]
  },
  {
   "cell_type": "markdown",
   "id": "e534a1a2",
   "metadata": {},
   "source": [
    "Проведем **тест на нормальность Шапиро-Уилка**."
   ]
  },
  {
   "cell_type": "code",
   "execution_count": 22,
   "id": "898041ae-de7e-4b74-975e-111d494fbb82",
   "metadata": {},
   "outputs": [
    {
     "name": "stdout",
     "output_type": "stream",
     "text": [
      "p-value группы А 0.25\n",
      "p-value группы B 0.09\n",
      "Принимаем нулевую гипотезу. Распределения в обеих группах нормальные\n"
     ]
    }
   ],
   "source": [
    "# нулевая и альтернативная гипотезы\n",
    "H0 = 'Распределения в обеих группах нормальные'\n",
    "H1 = 'Распределение в одной или обеих группах отлично от нормального'\n",
    "\n",
    "alpha = 0.05 # уровень значимости\n",
    "\n",
    "# вычисляем результат теста Шапиро-Уилка для выборок\n",
    "shapiro_result_a = shapiro(data_info[data_info['group'] == 'A']['mean_check'])\n",
    "shapiro_result_b = shapiro(data_info[data_info['group'] == 'B']['mean_check'])\n",
    "print('p-value группы А', round(shapiro_result_a.pvalue, 2))\n",
    "print('p-value группы B', round(shapiro_result_b.pvalue, 2))\n",
    "# сравниваем полученное p-value с уровнем значимости\n",
    "if shapiro_result_a.pvalue < alpha or shapiro_result_b.pvalue < alpha:\n",
    "    print(\"Отвергаем нулевую гипотезу. {}\".format(H0))\n",
    "    print(\"Альтернативная гипотеза. H1: {}\".format(H1))\n",
    "else:\n",
    "    print(\"Принимаем нулевую гипотезу. {}\".format(H0))"
   ]
  },
  {
   "cell_type": "markdown",
   "id": "765d9302",
   "metadata": {},
   "source": [
    "Проведем **тест на нормальность Д'Агостино**."
   ]
  },
  {
   "cell_type": "code",
   "execution_count": 23,
   "id": "794195b2",
   "metadata": {},
   "outputs": [
    {
     "name": "stdout",
     "output_type": "stream",
     "text": [
      "p-value группы А 0.25\n",
      "p-value группы B 0.42\n",
      "Принимаем нулевую гипотезу. Распределения в обеих группах нормальные\n"
     ]
    }
   ],
   "source": [
    "# нулевая и альтернативная гипотезы\n",
    "H0 = 'Распределения в обеих группах нормальные'\n",
    "H1 = 'Распределение в одной или обеих группах отлично от нормального'\n",
    "\n",
    "alpha = 0.05 # уровень значимости\n",
    "\n",
    "# вычисляем результат теста Д'Агостино\n",
    "normaltest_result_a = normaltest(data_info[data_info['group'] == 'A']['mean_check'])\n",
    "normaltest_result_b = normaltest(data_info[data_info['group'] == 'B']['mean_check'])\n",
    "print('p-value группы А', round(normaltest_result_a.pvalue, 2))\n",
    "print('p-value группы B', round(normaltest_result_b.pvalue, 2))\n",
    "# сравниваем полученное p-value с уровнем значимости\n",
    "if normaltest_result_a.pvalue < alpha or normaltest_result_b.pvalue < alpha:\n",
    "    print(\"Отвергаем нулевую гипотезу. {}\".format(H0))\n",
    "    print(\"Альтернативная гипотеза. H1: {}\".format(H1))\n",
    "else:\n",
    "    print(\"Принимаем нулевую гипотезу. {}\".format(H0))"
   ]
  },
  {
   "cell_type": "markdown",
   "id": "2cd1c656",
   "metadata": {},
   "source": [
    "**Выводы:**  \n",
    "- Для оценки нормальности распределения ежедневного среднего чека были использованы **тесты Шапиро-Уилка** и **Д'Агостино**.\n",
    "- Нулевая и альтернативная гипотезы представлены в ячейках с кодом, результаты тестов представлены в ячейках вывода.  \n",
    "- Согласно результатам тестов данные (ежедневный средний чек) распределены нормально.  \n",
    "***"
   ]
  },
  {
   "cell_type": "markdown",
   "id": "cbddecf9-4d15-4ff1-84e9-46c4d98fc1e0",
   "metadata": {
    "tags": []
   },
   "source": [
    "## **Задание 7.13.**\n",
    "\n",
    "Настало время сравнить варианты дизайна страницы по метрике среднего чека. \n",
    "\n",
    "Какой тест вы примените для проверки гипотезы о равенстве средних чеков по дням в группах?\n",
    "\n",
    "Проведите тестирование при следующих нулевой и альтернативной гипотезе:\n",
    "* $H_0$: Ежедневные средние чеки в группах А и B равны; \n",
    "* $H_1$: Ежедневный средний чек в группе А меньше чем в группе B;\n",
    "\n",
    "Вычислите p-value вашего теста для ежедневного среднего чека в группах А и B. Сравните полученное значение p-value с уровнем значимости $\\alpha$ =0.05. "
   ]
  },
  {
   "cell_type": "markdown",
   "id": "d890a825",
   "metadata": {},
   "source": [
    "Для решения задачи проанализируем наши данные:  \n",
    "- признак группы (**group**) - категориальная независимая переменная\n",
    "- признак ежедневного среднего чека (**mean_check**) - зависимая количественная переменная\n",
    "- группы происходят из разных совокупностей - А и В; пользователей, которые в первоначальных данных присутствовали в обеих группах мы удалили\n",
    "- в каждой группе менее 30 объектов (**data_info** - очищенные (обновленные) первоначальные данные, сгруппированные по группам и дате (по дням) с добавленными кумуллятивными признаками)  \n",
    "- у нас нет информации о разбросе данных\n",
    "- выше мы выяснили, что распределение ежедневного среднего чека нормальное в обеих группах\n",
    "\n",
    "Полагаю, что в данной ситуации правильно использовать **Т-тест**."
   ]
  },
  {
   "cell_type": "code",
   "execution_count": 24,
   "id": "818b5b37",
   "metadata": {},
   "outputs": [
    {
     "name": "stdout",
     "output_type": "stream",
     "text": [
      "0.0 <= 0.05.\n",
      "Мы отвергаем нулевую гипотезу. Ежедневный средний чек в группе А меньше чем в группе В.\n"
     ]
    }
   ],
   "source": [
    "# нулевая и альтернативная гипотезы\n",
    "H0 = 'Ежедневные средние чеки в группах А и В равны.'\n",
    "Ha = 'Ежедневный средний чек в группе А меньше чем в группе В.'\n",
    "\n",
    "alpha = 0.05 # уровень значимости\n",
    "\n",
    "# используем data_info - очищенные (обновленные) первоначальные данные, \n",
    "# сгруппированные по группам и дате (по дням) с добавленными кумуллятивными признаками\n",
    "\n",
    "# фильтруем данные групп А и В\n",
    "data_info_a = data_info[data_info['group'] == 'A']\n",
    "data_info_b = data_info[data_info['group'] == 'B']\n",
    "\n",
    "# проводим Т-тест \n",
    "_, p = ttest_ind(data_info_a['mean_check'], \n",
    "                 data_info_b['mean_check'], \n",
    "                 alternative='less' # первое значение (группа А) меньше второго (группа В)\n",
    ")\n",
    "\n",
    "# округлим значение p-value\n",
    "p = round(p, 3)\n",
    "\n",
    "# выводим и интерпретируем результаты теста\n",
    "if p>alpha:\n",
    "  print(f\"{p} > {alpha}.\", f\"Мы не можем отвергнуть нулевую гипотезу. {H0}\", sep=\"\\n\")\n",
    "else:\n",
    "  print(f\"{p} <= {alpha}.\", f\"Мы отвергаем нулевую гипотезу. {Ha}\", sep=\"\\n\")"
   ]
  },
  {
   "cell_type": "markdown",
   "id": "8534ab25-68b8-48f7-b2c1-ef1b72d8a767",
   "metadata": {},
   "source": [
    "Приведите свои выводы по проведенному статистическому тесту. Есть ли статистическая разница между ежедневными средними чеками в группах А и B?"
   ]
  },
  {
   "cell_type": "markdown",
   "id": "74bd69e1",
   "metadata": {},
   "source": [
    "**Выводы:**  \n",
    "- Ежедневный средний чек в группе А меньше, чем в группе В - разница статистически значима, что коррелирует с данными из графика кумулятивного среднего чека (задание 7.9).\n",
    "- Согласно данным из того же графика, кумулятивный средний чек в группе В на всем протяжении выборки больше, чем в группе А.\n",
    "- Несмотря на вышеизложенное, меня смущает полученный **p-value**, равный нулю - возможно, я допустил где-то ошибку в анализе данных.  \n",
    "***"
   ]
  },
  {
   "cell_type": "markdown",
   "id": "5e46c9a6-a943-48b4-ad72-935337469613",
   "metadata": {
    "tags": []
   },
   "source": [
    "## **Задание 7.14.**\n",
    "\n",
    "Постройте 95%-ый доверительный интервал для среднего чека в каждой группе. Так как выборка средних чеков небольшая, используйте  $t_{крит}$ в своих расчетах.\n",
    "\n",
    "Укажите нижнюю границу доверительного интервала для истинного среднего чека каждой из групп. Ответ приведите в процентах и округлите до целого."
   ]
  },
  {
   "cell_type": "code",
   "execution_count": 25,
   "id": "480430db-ffae-4aad-8e22-f5c70d4800b8",
   "metadata": {},
   "outputs": [
    {
     "name": "stdout",
     "output_type": "stream",
     "text": [
      "Доверительный интервал для среднего чека в группе А: (79630, 82308)\n"
     ]
    }
   ],
   "source": [
    "# данные по группам уже отфильтрованы в предыдущем задании\n",
    "\n",
    "# расчитаем доверительный интервал для среднего чека в группе А\n",
    "n = data_info_a.shape[0] # размер выборки\n",
    "k = n - 1 # число степеней свободы\n",
    "x_mean = data_info_a['mean_check'].mean() # выборочное среднее\n",
    "x_std = data_info_a['mean_check'].std() # выборочное стандартное отклонение\n",
    "gamma = 0.95 # уровень надёжности\n",
    "alpha = 1 - gamma # уровень значимости\n",
    "t_crit = -t.ppf(alpha/2, k) # t-критическое\n",
    "\n",
    "eps = t_crit * x_std/(n ** 0.5) # погрешность\n",
    "lower_bound = x_mean - eps # левая (нижняя) граница\n",
    "upper_bound = x_mean + eps # правая (верхняя) граница\n",
    "confidence_interval = (round(lower_bound), round(upper_bound)) # создаём кортеж из округлённых границ интервала\n",
    "print('Доверительный интервал для среднего чека в группе А: {}'.format(confidence_interval)) # выводим результат"
   ]
  },
  {
   "cell_type": "code",
   "execution_count": 26,
   "id": "b7bb0feb",
   "metadata": {},
   "outputs": [
    {
     "name": "stdout",
     "output_type": "stream",
     "text": [
      "Доверительный интервал для среднего чека в группе B: (87626, 89526)\n"
     ]
    }
   ],
   "source": [
    "# расчитаем доверительный интервал для среднего чека в группе B\n",
    "n = data_info_b.shape[0] # размер выборки\n",
    "k = n - 1 # число степеней свободы\n",
    "x_mean = data_info_b['mean_check'].mean() # выборочное среднее\n",
    "x_std = data_info_b['mean_check'].std() # выборочное стандартное отклонение\n",
    "gamma = 0.95 # уровень надёжности\n",
    "alpha = 1 - gamma # уровень значимости\n",
    "t_crit = -t.ppf(alpha/2, k) # t-критическое\n",
    "\n",
    "eps = t_crit * x_std/(n ** 0.5) # погрешность\n",
    "lower_bound = x_mean - eps # левая (нижняя) граница\n",
    "upper_bound = x_mean + eps # правая (верхняя) граница\n",
    "confidence_interval = (round(lower_bound), round(upper_bound)) # создаём кортеж из округлённых границ интервала\n",
    "print('Доверительный интервал для среднего чека в группе B: {}'.format(confidence_interval)) # выводим результат"
   ]
  },
  {
   "cell_type": "markdown",
   "id": "74a78db8-48f7-41d2-94cb-faefb30b8f76",
   "metadata": {},
   "source": [
    "Проинтерпретируйте построенные доверительные интервалы для ежедневных средних чеков в группах. Есть ли между ними пересечения?"
   ]
  },
  {
   "cell_type": "markdown",
   "id": "8fcae97a",
   "metadata": {},
   "source": [
    "**Выводы:**  \n",
    "- Доверительные интервалы не пересекаются, таким образом отсутствует вероятность того, что истинные значения среднего чека в группах могут совпасть.\n",
    "- Истинное значение среднего чек в группе В выше, чем в группе А.\n",
    "***"
   ]
  },
  {
   "cell_type": "markdown",
   "id": "c078852f-892f-42ed-8d78-73edf8eb1f5e",
   "metadata": {
    "tags": []
   },
   "source": [
    "## **Сделайте общий вывод по результатам A/B-теста**\n",
    "\n",
    "Какой варианта дизайна посадочной страницы является более эффективным в комплексе по метрикам конверсии и среднего чека и почему? "
   ]
  },
  {
   "cell_type": "markdown",
   "id": "682d0879",
   "metadata": {},
   "source": [
    "**Общие выводы по результатам А/В-теста:**  \n",
    "- Данные были очищены от пользователей, попавшие в обе группы. Выборки сбалансированы. Данные распределены нормально.\n",
    "- Конверсия покупки в группах А и В не отличаются.\n",
    "- Средний чек в группе В выше, чем в группе А.\n",
    "- Основной вклад в более высокий средний чек в группе В составляют туры стоимостью в 100тыс. рублей, при одновременном уменьшении купленных туров стоимостью 60тыс. рублей в той же группе (см. задание 7.7).\n",
    "- Новый вариант посадочной страницы не является более эффективным по метрике конверсии, но является более эффективным по метрике среднего чека.\n",
    "- В целом, новый вариант посадочной странице более эффективен, чем старый."
   ]
  }
 ],
 "metadata": {
  "kernelspec": {
   "display_name": "Python 3.9.13 64-bit",
   "language": "python",
   "name": "python3"
  },
  "language_info": {
   "codemirror_mode": {
    "name": "ipython",
    "version": 3
   },
   "file_extension": ".py",
   "mimetype": "text/x-python",
   "name": "python",
   "nbconvert_exporter": "python",
   "pygments_lexer": "ipython3",
   "version": "3.9.13"
  },
  "vscode": {
   "interpreter": {
    "hash": "aee8b7b246df8f9039afb4144a1f6fd8d2ca17a180786b69acc140d282b71a49"
   }
  }
 },
 "nbformat": 4,
 "nbformat_minor": 5
}
