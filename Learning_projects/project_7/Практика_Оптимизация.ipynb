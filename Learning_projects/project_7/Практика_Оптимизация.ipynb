{
  "cells": [
    {
      "cell_type": "markdown",
      "metadata": {
        "id": "NyHIGVhfa_Wf"
      },
      "source": [
        "# Стохастический градиентный и координатный спуски"
      ]
    },
    {
      "attachments": {},
      "cell_type": "markdown",
      "metadata": {},
      "source": [
        "Александр Журавлев DST-120\n",
        "***"
      ]
    },
    {
      "cell_type": "markdown",
      "metadata": {
        "id": "gn6lluIADUKa"
      },
      "source": [
        "Для каждого задания указано количество баллов (если они оцениваются отдельно) + 1 балл за аккуратное и полное выполнение всего задания"
      ]
    },
    {
      "attachments": {},
      "cell_type": "markdown",
      "metadata": {},
      "source": [
        "<style type=\"text/css\">\n",
        ".tg  {border-collapse:collapse;border-spacing:0;}\n",
        ".tg td{border-color:black;border-style:solid;border-width:1px;font-family:Arial, sans-serif;font-size:14px;\n",
        "  overflow:hidden;padding:10px 5px;word-break:normal;}\n",
        ".tg th{border-color:black;border-style:solid;border-width:1px;font-family:Arial, sans-serif;font-size:14px;\n",
        "  font-weight:normal;overflow:hidden;padding:10px 5px;word-break:normal;}\n",
        ".tg .tg-ddhp{background-color:#2E765E;color:#FFF;font-weight:bold;text-align:left;vertical-align:top}\n",
        ".tg .tg-5ajl{background-color:#404040;color:#FFF;font-weight:bold;text-align:left;vertical-align:top}\n",
        ".tg .tg-gifo{background-color:#F5F5F5;color:#222;font-style:italic;text-align:left;vertical-align:top}\n",
        ".tg .tg-7wf9{background-color:#F5F5F5;color:#222;text-align:left;vertical-align:top}\n",
        "</style>\n",
        "<table class=\"tg\">\n",
        "<thead>\n",
        "  <tr>\n",
        "    <th class=\"tg-ddhp\">ЗАДАНИЕ</th>\n",
        "    <th class=\"tg-ddhp\">БАЛЛЫ</th>\n",
        "  </tr>\n",
        "</thead>\n",
        "<tbody>\n",
        "  <tr>\n",
        "    <td class=\"tg-5ajl\" colspan=\"2\">1. Загрузка и подготовка данных</td>\n",
        "  </tr>\n",
        "  <tr>\n",
        "    <td class=\"tg-gifo\"><span style=\"font-style:italic\">Аккуратное и полное выполнение задания</span></td>\n",
        "    <td class=\"tg-7wf9\">1</td>\n",
        "  </tr>\n",
        "  <tr>\n",
        "    <td class=\"tg-5ajl\" colspan=\"2\">2. Координатный спуск</td>\n",
        "  </tr>\n",
        "  <tr>\n",
        "    <td class=\"tg-7wf9\">Реализация алгоритма координатного спуска</td>\n",
        "    <td class=\"tg-7wf9\">3</td>\n",
        "  </tr>\n",
        "  <tr>\n",
        "    <td class=\"tg-gifo\"><span style=\"font-style:italic\">Аккуратное и полное выполнение задания</span></td>\n",
        "    <td class=\"tg-7wf9\">1</td>\n",
        "  </tr>\n",
        "  <tr>\n",
        "    <td class=\"tg-5ajl\" colspan=\"2\">3. Стохастический градиентный спуск</td>\n",
        "  </tr>\n",
        "  <tr>\n",
        "    <td class=\"tg-7wf9\">Масштабирование столбцов исходной матрицы</td>\n",
        "    <td class=\"tg-7wf9\">1</td>\n",
        "  </tr>\n",
        "  <tr>\n",
        "    <td class=\"tg-7wf9\">Создание функции для вычисления среднеквадратичной ошибки</td>\n",
        "    <td class=\"tg-7wf9\">1</td>\n",
        "  </tr>\n",
        "  <tr>\n",
        "    <td class=\"tg-7wf9\">Составление наивного прогноза (предсказание продаж средним значением)</td>\n",
        "    <td class=\"tg-7wf9\">1</td>\n",
        "  </tr>\n",
        "  <tr>\n",
        "    <td class=\"tg-7wf9\">Создание функции для получения вектора прогнозов</td>\n",
        "    <td class=\"tg-7wf9\">1</td>\n",
        "  </tr>\n",
        "  <tr>\n",
        "    <td class=\"tg-7wf9\">Создание функции для реализации шага стохастического градиентного спуска</td>\n",
        "    <td class=\"tg-7wf9\">2</td>\n",
        "  </tr>\n",
        "  <tr>\n",
        "    <td class=\"tg-7wf9\">Создание функции для реализации стохастического градиентного спуска</td>\n",
        "    <td class=\"tg-7wf9\">3</td>\n",
        "  </tr>\n",
        "  <tr>\n",
        "    <td class=\"tg-gifo\"><span style=\"font-style:italic\">Аккуратное и полное выполнение задания</span></td>\n",
        "    <td class=\"tg-7wf9\">1</td>\n",
        "  </tr>\n",
        "</tbody>\n",
        "</table>"
      ]
    },
    {
      "attachments": {},
      "cell_type": "markdown",
      "metadata": {},
      "source": [
        "Максимальное количество баллов — 15."
      ]
    },
    {
      "attachments": {},
      "cell_type": "markdown",
      "metadata": {},
      "source": [
        "***"
      ]
    },
    {
      "cell_type": "markdown",
      "metadata": {
        "id": "txCccYvha_Wv"
      },
      "source": [
        "## Загрузка и подготовка данных"
      ]
    },
    {
      "cell_type": "code",
      "execution_count": 1,
      "metadata": {},
      "outputs": [],
      "source": [
        "# загрузим необходимые библиотеки\n",
        "\n",
        "# для работы с данными и вычислений\n",
        "import numpy as np\n",
        "import pandas as pd\n",
        "\n",
        "# для работы с моделями и метриками\n",
        "from sklearn.linear_model import LinearRegression, SGDRegressor\n",
        "from sklearn import metrics\n",
        "\n",
        "# для визуализации\n",
        "import seaborn as sns\n",
        "\n",
        "# не отображаем предупреждения\n",
        "import warnings\n",
        "warnings.filterwarnings('ignore')\n",
        "warnings.simplefilter('ignore')"
      ]
    },
    {
      "cell_type": "markdown",
      "metadata": {
        "id": "NbyOzeZ6a_Wx"
      },
      "source": [
        "**Загрузите уже знакомый вам файл *Advertising.csv* как объект DataFrame.** "
      ]
    },
    {
      "cell_type": "code",
      "execution_count": 2,
      "metadata": {
        "id": "E1L4_xeDa_Wz"
      },
      "outputs": [],
      "source": [
        "# загружаем указанный файл с данными\n",
        "df = pd.read_csv('data/Advertising.csv')"
      ]
    },
    {
      "cell_type": "markdown",
      "metadata": {
        "id": "bf4aVFndDUKf"
      },
      "source": [
        "**Проверьте, есть ли в данных пропуски и, если они есть - удалите их**"
      ]
    },
    {
      "cell_type": "code",
      "execution_count": 3,
      "metadata": {
        "id": "tiVeFnR5DUKg"
      },
      "outputs": [
        {
          "data": {
            "text/plain": [
              "Unnamed: 0    0\n",
              "TV            0\n",
              "radio         0\n",
              "newspaper     0\n",
              "sales         0\n",
              "dtype: int64"
            ]
          },
          "execution_count": 3,
          "metadata": {},
          "output_type": "execute_result"
        }
      ],
      "source": [
        "# проверяем на наличие пропусков\n",
        "df.isnull().sum()"
      ]
    },
    {
      "attachments": {},
      "cell_type": "markdown",
      "metadata": {},
      "source": [
        "**Выводы:**\n",
        "- пропусков нет\n",
        "- имеется признак *Unnamed 0*, который дублирует индексы, но начинается с 1"
      ]
    },
    {
      "cell_type": "markdown",
      "metadata": {
        "id": "rTkiqPr_DUKh"
      },
      "source": [
        "**Преобразуйте ваши признаки в массивы NumPy и разделите их на переменные X (предикторы) и y(целевая переменная)** "
      ]
    },
    {
      "cell_type": "code",
      "execution_count": 4,
      "metadata": {
        "id": "R9OHIRB3a_Xa"
      },
      "outputs": [],
      "source": [
        "# разделяем данные на предикторы и таргет, преобразуя их в массивы\n",
        "X = df[['TV', 'radio', 'newspaper']].values\n",
        "y = df['sales'].values"
      ]
    },
    {
      "attachments": {},
      "cell_type": "markdown",
      "metadata": {},
      "source": [
        "***"
      ]
    },
    {
      "cell_type": "markdown",
      "metadata": {
        "id": "KCvjSoHEDUKo"
      },
      "source": [
        "## Координатный спуск (3 балла)"
      ]
    },
    {
      "cell_type": "markdown",
      "metadata": {
        "id": "yjNm8dATDUKq"
      },
      "source": [
        "**Добавим единичный столбец для того, чтобы у нас был свободный коэффициент в уравнении регрессии:**"
      ]
    },
    {
      "cell_type": "code",
      "execution_count": 5,
      "metadata": {
        "id": "LMgq0fmKDUKr"
      },
      "outputs": [
        {
          "name": "stdout",
          "output_type": "stream",
          "text": [
            "(200, 4) (200, 1)\n"
          ]
        }
      ],
      "source": [
        "# добавляем в матрицу наблюдений единичный столбец\n",
        "X = np.hstack([np.ones(X.shape[0]).reshape(-1, 1), X])\n",
        "# преобразуем вектор y в массив\n",
        "y = y.reshape(-1, 1)\n",
        "\n",
        "# проверим размерность данных\n",
        "print(X.shape, y.shape)"
      ]
    },
    {
      "cell_type": "markdown",
      "metadata": {
        "id": "R008OQwcDUKt"
      },
      "source": [
        "**Нормализуем данные: обычно это необходимо для корректной работы алгоритма**"
      ]
    },
    {
      "cell_type": "code",
      "execution_count": 6,
      "metadata": {
        "id": "2Sk7Wx-SDUKt"
      },
      "outputs": [],
      "source": [
        "# нормализуем предикторы\n",
        "X = X / np.sqrt(np.sum(np.square(X), axis=0))"
      ]
    },
    {
      "cell_type": "markdown",
      "metadata": {
        "id": "F_pHHbAdDUKu"
      },
      "source": [
        "**Реализуйте алгоритм координатного спуска:** (3 балла)\n",
        "\n",
        "Ниже приведен алгоритм координатного спуска для случая нормализованных данных:"
      ]
    },
    {
      "cell_type": "markdown",
      "metadata": {},
      "source": [
        "**Задано:**\n",
        "\n",
        "* $X=(x_{ij})$ - матрица наблюдений, размерностью $dim(X)=(n, m)$\n",
        "* $N=1000$ - количество итераций\n",
        "\n",
        "**Примечание:** *1000 итераций здесь указаны для этого задания, на самом деле их может быть намного больше, нет детерменированного значения.*\n",
        "\n",
        "**Алгоритм (математическая запись):**\n",
        "* Создать нулевой вектор параметров $w_0=(0, 0,..., 0)^T$\n",
        "* Для всех $t=1, 2, ..., N$ итераций:\n",
        "    * Для всех $k = 1, 2,..., m$:\n",
        "        * Фиксируем значение всех признаков, кроме $k$-ого и вычисляем прогноз модели линейной регрессии.Для этого исключаем признак $k$-ый из данных и $w_j$ из параметров при построении прогноза.\n",
        "        Математически это можно записать следующим образом:\n",
        "\n",
        "        $$h_i = \\sum_{j=1}^{k-1} x_{ij}w_{j} + \\sum_{j=k+1}^{m} x_{ij}w_j $$\n",
        "\n",
        "        **Примечание:**\n",
        "        \n",
        "        *Обратите, что в данной записи текущий признак под номером $k$ не участвует в сумме.Сравните эту запись с классической записью прогноза линейной регрессии в случае нормированных данных (когда участвуют все признаки):*\n",
        "\n",
        "        $$h_i = \\sum_{j=1}^{m} x_{ij}w_{j}$$ \n",
        "        \n",
        "        * Вычисляем новое значение параметра $k$-ого коэффициента: \n",
        "        $$w_k = \\sum_{i=1}^{n} x_{ik} (y_i - h_i) = x_k^T(y-h) $$\n",
        "\n",
        "    * Вычисляем значение функции потерь и сохраняем в историю изменения функции потерь (В оценке функции потерь участвуют все признаки):\n",
        "        $$\\hat{y_i} = \\sum_{j=1}^{m}x_{ij}$$\n",
        "        $$Loss_t = \\frac{1}{n} \\sum_{i=1}^{n}(y_i-\\hat{y_i})^2$$\n",
        "        \n",
        "        или в векторном виде:\n",
        "        \n",
        "        $$\\hat{y} = Xw$$\n",
        "        $$Loss_t = \\frac{1}{n}(y-\\hat{y})^T(y-\\hat{y})$$\n",
        "    \n",
        "\n"
      ]
    },
    {
      "cell_type": "markdown",
      "metadata": {},
      "source": [
        "**Алгоритм (псевдокод):**\n",
        "```python\n",
        "\n",
        "num_iters = #количество итераций\n",
        "m = # количество строк в матрице X\n",
        "n = # количество столбцов в матрице X\n",
        "w = #вектор размера nx1, состояющий из нулей\n",
        "\n",
        "for i in range(num_iters):\n",
        "    for k in range(n):\n",
        "        # Вычисляем прогноз без k-ого фактора\n",
        "        h = (X[:,0:k] @ w[0:k]) + (X[:,k+1:] @ w[k+1:])\n",
        "        # Обновляем новое значение k-ого коэффициента\n",
        "        w[k] =  (X[:,k].T @ (y - h))\n",
        "        # Вычисляем функцию потерь\n",
        "        cost = sum((X @ w) - y) ** 2)/(len(y))\n",
        "\n",
        "```"
      ]
    },
    {
      "cell_type": "markdown",
      "metadata": {
        "id": "y3IdiHm9DUKv"
      },
      "source": [
        "Вам необходимо реализовать координатный спуск, и вывести веса в модели линейной регрессии."
      ]
    },
    {
      "cell_type": "code",
      "execution_count": 7,
      "metadata": {},
      "outputs": [
        {
          "name": "stdout",
          "output_type": "stream",
          "text": [
            "Коэффициенты линейной регрессии: \n",
            " [[ 41.56217205]\n",
            " [110.13144155]\n",
            " [ 73.52860638]\n",
            " [ -0.55006384]]\n",
            "Функция потерь(метрика) MSE: [2.78412631]\n",
            "Метрика MAE: [1.25201123]\n"
          ]
        }
      ],
      "source": [
        "# задаем функцию для решения задания\n",
        "def grad_d(X,y, w, num_iters = 1000):\n",
        "    '''\n",
        "    Функция реализует алгоритм координатного спуска.\n",
        "    Параметры функции:\n",
        "        X: матрица наблюдений (предикторы)\n",
        "        y: целевая переменная (таргет)\n",
        "        w: вектор коэффициентов \n",
        "        num_iters: кол-во итераций, по умолчанию = 1000\n",
        "    Функция возвращает:\n",
        "        w: вектор с параметрами(коэффициентами)\n",
        "        cost_mse: значение функции потерь MSE (она же метрика MSE)\n",
        "        mae: значение метрики MAE\n",
        "    '''\n",
        "    cost_mse = []\n",
        "    mae = []\n",
        "    for i in range(num_iters):\n",
        "        for k in range(m):\n",
        "            # Вычисляем прогноз без k-ого фактора\n",
        "            h = (X[:,0:k] @ w[0:k]) + (X[:,k+1:] @ w[k+1:])\n",
        "            # Обновляем новое значение k-ого коэффициента\n",
        "            w[k] =  (X[:,k].T @ (y - h))\n",
        "            # Вычисляем функцию потерь MSE (она же метрика MSE)\n",
        "            cost_mse = sum((y - (X @ w)) ** 2)/(len(y))\n",
        "            # Вычисляем метрику MAE\n",
        "            mae = sum(abs(y - (X @ w)))/(len(y))\n",
        "        \n",
        "    return w, cost_mse, mae\n",
        "\n",
        "# задаем количество признаков (включая столбец с единицами)\n",
        "m = X.shape[1]\n",
        "# указываем количество строк(наблюдений)\n",
        "n = len(y)\n",
        "# задаем пустой вектор параметров\n",
        "w = np.zeros((4,1))\n",
        "\n",
        "# реализуем алгоритм координатного спуска\n",
        "w, cost_mse, mae = grad_d(X,y, w)\n",
        "\n",
        "# выводим требуемые данные\n",
        "print(f'Коэффициенты линейной регрессии: \\n {w}')\n",
        "print(f'Функция потерь(метрика) MSE: {cost_mse}')\n",
        "print(f'Метрика MAE: {mae}')"
      ]
    },
    {
      "cell_type": "markdown",
      "metadata": {
        "id": "a3jG-7UADUKx"
      },
      "source": [
        "Сравните результаты с реализацией линейной регрессии из библиотеки sklearn:"
      ]
    },
    {
      "cell_type": "code",
      "execution_count": 8,
      "metadata": {
        "id": "SBl-1Yb5DUKy"
      },
      "outputs": [
        {
          "name": "stdout",
          "output_type": "stream",
          "text": [
            "Коэффициенты модели: \n",
            " [[ 41.56217205 110.13144155  73.52860638  -0.55006384]]\n",
            "Метрика MSE модели: 2.784126314510936\n",
            "Метрика MAE модели: 1.2520112296870658\n"
          ]
        }
      ],
      "source": [
        "\n",
        "# создаем и обучаем модель линейной регрессии\n",
        "model = LinearRegression(fit_intercept=False)\n",
        "model.fit(X, y)\n",
        " \n",
        "# делаем предсказание\n",
        "y_predict = model.predict(X)\n",
        "\n",
        "# вычисляем метрики MSE и MAE\n",
        "model_mse = metrics.mean_squared_error(y,y_predict)\n",
        "model_mae = metrics.mean_absolute_error(y,y_predict)\n",
        "\n",
        "# выводим требуемые данные\n",
        "print(f'Коэффициенты модели: \\n {model.coef_}')\n",
        "print(f'Метрика MSE модели: {model_mse}')\n",
        "print(f'Метрика MAE модели: {model_mae}')"
      ]
    },
    {
      "cell_type": "markdown",
      "metadata": {
        "id": "hIl0AGLyDUKy"
      },
      "source": [
        "Если вы все сделали верно, они должны практически совпасть!"
      ]
    },
    {
      "attachments": {},
      "cell_type": "markdown",
      "metadata": {},
      "source": [
        "**Выводы:**\n",
        "- коэффициенты и метрики в обоих случаях совпадают\n",
        "- что говорит о том, что ручной алгоритм координатного спуска реализован нами верно\n",
        "- в представленном алгоритме(псевдокоде) указано, что **m** - это количество строк, а **n** - количество столбцов в матрице X, что вводит в заблуждение, т.к. выше указано, что задана $X=(x_{ij})$ - матрица наблюдений, размерностью $dim(X)=(n, m)$. Полагаю необходимым это исправить."
      ]
    },
    {
      "attachments": {},
      "cell_type": "markdown",
      "metadata": {},
      "source": [
        "***"
      ]
    },
    {
      "cell_type": "markdown",
      "metadata": {
        "id": "VCGwFnPdDUKz"
      },
      "source": [
        "## Стохастический градиентный спуск (6 баллов)"
      ]
    },
    {
      "cell_type": "markdown",
      "metadata": {
        "id": "5u7Q2YJla_Xk"
      },
      "source": [
        "**Отмасштабируйте столбцы исходной матрицы *X* (которую мы не нормализовали еще!). Для того, чтобы это сделать, надо вычесть из каждого значения среднее и разделить на стандартное отклонение** (0.5 баллов)"
      ]
    },
    {
      "cell_type": "code",
      "execution_count": 9,
      "metadata": {
        "id": "9cEpV_5La_Xo"
      },
      "outputs": [],
      "source": [
        "# заново разделяем данные на предикторы и таргет, преобразуя их в массивы\n",
        "X = df[['TV', 'radio', 'newspaper']].values\n",
        "y = df['sales'].values\n",
        "\n",
        "# проводим стандартизацию матрицы наблюдений\n",
        "X = (X - np.mean(X, axis=0))/np.std(X, axis=0)"
      ]
    },
    {
      "cell_type": "markdown",
      "metadata": {
        "id": "8WkNYILHDUK1"
      },
      "source": [
        "**Добавим единичный столбец**"
      ]
    },
    {
      "cell_type": "code",
      "execution_count": 10,
      "metadata": {
        "id": "EVl5tEGtDUK1"
      },
      "outputs": [
        {
          "name": "stdout",
          "output_type": "stream",
          "text": [
            "(200, 4) (200, 1)\n"
          ]
        }
      ],
      "source": [
        "# добавляем в матрицу наблюдений единичный столбец\n",
        "X = np.hstack([np.ones(X.shape[0]).reshape(-1, 1), X])\n",
        "# преобразуем вектор y в массив\n",
        "y = y.reshape(-1, 1)\n",
        "\n",
        "# задаем нулевой вектор коэффициентов (весов модели)\n",
        "w = np.zeros([4, 1])\n",
        "\n",
        "# проверим размерность данных\n",
        "print(X.shape, y.shape)"
      ]
    },
    {
      "cell_type": "markdown",
      "metadata": {
        "id": "m53tZA5fDUK1"
      },
      "source": [
        "**Создайте функцию mse_error для вычисления среднеквадратичной ошибки, принимающую два аргумента: реальные значения и предсказывающие, и возвращающую значение mse** (0.5 балла)"
      ]
    },
    {
      "cell_type": "code",
      "execution_count": 11,
      "metadata": {
        "id": "0cvtC08Aa_YK"
      },
      "outputs": [],
      "source": [
        "def mse_error(y, y_predict):\n",
        "    '''\n",
        "    Функция вычисляет среднеквадратичную ошибку MSE.\n",
        "    Параметры функции:\n",
        "        y: массив/вектор с реальными значениями целевой переменной\n",
        "        y_predict: массив/вектор с предсказанными значениями целевой переменной\n",
        "    Функция возвращает: \n",
        "        значение среднеквадратичной ошибки MSE\n",
        "    '''\n",
        "    mse_error = sum((y - y_predict) ** 2)/(len(y))\n",
        "    return mse_error"
      ]
    },
    {
      "cell_type": "markdown",
      "metadata": {
        "id": "lpOLhdvBDUK2"
      },
      "source": [
        "**Сделайте наивный прогноз: предскажите продажи средним значением. После этого рассчитайте среднеквадратичную ошибку для этого прогноза** (0.5 балла)"
      ]
    },
    {
      "cell_type": "code",
      "execution_count": 12,
      "metadata": {
        "id": "kLV_XljVa_YZ"
      },
      "outputs": [
        {
          "name": "stdout",
          "output_type": "stream",
          "text": [
            "[27.08574375]\n"
          ]
        }
      ],
      "source": [
        "# предсказываем продажи средним значением таргета\n",
        "y_predict = np.mean(y, axis=0)\n",
        "\n",
        "# рассчитываем и выводим MSE\n",
        "print(mse_error(y, y_predict))"
      ]
    },
    {
      "cell_type": "markdown",
      "metadata": {
        "id": "BbybL2ola_ZM"
      },
      "source": [
        "**Создайте функцию *lin_pred*, которая может по матрице предикторов *X* и вектору весов линейной модели *w* получить вектор прогнозов** (0.5 балла)"
      ]
    },
    {
      "cell_type": "code",
      "execution_count": 13,
      "metadata": {
        "id": "1Cyz-Luaa_ZO"
      },
      "outputs": [],
      "source": [
        "def lin_pred(X, w):\n",
        "    '''\n",
        "    Функция вычисляет одномерный массив прогнозов\n",
        "    Параметры функции:\n",
        "        X: матрица предикторов(наблюдений)\n",
        "        w: вектор весов(коэффициентов) линейной модели\n",
        "    Функция возвращает: \n",
        "        одномерный массив прогнозов\n",
        "    '''\n",
        "    # получаем вектор прогнозов линейной модели\n",
        "    y_predict = X@w\n",
        "    # преобразуем полученный вектор в одномерный массив\n",
        "    y_predict = y_predict.reshape(-1, 1)\n",
        "\n",
        "    return y_predict"
      ]
    },
    {
      "cell_type": "markdown",
      "metadata": {
        "id": "BU4adBrya_Zm"
      },
      "source": [
        "**Создайте функцию *stoch_grad_step* для реализации шага стохастического градиентного спуска. (1.5 балла) \n",
        "Функция должна принимать на вход следующие аргументы:**\n",
        "* матрицу *X*\n",
        "* вектора *y* и *w*\n",
        "* число *train_ind* - индекс объекта обучающей выборки (строки матрицы *X*), по которому считается изменение весов\n",
        "* число *$\\eta$* (eta) - шаг градиентного спуска\n",
        "\n",
        "Результатом будет вектор обновленных весов"
      ]
    },
    {
      "cell_type": "markdown",
      "metadata": {
        "id": "dyLY-P02DUK5"
      },
      "source": [
        "Шаг для стохастического градиентного спуска выглядит следующим образом:"
      ]
    },
    {
      "cell_type": "markdown",
      "metadata": {
        "id": "ORsAyIKNDUK5"
      },
      "source": [
        "$$\\Large w_j \\leftarrow w_j - \\frac{2\\eta}{\\ell} \\sum_{i=1}^\\ell{{x_{ij}((w_0 + w_1x_{i1} + w_2x_{i2} +  w_3x_{i3}) - y_i)}}$$"
      ]
    },
    {
      "cell_type": "markdown",
      "metadata": {
        "id": "CQl2FrpuDUK6"
      },
      "source": [
        "Для того, чтобы написать функцию, нужно сделать следующее:\n",
        "    \n",
        "*  посчитать направление изменения: умножить объект обучающей выборки на 2 и на разницу между предсказанным значением и реальным, а потом поделить на количество элементов в выборке.\n",
        "* вернуть разницу между вектором весов и направлением изменения, умноженным на шаг градиентного спуска"
      ]
    },
    {
      "cell_type": "code",
      "execution_count": 14,
      "metadata": {
        "id": "YUhVQGsja_Zn"
      },
      "outputs": [],
      "source": [
        "def stoch_grad_step(X, y, w, train_index, eta):\n",
        "    '''\n",
        "    Функция реализует шаг стохастического градиентного спуска\n",
        "    Параметры функции:\n",
        "        X: матрица предикторов(наблюдений)\n",
        "        y: одномерный массив реальных значений целевой переменной\n",
        "        w: вектор весов(коэффициентов) линейной модели\n",
        "        train_index: индекс объекта обучающей выборки (строки матрицы X), по которому считается изменение весов\n",
        "        eta: шаг градиентного спуска\n",
        "    Функция возвращает: \n",
        "        обновленные веса(коэффициенты) линейной модели\n",
        "    '''\n",
        "    # определяем объект (строку матрицы X) по полученному индексу                 \n",
        "    object = X[train_index] \n",
        "    # предсказываем целевую переменную по данным объекта                \n",
        "    y_predict = lin_pred(X[train_index], w) \n",
        "    # рассчитываем направление изменения весов модели по формуле\n",
        "    direction = (object*2*(y_predict - y[train_index])) / 1 \n",
        "    # обновляем веса(коэффициенты) модели\n",
        "    w_new = w - direction*eta\n",
        "\n",
        "    return w_new[0]"
      ]
    },
    {
      "cell_type": "markdown",
      "metadata": {
        "id": "pXwIFd0Ma_Zx"
      },
      "source": [
        "**Создайте функцию *stochastic_gradient_descent*, для реализации стохастического градиентного спуска (2.5 балла)**\n",
        "\n",
        "**Функция принимает на вход следующие аргументы:**\n",
        "- Матрицу признаков X\n",
        "- Целевую переменнную\n",
        "- Изначальную точку (веса модели)\n",
        "- Параметр, определяющий темп обучения\n",
        "- Максимальное число итераций\n",
        "- Евклидово расстояние между векторами весов на соседних итерациях градиентного спуска,при котором алгоритм прекращает работу \n",
        "\n",
        "**На каждой итерации в вектор (список) должно записываться текущее значение среднеквадратичной ошибки. Функция должна возвращать вектор весов $w$, а также вектор (список) ошибок.**"
      ]
    },
    {
      "cell_type": "markdown",
      "metadata": {
        "id": "ZVeoNF1JDUK7"
      },
      "source": [
        "Алгоритм сследующий:\n",
        "    \n",
        "* Инициализируйте расстояние между векторами весов на соседних итерациях большим числом (можно бесконечностью)\n",
        "* Создайте пустой список для фиксации ошибок\n",
        "* Создайте счетчик итераций\n",
        "* Реализуйте оновной цикл обучения пока расстояние между векторами весов больше того, при котором надо прекратить работу (когда расстояния станут слишком маленькими - значит, мы застряли в одном месте) и количество итераций меньше максимально разрешенного: сгенерируйте случайный индекс, запишите текущую ошибку в вектор ошибок, запишите в переменную текущий шаг стохастического спуска с использованием функции, написанной ранее. Далее рассчитайте текущее расстояние между векторами весов и прибавьте к счетчику итераций 1.\n",
        "* Верните вектор весов и вектор ошибок"
      ]
    },
    {
      "cell_type": "code",
      "execution_count": 15,
      "metadata": {
        "id": "CD_xcFNfa_Zy"
      },
      "outputs": [],
      "source": [
        "def stochastic_gradient_descent(X, y, w, eta, max_iter,\n",
        "                                min_weight_dist, seed):\n",
        "    '''\n",
        "    Функция реализует стохастический градиентный спуск\n",
        "    Параметры функции:\n",
        "        X: матрица предикторов(наблюдений)\n",
        "        y: одномерный массив реальных значений целевой переменной\n",
        "        w: вектор весов(коэффициентов) линейной модели\n",
        "        eta: параметр, определяющий темп обучения \n",
        "        max_iter: максимальное число итераций\n",
        "        min_weight_dist: минимальное евклидово расстояние между векторами весов на соседних итерациях\n",
        "                         градиентного спуска, при котором алгоритм прекращает работу\n",
        "        seed: для воспроизводимости эксперимета\n",
        "    Функция возвращает: \n",
        "        w: обновленные веса(коэффициенты) линейной модели\n",
        "        errors: значения MSE\n",
        "    '''\n",
        "    # инициализируем евклидово расстояние между векторами весов \n",
        "    weight_dist = float(\"inf\") # задаем бесконечность\n",
        "    # фиксируем ошибки MSE\n",
        "    errors = []\n",
        "    # счетчик итераций\n",
        "    iter_num = 0\n",
        "    \n",
        "    np.random.seed(seed) # фиксируем seed для воспроизводимости\n",
        "        \n",
        "    # основной цикл:\n",
        "    # пока расстояние между векторами весов больше того, при котором надо прекратить работу\n",
        "    # и количество итераций меньше максимально разрешенного:\n",
        "    while weight_dist > min_weight_dist and iter_num < max_iter:\n",
        "\n",
        "        # задаем случайный индекс строки матрицы X\n",
        "        random_index = np.random.randint(X.shape[0])\n",
        "        # обновляем веса\n",
        "        new_w = stoch_grad_step(X, y, w, random_index, eta)\n",
        "        # считаем ошибку и добавляем ее в список\n",
        "        error = mse_error(y[random_index], lin_pred(X[random_index], new_w))\n",
        "        errors.append(error)\n",
        "        # считаем расстояние между векторами весов \n",
        "        weight_dist = np.linalg.norm(w-new_w)\n",
        "        # обновляем веса и считаем итерацию\n",
        "        w = new_w\n",
        "        iter_num += 1\n",
        "        \n",
        "    return w, errors\n"
      ]
    },
    {
      "cell_type": "markdown",
      "metadata": {
        "id": "0OqHO1Rta_Z7"
      },
      "source": [
        " **Запустите $10^5$ итераций стохастического градиентного спуска. Укажите вектор начальных весов, состоящий из нулей. Можете поэкспериментировать с параметром, отвечающим за темп обучения.**"
      ]
    },
    {
      "cell_type": "code",
      "execution_count": 16,
      "metadata": {},
      "outputs": [],
      "source": [
        "# реализуем стохастический градиентный спуск\n",
        "w,errors = stochastic_gradient_descent(X, y, w, eta=0.0001, max_iter=1e5,\n",
        "                                min_weight_dist=1e-8, seed=42)\n"
      ]
    },
    {
      "cell_type": "markdown",
      "metadata": {
        "id": "N6fHHT6vDUK8"
      },
      "source": [
        "**Постройте график зависимости ошибки от номера итерации**"
      ]
    },
    {
      "cell_type": "code",
      "execution_count": 17,
      "metadata": {
        "id": "zsSfHDzLDUK9"
      },
      "outputs": [
        {
          "name": "stdout",
          "output_type": "stream",
          "text": [
            "Количество итераций: 53433\n"
          ]
        },
        {
          "data": {
            "image/png": "[encoded data removed]",
            "text/plain": [
              "<Figure size 3000x1500 with 1 Axes>"
            ]
          },
          "metadata": {},
          "output_type": "display_data"
        }
      ],
      "source": [
        "# преобразуем список массивов с ошибками в обычный список\n",
        "new_errrors = [] # новый список с ошибками\n",
        "for i in range(len(errors)):\n",
        "    new_errrors.append(errors[i][0])\n",
        "\n",
        "# создаем датафрейм из нового списка с ошибками\n",
        "errors_df = pd.DataFrame({'MSE': new_errrors})\n",
        "\n",
        "# визуализируем зависисмоть ошибки от номера итерации\n",
        "sns.set(rc={'figure.figsize':(10,5), 'figure.dpi':300})\n",
        "sns.lineplot(data=errors_df, x=errors_df.index, y='MSE').\\\n",
        "    set_title('Зависимость ошибки от номера итерации');\n",
        "\n",
        "print(f'Количество итераций: {len(new_errrors)}')"
      ]
    },
    {
      "cell_type": "markdown",
      "metadata": {
        "id": "O-MVOcJ6a_aY"
      },
      "source": [
        "**Выведите вектор весов, к которому сошелся метод.**"
      ]
    },
    {
      "cell_type": "code",
      "execution_count": 18,
      "metadata": {
        "id": "MPjVkXe4DUK9"
      },
      "outputs": [
        {
          "name": "stdout",
          "output_type": "stream",
          "text": [
            "Вектор весов:\n",
            " [14.01943426  3.92231475  2.82193654 -0.0326486 ]\n"
          ]
        }
      ],
      "source": [
        "print(f'Вектор весов:\\n {w}')"
      ]
    },
    {
      "cell_type": "markdown",
      "metadata": {
        "id": "qabzMc3Qa_a5"
      },
      "source": [
        "**Выведите среднеквадратичную ошибку на последней итерации.**"
      ]
    },
    {
      "cell_type": "code",
      "execution_count": 19,
      "metadata": {
        "id": "7tPWleMIa_a7"
      },
      "outputs": [
        {
          "name": "stdout",
          "output_type": "stream",
          "text": [
            "Среднеквадратичная ошибка на последней итерации:\n",
            " 1.0730595740456014e-11\n"
          ]
        }
      ],
      "source": [
        "print(f'Среднеквадратичная ошибка на последней итерации:\\n {errors[-1][0]}')  "
      ]
    },
    {
      "cell_type": "code",
      "execution_count": 20,
      "metadata": {},
      "outputs": [
        {
          "name": "stdout",
          "output_type": "stream",
          "text": [
            "Метрика MSE: [2.78493236]\n",
            "Метрика MAE: [1.25089949]\n"
          ]
        }
      ],
      "source": [
        "# доплнительно выведем метрики MSE и MAE для всех данных\n",
        "print(f'Метрика MSE: {mse_error(y,lin_pred(X,w))}')\n",
        "print(f'Метрика MAE: {sum(abs(y - lin_pred(X,w)))/(len(y))}')"
      ]
    },
    {
      "attachments": {},
      "cell_type": "markdown",
      "metadata": {},
      "source": [
        "**Выводы:**\n",
        "- был реализован алгоритм стохастического градиентного спуска\n",
        "- получены следующие результаты:\n",
        "    - вектор весов: [14.01943426  3.92231475  2.82193654 -0.0326486 ]\n",
        "    - MSE на последней итерации 1.0730595740456014e-11\n",
        "    - метрики MSE и MAE 2.78493236 и 1.25089949 соответственно\n",
        "    - выполнено 53433 итерации\n",
        "- судя по всему алгоритм сошелся\n",
        "- итоговые метрика MSE значительно превысила метрику наивного прогноза\n",
        "- к сожалению, у меня нет уверенности, что в алгоритме не были допущены ошибки, поэтому полагаю полезным выполнить повторный градиентный спуск, но уже с использованием библиотеки *sklearn* и сравнить полученные результаты"
      ]
    },
    {
      "attachments": {},
      "cell_type": "markdown",
      "metadata": {},
      "source": [
        "***"
      ]
    },
    {
      "attachments": {},
      "cell_type": "markdown",
      "metadata": {},
      "source": [
        "## Дополнительно \n",
        "Реализуем градиентный стохастический спуск, используя библиотеку *sklearn*"
      ]
    },
    {
      "cell_type": "code",
      "execution_count": 21,
      "metadata": {},
      "outputs": [
        {
          "name": "stdout",
          "output_type": "stream",
          "text": [
            "Коэффициенты модели: \n",
            " [ 7.01303463e+00  3.91928092e+00  2.77105569e+00 -2.68402363e-03]\n",
            "Метрика MSE модели: 2.7847318327990713\n",
            "Метрика MAE модели: 1.2526695939326524\n"
          ]
        }
      ],
      "source": [
        "# создаем и обучаем модель\n",
        "reg = SGDRegressor(max_iter=100000)\n",
        "reg.fit(X,y)\n",
        "\n",
        "# предсказываем таргет\n",
        "y_predict = reg.predict(X)\n",
        "\n",
        "# вычисляем метрики MSE и MAE\n",
        "model_mse = metrics.mean_squared_error(y,y_predict)\n",
        "model_mae = metrics.mean_absolute_error(y,y_predict)\n",
        "\n",
        "# выводим полученные данные\n",
        "print(f'Коэффициенты модели: \\n {reg.coef_}')\n",
        "print(f'Метрика MSE модели: {model_mse}')\n",
        "print(f'Метрика MAE модели: {model_mae}')"
      ]
    },
    {
      "attachments": {},
      "cell_type": "markdown",
      "metadata": {},
      "source": [
        "**Выводы:**\n",
        "- при реализации градиентного спуска с использованием библиотеки *sklearn* были получены следующие результаты:\n",
        "    - вектор весов: [ 7.01303463e+00  3.91928092e+00  2.77105569e+00 -2.68402363e-03]\n",
        "    - метрики MSE и MAE 2.7847318327990713 и 1.2526695939326524 соответственно\n",
        "- метрики совпадают до 2-го знака после запятой включительно, веса различаются\n",
        "- вероятно, это говорит о том, что оба алгоритма (наш ручной и библиотеки *sklearn*) сошлись на одном уровне (об это говорят практически одинаковые метрики MSE), но в разных точках пространства (об этом говорят разные вектора весов). Другими словами, оба алгоритма застряли в разных минимумах, которые имеют примерно одинаковую глубину."
      ]
    }
  ],
  "metadata": {
    "colab": {
      "collapsed_sections": [],
      "name": "Практика_Оптимизация.ipynb",
      "provenance": [],
      "toc_visible": true
    },
    "kernelspec": {
      "display_name": "Python 3.10.8 ('base')",
      "language": "python",
      "name": "python3"
    },
    "language_info": {
      "codemirror_mode": {
        "name": "ipython",
        "version": 3
      },
      "file_extension": ".py",
      "mimetype": "text/x-python",
      "name": "python",
      "nbconvert_exporter": "python",
      "pygments_lexer": "ipython3",
      "version": "3.9.16"
    },
    "vscode": {
      "interpreter": {
        "hash": "86c56a74836ad344b00594bf6f38fa6a676a207ceefe20d101fbc465800ccb8d"
      }
    }
  },
  "nbformat": 4,
  "nbformat_minor": 0
}
