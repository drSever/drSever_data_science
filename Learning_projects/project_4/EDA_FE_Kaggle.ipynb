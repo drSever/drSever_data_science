{
 "cells": [
  {
   "cell_type": "markdown",
   "id": "4210c3f6",
   "metadata": {},
   "source": [
    "# PROJECT-3. EDA + Feature Engineering. Соревнование на Kaggle\n",
    "Александр Журавлев DST-120   \n",
    "**Aleksandr_DSSF** - профиль на Kaggle "
   ]
  },
  {
   "cell_type": "markdown",
   "id": "804389fa",
   "metadata": {},
   "source": [
    "***"
   ]
  },
  {
   "cell_type": "markdown",
   "id": "ac028723",
   "metadata": {},
   "source": [
    "**Цель.** В этом модуле вы будете работать с датасетом, в котором содержатся сведения о 515 000 отзывов на отели Европы. Модель, которую вы будете обучать, должна предсказывать рейтинг отеля по данным сайта Booking на основе имеющихся в датасете данных. Изученные нами навыки разведывательного анализа помогут улучшить модель.  \n",
    "\n",
    "Первоначальная версия датасета содержит 17 полей со следующей информацией:\n",
    "- **hotel_address** — адрес отеля;\n",
    "- **review_date** — дата, когда рецензент разместил соответствующий отзыв;\n",
    "- **average_score** — средний балл отеля, рассчитанный на основе последнего комментария за последний год;\n",
    "- **hotel_name** — название отеля;\n",
    "- **reviewer_nationality** — страна рецензента;\n",
    "- **negative_review** — отрицательный отзыв, который рецензент дал отелю;\n",
    "- **review_total_negative_word_counts** — общее количество слов в отрицательном отзыв;\n",
    "- **positive_review** — положительный отзыв, который рецензент дал отелю;\n",
    "- **review_total_positive_word_counts** — общее количество слов в положительном отзыве;\n",
    "- **reviewer_score** — оценка, которую рецензент поставил отелю на основе своего опыта;\n",
    "- **total_number_of_reviews_reviewer_has_given** — количество отзывов, которые рецензенты дали в прошлом;\n",
    "- **total_number_of_reviews** — общее количество действительных отзывов об отеле;\n",
    "- **tags** — теги, которые рецензент дал отелю;\n",
    "- **days_since_review** — количество дней между датой проверки и датой очистки;\n",
    "- **additional_number_of_scoring** — есть также некоторые гости, которые просто поставили оценку сервису, но не оставили отзыв. Это число указывает, сколько там действительных оценок без проверки.\n",
    "- **lat** — географическая широта отеля;\n",
    "- **lng** — географическая долгота отеля."
   ]
  },
  {
   "cell_type": "markdown",
   "id": "dae6ae29",
   "metadata": {},
   "source": [
    "***"
   ]
  },
  {
   "cell_type": "markdown",
   "id": "66f150d8",
   "metadata": {},
   "source": [
    "## 1. Импортируем библиотеки."
   ]
  },
  {
   "cell_type": "code",
   "execution_count": 1,
   "id": "7b29af75",
   "metadata": {},
   "outputs": [],
   "source": [
    "# This Python 3 environment comes with many helpful analytics libraries installed\n",
    "# It is defined by the kaggle/python Docker image: https://github.com/kaggle/docker-python\n",
    "# For example, here's several helpful packages to load\n",
    "\n",
    "import pandas as pd\n",
    "import numpy as np\n",
    "\n",
    "# для визуализации\n",
    "import seaborn as sns\n",
    "from matplotlib import pyplot as plt\n",
    "\n",
    "# убрать предупреждения\n",
    "import warnings\n",
    "warnings.simplefilter(action='ignore', category=FutureWarning)\n",
    "\n",
    "# для получения координат по названию города и страны\n",
    "from geopy.geocoders import Nominatim\n",
    "\n",
    "# для анализа текста\n",
    "import nltk\n",
    "# nltk.download()\n",
    "#nltk.download('vader_lexicon')\n",
    "import re\n",
    "from nltk.corpus import stopwords\n",
    "from nltk.stem.porter import PorterStemmer\n",
    "from nltk.sentiment.vader import SentimentIntensityAnalyzer\n",
    "from afinn import Afinn\n",
    "\n",
    "# импортируем класс Counter из модуля collections\n",
    "from collections import Counter\n",
    "\n",
    "# импорт для работы с кодировщиком\n",
    "import category_encoders as ce \n",
    "\n",
    "# Загружаем специальный инструмент для разбивки:  \n",
    "from sklearn.model_selection import train_test_split \n",
    "\n",
    "from sklearn.feature_selection import chi2 # хи-квадрат\n",
    "from sklearn.feature_selection import f_classif # anova\n",
    "\n",
    "# для нормализации, стандартизации\n",
    "from sklearn import preprocessing\n",
    "\n",
    "# Импортируем библиотеки для создания и обучения модели:  \n",
    "from sklearn.ensemble import RandomForestRegressor # инструмент для создания и обучения модели  \n",
    "from sklearn import metrics # инструменты для оценки точности модели  \n",
    "\n",
    "# Input data files are available in the read-only \"../input/\" directory\n",
    "# For example, running this (by clicking run or pressing Shift+Enter) will list all files under the input directory\n",
    "\n",
    "import os\n",
    "for dirname, _, filenames in os.walk('/kaggle/input'):\n",
    "    for filename in filenames:\n",
    "        print(os.path.join(dirname, filename))\n",
    "\n",
    "# You can write up to 20GB to the current directory (/kaggle/working/) that gets preserved as output when you create a version using \"Save & Run All\" \n",
    "# You can also write temporary files to /kaggle/temp/, but they won't be saved outside of the current session"
   ]
  },
  {
   "cell_type": "code",
   "execution_count": 2,
   "id": "326bd2d8",
   "metadata": {
    "execution": {
     "iopub.execute_input": "2022-10-01T20:28:43.482945Z",
     "iopub.status.busy": "2022-10-01T20:28:43.481501Z",
     "iopub.status.idle": "2022-10-01T20:28:43.485763Z",
     "shell.execute_reply": "2022-10-01T20:28:43.485254Z",
     "shell.execute_reply.started": "2022-10-01T20:19:14.285668Z"
    },
    "papermill": {
     "duration": 0.105503,
     "end_time": "2022-10-01T20:28:43.485966",
     "exception": false,
     "start_time": "2022-10-01T20:28:43.380463",
     "status": "completed"
    },
    "tags": []
   },
   "outputs": [],
   "source": [
    "# всегда фиксируйте RANDOM_SEED, чтобы ваши эксперименты были воспроизводимы!\n",
    "RANDOM_SEED = 42"
   ]
  },
  {
   "cell_type": "code",
   "execution_count": 3,
   "id": "eb61b8ee",
   "metadata": {
    "execution": {
     "iopub.execute_input": "2022-10-01T20:28:43.685689Z",
     "iopub.status.busy": "2022-10-01T20:28:43.685003Z",
     "iopub.status.idle": "2022-10-01T20:28:48.526815Z",
     "shell.execute_reply": "2022-10-01T20:28:48.526143Z",
     "shell.execute_reply.started": "2022-10-01T20:19:14.294920Z"
    },
    "papermill": {
     "duration": 4.943931,
     "end_time": "2022-10-01T20:28:48.527009",
     "exception": false,
     "start_time": "2022-10-01T20:28:43.583078",
     "status": "completed"
    },
    "tags": []
   },
   "outputs": [],
   "source": [
    "# зафиксируем версию пакетов, чтобы эксперименты были воспроизводимы:\n",
    "!pip freeze > requirements.txt"
   ]
  },
  {
   "cell_type": "markdown",
   "id": "29d38b90",
   "metadata": {},
   "source": [
    "***"
   ]
  },
  {
   "cell_type": "markdown",
   "id": "7ca04119",
   "metadata": {},
   "source": [
    "## 2. Загрузка данных."
   ]
  },
  {
   "cell_type": "markdown",
   "id": "48e3c9e9",
   "metadata": {},
   "source": [
    "### 2.1. Загрузка данных с Kaggle."
   ]
  },
  {
   "cell_type": "code",
   "execution_count": 4,
   "id": "ad15252b",
   "metadata": {
    "execution": {
     "iopub.execute_input": "2022-10-01T20:28:48.733379Z",
     "iopub.status.busy": "2022-10-01T20:28:48.732563Z",
     "iopub.status.idle": "2022-10-01T20:28:56.665256Z",
     "shell.execute_reply": "2022-10-01T20:28:56.664382Z",
     "shell.execute_reply.started": "2022-10-01T20:19:17.573984Z"
    },
    "papermill": {
     "duration": 8.040161,
     "end_time": "2022-10-01T20:28:56.665446",
     "exception": false,
     "start_time": "2022-10-01T20:28:48.625285",
     "status": "completed"
    },
    "tags": []
   },
   "outputs": [],
   "source": [
    "# Подгрузим наши данные из соревнования\n",
    "\n",
    "#DATA_DIR = '/kaggle/input/sf-booking/'\n",
    "#df_train = pd.read_csv(DATA_DIR+'/hotels_train.csv') # датасет для обучения\n",
    "#df_test = pd.read_csv(DATA_DIR+'hotels_test.csv') # датасет для предсказания\n",
    "#sample_submission = pd.read_csv(DATA_DIR+'/submission.csv') # самбмишн"
   ]
  },
  {
   "cell_type": "markdown",
   "id": "2f29a616",
   "metadata": {},
   "source": [
    "### 2.2. Локальная загрузка данных."
   ]
  },
  {
   "cell_type": "code",
   "execution_count": 5,
   "id": "8c20a22b",
   "metadata": {},
   "outputs": [],
   "source": [
    "DATA_DIR = 'sf-booking/'\n",
    "df_train = pd.read_csv(DATA_DIR+'/hotels_train.csv') # датасет для обучения\n",
    "df_test = pd.read_csv(DATA_DIR+'hotels_test.csv') # датасет для предсказания\n",
    "sample_submission = pd.read_csv(DATA_DIR+'/submission.csv') # самбмишн"
   ]
  },
  {
   "cell_type": "markdown",
   "id": "750ad465",
   "metadata": {},
   "source": [
    "***"
   ]
  },
  {
   "cell_type": "markdown",
   "id": "7af4a779",
   "metadata": {},
   "source": [
    "## 3. Знакомство с данными."
   ]
  },
  {
   "cell_type": "code",
   "execution_count": 6,
   "id": "65f11e35",
   "metadata": {
    "execution": {
     "iopub.execute_input": "2022-10-01T20:28:57.085960Z",
     "iopub.status.busy": "2022-10-01T20:28:57.085235Z",
     "iopub.status.idle": "2022-10-01T20:28:57.282668Z",
     "shell.execute_reply": "2022-10-01T20:28:57.282078Z",
     "shell.execute_reply.started": "2022-10-01T20:19:21.106594Z"
    },
    "papermill": {
     "duration": 0.307095,
     "end_time": "2022-10-01T20:28:57.282868",
     "exception": false,
     "start_time": "2022-10-01T20:28:56.975773",
     "status": "completed"
    },
    "tags": []
   },
   "outputs": [
    {
     "name": "stdout",
     "output_type": "stream",
     "text": [
      "<class 'pandas.core.frame.DataFrame'>\n",
      "RangeIndex: 386803 entries, 0 to 386802\n",
      "Data columns (total 17 columns):\n",
      " #   Column                                      Non-Null Count   Dtype  \n",
      "---  ------                                      --------------   -----  \n",
      " 0   hotel_address                               386803 non-null  object \n",
      " 1   additional_number_of_scoring                386803 non-null  int64  \n",
      " 2   review_date                                 386803 non-null  object \n",
      " 3   average_score                               386803 non-null  float64\n",
      " 4   hotel_name                                  386803 non-null  object \n",
      " 5   reviewer_nationality                        386803 non-null  object \n",
      " 6   negative_review                             386803 non-null  object \n",
      " 7   review_total_negative_word_counts           386803 non-null  int64  \n",
      " 8   total_number_of_reviews                     386803 non-null  int64  \n",
      " 9   positive_review                             386803 non-null  object \n",
      " 10  review_total_positive_word_counts           386803 non-null  int64  \n",
      " 11  total_number_of_reviews_reviewer_has_given  386803 non-null  int64  \n",
      " 12  reviewer_score                              386803 non-null  float64\n",
      " 13  tags                                        386803 non-null  object \n",
      " 14  days_since_review                           386803 non-null  object \n",
      " 15  lat                                         384355 non-null  float64\n",
      " 16  lng                                         384355 non-null  float64\n",
      "dtypes: float64(4), int64(5), object(8)\n",
      "memory usage: 50.2+ MB\n"
     ]
    }
   ],
   "source": [
    "df_train.info()"
   ]
  },
  {
   "cell_type": "code",
   "execution_count": 7,
   "id": "aa8ed405",
   "metadata": {
    "execution": {
     "iopub.execute_input": "2022-10-01T20:28:57.491150Z",
     "iopub.status.busy": "2022-10-01T20:28:57.490108Z",
     "iopub.status.idle": "2022-10-01T20:28:57.514351Z",
     "shell.execute_reply": "2022-10-01T20:28:57.514918Z",
     "shell.execute_reply.started": "2022-10-01T20:19:21.287629Z"
    },
    "papermill": {
     "duration": 0.132102,
     "end_time": "2022-10-01T20:28:57.515134",
     "exception": false,
     "start_time": "2022-10-01T20:28:57.383032",
     "status": "completed"
    },
    "tags": []
   },
   "outputs": [
    {
     "data": {
      "text/html": [
       "<div>\n",
       "<style scoped>\n",
       "    .dataframe tbody tr th:only-of-type {\n",
       "        vertical-align: middle;\n",
       "    }\n",
       "\n",
       "    .dataframe tbody tr th {\n",
       "        vertical-align: top;\n",
       "    }\n",
       "\n",
       "    .dataframe thead th {\n",
       "        text-align: right;\n",
       "    }\n",
       "</style>\n",
       "<table border=\"1\" class=\"dataframe\">\n",
       "  <thead>\n",
       "    <tr style=\"text-align: right;\">\n",
       "      <th></th>\n",
       "      <th>hotel_address</th>\n",
       "      <th>additional_number_of_scoring</th>\n",
       "      <th>review_date</th>\n",
       "      <th>average_score</th>\n",
       "      <th>hotel_name</th>\n",
       "      <th>reviewer_nationality</th>\n",
       "      <th>negative_review</th>\n",
       "      <th>review_total_negative_word_counts</th>\n",
       "      <th>total_number_of_reviews</th>\n",
       "      <th>positive_review</th>\n",
       "      <th>review_total_positive_word_counts</th>\n",
       "      <th>total_number_of_reviews_reviewer_has_given</th>\n",
       "      <th>reviewer_score</th>\n",
       "      <th>tags</th>\n",
       "      <th>days_since_review</th>\n",
       "      <th>lat</th>\n",
       "      <th>lng</th>\n",
       "    </tr>\n",
       "  </thead>\n",
       "  <tbody>\n",
       "    <tr>\n",
       "      <th>0</th>\n",
       "      <td>Stratton Street Mayfair Westminster Borough Lo...</td>\n",
       "      <td>581</td>\n",
       "      <td>2/19/2016</td>\n",
       "      <td>8.4</td>\n",
       "      <td>The May Fair Hotel</td>\n",
       "      <td>United Kingdom</td>\n",
       "      <td>Leaving</td>\n",
       "      <td>3</td>\n",
       "      <td>1994</td>\n",
       "      <td>Staff were amazing</td>\n",
       "      <td>4</td>\n",
       "      <td>7</td>\n",
       "      <td>10.0</td>\n",
       "      <td>[' Leisure trip ', ' Couple ', ' Studio Suite ...</td>\n",
       "      <td>531 day</td>\n",
       "      <td>51.507894</td>\n",
       "      <td>-0.143671</td>\n",
       "    </tr>\n",
       "    <tr>\n",
       "      <th>1</th>\n",
       "      <td>130 134 Southampton Row Camden London WC1B 5AF...</td>\n",
       "      <td>299</td>\n",
       "      <td>1/12/2017</td>\n",
       "      <td>8.3</td>\n",
       "      <td>Mercure London Bloomsbury Hotel</td>\n",
       "      <td>United Kingdom</td>\n",
       "      <td>poor breakfast</td>\n",
       "      <td>3</td>\n",
       "      <td>1361</td>\n",
       "      <td>location</td>\n",
       "      <td>2</td>\n",
       "      <td>14</td>\n",
       "      <td>6.3</td>\n",
       "      <td>[' Business trip ', ' Couple ', ' Standard Dou...</td>\n",
       "      <td>203 day</td>\n",
       "      <td>51.521009</td>\n",
       "      <td>-0.123097</td>\n",
       "    </tr>\n",
       "  </tbody>\n",
       "</table>\n",
       "</div>"
      ],
      "text/plain": [
       "                                       hotel_address  \\\n",
       "0  Stratton Street Mayfair Westminster Borough Lo...   \n",
       "1  130 134 Southampton Row Camden London WC1B 5AF...   \n",
       "\n",
       "   additional_number_of_scoring review_date  average_score  \\\n",
       "0                           581   2/19/2016            8.4   \n",
       "1                           299   1/12/2017            8.3   \n",
       "\n",
       "                        hotel_name reviewer_nationality  negative_review  \\\n",
       "0               The May Fair Hotel      United Kingdom          Leaving    \n",
       "1  Mercure London Bloomsbury Hotel      United Kingdom    poor breakfast   \n",
       "\n",
       "   review_total_negative_word_counts  total_number_of_reviews  \\\n",
       "0                                  3                     1994   \n",
       "1                                  3                     1361   \n",
       "\n",
       "       positive_review  review_total_positive_word_counts  \\\n",
       "0   Staff were amazing                                  4   \n",
       "1             location                                  2   \n",
       "\n",
       "   total_number_of_reviews_reviewer_has_given  reviewer_score  \\\n",
       "0                                           7            10.0   \n",
       "1                                          14             6.3   \n",
       "\n",
       "                                                tags days_since_review  \\\n",
       "0  [' Leisure trip ', ' Couple ', ' Studio Suite ...           531 day   \n",
       "1  [' Business trip ', ' Couple ', ' Standard Dou...           203 day   \n",
       "\n",
       "         lat       lng  \n",
       "0  51.507894 -0.143671  \n",
       "1  51.521009 -0.123097  "
      ]
     },
     "execution_count": 7,
     "metadata": {},
     "output_type": "execute_result"
    }
   ],
   "source": [
    "df_train.head(2)"
   ]
  },
  {
   "cell_type": "code",
   "execution_count": 8,
   "id": "126cf981",
   "metadata": {
    "execution": {
     "iopub.execute_input": "2022-10-01T20:28:57.718591Z",
     "iopub.status.busy": "2022-10-01T20:28:57.717808Z",
     "iopub.status.idle": "2022-10-01T20:28:57.781259Z",
     "shell.execute_reply": "2022-10-01T20:28:57.781820Z",
     "shell.execute_reply.started": "2022-10-01T20:19:21.310487Z"
    },
    "papermill": {
     "duration": 0.16827,
     "end_time": "2022-10-01T20:28:57.782058",
     "exception": false,
     "start_time": "2022-10-01T20:28:57.613788",
     "status": "completed"
    },
    "tags": []
   },
   "outputs": [
    {
     "name": "stdout",
     "output_type": "stream",
     "text": [
      "<class 'pandas.core.frame.DataFrame'>\n",
      "RangeIndex: 128935 entries, 0 to 128934\n",
      "Data columns (total 16 columns):\n",
      " #   Column                                      Non-Null Count   Dtype  \n",
      "---  ------                                      --------------   -----  \n",
      " 0   hotel_address                               128935 non-null  object \n",
      " 1   additional_number_of_scoring                128935 non-null  int64  \n",
      " 2   review_date                                 128935 non-null  object \n",
      " 3   average_score                               128935 non-null  float64\n",
      " 4   hotel_name                                  128935 non-null  object \n",
      " 5   reviewer_nationality                        128935 non-null  object \n",
      " 6   negative_review                             128935 non-null  object \n",
      " 7   review_total_negative_word_counts           128935 non-null  int64  \n",
      " 8   total_number_of_reviews                     128935 non-null  int64  \n",
      " 9   positive_review                             128935 non-null  object \n",
      " 10  review_total_positive_word_counts           128935 non-null  int64  \n",
      " 11  total_number_of_reviews_reviewer_has_given  128935 non-null  int64  \n",
      " 12  tags                                        128935 non-null  object \n",
      " 13  days_since_review                           128935 non-null  object \n",
      " 14  lat                                         128115 non-null  float64\n",
      " 15  lng                                         128115 non-null  float64\n",
      "dtypes: float64(3), int64(5), object(8)\n",
      "memory usage: 15.7+ MB\n"
     ]
    }
   ],
   "source": [
    "df_test.info()"
   ]
  },
  {
   "cell_type": "code",
   "execution_count": 9,
   "id": "86f18081",
   "metadata": {
    "execution": {
     "iopub.execute_input": "2022-10-01T20:28:57.985359Z",
     "iopub.status.busy": "2022-10-01T20:28:57.984358Z",
     "iopub.status.idle": "2022-10-01T20:28:58.001410Z",
     "shell.execute_reply": "2022-10-01T20:28:58.001998Z",
     "shell.execute_reply.started": "2022-10-01T20:19:21.382168Z"
    },
    "papermill": {
     "duration": 0.120119,
     "end_time": "2022-10-01T20:28:58.002180",
     "exception": false,
     "start_time": "2022-10-01T20:28:57.882061",
     "status": "completed"
    },
    "tags": []
   },
   "outputs": [
    {
     "data": {
      "text/html": [
       "<div>\n",
       "<style scoped>\n",
       "    .dataframe tbody tr th:only-of-type {\n",
       "        vertical-align: middle;\n",
       "    }\n",
       "\n",
       "    .dataframe tbody tr th {\n",
       "        vertical-align: top;\n",
       "    }\n",
       "\n",
       "    .dataframe thead th {\n",
       "        text-align: right;\n",
       "    }\n",
       "</style>\n",
       "<table border=\"1\" class=\"dataframe\">\n",
       "  <thead>\n",
       "    <tr style=\"text-align: right;\">\n",
       "      <th></th>\n",
       "      <th>hotel_address</th>\n",
       "      <th>additional_number_of_scoring</th>\n",
       "      <th>review_date</th>\n",
       "      <th>average_score</th>\n",
       "      <th>hotel_name</th>\n",
       "      <th>reviewer_nationality</th>\n",
       "      <th>negative_review</th>\n",
       "      <th>review_total_negative_word_counts</th>\n",
       "      <th>total_number_of_reviews</th>\n",
       "      <th>positive_review</th>\n",
       "      <th>review_total_positive_word_counts</th>\n",
       "      <th>total_number_of_reviews_reviewer_has_given</th>\n",
       "      <th>tags</th>\n",
       "      <th>days_since_review</th>\n",
       "      <th>lat</th>\n",
       "      <th>lng</th>\n",
       "    </tr>\n",
       "  </thead>\n",
       "  <tbody>\n",
       "    <tr>\n",
       "      <th>0</th>\n",
       "      <td>Via Senigallia 6 20161 Milan Italy</td>\n",
       "      <td>904</td>\n",
       "      <td>7/21/2017</td>\n",
       "      <td>8.1</td>\n",
       "      <td>Hotel Da Vinci</td>\n",
       "      <td>United Kingdom</td>\n",
       "      <td>Would have appreciated a shop in the hotel th...</td>\n",
       "      <td>52</td>\n",
       "      <td>16670</td>\n",
       "      <td>Hotel was great clean friendly staff free bre...</td>\n",
       "      <td>62</td>\n",
       "      <td>1</td>\n",
       "      <td>[' Leisure trip ', ' Couple ', ' Double Room '...</td>\n",
       "      <td>13 days</td>\n",
       "      <td>45.533137</td>\n",
       "      <td>9.171102</td>\n",
       "    </tr>\n",
       "    <tr>\n",
       "      <th>1</th>\n",
       "      <td>Arlandaweg 10 Westpoort 1043 EW Amsterdam Neth...</td>\n",
       "      <td>612</td>\n",
       "      <td>12/12/2016</td>\n",
       "      <td>8.6</td>\n",
       "      <td>Urban Lodge Hotel</td>\n",
       "      <td>Belgium</td>\n",
       "      <td>No tissue paper box was present at the room</td>\n",
       "      <td>10</td>\n",
       "      <td>5018</td>\n",
       "      <td>No Positive</td>\n",
       "      <td>0</td>\n",
       "      <td>7</td>\n",
       "      <td>[' Leisure trip ', ' Group ', ' Triple Room ',...</td>\n",
       "      <td>234 day</td>\n",
       "      <td>52.385649</td>\n",
       "      <td>4.834443</td>\n",
       "    </tr>\n",
       "  </tbody>\n",
       "</table>\n",
       "</div>"
      ],
      "text/plain": [
       "                                       hotel_address  \\\n",
       "0                 Via Senigallia 6 20161 Milan Italy   \n",
       "1  Arlandaweg 10 Westpoort 1043 EW Amsterdam Neth...   \n",
       "\n",
       "   additional_number_of_scoring review_date  average_score         hotel_name  \\\n",
       "0                           904   7/21/2017            8.1     Hotel Da Vinci   \n",
       "1                           612  12/12/2016            8.6  Urban Lodge Hotel   \n",
       "\n",
       "  reviewer_nationality                                    negative_review  \\\n",
       "0      United Kingdom    Would have appreciated a shop in the hotel th...   \n",
       "1             Belgium         No tissue paper box was present at the room   \n",
       "\n",
       "   review_total_negative_word_counts  total_number_of_reviews  \\\n",
       "0                                 52                    16670   \n",
       "1                                 10                     5018   \n",
       "\n",
       "                                     positive_review  \\\n",
       "0   Hotel was great clean friendly staff free bre...   \n",
       "1                                        No Positive   \n",
       "\n",
       "   review_total_positive_word_counts  \\\n",
       "0                                 62   \n",
       "1                                  0   \n",
       "\n",
       "   total_number_of_reviews_reviewer_has_given  \\\n",
       "0                                           1   \n",
       "1                                           7   \n",
       "\n",
       "                                                tags days_since_review  \\\n",
       "0  [' Leisure trip ', ' Couple ', ' Double Room '...           13 days   \n",
       "1  [' Leisure trip ', ' Group ', ' Triple Room ',...           234 day   \n",
       "\n",
       "         lat       lng  \n",
       "0  45.533137  9.171102  \n",
       "1  52.385649  4.834443  "
      ]
     },
     "execution_count": 9,
     "metadata": {},
     "output_type": "execute_result"
    }
   ],
   "source": [
    "df_test.head(2)"
   ]
  },
  {
   "cell_type": "code",
   "execution_count": 10,
   "id": "48af1f95",
   "metadata": {
    "execution": {
     "iopub.execute_input": "2022-10-01T20:28:58.203664Z",
     "iopub.status.busy": "2022-10-01T20:28:58.202653Z",
     "iopub.status.idle": "2022-10-01T20:28:58.212447Z",
     "shell.execute_reply": "2022-10-01T20:28:58.211940Z",
     "shell.execute_reply.started": "2022-10-01T20:19:21.401162Z"
    },
    "papermill": {
     "duration": 0.111656,
     "end_time": "2022-10-01T20:28:58.212605",
     "exception": false,
     "start_time": "2022-10-01T20:28:58.100949",
     "status": "completed"
    },
    "tags": []
   },
   "outputs": [
    {
     "data": {
      "text/html": [
       "<div>\n",
       "<style scoped>\n",
       "    .dataframe tbody tr th:only-of-type {\n",
       "        vertical-align: middle;\n",
       "    }\n",
       "\n",
       "    .dataframe tbody tr th {\n",
       "        vertical-align: top;\n",
       "    }\n",
       "\n",
       "    .dataframe thead th {\n",
       "        text-align: right;\n",
       "    }\n",
       "</style>\n",
       "<table border=\"1\" class=\"dataframe\">\n",
       "  <thead>\n",
       "    <tr style=\"text-align: right;\">\n",
       "      <th></th>\n",
       "      <th>reviewer_score</th>\n",
       "      <th>id</th>\n",
       "    </tr>\n",
       "  </thead>\n",
       "  <tbody>\n",
       "    <tr>\n",
       "      <th>0</th>\n",
       "      <td>1</td>\n",
       "      <td>488440</td>\n",
       "    </tr>\n",
       "    <tr>\n",
       "      <th>1</th>\n",
       "      <td>10</td>\n",
       "      <td>274649</td>\n",
       "    </tr>\n",
       "  </tbody>\n",
       "</table>\n",
       "</div>"
      ],
      "text/plain": [
       "   reviewer_score      id\n",
       "0               1  488440\n",
       "1              10  274649"
      ]
     },
     "execution_count": 10,
     "metadata": {},
     "output_type": "execute_result"
    }
   ],
   "source": [
    "sample_submission.head(2)"
   ]
  },
  {
   "cell_type": "code",
   "execution_count": 11,
   "id": "a15aa776",
   "metadata": {
    "execution": {
     "iopub.execute_input": "2022-10-01T20:28:58.418703Z",
     "iopub.status.busy": "2022-10-01T20:28:58.417706Z",
     "iopub.status.idle": "2022-10-01T20:28:58.428668Z",
     "shell.execute_reply": "2022-10-01T20:28:58.429262Z",
     "shell.execute_reply.started": "2022-10-01T20:19:21.417141Z"
    },
    "papermill": {
     "duration": 0.115938,
     "end_time": "2022-10-01T20:28:58.429446",
     "exception": false,
     "start_time": "2022-10-01T20:28:58.313508",
     "status": "completed"
    },
    "tags": []
   },
   "outputs": [
    {
     "name": "stdout",
     "output_type": "stream",
     "text": [
      "<class 'pandas.core.frame.DataFrame'>\n",
      "RangeIndex: 128935 entries, 0 to 128934\n",
      "Data columns (total 2 columns):\n",
      " #   Column          Non-Null Count   Dtype\n",
      "---  ------          --------------   -----\n",
      " 0   reviewer_score  128935 non-null  int64\n",
      " 1   id              128935 non-null  int64\n",
      "dtypes: int64(2)\n",
      "memory usage: 2.0 MB\n"
     ]
    }
   ],
   "source": [
    "sample_submission.info()"
   ]
  },
  {
   "cell_type": "markdown",
   "id": "7be1cef2",
   "metadata": {},
   "source": [
    "***"
   ]
  },
  {
   "cell_type": "markdown",
   "id": "7e9114fc",
   "metadata": {},
   "source": [
    "## 4. Объединяем трейн и тест в один датасет."
   ]
  },
  {
   "cell_type": "code",
   "execution_count": 12,
   "id": "0b8b074f",
   "metadata": {
    "execution": {
     "iopub.execute_input": "2022-10-01T20:28:58.638156Z",
     "iopub.status.busy": "2022-10-01T20:28:58.637436Z",
     "iopub.status.idle": "2022-10-01T20:28:59.271596Z",
     "shell.execute_reply": "2022-10-01T20:28:59.270973Z",
     "shell.execute_reply.started": "2022-10-01T20:19:21.438536Z"
    },
    "papermill": {
     "duration": 0.740862,
     "end_time": "2022-10-01T20:28:59.271789",
     "exception": false,
     "start_time": "2022-10-01T20:28:58.530927",
     "status": "completed"
    },
    "tags": []
   },
   "outputs": [],
   "source": [
    "# ВАЖНО! Для корректной обработки признаков объединяем трейн и тест в один датасет.\n",
    "df_train['sample'] = 1 # помечаем где у нас трейн\n",
    "df_test['sample'] = 0 # помечаем где у нас тест\n",
    "df_test['reviewer_score'] = 0 # в тесте у нас нет значения reviewer_score, мы его должны предсказать, по этому пока просто заполняем нулями\n",
    "\n",
    "hotels = df_test.append(df_train, sort=False).reset_index(drop=True) # объединяем"
   ]
  },
  {
   "cell_type": "markdown",
   "id": "1d0c11af",
   "metadata": {
    "papermill": {
     "duration": 0.102135,
     "end_time": "2022-10-01T20:28:59.477646",
     "exception": false,
     "start_time": "2022-10-01T20:28:59.375511",
     "status": "completed"
    },
    "tags": []
   },
   "source": [
    "***\n",
    "***"
   ]
  },
  {
   "cell_type": "markdown",
   "id": "dffd586b",
   "metadata": {
    "papermill": {
     "duration": 0.10249,
     "end_time": "2022-10-01T20:28:59.681439",
     "exception": false,
     "start_time": "2022-10-01T20:28:59.578949",
     "status": "completed"
    },
    "tags": []
   },
   "source": [
    "## 5. Предварительно оценим наш датасет."
   ]
  },
  {
   "cell_type": "code",
   "execution_count": 13,
   "id": "ae5d7f88",
   "metadata": {
    "execution": {
     "iopub.execute_input": "2022-10-01T20:28:59.894464Z",
     "iopub.status.busy": "2022-10-01T20:28:59.893643Z",
     "iopub.status.idle": "2022-10-01T20:29:00.109507Z",
     "shell.execute_reply": "2022-10-01T20:29:00.108087Z",
     "shell.execute_reply.started": "2022-10-01T20:19:21.990748Z"
    },
    "papermill": {
     "duration": 0.3244,
     "end_time": "2022-10-01T20:29:00.109802",
     "exception": false,
     "start_time": "2022-10-01T20:28:59.785402",
     "status": "completed"
    },
    "tags": []
   },
   "outputs": [
    {
     "name": "stdout",
     "output_type": "stream",
     "text": [
      "<class 'pandas.core.frame.DataFrame'>\n",
      "RangeIndex: 515738 entries, 0 to 515737\n",
      "Data columns (total 18 columns):\n",
      " #   Column                                      Non-Null Count   Dtype  \n",
      "---  ------                                      --------------   -----  \n",
      " 0   hotel_address                               515738 non-null  object \n",
      " 1   additional_number_of_scoring                515738 non-null  int64  \n",
      " 2   review_date                                 515738 non-null  object \n",
      " 3   average_score                               515738 non-null  float64\n",
      " 4   hotel_name                                  515738 non-null  object \n",
      " 5   reviewer_nationality                        515738 non-null  object \n",
      " 6   negative_review                             515738 non-null  object \n",
      " 7   review_total_negative_word_counts           515738 non-null  int64  \n",
      " 8   total_number_of_reviews                     515738 non-null  int64  \n",
      " 9   positive_review                             515738 non-null  object \n",
      " 10  review_total_positive_word_counts           515738 non-null  int64  \n",
      " 11  total_number_of_reviews_reviewer_has_given  515738 non-null  int64  \n",
      " 12  tags                                        515738 non-null  object \n",
      " 13  days_since_review                           515738 non-null  object \n",
      " 14  lat                                         512470 non-null  float64\n",
      " 15  lng                                         512470 non-null  float64\n",
      " 16  sample                                      515738 non-null  int64  \n",
      " 17  reviewer_score                              515738 non-null  float64\n",
      "dtypes: float64(4), int64(6), object(8)\n",
      "memory usage: 70.8+ MB\n"
     ]
    }
   ],
   "source": [
    "hotels.info()"
   ]
  },
  {
   "cell_type": "markdown",
   "id": "24312d1d",
   "metadata": {},
   "source": [
    "***"
   ]
  },
  {
   "cell_type": "markdown",
   "id": "5ebf1dd3",
   "metadata": {
    "papermill": {
     "duration": 0.100123,
     "end_time": "2022-10-01T20:29:00.312813",
     "exception": false,
     "start_time": "2022-10-01T20:29:00.212690",
     "status": "completed"
    },
    "tags": []
   },
   "source": [
    "## 6. Помечаем дубликаты, создав сигнальный признак **is_duplicated**"
   ]
  },
  {
   "cell_type": "markdown",
   "id": "b757ac02",
   "metadata": {},
   "source": [
    "Насколько я понял, все-таки не рекомендуется удалять дубликаты. Да и само их удаление ухудшает мою метрику. Поэтому - пометим их новым сигнальным признаком."
   ]
  },
  {
   "cell_type": "code",
   "execution_count": 14,
   "id": "50b60cdb",
   "metadata": {
    "execution": {
     "iopub.execute_input": "2022-10-01T20:29:00.531844Z",
     "iopub.status.busy": "2022-10-01T20:29:00.530987Z",
     "iopub.status.idle": "2022-10-01T20:29:01.926106Z",
     "shell.execute_reply": "2022-10-01T20:29:01.924976Z",
     "shell.execute_reply.started": "2022-10-01T20:19:22.222473Z"
    },
    "papermill": {
     "duration": 1.50983,
     "end_time": "2022-10-01T20:29:01.926289",
     "exception": false,
     "start_time": "2022-10-01T20:29:00.416459",
     "status": "completed"
    },
    "tags": []
   },
   "outputs": [
    {
     "name": "stdout",
     "output_type": "stream",
     "text": [
      "Количество помеченных дубликатов: 336\n"
     ]
    }
   ],
   "source": [
    "# найдем дубликаты\n",
    "hotels['is_duplicated'] = hotels.duplicated()\n",
    "\n",
    "# приведем признак к числовому, заполнив его нулями и пометив дупликат 1\n",
    "hotels['is_duplicated'] = hotels['is_duplicated'].astype(int)\n",
    "\n",
    "# узнаем сколько дубликатов в датасете\n",
    "duplicates_sum = hotels['is_duplicated'].sum()\n",
    "print(f'Количество помеченных дубликатов: {duplicates_sum}')"
   ]
  },
  {
   "cell_type": "markdown",
   "id": "d833cee2",
   "metadata": {},
   "source": [
    "## 7. Проверим корреляцию числовых признаков."
   ]
  },
  {
   "cell_type": "code",
   "execution_count": 15,
   "id": "0d004464",
   "metadata": {},
   "outputs": [
    {
     "data": {
      "image/png": "[encoded data removed]",
      "text/plain": [
       "<Figure size 1080x504 with 2 Axes>"
      ]
     },
     "metadata": {
      "needs_background": "light"
     },
     "output_type": "display_data"
    }
   ],
   "source": [
    "# построим тепловую матрицу корреляции категориальных числовых признаков\n",
    "plt.figure(figsize=(15, 7))\n",
    "heatmap = sns.heatmap(hotels[hotels['sample'] == 1].corr(method = 'spearman'), annot = True)\n",
    "heatmap.set_title(\"Визуализация корреляции\")\n",
    "plt.show();"
   ]
  },
  {
   "cell_type": "code",
   "execution_count": 16,
   "id": "2fa688d5",
   "metadata": {},
   "outputs": [
    {
     "data": {
      "image/png": "[encoded data removed]",
      "text/plain": [
       "<Figure size 1080x504 with 2 Axes>"
      ]
     },
     "metadata": {
      "needs_background": "light"
     },
     "output_type": "display_data"
    }
   ],
   "source": [
    "# построим тепловую матрицу корреляции непрерывных числовых признаков\n",
    "plt.figure(figsize=(15, 7))\n",
    "heatmap = sns.heatmap(hotels[hotels['sample'] == 1].corr(method = 'pearson'), annot = True)\n",
    "heatmap.set_title(\"Визуализация корреляции\")\n",
    "plt.show();"
   ]
  },
  {
   "cell_type": "markdown",
   "id": "400c9992",
   "metadata": {
    "papermill": {
     "duration": 0.099418,
     "end_time": "2022-10-01T20:29:02.126190",
     "exception": false,
     "start_time": "2022-10-01T20:29:02.026772",
     "status": "completed"
    },
    "tags": []
   },
   "source": [
    "**Выводы по основному датасету:**  \n",
    "- В таблице имеется 17 признаков (без учета признака **sample**), числовых и категориальных.\n",
    "- Пропуски имеются в столбцах с координатами отеля.\n",
    "- Имеются 336 дубликатов (помечены).\n",
    "- Если брать числовые признаки, то наш таргет показывает наиболее высокую положительную корреляцию с **average_score** и **review_total_positive_word_counts**, и отрицательную корреляцию с **review_total_negative_word_counts**. Что является вполне логичным. Однако, так же можно заметить, что корреляция с количеством слов отрицательных отзывов выше, чем с количеством положительных."
   ]
  },
  {
   "cell_type": "markdown",
   "id": "3422e43f",
   "metadata": {
    "papermill": {
     "duration": 0.101367,
     "end_time": "2022-10-01T20:29:02.763463",
     "exception": false,
     "start_time": "2022-10-01T20:29:02.662096",
     "status": "completed"
    },
    "tags": []
   },
   "source": [
    "***\n",
    "***"
   ]
  },
  {
   "cell_type": "markdown",
   "id": "fd6bbf07",
   "metadata": {
    "papermill": {
     "duration": 0.118538,
     "end_time": "2022-10-01T20:29:02.989614",
     "exception": false,
     "start_time": "2022-10-01T20:29:02.871076",
     "status": "completed"
    },
    "tags": []
   },
   "source": [
    "## 8. Последовательно работаем с признаками."
   ]
  },
  {
   "cell_type": "markdown",
   "id": "c6996a01",
   "metadata": {
    "papermill": {
     "duration": 0.102114,
     "end_time": "2022-10-01T20:29:03.195233",
     "exception": false,
     "start_time": "2022-10-01T20:29:03.093119",
     "status": "completed"
    },
    "tags": []
   },
   "source": [
    "### 8.1. Признак **hotel_address** - адрес отеля."
   ]
  },
  {
   "cell_type": "code",
   "execution_count": 17,
   "id": "9bfa1bd8",
   "metadata": {
    "execution": {
     "iopub.execute_input": "2022-10-01T20:29:03.404106Z",
     "iopub.status.busy": "2022-10-01T20:29:03.403130Z",
     "iopub.status.idle": "2022-10-01T20:29:03.451397Z",
     "shell.execute_reply": "2022-10-01T20:29:03.451982Z",
     "shell.execute_reply.started": "2022-10-01T20:19:23.417024Z"
    },
    "papermill": {
     "duration": 0.155034,
     "end_time": "2022-10-01T20:29:03.452166",
     "exception": false,
     "start_time": "2022-10-01T20:29:03.297132",
     "status": "completed"
    },
    "tags": []
   },
   "outputs": [
    {
     "data": {
      "text/plain": [
       "163 Marsh Wall Docklands Tower Hamlets London E14 9SJ United Kingdom              4789\n",
       "372 Strand Westminster Borough London WC2R 0JJ United Kingdom                     4256\n",
       "Westminster Bridge Road Lambeth London SE1 7UT United Kingdom                     4169\n",
       "Scarsdale Place Kensington Kensington and Chelsea London W8 5SY United Kingdom    3578\n",
       "7 Pepys Street City of London London EC3N 4AF United Kingdom                      3212\n",
       "                                                                                  ... \n",
       "8 rue Fr d ric Bastiat 8th arr 75008 Paris France                                   12\n",
       "2 4 Boundary Street Hackney London E2 7DD United Kingdom                            12\n",
       "Via M Buonarroti 13 Fiera Milano City 20149 Milan Italy                             10\n",
       "13 Rue Fran ois Ory 92120 Paris France                                              10\n",
       "Johann Staud Stra e 32 16 Ottakring 1160 Vienna Austria                              8\n",
       "Name: hotel_address, Length: 1493, dtype: int64"
      ]
     },
     "execution_count": 17,
     "metadata": {},
     "output_type": "execute_result"
    }
   ],
   "source": [
    "hotels['hotel_address'].value_counts()"
   ]
  },
  {
   "cell_type": "markdown",
   "id": "5a550f76",
   "metadata": {
    "papermill": {
     "duration": 0.100646,
     "end_time": "2022-10-01T20:29:03.653591",
     "exception": false,
     "start_time": "2022-10-01T20:29:03.552945",
     "status": "completed"
    },
    "tags": []
   },
   "source": [
    "В таблице с данными имеется 1493 адреса отеля. Из данного признака можно получить:  \n",
    "- название страны\n",
    "- название города\n",
    "- регион\n",
    "- почтовый индекс  \n",
    "Дополнительно можно притянуть численность населения страны, где расположен отель."
   ]
  },
  {
   "cell_type": "markdown",
   "id": "171c0ce5",
   "metadata": {
    "papermill": {
     "duration": 0.100616,
     "end_time": "2022-10-01T20:29:03.855290",
     "exception": false,
     "start_time": "2022-10-01T20:29:03.754674",
     "status": "completed"
    },
    "tags": []
   },
   "source": [
    "#### 8.1.1. Получаем признак страны **hotel_country**, где расположен отель."
   ]
  },
  {
   "cell_type": "code",
   "execution_count": 18,
   "id": "25c8e171",
   "metadata": {
    "execution": {
     "iopub.execute_input": "2022-10-01T20:29:04.063044Z",
     "iopub.status.busy": "2022-10-01T20:29:04.062035Z",
     "iopub.status.idle": "2022-10-01T20:29:04.701562Z",
     "shell.execute_reply": "2022-10-01T20:29:04.700972Z",
     "shell.execute_reply.started": "2022-10-01T20:19:23.469077Z"
    },
    "papermill": {
     "duration": 0.744351,
     "end_time": "2022-10-01T20:29:04.701713",
     "exception": false,
     "start_time": "2022-10-01T20:29:03.957362",
     "status": "completed"
    },
    "tags": []
   },
   "outputs": [],
   "source": [
    "# составим список стран с названием в 2 отдельных слова, указав последнее слово\n",
    "country_2_word_names = [\n",
    "    'Congo', 'Kingdom', 'Africa', 'Korea', 'Arabia', \n",
    "    'Coast', 'Lanka', 'Faso', 'Sudan', 'Republic', \n",
    "    'Leone', 'Salvador', 'Rica', 'Zealand', 'Guinea', 'Timor', \n",
    "    'Islands', 'Sahara', ' Verde', 'Caledonia', 'Maarten', 'Martin'\n",
    "]\n",
    "\n",
    "# составим список стран с названием в 3 отдельных слова, указав последнее слово\n",
    "country_3_word_names = [\n",
    "    'Emirates', 'Herzegovina', 'Tobago', 'Barbuda'\n",
    "]\n",
    "\n",
    "# напишем функцию для получения названия страны из адреса отеля\n",
    "def get_country_name(arg):\n",
    "    '''\n",
    "    функция возвращает название страны из адреса отеля\n",
    "    :arg: аргументом является адрес отеля, полученный в виде строки, название страны в конце строки;\n",
    "    :full_address_split: полученный аргумент разбиваем на список слов,\n",
    "        в зависимости от последнего слова, составляем название страны,\n",
    "        которое может быть составлено из несколько слов. Для этого прогоняем\n",
    "        последнее слово списка full_address_split по соответствующим спискам выше;\n",
    "    :country_name: полученное название страны возвращаем;\n",
    "    '''\n",
    "    full_address_split = arg.split(' ')\n",
    "    if full_address_split[-1] in country_3_word_names:\n",
    "        country_name = full_address_split[-3] + ' ' + full_address_split[-2] + ' ' + full_address_split[-1]\n",
    "    elif full_address_split[-1] in country_2_word_names:\n",
    "        country_name = full_address_split[-2] + ' ' + full_address_split[-1]\n",
    "    else:\n",
    "        country_name = full_address_split[-1]\n",
    "        \n",
    "    return country_name\n",
    "\n",
    "# создадим искомый признак страны, где расположен отель\n",
    "hotels['hotel_country'] = hotels['hotel_address'].apply(get_country_name)"
   ]
  },
  {
   "cell_type": "markdown",
   "id": "841067d5",
   "metadata": {
    "papermill": {
     "duration": 0.104142,
     "end_time": "2022-10-01T20:29:04.908432",
     "exception": false,
     "start_time": "2022-10-01T20:29:04.804290",
     "status": "completed"
    },
    "tags": []
   },
   "source": [
    "Посмотрим, в каких странах расположены отели."
   ]
  },
  {
   "cell_type": "code",
   "execution_count": 19,
   "id": "d776dad6",
   "metadata": {
    "execution": {
     "iopub.execute_input": "2022-10-01T20:29:05.171352Z",
     "iopub.status.busy": "2022-10-01T20:29:05.168109Z",
     "iopub.status.idle": "2022-10-01T20:29:05.174397Z",
     "shell.execute_reply": "2022-10-01T20:29:05.174915Z",
     "shell.execute_reply.started": "2022-10-01T20:19:24.122376Z"
    },
    "papermill": {
     "duration": 0.165228,
     "end_time": "2022-10-01T20:29:05.175104",
     "exception": false,
     "start_time": "2022-10-01T20:29:05.009876",
     "status": "completed"
    },
    "tags": []
   },
   "outputs": [
    {
     "data": {
      "text/plain": [
       "United Kingdom    262301\n",
       "Spain              60149\n",
       "France             59928\n",
       "Netherlands        57214\n",
       "Austria            38939\n",
       "Italy              37207\n",
       "Name: hotel_country, dtype: int64"
      ]
     },
     "execution_count": 19,
     "metadata": {},
     "output_type": "execute_result"
    }
   ],
   "source": [
    "hotels['hotel_country'].value_counts()"
   ]
  },
  {
   "cell_type": "markdown",
   "id": "e508457e",
   "metadata": {
    "papermill": {
     "duration": 0.103283,
     "end_time": "2022-10-01T20:29:05.381615",
     "exception": false,
     "start_time": "2022-10-01T20:29:05.278332",
     "status": "completed"
    },
    "tags": []
   },
   "source": [
    "Итак, у нас только 6 стран."
   ]
  },
  {
   "cell_type": "markdown",
   "id": "69a078ae",
   "metadata": {},
   "source": [
    "#### 8.1.2. Получаем признак города **hotel_city**, где расположен отель."
   ]
  },
  {
   "cell_type": "code",
   "execution_count": 20,
   "id": "df768dd1",
   "metadata": {
    "execution": {
     "iopub.execute_input": "2022-10-01T20:29:05.592715Z",
     "iopub.status.busy": "2022-10-01T20:29:05.591719Z",
     "iopub.status.idle": "2022-10-01T20:29:07.086164Z",
     "shell.execute_reply": "2022-10-01T20:29:07.086668Z",
     "shell.execute_reply.started": "2022-10-01T20:19:24.194254Z"
    },
    "papermill": {
     "duration": 1.601407,
     "end_time": "2022-10-01T20:29:07.086880",
     "exception": false,
     "start_time": "2022-10-01T20:29:05.485473",
     "status": "completed"
    },
    "tags": []
   },
   "outputs": [],
   "source": [
    "# создадим признак города, где расположен отель\n",
    "hotels.loc[hotels[hotels['hotel_country'] == 'United Kingdom'].index,'hotel_city'] = \\\n",
    "    hotels['hotel_address'].apply(lambda x: x.split(' ')[-5])\n",
    "hotels.loc[hotels[hotels['hotel_country'] != 'United Kingdom'].index,'hotel_city'] = \\\n",
    "    hotels['hotel_address'].apply(lambda x: x.split(' ')[-2])"
   ]
  },
  {
   "cell_type": "markdown",
   "id": "30289347",
   "metadata": {
    "papermill": {
     "duration": 0.10093,
     "end_time": "2022-10-01T20:29:07.290600",
     "exception": false,
     "start_time": "2022-10-01T20:29:07.189670",
     "status": "completed"
    },
    "tags": []
   },
   "source": [
    "Посмотрим, в каких городах расположены отели."
   ]
  },
  {
   "cell_type": "code",
   "execution_count": 21,
   "id": "d8947041",
   "metadata": {
    "execution": {
     "iopub.execute_input": "2022-10-01T20:29:07.560582Z",
     "iopub.status.busy": "2022-10-01T20:29:07.557389Z",
     "iopub.status.idle": "2022-10-01T20:29:07.566022Z",
     "shell.execute_reply": "2022-10-01T20:29:07.565439Z",
     "shell.execute_reply.started": "2022-10-01T20:19:25.892932Z"
    },
    "papermill": {
     "duration": 0.172668,
     "end_time": "2022-10-01T20:29:07.566179",
     "exception": false,
     "start_time": "2022-10-01T20:29:07.393511",
     "status": "completed"
    },
    "tags": []
   },
   "outputs": [
    {
     "data": {
      "text/plain": [
       "London       262301\n",
       "Barcelona     60149\n",
       "Paris         59928\n",
       "Amsterdam     57214\n",
       "Vienna        38939\n",
       "Milan         37207\n",
       "Name: hotel_city, dtype: int64"
      ]
     },
     "execution_count": 21,
     "metadata": {},
     "output_type": "execute_result"
    }
   ],
   "source": [
    "hotels['hotel_city'].value_counts()"
   ]
  },
  {
   "cell_type": "markdown",
   "id": "85ae34fa",
   "metadata": {
    "papermill": {
     "duration": 0.103982,
     "end_time": "2022-10-01T20:29:07.775749",
     "exception": false,
     "start_time": "2022-10-01T20:29:07.671767",
     "status": "completed"
    },
    "tags": []
   },
   "source": [
    "Городов только 6, как и количество стран."
   ]
  },
  {
   "cell_type": "markdown",
   "id": "05c2e152",
   "metadata": {
    "papermill": {
     "duration": 0.105352,
     "end_time": "2022-10-01T20:29:07.984648",
     "exception": false,
     "start_time": "2022-10-01T20:29:07.879296",
     "status": "completed"
    },
    "tags": []
   },
   "source": [
    "#### 8.1.3. Получаем признак региона отеля **hotel_region**. "
   ]
  },
  {
   "cell_type": "code",
   "execution_count": 22,
   "id": "25c2207e",
   "metadata": {
    "execution": {
     "iopub.execute_input": "2022-10-01T20:29:08.411223Z",
     "iopub.status.busy": "2022-10-01T20:29:08.409872Z",
     "iopub.status.idle": "2022-10-01T20:29:12.278784Z",
     "shell.execute_reply": "2022-10-01T20:29:12.278081Z",
     "shell.execute_reply.started": "2022-10-01T20:19:25.971766Z"
    },
    "papermill": {
     "duration": 3.982546,
     "end_time": "2022-10-01T20:29:12.278988",
     "exception": false,
     "start_time": "2022-10-01T20:29:08.296442",
     "status": "completed"
    },
    "tags": []
   },
   "outputs": [],
   "source": [
    "# составим список городов в адресах отеля\n",
    "city_list = ['London', 'Barcelona', 'Paris', 'Amsterdam', 'Vienna', 'Milan']\n",
    "\n",
    "# напишем функцию для получения названия региона из адреса отеля\n",
    "def get_region(arg):\n",
    "    '''\n",
    "    функция возвращает название региона из адреса отеля\n",
    "    :arg: аргументом является адрес отеля, полученный в виде строки;\n",
    "    :full_address_split: полученный аргумент разбиваем на список слов, \n",
    "        перебираем его и склеиваем в строку,\n",
    "        проверяем, чтобы в элементе списка не было цифр (тогда его убираем),\n",
    "        как только дойдем до названия города - перебор прекращаем;\n",
    "    :region_name: полученное название региона возвращаем;\n",
    "    '''\n",
    "    full_address_split = arg.split(' ')\n",
    "    region_name = ''\n",
    "    for i in range(len(full_address_split)):\n",
    "        if full_address_split[i] not in city_list:\n",
    "            if any(map(str.isdigit, full_address_split[i])):\n",
    "                region_name = region_name\n",
    "            else:\n",
    "                region_name = region_name + full_address_split[i] + ' '\n",
    "        else:\n",
    "            return region_name\n",
    "\n",
    "# получаем признак региона, где расположен отель        \n",
    "hotels['hotel_region'] = hotels['hotel_address'].apply(get_region)"
   ]
  },
  {
   "cell_type": "code",
   "execution_count": 23,
   "id": "e5717fb5",
   "metadata": {
    "execution": {
     "iopub.execute_input": "2022-10-01T20:29:12.492108Z",
     "iopub.status.busy": "2022-10-01T20:29:12.491336Z",
     "iopub.status.idle": "2022-10-01T20:29:12.562380Z",
     "shell.execute_reply": "2022-10-01T20:29:12.562972Z",
     "shell.execute_reply.started": "2022-10-01T20:19:29.681365Z"
    },
    "papermill": {
     "duration": 0.180001,
     "end_time": "2022-10-01T20:29:12.563185",
     "exception": false,
     "start_time": "2022-10-01T20:29:12.383184",
     "status": "completed"
    },
    "tags": []
   },
   "outputs": [
    {
     "data": {
      "text/plain": [
       "Strand Westminster Borough                4796\n",
       "Marsh Wall Docklands Tower Hamlets        4789\n",
       "Inverness Terrace Westminster Borough     4279\n",
       "Westminster Bridge Road Lambeth           4253\n",
       "Pepys Street City of                      3601\n",
       "                                          ... \n",
       "Via Palmanova                               12\n",
       "Filmteichstra e Favoriten                   12\n",
       "Rue Fran ois Ory                            10\n",
       "Via M Buonarroti Fiera Milano City          10\n",
       "Johann Staud Stra e Ottakring                8\n",
       "Name: hotel_region, Length: 1247, dtype: int64"
      ]
     },
     "execution_count": 23,
     "metadata": {},
     "output_type": "execute_result"
    }
   ],
   "source": [
    "hotels['hotel_region'].value_counts()"
   ]
  },
  {
   "cell_type": "markdown",
   "id": "b5fe6537",
   "metadata": {},
   "source": [
    "#### 8.1.4. Создадим признак **hotel_postcode** куда поместим почтовый индекс отеля."
   ]
  },
  {
   "cell_type": "code",
   "execution_count": 24,
   "id": "ce4d8e0c",
   "metadata": {},
   "outputs": [],
   "source": [
    "# напишем функцию для получения почтового индекса из адреса отеля\n",
    "def get_postcode(arg):\n",
    "    '''\n",
    "    функция возвращает почтовый индекс из адреса отеля\n",
    "    :arg: аргументом является адрес отеля, полученный в виде строки;\n",
    "    :full_address_split: полученный аргумент разбиваем на список слов и \n",
    "                         по шаблону находим почтовый индекс;\n",
    "    :postcode: полученный почтовый индекс; \n",
    "    '''\n",
    "    full_address_split = arg.split(' ')\n",
    "    if full_address_split[-1] == 'Kingdom' or full_address_split[-1] == 'Netherlands':\n",
    "        postcode = full_address_split[-4] + ' ' + full_address_split[-3]\n",
    "    else:\n",
    "        postcode = full_address_split[-3]\n",
    "        \n",
    "    return postcode\n",
    "\n",
    "# получаем почтовый индекс\n",
    "hotels['hotel_postcode'] = hotels['hotel_address'].apply(get_postcode)"
   ]
  },
  {
   "cell_type": "code",
   "execution_count": 25,
   "id": "ce082301",
   "metadata": {},
   "outputs": [
    {
     "data": {
      "text/plain": [
       "1010       12440\n",
       "20124      11726\n",
       "75008      11119\n",
       "08002      10174\n",
       "75001       5539\n",
       "           ...  \n",
       "20141         22\n",
       "1230          21\n",
       "1017 JW       17\n",
       "E2 7DD        12\n",
       "92120         10\n",
       "Name: hotel_postcode, Length: 601, dtype: int64"
      ]
     },
     "execution_count": 25,
     "metadata": {},
     "output_type": "execute_result"
    }
   ],
   "source": [
    "hotels['hotel_postcode'].value_counts()"
   ]
  },
  {
   "cell_type": "markdown",
   "id": "e6d7e244",
   "metadata": {},
   "source": [
    "**Выводы:**  \n",
    "- создан новый признак **hotel_country** - страна, где расположен отель\n",
    "- создан новый признак **hotel_city** - город, где расположен отель\n",
    "- создан новый признак **hotel_region** - регион, где расположен отель\n",
    "- создан новый признак **hotel_postcode** - почтовый индекс отеля\n",
    "- всего 1492 отеля (по названиям), расположенных по 1493 адресам, в 1247 регионах, в 6 странах и 6 городах; всего 601 почтовых индексов отеля\n",
    "- в одном из вариантов решения я добавлял признак населения страны, где расположен отель и пробовал его оставлять как числовой признак или кодировать, как категориальный признак - ощутимого прироста качества метрики, к сожалению, я не получил."
   ]
  },
  {
   "cell_type": "markdown",
   "id": "819091b5",
   "metadata": {},
   "source": [
    "***"
   ]
  },
  {
   "cell_type": "markdown",
   "id": "ca4cd66a",
   "metadata": {},
   "source": [
    "#### 8.2. Признаки **lat** и **lng** - координаты отеля."
   ]
  },
  {
   "cell_type": "code",
   "execution_count": 26,
   "id": "110d9c20",
   "metadata": {
    "execution": {
     "iopub.execute_input": "2022-10-01T20:29:15.176681Z",
     "iopub.status.busy": "2022-10-01T20:29:15.175943Z",
     "iopub.status.idle": "2022-10-01T20:29:15.465030Z",
     "shell.execute_reply": "2022-10-01T20:29:15.464478Z",
     "shell.execute_reply.started": "2022-10-01T20:19:31.420774Z"
    },
    "papermill": {
     "duration": 0.398002,
     "end_time": "2022-10-01T20:29:15.465205",
     "exception": false,
     "start_time": "2022-10-01T20:29:15.067203",
     "status": "completed"
    },
    "tags": []
   },
   "outputs": [
    {
     "data": {
      "text/plain": [
       "Vienna       2679\n",
       "Paris         382\n",
       "Barcelona     207\n",
       "Name: hotel_city, dtype: int64"
      ]
     },
     "execution_count": 26,
     "metadata": {},
     "output_type": "execute_result"
    }
   ],
   "source": [
    "# получаем города с пропущенными значениями координат\n",
    "hotels[hotels.isnull().any(1)]['hotel_city'].value_counts()"
   ]
  },
  {
   "cell_type": "code",
   "execution_count": 27,
   "id": "d8c6cd32",
   "metadata": {
    "execution": {
     "iopub.execute_input": "2022-10-01T20:29:15.676552Z",
     "iopub.status.busy": "2022-10-01T20:29:15.675872Z",
     "iopub.status.idle": "2022-10-01T20:29:18.737954Z",
     "shell.execute_reply": "2022-10-01T20:29:18.737284Z",
     "shell.execute_reply.started": "2022-10-01T20:19:31.746417Z"
    },
    "papermill": {
     "duration": 3.16874,
     "end_time": "2022-10-01T20:29:18.738153",
     "exception": false,
     "start_time": "2022-10-01T20:29:15.569413",
     "status": "completed"
    },
    "tags": []
   },
   "outputs": [],
   "source": [
    "# заменяем пропущенные координаты отелей координатами городов, в которых они расположены\n",
    "# координаты получим, используя сервис geopy\n",
    "\n",
    "nominatim = Nominatim(user_agent='user')\n",
    "\n",
    "# последовательно заполняем пропуски в координатах соответсвущих городам Вена, Париж, Барселона\n",
    "hotels.loc[(hotels['hotel_city'] == 'Vienna') & (pd.isnull(hotels['lat'])), 'lat'] = float(nominatim.geocode('Vienna, Austria').raw['lat'])\n",
    "hotels.loc[(hotels['hotel_city'] == 'Vienna') & (pd.isnull(hotels['lng'])), 'lng'] = float(nominatim.geocode('Vienna, Austria').raw['lon'])\n",
    "\n",
    "hotels.loc[(hotels['hotel_city'] == 'Paris') & (pd.isnull(hotels['lat'])), 'lat'] = float(nominatim.geocode('Paris, France').raw['lat'])\n",
    "hotels.loc[(hotels['hotel_city'] == 'Paris') & (pd.isnull(hotels['lng'])), 'lng'] = float(nominatim.geocode('Paris, France').raw['lon'])\n",
    "\n",
    "hotels.loc[(hotels['hotel_city'] == 'Barcelona') & (pd.isnull(hotels['lat'])), 'lat'] = float(nominatim.geocode('Barcelona, Spain').raw['lat'])\n",
    "hotels.loc[(hotels['hotel_city'] == 'Barcelona') & (pd.isnull(hotels['lng'])), 'lng'] = float(nominatim.geocode('Barcelona, Spain').raw['lon'])"
   ]
  },
  {
   "cell_type": "markdown",
   "id": "4ea44afd",
   "metadata": {
    "papermill": {
     "duration": 0.102798,
     "end_time": "2022-10-01T20:29:19.730902",
     "exception": false,
     "start_time": "2022-10-01T20:29:19.628104",
     "status": "completed"
    },
    "tags": []
   },
   "source": [
    "**Выводы:** \n",
    "- отели с пропущенными координатами расположены в 3-х городах - Вена, Париж и Барселона\n",
    "- вместо пропущенных координат отелей мы внесли координаты городов, в которых они расположены\n",
    "- к сожалению, использовал эти данные для обучения модели как числовые признаки и как категориальные - особого прироста метрики не получил. Пробовал использовать расстояние от отеля до центра города, как мои коллеги - с тем же результатом. По итогу признаки удалил."
   ]
  },
  {
   "cell_type": "markdown",
   "id": "6e761c23",
   "metadata": {
    "papermill": {
     "duration": 0.102383,
     "end_time": "2022-10-01T20:29:19.936136",
     "exception": false,
     "start_time": "2022-10-01T20:29:19.833753",
     "status": "completed"
    },
    "tags": []
   },
   "source": [
    "***"
   ]
  },
  {
   "cell_type": "markdown",
   "id": "a0ed7f97",
   "metadata": {
    "papermill": {
     "duration": 0.10523,
     "end_time": "2022-10-01T20:29:20.781512",
     "exception": false,
     "start_time": "2022-10-01T20:29:20.676282",
     "status": "completed"
    },
    "tags": []
   },
   "source": [
    "### 8.3. Признак **review_date** - дата размещения отзыва рецензентом. "
   ]
  },
  {
   "cell_type": "markdown",
   "id": "b9218384",
   "metadata": {},
   "source": [
    "#### 8.3.1. Приведем признак к типу datetime."
   ]
  },
  {
   "cell_type": "code",
   "execution_count": 28,
   "id": "446411ef",
   "metadata": {
    "execution": {
     "iopub.execute_input": "2022-10-01T20:29:21.019717Z",
     "iopub.status.busy": "2022-10-01T20:29:20.990762Z",
     "iopub.status.idle": "2022-10-01T20:29:21.169567Z",
     "shell.execute_reply": "2022-10-01T20:29:21.168873Z",
     "shell.execute_reply.started": "2022-10-01T20:19:34.805840Z"
    },
    "papermill": {
     "duration": 0.285022,
     "end_time": "2022-10-01T20:29:21.169712",
     "exception": false,
     "start_time": "2022-10-01T20:29:20.884690",
     "status": "completed"
    },
    "tags": []
   },
   "outputs": [],
   "source": [
    "# приведем к типу datetime\n",
    "hotels['review_date'] = pd.to_datetime(hotels['review_date'], format='%m/%d/%Y')"
   ]
  },
  {
   "cell_type": "markdown",
   "id": "2ab159e8",
   "metadata": {},
   "source": [
    "#### 8.3.2. Получим признак **review_month** - месяц написания отзыва."
   ]
  },
  {
   "cell_type": "code",
   "execution_count": 29,
   "id": "6f7060fb",
   "metadata": {},
   "outputs": [],
   "source": [
    "hotels['review_month'] = hotels['review_date'].dt.month"
   ]
  },
  {
   "cell_type": "markdown",
   "id": "a28c71b2",
   "metadata": {},
   "source": [
    "#### 8.3.3. Получим признак **review_dayofweek** - день недели написания отзыва."
   ]
  },
  {
   "cell_type": "code",
   "execution_count": 30,
   "id": "703d55ca",
   "metadata": {},
   "outputs": [],
   "source": [
    "hotels['review_dayofweek'] = hotels['review_date'].dt.dayofweek"
   ]
  },
  {
   "cell_type": "markdown",
   "id": "eec81e3b",
   "metadata": {},
   "source": [
    "**Выводы:**\n",
    "- создан признак **review_month** - месяц написания отзыва\n",
    "- признак **review_dayofweek** - день недели написания отзыва"
   ]
  },
  {
   "cell_type": "markdown",
   "id": "f4b36cb3",
   "metadata": {},
   "source": [
    "**Примечание:** Я дополнительно получал признаки года, день месяца и день года, а так же группировал по месячным периодам - по итогу удалил эти признаки, т.к. метрика ухудшалась."
   ]
  },
  {
   "cell_type": "markdown",
   "id": "4348090a",
   "metadata": {
    "papermill": {
     "duration": 0.103054,
     "end_time": "2022-10-01T20:30:26.959705",
     "exception": false,
     "start_time": "2022-10-01T20:30:26.856651",
     "status": "completed"
    },
    "tags": []
   },
   "source": [
    "***"
   ]
  },
  {
   "cell_type": "markdown",
   "id": "09b23c30",
   "metadata": {
    "papermill": {
     "duration": 0.104391,
     "end_time": "2022-10-01T20:30:28.775517",
     "exception": false,
     "start_time": "2022-10-01T20:30:28.671126",
     "status": "completed"
    },
    "tags": []
   },
   "source": [
    "### 8.4. Признак **hotel_name** - название отеля."
   ]
  },
  {
   "cell_type": "code",
   "execution_count": 31,
   "id": "4fcfef67",
   "metadata": {
    "execution": {
     "iopub.execute_input": "2022-10-01T20:30:28.990813Z",
     "iopub.status.busy": "2022-10-01T20:30:28.990118Z",
     "iopub.status.idle": "2022-10-01T20:30:29.036096Z",
     "shell.execute_reply": "2022-10-01T20:30:29.036589Z",
     "shell.execute_reply.started": "2022-10-01T20:20:42.418336Z"
    },
    "papermill": {
     "duration": 0.154001,
     "end_time": "2022-10-01T20:30:29.036779",
     "exception": false,
     "start_time": "2022-10-01T20:30:28.882778",
     "status": "completed"
    },
    "tags": []
   },
   "outputs": [
    {
     "data": {
      "text/plain": [
       "Britannia International Hotel Canary Wharf           4789\n",
       "Strand Palace Hotel                                  4256\n",
       "Park Plaza Westminster Bridge London                 4169\n",
       "Copthorne Tara Hotel London Kensington               3578\n",
       "DoubleTree by Hilton Hotel London Tower of London    3212\n",
       "                                                     ... \n",
       "Hotel Eitlj rg                                         12\n",
       "Hotel Daniel Paris                                     12\n",
       "Mercure Paris Porte d Orleans                          10\n",
       "Hotel Wagner                                           10\n",
       "Hotel Gallitzinberg                                     8\n",
       "Name: hotel_name, Length: 1492, dtype: int64"
      ]
     },
     "execution_count": 31,
     "metadata": {},
     "output_type": "execute_result"
    }
   ],
   "source": [
    "hotels['hotel_name'].value_counts()"
   ]
  },
  {
   "cell_type": "markdown",
   "id": "85d3dc25",
   "metadata": {
    "papermill": {
     "duration": 0.105159,
     "end_time": "2022-10-01T20:30:29.248657",
     "exception": false,
     "start_time": "2022-10-01T20:30:29.143498",
     "status": "completed"
    },
    "tags": []
   },
   "source": [
    "**Примечание:** Вообще странно, отелей 1492, а адресов 1493... Попробуем поискать дубликаты в названиях отелей."
   ]
  },
  {
   "cell_type": "code",
   "execution_count": 32,
   "id": "58f65bc3",
   "metadata": {},
   "outputs": [
    {
     "data": {
      "text/html": [
       "<div>\n",
       "<style scoped>\n",
       "    .dataframe tbody tr th:only-of-type {\n",
       "        vertical-align: middle;\n",
       "    }\n",
       "\n",
       "    .dataframe tbody tr th {\n",
       "        vertical-align: top;\n",
       "    }\n",
       "\n",
       "    .dataframe thead th {\n",
       "        text-align: right;\n",
       "    }\n",
       "</style>\n",
       "<table border=\"1\" class=\"dataframe\">\n",
       "  <thead>\n",
       "    <tr style=\"text-align: right;\">\n",
       "      <th></th>\n",
       "      <th>hotel_address</th>\n",
       "    </tr>\n",
       "    <tr>\n",
       "      <th>hotel_name</th>\n",
       "      <th></th>\n",
       "    </tr>\n",
       "  </thead>\n",
       "  <tbody>\n",
       "    <tr>\n",
       "      <th>Hotel Regina</th>\n",
       "      <td>3</td>\n",
       "    </tr>\n",
       "  </tbody>\n",
       "</table>\n",
       "</div>"
      ],
      "text/plain": [
       "              hotel_address\n",
       "hotel_name                 \n",
       "Hotel Regina              3"
      ]
     },
     "execution_count": 32,
     "metadata": {},
     "output_type": "execute_result"
    }
   ],
   "source": [
    "hotels_grouped = hotels[['hotel_address', 'hotel_name']].groupby(['hotel_name']).nunique()\n",
    "hotels_grouped[hotels_grouped['hotel_address'] > 1]"
   ]
  },
  {
   "cell_type": "markdown",
   "id": "f50c2982",
   "metadata": {},
   "source": [
    "Ага, нашли. Отель с названием **Hotel Regina** дублируется. Изучим его более подробно."
   ]
  },
  {
   "cell_type": "code",
   "execution_count": 33,
   "id": "c2df4614",
   "metadata": {},
   "outputs": [
    {
     "data": {
      "text/plain": [
       "hotel_name    hotel_address                                             \n",
       "Hotel Regina  Bergara 2 4 Eixample 08002 Barcelona Spain                    590\n",
       "              Rooseveltplatz 15 09 Alsergrund 1090 Vienna Austria           284\n",
       "              Via Cesare Correnti 13 Milan City Center 20123 Milan Italy     60\n",
       "dtype: int64"
      ]
     },
     "execution_count": 33,
     "metadata": {},
     "output_type": "execute_result"
    }
   ],
   "source": [
    "mask = hotels['hotel_name'] == 'Hotel Regina'\n",
    "hotels[mask][['hotel_name', 'hotel_address']].value_counts()"
   ]
  },
  {
   "cell_type": "markdown",
   "id": "0d7a50b8",
   "metadata": {},
   "source": [
    "Мои коллеги предлагают добавить в навание отеля город, тогда это поможет убрать дубликаты названий. Можно также добавить название страны. Воспользуемся решением уважаемого [ECO 189](https://www.kaggle.com/code/eco189/project-3-1/notebook?scriptVersionId=105582270)"
   ]
  },
  {
   "cell_type": "code",
   "execution_count": 34,
   "id": "f4946566",
   "metadata": {},
   "outputs": [],
   "source": [
    "hotels['hotel_name'] = hotels.apply(\n",
    "    lambda row: (row['hotel_name'] + ' ' + row['hotel_address'].split()[-2])\n",
    "    if (row['hotel_name'] == 'Hotel Regina')\n",
    "    else row['hotel_name'], axis=1)"
   ]
  },
  {
   "cell_type": "code",
   "execution_count": 35,
   "id": "6723be21",
   "metadata": {},
   "outputs": [
    {
     "data": {
      "text/plain": [
       "Britannia International Hotel Canary Wharf           4789\n",
       "Strand Palace Hotel                                  4256\n",
       "Park Plaza Westminster Bridge London                 4169\n",
       "Copthorne Tara Hotel London Kensington               3578\n",
       "DoubleTree by Hilton Hotel London Tower of London    3212\n",
       "                                                     ... \n",
       "Hotel Daniel Paris                                     12\n",
       "Boundary Rooms Suites                                  12\n",
       "Hotel Wagner                                           10\n",
       "Mercure Paris Porte d Orleans                          10\n",
       "Hotel Gallitzinberg                                     8\n",
       "Name: hotel_name, Length: 1494, dtype: int64"
      ]
     },
     "execution_count": 35,
     "metadata": {},
     "output_type": "execute_result"
    }
   ],
   "source": [
    "hotels['hotel_name'].value_counts()"
   ]
  },
  {
   "cell_type": "markdown",
   "id": "a67553c0",
   "metadata": {},
   "source": [
    "Теперь вылезла другая проблема - отелей стало 1494, но адресов у нас 1493. Ищем дубликаты адресов."
   ]
  },
  {
   "cell_type": "code",
   "execution_count": 36,
   "id": "2433ae39",
   "metadata": {},
   "outputs": [
    {
     "data": {
      "text/html": [
       "<div>\n",
       "<style scoped>\n",
       "    .dataframe tbody tr th:only-of-type {\n",
       "        vertical-align: middle;\n",
       "    }\n",
       "\n",
       "    .dataframe tbody tr th {\n",
       "        vertical-align: top;\n",
       "    }\n",
       "\n",
       "    .dataframe thead th {\n",
       "        text-align: right;\n",
       "    }\n",
       "</style>\n",
       "<table border=\"1\" class=\"dataframe\">\n",
       "  <thead>\n",
       "    <tr style=\"text-align: right;\">\n",
       "      <th></th>\n",
       "      <th>hotel_name</th>\n",
       "    </tr>\n",
       "    <tr>\n",
       "      <th>hotel_address</th>\n",
       "      <th></th>\n",
       "    </tr>\n",
       "  </thead>\n",
       "  <tbody>\n",
       "    <tr>\n",
       "      <th>8 Northumberland Avenue Westminster Borough London WC2N 5BY United Kingdom</th>\n",
       "      <td>2</td>\n",
       "    </tr>\n",
       "  </tbody>\n",
       "</table>\n",
       "</div>"
      ],
      "text/plain": [
       "                                                    hotel_name\n",
       "hotel_address                                                 \n",
       "8 Northumberland Avenue Westminster Borough Lon...           2"
      ]
     },
     "execution_count": 36,
     "metadata": {},
     "output_type": "execute_result"
    }
   ],
   "source": [
    "hotels_grouped = hotels[['hotel_address', 'hotel_name']].groupby(['hotel_address']).nunique()\n",
    "hotels_grouped[hotels_grouped['hotel_name'] > 1]"
   ]
  },
  {
   "cell_type": "code",
   "execution_count": 37,
   "id": "24e64f2e",
   "metadata": {},
   "outputs": [
    {
     "data": {
      "text/plain": [
       "hotel_name                            lat        lng      \n",
       "Club Quarters Hotel Trafalgar Square  51.506935  -0.126012    945\n",
       "The Grand at Trafalgar Square         51.506935  -0.126012    733\n",
       "dtype: int64"
      ]
     },
     "execution_count": 37,
     "metadata": {},
     "output_type": "execute_result"
    }
   ],
   "source": [
    "mask = hotels['hotel_address'] == '8 Northumberland Avenue Westminster Borough London WC2N 5BY United Kingdom'\n",
    "hotels[['hotel_name','lat', 'lng']][mask].value_counts()"
   ]
  },
  {
   "cell_type": "markdown",
   "id": "1029835a",
   "metadata": {},
   "source": [
    "Очень странная ситуация. Два отеля с разными именами, но с одинаковыми адресами и координатами. Пришлось гуглить и сходить на Booking - действительно, есть два таких отеля. Ладно, просто их оставим, как есть и перейдем к следующему признаку."
   ]
  },
  {
   "cell_type": "markdown",
   "id": "1c435c6e",
   "metadata": {},
   "source": [
    "**Выводы:**\n",
    "- обнаружены дубликаты отеля Hotel Regina, которые расположены в разных городах (странах). От дубликатов избавились, добавив в названия отелей город, где они расположены.\n",
    "- обнаружено 2 отеля, которые расположены по одному адресу. Такие отели действительно существуют, решено их оставить без изменений."
   ]
  },
  {
   "cell_type": "markdown",
   "id": "a6623593",
   "metadata": {
    "papermill": {
     "duration": 0.106124,
     "end_time": "2022-10-01T20:30:29.459820",
     "exception": false,
     "start_time": "2022-10-01T20:30:29.353696",
     "status": "completed"
    },
    "tags": []
   },
   "source": [
    "***"
   ]
  },
  {
   "cell_type": "markdown",
   "id": "42353cb6",
   "metadata": {
    "papermill": {
     "duration": 0.105416,
     "end_time": "2022-10-01T20:30:29.671708",
     "exception": false,
     "start_time": "2022-10-01T20:30:29.566292",
     "status": "completed"
    },
    "tags": []
   },
   "source": [
    "### 8.5. Признак **reviewer_nationality** - страна рецензента.  "
   ]
  },
  {
   "cell_type": "markdown",
   "id": "15671c9e",
   "metadata": {},
   "source": [
    "#### 8.5.1 Предварительная обработка признака."
   ]
  },
  {
   "cell_type": "code",
   "execution_count": 38,
   "id": "6bb33ebf",
   "metadata": {},
   "outputs": [],
   "source": [
    "# очистим от пробелов края строк данного признака\n",
    "hotels['reviewer_nationality'] = hotels['reviewer_nationality'].apply(\n",
    "    lambda x: x.strip()\n",
    ")"
   ]
  },
  {
   "cell_type": "markdown",
   "id": "739ea9e3",
   "metadata": {},
   "source": [
    "#### 8.5.2. Создадим новый признак **hotel_reviewer_same_country**, где будет отмечено совпадает ли страна расположения отеля со страной ревьювера."
   ]
  },
  {
   "cell_type": "code",
   "execution_count": 39,
   "id": "b6b7c321",
   "metadata": {},
   "outputs": [],
   "source": [
    "# создадим новый признак - совпадает ли страна отеля и ревьювера\n",
    "\n",
    "hotels['hotel_reviewer_same_country'] = hotels['hotel_country'] == hotels['reviewer_nationality']\n",
    "hotels['hotel_reviewer_same_country'] = hotels['hotel_reviewer_same_country'].apply(\n",
    "    lambda x: 1 if x is True else 0)"
   ]
  },
  {
   "cell_type": "markdown",
   "id": "80f62511",
   "metadata": {},
   "source": [
    "#### 8.5.3. Выделим отдельно англоязычные страны и страны ближнего востока, создав признаки **reviewer_en** и **reviewer_n_est**."
   ]
  },
  {
   "cell_type": "markdown",
   "id": "e3e41228",
   "metadata": {},
   "source": [
    "Удивительно, но эти признаки существенно улучшают метрику. Мне это в голову не пришло, но спасибо еще раз [ECO 189](https://www.kaggle.com/code/eco189/project-3-1/notebook?scriptVersionId=105582270) за блестящую идею!"
   ]
  },
  {
   "cell_type": "code",
   "execution_count": 40,
   "id": "8b8b092a",
   "metadata": {},
   "outputs": [],
   "source": [
    "# Выделим основные англоязычные страны:\n",
    "english_list = ['United Kingdom', \n",
    "                'United States of America', \n",
    "                'Australia',\n",
    "                'Ireland', \n",
    "                'Canada', \n",
    "                'New Zealand']\n",
    "hotels['reviewer_en'] = hotels['reviewer_nationality'].apply(\n",
    "    lambda x: 1 if x in english_list else 0)\n",
    "\n",
    "\n",
    "# Выделим мусульманские страны ближневосточного региона:\n",
    "muslim_list = ['United Arab Emirates', \n",
    "               'Saudi Arabia', \n",
    "               'Turkey', \n",
    "               'Kuwait', \n",
    "               'Qatar']\n",
    "hotels['reviewer_n_est'] = hotels['reviewer_nationality'].apply(\n",
    "    lambda x: 1 if x in muslim_list else 0)"
   ]
  },
  {
   "cell_type": "markdown",
   "id": "4bc8b13b",
   "metadata": {},
   "source": [
    "**Выводы:**\n",
    "- создан признак **hotel_reviewer_same_country**, где помечено совпадение страны расположения отеля и национальности ревьювера.\n",
    "- добвлены признаки **reviewer_en** и **reviewer_n_est**, где отмечены ревьюверы с англоязычных и ближневосточных стран.   \n",
    "\n",
    "**Примечание:** я дополнительно создавал признак, который бы отмечал европейских ревьюверов (с включением и исключением ревьюверов из стран расположения отелей), но из-за ухудшения метрики удалил. Возможно, причиной тому стал уже созданный признак **hotel_reviewer_same_country**."
   ]
  },
  {
   "cell_type": "markdown",
   "id": "770f74a9",
   "metadata": {
    "papermill": {
     "duration": 0.107349,
     "end_time": "2022-10-01T20:30:34.853342",
     "exception": false,
     "start_time": "2022-10-01T20:30:34.745993",
     "status": "completed"
    },
    "tags": []
   },
   "source": [
    "***"
   ]
  },
  {
   "cell_type": "markdown",
   "id": "a968d7e2",
   "metadata": {
    "papermill": {
     "duration": 0.105959,
     "end_time": "2022-10-01T20:30:35.065763",
     "exception": false,
     "start_time": "2022-10-01T20:30:34.959804",
     "status": "completed"
    },
    "tags": []
   },
   "source": [
    "### 8.6. Признак **negative_review** - негативный отзыв."
   ]
  },
  {
   "cell_type": "code",
   "execution_count": 41,
   "id": "059a67ed",
   "metadata": {},
   "outputs": [],
   "source": [
    "# напишем функцию, котрая будет обрабатывать отзывы\n",
    "def review_processing(arg):\n",
    "    '''\n",
    "    :arg: аргумент функции - отзыв в виде строки;\n",
    "    функция выполняет обрезку строки отзыва по краям, \n",
    "    очистку текста от знаков препинания и чисел, \n",
    "    преводит слова в нижний регистр;\n",
    "    :review: возвращает обработанный отзыв в виде строки\n",
    "    '''\n",
    "    # обрезаем края строки отзыва\n",
    "    arg = arg.strip()\n",
    "    # очищаем текст\n",
    "    review = re.sub('[^a-zA-Z]', ' ', arg)\n",
    "    # переводим слова в нижний регистр\n",
    "    review = arg.lower()\n",
    "    \n",
    "    return review"
   ]
  },
  {
   "cell_type": "code",
   "execution_count": 42,
   "id": "9b39b7e3",
   "metadata": {},
   "outputs": [],
   "source": [
    "# обработаем негативные отзывы\n",
    "hotels['negative_review'] = hotels['negative_review'].apply(review_processing)"
   ]
  },
  {
   "cell_type": "markdown",
   "id": "590f2c18",
   "metadata": {},
   "source": [
    "Часть негативных отзывов не являются негативными. Попробуем их обозначить, вручную перебрав их (я взял 220 наиболее часто встречаемых отзывов)."
   ]
  },
  {
   "cell_type": "code",
   "execution_count": 43,
   "id": "8345f749",
   "metadata": {},
   "outputs": [],
   "source": [
    "# в этом списке будут негативные отзывы, которые на самом деле не содержат негатива\n",
    "list_negive_review_no_negative = ['', ' ', 'no negative', 'nothing', 'n a', 'none', 'nothing really', 'all good', 'no complaints', 'nothing at all',\n",
    "        'nothing to dislike', 'nil', 'everything was perfect', 'na', 'can t think of anything', 'leaving, absolutely nothing',\n",
    "        'everything was great', 'nothing to complain about', 'no', 'nothing all good', 'having to leave', \n",
    "        'not much', 'i liked everything, everything was good', 'liked everything', 'nothing it was perfect', 'non',\n",
    "        'nothing everything was perfect', 'nothing in particular', 'everything was fine', 'nothing everything was great', \n",
    "        'not applicable', 'all was good', 'nothing comes to mind', 'there was nothing i didn t like', 'not a thing', \n",
    "        'nothing i didn t like', 'no negatives', 'we liked everything', 'no complaints at all', 'no thing, nothing to report', \n",
    "        'all ok', 'there was nothing to dislike', 'it was all good', 'there was nothing we didn t like', \n",
    "        'loved everything', 'nothing i can think of', 'no dislikes', 'nothing to say', 'nothing to mention', 'nothing to complain', 'no issues', \n",
    "        'there was nothing not to like', 'no comment', 'everything was ok', 'everything was excellent', 'no problems', 'nothing we didn t like', \n",
    "        'nada', 'nothing special', 'nothing bad to say', 'liked it all', 'nothing could have been better', 'i loved everything', 'all great', \n",
    "        'nothing to not like', 'couldn t fault it', 'going home', 'nothing it was all good', 'no comments', 'nothing much', 'that we had to leave', \n",
    "        'nothing it was great', 'it was perfect', 'not a lot, nothing to fault', 'there wasn t anything we didn t like', 'what s not to like', \n",
    "        'loved it all', 'cannot think of anything', 'nothing negative to say', 'nothing all was good, no bad experiences', 'i liked it all', \n",
    "        'nothing all was great', 'all was great', 'that we couldn t stay longer', 'nothing that i can think of', 'that i couldn t stay longer', \n",
    "        'nothing it was all great', 'nothing of note', 'nothing all great', 'all was perfect', 'i can t think of anything', 'it was all great']\n",
    "\n",
    "# правим признак negative_review, заменяя ложные негативные отзывы на none\n",
    "hotels['negative_review'] = hotels['negative_review'].apply(\n",
    "        lambda x: 'none' if x in list_negive_review_no_negative else x)"
   ]
  },
  {
   "cell_type": "markdown",
   "id": "ee81dd67",
   "metadata": {},
   "source": [
    "Создадим новый признак **negive_review_no_negative**, где ложные негативные отзывы будут отмечены."
   ]
  },
  {
   "cell_type": "code",
   "execution_count": 44,
   "id": "9fe64507",
   "metadata": {},
   "outputs": [],
   "source": [
    "hotels['negative_review_no_negative'] = hotels['negative_review'].apply(\n",
    "    lambda x: 1 if x == 'none' else 0)"
   ]
  },
  {
   "cell_type": "markdown",
   "id": "86b983d5",
   "metadata": {},
   "source": [
    "***"
   ]
  },
  {
   "cell_type": "markdown",
   "id": "10c1bb10",
   "metadata": {
    "papermill": {
     "duration": 0.108991,
     "end_time": "2022-10-01T20:30:36.216420",
     "exception": false,
     "start_time": "2022-10-01T20:30:36.107429",
     "status": "completed"
    },
    "tags": []
   },
   "source": [
    "### 8.7. Признак **review_total_negative_word_counts** - число слов в негативном отзыве. "
   ]
  },
  {
   "cell_type": "markdown",
   "id": "f447d085",
   "metadata": {},
   "source": [
    "После обработки отрицательных отзывов, количество слов в них должно измениться. Обновим значения признака."
   ]
  },
  {
   "cell_type": "code",
   "execution_count": 45,
   "id": "89b5c7f6",
   "metadata": {},
   "outputs": [],
   "source": [
    "hotels['review_total_negative_word_counts'] = hotels['negative_review'].apply(\n",
    "    lambda x: len(x.split(' ')))"
   ]
  },
  {
   "cell_type": "markdown",
   "id": "0f6bea33",
   "metadata": {
    "papermill": {
     "duration": 0.108265,
     "end_time": "2022-10-01T20:30:37.688087",
     "exception": false,
     "start_time": "2022-10-01T20:30:37.579822",
     "status": "completed"
    },
    "tags": []
   },
   "source": [
    "***"
   ]
  },
  {
   "cell_type": "markdown",
   "id": "650810f7",
   "metadata": {
    "papermill": {
     "duration": 0.108018,
     "end_time": "2022-10-01T20:30:38.664047",
     "exception": false,
     "start_time": "2022-10-01T20:30:38.556029",
     "status": "completed"
    },
    "tags": []
   },
   "source": [
    "### 8.8. Признак **positive_review** - положительный отзыв."
   ]
  },
  {
   "cell_type": "markdown",
   "id": "2309e05a",
   "metadata": {},
   "source": [
    "Здесь также имеются отзывы, которые на самом деле не являются положительными. Обработаем их вручную."
   ]
  },
  {
   "cell_type": "code",
   "execution_count": 46,
   "id": "16091b1a",
   "metadata": {},
   "outputs": [],
   "source": [
    "# сначала обработаем положительные отзывы, используя нашу функцию\n",
    "hotels['positive_review'] = hotels['positive_review'].apply(review_processing)"
   ]
  },
  {
   "cell_type": "code",
   "execution_count": 47,
   "id": "a5c75cae",
   "metadata": {},
   "outputs": [],
   "source": [
    "# в этом списке будут позитивные отзывы, которые на самом деле негативные\n",
    "list_positive_review_no_positive = ['', ' ', 'no positive', 'nothing', 'location only', 'not much', \n",
    "                                    'only the location', 'only location', 'not a lot',\n",
    "                                    'nothing at all', 'n a', 'leaving', 'nothing special']\n",
    "\n",
    "# правим признак positive_review\n",
    "hotels['positive_review'] = hotels['positive_review'].apply(lambda x: 'none' if x in list_positive_review_no_positive else x)"
   ]
  },
  {
   "cell_type": "markdown",
   "id": "ee81dd67",
   "metadata": {},
   "source": [
    "Создадим новый признак **positive_review_no_positive**, где ложные позитивные отзывы будут отмечены."
   ]
  },
  {
   "cell_type": "code",
   "execution_count": 48,
   "id": "90b1a7dd",
   "metadata": {},
   "outputs": [],
   "source": [
    "hotels['positive_review_no_positive'] = hotels['positive_review'].apply(lambda x: 1 if x == 'none' else 0)"
   ]
  },
  {
   "cell_type": "markdown",
   "id": "da0bc8f7",
   "metadata": {},
   "source": [
    "***"
   ]
  },
  {
   "cell_type": "markdown",
   "id": "d09441d1",
   "metadata": {
    "papermill": {
     "duration": 0.109296,
     "end_time": "2022-10-01T20:30:39.528438",
     "exception": false,
     "start_time": "2022-10-01T20:30:39.419142",
     "status": "completed"
    },
    "tags": []
   },
   "source": [
    "### 8.9. Признак **review_total_positive_word_counts** - число слов в позитивном отзыве."
   ]
  },
  {
   "cell_type": "markdown",
   "id": "29160f94",
   "metadata": {},
   "source": [
    "Также, как и с **review_total_negative_word_counts** обновим значения признака."
   ]
  },
  {
   "cell_type": "code",
   "execution_count": 49,
   "id": "aa3f8a6c",
   "metadata": {},
   "outputs": [],
   "source": [
    "hotels['review_total_positive_word_counts'] = hotels['positive_review'].apply(lambda x: len(x.split(' ')))"
   ]
  },
  {
   "cell_type": "markdown",
   "id": "471e6e76",
   "metadata": {},
   "source": [
    "**Выводы:**\n",
    "- были обработаны признаки **negative_review** и **positive_review**: убраны пробелы по краям строк, буквы приведены к строчным, убраны знаки препинания и пр.\n",
    "- с учетом вышеизложенного, признаки **review_total_negative_word_counts** и **review_total_positive_word_counts** были обновлены\n",
    "- созданы признаки **negative_review_no_positive** и **positive_review_no_positive**, в которых отмечены отзывы, которые находятся среди позитивных (или негативных), но не являются таковыми."
   ]
  },
  {
   "cell_type": "markdown",
   "id": "3ae13b02",
   "metadata": {},
   "source": [
    "***"
   ]
  },
  {
   "cell_type": "markdown",
   "id": "396b4889",
   "metadata": {
    "papermill": {
     "duration": 0.126489,
     "end_time": "2022-10-01T20:30:41.931982",
     "exception": false,
     "start_time": "2022-10-01T20:30:41.805493",
     "status": "completed"
    },
    "tags": []
   },
   "source": [
    "### 8.10. Признак **tags** - теги, которые рецензент дал отелю. "
   ]
  },
  {
   "cell_type": "code",
   "execution_count": 50,
   "id": "f830c127",
   "metadata": {
    "execution": {
     "iopub.execute_input": "2022-10-01T20:30:42.198583Z",
     "iopub.status.busy": "2022-10-01T20:30:42.197844Z",
     "iopub.status.idle": "2022-10-01T20:30:42.394661Z",
     "shell.execute_reply": "2022-10-01T20:30:42.395650Z",
     "shell.execute_reply.started": "2022-10-01T20:20:46.462351Z"
    },
    "papermill": {
     "duration": 0.342994,
     "end_time": "2022-10-01T20:30:42.396021",
     "exception": false,
     "start_time": "2022-10-01T20:30:42.053027",
     "status": "completed"
    },
    "tags": []
   },
   "outputs": [
    {
     "data": {
      "text/plain": [
       "[' Leisure trip ', ' Couple ', ' Double Room ', ' Stayed 1 night ', ' Submitted from a mobile device ']                                                   5101\n",
       "[' Leisure trip ', ' Couple ', ' Standard Double Room ', ' Stayed 1 night ', ' Submitted from a mobile device ']                                          4931\n",
       "[' Leisure trip ', ' Couple ', ' Superior Double Room ', ' Stayed 1 night ', ' Submitted from a mobile device ']                                          4366\n",
       "[' Leisure trip ', ' Couple ', ' Deluxe Double Room ', ' Stayed 1 night ', ' Submitted from a mobile device ']                                            3991\n",
       "[' Leisure trip ', ' Couple ', ' Double Room ', ' Stayed 2 nights ', ' Submitted from a mobile device ']                                                  3291\n",
       "                                                                                                                                                          ... \n",
       "[' Leisure trip ', ' Couple ', ' Superior Queen Room 2 adults ', ' Stayed 4 nights ']                                                                        1\n",
       "[' Leisure trip ', ' Solo traveler ', ' Small Double Room Annex building ', ' Stayed 3 nights ']                                                             1\n",
       "[' With a pet ', ' Business trip ', ' Family with older children ', ' Superior Double Room ', ' Stayed 4 nights ', ' Submitted from a mobile device ']       1\n",
       "[' Leisure trip ', ' Family with young children ', ' Two Connecting Superior Double Rooms ', ' Stayed 4 nights ']                                            1\n",
       "[' Leisure trip ', ' Couple ', ' Bunk Bed Room ', ' Stayed 4 nights ']                                                                                       1\n",
       "Name: tags, Length: 55242, dtype: int64"
      ]
     },
     "execution_count": 50,
     "metadata": {},
     "output_type": "execute_result"
    }
   ],
   "source": [
    "hotels['tags'].value_counts()"
   ]
  },
  {
   "cell_type": "markdown",
   "id": "d4027de0",
   "metadata": {},
   "source": [
    "Всего у нас более 2тыс. тегов. Макисимальное количество указанных тегов - 6. Создадим новые признаки и разделим по ним теги."
   ]
  },
  {
   "cell_type": "markdown",
   "id": "59a443fd",
   "metadata": {},
   "source": [
    "#### 8.10.1. Создадим новые признаки:"
   ]
  },
  {
   "cell_type": "markdown",
   "id": "cb0f4660",
   "metadata": {},
   "source": [
    "- **tag_trip_type** - тип поездки\n",
    "- **tag_guest_description** - описание гостей (пара, одиночный путешественник и пр.)\n",
    "- **tag_with_pet** - с животными\n",
    "- **tag_nights_num** - количество ночей\n",
    "- **tag_sub_mobile** - отправлено с мобильного устройства\n",
    "- **tag_room** - тип номера\n",
    "- **tag_num** - количество указанных тегов"
   ]
  },
  {
   "cell_type": "code",
   "execution_count": 51,
   "id": "619a56de",
   "metadata": {},
   "outputs": [],
   "source": [
    "# создадим новые признаки и заполним их по умолчанию none\n",
    "hotels['tag_trip_type'] = hotels['tag_guest_description'] = hotels['tag_with_pet'] = 'none'\n",
    "hotels['tag_nights_num'] = hotels['tag_sub_mobile'] = hotels['tag_room'] = 'none'"
   ]
  },
  {
   "cell_type": "code",
   "execution_count": 52,
   "id": "8ec5c5f3",
   "metadata": {},
   "outputs": [],
   "source": [
    "# создадим список тегов для признака tag_guest_description\n",
    "list_tag = [\n",
    "    ' Couple ', ' Solo traveler ', ' Group ', \n",
    "    ' Family with young children ', ' Family with older children ', \n",
    "    ' Travelers with friends '\n",
    "]\n",
    "\n",
    "# отсортируем теги\n",
    "for index in range(hotels.shape[0]):\n",
    "    value = hotels.iloc[index, hotels.columns.get_loc('tags')]\n",
    "    value_list = eval(value)\n",
    "    for i in range(len(value_list)):\n",
    "        if 'trip' in value_list[i]:\n",
    "            col_index = hotels.columns.get_loc('tag_trip_type')\n",
    "        elif 'mobile device' in value_list[i]:\n",
    "            col_index = hotels.columns.get_loc('tag_sub_mobile')\n",
    "        elif ('Stayed') and ('night' or 'nights') in value_list[i]:\n",
    "            col_index = hotels.columns.get_loc('tag_nights_num')\n",
    "        elif value_list[i] in list_tag:\n",
    "            col_index = hotels.columns.get_loc('tag_guest_description')\n",
    "        elif 'With a pet' in value_list[i]:\n",
    "            col_index = hotels.columns.get_loc('tag_with_pet')\n",
    "        else:\n",
    "            col_index = hotels.columns.get_loc('tag_room')\n",
    "    \n",
    "        hotels.iloc[index, col_index] = value_list[i]"
   ]
  },
  {
   "cell_type": "markdown",
   "id": "39d9cc56",
   "metadata": {},
   "source": [
    "#### 8.10.2. Дополнительно обработаем полученные признаки."
   ]
  },
  {
   "cell_type": "code",
   "execution_count": 53,
   "id": "e0bcb94f",
   "metadata": {},
   "outputs": [],
   "source": [
    "# заменим значения признака tag_with_pet на 0, если без животных и на 1, если с животными\n",
    "hotels['tag_with_pet'] = hotels['tag_with_pet'].apply(lambda x: 0 if x == 'none' else 1)"
   ]
  },
  {
   "cell_type": "code",
   "execution_count": 54,
   "id": "3ab2e1d5",
   "metadata": {},
   "outputs": [],
   "source": [
    "# заменим значения признака tag_sub_mobile на 0, если не было подтверждения \n",
    "# с мобильного устройства и на 1, если было\n",
    "hotels['tag_sub_mobile'] = hotels['tag_sub_mobile'].apply(lambda x: 0 if x == 'none' else 1)"
   ]
  },
  {
   "cell_type": "code",
   "execution_count": 55,
   "id": "b39c8820",
   "metadata": {},
   "outputs": [],
   "source": [
    "# выделим из признака tag_nights_num количество проведенных в отеле ночей\n",
    "hotels['tag_nights_num'] = hotels['tag_nights_num'].apply(lambda x: x.split(' ')[2] if x != 'none' else 0)\n",
    "hotels['tag_nights_num'] = hotels['tag_nights_num'].astype('int64')"
   ]
  },
  {
   "cell_type": "markdown",
   "id": "26fbc4d5",
   "metadata": {},
   "source": [
    "#### 8.10.3. Создадим признак **tag_num** - количество указанных тегов."
   ]
  },
  {
   "cell_type": "code",
   "execution_count": 56,
   "id": "1172f10b",
   "metadata": {},
   "outputs": [],
   "source": [
    "hotels['tag_num'] = hotels['tags'].apply(lambda x: len(x))"
   ]
  },
  {
   "cell_type": "markdown",
   "id": "7e8c2dcd",
   "metadata": {},
   "source": [
    "**Примечание:** к сожалению признак тип номера или **tag_room** получилься достаточно объемным. В одном из вариантов решений я экспериментально ограничил кол-во значений до 200, что дало небольшой прирост метрики. В этом варианте решения эффект был обратный. Кроме того, я пользовался вариантом сортировки, который предложил [ECO 189](https://www.kaggle.com/code/eco189/project-3-1/notebook?scriptVersionId=105582270) (на мой взгляд блестящее решение), однако не получил улучшения метрики. По итогу оставил, как есть."
   ]
  },
  {
   "cell_type": "markdown",
   "id": "206c6d05",
   "metadata": {
    "papermill": {
     "duration": 0.111154,
     "end_time": "2022-10-01T20:31:05.930221",
     "exception": false,
     "start_time": "2022-10-01T20:31:05.819067",
     "status": "completed"
    },
    "tags": []
   },
   "source": [
    "***"
   ]
  },
  {
   "cell_type": "markdown",
   "id": "038592ac",
   "metadata": {
    "papermill": {
     "duration": 0.111593,
     "end_time": "2022-10-01T20:31:06.155659",
     "exception": false,
     "start_time": "2022-10-01T20:31:06.044066",
     "status": "completed"
    },
    "tags": []
   },
   "source": [
    "### 8.11. Признак **days_since_review** - кол-во дней между датой проверки и датой очистки."
   ]
  },
  {
   "cell_type": "markdown",
   "id": "6780f2a4",
   "metadata": {
    "papermill": {
     "duration": 0.111313,
     "end_time": "2022-10-01T20:31:06.645720",
     "exception": false,
     "start_time": "2022-10-01T20:31:06.534407",
     "status": "completed"
    },
    "tags": []
   },
   "source": [
    "Надо переводить в числовой признак."
   ]
  },
  {
   "cell_type": "code",
   "execution_count": 57,
   "id": "3e84811e",
   "metadata": {
    "execution": {
     "iopub.execute_input": "2022-10-01T20:31:06.874182Z",
     "iopub.status.busy": "2022-10-01T20:31:06.873050Z",
     "iopub.status.idle": "2022-10-01T20:31:07.319385Z",
     "shell.execute_reply": "2022-10-01T20:31:07.318606Z",
     "shell.execute_reply.started": "2022-10-01T20:21:08.109462Z"
    },
    "papermill": {
     "duration": 0.562585,
     "end_time": "2022-10-01T20:31:07.319557",
     "exception": false,
     "start_time": "2022-10-01T20:31:06.756972",
     "status": "completed"
    },
    "tags": []
   },
   "outputs": [],
   "source": [
    "hotels['days_since_review'] = hotels['days_since_review'].apply(\n",
    "    lambda x: int(x.split(' ')[0]))"
   ]
  },
  {
   "cell_type": "markdown",
   "id": "28027513",
   "metadata": {},
   "source": [
    "***"
   ]
  },
  {
   "cell_type": "markdown",
   "id": "fdfd3efb",
   "metadata": {},
   "source": [
    "### 9.12. Признак **average_score** - средний балл отеля."
   ]
  },
  {
   "cell_type": "markdown",
   "id": "3ffa2cfd",
   "metadata": {},
   "source": [
    "Из описания призака понятно, что он сильно связан с нашим таргетом, что подтверждается и таблицей корреляции (см. пункт 7). Попробуем его исследовать и обработать."
   ]
  },
  {
   "cell_type": "code",
   "execution_count": 58,
   "id": "289b85fc",
   "metadata": {},
   "outputs": [
    {
     "data": {
      "image/png": "[encoded data removed]",
      "text/plain": [
       "<Figure size 720x432 with 1 Axes>"
      ]
     },
     "metadata": {
      "needs_background": "light"
     },
     "output_type": "display_data"
    }
   ],
   "source": [
    "# распределение признака average_score\n",
    "hotels['average_score'].plot(\n",
    "    kind='box',\n",
    "    figsize=(10, 6),\n",
    "    title='Распределение average_score',\n",
    "    grid = True,\n",
    "    color = 'black'\n",
    ");\n",
    "\n",
    "# пометим выбросы, создав признак average_score_outliers\n",
    "hotels['average_score_outliers'] = 0\n",
    "mask = hotels['average_score'] < 6.5\n",
    "hotels.loc[mask, 'average_score_outliers'] = 1"
   ]
  },
  {
   "cell_type": "markdown",
   "id": "e66ecc5f",
   "metadata": {},
   "source": [
    "Мы видим, что значения признака содержат выбросы. Эмпирическим путем установлено, что если выбросами пометить значения менее 6.5, то метрика немного улучшается."
   ]
  },
  {
   "cell_type": "markdown",
   "id": "ad54a6dd",
   "metadata": {
    "papermill": {
     "duration": 0.112716,
     "end_time": "2022-10-01T20:31:08.688893",
     "exception": false,
     "start_time": "2022-10-01T20:31:08.576177",
     "status": "completed"
    },
    "tags": []
   },
   "source": [
    "***\n",
    "***"
   ]
  },
  {
   "cell_type": "markdown",
   "id": "6709d577",
   "metadata": {},
   "source": [
    "## 9. Дополнительная обработка отзывов ревьюверов."
   ]
  },
  {
   "cell_type": "markdown",
   "id": "feb195ab",
   "metadata": {},
   "source": [
    "Как ни крути, но это самые важные признаки, которые влияют на целевую переменную (это подтверждается логикой и экспериментами) и наша задача - найти способы их правильно обработать. "
   ]
  },
  {
   "cell_type": "markdown",
   "id": "326bb758",
   "metadata": {},
   "source": [
    "### 9.1. Используем Affin и SentimentIntensityAnalyzer() (библиотека Vader). Код взят у [MOTOBORG RUS](https://www.kaggle.com/code/motoborgrus/proj-3-hotels/notebook?scriptVersionId=103790140)"
   ]
  },
  {
   "cell_type": "code",
   "execution_count": 59,
   "id": "d8150928",
   "metadata": {},
   "outputs": [],
   "source": [
    "# Формируется единый блок текста обеих частей отзыва и избавляемся от меток отсутствия слов:\n",
    "hotels['negative_review_temp'] = hotels['negative_review'].apply(\n",
    "    lambda x: x.replace('none', ''))\n",
    "hotels['positive_review_temp'] = hotels['positive_review'].apply(\n",
    "    lambda x: x.replace('none', ''))\n",
    "hotels['review'] = hotels['positive_review_temp'] + ' ' + hotels['negative_review_temp']\n",
    "\n",
    "\n",
    "# Получаем очки оценки Afinn():\n",
    "afinn = Afinn()\n",
    "hotels['afinn_score'] = hotels['review'].apply(lambda x: afinn.score(x))\n",
    "\n",
    "# Ограничиваются размеры диапазона значений по методу Тьюки:\n",
    "def get_outliers_bonds(data, feature):\n",
    "    \"\"\"Определяем границы диапазонов для ограничения значений\"\"\"\n",
    "    x = data[feature]\n",
    "    quartile_1, quartile_3 = x.quantile(0.25), x.quantile(0.75),\n",
    "    iqr = quartile_3 - quartile_1\n",
    "    lower = quartile_1 - (iqr * 1.5)\n",
    "    upper = quartile_3 + (iqr * 1.5)\n",
    "    return lower, upper\n",
    "\n",
    "\n",
    "lower_bound, upper_bound = get_outliers_bonds(hotels, 'afinn_score')\n",
    "\n",
    "hotels['afinn_score'] = hotels['afinn_score'].apply(\n",
    "    lambda x: lower_bound if x < lower_bound else (upper_bound if x > upper_bound else x))\n",
    "\n",
    "\n",
    "sia_pos = SentimentIntensityAnalyzer()\n",
    "sia_neg = SentimentIntensityAnalyzer()\n",
    "\n",
    "# добавим контекст:\n",
    "neg_words = {'small': -2, 'none': 10}\n",
    "pos_words = {'none': -10, 'everything': 10}\n",
    "sia_neg.lexicon.update(neg_words)\n",
    "sia_pos.lexicon.update(pos_words)\n",
    "\n",
    "# меняем метки отсутствия частей отзыва:\n",
    "hotels['negative_review_temp'] = hotels['negative_review'].apply(\n",
    "    lambda x: x.replace('none', 'Positive'))\n",
    "hotels['positive_review_temp'] = hotels['positive_review'].apply(\n",
    "    lambda x: x.replace('none', 'Negative'))\n",
    "\n",
    "\n",
    "hotels['negative_review_sentiments'] = hotels['negative_review_temp'].apply(\n",
    "    lambda x: sia_neg.polarity_scores(x))\n",
    "hotels['positive_review_sentiments'] = hotels['positive_review_temp'].apply(\n",
    "    lambda x: sia_pos.polarity_scores(x))\n",
    "\n",
    "# формируем новые признаки:\n",
    "hotels['n_review_sentiments_neg'] = hotels['negative_review_sentiments'].apply(\n",
    "    lambda x: x['neg'])\n",
    "# hotels['n_review_sentiments_neu'] = hotels['negative_review_sentiments'].apply(\n",
    "#     lambda x: x['neu'])\n",
    "hotels['n_review_sentiments_pos'] = hotels['negative_review_sentiments'].apply(\n",
    "    lambda x: x['pos'])\n",
    "hotels['n_review_sentiments_compound'] = hotels['negative_review_sentiments'].apply(\n",
    "    lambda x: x['compound'])\n",
    "\n",
    "hotels['p_review_sentiments_neg'] = hotels['positive_review_sentiments'].apply(\n",
    "    lambda x: x['neg'])\n",
    "# hotels['p_review_sentiments_neu'] = hotels['positive_review_sentiments'].apply(\n",
    "#     lambda x: x['neu'])\n",
    "hotels['p_review_sentiments_pos'] = hotels['positive_review_sentiments'].apply(\n",
    "    lambda x: x['pos'])\n",
    "hotels['p_review_sentiments_compound'] = hotels['positive_review_sentiments'].apply(\n",
    "    lambda x: x['compound'])"
   ]
  },
  {
   "cell_type": "markdown",
   "id": "527decc7",
   "metadata": {},
   "source": [
    "### 9.2. Создадим признак **review_total_word_counts_diff_norm**, который будет представлять собой разницу в количестве слов негативного и позитивного отзыва."
   ]
  },
  {
   "cell_type": "markdown",
   "id": "fe2e63c5",
   "metadata": {},
   "source": [
    "Идея эта мне сразу пришла в голову и данный признак очень хорошо себя показал. Однако мои коллеги предложили его нормализовать, что поначалу меня удивило - получаемый признак имел красивое равноменое распределение. Однако практика показалу их правоту - нормализованный признак улучшает метрику. Кстати, вместо разницы можно использовать отношение, но практика показывает, что в такого рода признаках для метрики лучше все-таки разница."
   ]
  },
  {
   "cell_type": "code",
   "execution_count": 60,
   "id": "f63ce209",
   "metadata": {},
   "outputs": [],
   "source": [
    "mm_scaler = preprocessing.MinMaxScaler()\n",
    "\n",
    "# нормализуем review_total_positive_word_counts\n",
    "hotels['review_total_positive_word_counts_norm']  = pd.DataFrame(\n",
    "    mm_scaler.fit_transform(pd.DataFrame(hotels['review_total_positive_word_counts'])),\n",
    "    columns=['review_total_positive_word_counts'])\n",
    "# нормализуем review_total_negative_word_counts\n",
    "hotels['review_total_negative_word_counts_norm']  = pd.DataFrame(\n",
    "    mm_scaler.fit_transform(pd.DataFrame(hotels['review_total_negative_word_counts'])),\n",
    "    columns=['review_total_negative_word_counts'])\n",
    "\n",
    "# оплучаем разницу и создаем искомый признак\n",
    "hotels['review_total_word_counts_diff_norm'] = \\\n",
    "    hotels['review_total_positive_word_counts_norm'] - \\\n",
    "    hotels['review_total_negative_word_counts_norm']\n",
    "\n",
    "# удалим исходные нормализованные признаки\n",
    "hotels.drop(\n",
    "    ['review_total_positive_word_counts_norm', \n",
    "     'review_total_negative_word_counts_norm'\n",
    "     ], \n",
    "    axis=1, inplace=True)"
   ]
  },
  {
   "cell_type": "markdown",
   "id": "fb76166c",
   "metadata": {},
   "source": [
    "### 9.3. Создадим новый признак **review_words_mean_ratio_norm**."
   ]
  },
  {
   "cell_type": "markdown",
   "id": "aebf337b",
   "metadata": {},
   "source": [
    "Тут я должен пояснить подробнее. Логически объяснить, почему я решил создать данный признак я внятно не могу, однако он улучшает метрику.  \n",
    "Итак. Возьмем отзывы (сначала все негативные, затем все позитивные) и каждое слово закинем в список. Из этого списка создадим объект Counter - мы узнаем сколько каждое слово использовалось в отзывах данного типа (положительных или отрицательных). Затем преобразуем данный объект в словарь. Преобразуем отзыв - возьмем строку отзыва, заменим слова на частоту их встречаемости и вычислим среднее каждого отзыва. Затем вычтем разницу между положительным и отрицательным отзывом, нормализовав признаки."
   ]
  },
  {
   "cell_type": "code",
   "execution_count": 61,
   "id": "5ed62150",
   "metadata": {},
   "outputs": [],
   "source": [
    "review_words_list_neg =[] # словарь со словами в негативных отзывах\n",
    "\n",
    "# пройдемся по негативным отзывам и заполним вышеуказанный словарь\n",
    "for value in hotels.loc[:, 'negative_review']:\n",
    "    value = value.split(' ')\n",
    "    for i in range(len(value)):\n",
    "        review_words_list_neg.append(value[i])\n",
    "        \n",
    "\n",
    "c_neg = Counter(review_words_list_neg) # получаем объект Counter\n",
    "c_dict = dict(c_neg) # и преобразуем его в словарь"
   ]
  },
  {
   "cell_type": "code",
   "execution_count": 62,
   "id": "f325fe4c",
   "metadata": {},
   "outputs": [],
   "source": [
    "def get_words_mean(arg):\n",
    "    '''\n",
    "    функция получает строку отзыва, преобразует ее в список слов, \n",
    "    производит замену слов на частоту их встречаемости и возвращает\n",
    "    среднее значение частоты встречаемости всех слов исходной строки\n",
    "    '''\n",
    "    arg_list = []\n",
    "    arg = arg.split(' ')\n",
    "    for i in range(len(arg)):\n",
    "        word_num = c_dict[arg[i]]\n",
    "        arg_list.append(word_num)\n",
    "    \n",
    "    return np.average(arg_list)\n",
    "\n",
    "# создаем новый признак, применив нашу функцию\n",
    "hotels['negative_review_words_mean'] = hotels['negative_review'].apply(get_words_mean)"
   ]
  },
  {
   "cell_type": "markdown",
   "id": "5df07fb7",
   "metadata": {},
   "source": [
    "Ниже, аналогично, производим те же манипуляции с позитивными отзывами"
   ]
  },
  {
   "cell_type": "code",
   "execution_count": 63,
   "id": "8ee94299",
   "metadata": {},
   "outputs": [],
   "source": [
    "review_words_list_pos =[] # словарь со словами в позитивных отзывах\n",
    "\n",
    "# пройдемся по позитивным отзывам и заполним вышеуказанный словарь\n",
    "for value in hotels.loc[:, 'positive_review']:\n",
    "    value = value.split(' ')\n",
    "    for i in range(len(value)):\n",
    "        review_words_list_pos.append(value[i])\n",
    "        \n",
    "\n",
    "c_pos = Counter(review_words_list_pos) # получаем объект Counter\n",
    "c_dict = dict(c_pos) # и преобразуем его в словарь"
   ]
  },
  {
   "cell_type": "code",
   "execution_count": 64,
   "id": "18ce80d4",
   "metadata": {},
   "outputs": [],
   "source": [
    "# создаем новый признак, применив нашу функцию\n",
    "hotels['positive_review_words_mean'] = hotels['positive_review'].apply(get_words_mean)"
   ]
  },
  {
   "cell_type": "markdown",
   "id": "d918b75a",
   "metadata": {},
   "source": [
    "Теперь полученные признаки нормализуем и находим разницу, получив в итоге искомый признак."
   ]
  },
  {
   "cell_type": "code",
   "execution_count": 65,
   "id": "b0724d09",
   "metadata": {},
   "outputs": [],
   "source": [
    "mm_scaler = preprocessing.MinMaxScaler()\n",
    "\n",
    "hotels['negative_review_words_mean_norm']  = pd.DataFrame(\n",
    "    mm_scaler.fit_transform(pd.DataFrame(hotels['negative_review_words_mean'])),\n",
    "    columns=['negative_review_words_mean'])\n",
    "\n",
    "hotels['positive_review_words_mean_norm']  = pd.DataFrame(\n",
    "    mm_scaler.fit_transform(pd.DataFrame(hotels['positive_review_words_mean'])),\n",
    "    columns=['positive_review_words_mean'])\n",
    "\n",
    "# получаем исходный признак\n",
    "hotels['review_words_mean_ratio_norm'] = \\\n",
    "    hotels['negative_review_words_mean_norm'] - \\\n",
    "    hotels['positive_review_words_mean_norm']\n",
    "\n",
    "hotels.drop(\n",
    "    ['negative_review_words_mean_norm', \n",
    "     'positive_review_words_mean_norm'\n",
    "     ], \n",
    "    axis=1, inplace=True)"
   ]
  },
  {
   "cell_type": "markdown",
   "id": "aa53f7a4",
   "metadata": {},
   "source": [
    "### 9.4. Создадим признак **only_neg_pos_ratio_norm** - разница в количестве слов в негативном и позитивном отзыве, которые при этом встречаются **только** в негативных отзывах и **только** в позитивных."
   ]
  },
  {
   "cell_type": "markdown",
   "id": "f4acf5d1",
   "metadata": {},
   "source": [
    "У нас сохранились два списка - в одном все слова негативных отзывов, в другом - все слова в позитивных. Переведем их в множества, получив уникальные значения. Затем вычтем множества друг у друга, получив слова, которые встречаются только в одном из типов отзывов (негативных и позитивных). Считаем количество уникальных слов для данного типа отзыва (отрицательного и положительного) в каждом отзыве, а дальше, как обычно - получаем нормализованную разницу между ними."
   ]
  },
  {
   "cell_type": "code",
   "execution_count": 66,
   "id": "d45669ed",
   "metadata": {},
   "outputs": [],
   "source": [
    "# получаем множества из списков слов\n",
    "set_neg = set(review_words_list_neg)\n",
    "set_pos = set(review_words_list_pos)\n",
    "\n",
    "# получаем разницу множеств\n",
    "set_only_neg = set_neg - set_pos\n",
    "set_only_pos = set_pos - set_neg"
   ]
  },
  {
   "cell_type": "code",
   "execution_count": 67,
   "id": "e1a31400",
   "metadata": {},
   "outputs": [],
   "source": [
    "def get_only_negative(arg):\n",
    "    '''\n",
    "    функция получает негативный отзыв в виде строки и возвращает\n",
    "    количество слов в данном отзыве, которые встречаются только\n",
    "    в негативных отзывах\n",
    "    '''\n",
    "    negative_words_num = 0\n",
    "    arg = arg.split(' ')\n",
    "    for i in range(len(arg)):\n",
    "        if arg[i] in set_only_neg:\n",
    "            negative_words_num += 1\n",
    "    \n",
    "    return negative_words_num\n",
    "\n",
    "def get_only_positive(arg):\n",
    "    '''\n",
    "    функция по сути дублирует предыдущую;\n",
    "    функция получает позитивный отзыв в виде строки и возвращает\n",
    "    количество слов в данном отзыве, которые встречаются только\n",
    "    в позитивных отзывах\n",
    "    '''\n",
    "    positive_words_num = 0\n",
    "    arg = arg.split(' ')\n",
    "    for i in range(len(arg)):\n",
    "        if arg[i] in set_only_pos:\n",
    "            positive_words_num += 1\n",
    "    \n",
    "    return positive_words_num        \n",
    "\n",
    "# применяем соответствующие функции к соответствующим признакам\n",
    "hotels['only_negative'] = hotels['negative_review'].apply(get_only_negative)\n",
    "hotels['only_positive'] = hotels['positive_review'].apply(get_only_positive)"
   ]
  },
  {
   "cell_type": "code",
   "execution_count": 68,
   "id": "8e937881",
   "metadata": {},
   "outputs": [],
   "source": [
    "# здесь мы вычислим нормализованную разницу между признаками,\n",
    "# полученными выше\n",
    "\n",
    "# последовательно нормализуем полученные признаки\n",
    "mm_scaler = preprocessing.MinMaxScaler()\n",
    "\n",
    "hotels['only_negative_norm']  = pd.DataFrame(\n",
    "    mm_scaler.fit_transform(pd.DataFrame(hotels['only_negative'])),\n",
    "    columns=['only_negative'])\n",
    "\n",
    "hotels['only_positive_norm']  = pd.DataFrame(\n",
    "    mm_scaler.fit_transform(pd.DataFrame(hotels['only_positive'])),\n",
    "    columns=['only_positive'])\n",
    "\n",
    "# считаем разницу\n",
    "hotels['only_neg_pos_ratio_norm'] = \\\n",
    "    hotels['only_negative_norm'] - \\\n",
    "    hotels['only_positive_norm']\n",
    "\n",
    "hotels.drop(\n",
    "    ['only_negative_norm', \n",
    "     'only_positive_norm', \n",
    "     'only_negative',\n",
    "     'only_positive'\n",
    "     ], \n",
    "    axis=1, inplace=True)"
   ]
  },
  {
   "cell_type": "markdown",
   "id": "a84b6311",
   "metadata": {},
   "source": [
    "***"
   ]
  },
  {
   "cell_type": "markdown",
   "id": "8c4178d5",
   "metadata": {},
   "source": [
    "## 10. Удалим признаки, которые уже точно нам не нужны."
   ]
  },
  {
   "cell_type": "code",
   "execution_count": 69,
   "id": "df656247",
   "metadata": {},
   "outputs": [],
   "source": [
    "hotels.drop([\n",
    "    'hotel_city',\n",
    "    'hotel_address',\n",
    "    'review_date',\n",
    "    'negative_review',\n",
    "    'positive_review',\n",
    "    'tags',\n",
    "    'lat','lng'\n",
    "], axis=1, inplace=True)"
   ]
  },
  {
   "cell_type": "markdown",
   "id": "257c106d",
   "metadata": {},
   "source": [
    "***"
   ]
  },
  {
   "cell_type": "markdown",
   "id": "bab1cb40",
   "metadata": {},
   "source": [
    "## 11. Кодирование категориальных признаков."
   ]
  },
  {
   "cell_type": "code",
   "execution_count": 70,
   "id": "40e73718",
   "metadata": {},
   "outputs": [],
   "source": [
    "# котируем категориальные признаки, используя OneHotEncoding\n",
    "encoder = ce.OneHotEncoder(cols=[ \n",
    "    'hotel_country',\n",
    "    'review_month',\n",
    "    'review_dayofweek',\n",
    "    'tag_trip_type',\n",
    "    'tag_guest_description'\n",
    "    \n",
    "]) \n",
    "# указываем столбец для кодирования\n",
    "type_bin = encoder.fit_transform(hotels[[\n",
    "    'hotel_country',\n",
    "    'review_month',\n",
    "    'review_dayofweek',\n",
    "    'tag_trip_type',\n",
    "    'tag_guest_description'\n",
    "]])\n",
    "hotels = pd.concat([hotels, type_bin], axis=1)"
   ]
  },
  {
   "cell_type": "code",
   "execution_count": 71,
   "id": "2fe0cef3",
   "metadata": {},
   "outputs": [],
   "source": [
    "# кодируем категориальные признаки, используя BinaryEncoding\n",
    "bin_encoder = ce.BinaryEncoder(cols=[\n",
    "    'hotel_region',\n",
    "    'hotel_postcode',\n",
    "    'hotel_name',\n",
    "    'reviewer_nationality',\n",
    "    'tag_room'\n",
    "\n",
    "]) \n",
    "# указываем столбец для кодирования\n",
    "type_bin = bin_encoder.fit_transform(hotels[[\n",
    "    'hotel_region',\n",
    "    'hotel_postcode',\n",
    "    'hotel_name',\n",
    "    'reviewer_nationality',\n",
    "    'tag_room'\n",
    "]])\n",
    "hotels = pd.concat([hotels, type_bin], axis=1)"
   ]
  },
  {
   "cell_type": "code",
   "execution_count": 72,
   "id": "3ee53957",
   "metadata": {},
   "outputs": [],
   "source": [
    "# удаляем исходные столбцы\n",
    "hotels.drop([\n",
    "    'hotel_country',\n",
    "    'review_month',\n",
    "    'review_dayofweek',\n",
    "    'tag_trip_type',\n",
    "    'tag_guest_description',\n",
    "    \n",
    "    'hotel_region',\n",
    "    'hotel_postcode',\n",
    "    'hotel_name',\n",
    "    'reviewer_nationality',\n",
    "    'tag_room'\n",
    "], axis=1, inplace=True)"
   ]
  },
  {
   "cell_type": "markdown",
   "id": "6751127b",
   "metadata": {},
   "source": [
    "После кодирования мы удалили исходные признаки, однако нужно удалить еще оставшиеся признаки типа **object**"
   ]
  },
  {
   "cell_type": "code",
   "execution_count": 73,
   "id": "6bb6efa6",
   "metadata": {},
   "outputs": [
    {
     "name": "stdout",
     "output_type": "stream",
     "text": [
      "object columns: ['negative_review_temp', 'positive_review_temp', 'review', 'negative_review_sentiments', 'positive_review_sentiments']\n",
      "Total deleted: 5\n"
     ]
    }
   ],
   "source": [
    "object_columns = [s for s in hotels.columns if hotels[s].dtypes == 'object']\n",
    "print(f'object columns: {object_columns}')\n",
    "hotels.drop(object_columns, axis = 1, inplace=True)\n",
    "print(f'Total deleted: {len(object_columns)}')"
   ]
  },
  {
   "cell_type": "markdown",
   "id": "e56162f2",
   "metadata": {},
   "source": [
    "***"
   ]
  },
  {
   "cell_type": "markdown",
   "id": "e40e25c7",
   "metadata": {
    "papermill": {
     "duration": 0.115955,
     "end_time": "2022-10-01T20:31:08.916512",
     "exception": false,
     "start_time": "2022-10-01T20:31:08.800557",
     "status": "completed"
    },
    "tags": []
   },
   "source": [
    "## 9. Отбор признаков"
   ]
  },
  {
   "cell_type": "code",
   "execution_count": 74,
   "id": "885f30b5",
   "metadata": {},
   "outputs": [],
   "source": [
    "# сделаем копию датасета для удобства\n",
    "hotels_copy = hotels.copy()"
   ]
  },
  {
   "cell_type": "markdown",
   "id": "61898366",
   "metadata": {
    "papermill": {
     "duration": 0.111213,
     "end_time": "2022-10-01T20:31:26.585166",
     "exception": false,
     "start_time": "2022-10-01T20:31:26.473953",
     "status": "completed"
    },
    "tags": []
   },
   "source": [
    "### 9.1. Оценим влияние признаков на целевую переменную и корреляцию. "
   ]
  },
  {
   "cell_type": "code",
   "execution_count": 75,
   "id": "cb73b33f",
   "metadata": {},
   "outputs": [],
   "source": [
    "# так как таргет указан только в тренировочном датасете, \n",
    "# создадим соответствующую маску\n",
    "mask = hotels_copy['sample'] == 1"
   ]
  },
  {
   "cell_type": "code",
   "execution_count": 76,
   "id": "a8363658",
   "metadata": {
    "execution": {
     "iopub.execute_input": "2022-10-01T20:31:26.858878Z",
     "iopub.status.busy": "2022-10-01T20:31:26.858048Z",
     "iopub.status.idle": "2022-10-01T20:31:27.032488Z",
     "shell.execute_reply": "2022-10-01T20:31:27.033034Z",
     "shell.execute_reply.started": "2022-10-01T20:21:25.569089Z"
    },
    "papermill": {
     "duration": 0.312364,
     "end_time": "2022-10-01T20:31:27.033352",
     "exception": false,
     "start_time": "2022-10-01T20:31:26.720988",
     "status": "completed"
    },
    "tags": []
   },
   "outputs": [],
   "source": [
    "# выделим категориальные признаки\n",
    "hotels_cat = hotels_copy.drop([\n",
    "    'reviewer_score',\n",
    "    'sample',\n",
    "    'additional_number_of_scoring',\n",
    "    'average_score',\n",
    "    'review_total_negative_word_counts',\n",
    "    'review_total_positive_word_counts',\n",
    "    'total_number_of_reviews',\n",
    "    'total_number_of_reviews_reviewer_has_given',\n",
    "    'days_since_review',\n",
    "    'review_total_word_counts_diff_norm',\n",
    "    \n",
    "    'review_words_mean_ratio_norm',\n",
    "    'negative_review_words_mean',\n",
    "    'positive_review_words_mean',\n",
    "    \n",
    "    'only_neg_pos_ratio_norm',\n",
    "    \n",
    "    \n",
    "    'afinn_score',\n",
    "    'n_review_sentiments_neg',\n",
    "    'n_review_sentiments_compound',\n",
    "    'p_review_sentiments_pos',\n",
    "    'p_review_sentiments_compound',\n",
    "    'n_review_sentiments_pos',\n",
    "    'p_review_sentiments_neg',\n",
    "\n",
    " ], axis=1)\n",
    "hotels_columns_cat = list(hotels_cat.columns)"
   ]
  },
  {
   "cell_type": "code",
   "execution_count": 77,
   "id": "f664554d",
   "metadata": {
    "execution": {
     "iopub.execute_input": "2022-10-01T20:31:27.263360Z",
     "iopub.status.busy": "2022-10-01T20:31:27.262632Z",
     "iopub.status.idle": "2022-10-01T20:31:28.082246Z",
     "shell.execute_reply": "2022-10-01T20:31:28.081575Z",
     "shell.execute_reply.started": "2022-10-01T20:21:25.672680Z"
    },
    "papermill": {
     "duration": 0.937006,
     "end_time": "2022-10-01T20:31:28.082439",
     "exception": false,
     "start_time": "2022-10-01T20:31:27.145433",
     "status": "completed"
    },
    "tags": []
   },
   "outputs": [],
   "source": [
    "# Разбиваем датафрейм на части, необходимые для обучения и тестирования модели  \n",
    "# Х - данные с информацией об отелях, у - целевая переменная (рейтинги отелей)  \n",
    "X = hotels_copy[mask].drop(['reviewer_score'], axis = 1)  \n",
    "y = hotels_copy[mask]['reviewer_score'] \n",
    "            \n",
    "# Наборы данных с меткой \"train\" будут использоваться для обучения модели, \"test\" — для тестирования.  \n",
    "# Для тестирования мы будем использовать 25 % от исходного датасета.  \n",
    "X_train, X_test, y_train, y_test = train_test_split(X, y, test_size=0.25, random_state=42)"
   ]
  },
  {
   "cell_type": "markdown",
   "id": "b9391612",
   "metadata": {
    "papermill": {
     "duration": 0.130008,
     "end_time": "2022-10-01T20:31:28.342006",
     "exception": false,
     "start_time": "2022-10-01T20:31:28.211998",
     "status": "completed"
    },
    "tags": []
   },
   "source": [
    "Для оценки значимости категориальных переменных будем использовать изученный нами непараметрический тест хи-квадрат, реализованный в библиотеке sklearn.feature_selection.chi2. Метод возвращает массив значений хи-квадрат и p-value для каждого признака. Используем только значения хи-квадрат и выведем их на графике:"
   ]
  },
  {
   "cell_type": "markdown",
   "id": "2bc4129b",
   "metadata": {},
   "source": [
    "#### 9.1.1. Тест хи-квадрат."
   ]
  },
  {
   "cell_type": "code",
   "execution_count": 78,
   "id": "7ba1c270",
   "metadata": {
    "execution": {
     "iopub.execute_input": "2022-10-01T20:31:28.609143Z",
     "iopub.status.busy": "2022-10-01T20:31:28.608094Z",
     "iopub.status.idle": "2022-10-01T20:31:33.462481Z",
     "shell.execute_reply": "2022-10-01T20:31:33.463270Z",
     "shell.execute_reply.started": "2022-10-01T20:21:26.405377Z"
    },
    "papermill": {
     "duration": 4.991844,
     "end_time": "2022-10-01T20:31:33.463737",
     "exception": false,
     "start_time": "2022-10-01T20:31:28.471893",
     "status": "completed"
    },
    "tags": []
   },
   "outputs": [
    {
     "data": {
      "image/png": "[encoded data removed]",
      "text/plain": [
       "<Figure size 1080x2880 with 1 Axes>"
      ]
     },
     "metadata": {
      "needs_background": "light"
     },
     "output_type": "display_data"
    }
   ],
   "source": [
    "y=y.astype('int')\n",
    "\n",
    "cat_cols = hotels_columns_cat\n",
    "\n",
    "imp_cat = pd.Series(chi2(X[cat_cols], y)[0], index=cat_cols)\n",
    "imp_cat.sort_values(inplace = True)\n",
    "imp_cat.plot(kind = 'barh', figsize=(15, 40));"
   ]
  },
  {
   "cell_type": "markdown",
   "id": "e4cdb45d",
   "metadata": {},
   "source": [
    "#### 9.1.2. Тест ANOVA."
   ]
  },
  {
   "cell_type": "markdown",
   "id": "01ff59df",
   "metadata": {
    "papermill": {
     "duration": 0.118033,
     "end_time": "2022-10-01T20:31:33.720067",
     "exception": false,
     "start_time": "2022-10-01T20:31:33.602034",
     "status": "completed"
    },
    "tags": []
   },
   "source": [
    "Для оценки значимости непрерывных переменных будем использовать функцию f_classif из библиотеки sklearn. В основе метода оценки значимости переменных лежит изученный вами в юнитах по статистике анализ (ANOVA). Основу процедуры составляет обобщение результатов двух выборочных t-тестов для независимых выборок (2-sample t).\n",
    "\n",
    "Метод возвращает двумерный массив f-статистик и p-value для каждого признака. В качестве меры значимости мы будем использовать значение f-статистики. Чем значение статистики выше, тем меньше вероятность того, что средние значения не отличаются, и тем важнее данный признак для нашей модели."
   ]
  },
  {
   "cell_type": "code",
   "execution_count": 79,
   "id": "8cd92c6e",
   "metadata": {
    "execution": {
     "iopub.execute_input": "2022-10-01T20:31:33.958694Z",
     "iopub.status.busy": "2022-10-01T20:31:33.957659Z",
     "iopub.status.idle": "2022-10-01T20:31:34.339384Z",
     "shell.execute_reply": "2022-10-01T20:31:34.339920Z",
     "shell.execute_reply.started": "2022-10-01T20:21:31.200898Z"
    },
    "papermill": {
     "duration": 0.50257,
     "end_time": "2022-10-01T20:31:34.340123",
     "exception": false,
     "start_time": "2022-10-01T20:31:33.837553",
     "status": "completed"
    },
    "tags": []
   },
   "outputs": [
    {
     "data": {
      "image/png": "[encoded data removed]",
      "text/plain": [
       "<Figure size 1080x576 with 1 Axes>"
      ]
     },
     "metadata": {
      "needs_background": "light"
     },
     "output_type": "display_data"
    }
   ],
   "source": [
    "# выделим числовые признаки\n",
    "num_cols = [\n",
    "    'additional_number_of_scoring',\n",
    "    'average_score',\n",
    "    'review_total_negative_word_counts',\n",
    "    'review_total_positive_word_counts',\n",
    "    'total_number_of_reviews',\n",
    "    'total_number_of_reviews_reviewer_has_given',\n",
    "    'days_since_review',\n",
    "    'review_total_word_counts_diff_norm',\n",
    "    \n",
    "    'review_words_mean_ratio_norm',\n",
    "    'negative_review_words_mean',\n",
    "    'positive_review_words_mean',\n",
    "    \n",
    "    'only_neg_pos_ratio_norm',\n",
    "    \n",
    "    'afinn_score',\n",
    "    'n_review_sentiments_neg',\n",
    "    'n_review_sentiments_compound',\n",
    "    'p_review_sentiments_pos',\n",
    "    'p_review_sentiments_compound',\n",
    "    'n_review_sentiments_pos',\n",
    "    'p_review_sentiments_neg'\n",
    " ]\n",
    "\n",
    "imp_num = pd.Series(f_classif(X[num_cols], y)[0], index = num_cols)\n",
    "imp_num.sort_values(inplace = True)\n",
    "imp_num.plot(kind = 'barh', figsize=(15, 8));"
   ]
  },
  {
   "cell_type": "markdown",
   "id": "dee19acc",
   "metadata": {},
   "source": [
    "#### 9.2. Корреляция."
   ]
  },
  {
   "cell_type": "markdown",
   "id": "a1b46cb5",
   "metadata": {},
   "source": [
    "Вместо создания тепловой матрицы выведем признаки с высокой степенью корреляции (мне так удобнее). Код взят с **stackoverflow.com**"
   ]
  },
  {
   "cell_type": "code",
   "execution_count": 80,
   "id": "5d50126c",
   "metadata": {},
   "outputs": [
    {
     "name": "stdout",
     "output_type": "stream",
     "text": [
      "Top Absolute Correlations\n",
      "---\n",
      "tag_trip_type_1                    tag_trip_type_2                       0.904145\n",
      "additional_number_of_scoring       total_number_of_reviews               0.859057\n",
      "negative_review_no_negative        n_review_sentiments_pos               0.845433\n",
      "tag_sub_mobile                     tag_num                               0.822977\n",
      "afinn_score                        p_review_sentiments_compound          0.816375\n",
      "review_total_negative_word_counts  negative_review_no_negative           0.805485\n",
      "n_review_sentiments_pos            n_review_sentiments_compound          0.805329\n",
      "negative_review_no_negative        negative_review_words_mean            0.766379\n",
      "n_review_sentiments_neg            n_review_sentiments_compound          0.734532\n",
      "positive_review_no_positive        p_review_sentiments_neg               0.718548\n",
      "review_total_positive_word_counts  p_review_sentiments_compound          0.701447\n",
      "review_total_negative_word_counts  review_total_word_counts_diff_norm    0.696462\n",
      "hotel_region_1                     hotel_name_1                          0.675403\n",
      "positive_review_words_mean         review_words_mean_ratio_norm          0.670406\n",
      "negative_review_no_negative        n_review_sentiments_compound          0.668072\n",
      "review_total_positive_word_counts  afinn_score                           0.660382\n",
      "hotel_reviewer_same_country        hotel_country_4                       0.651094\n",
      "negative_review_words_mean         review_words_mean_ratio_norm          0.648919\n",
      "n_review_sentiments_pos            negative_review_words_mean            0.640291\n",
      "reviewer_en                        reviewer_nationality_3                0.638520\n",
      "dtype: float64\n"
     ]
    }
   ],
   "source": [
    "# получим корреляцию Спирмена для категориальных признаков\n",
    "\n",
    "def get_redundant_pairs(df):\n",
    "    '''Get diagonal and lower triangular pairs of correlation matrix'''\n",
    "    pairs_to_drop = set()\n",
    "    cols = df.columns\n",
    "    for i in range(0, df.shape[1]):\n",
    "        for j in range(0, i+1):\n",
    "            pairs_to_drop.add((cols[i], cols[j]))\n",
    "    return pairs_to_drop\n",
    "\n",
    "def get_top_abs_correlations(df, n=5):\n",
    "    au_corr = df.corr(method = 'spearman').abs().unstack()\n",
    "    labels_to_drop = get_redundant_pairs(df)\n",
    "    au_corr = au_corr.drop(labels=labels_to_drop).sort_values(ascending=False)\n",
    "    return au_corr[0:n]\n",
    "\n",
    "print(\"Top Absolute Correlations\")\n",
    "print('---')\n",
    "print(get_top_abs_correlations(hotels_copy[mask], 20))"
   ]
  },
  {
   "cell_type": "code",
   "execution_count": 81,
   "id": "f87bad42",
   "metadata": {},
   "outputs": [
    {
     "name": "stdout",
     "output_type": "stream",
     "text": [
      "Top Absolute Correlations\n",
      "---\n",
      "positive_review_no_positive        p_review_sentiments_neg               0.987172\n",
      "negative_review_no_negative        n_review_sentiments_pos               0.973486\n",
      "tag_trip_type_1                    tag_trip_type_2                       0.904145\n",
      "tag_sub_mobile                     tag_num                               0.838374\n",
      "additional_number_of_scoring       total_number_of_reviews               0.824467\n",
      "review_total_negative_word_counts  review_total_word_counts_diff_norm    0.770018\n",
      "negative_review_no_negative        negative_review_words_mean            0.753067\n",
      "n_review_sentiments_pos            n_review_sentiments_compound          0.732451\n",
      "positive_review_words_mean         review_words_mean_ratio_norm          0.725361\n",
      "n_review_sentiments_pos            negative_review_words_mean            0.719885\n",
      "p_review_sentiments_neg            p_review_sentiments_compound          0.713026\n",
      "p_review_sentiments_pos            p_review_sentiments_compound          0.704468\n",
      "positive_review_no_positive        p_review_sentiments_compound          0.692052\n",
      "afinn_score                        p_review_sentiments_compound          0.680731\n",
      "hotel_region_1                     hotel_name_1                          0.675403\n",
      "n_review_sentiments_neg            n_review_sentiments_compound          0.670315\n",
      "hotel_reviewer_same_country        hotel_country_4                       0.651094\n",
      "negative_review_no_negative        n_review_sentiments_compound          0.644064\n",
      "reviewer_en                        reviewer_nationality_3                0.638520\n",
      "negative_review_words_mean         review_words_mean_ratio_norm          0.630632\n",
      "dtype: float64\n"
     ]
    }
   ],
   "source": [
    "# получим корреляцию Пирсона для непрерывных признаков\n",
    "\n",
    "def get_redundant_pairs(df):\n",
    "    '''Get diagonal and lower triangular pairs of correlation matrix'''\n",
    "    pairs_to_drop = set()\n",
    "    cols = df.columns\n",
    "    for i in range(0, df.shape[1]):\n",
    "        for j in range(0, i+1):\n",
    "            pairs_to_drop.add((cols[i], cols[j]))\n",
    "    return pairs_to_drop\n",
    "\n",
    "def get_top_abs_correlations(df, n=5):\n",
    "    au_corr = df.corr(method='pearson').abs().unstack()\n",
    "    labels_to_drop = get_redundant_pairs(df)\n",
    "    au_corr = au_corr.drop(labels=labels_to_drop).sort_values(ascending=False)\n",
    "    return au_corr[0:n]\n",
    "\n",
    "print(\"Top Absolute Correlations\")\n",
    "print('---')\n",
    "print(get_top_abs_correlations(hotels_copy[mask], 20))"
   ]
  },
  {
   "cell_type": "markdown",
   "id": "a2fe10ab",
   "metadata": {},
   "source": [
    "#### 9.3. Удалим признаки мало влияющие на таргет или сильно коррелирующие."
   ]
  },
  {
   "cell_type": "code",
   "execution_count": 82,
   "id": "43c7f714",
   "metadata": {},
   "outputs": [],
   "source": [
    "hotels_copy.drop([\n",
    "    \n",
    "    \n",
    "], axis=1, inplace=True)"
   ]
  },
  {
   "cell_type": "markdown",
   "id": "f595c123",
   "metadata": {},
   "source": [
    "**Примечание:** Практика показала, что уменьшение количества признаков как правило ухудшает метрику. Исключение - признаки со степенью корреляции 1. Решил все оставить."
   ]
  },
  {
   "cell_type": "markdown",
   "id": "e455e9d2",
   "metadata": {},
   "source": [
    "***"
   ]
  },
  {
   "cell_type": "markdown",
   "id": "32a528ed",
   "metadata": {},
   "source": [
    "## 10. Работа с моделью."
   ]
  },
  {
   "cell_type": "code",
   "execution_count": 83,
   "id": "e9ef9fc4",
   "metadata": {
    "execution": {
     "iopub.execute_input": "2022-10-01T20:32:17.601169Z",
     "iopub.status.busy": "2022-10-01T20:32:17.597846Z",
     "iopub.status.idle": "2022-10-01T20:32:18.222126Z",
     "shell.execute_reply": "2022-10-01T20:32:18.222717Z",
     "shell.execute_reply.started": "2022-10-01T20:22:12.008143Z"
    },
    "papermill": {
     "duration": 0.807171,
     "end_time": "2022-10-01T20:32:18.222930",
     "exception": false,
     "start_time": "2022-10-01T20:32:17.415759",
     "status": "completed"
    },
    "tags": []
   },
   "outputs": [],
   "source": [
    "# Теперь выделим тестовую часть\n",
    "train_data = hotels_copy.query('sample == 1').drop(['sample'], axis=1)\n",
    "test_data = hotels_copy.query('sample == 0').drop(['sample'], axis=1)\n",
    "\n",
    "y = train_data.reviewer_score.values            # наш таргет\n",
    "X = train_data.drop(['reviewer_score'], axis=1)"
   ]
  },
  {
   "cell_type": "code",
   "execution_count": 84,
   "id": "d7ae1a37",
   "metadata": {
    "execution": {
     "iopub.execute_input": "2022-10-01T20:32:18.582583Z",
     "iopub.status.busy": "2022-10-01T20:32:18.581789Z",
     "iopub.status.idle": "2022-10-01T20:32:18.941251Z",
     "shell.execute_reply": "2022-10-01T20:32:18.940583Z",
     "shell.execute_reply.started": "2022-10-01T20:22:12.485535Z"
    },
    "papermill": {
     "duration": 0.540315,
     "end_time": "2022-10-01T20:32:18.941458",
     "exception": false,
     "start_time": "2022-10-01T20:32:18.401143",
     "status": "completed"
    },
    "tags": []
   },
   "outputs": [],
   "source": [
    "# Воспользуемся специальной функцие train_test_split для разбивки тестовых данных\n",
    "# выделим 20% данных на валидацию (параметр test_size)\n",
    "X_train, X_test, y_train, y_test = train_test_split(X, y, test_size=0.2, random_state=RANDOM_SEED)"
   ]
  },
  {
   "cell_type": "code",
   "execution_count": 85,
   "id": "66737079",
   "metadata": {
    "execution": {
     "iopub.execute_input": "2022-10-01T20:32:19.311007Z",
     "iopub.status.busy": "2022-10-01T20:32:19.310278Z",
     "iopub.status.idle": "2022-10-01T20:32:19.315678Z",
     "shell.execute_reply": "2022-10-01T20:32:19.316271Z",
     "shell.execute_reply.started": "2022-10-01T20:22:12.813595Z"
    },
    "papermill": {
     "duration": 0.193681,
     "end_time": "2022-10-01T20:32:19.316481",
     "exception": false,
     "start_time": "2022-10-01T20:32:19.122800",
     "status": "completed"
    },
    "tags": []
   },
   "outputs": [
    {
     "data": {
      "text/plain": [
       "((128935, 117), (386803, 117), (386803, 116), (309442, 116), (77361, 116))"
      ]
     },
     "execution_count": 85,
     "metadata": {},
     "output_type": "execute_result"
    }
   ],
   "source": [
    "# проверяем\n",
    "test_data.shape, train_data.shape, X.shape, X_train.shape, X_test.shape"
   ]
  },
  {
   "cell_type": "code",
   "execution_count": 86,
   "id": "e9c51b48",
   "metadata": {
    "execution": {
     "iopub.execute_input": "2022-10-01T20:32:19.684794Z",
     "iopub.status.busy": "2022-10-01T20:32:19.684075Z",
     "iopub.status.idle": "2022-10-01T20:32:19.688387Z",
     "shell.execute_reply": "2022-10-01T20:32:19.689015Z",
     "shell.execute_reply.started": "2022-10-01T20:22:12.822387Z"
    },
    "papermill": {
     "duration": 0.191545,
     "end_time": "2022-10-01T20:32:19.689221",
     "exception": false,
     "start_time": "2022-10-01T20:32:19.497676",
     "status": "completed"
    },
    "tags": []
   },
   "outputs": [],
   "source": [
    "# Создаём модель (НАСТРОЙКИ НЕ ТРОГАЕМ)\n",
    "model = RandomForestRegressor(n_estimators=100, verbose=1, n_jobs=-1, random_state=RANDOM_SEED)"
   ]
  },
  {
   "cell_type": "code",
   "execution_count": 87,
   "id": "1c70e237",
   "metadata": {
    "execution": {
     "iopub.execute_input": "2022-10-01T20:32:20.051119Z",
     "iopub.status.busy": "2022-10-01T20:32:20.050421Z",
     "iopub.status.idle": "2022-10-01T20:36:51.030591Z",
     "shell.execute_reply": "2022-10-01T20:36:51.029807Z",
     "shell.execute_reply.started": "2022-10-01T20:22:12.865772Z"
    },
    "papermill": {
     "duration": 271.162158,
     "end_time": "2022-10-01T20:36:51.030807",
     "exception": false,
     "start_time": "2022-10-01T20:32:19.868649",
     "status": "completed"
    },
    "tags": []
   },
   "outputs": [
    {
     "name": "stderr",
     "output_type": "stream",
     "text": [
      "[Parallel(n_jobs=-1)]: Using backend ThreadingBackend with 10 concurrent workers.\n",
      "[Parallel(n_jobs=-1)]: Done  30 tasks      | elapsed:   25.3s\n",
      "[Parallel(n_jobs=-1)]: Done 100 out of 100 | elapsed:  1.4min finished\n",
      "[Parallel(n_jobs=10)]: Using backend ThreadingBackend with 10 concurrent workers.\n",
      "[Parallel(n_jobs=10)]: Done  30 tasks      | elapsed:    0.2s\n",
      "[Parallel(n_jobs=10)]: Done 100 out of 100 | elapsed:    0.5s finished\n"
     ]
    }
   ],
   "source": [
    "# Обучаем модель на тестовом наборе данных\n",
    "model.fit(X_train, y_train)\n",
    "\n",
    "# Используем обученную модель для предсказания рейтинга ресторанов в тестовой выборке.\n",
    "# Предсказанные значения записываем в переменную y_pred\n",
    "y_pred = model.predict(X_test)"
   ]
  },
  {
   "cell_type": "code",
   "execution_count": 88,
   "id": "caebe6c3",
   "metadata": {
    "execution": {
     "iopub.execute_input": "2022-10-01T20:36:51.405243Z",
     "iopub.status.busy": "2022-10-01T20:36:51.404494Z",
     "iopub.status.idle": "2022-10-01T20:36:51.410982Z",
     "shell.execute_reply": "2022-10-01T20:36:51.411824Z",
     "shell.execute_reply.started": "2022-10-01T20:26:54.282190Z"
    },
    "papermill": {
     "duration": 0.199408,
     "end_time": "2022-10-01T20:36:51.412129",
     "exception": false,
     "start_time": "2022-10-01T20:36:51.212721",
     "status": "completed"
    },
    "tags": []
   },
   "outputs": [
    {
     "name": "stdout",
     "output_type": "stream",
     "text": [
      "MAE: 0.8503394475252385\n",
      "MAPE: 12.1268\n"
     ]
    }
   ],
   "source": [
    "# Сравниваем предсказанные значения (y_pred) с реальными (y_test), и смотрим насколько они в среднем отличаются\n",
    "# Метрика называется Mean Absolute Error (MAE) и показывает среднее отклонение предсказанных значений от фактических.\n",
    "print('MAE:', metrics.mean_absolute_error(y_test, y_pred))\n",
    "\n",
    "def mean_absolute_percentage_error(y_tr, y_pr):\n",
    "    \"\"\"Получение средней абсолютной ошибки\"\"\"\n",
    "    y_tr, y_pr = np.array(y_tr), np.array(y_pr)\n",
    "    return np.mean(np.abs((y_tr - y_pr) / y_tr)) * 100\n",
    "\n",
    "print('MAPE:', round(mean_absolute_percentage_error(y_test, y_pred), 4))"
   ]
  },
  {
   "cell_type": "code",
   "execution_count": 89,
   "id": "b3132d9a",
   "metadata": {
    "execution": {
     "iopub.execute_input": "2022-10-01T20:36:51.781258Z",
     "iopub.status.busy": "2022-10-01T20:36:51.780415Z",
     "iopub.status.idle": "2022-10-01T20:36:54.042946Z",
     "shell.execute_reply": "2022-10-01T20:36:54.042299Z",
     "shell.execute_reply.started": "2022-10-01T20:26:54.295675Z"
    },
    "papermill": {
     "duration": 2.449141,
     "end_time": "2022-10-01T20:36:54.043118",
     "exception": false,
     "start_time": "2022-10-01T20:36:51.593977",
     "status": "completed"
    },
    "tags": []
   },
   "outputs": [
    {
     "data": {
      "image/png": "[encoded data removed]",
      "text/plain": [
       "<Figure size 1440x3600 with 1 Axes>"
      ]
     },
     "metadata": {
      "needs_background": "light"
     },
     "output_type": "display_data"
    }
   ],
   "source": [
    "# в RandomForestRegressor есть возможность вывести самые важные признаки для модели\n",
    "plt.rcParams['figure.figsize'] = (20,50)\n",
    "feat_importances = pd.Series(model.feature_importances_, index=X.columns)\n",
    "feat_importances.nlargest(len(feat_importances)).plot(kind='barh');\n"
   ]
  },
  {
   "cell_type": "code",
   "execution_count": 90,
   "id": "a0f1a387",
   "metadata": {
    "execution": {
     "iopub.execute_input": "2022-10-01T20:36:54.432314Z",
     "iopub.status.busy": "2022-10-01T20:36:54.431460Z",
     "iopub.status.idle": "2022-10-01T20:36:54.458311Z",
     "shell.execute_reply": "2022-10-01T20:36:54.458816Z",
     "shell.execute_reply.started": "2022-10-01T20:26:56.486715Z"
    },
    "papermill": {
     "duration": 0.218111,
     "end_time": "2022-10-01T20:36:54.459078",
     "exception": false,
     "start_time": "2022-10-01T20:36:54.240967",
     "status": "completed"
    },
    "tags": []
   },
   "outputs": [
    {
     "data": {
      "text/html": [
       "<div>\n",
       "<style scoped>\n",
       "    .dataframe tbody tr th:only-of-type {\n",
       "        vertical-align: middle;\n",
       "    }\n",
       "\n",
       "    .dataframe tbody tr th {\n",
       "        vertical-align: top;\n",
       "    }\n",
       "\n",
       "    .dataframe thead th {\n",
       "        text-align: right;\n",
       "    }\n",
       "</style>\n",
       "<table border=\"1\" class=\"dataframe\">\n",
       "  <thead>\n",
       "    <tr style=\"text-align: right;\">\n",
       "      <th></th>\n",
       "      <th>additional_number_of_scoring</th>\n",
       "      <th>average_score</th>\n",
       "      <th>review_total_negative_word_counts</th>\n",
       "      <th>total_number_of_reviews</th>\n",
       "      <th>review_total_positive_word_counts</th>\n",
       "      <th>total_number_of_reviews_reviewer_has_given</th>\n",
       "      <th>days_since_review</th>\n",
       "      <th>reviewer_score</th>\n",
       "      <th>is_duplicated</th>\n",
       "      <th>hotel_reviewer_same_country</th>\n",
       "      <th>...</th>\n",
       "      <th>tag_room_2</th>\n",
       "      <th>tag_room_3</th>\n",
       "      <th>tag_room_4</th>\n",
       "      <th>tag_room_5</th>\n",
       "      <th>tag_room_6</th>\n",
       "      <th>tag_room_7</th>\n",
       "      <th>tag_room_8</th>\n",
       "      <th>tag_room_9</th>\n",
       "      <th>tag_room_10</th>\n",
       "      <th>tag_room_11</th>\n",
       "    </tr>\n",
       "  </thead>\n",
       "  <tbody>\n",
       "    <tr>\n",
       "      <th>117473</th>\n",
       "      <td>791</td>\n",
       "      <td>7.3</td>\n",
       "      <td>83</td>\n",
       "      <td>3609</td>\n",
       "      <td>1</td>\n",
       "      <td>2</td>\n",
       "      <td>172</td>\n",
       "      <td>0.0</td>\n",
       "      <td>0</td>\n",
       "      <td>1</td>\n",
       "      <td>...</td>\n",
       "      <td>0</td>\n",
       "      <td>0</td>\n",
       "      <td>0</td>\n",
       "      <td>0</td>\n",
       "      <td>1</td>\n",
       "      <td>1</td>\n",
       "      <td>1</td>\n",
       "      <td>1</td>\n",
       "      <td>1</td>\n",
       "      <td>1</td>\n",
       "    </tr>\n",
       "    <tr>\n",
       "      <th>46066</th>\n",
       "      <td>459</td>\n",
       "      <td>8.4</td>\n",
       "      <td>14</td>\n",
       "      <td>2405</td>\n",
       "      <td>4</td>\n",
       "      <td>11</td>\n",
       "      <td>299</td>\n",
       "      <td>0.0</td>\n",
       "      <td>0</td>\n",
       "      <td>1</td>\n",
       "      <td>...</td>\n",
       "      <td>0</td>\n",
       "      <td>0</td>\n",
       "      <td>0</td>\n",
       "      <td>0</td>\n",
       "      <td>0</td>\n",
       "      <td>0</td>\n",
       "      <td>0</td>\n",
       "      <td>1</td>\n",
       "      <td>1</td>\n",
       "      <td>1</td>\n",
       "    </tr>\n",
       "    <tr>\n",
       "      <th>90695</th>\n",
       "      <td>32</td>\n",
       "      <td>8.8</td>\n",
       "      <td>1</td>\n",
       "      <td>267</td>\n",
       "      <td>55</td>\n",
       "      <td>9</td>\n",
       "      <td>109</td>\n",
       "      <td>0.0</td>\n",
       "      <td>0</td>\n",
       "      <td>0</td>\n",
       "      <td>...</td>\n",
       "      <td>1</td>\n",
       "      <td>0</td>\n",
       "      <td>0</td>\n",
       "      <td>0</td>\n",
       "      <td>0</td>\n",
       "      <td>1</td>\n",
       "      <td>1</td>\n",
       "      <td>1</td>\n",
       "      <td>1</td>\n",
       "      <td>0</td>\n",
       "    </tr>\n",
       "    <tr>\n",
       "      <th>112541</th>\n",
       "      <td>299</td>\n",
       "      <td>8.3</td>\n",
       "      <td>5</td>\n",
       "      <td>1361</td>\n",
       "      <td>1</td>\n",
       "      <td>3</td>\n",
       "      <td>564</td>\n",
       "      <td>0.0</td>\n",
       "      <td>0</td>\n",
       "      <td>1</td>\n",
       "      <td>...</td>\n",
       "      <td>0</td>\n",
       "      <td>0</td>\n",
       "      <td>0</td>\n",
       "      <td>0</td>\n",
       "      <td>0</td>\n",
       "      <td>0</td>\n",
       "      <td>1</td>\n",
       "      <td>1</td>\n",
       "      <td>0</td>\n",
       "      <td>1</td>\n",
       "    </tr>\n",
       "    <tr>\n",
       "      <th>82784</th>\n",
       "      <td>282</td>\n",
       "      <td>8.6</td>\n",
       "      <td>6</td>\n",
       "      <td>2875</td>\n",
       "      <td>17</td>\n",
       "      <td>59</td>\n",
       "      <td>730</td>\n",
       "      <td>0.0</td>\n",
       "      <td>0</td>\n",
       "      <td>0</td>\n",
       "      <td>...</td>\n",
       "      <td>0</td>\n",
       "      <td>0</td>\n",
       "      <td>0</td>\n",
       "      <td>1</td>\n",
       "      <td>1</td>\n",
       "      <td>0</td>\n",
       "      <td>0</td>\n",
       "      <td>0</td>\n",
       "      <td>0</td>\n",
       "      <td>0</td>\n",
       "    </tr>\n",
       "    <tr>\n",
       "      <th>18771</th>\n",
       "      <td>1471</td>\n",
       "      <td>9.1</td>\n",
       "      <td>68</td>\n",
       "      <td>4802</td>\n",
       "      <td>13</td>\n",
       "      <td>1</td>\n",
       "      <td>27</td>\n",
       "      <td>0.0</td>\n",
       "      <td>0</td>\n",
       "      <td>1</td>\n",
       "      <td>...</td>\n",
       "      <td>0</td>\n",
       "      <td>0</td>\n",
       "      <td>0</td>\n",
       "      <td>0</td>\n",
       "      <td>1</td>\n",
       "      <td>0</td>\n",
       "      <td>1</td>\n",
       "      <td>0</td>\n",
       "      <td>1</td>\n",
       "      <td>1</td>\n",
       "    </tr>\n",
       "    <tr>\n",
       "      <th>63075</th>\n",
       "      <td>69</td>\n",
       "      <td>8.3</td>\n",
       "      <td>31</td>\n",
       "      <td>896</td>\n",
       "      <td>18</td>\n",
       "      <td>3</td>\n",
       "      <td>591</td>\n",
       "      <td>0.0</td>\n",
       "      <td>0</td>\n",
       "      <td>0</td>\n",
       "      <td>...</td>\n",
       "      <td>0</td>\n",
       "      <td>0</td>\n",
       "      <td>0</td>\n",
       "      <td>0</td>\n",
       "      <td>0</td>\n",
       "      <td>0</td>\n",
       "      <td>0</td>\n",
       "      <td>1</td>\n",
       "      <td>0</td>\n",
       "      <td>1</td>\n",
       "    </tr>\n",
       "    <tr>\n",
       "      <th>25872</th>\n",
       "      <td>908</td>\n",
       "      <td>8.5</td>\n",
       "      <td>1</td>\n",
       "      <td>3980</td>\n",
       "      <td>11</td>\n",
       "      <td>1</td>\n",
       "      <td>100</td>\n",
       "      <td>0.0</td>\n",
       "      <td>0</td>\n",
       "      <td>0</td>\n",
       "      <td>...</td>\n",
       "      <td>0</td>\n",
       "      <td>1</td>\n",
       "      <td>0</td>\n",
       "      <td>1</td>\n",
       "      <td>1</td>\n",
       "      <td>1</td>\n",
       "      <td>0</td>\n",
       "      <td>0</td>\n",
       "      <td>1</td>\n",
       "      <td>1</td>\n",
       "    </tr>\n",
       "    <tr>\n",
       "      <th>113169</th>\n",
       "      <td>184</td>\n",
       "      <td>7.9</td>\n",
       "      <td>1</td>\n",
       "      <td>564</td>\n",
       "      <td>57</td>\n",
       "      <td>3</td>\n",
       "      <td>283</td>\n",
       "      <td>0.0</td>\n",
       "      <td>0</td>\n",
       "      <td>0</td>\n",
       "      <td>...</td>\n",
       "      <td>0</td>\n",
       "      <td>0</td>\n",
       "      <td>1</td>\n",
       "      <td>0</td>\n",
       "      <td>0</td>\n",
       "      <td>1</td>\n",
       "      <td>1</td>\n",
       "      <td>0</td>\n",
       "      <td>1</td>\n",
       "      <td>0</td>\n",
       "    </tr>\n",
       "    <tr>\n",
       "      <th>124040</th>\n",
       "      <td>148</td>\n",
       "      <td>7.8</td>\n",
       "      <td>40</td>\n",
       "      <td>1245</td>\n",
       "      <td>28</td>\n",
       "      <td>2</td>\n",
       "      <td>132</td>\n",
       "      <td>0.0</td>\n",
       "      <td>0</td>\n",
       "      <td>1</td>\n",
       "      <td>...</td>\n",
       "      <td>0</td>\n",
       "      <td>0</td>\n",
       "      <td>0</td>\n",
       "      <td>0</td>\n",
       "      <td>0</td>\n",
       "      <td>1</td>\n",
       "      <td>0</td>\n",
       "      <td>0</td>\n",
       "      <td>1</td>\n",
       "      <td>0</td>\n",
       "    </tr>\n",
       "  </tbody>\n",
       "</table>\n",
       "<p>10 rows × 117 columns</p>\n",
       "</div>"
      ],
      "text/plain": [
       "        additional_number_of_scoring  average_score  \\\n",
       "117473                           791            7.3   \n",
       "46066                            459            8.4   \n",
       "90695                             32            8.8   \n",
       "112541                           299            8.3   \n",
       "82784                            282            8.6   \n",
       "18771                           1471            9.1   \n",
       "63075                             69            8.3   \n",
       "25872                            908            8.5   \n",
       "113169                           184            7.9   \n",
       "124040                           148            7.8   \n",
       "\n",
       "        review_total_negative_word_counts  total_number_of_reviews  \\\n",
       "117473                                 83                     3609   \n",
       "46066                                  14                     2405   \n",
       "90695                                   1                      267   \n",
       "112541                                  5                     1361   \n",
       "82784                                   6                     2875   \n",
       "18771                                  68                     4802   \n",
       "63075                                  31                      896   \n",
       "25872                                   1                     3980   \n",
       "113169                                  1                      564   \n",
       "124040                                 40                     1245   \n",
       "\n",
       "        review_total_positive_word_counts  \\\n",
       "117473                                  1   \n",
       "46066                                   4   \n",
       "90695                                  55   \n",
       "112541                                  1   \n",
       "82784                                  17   \n",
       "18771                                  13   \n",
       "63075                                  18   \n",
       "25872                                  11   \n",
       "113169                                 57   \n",
       "124040                                 28   \n",
       "\n",
       "        total_number_of_reviews_reviewer_has_given  days_since_review  \\\n",
       "117473                                           2                172   \n",
       "46066                                           11                299   \n",
       "90695                                            9                109   \n",
       "112541                                           3                564   \n",
       "82784                                           59                730   \n",
       "18771                                            1                 27   \n",
       "63075                                            3                591   \n",
       "25872                                            1                100   \n",
       "113169                                           3                283   \n",
       "124040                                           2                132   \n",
       "\n",
       "        reviewer_score  is_duplicated  hotel_reviewer_same_country  ...  \\\n",
       "117473             0.0              0                            1  ...   \n",
       "46066              0.0              0                            1  ...   \n",
       "90695              0.0              0                            0  ...   \n",
       "112541             0.0              0                            1  ...   \n",
       "82784              0.0              0                            0  ...   \n",
       "18771              0.0              0                            1  ...   \n",
       "63075              0.0              0                            0  ...   \n",
       "25872              0.0              0                            0  ...   \n",
       "113169             0.0              0                            0  ...   \n",
       "124040             0.0              0                            1  ...   \n",
       "\n",
       "        tag_room_2  tag_room_3  tag_room_4  tag_room_5  tag_room_6  \\\n",
       "117473           0           0           0           0           1   \n",
       "46066            0           0           0           0           0   \n",
       "90695            1           0           0           0           0   \n",
       "112541           0           0           0           0           0   \n",
       "82784            0           0           0           1           1   \n",
       "18771            0           0           0           0           1   \n",
       "63075            0           0           0           0           0   \n",
       "25872            0           1           0           1           1   \n",
       "113169           0           0           1           0           0   \n",
       "124040           0           0           0           0           0   \n",
       "\n",
       "        tag_room_7  tag_room_8  tag_room_9  tag_room_10  tag_room_11  \n",
       "117473           1           1           1            1            1  \n",
       "46066            0           0           1            1            1  \n",
       "90695            1           1           1            1            0  \n",
       "112541           0           1           1            0            1  \n",
       "82784            0           0           0            0            0  \n",
       "18771            0           1           0            1            1  \n",
       "63075            0           0           1            0            1  \n",
       "25872            1           0           0            1            1  \n",
       "113169           1           1           0            1            0  \n",
       "124040           1           0           0            1            0  \n",
       "\n",
       "[10 rows x 117 columns]"
      ]
     },
     "execution_count": 90,
     "metadata": {},
     "output_type": "execute_result"
    }
   ],
   "source": [
    "test_data.sample(10)"
   ]
  },
  {
   "cell_type": "code",
   "execution_count": 91,
   "id": "73a16b4d",
   "metadata": {
    "execution": {
     "iopub.execute_input": "2022-10-01T20:36:54.887447Z",
     "iopub.status.busy": "2022-10-01T20:36:54.886705Z",
     "iopub.status.idle": "2022-10-01T20:36:54.889493Z",
     "shell.execute_reply": "2022-10-01T20:36:54.888932Z",
     "shell.execute_reply.started": "2022-10-01T20:26:56.523865Z"
    },
    "papermill": {
     "duration": 0.237507,
     "end_time": "2022-10-01T20:36:54.889667",
     "exception": false,
     "start_time": "2022-10-01T20:36:54.652160",
     "status": "completed"
    },
    "tags": []
   },
   "outputs": [],
   "source": [
    "test_data = test_data.drop(['reviewer_score'], axis=1)"
   ]
  },
  {
   "cell_type": "code",
   "execution_count": 92,
   "id": "0f71f379",
   "metadata": {
    "execution": {
     "iopub.execute_input": "2022-10-01T20:36:55.263545Z",
     "iopub.status.busy": "2022-10-01T20:36:55.262885Z",
     "iopub.status.idle": "2022-10-01T20:36:55.274350Z",
     "shell.execute_reply": "2022-10-01T20:36:55.274828Z",
     "shell.execute_reply.started": "2022-10-01T20:26:56.560316Z"
    },
    "papermill": {
     "duration": 0.199616,
     "end_time": "2022-10-01T20:36:55.275033",
     "exception": false,
     "start_time": "2022-10-01T20:36:55.075417",
     "status": "completed"
    },
    "tags": []
   },
   "outputs": [
    {
     "data": {
      "text/html": [
       "<div>\n",
       "<style scoped>\n",
       "    .dataframe tbody tr th:only-of-type {\n",
       "        vertical-align: middle;\n",
       "    }\n",
       "\n",
       "    .dataframe tbody tr th {\n",
       "        vertical-align: top;\n",
       "    }\n",
       "\n",
       "    .dataframe thead th {\n",
       "        text-align: right;\n",
       "    }\n",
       "</style>\n",
       "<table border=\"1\" class=\"dataframe\">\n",
       "  <thead>\n",
       "    <tr style=\"text-align: right;\">\n",
       "      <th></th>\n",
       "      <th>reviewer_score</th>\n",
       "      <th>id</th>\n",
       "    </tr>\n",
       "  </thead>\n",
       "  <tbody>\n",
       "    <tr>\n",
       "      <th>0</th>\n",
       "      <td>1</td>\n",
       "      <td>488440</td>\n",
       "    </tr>\n",
       "    <tr>\n",
       "      <th>1</th>\n",
       "      <td>10</td>\n",
       "      <td>274649</td>\n",
       "    </tr>\n",
       "    <tr>\n",
       "      <th>2</th>\n",
       "      <td>3</td>\n",
       "      <td>374688</td>\n",
       "    </tr>\n",
       "    <tr>\n",
       "      <th>3</th>\n",
       "      <td>10</td>\n",
       "      <td>404352</td>\n",
       "    </tr>\n",
       "    <tr>\n",
       "      <th>4</th>\n",
       "      <td>9</td>\n",
       "      <td>451596</td>\n",
       "    </tr>\n",
       "    <tr>\n",
       "      <th>...</th>\n",
       "      <td>...</td>\n",
       "      <td>...</td>\n",
       "    </tr>\n",
       "    <tr>\n",
       "      <th>128930</th>\n",
       "      <td>7</td>\n",
       "      <td>495812</td>\n",
       "    </tr>\n",
       "    <tr>\n",
       "      <th>128931</th>\n",
       "      <td>1</td>\n",
       "      <td>315577</td>\n",
       "    </tr>\n",
       "    <tr>\n",
       "      <th>128932</th>\n",
       "      <td>3</td>\n",
       "      <td>511968</td>\n",
       "    </tr>\n",
       "    <tr>\n",
       "      <th>128933</th>\n",
       "      <td>6</td>\n",
       "      <td>303386</td>\n",
       "    </tr>\n",
       "    <tr>\n",
       "      <th>128934</th>\n",
       "      <td>5</td>\n",
       "      <td>103157</td>\n",
       "    </tr>\n",
       "  </tbody>\n",
       "</table>\n",
       "<p>128935 rows × 2 columns</p>\n",
       "</div>"
      ],
      "text/plain": [
       "        reviewer_score      id\n",
       "0                    1  488440\n",
       "1                   10  274649\n",
       "2                    3  374688\n",
       "3                   10  404352\n",
       "4                    9  451596\n",
       "...                ...     ...\n",
       "128930               7  495812\n",
       "128931               1  315577\n",
       "128932               3  511968\n",
       "128933               6  303386\n",
       "128934               5  103157\n",
       "\n",
       "[128935 rows x 2 columns]"
      ]
     },
     "execution_count": 92,
     "metadata": {},
     "output_type": "execute_result"
    }
   ],
   "source": [
    "sample_submission"
   ]
  },
  {
   "cell_type": "code",
   "execution_count": 93,
   "id": "858a1206",
   "metadata": {
    "execution": {
     "iopub.execute_input": "2022-10-01T20:36:55.649230Z",
     "iopub.status.busy": "2022-10-01T20:36:55.648528Z",
     "iopub.status.idle": "2022-10-01T20:36:58.444365Z",
     "shell.execute_reply": "2022-10-01T20:36:58.445079Z",
     "shell.execute_reply.started": "2022-10-01T20:26:56.579771Z"
    },
    "papermill": {
     "duration": 2.984664,
     "end_time": "2022-10-01T20:36:58.445311",
     "exception": false,
     "start_time": "2022-10-01T20:36:55.460647",
     "status": "completed"
    },
    "tags": []
   },
   "outputs": [
    {
     "name": "stderr",
     "output_type": "stream",
     "text": [
      "[Parallel(n_jobs=10)]: Using backend ThreadingBackend with 10 concurrent workers.\n",
      "[Parallel(n_jobs=10)]: Done  30 tasks      | elapsed:    0.8s\n",
      "[Parallel(n_jobs=10)]: Done 100 out of 100 | elapsed:    1.3s finished\n"
     ]
    }
   ],
   "source": [
    "predict_submission = model.predict(test_data)"
   ]
  },
  {
   "cell_type": "code",
   "execution_count": 94,
   "id": "76024274",
   "metadata": {
    "execution": {
     "iopub.execute_input": "2022-10-01T20:36:58.831570Z",
     "iopub.status.busy": "2022-10-01T20:36:58.830763Z",
     "iopub.status.idle": "2022-10-01T20:36:58.834348Z",
     "shell.execute_reply": "2022-10-01T20:36:58.835080Z",
     "shell.execute_reply.started": "2022-10-01T20:26:59.057689Z"
    },
    "papermill": {
     "duration": 0.200939,
     "end_time": "2022-10-01T20:36:58.835307",
     "exception": false,
     "start_time": "2022-10-01T20:36:58.634368",
     "status": "completed"
    },
    "tags": []
   },
   "outputs": [
    {
     "data": {
      "text/plain": [
       "array([8.674, 7.531, 8.035, ..., 8.141, 9.537, 7.683])"
      ]
     },
     "execution_count": 94,
     "metadata": {},
     "output_type": "execute_result"
    }
   ],
   "source": [
    "predict_submission"
   ]
  },
  {
   "cell_type": "code",
   "execution_count": 95,
   "id": "28f2ca54",
   "metadata": {
    "execution": {
     "iopub.execute_input": "2022-10-01T20:36:59.234614Z",
     "iopub.status.busy": "2022-10-01T20:36:59.232983Z",
     "iopub.status.idle": "2022-10-01T20:36:59.237149Z",
     "shell.execute_reply": "2022-10-01T20:36:59.237681Z",
     "shell.execute_reply.started": "2022-10-01T20:26:59.066194Z"
    },
    "papermill": {
     "duration": 0.205155,
     "end_time": "2022-10-01T20:36:59.237909",
     "exception": false,
     "start_time": "2022-10-01T20:36:59.032754",
     "status": "completed"
    },
    "tags": []
   },
   "outputs": [
    {
     "data": {
      "text/plain": [
       "['reviewer_score', 'id']"
      ]
     },
     "execution_count": 95,
     "metadata": {},
     "output_type": "execute_result"
    }
   ],
   "source": [
    "list(sample_submission)"
   ]
  },
  {
   "cell_type": "code",
   "execution_count": 96,
   "id": "77920d53",
   "metadata": {
    "execution": {
     "iopub.execute_input": "2022-10-01T20:36:59.618825Z",
     "iopub.status.busy": "2022-10-01T20:36:59.617892Z",
     "iopub.status.idle": "2022-10-01T20:36:59.921173Z",
     "shell.execute_reply": "2022-10-01T20:36:59.920483Z",
     "shell.execute_reply.started": "2022-10-01T20:26:59.078316Z"
    },
    "papermill": {
     "duration": 0.495096,
     "end_time": "2022-10-01T20:36:59.921326",
     "exception": false,
     "start_time": "2022-10-01T20:36:59.426230",
     "status": "completed"
    },
    "tags": []
   },
   "outputs": [
    {
     "data": {
      "text/html": [
       "<div>\n",
       "<style scoped>\n",
       "    .dataframe tbody tr th:only-of-type {\n",
       "        vertical-align: middle;\n",
       "    }\n",
       "\n",
       "    .dataframe tbody tr th {\n",
       "        vertical-align: top;\n",
       "    }\n",
       "\n",
       "    .dataframe thead th {\n",
       "        text-align: right;\n",
       "    }\n",
       "</style>\n",
       "<table border=\"1\" class=\"dataframe\">\n",
       "  <thead>\n",
       "    <tr style=\"text-align: right;\">\n",
       "      <th></th>\n",
       "      <th>reviewer_score</th>\n",
       "      <th>id</th>\n",
       "    </tr>\n",
       "  </thead>\n",
       "  <tbody>\n",
       "    <tr>\n",
       "      <th>0</th>\n",
       "      <td>8.674</td>\n",
       "      <td>488440</td>\n",
       "    </tr>\n",
       "    <tr>\n",
       "      <th>1</th>\n",
       "      <td>7.531</td>\n",
       "      <td>274649</td>\n",
       "    </tr>\n",
       "    <tr>\n",
       "      <th>2</th>\n",
       "      <td>8.035</td>\n",
       "      <td>374688</td>\n",
       "    </tr>\n",
       "    <tr>\n",
       "      <th>3</th>\n",
       "      <td>9.780</td>\n",
       "      <td>404352</td>\n",
       "    </tr>\n",
       "    <tr>\n",
       "      <th>4</th>\n",
       "      <td>9.497</td>\n",
       "      <td>451596</td>\n",
       "    </tr>\n",
       "    <tr>\n",
       "      <th>5</th>\n",
       "      <td>8.976</td>\n",
       "      <td>302161</td>\n",
       "    </tr>\n",
       "    <tr>\n",
       "      <th>6</th>\n",
       "      <td>8.039</td>\n",
       "      <td>317079</td>\n",
       "    </tr>\n",
       "    <tr>\n",
       "      <th>7</th>\n",
       "      <td>7.826</td>\n",
       "      <td>13963</td>\n",
       "    </tr>\n",
       "    <tr>\n",
       "      <th>8</th>\n",
       "      <td>8.063</td>\n",
       "      <td>159785</td>\n",
       "    </tr>\n",
       "    <tr>\n",
       "      <th>9</th>\n",
       "      <td>7.579</td>\n",
       "      <td>195089</td>\n",
       "    </tr>\n",
       "  </tbody>\n",
       "</table>\n",
       "</div>"
      ],
      "text/plain": [
       "   reviewer_score      id\n",
       "0           8.674  488440\n",
       "1           7.531  274649\n",
       "2           8.035  374688\n",
       "3           9.780  404352\n",
       "4           9.497  451596\n",
       "5           8.976  302161\n",
       "6           8.039  317079\n",
       "7           7.826   13963\n",
       "8           8.063  159785\n",
       "9           7.579  195089"
      ]
     },
     "execution_count": 96,
     "metadata": {},
     "output_type": "execute_result"
    }
   ],
   "source": [
    "sample_submission['reviewer_score'] = predict_submission\n",
    "sample_submission.to_csv('submission.csv', index=False)\n",
    "sample_submission.head(10)"
   ]
  },
  {
   "cell_type": "markdown",
   "id": "f6dfe035",
   "metadata": {
    "papermill": {
     "duration": 0.185879,
     "end_time": "2022-10-01T20:37:00.295779",
     "exception": false,
     "start_time": "2022-10-01T20:37:00.109900",
     "status": "completed"
    },
    "tags": []
   },
   "source": [
    "***"
   ]
  },
  {
   "cell_type": "markdown",
   "id": "7fc5fd14",
   "metadata": {},
   "source": [
    "**Выводы по проекту:**\n",
    "- из первоначальных числовых признаков наиболее важный - **average_score** и количество слов в положительных и отрицательных отзывах.\n",
    "- из категориальных - собственно отзывы, а, точнее, производные из них признаки, связанные с анализом этих отзывов.\n",
    "- неожиданно (для меня) неплохой прирост метрики дали признаки, которые содержали информацию откуда родом ревьюверы: из англоязычных стран, из ближневосточных мусульманских или остальных.\n",
    "- интересно было бы посмотреть код победителей соревнований, но полагаю, что там был выполнен более серьезный и глубокий анализ текста отзывов.\n",
    "- некоторые решения моих коллег не улучшали мою метрику, например сигнальный признак о посещении отеля в пик сезона и пр.\n",
    "- любые мои попытки обработать таргет (даже только в тренировочной части датасета) очень сильно **улучшали мою метрику**, однако очень сильно **ухудшали очки по сабмишину** :( "
   ]
  }
 ],
 "metadata": {
  "kernelspec": {
   "display_name": "Python 3",
   "language": "python",
   "name": "python3"
  },
  "language_info": {
   "codemirror_mode": {
    "name": "ipython",
    "version": 3
   },
   "file_extension": ".py",
   "mimetype": "text/x-python",
   "name": "python",
   "nbconvert_exporter": "python",
   "pygments_lexer": "ipython3",
   "version": "3.9.13"
  },
  "papermill": {
   "default_parameters": {},
   "duration": 510.895953,
   "end_time": "2022-10-01T20:37:02.507444",
   "environment_variables": {},
   "exception": null,
   "input_path": "__notebook__.ipynb",
   "output_path": "__notebook__.ipynb",
   "parameters": {},
   "start_time": "2022-10-01T20:28:31.611491",
   "version": "2.3.3"
  },
  "vscode": {
   "interpreter": {
    "hash": "397704579725e15f5c7cb49fe5f0341eb7531c82d19f2c29d197e8b64ab5776b"
   }
  }
 },
 "nbformat": 4,
 "nbformat_minor": 5
}
