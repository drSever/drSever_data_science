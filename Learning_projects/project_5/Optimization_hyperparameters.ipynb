{
 "cells": [
  {
   "attachments": {},
   "cell_type": "markdown",
   "metadata": {},
   "source": [
    "# ML-7. Оптимизация гиперпараметров модели. Практика."
   ]
  },
  {
   "attachments": {},
   "cell_type": "markdown",
   "metadata": {},
   "source": [
    "Александр Журавлев DST-120"
   ]
  },
  {
   "attachments": {},
   "cell_type": "markdown",
   "metadata": {},
   "source": [
    "***"
   ]
  },
  {
   "attachments": {},
   "cell_type": "markdown",
   "metadata": {},
   "source": [
    "Наша практика будет основана на соревновании [Kaggle: Predicting a Biological Response](https://www.kaggle.com/c/bioresponse) (Прогнозирование биологического ответа).\n",
    "\n",
    "\n",
    "Необходимо предсказать биологический ответ молекул (столбец 'Activity') по их химическому составу (столбцы D1-D1776).\n",
    "\n",
    "[скачать данные](https://lms.skillfactory.ru/assets/courseware/v1/9f2add5bca59f8c4df927432d605fff3/asset-v1:SkillFactory+DST-3.0+28FEB2021+type@asset+block/_train_sem09__1_.zip)\n",
    "\n",
    "Данные представлены в формате CSV.  Каждая строка представляет молекулу. \n",
    "\n",
    "Первый столбец Activity содержит экспериментальные данные, описывающие фактический биологический ответ [0, 1];  \n",
    "Остальные столбцы D1-D1776 представляют собой молекулярные дескрипторы — это вычисляемые свойства, которые могут фиксировать некоторые характеристики молекулы, например размер, форму или состав элементов.\n",
    "\n",
    "Предварительная обработка не требуется, данные уже закодированы и нормализованы.\n",
    "\n",
    "В качестве метрики будем использовать F1-score.\n",
    "\n",
    "Необходимо обучить две модели: логистическую регрессию и случайный лес. Далее нужно сделать подбор гиперпараметров с помощью базовых и продвинутых методов оптимизации. Важно использовать все четыре метода (GridSeachCV, RandomizedSearchCV, Hyperopt, Optuna) хотя бы по разу, максимальное количество итераций не должно превышать 50."
   ]
  },
  {
   "attachments": {},
   "cell_type": "markdown",
   "metadata": {},
   "source": [
    "<style type=\"text/css\">\n",
    ".tg  {border-collapse:collapse;border-spacing:0;}\n",
    ".tg td{border-color:black;border-style:solid;border-width:1px;font-family:Arial, sans-serif;font-size:14px;\n",
    "  overflow:hidden;padding:10px 5px;word-break:normal;}\n",
    ".tg th{border-color:black;border-style:solid;border-width:1px;font-family:Arial, sans-serif;font-size:14px;\n",
    "  font-weight:normal;overflow:hidden;padding:10px 5px;word-break:normal;}\n",
    ".tg .tg-egvr{background-color:#EB6B56;color:#333;text-align:center;vertical-align:middle}\n",
    ".tg .tg-apyk{background-color:#FFF;color:#333;font-weight:bold;text-align:center;vertical-align:top}\n",
    ".tg .tg-oh3p{background-color:#F7DA64;color:#333;text-align:center;vertical-align:middle}\n",
    ".tg .tg-ukt2{background-color:#61BD6D;color:#333;text-align:center;vertical-align:middle}\n",
    ".tg .tg-citn{background-color:#FFF;color:#333;text-align:left;vertical-align:top}\n",
    "</style>\n",
    "<table class=\"tg\">\n",
    "<thead>\n",
    "  <tr>\n",
    "    <th class=\"tg-apyk\"><span style=\"font-weight:600;font-style:inherit\">Балл</span></th>\n",
    "    <th class=\"tg-apyk\"><span style=\"font-weight:600;font-style:inherit\">Критерий</span></th>\n",
    "  </tr>\n",
    "</thead>\n",
    "<tbody>\n",
    "  <tr>\n",
    "    <td class=\"tg-egvr\"><span style=\"font-weight:inherit;font-style:inherit;background-color:#EB6B56\">0</span></td>\n",
    "    <td class=\"tg-citn\"><span style=\"font-weight:inherit;font-style:inherit\">Задание не выполнено</span></td>\n",
    "  </tr>\n",
    "  <tr>\n",
    "    <td class=\"tg-oh3p\"><span style=\"font-weight:inherit;font-style:inherit;background-color:#F7DA64\">1</span></td>\n",
    "    <td class=\"tg-citn\"><span style=\"font-weight:inherit;font-style:inherit\">Обучено две модели; гипепараметры подобраны при помощи одного метода</span></td>\n",
    "  </tr>\n",
    "  <tr>\n",
    "    <td class=\"tg-oh3p\"><span style=\"font-weight:inherit;font-style:inherit;background-color:#F7DA64\">2</span></td>\n",
    "    <td class=\"tg-citn\"><span style=\"font-weight:inherit;font-style:inherit\">Обучено две модели; гипепараметры подобраны при помощи двух методов</span></td>\n",
    "  </tr>\n",
    "  <tr>\n",
    "    <td class=\"tg-ukt2\"><span style=\"font-weight:inherit;font-style:inherit;background-color:#61BD6D\">3</span></td>\n",
    "    <td class=\"tg-citn\"><span style=\"font-weight:inherit;font-style:inherit\">Обучено две модели; гипепараметры подобраны при помощи трёх методов</span></td>\n",
    "  </tr>\n",
    "  <tr>\n",
    "    <td class=\"tg-ukt2\"><span style=\"font-weight:inherit;font-style:inherit;background-color:#61BD6D\">4</span></td>\n",
    "    <td class=\"tg-citn\"><span style=\"font-weight:inherit;font-style:inherit\">Обучено две модели; гипепараметры подобраны при помощи четырёх методов</span></td>\n",
    "  </tr>\n",
    "  <tr>\n",
    "    <td class=\"tg-ukt2\"><span style=\"font-weight:inherit;font-style:inherit;background-color:#61BD6D\">5</span></td>\n",
    "    <td class=\"tg-citn\"><span style=\"font-weight:inherit;font-style:inherit\">Обучено две модели; гипепараметры подобраны при помощи четырёх методов; использована кросс-валидация</span></td>\n",
    "  </tr>\n",
    "</tbody>\n",
    "</table>"
   ]
  },
  {
   "attachments": {},
   "cell_type": "markdown",
   "metadata": {},
   "source": [
    "***"
   ]
  },
  {
   "attachments": {},
   "cell_type": "markdown",
   "metadata": {},
   "source": [
    "## 1. Загружаем библиотеки, загружаем и знакомимся с данными"
   ]
  },
  {
   "cell_type": "code",
   "execution_count": 1,
   "metadata": {},
   "outputs": [],
   "source": [
    "# импорт библиотек\n",
    "import numpy as np # для матричных вычислений\n",
    "import pandas as pd # для анализа и предобработки данных\n",
    "import matplotlib.pyplot as plt # для визуализации\n",
    "import seaborn as sns # для визуализации\n",
    "\n",
    "from sklearn import linear_model # линейные моделиё\n",
    "from sklearn import tree # деревья решений\n",
    "from sklearn import ensemble # ансамбли\n",
    "from sklearn import metrics # метрики\n",
    "from sklearn import preprocessing # предобработка\n",
    "from sklearn import model_selection\n",
    "from sklearn.model_selection import train_test_split # сплитование выборки\n",
    "\n",
    "# для оптимизации модели\n",
    "from sklearn.model_selection import RandomizedSearchCV\n",
    "from sklearn.model_selection import GridSearchCV\n",
    "from sklearn.model_selection import cross_val_score\n",
    "import hyperopt\n",
    "from hyperopt import hp, fmin, tpe, Trials\n",
    "import optuna\n",
    "\n",
    "# настройка визуализации\n",
    "%matplotlib inline\n",
    "plt.style.use('seaborn')\n",
    "%config InlineBackend.figure_format = 'svg'\n",
    "\n",
    "# не отображаем предупреждения\n",
    "import warnings\n",
    "warnings.filterwarnings('ignore')\n",
    "warnings.simplefilter('ignore')\n"
   ]
  },
  {
   "cell_type": "code",
   "execution_count": 2,
   "metadata": {},
   "outputs": [
    {
     "data": {
      "text/html": [
       "<div>\n",
       "<style scoped>\n",
       "    .dataframe tbody tr th:only-of-type {\n",
       "        vertical-align: middle;\n",
       "    }\n",
       "\n",
       "    .dataframe tbody tr th {\n",
       "        vertical-align: top;\n",
       "    }\n",
       "\n",
       "    .dataframe thead th {\n",
       "        text-align: right;\n",
       "    }\n",
       "</style>\n",
       "<table border=\"1\" class=\"dataframe\">\n",
       "  <thead>\n",
       "    <tr style=\"text-align: right;\">\n",
       "      <th></th>\n",
       "      <th>Activity</th>\n",
       "      <th>D1</th>\n",
       "      <th>D2</th>\n",
       "      <th>D3</th>\n",
       "      <th>D4</th>\n",
       "      <th>D5</th>\n",
       "      <th>D6</th>\n",
       "      <th>D7</th>\n",
       "      <th>D8</th>\n",
       "      <th>D9</th>\n",
       "      <th>...</th>\n",
       "      <th>D1767</th>\n",
       "      <th>D1768</th>\n",
       "      <th>D1769</th>\n",
       "      <th>D1770</th>\n",
       "      <th>D1771</th>\n",
       "      <th>D1772</th>\n",
       "      <th>D1773</th>\n",
       "      <th>D1774</th>\n",
       "      <th>D1775</th>\n",
       "      <th>D1776</th>\n",
       "    </tr>\n",
       "  </thead>\n",
       "  <tbody>\n",
       "    <tr>\n",
       "      <th>0</th>\n",
       "      <td>1</td>\n",
       "      <td>0.000000</td>\n",
       "      <td>0.497009</td>\n",
       "      <td>0.10</td>\n",
       "      <td>0.0</td>\n",
       "      <td>0.132956</td>\n",
       "      <td>0.678031</td>\n",
       "      <td>0.273166</td>\n",
       "      <td>0.585445</td>\n",
       "      <td>0.743663</td>\n",
       "      <td>...</td>\n",
       "      <td>0</td>\n",
       "      <td>0</td>\n",
       "      <td>0</td>\n",
       "      <td>0</td>\n",
       "      <td>0</td>\n",
       "      <td>0</td>\n",
       "      <td>0</td>\n",
       "      <td>0</td>\n",
       "      <td>0</td>\n",
       "      <td>0</td>\n",
       "    </tr>\n",
       "    <tr>\n",
       "      <th>1</th>\n",
       "      <td>1</td>\n",
       "      <td>0.366667</td>\n",
       "      <td>0.606291</td>\n",
       "      <td>0.05</td>\n",
       "      <td>0.0</td>\n",
       "      <td>0.111209</td>\n",
       "      <td>0.803455</td>\n",
       "      <td>0.106105</td>\n",
       "      <td>0.411754</td>\n",
       "      <td>0.836582</td>\n",
       "      <td>...</td>\n",
       "      <td>1</td>\n",
       "      <td>1</td>\n",
       "      <td>1</td>\n",
       "      <td>1</td>\n",
       "      <td>0</td>\n",
       "      <td>1</td>\n",
       "      <td>0</td>\n",
       "      <td>0</td>\n",
       "      <td>1</td>\n",
       "      <td>0</td>\n",
       "    </tr>\n",
       "    <tr>\n",
       "      <th>2</th>\n",
       "      <td>1</td>\n",
       "      <td>0.033300</td>\n",
       "      <td>0.480124</td>\n",
       "      <td>0.00</td>\n",
       "      <td>0.0</td>\n",
       "      <td>0.209791</td>\n",
       "      <td>0.610350</td>\n",
       "      <td>0.356453</td>\n",
       "      <td>0.517720</td>\n",
       "      <td>0.679051</td>\n",
       "      <td>...</td>\n",
       "      <td>0</td>\n",
       "      <td>0</td>\n",
       "      <td>0</td>\n",
       "      <td>0</td>\n",
       "      <td>0</td>\n",
       "      <td>0</td>\n",
       "      <td>0</td>\n",
       "      <td>0</td>\n",
       "      <td>0</td>\n",
       "      <td>0</td>\n",
       "    </tr>\n",
       "    <tr>\n",
       "      <th>3</th>\n",
       "      <td>1</td>\n",
       "      <td>0.000000</td>\n",
       "      <td>0.538825</td>\n",
       "      <td>0.00</td>\n",
       "      <td>0.5</td>\n",
       "      <td>0.196344</td>\n",
       "      <td>0.724230</td>\n",
       "      <td>0.235606</td>\n",
       "      <td>0.288764</td>\n",
       "      <td>0.805110</td>\n",
       "      <td>...</td>\n",
       "      <td>0</td>\n",
       "      <td>0</td>\n",
       "      <td>0</td>\n",
       "      <td>0</td>\n",
       "      <td>0</td>\n",
       "      <td>0</td>\n",
       "      <td>0</td>\n",
       "      <td>0</td>\n",
       "      <td>0</td>\n",
       "      <td>0</td>\n",
       "    </tr>\n",
       "    <tr>\n",
       "      <th>4</th>\n",
       "      <td>0</td>\n",
       "      <td>0.100000</td>\n",
       "      <td>0.517794</td>\n",
       "      <td>0.00</td>\n",
       "      <td>0.0</td>\n",
       "      <td>0.494734</td>\n",
       "      <td>0.781422</td>\n",
       "      <td>0.154361</td>\n",
       "      <td>0.303809</td>\n",
       "      <td>0.812646</td>\n",
       "      <td>...</td>\n",
       "      <td>0</td>\n",
       "      <td>0</td>\n",
       "      <td>0</td>\n",
       "      <td>0</td>\n",
       "      <td>0</td>\n",
       "      <td>0</td>\n",
       "      <td>0</td>\n",
       "      <td>0</td>\n",
       "      <td>0</td>\n",
       "      <td>0</td>\n",
       "    </tr>\n",
       "  </tbody>\n",
       "</table>\n",
       "<p>5 rows × 1777 columns</p>\n",
       "</div>"
      ],
      "text/plain": [
       "   Activity        D1        D2    D3   D4        D5        D6        D7  \\\n",
       "0         1  0.000000  0.497009  0.10  0.0  0.132956  0.678031  0.273166   \n",
       "1         1  0.366667  0.606291  0.05  0.0  0.111209  0.803455  0.106105   \n",
       "2         1  0.033300  0.480124  0.00  0.0  0.209791  0.610350  0.356453   \n",
       "3         1  0.000000  0.538825  0.00  0.5  0.196344  0.724230  0.235606   \n",
       "4         0  0.100000  0.517794  0.00  0.0  0.494734  0.781422  0.154361   \n",
       "\n",
       "         D8        D9  ...  D1767  D1768  D1769  D1770  D1771  D1772  D1773  \\\n",
       "0  0.585445  0.743663  ...      0      0      0      0      0      0      0   \n",
       "1  0.411754  0.836582  ...      1      1      1      1      0      1      0   \n",
       "2  0.517720  0.679051  ...      0      0      0      0      0      0      0   \n",
       "3  0.288764  0.805110  ...      0      0      0      0      0      0      0   \n",
       "4  0.303809  0.812646  ...      0      0      0      0      0      0      0   \n",
       "\n",
       "   D1774  D1775  D1776  \n",
       "0      0      0      0  \n",
       "1      0      1      0  \n",
       "2      0      0      0  \n",
       "3      0      0      0  \n",
       "4      0      0      0  \n",
       "\n",
       "[5 rows x 1777 columns]"
      ]
     },
     "execution_count": 2,
     "metadata": {},
     "output_type": "execute_result"
    }
   ],
   "source": [
    "# загружаем данные и знакомиммся с ними\n",
    "data = pd.read_csv('data/train_sem09.csv')\n",
    "data.head()"
   ]
  },
  {
   "cell_type": "code",
   "execution_count": 3,
   "metadata": {},
   "outputs": [
    {
     "data": {
      "text/html": [
       "<div>\n",
       "<style scoped>\n",
       "    .dataframe tbody tr th:only-of-type {\n",
       "        vertical-align: middle;\n",
       "    }\n",
       "\n",
       "    .dataframe tbody tr th {\n",
       "        vertical-align: top;\n",
       "    }\n",
       "\n",
       "    .dataframe thead th {\n",
       "        text-align: right;\n",
       "    }\n",
       "</style>\n",
       "<table border=\"1\" class=\"dataframe\">\n",
       "  <thead>\n",
       "    <tr style=\"text-align: right;\">\n",
       "      <th></th>\n",
       "      <th>Activity</th>\n",
       "      <th>D1</th>\n",
       "      <th>D2</th>\n",
       "      <th>D3</th>\n",
       "      <th>D4</th>\n",
       "      <th>D5</th>\n",
       "      <th>D6</th>\n",
       "      <th>D7</th>\n",
       "      <th>D8</th>\n",
       "      <th>D9</th>\n",
       "      <th>...</th>\n",
       "      <th>D1767</th>\n",
       "      <th>D1768</th>\n",
       "      <th>D1769</th>\n",
       "      <th>D1770</th>\n",
       "      <th>D1771</th>\n",
       "      <th>D1772</th>\n",
       "      <th>D1773</th>\n",
       "      <th>D1774</th>\n",
       "      <th>D1775</th>\n",
       "      <th>D1776</th>\n",
       "    </tr>\n",
       "  </thead>\n",
       "  <tbody>\n",
       "  </tbody>\n",
       "</table>\n",
       "<p>0 rows × 1777 columns</p>\n",
       "</div>"
      ],
      "text/plain": [
       "Empty DataFrame\n",
       "Columns: [Activity, D1, D2, D3, D4, D5, D6, D7, D8, D9, D10, D11, D12, D13, D14, D15, D16, D17, D18, D19, D20, D21, D22, D23, D24, D25, D26, D27, D28, D29, D30, D31, D32, D33, D34, D35, D36, D37, D38, D39, D40, D41, D42, D43, D44, D45, D46, D47, D48, D49, D50, D51, D52, D53, D54, D55, D56, D57, D58, D59, D60, D61, D62, D63, D64, D65, D66, D67, D68, D69, D70, D71, D72, D73, D74, D75, D76, D77, D78, D79, D80, D81, D82, D83, D84, D85, D86, D87, D88, D89, D90, D91, D92, D93, D94, D95, D96, D97, D98, D99, ...]\n",
       "Index: []\n",
       "\n",
       "[0 rows x 1777 columns]"
      ]
     },
     "execution_count": 3,
     "metadata": {},
     "output_type": "execute_result"
    }
   ],
   "source": [
    "# пропусков быть не должно, но проверим на всякий случай\n",
    "data[data.isnull().any(axis=1)]"
   ]
  },
  {
   "cell_type": "code",
   "execution_count": 4,
   "metadata": {},
   "outputs": [
    {
     "data": {
      "text/plain": [
       "1    0.542255\n",
       "0    0.457745\n",
       "Name: Activity, dtype: float64"
      ]
     },
     "metadata": {},
     "output_type": "display_data"
    },
    {
     "data": {
      "image/svg+xml": "<?xml version=\"1.0\" encoding=\"utf-8\" standalone=\"no\"?>\n<!DOCTYPE svg PUBLIC \"-//W3C//DTD SVG 1.1//EN\"\n  \"http://www.w3.org/Graphics/SVG/1.1/DTD/svg11.dtd\">\n<svg xmlns:xlink=\"http://www.w3.org/1999/xlink\" width=\"290.0425pt\" height=\"270.014844pt\" viewBox=\"0 0 290.0425 270.014844\" xmlns=\"http://www.w3.org/2000/svg\" version=\"1.1\">\n <metadata>\n  <rdf:RDF xmlns:dc=\"http://purl.org/dc/elements/1.1/\" xmlns:cc=\"http://creativecommons.org/ns#\" xmlns:rdf=\"http://www.w3.org/1999/02/22-rdf-syntax-ns#\">\n   <cc:Work>\n    <dc:type rdf:resource=\"http://purl.org/dc/dcmitype/StillImage\"/>\n    <dc:date>2023-01-29T20:07:19.354869</dc:date>\n    <dc:format>image/svg+xml</dc:format>\n    <dc:creator>\n     <cc:Agent>\n      <dc:title>Matplotlib v3.5.2, https://matplotlib.org/</dc:title>\n     </cc:Agent>\n    </dc:creator>\n   </cc:Work>\n  </rdf:RDF>\n </metadata>\n <defs>\n  <style type=\"text/css\">*{stroke-linejoin: round; stroke-linecap: butt}</style>\n </defs>\n <g id=\"figure_1\">\n  <g id=\"patch_1\">\n   <path d=\"M 0 270.014844 \nL 290.0425 270.014844 \nL 290.0425 0 \nL 0 0 \nz\n\" style=\"fill: #ffffff\"/>\n  </g>\n  <g id=\"axes_1\">\n   <g id=\"patch_2\">\n    <path d=\"M 59.6425 224.64 \nL 282.8425 224.64 \nL 282.8425 7.2 \nL 59.6425 7.2 \nz\n\" style=\"fill: #eaeaf2\"/>\n   </g>\n   <g id=\"matplotlib.axis_1\">\n    <g id=\"xtick_1\">\n     <g id=\"text_1\">\n      <!-- 0 -->\n      <g style=\"fill: #262626\" transform=\"translate(112.383984 245.513594)scale(0.11 -0.11)\">\n       <defs>\n        <path id=\"ArialMT-30\" d=\"M 266 2259 \nQ 266 3072 433 3567 \nQ 600 4063 929 4331 \nQ 1259 4600 1759 4600 \nQ 2128 4600 2406 4451 \nQ 2684 4303 2865 4023 \nQ 3047 3744 3150 3342 \nQ 3253 2941 3253 2259 \nQ 3253 1453 3087 958 \nQ 2922 463 2592 192 \nQ 2263 -78 1759 -78 \nQ 1097 -78 719 397 \nQ 266 969 266 2259 \nz\nM 844 2259 \nQ 844 1131 1108 757 \nQ 1372 384 1759 384 \nQ 2147 384 2411 759 \nQ 2675 1134 2675 2259 \nQ 2675 3391 2411 3762 \nQ 2147 4134 1753 4134 \nQ 1366 4134 1134 3806 \nQ 844 3388 844 2259 \nz\n\" transform=\"scale(0.015625)\"/>\n       </defs>\n       <use xlink:href=\"#ArialMT-30\"/>\n      </g>\n     </g>\n    </g>\n    <g id=\"xtick_2\">\n     <g id=\"text_2\">\n      <!-- 1 -->\n      <g style=\"fill: #262626\" transform=\"translate(223.983984 245.513594)scale(0.11 -0.11)\">\n       <defs>\n        <path id=\"ArialMT-31\" d=\"M 2384 0 \nL 1822 0 \nL 1822 3584 \nQ 1619 3391 1289 3197 \nQ 959 3003 697 2906 \nL 697 3450 \nQ 1169 3672 1522 3987 \nQ 1875 4303 2022 4600 \nL 2384 4600 \nL 2384 0 \nz\n\" transform=\"scale(0.015625)\"/>\n       </defs>\n       <use xlink:href=\"#ArialMT-31\"/>\n      </g>\n     </g>\n    </g>\n    <g id=\"text_3\">\n     <!-- Activity -->\n     <g style=\"fill: #262626\" transform=\"translate(152.240313 260.289219)scale(0.12 -0.12)\">\n      <defs>\n       <path id=\"ArialMT-41\" d=\"M -9 0 \nL 1750 4581 \nL 2403 4581 \nL 4278 0 \nL 3588 0 \nL 3053 1388 \nL 1138 1388 \nL 634 0 \nL -9 0 \nz\nM 1313 1881 \nL 2866 1881 \nL 2388 3150 \nQ 2169 3728 2063 4100 \nQ 1975 3659 1816 3225 \nL 1313 1881 \nz\n\" transform=\"scale(0.015625)\"/>\n       <path id=\"ArialMT-63\" d=\"M 2588 1216 \nL 3141 1144 \nQ 3050 572 2676 248 \nQ 2303 -75 1759 -75 \nQ 1078 -75 664 370 \nQ 250 816 250 1647 \nQ 250 2184 428 2587 \nQ 606 2991 970 3192 \nQ 1334 3394 1763 3394 \nQ 2303 3394 2647 3120 \nQ 2991 2847 3088 2344 \nL 2541 2259 \nQ 2463 2594 2264 2762 \nQ 2066 2931 1784 2931 \nQ 1359 2931 1093 2626 \nQ 828 2322 828 1663 \nQ 828 994 1084 691 \nQ 1341 388 1753 388 \nQ 2084 388 2306 591 \nQ 2528 794 2588 1216 \nz\n\" transform=\"scale(0.015625)\"/>\n       <path id=\"ArialMT-74\" d=\"M 1650 503 \nL 1731 6 \nQ 1494 -44 1306 -44 \nQ 1000 -44 831 53 \nQ 663 150 594 308 \nQ 525 466 525 972 \nL 525 2881 \nL 113 2881 \nL 113 3319 \nL 525 3319 \nL 525 4141 \nL 1084 4478 \nL 1084 3319 \nL 1650 3319 \nL 1650 2881 \nL 1084 2881 \nL 1084 941 \nQ 1084 700 1114 631 \nQ 1144 563 1211 522 \nQ 1278 481 1403 481 \nQ 1497 481 1650 503 \nz\n\" transform=\"scale(0.015625)\"/>\n       <path id=\"ArialMT-69\" d=\"M 425 3934 \nL 425 4581 \nL 988 4581 \nL 988 3934 \nL 425 3934 \nz\nM 425 0 \nL 425 3319 \nL 988 3319 \nL 988 0 \nL 425 0 \nz\n\" transform=\"scale(0.015625)\"/>\n       <path id=\"ArialMT-76\" d=\"M 1344 0 \nL 81 3319 \nL 675 3319 \nL 1388 1331 \nQ 1503 1009 1600 663 \nQ 1675 925 1809 1294 \nL 2547 3319 \nL 3125 3319 \nL 1869 0 \nL 1344 0 \nz\n\" transform=\"scale(0.015625)\"/>\n       <path id=\"ArialMT-79\" d=\"M 397 -1278 \nL 334 -750 \nQ 519 -800 656 -800 \nQ 844 -800 956 -737 \nQ 1069 -675 1141 -563 \nQ 1194 -478 1313 -144 \nQ 1328 -97 1363 -6 \nL 103 3319 \nL 709 3319 \nL 1400 1397 \nQ 1534 1031 1641 628 \nQ 1738 1016 1872 1384 \nL 2581 3319 \nL 3144 3319 \nL 1881 -56 \nQ 1678 -603 1566 -809 \nQ 1416 -1088 1222 -1217 \nQ 1028 -1347 759 -1347 \nQ 597 -1347 397 -1278 \nz\n\" transform=\"scale(0.015625)\"/>\n      </defs>\n      <use xlink:href=\"#ArialMT-41\"/>\n      <use xlink:href=\"#ArialMT-63\" x=\"66.699219\"/>\n      <use xlink:href=\"#ArialMT-74\" x=\"116.699219\"/>\n      <use xlink:href=\"#ArialMT-69\" x=\"144.482422\"/>\n      <use xlink:href=\"#ArialMT-76\" x=\"166.699219\"/>\n      <use xlink:href=\"#ArialMT-69\" x=\"216.699219\"/>\n      <use xlink:href=\"#ArialMT-74\" x=\"238.916016\"/>\n      <use xlink:href=\"#ArialMT-79\" x=\"266.699219\"/>\n     </g>\n    </g>\n   </g>\n   <g id=\"matplotlib.axis_2\">\n    <g id=\"ytick_1\">\n     <g id=\"line2d_1\">\n      <path d=\"M 59.6425 224.64 \nL 282.8425 224.64 \n\" clip-path=\"url(#p666798c93a)\" style=\"fill: none; stroke: #ffffff; stroke-linecap: round\"/>\n     </g>\n     <g id=\"text_4\">\n      <!-- 0 -->\n      <g style=\"fill: #262626\" transform=\"translate(40.525469 228.576797)scale(0.11 -0.11)\">\n       <use xlink:href=\"#ArialMT-30\"/>\n      </g>\n     </g>\n    </g>\n    <g id=\"ytick_2\">\n     <g id=\"line2d_2\">\n      <path d=\"M 59.6425 199.186987 \nL 282.8425 199.186987 \n\" clip-path=\"url(#p666798c93a)\" style=\"fill: none; stroke: #ffffff; stroke-linecap: round\"/>\n     </g>\n     <g id=\"text_5\">\n      <!-- 250 -->\n      <g style=\"fill: #262626\" transform=\"translate(28.291406 203.123784)scale(0.11 -0.11)\">\n       <defs>\n        <path id=\"ArialMT-32\" d=\"M 3222 541 \nL 3222 0 \nL 194 0 \nQ 188 203 259 391 \nQ 375 700 629 1000 \nQ 884 1300 1366 1694 \nQ 2113 2306 2375 2664 \nQ 2638 3022 2638 3341 \nQ 2638 3675 2398 3904 \nQ 2159 4134 1775 4134 \nQ 1369 4134 1125 3890 \nQ 881 3647 878 3216 \nL 300 3275 \nQ 359 3922 746 4261 \nQ 1134 4600 1788 4600 \nQ 2447 4600 2831 4234 \nQ 3216 3869 3216 3328 \nQ 3216 3053 3103 2787 \nQ 2991 2522 2730 2228 \nQ 2469 1934 1863 1422 \nQ 1356 997 1212 845 \nQ 1069 694 975 541 \nL 3222 541 \nz\n\" transform=\"scale(0.015625)\"/>\n        <path id=\"ArialMT-35\" d=\"M 266 1200 \nL 856 1250 \nQ 922 819 1161 601 \nQ 1400 384 1738 384 \nQ 2144 384 2425 690 \nQ 2706 997 2706 1503 \nQ 2706 1984 2436 2262 \nQ 2166 2541 1728 2541 \nQ 1456 2541 1237 2417 \nQ 1019 2294 894 2097 \nL 366 2166 \nL 809 4519 \nL 3088 4519 \nL 3088 3981 \nL 1259 3981 \nL 1013 2750 \nQ 1425 3038 1878 3038 \nQ 2478 3038 2890 2622 \nQ 3303 2206 3303 1553 \nQ 3303 931 2941 478 \nQ 2500 -78 1738 -78 \nQ 1113 -78 717 272 \nQ 322 622 266 1200 \nz\n\" transform=\"scale(0.015625)\"/>\n       </defs>\n       <use xlink:href=\"#ArialMT-32\"/>\n       <use xlink:href=\"#ArialMT-35\" x=\"55.615234\"/>\n       <use xlink:href=\"#ArialMT-30\" x=\"111.230469\"/>\n      </g>\n     </g>\n    </g>\n    <g id=\"ytick_3\">\n     <g id=\"line2d_3\">\n      <path d=\"M 59.6425 173.733974 \nL 282.8425 173.733974 \n\" clip-path=\"url(#p666798c93a)\" style=\"fill: none; stroke: #ffffff; stroke-linecap: round\"/>\n     </g>\n     <g id=\"text_6\">\n      <!-- 500 -->\n      <g style=\"fill: #262626\" transform=\"translate(28.291406 177.670771)scale(0.11 -0.11)\">\n       <use xlink:href=\"#ArialMT-35\"/>\n       <use xlink:href=\"#ArialMT-30\" x=\"55.615234\"/>\n       <use xlink:href=\"#ArialMT-30\" x=\"111.230469\"/>\n      </g>\n     </g>\n    </g>\n    <g id=\"ytick_4\">\n     <g id=\"line2d_4\">\n      <path d=\"M 59.6425 148.280961 \nL 282.8425 148.280961 \n\" clip-path=\"url(#p666798c93a)\" style=\"fill: none; stroke: #ffffff; stroke-linecap: round\"/>\n     </g>\n     <g id=\"text_7\">\n      <!-- 750 -->\n      <g style=\"fill: #262626\" transform=\"translate(28.291406 152.217758)scale(0.11 -0.11)\">\n       <defs>\n        <path id=\"ArialMT-37\" d=\"M 303 3981 \nL 303 4522 \nL 3269 4522 \nL 3269 4084 \nQ 2831 3619 2401 2847 \nQ 1972 2075 1738 1259 \nQ 1569 684 1522 0 \nL 944 0 \nQ 953 541 1156 1306 \nQ 1359 2072 1739 2783 \nQ 2119 3494 2547 3981 \nL 303 3981 \nz\n\" transform=\"scale(0.015625)\"/>\n       </defs>\n       <use xlink:href=\"#ArialMT-37\"/>\n       <use xlink:href=\"#ArialMT-35\" x=\"55.615234\"/>\n       <use xlink:href=\"#ArialMT-30\" x=\"111.230469\"/>\n      </g>\n     </g>\n    </g>\n    <g id=\"ytick_5\">\n     <g id=\"line2d_5\">\n      <path d=\"M 59.6425 122.827948 \nL 282.8425 122.827948 \n\" clip-path=\"url(#p666798c93a)\" style=\"fill: none; stroke: #ffffff; stroke-linecap: round\"/>\n     </g>\n     <g id=\"text_8\">\n      <!-- 1000 -->\n      <g style=\"fill: #262626\" transform=\"translate(22.174375 126.764745)scale(0.11 -0.11)\">\n       <use xlink:href=\"#ArialMT-31\"/>\n       <use xlink:href=\"#ArialMT-30\" x=\"55.615234\"/>\n       <use xlink:href=\"#ArialMT-30\" x=\"111.230469\"/>\n       <use xlink:href=\"#ArialMT-30\" x=\"166.845703\"/>\n      </g>\n     </g>\n    </g>\n    <g id=\"ytick_6\">\n     <g id=\"line2d_6\">\n      <path d=\"M 59.6425 97.374935 \nL 282.8425 97.374935 \n\" clip-path=\"url(#p666798c93a)\" style=\"fill: none; stroke: #ffffff; stroke-linecap: round\"/>\n     </g>\n     <g id=\"text_9\">\n      <!-- 1250 -->\n      <g style=\"fill: #262626\" transform=\"translate(22.174375 101.311732)scale(0.11 -0.11)\">\n       <use xlink:href=\"#ArialMT-31\"/>\n       <use xlink:href=\"#ArialMT-32\" x=\"55.615234\"/>\n       <use xlink:href=\"#ArialMT-35\" x=\"111.230469\"/>\n       <use xlink:href=\"#ArialMT-30\" x=\"166.845703\"/>\n      </g>\n     </g>\n    </g>\n    <g id=\"ytick_7\">\n     <g id=\"line2d_7\">\n      <path d=\"M 59.6425 71.921922 \nL 282.8425 71.921922 \n\" clip-path=\"url(#p666798c93a)\" style=\"fill: none; stroke: #ffffff; stroke-linecap: round\"/>\n     </g>\n     <g id=\"text_10\">\n      <!-- 1500 -->\n      <g style=\"fill: #262626\" transform=\"translate(22.174375 75.858718)scale(0.11 -0.11)\">\n       <use xlink:href=\"#ArialMT-31\"/>\n       <use xlink:href=\"#ArialMT-35\" x=\"55.615234\"/>\n       <use xlink:href=\"#ArialMT-30\" x=\"111.230469\"/>\n       <use xlink:href=\"#ArialMT-30\" x=\"166.845703\"/>\n      </g>\n     </g>\n    </g>\n    <g id=\"ytick_8\">\n     <g id=\"line2d_8\">\n      <path d=\"M 59.6425 46.468909 \nL 282.8425 46.468909 \n\" clip-path=\"url(#p666798c93a)\" style=\"fill: none; stroke: #ffffff; stroke-linecap: round\"/>\n     </g>\n     <g id=\"text_11\">\n      <!-- 1750 -->\n      <g style=\"fill: #262626\" transform=\"translate(22.174375 50.405705)scale(0.11 -0.11)\">\n       <use xlink:href=\"#ArialMT-31\"/>\n       <use xlink:href=\"#ArialMT-37\" x=\"55.615234\"/>\n       <use xlink:href=\"#ArialMT-35\" x=\"111.230469\"/>\n       <use xlink:href=\"#ArialMT-30\" x=\"166.845703\"/>\n      </g>\n     </g>\n    </g>\n    <g id=\"ytick_9\">\n     <g id=\"line2d_9\">\n      <path d=\"M 59.6425 21.015895 \nL 282.8425 21.015895 \n\" clip-path=\"url(#p666798c93a)\" style=\"fill: none; stroke: #ffffff; stroke-linecap: round\"/>\n     </g>\n     <g id=\"text_12\">\n      <!-- 2000 -->\n      <g style=\"fill: #262626\" transform=\"translate(22.174375 24.952692)scale(0.11 -0.11)\">\n       <use xlink:href=\"#ArialMT-32\"/>\n       <use xlink:href=\"#ArialMT-30\" x=\"55.615234\"/>\n       <use xlink:href=\"#ArialMT-30\" x=\"111.230469\"/>\n       <use xlink:href=\"#ArialMT-30\" x=\"166.845703\"/>\n      </g>\n     </g>\n    </g>\n    <g id=\"text_13\">\n     <!-- count -->\n     <g style=\"fill: #262626\" transform=\"translate(15.789375 130.596562)rotate(-90)scale(0.12 -0.12)\">\n      <defs>\n       <path id=\"ArialMT-6f\" d=\"M 213 1659 \nQ 213 2581 725 3025 \nQ 1153 3394 1769 3394 \nQ 2453 3394 2887 2945 \nQ 3322 2497 3322 1706 \nQ 3322 1066 3130 698 \nQ 2938 331 2570 128 \nQ 2203 -75 1769 -75 \nQ 1072 -75 642 372 \nQ 213 819 213 1659 \nz\nM 791 1659 \nQ 791 1022 1069 705 \nQ 1347 388 1769 388 \nQ 2188 388 2466 706 \nQ 2744 1025 2744 1678 \nQ 2744 2294 2464 2611 \nQ 2184 2928 1769 2928 \nQ 1347 2928 1069 2612 \nQ 791 2297 791 1659 \nz\n\" transform=\"scale(0.015625)\"/>\n       <path id=\"ArialMT-75\" d=\"M 2597 0 \nL 2597 488 \nQ 2209 -75 1544 -75 \nQ 1250 -75 995 37 \nQ 741 150 617 320 \nQ 494 491 444 738 \nQ 409 903 409 1263 \nL 409 3319 \nL 972 3319 \nL 972 1478 \nQ 972 1038 1006 884 \nQ 1059 663 1231 536 \nQ 1403 409 1656 409 \nQ 1909 409 2131 539 \nQ 2353 669 2445 892 \nQ 2538 1116 2538 1541 \nL 2538 3319 \nL 3100 3319 \nL 3100 0 \nL 2597 0 \nz\n\" transform=\"scale(0.015625)\"/>\n       <path id=\"ArialMT-6e\" d=\"M 422 0 \nL 422 3319 \nL 928 3319 \nL 928 2847 \nQ 1294 3394 1984 3394 \nQ 2284 3394 2536 3286 \nQ 2788 3178 2913 3003 \nQ 3038 2828 3088 2588 \nQ 3119 2431 3119 2041 \nL 3119 0 \nL 2556 0 \nL 2556 2019 \nQ 2556 2363 2490 2533 \nQ 2425 2703 2258 2804 \nQ 2091 2906 1866 2906 \nQ 1506 2906 1245 2678 \nQ 984 2450 984 1813 \nL 984 0 \nL 422 0 \nz\n\" transform=\"scale(0.015625)\"/>\n      </defs>\n      <use xlink:href=\"#ArialMT-63\"/>\n      <use xlink:href=\"#ArialMT-6f\" x=\"50\"/>\n      <use xlink:href=\"#ArialMT-75\" x=\"105.615234\"/>\n      <use xlink:href=\"#ArialMT-6e\" x=\"161.230469\"/>\n      <use xlink:href=\"#ArialMT-74\" x=\"216.845703\"/>\n     </g>\n    </g>\n   </g>\n   <g id=\"patch_3\">\n    <path d=\"M 70.8025 224.64 \nL 160.0825 224.64 \nL 160.0825 49.828706 \nL 70.8025 49.828706 \nz\n\" clip-path=\"url(#p666798c93a)\" style=\"fill: #5875a4; stroke: #ffffff; stroke-linejoin: miter\"/>\n   </g>\n   <g id=\"patch_4\">\n    <path d=\"M 182.4025 224.64 \nL 271.6825 224.64 \nL 271.6825 17.554286 \nL 182.4025 17.554286 \nz\n\" clip-path=\"url(#p666798c93a)\" style=\"fill: #cc8963; stroke: #ffffff; stroke-linejoin: miter\"/>\n   </g>\n   <g id=\"patch_5\">\n    <path d=\"M 59.6425 224.64 \nL 59.6425 7.2 \n\" style=\"fill: none; stroke: #ffffff; stroke-width: 1.25; stroke-linejoin: miter; stroke-linecap: square\"/>\n   </g>\n   <g id=\"patch_6\">\n    <path d=\"M 282.8425 224.64 \nL 282.8425 7.2 \n\" style=\"fill: none; stroke: #ffffff; stroke-width: 1.25; stroke-linejoin: miter; stroke-linecap: square\"/>\n   </g>\n   <g id=\"patch_7\">\n    <path d=\"M 59.6425 224.64 \nL 282.8425 224.64 \n\" style=\"fill: none; stroke: #ffffff; stroke-width: 1.25; stroke-linejoin: miter; stroke-linecap: square\"/>\n   </g>\n   <g id=\"patch_8\">\n    <path d=\"M 59.6425 7.2 \nL 282.8425 7.2 \n\" style=\"fill: none; stroke: #ffffff; stroke-width: 1.25; stroke-linejoin: miter; stroke-linecap: square\"/>\n   </g>\n  </g>\n </g>\n <defs>\n  <clipPath id=\"p666798c93a\">\n   <rect x=\"59.6425\" y=\"7.2\" width=\"223.2\" height=\"217.44\"/>\n  </clipPath>\n </defs>\n</svg>\n",
      "text/plain": [
       "<Figure size 288x288 with 1 Axes>"
      ]
     },
     "metadata": {},
     "output_type": "display_data"
    }
   ],
   "source": [
    "# оценим сбалансированность классов\n",
    "\n",
    "display(data.Activity.value_counts(normalize=True))\n",
    "\n",
    "sns.set(rc={'figure.figsize':(4,4)})\n",
    "sns.countplot(data=data, x='Activity');"
   ]
  },
  {
   "attachments": {},
   "cell_type": "markdown",
   "metadata": {},
   "source": [
    "***"
   ]
  },
  {
   "attachments": {},
   "cell_type": "markdown",
   "metadata": {},
   "source": [
    "## 2. Алгоритм решения задачи"
   ]
  },
  {
   "attachments": {},
   "cell_type": "markdown",
   "metadata": {},
   "source": [
    "- Мы имеем дело с несбалансированным набором данных. Разделим данные в соотношении 80/20 на тренировочную и тестовую выборки соответственно, используя стратификацию.\n",
    "- Тестовую выборку мы будем использовать для оценки качества обученной модели. При настройке гиперпараметров модель видеть тестовые данные не будет.\n",
    "- Будем использовать кросс-валидацию, соответственно выделять из обучающего набора данных валидационную выборку не нужно - алгоритм это сделает самостоятельно.\n",
    "- Будем использовать кросс-валидатор StratifiedKFold()"
   ]
  },
  {
   "attachments": {},
   "cell_type": "markdown",
   "metadata": {},
   "source": [
    "***"
   ]
  },
  {
   "attachments": {},
   "cell_type": "markdown",
   "metadata": {},
   "source": [
    "## 3. Разделим выборку и определим константы"
   ]
  },
  {
   "cell_type": "code",
   "execution_count": 5,
   "metadata": {},
   "outputs": [],
   "source": [
    "# фиксируем random_state\n",
    "random_state = 42"
   ]
  },
  {
   "cell_type": "code",
   "execution_count": 6,
   "metadata": {},
   "outputs": [],
   "source": [
    "# фиксируем max_iter, согласно условиям задания - не более 50\n",
    "max_iter = 50"
   ]
  },
  {
   "cell_type": "code",
   "execution_count": 7,
   "metadata": {},
   "outputs": [],
   "source": [
    "# создаём и фиксируем объект кросс-валидатора KFold\n",
    "kf = model_selection.StratifiedKFold(n_splits=10, shuffle=True, random_state=random_state)"
   ]
  },
  {
   "attachments": {},
   "cell_type": "markdown",
   "metadata": {},
   "source": [
    "**Примечание:** Конечно, *GridSearchCV* и *RandomizedSearchCV* при использовании классификатора с кросс-валидацией автоматически используют StratifiedKFold, но здесь мы можем поиграться, например, со значением shuffle"
   ]
  },
  {
   "cell_type": "markdown",
   "id": "8p3eELnEaAQW",
   "metadata": {
    "id": "8p3eELnEaAQW"
   },
   "source": [
    "Создаем матрицу наблюдений $X$ и вектор ответов $y$"
   ]
  },
  {
   "cell_type": "code",
   "execution_count": 8,
   "id": "_2GncsCbaAQY",
   "metadata": {
    "id": "_2GncsCbaAQY"
   },
   "outputs": [],
   "source": [
    "X = data.drop(['Activity'], axis=1)\n",
    "y = data['Activity']"
   ]
  },
  {
   "cell_type": "markdown",
   "id": "q4SyRSFhaAQZ",
   "metadata": {
    "id": "q4SyRSFhaAQZ"
   },
   "source": [
    "Разделяем выборку на тренировочную и тестовую в соотношении 80/20. Для сохранения соотношений целевого признака используем параметр stratify (стратифицированное разбиение). "
   ]
  },
  {
   "cell_type": "code",
   "execution_count": 9,
   "id": "Fl_eJIInaAQa",
   "metadata": {
    "id": "Fl_eJIInaAQa"
   },
   "outputs": [],
   "source": [
    "X_train, X_test, y_train, y_test = train_test_split(X, y, stratify=y, random_state = random_state, test_size = 0.2)"
   ]
  },
  {
   "attachments": {},
   "cell_type": "markdown",
   "metadata": {},
   "source": [
    "***"
   ]
  },
  {
   "attachments": {},
   "cell_type": "markdown",
   "metadata": {},
   "source": [
    "## 4. Логистическая регрессия"
   ]
  },
  {
   "attachments": {},
   "cell_type": "markdown",
   "metadata": {},
   "source": [
    "### 4.1. Логистическая регрессия с кросс-валидацией"
   ]
  },
  {
   "cell_type": "code",
   "execution_count": 10,
   "metadata": {},
   "outputs": [
    {
     "name": "stdout",
     "output_type": "stream",
     "text": [
      "Train k-fold mean f1_score: 0.89\n",
      "Valid k-fold mean f1_score: 0.78\n"
     ]
    }
   ],
   "source": [
    "# Создаём модель\n",
    "model_lr = linear_model.LogisticRegression(\n",
    "    max_iter = max_iter, \n",
    "    random_state = random_state\n",
    "    )\n",
    " \n",
    "# Считаем метрики на кросс-валидации k-fold\n",
    "cv_metrics = model_selection.cross_validate(\n",
    "    estimator=model_lr, # модель\n",
    "    X=X_train, # матрица наблюдений X\n",
    "    y=y_train, # вектор ответов y\n",
    "    cv=kf, # кросс-валидатор\n",
    "    scoring='f1', # метрика\n",
    "    return_train_score=True # подсчёт метрики на тренировочных фолдах\n",
    ")\n",
    "\n",
    "# выводим метрики\n",
    "print('Train k-fold mean f1_score: {:.2f}'.format(np.mean(cv_metrics['train_score'])))\n",
    "print('Valid k-fold mean f1_score: {:.2f}'.format(np.mean(cv_metrics['test_score'])))"
   ]
  },
  {
   "cell_type": "code",
   "execution_count": 11,
   "metadata": {},
   "outputs": [
    {
     "name": "stdout",
     "output_type": "stream",
     "text": [
      "Test f1_score: 0.78\n"
     ]
    }
   ],
   "source": [
    "# обучаем модель\n",
    "model_lr.fit(X_train, y_train)\n",
    "\n",
    "# делаем предсказание на тестовой выборке\n",
    "y_test_pred = model_lr.predict(X_test)\n",
    "\n",
    "# расчитываем и выводим метрику на тестовой выборке\n",
    "print('Test f1_score: {:.2f}'.format(metrics.f1_score(y_test, y_test_pred)))"
   ]
  },
  {
   "attachments": {},
   "cell_type": "markdown",
   "metadata": {},
   "source": [
    "## 5. Оптимизация гиперпараметров"
   ]
  },
  {
   "attachments": {},
   "cell_type": "markdown",
   "metadata": {},
   "source": [
    "### 5.1. GridSearchCV"
   ]
  },
  {
   "cell_type": "code",
   "execution_count": 12,
   "metadata": {},
   "outputs": [],
   "source": [
    "# убираем назойливые предупреждения из выводных ячеек\n",
    "if not sys.warnoptions:\n",
    "    warnings.simplefilter(\"ignore\")\n",
    "    os.environ[\"PYTHONWARNINGS\"] = \"ignore\" # Also affect subprocesses"
   ]
  },
  {
   "cell_type": "code",
   "execution_count": 13,
   "metadata": {},
   "outputs": [
    {
     "name": "stdout",
     "output_type": "stream",
     "text": [
      "CPU times: user 3.2 s, sys: 581 ms, total: 3.78 s\n",
      "Wall time: 3min 57s\n"
     ]
    },
    {
     "data": {
      "text/html": [
       "<style>#sk-container-id-1 {color: black;background-color: white;}#sk-container-id-1 pre{padding: 0;}#sk-container-id-1 div.sk-toggleable {background-color: white;}#sk-container-id-1 label.sk-toggleable__label {cursor: pointer;display: block;width: 100%;margin-bottom: 0;padding: 0.3em;box-sizing: border-box;text-align: center;}#sk-container-id-1 label.sk-toggleable__label-arrow:before {content: \"▸\";float: left;margin-right: 0.25em;color: #696969;}#sk-container-id-1 label.sk-toggleable__label-arrow:hover:before {color: black;}#sk-container-id-1 div.sk-estimator:hover label.sk-toggleable__label-arrow:before {color: black;}#sk-container-id-1 div.sk-toggleable__content {max-height: 0;max-width: 0;overflow: hidden;text-align: left;background-color: #f0f8ff;}#sk-container-id-1 div.sk-toggleable__content pre {margin: 0.2em;color: black;border-radius: 0.25em;background-color: #f0f8ff;}#sk-container-id-1 input.sk-toggleable__control:checked~div.sk-toggleable__content {max-height: 200px;max-width: 100%;overflow: auto;}#sk-container-id-1 input.sk-toggleable__control:checked~label.sk-toggleable__label-arrow:before {content: \"▾\";}#sk-container-id-1 div.sk-estimator input.sk-toggleable__control:checked~label.sk-toggleable__label {background-color: #d4ebff;}#sk-container-id-1 div.sk-label input.sk-toggleable__control:checked~label.sk-toggleable__label {background-color: #d4ebff;}#sk-container-id-1 input.sk-hidden--visually {border: 0;clip: rect(1px 1px 1px 1px);clip: rect(1px, 1px, 1px, 1px);height: 1px;margin: -1px;overflow: hidden;padding: 0;position: absolute;width: 1px;}#sk-container-id-1 div.sk-estimator {font-family: monospace;background-color: #f0f8ff;border: 1px dotted black;border-radius: 0.25em;box-sizing: border-box;margin-bottom: 0.5em;}#sk-container-id-1 div.sk-estimator:hover {background-color: #d4ebff;}#sk-container-id-1 div.sk-parallel-item::after {content: \"\";width: 100%;border-bottom: 1px solid gray;flex-grow: 1;}#sk-container-id-1 div.sk-label:hover label.sk-toggleable__label {background-color: #d4ebff;}#sk-container-id-1 div.sk-serial::before {content: \"\";position: absolute;border-left: 1px solid gray;box-sizing: border-box;top: 0;bottom: 0;left: 50%;z-index: 0;}#sk-container-id-1 div.sk-serial {display: flex;flex-direction: column;align-items: center;background-color: white;padding-right: 0.2em;padding-left: 0.2em;position: relative;}#sk-container-id-1 div.sk-item {position: relative;z-index: 1;}#sk-container-id-1 div.sk-parallel {display: flex;align-items: stretch;justify-content: center;background-color: white;position: relative;}#sk-container-id-1 div.sk-item::before, #sk-container-id-1 div.sk-parallel-item::before {content: \"\";position: absolute;border-left: 1px solid gray;box-sizing: border-box;top: 0;bottom: 0;left: 50%;z-index: -1;}#sk-container-id-1 div.sk-parallel-item {display: flex;flex-direction: column;z-index: 1;position: relative;background-color: white;}#sk-container-id-1 div.sk-parallel-item:first-child::after {align-self: flex-end;width: 50%;}#sk-container-id-1 div.sk-parallel-item:last-child::after {align-self: flex-start;width: 50%;}#sk-container-id-1 div.sk-parallel-item:only-child::after {width: 0;}#sk-container-id-1 div.sk-dashed-wrapped {border: 1px dashed gray;margin: 0 0.4em 0.5em 0.4em;box-sizing: border-box;padding-bottom: 0.4em;background-color: white;}#sk-container-id-1 div.sk-label label {font-family: monospace;font-weight: bold;display: inline-block;line-height: 1.2em;}#sk-container-id-1 div.sk-label-container {text-align: center;}#sk-container-id-1 div.sk-container {/* jupyter's `normalize.less` sets `[hidden] { display: none; }` but bootstrap.min.css set `[hidden] { display: none !important; }` so we also need the `!important` here to be able to override the default hidden behavior on the sphinx rendered scikit-learn.org. See: https://github.com/scikit-learn/scikit-learn/issues/21755 */display: inline-block !important;position: relative;}#sk-container-id-1 div.sk-text-repr-fallback {display: none;}</style><div id=\"sk-container-id-1\" class=\"sk-top-container\"><div class=\"sk-text-repr-fallback\"><pre>GridSearchCV(cv=StratifiedKFold(n_splits=10, random_state=42, shuffle=True),\n",
       "             estimator=LogisticRegression(max_iter=50, random_state=42),\n",
       "             n_jobs=-1,\n",
       "             param_grid=[{&#x27;C&#x27;: [0.01, 0.1, 0.3, 0.5, 0.7, 0.9, 1],\n",
       "                          &#x27;penalty&#x27;: [&#x27;l2&#x27;, &#x27;none&#x27;],\n",
       "                          &#x27;solver&#x27;: [&#x27;lbfgs&#x27;, &#x27;sag&#x27;, &#x27;newton-cg&#x27;,\n",
       "                                     &#x27;newton-cholesky&#x27;]},\n",
       "                         {&#x27;C&#x27;: [0.01, 0.1, 0.3, 0.5, 0.7, 0.9, 1],\n",
       "                          &#x27;penalty&#x27;: [&#x27;l1&#x27;, &#x27;l2&#x27;], &#x27;solver&#x27;: [&#x27;liblinear&#x27;]},\n",
       "                         {&#x27;C&#x27;: [0.01, 0.1, 0.3, 0.5, 0.7, 0.9, 1],\n",
       "                          &#x27;penalty&#x27;: [&#x27;l1&#x27;, &#x27;l2&#x27;, &#x27;elasticnet&#x27;, &#x27;none&#x27;],\n",
       "                          &#x27;solver&#x27;: [&#x27;saga&#x27;]}],\n",
       "             scoring=&#x27;f1&#x27;)</pre><b>In a Jupyter environment, please rerun this cell to show the HTML representation or trust the notebook. <br />On GitHub, the HTML representation is unable to render, please try loading this page with nbviewer.org.</b></div><div class=\"sk-container\" hidden><div class=\"sk-item sk-dashed-wrapped\"><div class=\"sk-label-container\"><div class=\"sk-label sk-toggleable\"><input class=\"sk-toggleable__control sk-hidden--visually\" id=\"sk-estimator-id-1\" type=\"checkbox\" ><label for=\"sk-estimator-id-1\" class=\"sk-toggleable__label sk-toggleable__label-arrow\">GridSearchCV</label><div class=\"sk-toggleable__content\"><pre>GridSearchCV(cv=StratifiedKFold(n_splits=10, random_state=42, shuffle=True),\n",
       "             estimator=LogisticRegression(max_iter=50, random_state=42),\n",
       "             n_jobs=-1,\n",
       "             param_grid=[{&#x27;C&#x27;: [0.01, 0.1, 0.3, 0.5, 0.7, 0.9, 1],\n",
       "                          &#x27;penalty&#x27;: [&#x27;l2&#x27;, &#x27;none&#x27;],\n",
       "                          &#x27;solver&#x27;: [&#x27;lbfgs&#x27;, &#x27;sag&#x27;, &#x27;newton-cg&#x27;,\n",
       "                                     &#x27;newton-cholesky&#x27;]},\n",
       "                         {&#x27;C&#x27;: [0.01, 0.1, 0.3, 0.5, 0.7, 0.9, 1],\n",
       "                          &#x27;penalty&#x27;: [&#x27;l1&#x27;, &#x27;l2&#x27;], &#x27;solver&#x27;: [&#x27;liblinear&#x27;]},\n",
       "                         {&#x27;C&#x27;: [0.01, 0.1, 0.3, 0.5, 0.7, 0.9, 1],\n",
       "                          &#x27;penalty&#x27;: [&#x27;l1&#x27;, &#x27;l2&#x27;, &#x27;elasticnet&#x27;, &#x27;none&#x27;],\n",
       "                          &#x27;solver&#x27;: [&#x27;saga&#x27;]}],\n",
       "             scoring=&#x27;f1&#x27;)</pre></div></div></div><div class=\"sk-parallel\"><div class=\"sk-parallel-item\"><div class=\"sk-item\"><div class=\"sk-label-container\"><div class=\"sk-label sk-toggleable\"><input class=\"sk-toggleable__control sk-hidden--visually\" id=\"sk-estimator-id-2\" type=\"checkbox\" ><label for=\"sk-estimator-id-2\" class=\"sk-toggleable__label sk-toggleable__label-arrow\">estimator: LogisticRegression</label><div class=\"sk-toggleable__content\"><pre>LogisticRegression(max_iter=50, random_state=42)</pre></div></div></div><div class=\"sk-serial\"><div class=\"sk-item\"><div class=\"sk-estimator sk-toggleable\"><input class=\"sk-toggleable__control sk-hidden--visually\" id=\"sk-estimator-id-3\" type=\"checkbox\" ><label for=\"sk-estimator-id-3\" class=\"sk-toggleable__label sk-toggleable__label-arrow\">LogisticRegression</label><div class=\"sk-toggleable__content\"><pre>LogisticRegression(max_iter=50, random_state=42)</pre></div></div></div></div></div></div></div></div></div></div>"
      ],
      "text/plain": [
       "GridSearchCV(cv=StratifiedKFold(n_splits=10, random_state=42, shuffle=True),\n",
       "             estimator=LogisticRegression(max_iter=50, random_state=42),\n",
       "             n_jobs=-1,\n",
       "             param_grid=[{'C': [0.01, 0.1, 0.3, 0.5, 0.7, 0.9, 1],\n",
       "                          'penalty': ['l2', 'none'],\n",
       "                          'solver': ['lbfgs', 'sag', 'newton-cg',\n",
       "                                     'newton-cholesky']},\n",
       "                         {'C': [0.01, 0.1, 0.3, 0.5, 0.7, 0.9, 1],\n",
       "                          'penalty': ['l1', 'l2'], 'solver': ['liblinear']},\n",
       "                         {'C': [0.01, 0.1, 0.3, 0.5, 0.7, 0.9, 1],\n",
       "                          'penalty': ['l1', 'l2', 'elasticnet', 'none'],\n",
       "                          'solver': ['saga']}],\n",
       "             scoring='f1')"
      ]
     },
     "execution_count": 13,
     "metadata": {},
     "output_type": "execute_result"
    }
   ],
   "source": [
    "# создаем сетку параметров\n",
    "param_grid = [\n",
    "            {'penalty': ['l2', 'none'] , # тип регуляризации\n",
    "            'solver': ['lbfgs', 'sag', 'newton-cg', 'newton-cholesky'], # алгоритм оптимизации\n",
    "            'C': [0.01, 0.1, 0.3, 0.5, 0.7, 0.9, 1]}, # уровень силы регурялизации\n",
    "              \n",
    "            {'penalty': ['l1', 'l2'] ,\n",
    "            'solver': ['liblinear'],\n",
    "            'C': [0.01, 0.1, 0.3, 0.5, 0.7, 0.9, 1]},\n",
    "              \n",
    "            {'penalty': ['l1', 'l2', 'elasticnet', 'none'] ,\n",
    "            'solver': ['saga'],\n",
    "            'C': [0.01, 0.1, 0.3, 0.5, 0.7, 0.9, 1]}\n",
    "]\n",
    "\n",
    "# создаем объект GridSearchCV\n",
    "model_lr_gscv = GridSearchCV(\n",
    "    estimator=linear_model.LogisticRegression(\n",
    "        random_state=random_state, \n",
    "        max_iter=max_iter \n",
    "        ), \n",
    "    param_grid=param_grid, \n",
    "    cv=kf, \n",
    "    n_jobs = -1,\n",
    "    scoring='f1'\n",
    ") \n",
    "\n",
    "# проводим обучение \n",
    "%time model_lr_gscv.fit(X_train, y_train) \n"
   ]
  },
  {
   "cell_type": "code",
   "execution_count": 14,
   "metadata": {},
   "outputs": [
    {
     "name": "stdout",
     "output_type": "stream",
     "text": [
      "Наилучшая модель:\n",
      "LogisticRegression(C=0.1, max_iter=50, random_state=42, solver='saga')\n",
      "Наилучшее значение f1_score при кросс-валидаци: 0.79\n"
     ]
    }
   ],
   "source": [
    "print(\"Наилучшая модель:\\n{}\".format(model_lr_gscv.best_estimator_))\n",
    "print(\"Наилучшее значение f1_score при кросс-валидаци: {:.2f}\".format(model_lr_gscv.best_score_))"
   ]
  },
  {
   "cell_type": "code",
   "execution_count": 15,
   "metadata": {},
   "outputs": [
    {
     "name": "stdout",
     "output_type": "stream",
     "text": [
      "Train k-fold mean f1_score: 0.80\n",
      "Valid k-fold mean f1_score: 0.78\n"
     ]
    }
   ],
   "source": [
    "# Создаём модель с подобранными гиперпараметрами\n",
    "model_lr_gscv = linear_model.LogisticRegression(\n",
    "    max_iter = max_iter, \n",
    "    random_state = random_state,\n",
    "    \n",
    "    C=0.1,\n",
    "    penalty='l1',\n",
    "    solver='saga'\n",
    "    )\n",
    "\n",
    "# Считаем метрики на кросс-валидации k-fold\n",
    "cv_metrics = model_selection.cross_validate(\n",
    "    estimator=model_lr_gscv, # модель\n",
    "    X=X_train, # матрица наблюдений X\n",
    "    y=y_train, # вектор ответов y\n",
    "    cv=kf, # кросс-валидатор\n",
    "    scoring='f1', # метрика\n",
    "    return_train_score=True # подсчёт метрики на тренировочных фолдах\n",
    ")\n",
    "# выводим метрики\n",
    "print('Train k-fold mean f1_score: {:.2f}'.format(np.mean(cv_metrics['train_score'])))\n",
    "print('Valid k-fold mean f1_score: {:.2f}'.format(np.mean(cv_metrics['test_score'])))\n"
   ]
  },
  {
   "cell_type": "code",
   "execution_count": 16,
   "metadata": {},
   "outputs": [
    {
     "name": "stdout",
     "output_type": "stream",
     "text": [
      "Test f1_score: 0.77\n"
     ]
    }
   ],
   "source": [
    "# обучаем модель\n",
    "model_lr_gscv.fit(X_train, y_train)\n",
    "\n",
    "# делаем предсказание на тестовой выборке\n",
    "y_test_pred = model_lr_gscv.predict(X_test)\n",
    "\n",
    "# расчитываем и выводим метрику на тестовой выборке\n",
    "print('Test f1_score: {:.2f}'.format(metrics.f1_score(y_test, y_test_pred)))"
   ]
  },
  {
   "attachments": {},
   "cell_type": "markdown",
   "metadata": {},
   "source": [
    "### 5.2. RandomizedSearchCV"
   ]
  },
  {
   "cell_type": "code",
   "execution_count": 17,
   "metadata": {},
   "outputs": [
    {
     "name": "stdout",
     "output_type": "stream",
     "text": [
      "CPU times: user 1.83 s, sys: 314 ms, total: 2.14 s\n",
      "Wall time: 32 s\n"
     ]
    },
    {
     "data": {
      "text/html": [
       "<style>#sk-container-id-2 {color: black;background-color: white;}#sk-container-id-2 pre{padding: 0;}#sk-container-id-2 div.sk-toggleable {background-color: white;}#sk-container-id-2 label.sk-toggleable__label {cursor: pointer;display: block;width: 100%;margin-bottom: 0;padding: 0.3em;box-sizing: border-box;text-align: center;}#sk-container-id-2 label.sk-toggleable__label-arrow:before {content: \"▸\";float: left;margin-right: 0.25em;color: #696969;}#sk-container-id-2 label.sk-toggleable__label-arrow:hover:before {color: black;}#sk-container-id-2 div.sk-estimator:hover label.sk-toggleable__label-arrow:before {color: black;}#sk-container-id-2 div.sk-toggleable__content {max-height: 0;max-width: 0;overflow: hidden;text-align: left;background-color: #f0f8ff;}#sk-container-id-2 div.sk-toggleable__content pre {margin: 0.2em;color: black;border-radius: 0.25em;background-color: #f0f8ff;}#sk-container-id-2 input.sk-toggleable__control:checked~div.sk-toggleable__content {max-height: 200px;max-width: 100%;overflow: auto;}#sk-container-id-2 input.sk-toggleable__control:checked~label.sk-toggleable__label-arrow:before {content: \"▾\";}#sk-container-id-2 div.sk-estimator input.sk-toggleable__control:checked~label.sk-toggleable__label {background-color: #d4ebff;}#sk-container-id-2 div.sk-label input.sk-toggleable__control:checked~label.sk-toggleable__label {background-color: #d4ebff;}#sk-container-id-2 input.sk-hidden--visually {border: 0;clip: rect(1px 1px 1px 1px);clip: rect(1px, 1px, 1px, 1px);height: 1px;margin: -1px;overflow: hidden;padding: 0;position: absolute;width: 1px;}#sk-container-id-2 div.sk-estimator {font-family: monospace;background-color: #f0f8ff;border: 1px dotted black;border-radius: 0.25em;box-sizing: border-box;margin-bottom: 0.5em;}#sk-container-id-2 div.sk-estimator:hover {background-color: #d4ebff;}#sk-container-id-2 div.sk-parallel-item::after {content: \"\";width: 100%;border-bottom: 1px solid gray;flex-grow: 1;}#sk-container-id-2 div.sk-label:hover label.sk-toggleable__label {background-color: #d4ebff;}#sk-container-id-2 div.sk-serial::before {content: \"\";position: absolute;border-left: 1px solid gray;box-sizing: border-box;top: 0;bottom: 0;left: 50%;z-index: 0;}#sk-container-id-2 div.sk-serial {display: flex;flex-direction: column;align-items: center;background-color: white;padding-right: 0.2em;padding-left: 0.2em;position: relative;}#sk-container-id-2 div.sk-item {position: relative;z-index: 1;}#sk-container-id-2 div.sk-parallel {display: flex;align-items: stretch;justify-content: center;background-color: white;position: relative;}#sk-container-id-2 div.sk-item::before, #sk-container-id-2 div.sk-parallel-item::before {content: \"\";position: absolute;border-left: 1px solid gray;box-sizing: border-box;top: 0;bottom: 0;left: 50%;z-index: -1;}#sk-container-id-2 div.sk-parallel-item {display: flex;flex-direction: column;z-index: 1;position: relative;background-color: white;}#sk-container-id-2 div.sk-parallel-item:first-child::after {align-self: flex-end;width: 50%;}#sk-container-id-2 div.sk-parallel-item:last-child::after {align-self: flex-start;width: 50%;}#sk-container-id-2 div.sk-parallel-item:only-child::after {width: 0;}#sk-container-id-2 div.sk-dashed-wrapped {border: 1px dashed gray;margin: 0 0.4em 0.5em 0.4em;box-sizing: border-box;padding-bottom: 0.4em;background-color: white;}#sk-container-id-2 div.sk-label label {font-family: monospace;font-weight: bold;display: inline-block;line-height: 1.2em;}#sk-container-id-2 div.sk-label-container {text-align: center;}#sk-container-id-2 div.sk-container {/* jupyter's `normalize.less` sets `[hidden] { display: none; }` but bootstrap.min.css set `[hidden] { display: none !important; }` so we also need the `!important` here to be able to override the default hidden behavior on the sphinx rendered scikit-learn.org. See: https://github.com/scikit-learn/scikit-learn/issues/21755 */display: inline-block !important;position: relative;}#sk-container-id-2 div.sk-text-repr-fallback {display: none;}</style><div id=\"sk-container-id-2\" class=\"sk-top-container\"><div class=\"sk-text-repr-fallback\"><pre>RandomizedSearchCV(cv=StratifiedKFold(n_splits=10, random_state=42, shuffle=True),\n",
       "                   estimator=LogisticRegression(max_iter=50, random_state=42),\n",
       "                   n_jobs=-1,\n",
       "                   param_distributions=[{&#x27;C&#x27;: [0.01, 0.12, 0.23, 0.34, 0.45,\n",
       "                                               0.56, 0.67, 0.78, 0.89, 1.0],\n",
       "                                         &#x27;penalty&#x27;: [&#x27;l2&#x27;, &#x27;none&#x27;],\n",
       "                                         &#x27;solver&#x27;: [&#x27;lbfgs&#x27;, &#x27;sag&#x27;, &#x27;newton-cg&#x27;,\n",
       "                                                    &#x27;newton-cholesky&#x27;]},\n",
       "                                        {&#x27;C&#x27;: [0.01, 0.12, 0.23, 0.34, 0.45,\n",
       "                                               0.56, 0.67, 0.78, 0.89, 1.0],\n",
       "                                         &#x27;penalty&#x27;: [&#x27;l1&#x27;, &#x27;l2&#x27;],\n",
       "                                         &#x27;solver&#x27;: [&#x27;liblinear&#x27;]},\n",
       "                                        {&#x27;C&#x27;: [0.01, 0.12, 0.23, 0.34, 0.45,\n",
       "                                               0.56, 0.67, 0.78, 0.89, 1.0],\n",
       "                                         &#x27;penalty&#x27;: [&#x27;l1&#x27;, &#x27;l2&#x27;, &#x27;elasticnet&#x27;,\n",
       "                                                     &#x27;none&#x27;],\n",
       "                                         &#x27;solver&#x27;: [&#x27;saga&#x27;]}],\n",
       "                   scoring=&#x27;f1&#x27;)</pre><b>In a Jupyter environment, please rerun this cell to show the HTML representation or trust the notebook. <br />On GitHub, the HTML representation is unable to render, please try loading this page with nbviewer.org.</b></div><div class=\"sk-container\" hidden><div class=\"sk-item sk-dashed-wrapped\"><div class=\"sk-label-container\"><div class=\"sk-label sk-toggleable\"><input class=\"sk-toggleable__control sk-hidden--visually\" id=\"sk-estimator-id-4\" type=\"checkbox\" ><label for=\"sk-estimator-id-4\" class=\"sk-toggleable__label sk-toggleable__label-arrow\">RandomizedSearchCV</label><div class=\"sk-toggleable__content\"><pre>RandomizedSearchCV(cv=StratifiedKFold(n_splits=10, random_state=42, shuffle=True),\n",
       "                   estimator=LogisticRegression(max_iter=50, random_state=42),\n",
       "                   n_jobs=-1,\n",
       "                   param_distributions=[{&#x27;C&#x27;: [0.01, 0.12, 0.23, 0.34, 0.45,\n",
       "                                               0.56, 0.67, 0.78, 0.89, 1.0],\n",
       "                                         &#x27;penalty&#x27;: [&#x27;l2&#x27;, &#x27;none&#x27;],\n",
       "                                         &#x27;solver&#x27;: [&#x27;lbfgs&#x27;, &#x27;sag&#x27;, &#x27;newton-cg&#x27;,\n",
       "                                                    &#x27;newton-cholesky&#x27;]},\n",
       "                                        {&#x27;C&#x27;: [0.01, 0.12, 0.23, 0.34, 0.45,\n",
       "                                               0.56, 0.67, 0.78, 0.89, 1.0],\n",
       "                                         &#x27;penalty&#x27;: [&#x27;l1&#x27;, &#x27;l2&#x27;],\n",
       "                                         &#x27;solver&#x27;: [&#x27;liblinear&#x27;]},\n",
       "                                        {&#x27;C&#x27;: [0.01, 0.12, 0.23, 0.34, 0.45,\n",
       "                                               0.56, 0.67, 0.78, 0.89, 1.0],\n",
       "                                         &#x27;penalty&#x27;: [&#x27;l1&#x27;, &#x27;l2&#x27;, &#x27;elasticnet&#x27;,\n",
       "                                                     &#x27;none&#x27;],\n",
       "                                         &#x27;solver&#x27;: [&#x27;saga&#x27;]}],\n",
       "                   scoring=&#x27;f1&#x27;)</pre></div></div></div><div class=\"sk-parallel\"><div class=\"sk-parallel-item\"><div class=\"sk-item\"><div class=\"sk-label-container\"><div class=\"sk-label sk-toggleable\"><input class=\"sk-toggleable__control sk-hidden--visually\" id=\"sk-estimator-id-5\" type=\"checkbox\" ><label for=\"sk-estimator-id-5\" class=\"sk-toggleable__label sk-toggleable__label-arrow\">estimator: LogisticRegression</label><div class=\"sk-toggleable__content\"><pre>LogisticRegression(max_iter=50, random_state=42)</pre></div></div></div><div class=\"sk-serial\"><div class=\"sk-item\"><div class=\"sk-estimator sk-toggleable\"><input class=\"sk-toggleable__control sk-hidden--visually\" id=\"sk-estimator-id-6\" type=\"checkbox\" ><label for=\"sk-estimator-id-6\" class=\"sk-toggleable__label sk-toggleable__label-arrow\">LogisticRegression</label><div class=\"sk-toggleable__content\"><pre>LogisticRegression(max_iter=50, random_state=42)</pre></div></div></div></div></div></div></div></div></div></div>"
      ],
      "text/plain": [
       "RandomizedSearchCV(cv=StratifiedKFold(n_splits=10, random_state=42, shuffle=True),\n",
       "                   estimator=LogisticRegression(max_iter=50, random_state=42),\n",
       "                   n_jobs=-1,\n",
       "                   param_distributions=[{'C': [0.01, 0.12, 0.23, 0.34, 0.45,\n",
       "                                               0.56, 0.67, 0.78, 0.89, 1.0],\n",
       "                                         'penalty': ['l2', 'none'],\n",
       "                                         'solver': ['lbfgs', 'sag', 'newton-cg',\n",
       "                                                    'newton-cholesky']},\n",
       "                                        {'C': [0.01, 0.12, 0.23, 0.34, 0.45,\n",
       "                                               0.56, 0.67, 0.78, 0.89, 1.0],\n",
       "                                         'penalty': ['l1', 'l2'],\n",
       "                                         'solver': ['liblinear']},\n",
       "                                        {'C': [0.01, 0.12, 0.23, 0.34, 0.45,\n",
       "                                               0.56, 0.67, 0.78, 0.89, 1.0],\n",
       "                                         'penalty': ['l1', 'l2', 'elasticnet',\n",
       "                                                     'none'],\n",
       "                                         'solver': ['saga']}],\n",
       "                   scoring='f1')"
      ]
     },
     "execution_count": 17,
     "metadata": {},
     "output_type": "execute_result"
    }
   ],
   "source": [
    "# создаем сетку параметров\n",
    "param_distributions = [\n",
    "              {'penalty': ['l2', 'none'] , # тип регуляризации\n",
    "              'solver': ['lbfgs', 'sag', 'newton-cg', 'newton-cholesky'], # алгоритм оптимизации\n",
    "               'C': list(np.linspace(0.01, 1, 10, dtype=float))}, # уровень силы регурялизации\n",
    "              \n",
    "              {'penalty': ['l1', 'l2'] ,\n",
    "              'solver': ['liblinear'],\n",
    "               'C': list(np.linspace(0.01, 1, 10, dtype=float))},\n",
    "              \n",
    "              {'penalty': ['l1', 'l2', 'elasticnet', 'none'] ,\n",
    "              'solver': ['saga'],\n",
    "               'C': list(np.linspace(0.01, 1, 10, dtype=float))}\n",
    "]\n",
    "\n",
    "# создаем объект RandomizedSearchCV\n",
    "model_lr_rscv = RandomizedSearchCV(\n",
    "    estimator=linear_model.LogisticRegression(\n",
    "        random_state=random_state, \n",
    "        max_iter=max_iter\n",
    "        ), \n",
    "    param_distributions=param_distributions, \n",
    "    cv=kf, \n",
    "    n_iter = 10, \n",
    "    n_jobs = -1,\n",
    "    scoring='f1'\n",
    ")  \n",
    "%time model_lr_rscv.fit(X_train, y_train) "
   ]
  },
  {
   "cell_type": "code",
   "execution_count": 18,
   "metadata": {},
   "outputs": [
    {
     "name": "stdout",
     "output_type": "stream",
     "text": [
      "Наилучшая модель:\n",
      "LogisticRegression(C=0.12, max_iter=50, random_state=42, solver='saga')\n",
      "Наилучшее значение f1_score при кросс-валидаци: 0.79\n"
     ]
    }
   ],
   "source": [
    "print(\"Наилучшая модель:\\n{}\".format(model_lr_rscv.best_estimator_))\n",
    "print(\"Наилучшее значение f1_score при кросс-валидаци: {:.2f}\".format(model_lr_rscv.best_score_))"
   ]
  },
  {
   "cell_type": "code",
   "execution_count": 19,
   "metadata": {},
   "outputs": [
    {
     "name": "stdout",
     "output_type": "stream",
     "text": [
      "Train k-fold mean f1_score: 0.82\n",
      "Valid k-fold mean f1_score: 0.79\n"
     ]
    }
   ],
   "source": [
    "# Создаём модель с подобранными гиперпараметрами\n",
    "model_lr_rscv = linear_model.LogisticRegression(\n",
    "    max_iter = max_iter, \n",
    "    random_state = random_state,\n",
    "    \n",
    "    C=0.01,\n",
    "    penalty='l2',\n",
    "    solver='newton-cg'\n",
    "    )\n",
    "# Считаем метрики на кросс-валидации k-fold\n",
    "cv_metrics = model_selection.cross_validate(\n",
    "    estimator=model_lr_rscv, # модель\n",
    "    X=X_train, # матрица наблюдений X\n",
    "    y=y_train, # вектор ответов y\n",
    "    cv=kf, # кросс-валидатор\n",
    "    scoring='f1', # метрика\n",
    "    return_train_score=True # подсчёт метрики на тренировочных фолдах\n",
    ")\n",
    "# выводим метрики\n",
    "print('Train k-fold mean f1_score: {:.2f}'.format(np.mean(cv_metrics['train_score'])))\n",
    "print('Valid k-fold mean f1_score: {:.2f}'.format(np.mean(cv_metrics['test_score'])))\n"
   ]
  },
  {
   "cell_type": "code",
   "execution_count": 20,
   "metadata": {},
   "outputs": [
    {
     "name": "stdout",
     "output_type": "stream",
     "text": [
      "Test f1_score: 0.78\n"
     ]
    }
   ],
   "source": [
    "# обучаем модель\n",
    "model_lr_rscv.fit(X_train, y_train)\n",
    "\n",
    "# делаем предсказание на тестовой выборке\n",
    "y_test_pred = model_lr_rscv.predict(X_test)\n",
    "\n",
    "# расчитываем и выводим метрику на тестовой выборке\n",
    "print('Test f1_score: {:.2f}'.format(metrics.f1_score(y_test, y_test_pred)))"
   ]
  },
  {
   "attachments": {},
   "cell_type": "markdown",
   "metadata": {},
   "source": [
    "### 5.3. Hyperopt"
   ]
  },
  {
   "cell_type": "code",
   "execution_count": 21,
   "metadata": {},
   "outputs": [],
   "source": [
    "# зададим пространство поиска гиперпараметров\n",
    "space={'penalty': hp.choice('penalty',['l2', 'none']) , # тип регуляризации\n",
    "       'solver': hp.choice('solver', ['lbfgs', 'sag', 'newton-cg']), # алгоритм оптимизации\n",
    "       'C': hp.uniform('C', low=0.01, high=10) # уровень силы регурялизации\n",
    "} "
   ]
  },
  {
   "cell_type": "code",
   "execution_count": 22,
   "metadata": {},
   "outputs": [],
   "source": [
    "def hyperopt_rf(params, cv=5, X=X_train, y=y_train, random_state=random_state):\n",
    "    # функция получает комбинацию гиперпараметров в \"params\"\n",
    "    params = {'penalty': params['penalty'], \n",
    "              'solver': params['solver'], \n",
    "              'C': float(params['C'])\n",
    "              }\n",
    "  \n",
    "    # используем эту комбинацию для построения модели\n",
    "    model = linear_model.LogisticRegression(**params, \n",
    "                                            random_state=random_state,\n",
    "                                            max_iter=max_iter\n",
    "                                            )\n",
    "\n",
    "    # обучаем модель\n",
    "    model.fit(X, y)\n",
    "    \n",
    "    # метрика без кросс-валидации\n",
    "    #score = metrics.f1_score(y, model.predict(X))\n",
    "    \n",
    "    # метрика с кросс-валидацией\n",
    "    score = cross_val_score(model, X, y, cv=kf, scoring=\"f1\", n_jobs=-1).mean()\n",
    "\n",
    "    # метрику необходимо минимизировать, поэтому ставим знак минус\n",
    "    return -score"
   ]
  },
  {
   "cell_type": "code",
   "execution_count": 23,
   "metadata": {},
   "outputs": [
    {
     "name": "stdout",
     "output_type": "stream",
     "text": [
      "100%|██████████| 20/20 [03:35<00:00, 10.76s/trial, best loss: -0.785457407377707] \n",
      "CPU times: user 11min 13s, sys: 15.9 s, total: 11min 29s\n",
      "Wall time: 3min 35s\n"
     ]
    }
   ],
   "source": [
    "%%time \n",
    "# начинаем подбор гиперпараметров\n",
    "\n",
    "trials = Trials() # используется для логирования результатов\n",
    "\n",
    "best=fmin(hyperopt_rf, # наша функция \n",
    "          space=space, # пространство гиперпараметров\n",
    "          algo=tpe.suggest, # алгоритм оптимизации, установлен по умолчанию, задавать необязательно\n",
    "          max_evals=20, # максимальное количество итераций\n",
    "          trials=trials, # логирование результатов\n",
    "          #rstate=np.random.RandomState(random_state)# фиксируем для повторяемости результата - старая версия\n",
    "          rstate=np.random.default_rng(random_state) # фиксируем для повторяемости результата\n",
    "         )"
   ]
  },
  {
   "cell_type": "code",
   "execution_count": 24,
   "metadata": {},
   "outputs": [
    {
     "name": "stdout",
     "output_type": "stream",
     "text": [
      "Наилучшие значения гиперпараметров {'C': 0.42219097013541806, 'penalty': 0, 'solver': 0}\n"
     ]
    }
   ],
   "source": [
    "print(\"Наилучшие значения гиперпараметров {}\".format(best))"
   ]
  },
  {
   "cell_type": "code",
   "execution_count": 25,
   "metadata": {},
   "outputs": [
    {
     "name": "stdout",
     "output_type": "stream",
     "text": [
      "Train k-fold mean f1_score: 0.88\n",
      "Valid k-fold mean f1_score: 0.79\n"
     ]
    }
   ],
   "source": [
    "# создадим модель с подобранными гиперпараметрами\n",
    "model_lr_hyperopt = linear_model.LogisticRegression( \n",
    "        random_state=random_state,\n",
    "        max_iter=max_iter, \n",
    "        \n",
    "        penalty='l2',\n",
    "        solver='lbfgs',\n",
    "        C=best['C']\n",
    ")\n",
    "\n",
    "# Считаем метрики на кросс-валидации k-fold\n",
    "cv_metrics = model_selection.cross_validate(\n",
    "    estimator=model_lr_hyperopt, # модель\n",
    "    X=X_train, # матрица наблюдений X\n",
    "    y=y_train, # вектор ответов y\n",
    "    cv=kf, # кросс-валидатор\n",
    "    scoring='f1', # метрика\n",
    "    return_train_score=True # подсчёт метрики на тренировочных фолдах\n",
    ")\n",
    "# выводим метрики\n",
    "print('Train k-fold mean f1_score: {:.2f}'.format(np.mean(cv_metrics['train_score'])))\n",
    "print('Valid k-fold mean f1_score: {:.2f}'.format(np.mean(cv_metrics['test_score'])))"
   ]
  },
  {
   "cell_type": "code",
   "execution_count": 26,
   "metadata": {},
   "outputs": [
    {
     "name": "stdout",
     "output_type": "stream",
     "text": [
      "f1_score на тестовом наборе: 0.78\n"
     ]
    }
   ],
   "source": [
    "# обучаем модель\n",
    "model_lr_hyperopt.fit(X_train, y_train)\n",
    "\n",
    "# считаем и выводим метрику на тестовой выборке\n",
    "y_test_pred = model_lr_hyperopt.predict(X_test)\n",
    "print('f1_score на тестовом наборе: {:.2f}'.format(metrics.f1_score(y_test, y_test_pred)))"
   ]
  },
  {
   "attachments": {},
   "cell_type": "markdown",
   "metadata": {},
   "source": [
    "### 5.4. Optuna"
   ]
  },
  {
   "cell_type": "code",
   "execution_count": 27,
   "metadata": {},
   "outputs": [],
   "source": [
    "def optuna_rf(trial):\n",
    "    # задаем пространства поиска гиперпараметров\n",
    "    penalty = trial.suggest_categorical('penalty', ['l2', 'none'])\n",
    "    solver = trial.suggest_categorical('solver', ['lbfgs', 'sag', 'newton-cg'])\n",
    "    C = trial.suggest_float('C', low=0.01, high=10, step=0.01)\n",
    "\n",
    "    # создаем модель\n",
    "    model = linear_model.LogisticRegression( \n",
    "          random_state=random_state,\n",
    "          max_iter=max_iter,\n",
    "        \n",
    "          penalty=penalty,\n",
    "          solver=solver,\n",
    "          C=C\n",
    "    )\n",
    "    \n",
    "    # обучаем модель\n",
    "    model.fit(X_train, y_train)\n",
    "    \n",
    "    # метрика без кросс-валидации\n",
    "    #score = metrics.f1_score(y_train, model.predict(X_train))\n",
    "\n",
    "    # метрика с кросс-валидацией\n",
    "    score = cross_val_score(model, X_train, y_train, cv=kf, scoring=\"f1\", n_jobs=-1).mean()\n",
    "\n",
    "    return score"
   ]
  },
  {
   "cell_type": "code",
   "execution_count": 28,
   "metadata": {},
   "outputs": [
    {
     "name": "stderr",
     "output_type": "stream",
     "text": [
      "\u001b[32m[I 2023-01-29 20:15:58,622]\u001b[0m A new study created in memory with name: LogisticRegression\u001b[0m\n",
      "\u001b[32m[I 2023-01-29 20:16:39,733]\u001b[0m Trial 0 finished with value: 0.7093777733935697 and parameters: {'penalty': 'none', 'solver': 'newton-cg', 'C': 4.6899999999999995}. Best is trial 0 with value: 0.7093777733935697.\u001b[0m\n",
      "\u001b[32m[I 2023-01-29 20:16:49,476]\u001b[0m Trial 1 finished with value: 0.7681199954015365 and parameters: {'penalty': 'l2', 'solver': 'newton-cg', 'C': 5.0}. Best is trial 1 with value: 0.7681199954015365.\u001b[0m\n",
      "\u001b[32m[I 2023-01-29 20:17:28,419]\u001b[0m Trial 2 finished with value: 0.7093777733935697 and parameters: {'penalty': 'none', 'solver': 'newton-cg', 'C': 7.04}. Best is trial 1 with value: 0.7681199954015365.\u001b[0m\n",
      "\u001b[32m[I 2023-01-29 20:17:30,899]\u001b[0m Trial 3 finished with value: 0.7780433546300226 and parameters: {'penalty': 'none', 'solver': 'sag', 'C': 5.9399999999999995}. Best is trial 3 with value: 0.7780433546300226.\u001b[0m\n",
      "\u001b[32m[I 2023-01-29 20:17:33,371]\u001b[0m Trial 4 finished with value: 0.7780433546300226 and parameters: {'penalty': 'none', 'solver': 'sag', 'C': 0.22}. Best is trial 3 with value: 0.7780433546300226.\u001b[0m\n",
      "\u001b[32m[I 2023-01-29 20:17:34,396]\u001b[0m Trial 5 finished with value: 0.765516523985531 and parameters: {'penalty': 'none', 'solver': 'lbfgs', 'C': 1.51}. Best is trial 3 with value: 0.7780433546300226.\u001b[0m\n",
      "\u001b[32m[I 2023-01-29 20:17:35,255]\u001b[0m Trial 6 finished with value: 0.765516523985531 and parameters: {'penalty': 'none', 'solver': 'lbfgs', 'C': 6.95}. Best is trial 3 with value: 0.7780433546300226.\u001b[0m\n",
      "\u001b[32m[I 2023-01-29 20:17:42,324]\u001b[0m Trial 7 finished with value: 0.7729371876214466 and parameters: {'penalty': 'l2', 'solver': 'newton-cg', 'C': 2.4099999999999997}. Best is trial 3 with value: 0.7780433546300226.\u001b[0m\n",
      "\u001b[32m[I 2023-01-29 20:17:43,263]\u001b[0m Trial 8 finished with value: 0.7667816918342579 and parameters: {'penalty': 'l2', 'solver': 'lbfgs', 'C': 5.5}. Best is trial 3 with value: 0.7780433546300226.\u001b[0m\n",
      "\u001b[32m[I 2023-01-29 20:17:45,783]\u001b[0m Trial 9 finished with value: 0.7796236796651271 and parameters: {'penalty': 'l2', 'solver': 'sag', 'C': 1.85}. Best is trial 9 with value: 0.7796236796651271.\u001b[0m\n",
      "\u001b[32m[I 2023-01-29 20:17:48,365]\u001b[0m Trial 10 finished with value: 0.7784349411146947 and parameters: {'penalty': 'l2', 'solver': 'sag', 'C': 9.99}. Best is trial 9 with value: 0.7796236796651271.\u001b[0m\n",
      "\u001b[32m[I 2023-01-29 20:17:50,879]\u001b[0m Trial 11 finished with value: 0.7784349411146947 and parameters: {'penalty': 'l2', 'solver': 'sag', 'C': 9.9}. Best is trial 9 with value: 0.7796236796651271.\u001b[0m\n",
      "\u001b[32m[I 2023-01-29 20:17:53,377]\u001b[0m Trial 12 finished with value: 0.7784349411146947 and parameters: {'penalty': 'l2', 'solver': 'sag', 'C': 9.65}. Best is trial 9 with value: 0.7796236796651271.\u001b[0m\n",
      "\u001b[32m[I 2023-01-29 20:17:55,896]\u001b[0m Trial 13 finished with value: 0.7784845493550814 and parameters: {'penalty': 'l2', 'solver': 'sag', 'C': 3.19}. Best is trial 9 with value: 0.7796236796651271.\u001b[0m\n",
      "\u001b[32m[I 2023-01-29 20:17:58,399]\u001b[0m Trial 14 finished with value: 0.7783246319592194 and parameters: {'penalty': 'l2', 'solver': 'sag', 'C': 2.78}. Best is trial 9 with value: 0.7796236796651271.\u001b[0m\n",
      "\u001b[32m[I 2023-01-29 20:18:00,925]\u001b[0m Trial 15 finished with value: 0.778703246070924 and parameters: {'penalty': 'l2', 'solver': 'sag', 'C': 3.4499999999999997}. Best is trial 9 with value: 0.7796236796651271.\u001b[0m\n",
      "\u001b[32m[I 2023-01-29 20:18:03,483]\u001b[0m Trial 16 finished with value: 0.7833038190373628 and parameters: {'penalty': 'l2', 'solver': 'sag', 'C': 0.64}. Best is trial 16 with value: 0.7833038190373628.\u001b[0m\n",
      "\u001b[32m[I 2023-01-29 20:18:05,987]\u001b[0m Trial 17 finished with value: 0.7894534184746943 and parameters: {'penalty': 'l2', 'solver': 'sag', 'C': 0.31}. Best is trial 17 with value: 0.7894534184746943.\u001b[0m\n",
      "\u001b[32m[I 2023-01-29 20:18:08,551]\u001b[0m Trial 18 finished with value: 0.7858570532325567 and parameters: {'penalty': 'l2', 'solver': 'sag', 'C': 0.52}. Best is trial 17 with value: 0.7894534184746943.\u001b[0m\n",
      "\u001b[32m[I 2023-01-29 20:18:09,506]\u001b[0m Trial 19 finished with value: 0.7780287863183799 and parameters: {'penalty': 'l2', 'solver': 'lbfgs', 'C': 1.08}. Best is trial 17 with value: 0.7894534184746943.\u001b[0m\n"
     ]
    },
    {
     "name": "stdout",
     "output_type": "stream",
     "text": [
      "CPU times: user 6min 7s, sys: 7.36 s, total: 6min 14s\n",
      "Wall time: 2min 10s\n"
     ]
    }
   ],
   "source": [
    "%%time\n",
    "# cоздаем объект исследования\n",
    "# можем напрямую указать, что нам необходимо максимизировать метрику direction=\"maximize\"\n",
    "study = optuna.create_study(study_name=\"LogisticRegression\", direction=\"maximize\")\n",
    "# ищем лучшую комбинацию гиперпараметров n_trials раз\n",
    "study.optimize(optuna_rf, n_trials=20)"
   ]
  },
  {
   "cell_type": "code",
   "execution_count": 29,
   "metadata": {},
   "outputs": [
    {
     "name": "stdout",
     "output_type": "stream",
     "text": [
      "Наилучшие значения гиперпараметров {'penalty': 'l2', 'solver': 'sag', 'C': 0.31}\n",
      "f1_score на обучающем наборе: 0.79\n"
     ]
    }
   ],
   "source": [
    "# выводим результаты на обучающей выборке\n",
    "print(\"Наилучшие значения гиперпараметров {}\".format(study.best_params))\n",
    "print(\"f1_score на обучающем наборе: {:.2f}\".format(study.best_value))"
   ]
  },
  {
   "cell_type": "code",
   "execution_count": 30,
   "metadata": {},
   "outputs": [
    {
     "name": "stdout",
     "output_type": "stream",
     "text": [
      "Train k-fold mean f1_score: 0.87\n",
      "Valid k-fold mean f1_score: 0.79\n"
     ]
    }
   ],
   "source": [
    "# создаем модель с подобранными гиперпараметрами\n",
    "model_lr_optuna = linear_model.LogisticRegression( \n",
    "        **study.best_params,                                \n",
    "        random_state=random_state,\n",
    "        max_iter=max_iter\n",
    ")\n",
    "# Считаем метрики на кросс-валидации k-fold\n",
    "cv_metrics = model_selection.cross_validate(\n",
    "    estimator=model_lr_optuna, # модель\n",
    "    X=X_train, # матрица наблюдений X\n",
    "    y=y_train, # вектор ответов y\n",
    "    cv=kf, # кросс-валидатор\n",
    "    scoring='f1', # метрика\n",
    "    return_train_score=True # подсчёт метрики на тренировочных фолдах\n",
    ")\n",
    "# выводим метрики\n",
    "print('Train k-fold mean f1_score: {:.2f}'.format(np.mean(cv_metrics['train_score'])))\n",
    "print('Valid k-fold mean f1_score: {:.2f}'.format(np.mean(cv_metrics['test_score'])))\n"
   ]
  },
  {
   "cell_type": "code",
   "execution_count": 31,
   "metadata": {},
   "outputs": [
    {
     "name": "stdout",
     "output_type": "stream",
     "text": [
      "f1_score на тестовом наборе: 0.78\n"
     ]
    }
   ],
   "source": [
    "# обучаем модель\n",
    "model_lr_optuna.fit(X_train, y_train)\n",
    "\n",
    "# расчитываем и выводим метрику на тестовом наборе\n",
    "y_test_pred = model_lr_optuna.predict(X_test)\n",
    "print('f1_score на тестовом наборе: {:.2f}'.format(metrics.f1_score(y_test, y_test_pred)))"
   ]
  },
  {
   "attachments": {},
   "cell_type": "markdown",
   "metadata": {},
   "source": [
    "***"
   ]
  },
  {
   "attachments": {},
   "cell_type": "markdown",
   "metadata": {},
   "source": [
    "## 6. Случайный лес "
   ]
  },
  {
   "attachments": {},
   "cell_type": "markdown",
   "metadata": {},
   "source": [
    "### 6.1. Случайный лес с кросс-валидацией"
   ]
  },
  {
   "cell_type": "code",
   "execution_count": 32,
   "metadata": {},
   "outputs": [
    {
     "name": "stdout",
     "output_type": "stream",
     "text": [
      "Train k-fold mean f1_score: 1.00\n",
      "Valid k-fold mean f1_score: 0.82\n"
     ]
    }
   ],
   "source": [
    "#Создаем объект класса случайный лес\n",
    "model_rf = ensemble.RandomForestClassifier(\n",
    "    random_state=random_state\n",
    ")\n",
    "\n",
    "# Считаем метрики на кросс-валидации k-fold\n",
    "cv_metrics = model_selection.cross_validate(\n",
    "    estimator=model_rf, # модель\n",
    "    X=X_train, # матрица наблюдений X\n",
    "    y=y_train, # вектор ответов y\n",
    "    cv=kf, # кросс-валидатор\n",
    "    scoring='f1', # метрика\n",
    "    return_train_score=True # подсчёт метрики на тренировочных фолдах\n",
    ")\n",
    "\n",
    "# выводим метрики\n",
    "print('Train k-fold mean f1_score: {:.2f}'.format(np.mean(cv_metrics['train_score'])))\n",
    "print('Valid k-fold mean f1_score: {:.2f}'.format(np.mean(cv_metrics['test_score'])))"
   ]
  },
  {
   "cell_type": "code",
   "execution_count": 33,
   "metadata": {},
   "outputs": [
    {
     "name": "stdout",
     "output_type": "stream",
     "text": [
      "Test f1_score: 0.80\n"
     ]
    }
   ],
   "source": [
    "#Обучаем модель\n",
    "model_rf.fit(X_train, y_train)\n",
    "\n",
    "# делаем предсказание на тестовой выборке\n",
    "y_test_pred = model_rf.predict(X_test)\n",
    "\n",
    "# расчитываем и выводим метрику на тестовой выборке\n",
    "print('Test f1_score: {:.2f}'.format(metrics.f1_score(y_test, y_test_pred)))"
   ]
  },
  {
   "attachments": {},
   "cell_type": "markdown",
   "metadata": {},
   "source": [
    "## 7. Оптимизация гиперпараметров"
   ]
  },
  {
   "attachments": {},
   "cell_type": "markdown",
   "metadata": {},
   "source": [
    "### 7.1. GridSearchCV"
   ]
  },
  {
   "cell_type": "code",
   "execution_count": 34,
   "metadata": {},
   "outputs": [
    {
     "name": "stdout",
     "output_type": "stream",
     "text": [
      "CPU times: user 3.3 s, sys: 567 ms, total: 3.87 s\n",
      "Wall time: 3min\n"
     ]
    },
    {
     "data": {
      "text/html": [
       "<style>#sk-container-id-3 {color: black;background-color: white;}#sk-container-id-3 pre{padding: 0;}#sk-container-id-3 div.sk-toggleable {background-color: white;}#sk-container-id-3 label.sk-toggleable__label {cursor: pointer;display: block;width: 100%;margin-bottom: 0;padding: 0.3em;box-sizing: border-box;text-align: center;}#sk-container-id-3 label.sk-toggleable__label-arrow:before {content: \"▸\";float: left;margin-right: 0.25em;color: #696969;}#sk-container-id-3 label.sk-toggleable__label-arrow:hover:before {color: black;}#sk-container-id-3 div.sk-estimator:hover label.sk-toggleable__label-arrow:before {color: black;}#sk-container-id-3 div.sk-toggleable__content {max-height: 0;max-width: 0;overflow: hidden;text-align: left;background-color: #f0f8ff;}#sk-container-id-3 div.sk-toggleable__content pre {margin: 0.2em;color: black;border-radius: 0.25em;background-color: #f0f8ff;}#sk-container-id-3 input.sk-toggleable__control:checked~div.sk-toggleable__content {max-height: 200px;max-width: 100%;overflow: auto;}#sk-container-id-3 input.sk-toggleable__control:checked~label.sk-toggleable__label-arrow:before {content: \"▾\";}#sk-container-id-3 div.sk-estimator input.sk-toggleable__control:checked~label.sk-toggleable__label {background-color: #d4ebff;}#sk-container-id-3 div.sk-label input.sk-toggleable__control:checked~label.sk-toggleable__label {background-color: #d4ebff;}#sk-container-id-3 input.sk-hidden--visually {border: 0;clip: rect(1px 1px 1px 1px);clip: rect(1px, 1px, 1px, 1px);height: 1px;margin: -1px;overflow: hidden;padding: 0;position: absolute;width: 1px;}#sk-container-id-3 div.sk-estimator {font-family: monospace;background-color: #f0f8ff;border: 1px dotted black;border-radius: 0.25em;box-sizing: border-box;margin-bottom: 0.5em;}#sk-container-id-3 div.sk-estimator:hover {background-color: #d4ebff;}#sk-container-id-3 div.sk-parallel-item::after {content: \"\";width: 100%;border-bottom: 1px solid gray;flex-grow: 1;}#sk-container-id-3 div.sk-label:hover label.sk-toggleable__label {background-color: #d4ebff;}#sk-container-id-3 div.sk-serial::before {content: \"\";position: absolute;border-left: 1px solid gray;box-sizing: border-box;top: 0;bottom: 0;left: 50%;z-index: 0;}#sk-container-id-3 div.sk-serial {display: flex;flex-direction: column;align-items: center;background-color: white;padding-right: 0.2em;padding-left: 0.2em;position: relative;}#sk-container-id-3 div.sk-item {position: relative;z-index: 1;}#sk-container-id-3 div.sk-parallel {display: flex;align-items: stretch;justify-content: center;background-color: white;position: relative;}#sk-container-id-3 div.sk-item::before, #sk-container-id-3 div.sk-parallel-item::before {content: \"\";position: absolute;border-left: 1px solid gray;box-sizing: border-box;top: 0;bottom: 0;left: 50%;z-index: -1;}#sk-container-id-3 div.sk-parallel-item {display: flex;flex-direction: column;z-index: 1;position: relative;background-color: white;}#sk-container-id-3 div.sk-parallel-item:first-child::after {align-self: flex-end;width: 50%;}#sk-container-id-3 div.sk-parallel-item:last-child::after {align-self: flex-start;width: 50%;}#sk-container-id-3 div.sk-parallel-item:only-child::after {width: 0;}#sk-container-id-3 div.sk-dashed-wrapped {border: 1px dashed gray;margin: 0 0.4em 0.5em 0.4em;box-sizing: border-box;padding-bottom: 0.4em;background-color: white;}#sk-container-id-3 div.sk-label label {font-family: monospace;font-weight: bold;display: inline-block;line-height: 1.2em;}#sk-container-id-3 div.sk-label-container {text-align: center;}#sk-container-id-3 div.sk-container {/* jupyter's `normalize.less` sets `[hidden] { display: none; }` but bootstrap.min.css set `[hidden] { display: none !important; }` so we also need the `!important` here to be able to override the default hidden behavior on the sphinx rendered scikit-learn.org. See: https://github.com/scikit-learn/scikit-learn/issues/21755 */display: inline-block !important;position: relative;}#sk-container-id-3 div.sk-text-repr-fallback {display: none;}</style><div id=\"sk-container-id-3\" class=\"sk-top-container\"><div class=\"sk-text-repr-fallback\"><pre>GridSearchCV(cv=StratifiedKFold(n_splits=10, random_state=42, shuffle=True),\n",
       "             estimator=RandomForestClassifier(random_state=42), n_jobs=-1,\n",
       "             param_grid={&#x27;max_depth&#x27;: [20, 22, 24, 26, 28, 31, 33, 35, 37, 40],\n",
       "                         &#x27;min_samples_leaf&#x27;: [2],\n",
       "                         &#x27;n_estimators&#x27;: [80, 90, 100, 110, 120, 130, 140, 150,\n",
       "                                          160, 170, 180, 190]})</pre><b>In a Jupyter environment, please rerun this cell to show the HTML representation or trust the notebook. <br />On GitHub, the HTML representation is unable to render, please try loading this page with nbviewer.org.</b></div><div class=\"sk-container\" hidden><div class=\"sk-item sk-dashed-wrapped\"><div class=\"sk-label-container\"><div class=\"sk-label sk-toggleable\"><input class=\"sk-toggleable__control sk-hidden--visually\" id=\"sk-estimator-id-7\" type=\"checkbox\" ><label for=\"sk-estimator-id-7\" class=\"sk-toggleable__label sk-toggleable__label-arrow\">GridSearchCV</label><div class=\"sk-toggleable__content\"><pre>GridSearchCV(cv=StratifiedKFold(n_splits=10, random_state=42, shuffle=True),\n",
       "             estimator=RandomForestClassifier(random_state=42), n_jobs=-1,\n",
       "             param_grid={&#x27;max_depth&#x27;: [20, 22, 24, 26, 28, 31, 33, 35, 37, 40],\n",
       "                         &#x27;min_samples_leaf&#x27;: [2],\n",
       "                         &#x27;n_estimators&#x27;: [80, 90, 100, 110, 120, 130, 140, 150,\n",
       "                                          160, 170, 180, 190]})</pre></div></div></div><div class=\"sk-parallel\"><div class=\"sk-parallel-item\"><div class=\"sk-item\"><div class=\"sk-label-container\"><div class=\"sk-label sk-toggleable\"><input class=\"sk-toggleable__control sk-hidden--visually\" id=\"sk-estimator-id-8\" type=\"checkbox\" ><label for=\"sk-estimator-id-8\" class=\"sk-toggleable__label sk-toggleable__label-arrow\">estimator: RandomForestClassifier</label><div class=\"sk-toggleable__content\"><pre>RandomForestClassifier(random_state=42)</pre></div></div></div><div class=\"sk-serial\"><div class=\"sk-item\"><div class=\"sk-estimator sk-toggleable\"><input class=\"sk-toggleable__control sk-hidden--visually\" id=\"sk-estimator-id-9\" type=\"checkbox\" ><label for=\"sk-estimator-id-9\" class=\"sk-toggleable__label sk-toggleable__label-arrow\">RandomForestClassifier</label><div class=\"sk-toggleable__content\"><pre>RandomForestClassifier(random_state=42)</pre></div></div></div></div></div></div></div></div></div></div>"
      ],
      "text/plain": [
       "GridSearchCV(cv=StratifiedKFold(n_splits=10, random_state=42, shuffle=True),\n",
       "             estimator=RandomForestClassifier(random_state=42), n_jobs=-1,\n",
       "             param_grid={'max_depth': [20, 22, 24, 26, 28, 31, 33, 35, 37, 40],\n",
       "                         'min_samples_leaf': [2],\n",
       "                         'n_estimators': [80, 90, 100, 110, 120, 130, 140, 150,\n",
       "                                          160, 170, 180, 190]})"
      ]
     },
     "execution_count": 34,
     "metadata": {},
     "output_type": "execute_result"
    }
   ],
   "source": [
    "# создаем сетку параметров\n",
    "param_grid = {'n_estimators': list(range(80, 200, 10)),\n",
    "              'min_samples_leaf': [2],\n",
    "              'max_depth': list(np.linspace(20, 40, 10, dtype=int))\n",
    "              }\n",
    " \n",
    "# создаем объект GridSearchCV           \n",
    "model_rf_gscv = GridSearchCV(\n",
    "    estimator=ensemble.RandomForestClassifier(random_state=random_state), \n",
    "    param_grid=param_grid, \n",
    "    cv=kf,\n",
    "    n_jobs = -1\n",
    ")  \n",
    "\n",
    "# проводим обучение\n",
    "%time model_rf_gscv.fit(X_train, y_train) "
   ]
  },
  {
   "cell_type": "code",
   "execution_count": 35,
   "metadata": {},
   "outputs": [
    {
     "name": "stdout",
     "output_type": "stream",
     "text": [
      "Наилучшая модель:\n",
      "RandomForestClassifier(max_depth=22, min_samples_leaf=2, n_estimators=120,\n",
      "                       random_state=42)\n",
      "Наилучшее значение f1_score при кросс-валидаци: 0.81\n"
     ]
    }
   ],
   "source": [
    "print(\"Наилучшая модель:\\n{}\".format(model_rf_gscv.best_estimator_))\n",
    "print(\"Наилучшее значение f1_score при кросс-валидаци: {:.2f}\".format(model_rf_gscv.best_score_))"
   ]
  },
  {
   "cell_type": "code",
   "execution_count": 36,
   "metadata": {},
   "outputs": [
    {
     "name": "stdout",
     "output_type": "stream",
     "text": [
      "Train k-fold mean f1_score: 0.99\n",
      "Valid k-fold mean f1_score: 0.82\n"
     ]
    }
   ],
   "source": [
    "# Создаём модель с подобранными гиперпараметрами\n",
    "model_rf_gscv = ensemble.RandomForestClassifier(\n",
    "    random_state = random_state,\n",
    "    \n",
    "    max_depth=22,\n",
    "    min_samples_leaf=2,\n",
    "    n_estimators=120\n",
    "    )\n",
    "\n",
    "# Считаем метрики на кросс-валидации k-fold\n",
    "cv_metrics = model_selection.cross_validate(\n",
    "    estimator=model_rf_gscv, # модель\n",
    "    X=X_train, # матрица наблюдений X\n",
    "    y=y_train, # вектор ответов y\n",
    "    cv=kf, # кросс-валидатор\n",
    "    scoring='f1', # метрика\n",
    "    return_train_score=True # подсчёт метрики на тренировочных фолдах\n",
    ")\n",
    "# выводим метрики\n",
    "print('Train k-fold mean f1_score: {:.2f}'.format(np.mean(cv_metrics['train_score'])))\n",
    "print('Valid k-fold mean f1_score: {:.2f}'.format(np.mean(cv_metrics['test_score'])))\n"
   ]
  },
  {
   "cell_type": "code",
   "execution_count": 37,
   "metadata": {},
   "outputs": [
    {
     "name": "stdout",
     "output_type": "stream",
     "text": [
      "Test f1_score: 0.80\n"
     ]
    }
   ],
   "source": [
    "# обучаем модель\n",
    "model_rf_gscv.fit(X_train, y_train)\n",
    "\n",
    "# делаем предсказание на тестовой выборке\n",
    "y_test_pred = model_rf_gscv.predict(X_test)\n",
    "\n",
    "# расчитываем и выводим метрику тестовой выборке\n",
    "print('Test f1_score: {:.2f}'.format(metrics.f1_score(y_test, y_test_pred)))"
   ]
  },
  {
   "attachments": {},
   "cell_type": "markdown",
   "metadata": {},
   "source": [
    "### 7.2. RandomizedSearchCV"
   ]
  },
  {
   "cell_type": "code",
   "execution_count": 38,
   "metadata": {},
   "outputs": [
    {
     "name": "stdout",
     "output_type": "stream",
     "text": [
      "CPU times: user 1.91 s, sys: 261 ms, total: 2.18 s\n",
      "Wall time: 1min 14s\n"
     ]
    },
    {
     "data": {
      "text/html": [
       "<style>#sk-container-id-4 {color: black;background-color: white;}#sk-container-id-4 pre{padding: 0;}#sk-container-id-4 div.sk-toggleable {background-color: white;}#sk-container-id-4 label.sk-toggleable__label {cursor: pointer;display: block;width: 100%;margin-bottom: 0;padding: 0.3em;box-sizing: border-box;text-align: center;}#sk-container-id-4 label.sk-toggleable__label-arrow:before {content: \"▸\";float: left;margin-right: 0.25em;color: #696969;}#sk-container-id-4 label.sk-toggleable__label-arrow:hover:before {color: black;}#sk-container-id-4 div.sk-estimator:hover label.sk-toggleable__label-arrow:before {color: black;}#sk-container-id-4 div.sk-toggleable__content {max-height: 0;max-width: 0;overflow: hidden;text-align: left;background-color: #f0f8ff;}#sk-container-id-4 div.sk-toggleable__content pre {margin: 0.2em;color: black;border-radius: 0.25em;background-color: #f0f8ff;}#sk-container-id-4 input.sk-toggleable__control:checked~div.sk-toggleable__content {max-height: 200px;max-width: 100%;overflow: auto;}#sk-container-id-4 input.sk-toggleable__control:checked~label.sk-toggleable__label-arrow:before {content: \"▾\";}#sk-container-id-4 div.sk-estimator input.sk-toggleable__control:checked~label.sk-toggleable__label {background-color: #d4ebff;}#sk-container-id-4 div.sk-label input.sk-toggleable__control:checked~label.sk-toggleable__label {background-color: #d4ebff;}#sk-container-id-4 input.sk-hidden--visually {border: 0;clip: rect(1px 1px 1px 1px);clip: rect(1px, 1px, 1px, 1px);height: 1px;margin: -1px;overflow: hidden;padding: 0;position: absolute;width: 1px;}#sk-container-id-4 div.sk-estimator {font-family: monospace;background-color: #f0f8ff;border: 1px dotted black;border-radius: 0.25em;box-sizing: border-box;margin-bottom: 0.5em;}#sk-container-id-4 div.sk-estimator:hover {background-color: #d4ebff;}#sk-container-id-4 div.sk-parallel-item::after {content: \"\";width: 100%;border-bottom: 1px solid gray;flex-grow: 1;}#sk-container-id-4 div.sk-label:hover label.sk-toggleable__label {background-color: #d4ebff;}#sk-container-id-4 div.sk-serial::before {content: \"\";position: absolute;border-left: 1px solid gray;box-sizing: border-box;top: 0;bottom: 0;left: 50%;z-index: 0;}#sk-container-id-4 div.sk-serial {display: flex;flex-direction: column;align-items: center;background-color: white;padding-right: 0.2em;padding-left: 0.2em;position: relative;}#sk-container-id-4 div.sk-item {position: relative;z-index: 1;}#sk-container-id-4 div.sk-parallel {display: flex;align-items: stretch;justify-content: center;background-color: white;position: relative;}#sk-container-id-4 div.sk-item::before, #sk-container-id-4 div.sk-parallel-item::before {content: \"\";position: absolute;border-left: 1px solid gray;box-sizing: border-box;top: 0;bottom: 0;left: 50%;z-index: -1;}#sk-container-id-4 div.sk-parallel-item {display: flex;flex-direction: column;z-index: 1;position: relative;background-color: white;}#sk-container-id-4 div.sk-parallel-item:first-child::after {align-self: flex-end;width: 50%;}#sk-container-id-4 div.sk-parallel-item:last-child::after {align-self: flex-start;width: 50%;}#sk-container-id-4 div.sk-parallel-item:only-child::after {width: 0;}#sk-container-id-4 div.sk-dashed-wrapped {border: 1px dashed gray;margin: 0 0.4em 0.5em 0.4em;box-sizing: border-box;padding-bottom: 0.4em;background-color: white;}#sk-container-id-4 div.sk-label label {font-family: monospace;font-weight: bold;display: inline-block;line-height: 1.2em;}#sk-container-id-4 div.sk-label-container {text-align: center;}#sk-container-id-4 div.sk-container {/* jupyter's `normalize.less` sets `[hidden] { display: none; }` but bootstrap.min.css set `[hidden] { display: none !important; }` so we also need the `!important` here to be able to override the default hidden behavior on the sphinx rendered scikit-learn.org. See: https://github.com/scikit-learn/scikit-learn/issues/21755 */display: inline-block !important;position: relative;}#sk-container-id-4 div.sk-text-repr-fallback {display: none;}</style><div id=\"sk-container-id-4\" class=\"sk-top-container\"><div class=\"sk-text-repr-fallback\"><pre>RandomizedSearchCV(cv=StratifiedKFold(n_splits=10, random_state=42, shuffle=True),\n",
       "                   estimator=RandomForestClassifier(random_state=42), n_iter=50,\n",
       "                   n_jobs=-1,\n",
       "                   param_distributions={&#x27;max_depth&#x27;: [20, 22, 24, 26, 28, 31,\n",
       "                                                      33, 35, 37, 40],\n",
       "                                        &#x27;min_samples_leaf&#x27;: [2],\n",
       "                                        &#x27;n_estimators&#x27;: [80, 90, 100, 110, 120,\n",
       "                                                         130, 140, 150, 160,\n",
       "                                                         170, 180, 190]})</pre><b>In a Jupyter environment, please rerun this cell to show the HTML representation or trust the notebook. <br />On GitHub, the HTML representation is unable to render, please try loading this page with nbviewer.org.</b></div><div class=\"sk-container\" hidden><div class=\"sk-item sk-dashed-wrapped\"><div class=\"sk-label-container\"><div class=\"sk-label sk-toggleable\"><input class=\"sk-toggleable__control sk-hidden--visually\" id=\"sk-estimator-id-10\" type=\"checkbox\" ><label for=\"sk-estimator-id-10\" class=\"sk-toggleable__label sk-toggleable__label-arrow\">RandomizedSearchCV</label><div class=\"sk-toggleable__content\"><pre>RandomizedSearchCV(cv=StratifiedKFold(n_splits=10, random_state=42, shuffle=True),\n",
       "                   estimator=RandomForestClassifier(random_state=42), n_iter=50,\n",
       "                   n_jobs=-1,\n",
       "                   param_distributions={&#x27;max_depth&#x27;: [20, 22, 24, 26, 28, 31,\n",
       "                                                      33, 35, 37, 40],\n",
       "                                        &#x27;min_samples_leaf&#x27;: [2],\n",
       "                                        &#x27;n_estimators&#x27;: [80, 90, 100, 110, 120,\n",
       "                                                         130, 140, 150, 160,\n",
       "                                                         170, 180, 190]})</pre></div></div></div><div class=\"sk-parallel\"><div class=\"sk-parallel-item\"><div class=\"sk-item\"><div class=\"sk-label-container\"><div class=\"sk-label sk-toggleable\"><input class=\"sk-toggleable__control sk-hidden--visually\" id=\"sk-estimator-id-11\" type=\"checkbox\" ><label for=\"sk-estimator-id-11\" class=\"sk-toggleable__label sk-toggleable__label-arrow\">estimator: RandomForestClassifier</label><div class=\"sk-toggleable__content\"><pre>RandomForestClassifier(random_state=42)</pre></div></div></div><div class=\"sk-serial\"><div class=\"sk-item\"><div class=\"sk-estimator sk-toggleable\"><input class=\"sk-toggleable__control sk-hidden--visually\" id=\"sk-estimator-id-12\" type=\"checkbox\" ><label for=\"sk-estimator-id-12\" class=\"sk-toggleable__label sk-toggleable__label-arrow\">RandomForestClassifier</label><div class=\"sk-toggleable__content\"><pre>RandomForestClassifier(random_state=42)</pre></div></div></div></div></div></div></div></div></div></div>"
      ],
      "text/plain": [
       "RandomizedSearchCV(cv=StratifiedKFold(n_splits=10, random_state=42, shuffle=True),\n",
       "                   estimator=RandomForestClassifier(random_state=42), n_iter=50,\n",
       "                   n_jobs=-1,\n",
       "                   param_distributions={'max_depth': [20, 22, 24, 26, 28, 31,\n",
       "                                                      33, 35, 37, 40],\n",
       "                                        'min_samples_leaf': [2],\n",
       "                                        'n_estimators': [80, 90, 100, 110, 120,\n",
       "                                                         130, 140, 150, 160,\n",
       "                                                         170, 180, 190]})"
      ]
     },
     "execution_count": 38,
     "metadata": {},
     "output_type": "execute_result"
    }
   ],
   "source": [
    "# создаем сетку параметров\n",
    "param_distributions = {\n",
    "              'n_estimators': list(range(80, 200, 10)),\n",
    "              'min_samples_leaf': [2],\n",
    "              'max_depth': list(np.linspace(20, 40, 10, dtype=int))\n",
    "              }\n",
    "            \n",
    "# создаем объект RandomizedSearchCV\n",
    "model_rf_rscv = RandomizedSearchCV(\n",
    "    estimator=ensemble.RandomForestClassifier(random_state=random_state), \n",
    "    param_distributions=param_distributions, \n",
    "    cv=kf, \n",
    "    n_iter=50,\n",
    "    n_jobs = -1\n",
    ")  \n",
    "\n",
    "# проводим обучение\n",
    "%time model_rf_rscv.fit(X_train, y_train) "
   ]
  },
  {
   "cell_type": "code",
   "execution_count": 39,
   "metadata": {},
   "outputs": [
    {
     "name": "stdout",
     "output_type": "stream",
     "text": [
      "Наилучшая модель:\n",
      "RandomForestClassifier(max_depth=22, min_samples_leaf=2, n_estimators=120,\n",
      "                       random_state=42)\n",
      "Наилучшее значение f1_score при кросс-валидаци: 0.81\n"
     ]
    }
   ],
   "source": [
    "print(\"Наилучшая модель:\\n{}\".format(model_rf_rscv.best_estimator_))\n",
    "print(\"Наилучшее значение f1_score при кросс-валидаци: {:.2f}\".format(model_rf_rscv.best_score_))"
   ]
  },
  {
   "cell_type": "code",
   "execution_count": 40,
   "metadata": {},
   "outputs": [
    {
     "name": "stdout",
     "output_type": "stream",
     "text": [
      "Train k-fold mean f1_score: 0.99\n",
      "Valid k-fold mean f1_score: 0.82\n"
     ]
    }
   ],
   "source": [
    "# Создаём модель с подобранными гиперпараметрами\n",
    "model_rf_rscv = ensemble.RandomForestClassifier(\n",
    "    random_state = random_state,\n",
    "    \n",
    "    max_depth=22,\n",
    "    min_samples_leaf=2,\n",
    "    n_estimators=120\n",
    "    )\n",
    "\n",
    "# Считаем метрики на кросс-валидации k-fold\n",
    "cv_metrics = model_selection.cross_validate(\n",
    "    estimator=model_rf_rscv, # модель\n",
    "    X=X_train, # матрица наблюдений X\n",
    "    y=y_train, # вектор ответов y\n",
    "    cv=kf, # кросс-валидатор\n",
    "    scoring='f1', # метрика\n",
    "    return_train_score=True # подсчёт метрики на тренировочных фолдах\n",
    ")\n",
    "# выводим метрики\n",
    "print('Train k-fold mean f1_score: {:.2f}'.format(np.mean(cv_metrics['train_score'])))\n",
    "print('Valid k-fold mean f1_score: {:.2f}'.format(np.mean(cv_metrics['test_score'])))\n"
   ]
  },
  {
   "cell_type": "code",
   "execution_count": 41,
   "metadata": {},
   "outputs": [
    {
     "name": "stdout",
     "output_type": "stream",
     "text": [
      "Test f1_score: 0.80\n"
     ]
    }
   ],
   "source": [
    "# обучаем модель\n",
    "model_rf_rscv.fit(X_train, y_train)\n",
    "\n",
    "# делаем предсказание на тестовой выборке\n",
    "y_test_pred = model_rf_rscv.predict(X_test)\n",
    "\n",
    "# расчитываем и выводим метрику на тестовой выборке\n",
    "print('Test f1_score: {:.2f}'.format(metrics.f1_score(y_test, y_test_pred)))"
   ]
  },
  {
   "attachments": {},
   "cell_type": "markdown",
   "metadata": {},
   "source": [
    "### 7.3. Hyperopt"
   ]
  },
  {
   "cell_type": "code",
   "execution_count": 42,
   "metadata": {},
   "outputs": [],
   "source": [
    "# зададим пространство поиска гиперпараметров\n",
    "space={'n_estimators': hp.quniform('n_estimators', 80, 300, 10), \n",
    "       'min_samples_leaf': hp.quniform('max_depth', 3, 10, 1), \n",
    "       'max_depth': hp.quniform('min_samples_leaf', 3, 10, 1) \n",
    "} "
   ]
  },
  {
   "cell_type": "code",
   "execution_count": 43,
   "metadata": {},
   "outputs": [],
   "source": [
    "def hyperopt_rf(params, cv=5, X=X_train, y=y_train, random_state=random_state):\n",
    "    # функция получает комбинацию гиперпараметров в \"params\"\n",
    "    params = {'n_estimators': int(params['n_estimators']), \n",
    "             'min_samples_leaf': int(params['min_samples_leaf']),\n",
    "             'max_depth': int(params['max_depth'])\n",
    "              }\n",
    "  \n",
    "    # используем эту комбинацию для построения модели\n",
    "    model = ensemble.RandomForestClassifier(**params, random_state=random_state)\n",
    "\n",
    "    # обучаем модель\n",
    "    model.fit(X, y)\n",
    "    \n",
    "    # метрика без кросс-валидации\n",
    "    #score = metrics.f1_score(y, model.predict(X))\n",
    "    \n",
    "    # метрика с кросс-валидацией\n",
    "    score = cross_val_score(model, X, y, cv=kf, scoring=\"f1\", n_jobs=-1).mean()\n",
    "\n",
    "    # метрику необходимо минимизировать, поэтому ставим знак минус\n",
    "    return -score"
   ]
  },
  {
   "cell_type": "code",
   "execution_count": 44,
   "metadata": {},
   "outputs": [
    {
     "name": "stdout",
     "output_type": "stream",
     "text": [
      "100%|██████████| 50/50 [01:55<00:00,  2.32s/trial, best loss: -0.8097283331646352]\n",
      "CPU times: user 45.4 s, sys: 1.16 s, total: 46.6 s\n",
      "Wall time: 1min 55s\n"
     ]
    }
   ],
   "source": [
    "%%time \n",
    "# начинаем подбор гиперпараметров\n",
    "\n",
    "trials = Trials() # используется для логирования результатов\n",
    "\n",
    "best=fmin(hyperopt_rf, # наша функция \n",
    "          space=space, # пространство гиперпараметров\n",
    "          algo=tpe.suggest, # алгоритм оптимизации, установлен по умолчанию, задавать необязательно\n",
    "          max_evals=50, # максимальное количество итераций\n",
    "          trials=trials, # логирование результатов\n",
    "          #rstate=np.random.RandomState(random_state)# фиксируем для повторяемости результата - старая версия\n",
    "          rstate=np.random.default_rng(random_state) # фиксируем для повторяемости результата\n",
    "         )"
   ]
  },
  {
   "cell_type": "code",
   "execution_count": 45,
   "metadata": {},
   "outputs": [
    {
     "name": "stdout",
     "output_type": "stream",
     "text": [
      "Наилучшие значения гиперпараметров {'max_depth': 5.0, 'min_samples_leaf': 10.0, 'n_estimators': 210.0}\n"
     ]
    }
   ],
   "source": [
    "print(\"Наилучшие значения гиперпараметров {}\".format(best))"
   ]
  },
  {
   "cell_type": "code",
   "execution_count": 46,
   "metadata": {},
   "outputs": [
    {
     "name": "stdout",
     "output_type": "stream",
     "text": [
      "Train k-fold mean f1_score: 0.81\n",
      "Valid k-fold mean f1_score: 0.76\n"
     ]
    }
   ],
   "source": [
    "# создадим модель с подобранными гиперпараметрами\n",
    "model_rf_hyperopt = ensemble.RandomForestClassifier( \n",
    "        random_state=random_state,\n",
    "        \n",
    "        max_depth=5, \n",
    "        min_samples_leaf=10, \n",
    "        n_estimators=210\n",
    ")\n",
    "\n",
    "# Считаем метрики на кросс-валидации k-fold\n",
    "cv_metrics = model_selection.cross_validate(\n",
    "    estimator=model_rf_hyperopt, # модель\n",
    "    X=X_train, # матрица наблюдений X\n",
    "    y=y_train, # вектор ответов y\n",
    "    cv=kf, # кросс-валидатор\n",
    "    scoring='f1', # метрика\n",
    "    return_train_score=True # подсчёт метрики на тренировочных фолдах\n",
    ")\n",
    "# выводим метрики\n",
    "print('Train k-fold mean f1_score: {:.2f}'.format(np.mean(cv_metrics['train_score'])))\n",
    "print('Valid k-fold mean f1_score: {:.2f}'.format(np.mean(cv_metrics['test_score'])))"
   ]
  },
  {
   "cell_type": "code",
   "execution_count": 47,
   "metadata": {},
   "outputs": [
    {
     "name": "stdout",
     "output_type": "stream",
     "text": [
      "f1_score на тестовом наборе: 0.74\n"
     ]
    }
   ],
   "source": [
    "# обучаем модель\n",
    "model_rf_hyperopt.fit(X_train, y_train)\n",
    "\n",
    "# делаем предсказание на тестовой выборке\n",
    "y_test_pred = model_rf_hyperopt.predict(X_test)\n",
    "\n",
    "# расчитываем и выводим метрику на тестовой выборке\n",
    "print('f1_score на тестовом наборе: {:.2f}'.format(metrics.f1_score(y_test, y_test_pred)))"
   ]
  },
  {
   "attachments": {},
   "cell_type": "markdown",
   "metadata": {},
   "source": [
    "### 7.4. Optuna"
   ]
  },
  {
   "cell_type": "code",
   "execution_count": 48,
   "metadata": {},
   "outputs": [],
   "source": [
    "def optuna_rf(trial):\n",
    "    # задаем пространства поиска гиперпараметров\n",
    "    n_estimators = trial.suggest_int('n_estimators', 80, 300, 10)\n",
    "    max_depth = trial.suggest_int('max_depth', 3, 10, 1)\n",
    "    min_samples_leaf = trial.suggest_int('min_samples_leaf', 3, 10, 1)\n",
    "\n",
    "    # создаем модель\n",
    "    model = ensemble.RandomForestClassifier(\n",
    "          random_state=random_state,\n",
    "        \n",
    "          n_estimators=n_estimators,\n",
    "          max_depth=max_depth,\n",
    "          min_samples_leaf=min_samples_leaf\n",
    "    )\n",
    "    \n",
    "    # обучаем модель\n",
    "    model.fit(X_train, y_train)\n",
    "    \n",
    "    # метрика без кросс-валидации\n",
    "    #score = metrics.f1_score(y_train, model.predict(X_train))\n",
    "\n",
    "    # метрика с кросс-валидацией\n",
    "    score = cross_val_score(model, X_train, y_train, cv=kf, scoring=\"f1\", n_jobs=-1).mean()\n",
    "\n",
    "    return score"
   ]
  },
  {
   "cell_type": "code",
   "execution_count": 49,
   "metadata": {},
   "outputs": [
    {
     "name": "stderr",
     "output_type": "stream",
     "text": [
      "\u001b[32m[I 2023-01-29 20:25:08,650]\u001b[0m A new study created in memory with name: RandomForestClassifier\u001b[0m\n",
      "\u001b[32m[I 2023-01-29 20:25:10,447]\u001b[0m Trial 0 finished with value: 0.786421033598938 and parameters: {'n_estimators': 150, 'max_depth': 7, 'min_samples_leaf': 7}. Best is trial 0 with value: 0.786421033598938.\u001b[0m\n",
      "\u001b[32m[I 2023-01-29 20:25:13,367]\u001b[0m Trial 1 finished with value: 0.7919616342652643 and parameters: {'n_estimators': 260, 'max_depth': 7, 'min_samples_leaf': 3}. Best is trial 1 with value: 0.7919616342652643.\u001b[0m\n",
      "\u001b[32m[I 2023-01-29 20:25:15,915]\u001b[0m Trial 2 finished with value: 0.806877892083184 and parameters: {'n_estimators': 180, 'max_depth': 10, 'min_samples_leaf': 3}. Best is trial 2 with value: 0.806877892083184.\u001b[0m\n",
      "\u001b[32m[I 2023-01-29 20:25:18,133]\u001b[0m Trial 3 finished with value: 0.7679272046369208 and parameters: {'n_estimators': 280, 'max_depth': 5, 'min_samples_leaf': 4}. Best is trial 2 with value: 0.806877892083184.\u001b[0m\n",
      "\u001b[32m[I 2023-01-29 20:25:19,373]\u001b[0m Trial 4 finished with value: 0.7544758370637871 and parameters: {'n_estimators': 170, 'max_depth': 4, 'min_samples_leaf': 9}. Best is trial 2 with value: 0.806877892083184.\u001b[0m\n",
      "\u001b[32m[I 2023-01-29 20:25:20,805]\u001b[0m Trial 5 finished with value: 0.7521032284703985 and parameters: {'n_estimators': 240, 'max_depth': 3, 'min_samples_leaf': 4}. Best is trial 2 with value: 0.806877892083184.\u001b[0m\n",
      "\u001b[32m[I 2023-01-29 20:25:24,568]\u001b[0m Trial 6 finished with value: 0.8036111373821344 and parameters: {'n_estimators': 290, 'max_depth': 9, 'min_samples_leaf': 3}. Best is trial 2 with value: 0.806877892083184.\u001b[0m\n",
      "\u001b[32m[I 2023-01-29 20:25:26,235]\u001b[0m Trial 7 finished with value: 0.7921031177540081 and parameters: {'n_estimators': 140, 'max_depth': 7, 'min_samples_leaf': 4}. Best is trial 2 with value: 0.806877892083184.\u001b[0m\n",
      "\u001b[32m[I 2023-01-29 20:25:28,098]\u001b[0m Trial 8 finished with value: 0.8013314379889864 and parameters: {'n_estimators': 140, 'max_depth': 9, 'min_samples_leaf': 4}. Best is trial 2 with value: 0.806877892083184.\u001b[0m\n",
      "\u001b[32m[I 2023-01-29 20:25:30,350]\u001b[0m Trial 9 finished with value: 0.805720229011917 and parameters: {'n_estimators': 160, 'max_depth': 10, 'min_samples_leaf': 6}. Best is trial 2 with value: 0.806877892083184.\u001b[0m\n",
      "\u001b[32m[I 2023-01-29 20:25:31,660]\u001b[0m Trial 10 finished with value: 0.8020447199904688 and parameters: {'n_estimators': 90, 'max_depth': 10, 'min_samples_leaf': 10}. Best is trial 2 with value: 0.806877892083184.\u001b[0m\n",
      "\u001b[32m[I 2023-01-29 20:25:34,546]\u001b[0m Trial 11 finished with value: 0.8060220956914245 and parameters: {'n_estimators': 210, 'max_depth': 10, 'min_samples_leaf': 6}. Best is trial 2 with value: 0.806877892083184.\u001b[0m\n",
      "\u001b[32m[I 2023-01-29 20:25:37,272]\u001b[0m Trial 12 finished with value: 0.8030588648308685 and parameters: {'n_estimators': 210, 'max_depth': 9, 'min_samples_leaf': 6}. Best is trial 2 with value: 0.806877892083184.\u001b[0m\n",
      "\u001b[32m[I 2023-01-29 20:25:39,729]\u001b[0m Trial 13 finished with value: 0.7936201072073311 and parameters: {'n_estimators': 210, 'max_depth': 8, 'min_samples_leaf': 8}. Best is trial 2 with value: 0.806877892083184.\u001b[0m\n",
      "\u001b[32m[I 2023-01-29 20:25:42,588]\u001b[0m Trial 14 finished with value: 0.8078831843972252 and parameters: {'n_estimators': 200, 'max_depth': 10, 'min_samples_leaf': 5}. Best is trial 14 with value: 0.8078831843972252.\u001b[0m\n",
      "\u001b[32m[I 2023-01-29 20:25:43,615]\u001b[0m Trial 15 finished with value: 0.7642433327516203 and parameters: {'n_estimators': 100, 'max_depth': 5, 'min_samples_leaf': 5}. Best is trial 14 with value: 0.8078831843972252.\u001b[0m\n",
      "\u001b[32m[I 2023-01-29 20:25:45,910]\u001b[0m Trial 16 finished with value: 0.7965168467726768 and parameters: {'n_estimators': 190, 'max_depth': 8, 'min_samples_leaf': 5}. Best is trial 14 with value: 0.8078831843972252.\u001b[0m\n",
      "\u001b[32m[I 2023-01-29 20:25:48,745]\u001b[0m Trial 17 finished with value: 0.8045794424138275 and parameters: {'n_estimators': 240, 'max_depth': 8, 'min_samples_leaf': 3}. Best is trial 14 with value: 0.8078831843972252.\u001b[0m\n",
      "\u001b[32m[I 2023-01-29 20:25:50,541]\u001b[0m Trial 18 finished with value: 0.779098781712704 and parameters: {'n_estimators': 180, 'max_depth': 6, 'min_samples_leaf': 5}. Best is trial 14 with value: 0.8078831843972252.\u001b[0m\n",
      "\u001b[32m[I 2023-01-29 20:25:52,302]\u001b[0m Trial 19 finished with value: 0.8017645694813839 and parameters: {'n_estimators': 120, 'max_depth': 10, 'min_samples_leaf': 7}. Best is trial 14 with value: 0.8078831843972252.\u001b[0m\n",
      "\u001b[32m[I 2023-01-29 20:25:55,379]\u001b[0m Trial 20 finished with value: 0.7971552949720698 and parameters: {'n_estimators': 240, 'max_depth': 9, 'min_samples_leaf': 5}. Best is trial 14 with value: 0.8078831843972252.\u001b[0m\n",
      "\u001b[32m[I 2023-01-29 20:25:58,259]\u001b[0m Trial 21 finished with value: 0.8060220956914245 and parameters: {'n_estimators': 210, 'max_depth': 10, 'min_samples_leaf': 6}. Best is trial 14 with value: 0.8078831843972252.\u001b[0m\n",
      "\u001b[32m[I 2023-01-29 20:26:01,017]\u001b[0m Trial 22 finished with value: 0.8010616862442228 and parameters: {'n_estimators': 200, 'max_depth': 10, 'min_samples_leaf': 7}. Best is trial 14 with value: 0.8078831843972252.\u001b[0m\n",
      "\u001b[32m[I 2023-01-29 20:26:03,914]\u001b[0m Trial 23 finished with value: 0.7926345197887258 and parameters: {'n_estimators': 230, 'max_depth': 9, 'min_samples_leaf': 8}. Best is trial 14 with value: 0.8078831843972252.\u001b[0m\n",
      "\u001b[32m[I 2023-01-29 20:26:06,100]\u001b[0m Trial 24 finished with value: 0.7970477602440403 and parameters: {'n_estimators': 180, 'max_depth': 8, 'min_samples_leaf': 6}. Best is trial 14 with value: 0.8078831843972252.\u001b[0m\n",
      "\u001b[32m[I 2023-01-29 20:26:09,226]\u001b[0m Trial 25 finished with value: 0.8109135701266308 and parameters: {'n_estimators': 220, 'max_depth': 10, 'min_samples_leaf': 5}. Best is trial 25 with value: 0.8109135701266308.\u001b[0m\n",
      "\u001b[32m[I 2023-01-29 20:26:12,626]\u001b[0m Trial 26 finished with value: 0.805994910497918 and parameters: {'n_estimators': 260, 'max_depth': 9, 'min_samples_leaf': 4}. Best is trial 25 with value: 0.8109135701266308.\u001b[0m\n",
      "\u001b[32m[I 2023-01-29 20:26:15,783]\u001b[0m Trial 27 finished with value: 0.8054207478652675 and parameters: {'n_estimators': 220, 'max_depth': 10, 'min_samples_leaf': 3}. Best is trial 25 with value: 0.8109135701266308.\u001b[0m\n",
      "\u001b[32m[I 2023-01-29 20:26:18,080]\u001b[0m Trial 28 finished with value: 0.7965168467726768 and parameters: {'n_estimators': 190, 'max_depth': 8, 'min_samples_leaf': 5}. Best is trial 25 with value: 0.8109135701266308.\u001b[0m\n",
      "\u001b[32m[I 2023-01-29 20:26:19,583]\u001b[0m Trial 29 finished with value: 0.7781998273132437 and parameters: {'n_estimators': 150, 'max_depth': 6, 'min_samples_leaf': 8}. Best is trial 25 with value: 0.8109135701266308.\u001b[0m\n",
      "\u001b[32m[I 2023-01-29 20:26:22,971]\u001b[0m Trial 30 finished with value: 0.805994910497918 and parameters: {'n_estimators': 260, 'max_depth': 9, 'min_samples_leaf': 4}. Best is trial 25 with value: 0.8109135701266308.\u001b[0m\n",
      "\u001b[32m[I 2023-01-29 20:26:25,357]\u001b[0m Trial 31 finished with value: 0.8067341318908907 and parameters: {'n_estimators': 170, 'max_depth': 10, 'min_samples_leaf': 6}. Best is trial 25 with value: 0.8109135701266308.\u001b[0m\n",
      "\u001b[32m[I 2023-01-29 20:26:27,793]\u001b[0m Trial 32 finished with value: 0.8072802307075809 and parameters: {'n_estimators': 170, 'max_depth': 10, 'min_samples_leaf': 5}. Best is trial 25 with value: 0.8109135701266308.\u001b[0m\n",
      "\u001b[32m[I 2023-01-29 20:26:29,705]\u001b[0m Trial 33 finished with value: 0.8056151335993039 and parameters: {'n_estimators': 130, 'max_depth': 10, 'min_samples_leaf': 5}. Best is trial 25 with value: 0.8109135701266308.\u001b[0m\n",
      "\u001b[32m[I 2023-01-29 20:26:31,895]\u001b[0m Trial 34 finished with value: 0.805514120830534 and parameters: {'n_estimators': 160, 'max_depth': 9, 'min_samples_leaf': 3}. Best is trial 25 with value: 0.8109135701266308.\u001b[0m\n",
      "\u001b[32m[I 2023-01-29 20:26:34,042]\u001b[0m Trial 35 finished with value: 0.7940602545064149 and parameters: {'n_estimators': 190, 'max_depth': 7, 'min_samples_leaf': 4}. Best is trial 25 with value: 0.8109135701266308.\u001b[0m\n",
      "\u001b[32m[I 2023-01-29 20:26:36,478]\u001b[0m Trial 36 finished with value: 0.8072802307075809 and parameters: {'n_estimators': 170, 'max_depth': 10, 'min_samples_leaf': 5}. Best is trial 25 with value: 0.8109135701266308.\u001b[0m\n",
      "\u001b[32m[I 2023-01-29 20:26:38,647]\u001b[0m Trial 37 finished with value: 0.7944344767046285 and parameters: {'n_estimators': 160, 'max_depth': 9, 'min_samples_leaf': 5}. Best is trial 25 with value: 0.8109135701266308.\u001b[0m\n",
      "\u001b[32m[I 2023-01-29 20:26:39,497]\u001b[0m Trial 38 finished with value: 0.7555107275155211 and parameters: {'n_estimators': 120, 'max_depth': 3, 'min_samples_leaf': 5}. Best is trial 25 with value: 0.8109135701266308.\u001b[0m\n",
      "\u001b[32m[I 2023-01-29 20:26:41,338]\u001b[0m Trial 39 finished with value: 0.7529836487639303 and parameters: {'n_estimators': 260, 'max_depth': 4, 'min_samples_leaf': 7}. Best is trial 25 with value: 0.8109135701266308.\u001b[0m\n",
      "\u001b[32m[I 2023-01-29 20:26:44,550]\u001b[0m Trial 40 finished with value: 0.8060772122348622 and parameters: {'n_estimators': 230, 'max_depth': 10, 'min_samples_leaf': 4}. Best is trial 25 with value: 0.8109135701266308.\u001b[0m\n",
      "\u001b[32m[I 2023-01-29 20:26:46,925]\u001b[0m Trial 41 finished with value: 0.804007122603559 and parameters: {'n_estimators': 170, 'max_depth': 10, 'min_samples_leaf': 4}. Best is trial 25 with value: 0.8109135701266308.\u001b[0m\n",
      "\u001b[32m[I 2023-01-29 20:26:49,604]\u001b[0m Trial 42 finished with value: 0.8042009748429237 and parameters: {'n_estimators': 200, 'max_depth': 9, 'min_samples_leaf': 3}. Best is trial 25 with value: 0.8109135701266308.\u001b[0m\n",
      "\u001b[32m[I 2023-01-29 20:26:52,083]\u001b[0m Trial 43 finished with value: 0.808906224619634 and parameters: {'n_estimators': 180, 'max_depth': 10, 'min_samples_leaf': 6}. Best is trial 25 with value: 0.8109135701266308.\u001b[0m\n",
      "\u001b[32m[I 2023-01-29 20:26:54,114]\u001b[0m Trial 44 finished with value: 0.8042849405246555 and parameters: {'n_estimators': 140, 'max_depth': 10, 'min_samples_leaf': 6}. Best is trial 25 with value: 0.8109135701266308.\u001b[0m\n",
      "\u001b[32m[I 2023-01-29 20:26:56,617]\u001b[0m Trial 45 finished with value: 0.808906224619634 and parameters: {'n_estimators': 180, 'max_depth': 10, 'min_samples_leaf': 6}. Best is trial 25 with value: 0.8109135701266308.\u001b[0m\n",
      "\u001b[32m[I 2023-01-29 20:26:59,190]\u001b[0m Trial 46 finished with value: 0.8017389172333965 and parameters: {'n_estimators': 200, 'max_depth': 9, 'min_samples_leaf': 6}. Best is trial 25 with value: 0.8109135701266308.\u001b[0m\n",
      "\u001b[32m[I 2023-01-29 20:27:02,149]\u001b[0m Trial 47 finished with value: 0.8010272467077899 and parameters: {'n_estimators': 220, 'max_depth': 10, 'min_samples_leaf': 7}. Best is trial 25 with value: 0.8109135701266308.\u001b[0m\n",
      "\u001b[32m[I 2023-01-29 20:27:04,336]\u001b[0m Trial 48 finished with value: 0.7942803940578129 and parameters: {'n_estimators': 180, 'max_depth': 8, 'min_samples_leaf': 7}. Best is trial 25 with value: 0.8109135701266308.\u001b[0m\n",
      "\u001b[32m[I 2023-01-29 20:27:07,919]\u001b[0m Trial 49 finished with value: 0.802213843156992 and parameters: {'n_estimators': 280, 'max_depth': 9, 'min_samples_leaf': 6}. Best is trial 25 with value: 0.8109135701266308.\u001b[0m\n"
     ]
    },
    {
     "name": "stdout",
     "output_type": "stream",
     "text": [
      "CPU times: user 47.5 s, sys: 1.13 s, total: 48.6 s\n",
      "Wall time: 1min 59s\n"
     ]
    }
   ],
   "source": [
    "%%time\n",
    "# cоздаем объект исследования\n",
    "# можем напрямую указать, что нам необходимо максимизировать метрику direction=\"maximize\"\n",
    "study = optuna.create_study(study_name=\"RandomForestClassifier\", direction=\"maximize\")\n",
    "# ищем лучшую комбинацию гиперпараметров n_trials раз\n",
    "study.optimize(optuna_rf, n_trials=50)"
   ]
  },
  {
   "cell_type": "code",
   "execution_count": 50,
   "metadata": {},
   "outputs": [
    {
     "name": "stdout",
     "output_type": "stream",
     "text": [
      "Наилучшие значения гиперпараметров {'n_estimators': 220, 'max_depth': 10, 'min_samples_leaf': 5}\n",
      "f1_score на обучающем наборе: 0.81\n"
     ]
    }
   ],
   "source": [
    "# выводим результаты на обучающей выборке\n",
    "print(\"Наилучшие значения гиперпараметров {}\".format(study.best_params))\n",
    "print(\"f1_score на обучающем наборе: {:.2f}\".format(study.best_value))"
   ]
  },
  {
   "cell_type": "code",
   "execution_count": 51,
   "metadata": {},
   "outputs": [
    {
     "name": "stdout",
     "output_type": "stream",
     "text": [
      "Train k-fold mean f1_score: 0.91\n",
      "Valid k-fold mean f1_score: 0.81\n"
     ]
    }
   ],
   "source": [
    "# создаем модель с подобранными гиперпараметрами\n",
    "model_rf_optuna = ensemble.RandomForestClassifier( \n",
    "        **study.best_params,                                \n",
    "        random_state=random_state\n",
    ")\n",
    "\n",
    "# Считаем метрики на кросс-валидации k-fold\n",
    "cv_metrics = model_selection.cross_validate(\n",
    "    estimator=model_rf_optuna, # модель\n",
    "    X=X_train, # матрица наблюдений X\n",
    "    y=y_train, # вектор ответов y\n",
    "    cv=kf, # кросс-валидатор\n",
    "    scoring='f1', # метрика\n",
    "    return_train_score=True # подсчёт метрики на тренировочных фолдах\n",
    ")\n",
    "\n",
    "# выводим метрики\n",
    "print('Train k-fold mean f1_score: {:.2f}'.format(np.mean(cv_metrics['train_score'])))\n",
    "print('Valid k-fold mean f1_score: {:.2f}'.format(np.mean(cv_metrics['test_score'])))\n"
   ]
  },
  {
   "cell_type": "code",
   "execution_count": 52,
   "metadata": {},
   "outputs": [
    {
     "name": "stdout",
     "output_type": "stream",
     "text": [
      "f1_score на тестовом наборе: 0.79\n"
     ]
    }
   ],
   "source": [
    "# обучаем модель\n",
    "model_rf_optuna.fit(X_train, y_train)\n",
    "\n",
    "# делаем предсказание на тестовой выборке\n",
    "y_test_pred = model_rf_optuna.predict(X_test)\n",
    "\n",
    "# расчитываем и выводим метрику на тестовой выборке\n",
    "print('f1_score на тестовом наборе: {:.2f}'.format(metrics.f1_score(y_test, y_test_pred)))"
   ]
  },
  {
   "attachments": {},
   "cell_type": "markdown",
   "metadata": {},
   "source": [
    "***"
   ]
  },
  {
   "attachments": {},
   "cell_type": "markdown",
   "metadata": {},
   "source": [
    "## 8. Итоги"
   ]
  },
  {
   "attachments": {},
   "cell_type": "markdown",
   "metadata": {},
   "source": [
    "<style type=\"text/css\">\n",
    ".tg  {border-collapse:collapse;border-spacing:0;}\n",
    ".tg td{border-color:black;border-style:solid;border-width:1px;font-family:Arial, sans-serif;font-size:14px;\n",
    "  overflow:hidden;padding:10px 5px;word-break:normal;}\n",
    ".tg th{border-color:black;border-style:solid;border-width:1px;font-family:Arial, sans-serif;font-size:14px;\n",
    "  font-weight:normal;overflow:hidden;padding:10px 5px;word-break:normal;}\n",
    ".tg .tg-69oi{background-color:#92D050;text-align:left;vertical-align:bottom}\n",
    ".tg .tg-uozz{color:#F00;text-align:left;vertical-align:bottom}\n",
    ".tg .tg-z9yq{background-color:#D9D9D9;font-weight:bold;text-align:left;vertical-align:bottom}\n",
    ".tg .tg-xkyc{background-color:#D9D9D9;color:#F00;font-weight:bold;text-align:left;vertical-align:bottom}\n",
    ".tg .tg-eeg4{background-color:#92D050;color:#F00;text-align:left;vertical-align:bottom}\n",
    ".tg .tg-u4qn{background-color:#D9D9D9;text-align:left;vertical-align:bottom}\n",
    ".tg .tg-7zrl{text-align:left;vertical-align:bottom}\n",
    "</style>\n",
    "<table class=\"tg\">\n",
    "<thead>\n",
    "  <tr>\n",
    "    <th class=\"tg-z9yq\"><span style=\"font-weight:700;font-style:normal;text-decoration:none;color:black;background-color:#D9D9D9\">Model \\ Metric F1</span></th>\n",
    "    <th class=\"tg-z9yq\"><span style=\"font-weight:700;font-style:normal;text-decoration:none;color:black;background-color:#D9D9D9\">Train</span></th>\n",
    "    <th class=\"tg-z9yq\"><span style=\"font-weight:700;font-style:normal;text-decoration:none;color:black;background-color:#D9D9D9\">Valid</span></th>\n",
    "    <th class=\"tg-z9yq\"><span style=\"font-weight:700;font-style:normal;text-decoration:none;color:black;background-color:#D9D9D9\">Test</span></th>\n",
    "  </tr>\n",
    "</thead>\n",
    "<tbody>\n",
    "  <tr>\n",
    "    <td class=\"tg-xkyc\"><span style=\"font-weight:700;font-style:normal;text-decoration:none;color:red;background-color:#D9D9D9\">Logistic Regression</span></td>\n",
    "    <td class=\"tg-eeg4\"><span style=\"font-weight:400;font-style:normal;text-decoration:none;color:red;background-color:#92D050\">0.89</span></td>\n",
    "    <td class=\"tg-uozz\"><span style=\"font-weight:400;font-style:normal;text-decoration:none;color:red\">0.78</span></td>\n",
    "    <td class=\"tg-uozz\"><span style=\"font-weight:400;font-style:normal;text-decoration:none;color:red\">0.78</span></td>\n",
    "  </tr>\n",
    "  <tr>\n",
    "    <td class=\"tg-u4qn\"><span style=\"font-weight:400;font-style:normal;text-decoration:none;color:black;background-color:#D9D9D9\">GridSearchCV</span></td>\n",
    "    <td class=\"tg-7zrl\"><span style=\"font-weight:400;font-style:normal;text-decoration:none;color:black\">0.80</span></td>\n",
    "    <td class=\"tg-7zrl\"><span style=\"font-weight:400;font-style:normal;text-decoration:none;color:black\">0.78</span></td>\n",
    "    <td class=\"tg-7zrl\"><span style=\"font-weight:400;font-style:normal;text-decoration:none;color:black\">0.77</span></td>\n",
    "  </tr>\n",
    "  <tr>\n",
    "    <td class=\"tg-u4qn\"><span style=\"font-weight:400;font-style:normal;text-decoration:none;color:black;background-color:#D9D9D9\">RandomizedSearchCV</span></td>\n",
    "    <td class=\"tg-7zrl\"><span style=\"font-weight:400;font-style:normal;text-decoration:none;color:black\">0.82</span></td>\n",
    "    <td class=\"tg-69oi\"><span style=\"font-weight:400;font-style:normal;text-decoration:none;color:black;background-color:#92D050\">0.79</span></td>\n",
    "    <td class=\"tg-7zrl\"><span style=\"font-weight:400;font-style:normal;text-decoration:none;color:black\">0.78</span></td>\n",
    "  </tr>\n",
    "  <tr>\n",
    "    <td class=\"tg-u4qn\"><span style=\"font-weight:400;font-style:normal;text-decoration:none;color:black;background-color:#D9D9D9\">Hyperopt</span></td>\n",
    "    <td class=\"tg-7zrl\"><span style=\"font-weight:400;font-style:normal;text-decoration:none;color:black\">0.88</span></td>\n",
    "    <td class=\"tg-69oi\"><span style=\"font-weight:400;font-style:normal;text-decoration:none;color:black;background-color:#92D050\">0.79</span></td>\n",
    "    <td class=\"tg-7zrl\"><span style=\"font-weight:400;font-style:normal;text-decoration:none;color:black\">0.78</span></td>\n",
    "  </tr>\n",
    "  <tr>\n",
    "    <td class=\"tg-u4qn\"><span style=\"font-weight:400;font-style:normal;text-decoration:none;color:black;background-color:#D9D9D9\">Optuna</span></td>\n",
    "    <td class=\"tg-7zrl\"><span style=\"font-weight:400;font-style:normal;text-decoration:none;color:black\">0.86</span></td>\n",
    "    <td class=\"tg-69oi\"><span style=\"font-weight:400;font-style:normal;text-decoration:none;color:black;background-color:#92D050\">0.79</span></td>\n",
    "    <td class=\"tg-69oi\"><span style=\"font-weight:400;font-style:normal;text-decoration:none;color:black;background-color:#92D050\">0.79</span></td>\n",
    "  </tr>\n",
    "  <tr>\n",
    "    <td class=\"tg-xkyc\"><span style=\"font-weight:700;font-style:normal;text-decoration:none;color:red;background-color:#D9D9D9\">RandomForest</span></td>\n",
    "    <td class=\"tg-eeg4\"><span style=\"font-weight:400;font-style:normal;text-decoration:none;color:red;background-color:#92D050\">1.00</span></td>\n",
    "    <td class=\"tg-eeg4\"><span style=\"font-weight:400;font-style:normal;text-decoration:none;color:red;background-color:#92D050\">0.82</span></td>\n",
    "    <td class=\"tg-eeg4\"><span style=\"font-weight:400;font-style:normal;text-decoration:none;color:red;background-color:#92D050\">0.80</span></td>\n",
    "  </tr>\n",
    "  <tr>\n",
    "    <td class=\"tg-u4qn\"><span style=\"font-weight:400;font-style:normal;text-decoration:none;color:black;background-color:#D9D9D9\">GridSearchCV</span></td>\n",
    "    <td class=\"tg-7zrl\"><span style=\"font-weight:400;font-style:normal;text-decoration:none;color:black\">0.99</span></td>\n",
    "    <td class=\"tg-7zrl\"><span style=\"font-weight:400;font-style:normal;text-decoration:none;color:black\">0.82</span></td>\n",
    "    <td class=\"tg-7zrl\"><span style=\"font-weight:400;font-style:normal;text-decoration:none;color:black\">0.80</span></td>\n",
    "  </tr>\n",
    "  <tr>\n",
    "    <td class=\"tg-u4qn\"><span style=\"font-weight:400;font-style:normal;text-decoration:none;color:black;background-color:#D9D9D9\">RandomizedSearchCV</span></td>\n",
    "    <td class=\"tg-7zrl\"><span style=\"font-weight:400;font-style:normal;text-decoration:none;color:black\">0.99</span></td>\n",
    "    <td class=\"tg-7zrl\"><span style=\"font-weight:400;font-style:normal;text-decoration:none;color:black\">0.82</span></td>\n",
    "    <td class=\"tg-7zrl\"><span style=\"font-weight:400;font-style:normal;text-decoration:none;color:black\">0.80</span></td>\n",
    "  </tr>\n",
    "  <tr>\n",
    "    <td class=\"tg-u4qn\"><span style=\"font-weight:400;font-style:normal;text-decoration:none;color:black;background-color:#D9D9D9\">Hyperopt</span></td>\n",
    "    <td class=\"tg-7zrl\"><span style=\"font-weight:400;font-style:normal;text-decoration:none;color:black\">0.81</span></td>\n",
    "    <td class=\"tg-7zrl\"><span style=\"font-weight:400;font-style:normal;text-decoration:none;color:black\">0.76</span></td>\n",
    "    <td class=\"tg-7zrl\"><span style=\"font-weight:400;font-style:normal;text-decoration:none;color:black\">0.74</span></td>\n",
    "  </tr>\n",
    "  <tr>\n",
    "    <td class=\"tg-u4qn\"><span style=\"font-weight:400;font-style:normal;text-decoration:none;color:black;background-color:#D9D9D9\">Optuna</span></td>\n",
    "    <td class=\"tg-7zrl\"><span style=\"font-weight:400;font-style:normal;text-decoration:none;color:black\">0.91</span></td>\n",
    "    <td class=\"tg-7zrl\"><span style=\"font-weight:400;font-style:normal;text-decoration:none;color:black\">0.81</span></td>\n",
    "    <td class=\"tg-7zrl\"><span style=\"font-weight:400;font-style:normal;text-decoration:none;color:black\">0.79</span></td>\n",
    "  </tr>\n",
    "</tbody>\n",
    "</table>"
   ]
  },
  {
   "attachments": {},
   "cell_type": "markdown",
   "metadata": {},
   "source": [
    "***"
   ]
  },
  {
   "attachments": {},
   "cell_type": "markdown",
   "metadata": {},
   "source": [
    "## 9. Выводы"
   ]
  },
  {
   "attachments": {},
   "cell_type": "markdown",
   "metadata": {},
   "source": [
    "- При решении задачи классификации методом логистической регрессии удалось с помощью подбора гиперпараметров улучшить метрику на 0.01 на валидационной и тестовой выборках.\n",
    "- При решении задачи методом случайного леса улучшить метрику мне не удалось."
   ]
  }
 ],
 "metadata": {
  "kernelspec": {
   "display_name": "Python 3",
   "language": "python",
   "name": "python3"
  },
  "language_info": {
   "codemirror_mode": {
    "name": "ipython",
    "version": 3
   },
   "file_extension": ".py",
   "mimetype": "text/x-python",
   "name": "python",
   "nbconvert_exporter": "python",
   "pygments_lexer": "ipython3",
   "version": "3.9.13"
  },
  "orig_nbformat": 4,
  "vscode": {
   "interpreter": {
    "hash": "397704579725e15f5c7cb49fe5f0341eb7531c82d19f2c29d197e8b64ab5776b"
   }
  }
 },
 "nbformat": 4,
 "nbformat_minor": 2
}
