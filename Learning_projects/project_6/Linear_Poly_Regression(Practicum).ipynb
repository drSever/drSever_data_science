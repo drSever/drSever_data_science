{
 "cells": [
  {
   "attachments": {},
   "cell_type": "markdown",
   "metadata": {},
   "source": [
    "# Практика: линейная регрессия и метод наименьших квадратов\n",
    "# Практика: полиномиальная регрессия и регуляризация\n",
    "Александр Журавлев DST-120"
   ]
  },
  {
   "attachments": {},
   "cell_type": "markdown",
   "metadata": {},
   "source": [
    "***"
   ]
  },
  {
   "attachments": {},
   "cell_type": "markdown",
   "metadata": {},
   "source": [
    "У Василия, основателя компании «Газ-Таз-Ваз-Нефть», дела идут в гору: в этом году он открывает 100 новых скважин по добыче газа. Однако в целях оптимизации расходов и для потенциального повышения дохода Василию необходимо оценить, сколько денег будет приносить ему каждая из скважин, а также понять, какие факторы потенциально сильнейшим образом влияют на объём добычи газа. Для этого Василий решил нанять вас как специалиста по построению моделей машинного обучения.\n",
    "\n",
    "Василий представляет вам набор данных о добыче газа на своих скважинах. Файл с данными вы можете скачать здесь."
   ]
  },
  {
   "cell_type": "markdown",
   "metadata": {},
   "source": [
    "Признаки:\n",
    "\n",
    "**Well** — идентификатор скважины;    \n",
    "**Por** — пористость скважины (%);    \n",
    "**Perm** — проницаемость скважины;    \n",
    "**AI** — акустический импеданс (кг/м2*10ˆ6);    \n",
    "**Brittle** — коэффициент хрупкости скважины (%);    \n",
    "**TOC** — общий органический углерод (%);     \n",
    "**VR** — коэффициент отражения витринита (%);     \n",
    "**Prod** — добыча газа в сутки (млн. кубических футов).    \n",
    "\n",
    "**Ваша задача** — построить регрессионную модель, которая прогнозирует выработку газа на скважине (целевой признак — Prod) на основе остальных характеристик скважины, и проинтерпретировать результаты вашей модели."
   ]
  },
  {
   "attachments": {},
   "cell_type": "markdown",
   "metadata": {},
   "source": [
    "***"
   ]
  },
  {
   "cell_type": "code",
   "execution_count": 1,
   "metadata": {},
   "outputs": [],
   "source": [
    "# импортируем необходимые библиотеки\n",
    "import numpy as np \n",
    "import pandas as pd \n",
    "import seaborn as sns \n",
    "import matplotlib.pyplot as plt \n",
    "\n",
    "from sklearn import metrics # метрики\n",
    "from sklearn.model_selection import cross_validate # для кросс-валидации\n",
    "from sklearn.linear_model import LinearRegression, Lasso, Ridge # линейные модели\n",
    "from sklearn.preprocessing import PolynomialFeatures # для полиномиальных признаков\n",
    "from sklearn.preprocessing import StandardScaler # для стандартизации\n",
    "\n",
    "# настройка визуализации\n",
    "%matplotlib inline\n",
    "plt.style.use('seaborn')\n",
    "%config InlineBackend.figure_format = 'svg'"
   ]
  },
  {
   "cell_type": "code",
   "execution_count": 2,
   "metadata": {},
   "outputs": [
    {
     "data": {
      "text/html": [
       "<div>\n",
       "<style scoped>\n",
       "    .dataframe tbody tr th:only-of-type {\n",
       "        vertical-align: middle;\n",
       "    }\n",
       "\n",
       "    .dataframe tbody tr th {\n",
       "        vertical-align: top;\n",
       "    }\n",
       "\n",
       "    .dataframe thead th {\n",
       "        text-align: right;\n",
       "    }\n",
       "</style>\n",
       "<table border=\"1\" class=\"dataframe\">\n",
       "  <thead>\n",
       "    <tr style=\"text-align: right;\">\n",
       "      <th></th>\n",
       "      <th>Well</th>\n",
       "      <th>Por</th>\n",
       "      <th>Perm</th>\n",
       "      <th>AI</th>\n",
       "      <th>Brittle</th>\n",
       "      <th>TOC</th>\n",
       "      <th>VR</th>\n",
       "      <th>Prod</th>\n",
       "    </tr>\n",
       "  </thead>\n",
       "  <tbody>\n",
       "    <tr>\n",
       "      <th>0</th>\n",
       "      <td>1</td>\n",
       "      <td>12.08</td>\n",
       "      <td>2.92</td>\n",
       "      <td>2.80</td>\n",
       "      <td>81.40</td>\n",
       "      <td>1.16</td>\n",
       "      <td>2.31</td>\n",
       "      <td>4165.196191</td>\n",
       "    </tr>\n",
       "    <tr>\n",
       "      <th>1</th>\n",
       "      <td>2</td>\n",
       "      <td>12.38</td>\n",
       "      <td>3.53</td>\n",
       "      <td>3.22</td>\n",
       "      <td>46.17</td>\n",
       "      <td>0.89</td>\n",
       "      <td>1.88</td>\n",
       "      <td>3561.146205</td>\n",
       "    </tr>\n",
       "    <tr>\n",
       "      <th>2</th>\n",
       "      <td>3</td>\n",
       "      <td>14.02</td>\n",
       "      <td>2.59</td>\n",
       "      <td>4.01</td>\n",
       "      <td>72.80</td>\n",
       "      <td>0.89</td>\n",
       "      <td>2.72</td>\n",
       "      <td>4284.348574</td>\n",
       "    </tr>\n",
       "    <tr>\n",
       "      <th>3</th>\n",
       "      <td>4</td>\n",
       "      <td>17.67</td>\n",
       "      <td>6.75</td>\n",
       "      <td>2.63</td>\n",
       "      <td>39.81</td>\n",
       "      <td>1.08</td>\n",
       "      <td>1.88</td>\n",
       "      <td>5098.680869</td>\n",
       "    </tr>\n",
       "    <tr>\n",
       "      <th>4</th>\n",
       "      <td>5</td>\n",
       "      <td>17.52</td>\n",
       "      <td>4.57</td>\n",
       "      <td>3.18</td>\n",
       "      <td>10.94</td>\n",
       "      <td>1.51</td>\n",
       "      <td>1.90</td>\n",
       "      <td>3406.132832</td>\n",
       "    </tr>\n",
       "  </tbody>\n",
       "</table>\n",
       "</div>"
      ],
      "text/plain": [
       "   Well    Por  Perm    AI  Brittle   TOC    VR         Prod\n",
       "0     1  12.08  2.92  2.80    81.40  1.16  2.31  4165.196191\n",
       "1     2  12.38  3.53  3.22    46.17  0.89  1.88  3561.146205\n",
       "2     3  14.02  2.59  4.01    72.80  0.89  2.72  4284.348574\n",
       "3     4  17.67  6.75  2.63    39.81  1.08  1.88  5098.680869\n",
       "4     5  17.52  4.57  3.18    10.94  1.51  1.90  3406.132832"
      ]
     },
     "execution_count": 2,
     "metadata": {},
     "output_type": "execute_result"
    }
   ],
   "source": [
    "# загружаем и выводим данные\n",
    "data = pd.read_csv('data/unconv.csv')\n",
    "data.head()"
   ]
  },
  {
   "attachments": {},
   "cell_type": "markdown",
   "metadata": {},
   "source": [
    "Для начала в качестве модели будем использовать простую линейную регрессию."
   ]
  },
  {
   "attachments": {},
   "cell_type": "markdown",
   "metadata": {},
   "source": [
    "***"
   ]
  },
  {
   "attachments": {},
   "cell_type": "markdown",
   "metadata": {},
   "source": [
    "### Задание 5.1\n",
    "\n",
    "Постройте корреляционную матрицу факторов, включив в неё целевой признак. Ответьте на следующие вопросы:\n",
    "\n",
    "1. Выберите топ-3 факторов, наиболее коррелированных с целевой переменной:"
   ]
  },
  {
   "cell_type": "code",
   "execution_count": 3,
   "metadata": {},
   "outputs": [
    {
     "data": {
      "text/html": [
       "<div>\n",
       "<style scoped>\n",
       "    .dataframe tbody tr th:only-of-type {\n",
       "        vertical-align: middle;\n",
       "    }\n",
       "\n",
       "    .dataframe tbody tr th {\n",
       "        vertical-align: top;\n",
       "    }\n",
       "\n",
       "    .dataframe thead th {\n",
       "        text-align: right;\n",
       "    }\n",
       "</style>\n",
       "<table border=\"1\" class=\"dataframe\">\n",
       "  <thead>\n",
       "    <tr style=\"text-align: right;\">\n",
       "      <th></th>\n",
       "      <th>Well</th>\n",
       "      <th>Por</th>\n",
       "      <th>Perm</th>\n",
       "      <th>AI</th>\n",
       "      <th>Brittle</th>\n",
       "      <th>TOC</th>\n",
       "      <th>VR</th>\n",
       "      <th>Prod</th>\n",
       "    </tr>\n",
       "  </thead>\n",
       "  <tbody>\n",
       "    <tr>\n",
       "      <th>Well</th>\n",
       "      <td>1.000000</td>\n",
       "      <td>0.068927</td>\n",
       "      <td>0.077928</td>\n",
       "      <td>0.041483</td>\n",
       "      <td>-0.079252</td>\n",
       "      <td>0.022624</td>\n",
       "      <td>-0.007279</td>\n",
       "      <td>0.026817</td>\n",
       "    </tr>\n",
       "    <tr>\n",
       "      <th>Por</th>\n",
       "      <td>0.068927</td>\n",
       "      <td>1.000000</td>\n",
       "      <td>0.760546</td>\n",
       "      <td>-0.461549</td>\n",
       "      <td>-0.218570</td>\n",
       "      <td>0.711831</td>\n",
       "      <td>0.111860</td>\n",
       "      <td>0.861910</td>\n",
       "    </tr>\n",
       "    <tr>\n",
       "      <th>Perm</th>\n",
       "      <td>0.077928</td>\n",
       "      <td>0.760546</td>\n",
       "      <td>1.000000</td>\n",
       "      <td>-0.239636</td>\n",
       "      <td>-0.124017</td>\n",
       "      <td>0.471746</td>\n",
       "      <td>0.051023</td>\n",
       "      <td>0.727426</td>\n",
       "    </tr>\n",
       "    <tr>\n",
       "      <th>AI</th>\n",
       "      <td>0.041483</td>\n",
       "      <td>-0.461549</td>\n",
       "      <td>-0.239636</td>\n",
       "      <td>1.000000</td>\n",
       "      <td>0.127599</td>\n",
       "      <td>-0.531864</td>\n",
       "      <td>0.499143</td>\n",
       "      <td>-0.390835</td>\n",
       "    </tr>\n",
       "    <tr>\n",
       "      <th>Brittle</th>\n",
       "      <td>-0.079252</td>\n",
       "      <td>-0.218570</td>\n",
       "      <td>-0.124017</td>\n",
       "      <td>0.127599</td>\n",
       "      <td>1.000000</td>\n",
       "      <td>-0.214282</td>\n",
       "      <td>0.317929</td>\n",
       "      <td>0.237155</td>\n",
       "    </tr>\n",
       "    <tr>\n",
       "      <th>TOC</th>\n",
       "      <td>0.022624</td>\n",
       "      <td>0.711831</td>\n",
       "      <td>0.471746</td>\n",
       "      <td>-0.531864</td>\n",
       "      <td>-0.214282</td>\n",
       "      <td>1.000000</td>\n",
       "      <td>0.299483</td>\n",
       "      <td>0.654445</td>\n",
       "    </tr>\n",
       "    <tr>\n",
       "      <th>VR</th>\n",
       "      <td>-0.007279</td>\n",
       "      <td>0.111860</td>\n",
       "      <td>0.051023</td>\n",
       "      <td>0.499143</td>\n",
       "      <td>0.317929</td>\n",
       "      <td>0.299483</td>\n",
       "      <td>1.000000</td>\n",
       "      <td>0.323182</td>\n",
       "    </tr>\n",
       "    <tr>\n",
       "      <th>Prod</th>\n",
       "      <td>0.026817</td>\n",
       "      <td>0.861910</td>\n",
       "      <td>0.727426</td>\n",
       "      <td>-0.390835</td>\n",
       "      <td>0.237155</td>\n",
       "      <td>0.654445</td>\n",
       "      <td>0.323182</td>\n",
       "      <td>1.000000</td>\n",
       "    </tr>\n",
       "  </tbody>\n",
       "</table>\n",
       "</div>"
      ],
      "text/plain": [
       "             Well       Por      Perm        AI   Brittle       TOC        VR  \\\n",
       "Well     1.000000  0.068927  0.077928  0.041483 -0.079252  0.022624 -0.007279   \n",
       "Por      0.068927  1.000000  0.760546 -0.461549 -0.218570  0.711831  0.111860   \n",
       "Perm     0.077928  0.760546  1.000000 -0.239636 -0.124017  0.471746  0.051023   \n",
       "AI       0.041483 -0.461549 -0.239636  1.000000  0.127599 -0.531864  0.499143   \n",
       "Brittle -0.079252 -0.218570 -0.124017  0.127599  1.000000 -0.214282  0.317929   \n",
       "TOC      0.022624  0.711831  0.471746 -0.531864 -0.214282  1.000000  0.299483   \n",
       "VR      -0.007279  0.111860  0.051023  0.499143  0.317929  0.299483  1.000000   \n",
       "Prod     0.026817  0.861910  0.727426 -0.390835  0.237155  0.654445  0.323182   \n",
       "\n",
       "             Prod  \n",
       "Well     0.026817  \n",
       "Por      0.861910  \n",
       "Perm     0.727426  \n",
       "AI      -0.390835  \n",
       "Brittle  0.237155  \n",
       "TOC      0.654445  \n",
       "VR       0.323182  \n",
       "Prod     1.000000  "
      ]
     },
     "execution_count": 3,
     "metadata": {},
     "output_type": "execute_result"
    }
   ],
   "source": [
    "# строим корреляционную матрицу\n",
    "data.corr()"
   ]
  },
  {
   "cell_type": "code",
   "execution_count": 4,
   "metadata": {},
   "outputs": [
    {
     "data": {
      "image/svg+xml": "<?xml version=\"1.0\" encoding=\"utf-8\" standalone=\"no\"?>\n<!DOCTYPE svg PUBLIC \"-//W3C//DTD SVG 1.1//EN\"\n  \"http://www.w3.org/Graphics/SVG/1.1/DTD/svg11.dtd\">\n<svg xmlns:xlink=\"http://www.w3.org/1999/xlink\" width=\"451.971938pt\" height=\"350.054688pt\" viewBox=\"0 0 451.971938 350.054688\" xmlns=\"http://www.w3.org/2000/svg\" version=\"1.1\">\n <metadata>\n  <rdf:RDF xmlns:dc=\"http://purl.org/dc/elements/1.1/\" xmlns:cc=\"http://creativecommons.org/ns#\" xmlns:rdf=\"http://www.w3.org/1999/02/22-rdf-syntax-ns#\">\n   <cc:Work>\n    <dc:type rdf:resource=\"http://purl.org/dc/dcmitype/StillImage\"/>\n    <dc:date>2023-02-19T22:33:17.130303</dc:date>\n    <dc:format>image/svg+xml</dc:format>\n    <dc:creator>\n     <cc:Agent>\n      <dc:title>Matplotlib v3.5.2, https://matplotlib.org/</dc:title>\n     </cc:Agent>\n    </dc:creator>\n   </cc:Work>\n  </rdf:RDF>\n </metadata>\n <defs>\n  <style type=\"text/css\">*{stroke-linejoin: round; stroke-linecap: butt}</style>\n </defs>\n <g id=\"figure_1\">\n  <g id=\"patch_1\">\n   <path d=\"M 0 350.054688 \nL 451.971938 350.054688 \nL 451.971938 0 \nL 0 0 \nz\n\" style=\"fill: #ffffff\"/>\n  </g>\n  <g id=\"axes_1\">\n   <g id=\"patch_2\">\n    <path d=\"M 23.345312 326.709375 \nL 380.465313 326.709375 \nL 380.465313 21.789375 \nL 23.345312 21.789375 \nz\n\" style=\"fill: #eaeaf2\"/>\n   </g>\n   <g id=\"matplotlib.axis_1\">\n    <g id=\"xtick_1\">\n     <g id=\"line2d_1\"/>\n     <g id=\"text_1\">\n      <!-- Well -->\n      <g style=\"fill: #262626\" transform=\"translate(36.030938 340.867188)scale(0.1 -0.1)\">\n       <defs>\n        <path id=\"ArialMT-57\" d=\"M 1294 0 \nL 78 4581 \nL 700 4581 \nL 1397 1578 \nQ 1509 1106 1591 641 \nQ 1766 1375 1797 1488 \nL 2669 4581 \nL 3400 4581 \nL 4056 2263 \nQ 4303 1400 4413 641 \nQ 4500 1075 4641 1638 \nL 5359 4581 \nL 5969 4581 \nL 4713 0 \nL 4128 0 \nL 3163 3491 \nQ 3041 3928 3019 4028 \nQ 2947 3713 2884 3491 \nL 1913 0 \nL 1294 0 \nz\n\" transform=\"scale(0.015625)\"/>\n        <path id=\"ArialMT-65\" d=\"M 2694 1069 \nL 3275 997 \nQ 3138 488 2766 206 \nQ 2394 -75 1816 -75 \nQ 1088 -75 661 373 \nQ 234 822 234 1631 \nQ 234 2469 665 2931 \nQ 1097 3394 1784 3394 \nQ 2450 3394 2872 2941 \nQ 3294 2488 3294 1666 \nQ 3294 1616 3291 1516 \nL 816 1516 \nQ 847 969 1125 678 \nQ 1403 388 1819 388 \nQ 2128 388 2347 550 \nQ 2566 713 2694 1069 \nz\nM 847 1978 \nL 2700 1978 \nQ 2663 2397 2488 2606 \nQ 2219 2931 1791 2931 \nQ 1403 2931 1139 2672 \nQ 875 2413 847 1978 \nz\n\" transform=\"scale(0.015625)\"/>\n        <path id=\"ArialMT-6c\" d=\"M 409 0 \nL 409 4581 \nL 972 4581 \nL 972 0 \nL 409 0 \nz\n\" transform=\"scale(0.015625)\"/>\n       </defs>\n       <use xlink:href=\"#ArialMT-57\"/>\n       <use xlink:href=\"#ArialMT-65\" x=\"92.634766\"/>\n       <use xlink:href=\"#ArialMT-6c\" x=\"148.25\"/>\n       <use xlink:href=\"#ArialMT-6c\" x=\"170.466797\"/>\n      </g>\n     </g>\n    </g>\n    <g id=\"xtick_2\">\n     <g id=\"line2d_2\"/>\n     <g id=\"text_2\">\n      <!-- Por -->\n      <g style=\"fill: #262626\" transform=\"translate(82.524844 340.867188)scale(0.1 -0.1)\">\n       <defs>\n        <path id=\"ArialMT-50\" d=\"M 494 0 \nL 494 4581 \nL 2222 4581 \nQ 2678 4581 2919 4538 \nQ 3256 4481 3484 4323 \nQ 3713 4166 3852 3881 \nQ 3991 3597 3991 3256 \nQ 3991 2672 3619 2267 \nQ 3247 1863 2275 1863 \nL 1100 1863 \nL 1100 0 \nL 494 0 \nz\nM 1100 2403 \nL 2284 2403 \nQ 2872 2403 3119 2622 \nQ 3366 2841 3366 3238 \nQ 3366 3525 3220 3729 \nQ 3075 3934 2838 4000 \nQ 2684 4041 2272 4041 \nL 1100 4041 \nL 1100 2403 \nz\n\" transform=\"scale(0.015625)\"/>\n        <path id=\"ArialMT-6f\" d=\"M 213 1659 \nQ 213 2581 725 3025 \nQ 1153 3394 1769 3394 \nQ 2453 3394 2887 2945 \nQ 3322 2497 3322 1706 \nQ 3322 1066 3130 698 \nQ 2938 331 2570 128 \nQ 2203 -75 1769 -75 \nQ 1072 -75 642 372 \nQ 213 819 213 1659 \nz\nM 791 1659 \nQ 791 1022 1069 705 \nQ 1347 388 1769 388 \nQ 2188 388 2466 706 \nQ 2744 1025 2744 1678 \nQ 2744 2294 2464 2611 \nQ 2184 2928 1769 2928 \nQ 1347 2928 1069 2612 \nQ 791 2297 791 1659 \nz\n\" transform=\"scale(0.015625)\"/>\n        <path id=\"ArialMT-72\" d=\"M 416 0 \nL 416 3319 \nL 922 3319 \nL 922 2816 \nQ 1116 3169 1280 3281 \nQ 1444 3394 1641 3394 \nQ 1925 3394 2219 3213 \nL 2025 2691 \nQ 1819 2813 1613 2813 \nQ 1428 2813 1281 2702 \nQ 1134 2591 1072 2394 \nQ 978 2094 978 1738 \nL 978 0 \nL 416 0 \nz\n\" transform=\"scale(0.015625)\"/>\n       </defs>\n       <use xlink:href=\"#ArialMT-50\"/>\n       <use xlink:href=\"#ArialMT-6f\" x=\"66.699219\"/>\n       <use xlink:href=\"#ArialMT-72\" x=\"122.314453\"/>\n      </g>\n     </g>\n    </g>\n    <g id=\"xtick_3\">\n     <g id=\"line2d_3\"/>\n     <g id=\"text_3\">\n      <!-- Perm -->\n      <g style=\"fill: #262626\" transform=\"translate(123 340.867188)scale(0.1 -0.1)\">\n       <defs>\n        <path id=\"ArialMT-6d\" d=\"M 422 0 \nL 422 3319 \nL 925 3319 \nL 925 2853 \nQ 1081 3097 1340 3245 \nQ 1600 3394 1931 3394 \nQ 2300 3394 2536 3241 \nQ 2772 3088 2869 2813 \nQ 3263 3394 3894 3394 \nQ 4388 3394 4653 3120 \nQ 4919 2847 4919 2278 \nL 4919 0 \nL 4359 0 \nL 4359 2091 \nQ 4359 2428 4304 2576 \nQ 4250 2725 4106 2815 \nQ 3963 2906 3769 2906 \nQ 3419 2906 3187 2673 \nQ 2956 2441 2956 1928 \nL 2956 0 \nL 2394 0 \nL 2394 2156 \nQ 2394 2531 2256 2718 \nQ 2119 2906 1806 2906 \nQ 1569 2906 1367 2781 \nQ 1166 2656 1075 2415 \nQ 984 2175 984 1722 \nL 984 0 \nL 422 0 \nz\n\" transform=\"scale(0.015625)\"/>\n       </defs>\n       <use xlink:href=\"#ArialMT-50\"/>\n       <use xlink:href=\"#ArialMT-65\" x=\"66.699219\"/>\n       <use xlink:href=\"#ArialMT-72\" x=\"122.314453\"/>\n       <use xlink:href=\"#ArialMT-6d\" x=\"155.615234\"/>\n      </g>\n     </g>\n    </g>\n    <g id=\"xtick_4\">\n     <g id=\"line2d_4\"/>\n     <g id=\"text_4\">\n      <!-- AI -->\n      <g style=\"fill: #262626\" transform=\"translate(174.861094 340.867188)scale(0.1 -0.1)\">\n       <defs>\n        <path id=\"ArialMT-41\" d=\"M -9 0 \nL 1750 4581 \nL 2403 4581 \nL 4278 0 \nL 3588 0 \nL 3053 1388 \nL 1138 1388 \nL 634 0 \nL -9 0 \nz\nM 1313 1881 \nL 2866 1881 \nL 2388 3150 \nQ 2169 3728 2063 4100 \nQ 1975 3659 1816 3225 \nL 1313 1881 \nz\n\" transform=\"scale(0.015625)\"/>\n        <path id=\"ArialMT-49\" d=\"M 597 0 \nL 597 4581 \nL 1203 4581 \nL 1203 0 \nL 597 0 \nz\n\" transform=\"scale(0.015625)\"/>\n       </defs>\n       <use xlink:href=\"#ArialMT-41\"/>\n       <use xlink:href=\"#ArialMT-49\" x=\"66.699219\"/>\n      </g>\n     </g>\n    </g>\n    <g id=\"xtick_5\">\n     <g id=\"line2d_5\"/>\n     <g id=\"text_5\">\n      <!-- Brittle -->\n      <g style=\"fill: #262626\" transform=\"translate(211.444844 340.867188)scale(0.1 -0.1)\">\n       <defs>\n        <path id=\"ArialMT-42\" d=\"M 469 0 \nL 469 4581 \nL 2188 4581 \nQ 2713 4581 3030 4442 \nQ 3347 4303 3526 4014 \nQ 3706 3725 3706 3409 \nQ 3706 3116 3547 2856 \nQ 3388 2597 3066 2438 \nQ 3481 2316 3704 2022 \nQ 3928 1728 3928 1328 \nQ 3928 1006 3792 729 \nQ 3656 453 3456 303 \nQ 3256 153 2954 76 \nQ 2653 0 2216 0 \nL 469 0 \nz\nM 1075 2656 \nL 2066 2656 \nQ 2469 2656 2644 2709 \nQ 2875 2778 2992 2937 \nQ 3109 3097 3109 3338 \nQ 3109 3566 3000 3739 \nQ 2891 3913 2687 3977 \nQ 2484 4041 1991 4041 \nL 1075 4041 \nL 1075 2656 \nz\nM 1075 541 \nL 2216 541 \nQ 2509 541 2628 563 \nQ 2838 600 2978 687 \nQ 3119 775 3209 942 \nQ 3300 1109 3300 1328 \nQ 3300 1584 3169 1773 \nQ 3038 1963 2805 2039 \nQ 2572 2116 2134 2116 \nL 1075 2116 \nL 1075 541 \nz\n\" transform=\"scale(0.015625)\"/>\n        <path id=\"ArialMT-69\" d=\"M 425 3934 \nL 425 4581 \nL 988 4581 \nL 988 3934 \nL 425 3934 \nz\nM 425 0 \nL 425 3319 \nL 988 3319 \nL 988 0 \nL 425 0 \nz\n\" transform=\"scale(0.015625)\"/>\n        <path id=\"ArialMT-74\" d=\"M 1650 503 \nL 1731 6 \nQ 1494 -44 1306 -44 \nQ 1000 -44 831 53 \nQ 663 150 594 308 \nQ 525 466 525 972 \nL 525 2881 \nL 113 2881 \nL 113 3319 \nL 525 3319 \nL 525 4141 \nL 1084 4478 \nL 1084 3319 \nL 1650 3319 \nL 1650 2881 \nL 1084 2881 \nL 1084 941 \nQ 1084 700 1114 631 \nQ 1144 563 1211 522 \nQ 1278 481 1403 481 \nQ 1497 481 1650 503 \nz\n\" transform=\"scale(0.015625)\"/>\n       </defs>\n       <use xlink:href=\"#ArialMT-42\"/>\n       <use xlink:href=\"#ArialMT-72\" x=\"66.699219\"/>\n       <use xlink:href=\"#ArialMT-69\" x=\"100\"/>\n       <use xlink:href=\"#ArialMT-74\" x=\"122.216797\"/>\n       <use xlink:href=\"#ArialMT-74\" x=\"150\"/>\n       <use xlink:href=\"#ArialMT-6c\" x=\"177.783203\"/>\n       <use xlink:href=\"#ArialMT-65\" x=\"200\"/>\n      </g>\n     </g>\n    </g>\n    <g id=\"xtick_6\">\n     <g id=\"line2d_6\"/>\n     <g id=\"text_6\">\n      <!-- TOC -->\n      <g style=\"fill: #262626\" transform=\"translate(258.398906 340.867188)scale(0.1 -0.1)\">\n       <defs>\n        <path id=\"ArialMT-54\" d=\"M 1659 0 \nL 1659 4041 \nL 150 4041 \nL 150 4581 \nL 3781 4581 \nL 3781 4041 \nL 2266 4041 \nL 2266 0 \nL 1659 0 \nz\n\" transform=\"scale(0.015625)\"/>\n        <path id=\"ArialMT-4f\" d=\"M 309 2231 \nQ 309 3372 921 4017 \nQ 1534 4663 2503 4663 \nQ 3138 4663 3647 4359 \nQ 4156 4056 4423 3514 \nQ 4691 2972 4691 2284 \nQ 4691 1588 4409 1038 \nQ 4128 488 3612 205 \nQ 3097 -78 2500 -78 \nQ 1853 -78 1343 234 \nQ 834 547 571 1087 \nQ 309 1628 309 2231 \nz\nM 934 2222 \nQ 934 1394 1379 917 \nQ 1825 441 2497 441 \nQ 3181 441 3623 922 \nQ 4066 1403 4066 2288 \nQ 4066 2847 3877 3264 \nQ 3688 3681 3323 3911 \nQ 2959 4141 2506 4141 \nQ 1863 4141 1398 3698 \nQ 934 3256 934 2222 \nz\n\" transform=\"scale(0.015625)\"/>\n        <path id=\"ArialMT-43\" d=\"M 3763 1606 \nL 4369 1453 \nQ 4178 706 3683 314 \nQ 3188 -78 2472 -78 \nQ 1731 -78 1267 223 \nQ 803 525 561 1097 \nQ 319 1669 319 2325 \nQ 319 3041 592 3573 \nQ 866 4106 1370 4382 \nQ 1875 4659 2481 4659 \nQ 3169 4659 3637 4309 \nQ 4106 3959 4291 3325 \nL 3694 3184 \nQ 3534 3684 3231 3912 \nQ 2928 4141 2469 4141 \nQ 1941 4141 1586 3887 \nQ 1231 3634 1087 3207 \nQ 944 2781 944 2328 \nQ 944 1744 1114 1308 \nQ 1284 872 1643 656 \nQ 2003 441 2422 441 \nQ 2931 441 3284 734 \nQ 3638 1028 3763 1606 \nz\n\" transform=\"scale(0.015625)\"/>\n       </defs>\n       <use xlink:href=\"#ArialMT-54\"/>\n       <use xlink:href=\"#ArialMT-4f\" x=\"59.333984\"/>\n       <use xlink:href=\"#ArialMT-43\" x=\"137.117188\"/>\n      </g>\n     </g>\n    </g>\n    <g id=\"xtick_7\">\n     <g id=\"line2d_7\"/>\n     <g id=\"text_7\">\n      <!-- VR -->\n      <g style=\"fill: #262626\" transform=\"translate(306.559219 340.867188)scale(0.1 -0.1)\">\n       <defs>\n        <path id=\"ArialMT-56\" d=\"M 1803 0 \nL 28 4581 \nL 684 4581 \nL 1875 1253 \nQ 2019 853 2116 503 \nQ 2222 878 2363 1253 \nL 3600 4581 \nL 4219 4581 \nL 2425 0 \nL 1803 0 \nz\n\" transform=\"scale(0.015625)\"/>\n        <path id=\"ArialMT-52\" d=\"M 503 0 \nL 503 4581 \nL 2534 4581 \nQ 3147 4581 3465 4457 \nQ 3784 4334 3975 4021 \nQ 4166 3709 4166 3331 \nQ 4166 2844 3850 2509 \nQ 3534 2175 2875 2084 \nQ 3116 1969 3241 1856 \nQ 3506 1613 3744 1247 \nL 4541 0 \nL 3778 0 \nL 3172 953 \nQ 2906 1366 2734 1584 \nQ 2563 1803 2427 1890 \nQ 2291 1978 2150 2013 \nQ 2047 2034 1813 2034 \nL 1109 2034 \nL 1109 0 \nL 503 0 \nz\nM 1109 2559 \nL 2413 2559 \nQ 2828 2559 3062 2645 \nQ 3297 2731 3419 2920 \nQ 3541 3109 3541 3331 \nQ 3541 3656 3305 3865 \nQ 3069 4075 2559 4075 \nL 1109 4075 \nL 1109 2559 \nz\n\" transform=\"scale(0.015625)\"/>\n       </defs>\n       <use xlink:href=\"#ArialMT-56\"/>\n       <use xlink:href=\"#ArialMT-52\" x=\"66.699219\"/>\n      </g>\n     </g>\n    </g>\n    <g id=\"xtick_8\">\n     <g id=\"line2d_8\"/>\n     <g id=\"text_8\">\n      <!-- Prod -->\n      <g style=\"fill: #262626\" transform=\"translate(347.584375 340.867188)scale(0.1 -0.1)\">\n       <defs>\n        <path id=\"ArialMT-64\" d=\"M 2575 0 \nL 2575 419 \nQ 2259 -75 1647 -75 \nQ 1250 -75 917 144 \nQ 584 363 401 755 \nQ 219 1147 219 1656 \nQ 219 2153 384 2558 \nQ 550 2963 881 3178 \nQ 1213 3394 1622 3394 \nQ 1922 3394 2156 3267 \nQ 2391 3141 2538 2938 \nL 2538 4581 \nL 3097 4581 \nL 3097 0 \nL 2575 0 \nz\nM 797 1656 \nQ 797 1019 1065 703 \nQ 1334 388 1700 388 \nQ 2069 388 2326 689 \nQ 2584 991 2584 1609 \nQ 2584 2291 2321 2609 \nQ 2059 2928 1675 2928 \nQ 1300 2928 1048 2622 \nQ 797 2316 797 1656 \nz\n\" transform=\"scale(0.015625)\"/>\n       </defs>\n       <use xlink:href=\"#ArialMT-50\"/>\n       <use xlink:href=\"#ArialMT-72\" x=\"66.699219\"/>\n       <use xlink:href=\"#ArialMT-6f\" x=\"100\"/>\n       <use xlink:href=\"#ArialMT-64\" x=\"155.615234\"/>\n      </g>\n     </g>\n    </g>\n   </g>\n   <g id=\"matplotlib.axis_2\">\n    <g id=\"ytick_1\">\n     <g id=\"line2d_9\"/>\n     <g id=\"text_9\">\n      <!-- Well -->\n      <g style=\"fill: #262626\" transform=\"translate(14.357812 50.48125)rotate(-90)scale(0.1 -0.1)\">\n       <use xlink:href=\"#ArialMT-57\"/>\n       <use xlink:href=\"#ArialMT-65\" x=\"92.634766\"/>\n       <use xlink:href=\"#ArialMT-6c\" x=\"148.25\"/>\n       <use xlink:href=\"#ArialMT-6c\" x=\"170.466797\"/>\n      </g>\n     </g>\n    </g>\n    <g id=\"ytick_2\">\n     <g id=\"line2d_10\"/>\n     <g id=\"text_10\">\n      <!-- Por -->\n      <g style=\"fill: #262626\" transform=\"translate(14.357812 86.742344)rotate(-90)scale(0.1 -0.1)\">\n       <use xlink:href=\"#ArialMT-50\"/>\n       <use xlink:href=\"#ArialMT-6f\" x=\"66.699219\"/>\n       <use xlink:href=\"#ArialMT-72\" x=\"122.314453\"/>\n      </g>\n     </g>\n    </g>\n    <g id=\"ytick_3\">\n     <g id=\"line2d_11\"/>\n     <g id=\"text_11\">\n      <!-- Perm -->\n      <g style=\"fill: #262626\" transform=\"translate(14.357812 129.022187)rotate(-90)scale(0.1 -0.1)\">\n       <use xlink:href=\"#ArialMT-50\"/>\n       <use xlink:href=\"#ArialMT-65\" x=\"66.699219\"/>\n       <use xlink:href=\"#ArialMT-72\" x=\"122.314453\"/>\n       <use xlink:href=\"#ArialMT-6d\" x=\"155.615234\"/>\n      </g>\n     </g>\n    </g>\n    <g id=\"ytick_4\">\n     <g id=\"line2d_12\"/>\n     <g id=\"text_12\">\n      <!-- AI -->\n      <g style=\"fill: #262626\" transform=\"translate(14.357812 159.916094)rotate(-90)scale(0.1 -0.1)\">\n       <use xlink:href=\"#ArialMT-41\"/>\n       <use xlink:href=\"#ArialMT-49\" x=\"66.699219\"/>\n      </g>\n     </g>\n    </g>\n    <g id=\"ytick_5\">\n     <g id=\"line2d_13\"/>\n     <g id=\"text_13\">\n      <!-- Brittle -->\n      <g style=\"fill: #262626\" transform=\"translate(14.357812 206.087344)rotate(-90)scale(0.1 -0.1)\">\n       <use xlink:href=\"#ArialMT-42\"/>\n       <use xlink:href=\"#ArialMT-72\" x=\"66.699219\"/>\n       <use xlink:href=\"#ArialMT-69\" x=\"100\"/>\n       <use xlink:href=\"#ArialMT-74\" x=\"122.216797\"/>\n       <use xlink:href=\"#ArialMT-74\" x=\"150\"/>\n       <use xlink:href=\"#ArialMT-6c\" x=\"177.783203\"/>\n       <use xlink:href=\"#ArialMT-65\" x=\"200\"/>\n      </g>\n     </g>\n    </g>\n    <g id=\"ytick_6\">\n     <g id=\"line2d_14\"/>\n     <g id=\"text_14\">\n      <!-- TOC -->\n      <g style=\"fill: #262626\" transform=\"translate(14.357812 241.888281)rotate(-90)scale(0.1 -0.1)\">\n       <use xlink:href=\"#ArialMT-54\"/>\n       <use xlink:href=\"#ArialMT-4f\" x=\"59.333984\"/>\n       <use xlink:href=\"#ArialMT-43\" x=\"137.117188\"/>\n      </g>\n     </g>\n    </g>\n    <g id=\"ytick_7\">\n     <g id=\"line2d_15\"/>\n     <g id=\"text_15\">\n      <!-- VR -->\n      <g style=\"fill: #262626\" transform=\"translate(14.357812 276.482969)rotate(-90)scale(0.1 -0.1)\">\n       <use xlink:href=\"#ArialMT-56\"/>\n       <use xlink:href=\"#ArialMT-52\" x=\"66.699219\"/>\n      </g>\n     </g>\n    </g>\n    <g id=\"ytick_8\">\n     <g id=\"line2d_16\"/>\n     <g id=\"text_16\">\n      <!-- Prod -->\n      <g style=\"fill: #262626\" transform=\"translate(14.357812 318.212813)rotate(-90)scale(0.1 -0.1)\">\n       <use xlink:href=\"#ArialMT-50\"/>\n       <use xlink:href=\"#ArialMT-72\" x=\"66.699219\"/>\n       <use xlink:href=\"#ArialMT-6f\" x=\"100\"/>\n       <use xlink:href=\"#ArialMT-64\" x=\"155.615234\"/>\n      </g>\n     </g>\n    </g>\n   </g>\n   <g id=\"QuadMesh_1\">\n    <path d=\"M 23.345312 21.789375 \nL 67.985313 21.789375 \nL 67.985313 59.904375 \nL 23.345312 59.904375 \nL 23.345312 21.789375 \n\" clip-path=\"url(#p7bc3462a7d)\" style=\"fill: none\"/>\n    <path d=\"M 67.985313 21.789375 \nL 112.625313 21.789375 \nL 112.625313 59.904375 \nL 67.985313 59.904375 \nL 67.985313 21.789375 \n\" clip-path=\"url(#p7bc3462a7d)\" style=\"fill: none\"/>\n    <path d=\"M 112.625313 21.789375 \nL 157.265313 21.789375 \nL 157.265313 59.904375 \nL 112.625313 59.904375 \nL 112.625313 21.789375 \n\" clip-path=\"url(#p7bc3462a7d)\" style=\"fill: none\"/>\n    <path d=\"M 157.265313 21.789375 \nL 201.905313 21.789375 \nL 201.905313 59.904375 \nL 157.265313 59.904375 \nL 157.265313 21.789375 \n\" clip-path=\"url(#p7bc3462a7d)\" style=\"fill: none\"/>\n    <path d=\"M 201.905313 21.789375 \nL 246.545313 21.789375 \nL 246.545313 59.904375 \nL 201.905313 59.904375 \nL 201.905313 21.789375 \n\" clip-path=\"url(#p7bc3462a7d)\" style=\"fill: none\"/>\n    <path d=\"M 246.545313 21.789375 \nL 291.185313 21.789375 \nL 291.185313 59.904375 \nL 246.545313 59.904375 \nL 246.545313 21.789375 \n\" clip-path=\"url(#p7bc3462a7d)\" style=\"fill: none\"/>\n    <path d=\"M 291.185313 21.789375 \nL 335.825313 21.789375 \nL 335.825313 59.904375 \nL 291.185313 59.904375 \nL 291.185313 21.789375 \n\" clip-path=\"url(#p7bc3462a7d)\" style=\"fill: none\"/>\n    <path d=\"M 335.825313 21.789375 \nL 380.465313 21.789375 \nL 380.465313 59.904375 \nL 335.825313 59.904375 \nL 335.825313 21.789375 \n\" clip-path=\"url(#p7bc3462a7d)\" style=\"fill: none\"/>\n    <path d=\"M 23.345312 59.904375 \nL 67.985313 59.904375 \nL 67.985313 98.019375 \nL 23.345312 98.019375 \nL 23.345312 59.904375 \n\" clip-path=\"url(#p7bc3462a7d)\" style=\"fill: #af1759\"/>\n    <path d=\"M 67.985313 59.904375 \nL 112.625313 59.904375 \nL 112.625313 98.019375 \nL 67.985313 98.019375 \nL 67.985313 59.904375 \n\" clip-path=\"url(#p7bc3462a7d)\" style=\"fill: none\"/>\n    <path d=\"M 112.625313 59.904375 \nL 157.265313 59.904375 \nL 157.265313 98.019375 \nL 112.625313 98.019375 \nL 112.625313 59.904375 \n\" clip-path=\"url(#p7bc3462a7d)\" style=\"fill: none\"/>\n    <path d=\"M 157.265313 59.904375 \nL 201.905313 59.904375 \nL 201.905313 98.019375 \nL 157.265313 98.019375 \nL 157.265313 59.904375 \n\" clip-path=\"url(#p7bc3462a7d)\" style=\"fill: none\"/>\n    <path d=\"M 201.905313 59.904375 \nL 246.545313 59.904375 \nL 246.545313 98.019375 \nL 201.905313 98.019375 \nL 201.905313 59.904375 \n\" clip-path=\"url(#p7bc3462a7d)\" style=\"fill: none\"/>\n    <path d=\"M 246.545313 59.904375 \nL 291.185313 59.904375 \nL 291.185313 98.019375 \nL 246.545313 98.019375 \nL 246.545313 59.904375 \n\" clip-path=\"url(#p7bc3462a7d)\" style=\"fill: none\"/>\n    <path d=\"M 291.185313 59.904375 \nL 335.825313 59.904375 \nL 335.825313 98.019375 \nL 291.185313 98.019375 \nL 291.185313 59.904375 \n\" clip-path=\"url(#p7bc3462a7d)\" style=\"fill: none\"/>\n    <path d=\"M 335.825313 59.904375 \nL 380.465313 59.904375 \nL 380.465313 98.019375 \nL 335.825313 98.019375 \nL 335.825313 59.904375 \n\" clip-path=\"url(#p7bc3462a7d)\" style=\"fill: none\"/>\n    <path d=\"M 23.345312 98.019375 \nL 67.985313 98.019375 \nL 67.985313 136.134375 \nL 23.345312 136.134375 \nL 23.345312 98.019375 \n\" clip-path=\"url(#p7bc3462a7d)\" style=\"fill: #b21758\"/>\n    <path d=\"M 67.985313 98.019375 \nL 112.625313 98.019375 \nL 112.625313 136.134375 \nL 67.985313 136.134375 \nL 67.985313 98.019375 \n\" clip-path=\"url(#p7bc3462a7d)\" style=\"fill: #f7d0b5\"/>\n    <path d=\"M 112.625313 98.019375 \nL 157.265313 98.019375 \nL 157.265313 136.134375 \nL 112.625313 136.134375 \nL 112.625313 98.019375 \n\" clip-path=\"url(#p7bc3462a7d)\" style=\"fill: none\"/>\n    <path d=\"M 157.265313 98.019375 \nL 201.905313 98.019375 \nL 201.905313 136.134375 \nL 157.265313 136.134375 \nL 157.265313 98.019375 \n\" clip-path=\"url(#p7bc3462a7d)\" style=\"fill: none\"/>\n    <path d=\"M 201.905313 98.019375 \nL 246.545313 98.019375 \nL 246.545313 136.134375 \nL 201.905313 136.134375 \nL 201.905313 98.019375 \n\" clip-path=\"url(#p7bc3462a7d)\" style=\"fill: none\"/>\n    <path d=\"M 246.545313 98.019375 \nL 291.185313 98.019375 \nL 291.185313 136.134375 \nL 246.545313 136.134375 \nL 246.545313 98.019375 \n\" clip-path=\"url(#p7bc3462a7d)\" style=\"fill: none\"/>\n    <path d=\"M 291.185313 98.019375 \nL 335.825313 98.019375 \nL 335.825313 136.134375 \nL 291.185313 136.134375 \nL 291.185313 98.019375 \n\" clip-path=\"url(#p7bc3462a7d)\" style=\"fill: none\"/>\n    <path d=\"M 335.825313 98.019375 \nL 380.465313 98.019375 \nL 380.465313 136.134375 \nL 335.825313 136.134375 \nL 335.825313 98.019375 \n\" clip-path=\"url(#p7bc3462a7d)\" style=\"fill: none\"/>\n    <path d=\"M 23.345312 136.134375 \nL 67.985313 136.134375 \nL 67.985313 174.249375 \nL 23.345312 174.249375 \nL 23.345312 136.134375 \n\" clip-path=\"url(#p7bc3462a7d)\" style=\"fill: #a6195a\"/>\n    <path d=\"M 67.985313 136.134375 \nL 112.625313 136.134375 \nL 112.625313 174.249375 \nL 67.985313 174.249375 \nL 67.985313 136.134375 \n\" clip-path=\"url(#p7bc3462a7d)\" style=\"fill: #130d25\"/>\n    <path d=\"M 112.625313 136.134375 \nL 157.265313 136.134375 \nL 157.265313 174.249375 \nL 112.625313 174.249375 \nL 112.625313 136.134375 \n\" clip-path=\"url(#p7bc3462a7d)\" style=\"fill: #501d4c\"/>\n    <path d=\"M 157.265313 136.134375 \nL 201.905313 136.134375 \nL 201.905313 174.249375 \nL 157.265313 174.249375 \nL 157.265313 136.134375 \n\" clip-path=\"url(#p7bc3462a7d)\" style=\"fill: none\"/>\n    <path d=\"M 201.905313 136.134375 \nL 246.545313 136.134375 \nL 246.545313 174.249375 \nL 201.905313 174.249375 \nL 201.905313 136.134375 \n\" clip-path=\"url(#p7bc3462a7d)\" style=\"fill: none\"/>\n    <path d=\"M 246.545313 136.134375 \nL 291.185313 136.134375 \nL 291.185313 174.249375 \nL 246.545313 174.249375 \nL 246.545313 136.134375 \n\" clip-path=\"url(#p7bc3462a7d)\" style=\"fill: none\"/>\n    <path d=\"M 291.185313 136.134375 \nL 335.825313 136.134375 \nL 335.825313 174.249375 \nL 291.185313 174.249375 \nL 291.185313 136.134375 \n\" clip-path=\"url(#p7bc3462a7d)\" style=\"fill: none\"/>\n    <path d=\"M 335.825313 136.134375 \nL 380.465313 136.134375 \nL 380.465313 174.249375 \nL 335.825313 174.249375 \nL 335.825313 136.134375 \n\" clip-path=\"url(#p7bc3462a7d)\" style=\"fill: none\"/>\n    <path d=\"M 23.345312 174.249375 \nL 67.985313 174.249375 \nL 67.985313 212.364375 \nL 23.345312 212.364375 \nL 23.345312 174.249375 \n\" clip-path=\"url(#p7bc3462a7d)\" style=\"fill: #811e5a\"/>\n    <path d=\"M 67.985313 174.249375 \nL 112.625313 174.249375 \nL 112.625313 212.364375 \nL 67.985313 212.364375 \nL 67.985313 174.249375 \n\" clip-path=\"url(#p7bc3462a7d)\" style=\"fill: #561e4f\"/>\n    <path d=\"M 112.625313 174.249375 \nL 157.265313 174.249375 \nL 157.265313 212.364375 \nL 112.625313 212.364375 \nL 112.625313 174.249375 \n\" clip-path=\"url(#p7bc3462a7d)\" style=\"fill: #711f57\"/>\n    <path d=\"M 157.265313 174.249375 \nL 201.905313 174.249375 \nL 201.905313 212.364375 \nL 157.265313 212.364375 \nL 157.265313 174.249375 \n\" clip-path=\"url(#p7bc3462a7d)\" style=\"fill: #c11754\"/>\n    <path d=\"M 201.905313 174.249375 \nL 246.545313 174.249375 \nL 246.545313 212.364375 \nL 201.905313 212.364375 \nL 201.905313 174.249375 \n\" clip-path=\"url(#p7bc3462a7d)\" style=\"fill: none\"/>\n    <path d=\"M 246.545313 174.249375 \nL 291.185313 174.249375 \nL 291.185313 212.364375 \nL 246.545313 212.364375 \nL 246.545313 174.249375 \n\" clip-path=\"url(#p7bc3462a7d)\" style=\"fill: none\"/>\n    <path d=\"M 291.185313 174.249375 \nL 335.825313 174.249375 \nL 335.825313 212.364375 \nL 291.185313 212.364375 \nL 291.185313 174.249375 \n\" clip-path=\"url(#p7bc3462a7d)\" style=\"fill: none\"/>\n    <path d=\"M 335.825313 174.249375 \nL 380.465313 174.249375 \nL 380.465313 212.364375 \nL 335.825313 212.364375 \nL 335.825313 174.249375 \n\" clip-path=\"url(#p7bc3462a7d)\" style=\"fill: none\"/>\n    <path d=\"M 23.345312 212.364375 \nL 67.985313 212.364375 \nL 67.985313 250.479375 \nL 23.345312 250.479375 \nL 23.345312 212.364375 \n\" clip-path=\"url(#p7bc3462a7d)\" style=\"fill: #9f1a5b\"/>\n    <path d=\"M 67.985313 212.364375 \nL 112.625313 212.364375 \nL 112.625313 250.479375 \nL 67.985313 250.479375 \nL 67.985313 212.364375 \n\" clip-path=\"url(#p7bc3462a7d)\" style=\"fill: #f7c2a2\"/>\n    <path d=\"M 112.625313 212.364375 \nL 157.265313 212.364375 \nL 157.265313 250.479375 \nL 112.625313 250.479375 \nL 112.625313 212.364375 \n\" clip-path=\"url(#p7bc3462a7d)\" style=\"fill: #f47a54\"/>\n    <path d=\"M 157.265313 212.364375 \nL 201.905313 212.364375 \nL 201.905313 250.479375 \nL 157.265313 250.479375 \nL 157.265313 212.364375 \n\" clip-path=\"url(#p7bc3462a7d)\" style=\"fill: #03051a\"/>\n    <path d=\"M 201.905313 212.364375 \nL 246.545313 212.364375 \nL 246.545313 250.479375 \nL 201.905313 250.479375 \nL 201.905313 212.364375 \n\" clip-path=\"url(#p7bc3462a7d)\" style=\"fill: #581e4f\"/>\n    <path d=\"M 246.545313 212.364375 \nL 291.185313 212.364375 \nL 291.185313 250.479375 \nL 246.545313 250.479375 \nL 246.545313 212.364375 \n\" clip-path=\"url(#p7bc3462a7d)\" style=\"fill: none\"/>\n    <path d=\"M 291.185313 212.364375 \nL 335.825313 212.364375 \nL 335.825313 250.479375 \nL 291.185313 250.479375 \nL 291.185313 212.364375 \n\" clip-path=\"url(#p7bc3462a7d)\" style=\"fill: none\"/>\n    <path d=\"M 335.825313 212.364375 \nL 380.465313 212.364375 \nL 380.465313 250.479375 \nL 335.825313 250.479375 \nL 335.825313 212.364375 \n\" clip-path=\"url(#p7bc3462a7d)\" style=\"fill: none\"/>\n    <path d=\"M 23.345312 250.479375 \nL 67.985313 250.479375 \nL 67.985313 288.594375 \nL 23.345312 288.594375 \nL 23.345312 250.479375 \n\" clip-path=\"url(#p7bc3462a7d)\" style=\"fill: #971c5b\"/>\n    <path d=\"M 67.985313 250.479375 \nL 112.625313 250.479375 \nL 112.625313 288.594375 \nL 67.985313 288.594375 \nL 67.985313 250.479375 \n\" clip-path=\"url(#p7bc3462a7d)\" style=\"fill: #bc1656\"/>\n    <path d=\"M 112.625313 250.479375 \nL 157.265313 250.479375 \nL 157.265313 288.594375 \nL 112.625313 288.594375 \nL 112.625313 250.479375 \n\" clip-path=\"url(#p7bc3462a7d)\" style=\"fill: #aa185a\"/>\n    <path d=\"M 157.265313 250.479375 \nL 201.905313 250.479375 \nL 201.905313 288.594375 \nL 157.265313 288.594375 \nL 157.265313 250.479375 \n\" clip-path=\"url(#p7bc3462a7d)\" style=\"fill: #f4835b\"/>\n    <path d=\"M 201.905313 250.479375 \nL 246.545313 250.479375 \nL 246.545313 288.594375 \nL 201.905313 288.594375 \nL 201.905313 250.479375 \n\" clip-path=\"url(#p7bc3462a7d)\" style=\"fill: #ea443e\"/>\n    <path d=\"M 246.545313 250.479375 \nL 291.185313 250.479375 \nL 291.185313 288.594375 \nL 246.545313 288.594375 \nL 246.545313 250.479375 \n\" clip-path=\"url(#p7bc3462a7d)\" style=\"fill: #e73d3f\"/>\n    <path d=\"M 291.185313 250.479375 \nL 335.825313 250.479375 \nL 335.825313 288.594375 \nL 291.185313 288.594375 \nL 291.185313 250.479375 \n\" clip-path=\"url(#p7bc3462a7d)\" style=\"fill: none\"/>\n    <path d=\"M 335.825313 250.479375 \nL 380.465313 250.479375 \nL 380.465313 288.594375 \nL 335.825313 288.594375 \nL 335.825313 250.479375 \n\" clip-path=\"url(#p7bc3462a7d)\" style=\"fill: none\"/>\n    <path d=\"M 23.345312 288.594375 \nL 67.985313 288.594375 \nL 67.985313 326.709375 \nL 23.345312 326.709375 \nL 23.345312 288.594375 \n\" clip-path=\"url(#p7bc3462a7d)\" style=\"fill: #a11a5b\"/>\n    <path d=\"M 67.985313 288.594375 \nL 112.625313 288.594375 \nL 112.625313 326.709375 \nL 67.985313 326.709375 \nL 67.985313 288.594375 \n\" clip-path=\"url(#p7bc3462a7d)\" style=\"fill: #faebdd\"/>\n    <path d=\"M 112.625313 288.594375 \nL 157.265313 288.594375 \nL 157.265313 326.709375 \nL 112.625313 326.709375 \nL 112.625313 288.594375 \n\" clip-path=\"url(#p7bc3462a7d)\" style=\"fill: #f7c7a8\"/>\n    <path d=\"M 157.265313 288.594375 \nL 201.905313 288.594375 \nL 201.905313 326.709375 \nL 157.265313 326.709375 \nL 157.265313 288.594375 \n\" clip-path=\"url(#p7bc3462a7d)\" style=\"fill: #251433\"/>\n    <path d=\"M 201.905313 288.594375 \nL 246.545313 288.594375 \nL 246.545313 326.709375 \nL 201.905313 326.709375 \nL 201.905313 288.594375 \n\" clip-path=\"url(#p7bc3462a7d)\" style=\"fill: #dc2b46\"/>\n    <path d=\"M 246.545313 288.594375 \nL 291.185313 288.594375 \nL 291.185313 326.709375 \nL 246.545313 326.709375 \nL 246.545313 288.594375 \n\" clip-path=\"url(#p7bc3462a7d)\" style=\"fill: #f6b18b\"/>\n    <path d=\"M 291.185313 288.594375 \nL 335.825313 288.594375 \nL 335.825313 326.709375 \nL 291.185313 326.709375 \nL 291.185313 288.594375 \n\" clip-path=\"url(#p7bc3462a7d)\" style=\"fill: #eb463e\"/>\n    <path d=\"M 335.825313 288.594375 \nL 380.465313 288.594375 \nL 380.465313 326.709375 \nL 335.825313 326.709375 \nL 335.825313 288.594375 \n\" clip-path=\"url(#p7bc3462a7d)\" style=\"fill: none\"/>\n   </g>\n   <g id=\"text_17\">\n    <!-- 0.07 -->\n    <g style=\"fill: #ffffff\" transform=\"translate(35.934844 81.547031)scale(0.1 -0.1)\">\n     <defs>\n      <path id=\"ArialMT-30\" d=\"M 266 2259 \nQ 266 3072 433 3567 \nQ 600 4063 929 4331 \nQ 1259 4600 1759 4600 \nQ 2128 4600 2406 4451 \nQ 2684 4303 2865 4023 \nQ 3047 3744 3150 3342 \nQ 3253 2941 3253 2259 \nQ 3253 1453 3087 958 \nQ 2922 463 2592 192 \nQ 2263 -78 1759 -78 \nQ 1097 -78 719 397 \nQ 266 969 266 2259 \nz\nM 844 2259 \nQ 844 1131 1108 757 \nQ 1372 384 1759 384 \nQ 2147 384 2411 759 \nQ 2675 1134 2675 2259 \nQ 2675 3391 2411 3762 \nQ 2147 4134 1753 4134 \nQ 1366 4134 1134 3806 \nQ 844 3388 844 2259 \nz\n\" transform=\"scale(0.015625)\"/>\n      <path id=\"ArialMT-2e\" d=\"M 581 0 \nL 581 641 \nL 1222 641 \nL 1222 0 \nL 581 0 \nz\n\" transform=\"scale(0.015625)\"/>\n      <path id=\"ArialMT-37\" d=\"M 303 3981 \nL 303 4522 \nL 3269 4522 \nL 3269 4084 \nQ 2831 3619 2401 2847 \nQ 1972 2075 1738 1259 \nQ 1569 684 1522 0 \nL 944 0 \nQ 953 541 1156 1306 \nQ 1359 2072 1739 2783 \nQ 2119 3494 2547 3981 \nL 303 3981 \nz\n\" transform=\"scale(0.015625)\"/>\n     </defs>\n     <use xlink:href=\"#ArialMT-30\"/>\n     <use xlink:href=\"#ArialMT-2e\" x=\"55.615234\"/>\n     <use xlink:href=\"#ArialMT-30\" x=\"83.398438\"/>\n     <use xlink:href=\"#ArialMT-37\" x=\"139.013672\"/>\n    </g>\n   </g>\n   <g id=\"text_18\">\n    <!-- 0.08 -->\n    <g style=\"fill: #ffffff\" transform=\"translate(35.934844 119.662031)scale(0.1 -0.1)\">\n     <defs>\n      <path id=\"ArialMT-38\" d=\"M 1131 2484 \nQ 781 2613 612 2850 \nQ 444 3088 444 3419 \nQ 444 3919 803 4259 \nQ 1163 4600 1759 4600 \nQ 2359 4600 2725 4251 \nQ 3091 3903 3091 3403 \nQ 3091 3084 2923 2848 \nQ 2756 2613 2416 2484 \nQ 2838 2347 3058 2040 \nQ 3278 1734 3278 1309 \nQ 3278 722 2862 322 \nQ 2447 -78 1769 -78 \nQ 1091 -78 675 323 \nQ 259 725 259 1325 \nQ 259 1772 486 2073 \nQ 713 2375 1131 2484 \nz\nM 1019 3438 \nQ 1019 3113 1228 2906 \nQ 1438 2700 1772 2700 \nQ 2097 2700 2305 2904 \nQ 2513 3109 2513 3406 \nQ 2513 3716 2298 3927 \nQ 2084 4138 1766 4138 \nQ 1444 4138 1231 3931 \nQ 1019 3725 1019 3438 \nz\nM 838 1322 \nQ 838 1081 952 856 \nQ 1066 631 1291 507 \nQ 1516 384 1775 384 \nQ 2178 384 2440 643 \nQ 2703 903 2703 1303 \nQ 2703 1709 2433 1975 \nQ 2163 2241 1756 2241 \nQ 1359 2241 1098 1978 \nQ 838 1716 838 1322 \nz\n\" transform=\"scale(0.015625)\"/>\n     </defs>\n     <use xlink:href=\"#ArialMT-30\"/>\n     <use xlink:href=\"#ArialMT-2e\" x=\"55.615234\"/>\n     <use xlink:href=\"#ArialMT-30\" x=\"83.398438\"/>\n     <use xlink:href=\"#ArialMT-38\" x=\"139.013672\"/>\n    </g>\n   </g>\n   <g id=\"text_19\">\n    <!-- 0.76 -->\n    <g style=\"fill: #262626\" transform=\"translate(80.574844 119.662031)scale(0.1 -0.1)\">\n     <defs>\n      <path id=\"ArialMT-36\" d=\"M 3184 3459 \nL 2625 3416 \nQ 2550 3747 2413 3897 \nQ 2184 4138 1850 4138 \nQ 1581 4138 1378 3988 \nQ 1113 3794 959 3422 \nQ 806 3050 800 2363 \nQ 1003 2672 1297 2822 \nQ 1591 2972 1913 2972 \nQ 2475 2972 2870 2558 \nQ 3266 2144 3266 1488 \nQ 3266 1056 3080 686 \nQ 2894 316 2569 119 \nQ 2244 -78 1831 -78 \nQ 1128 -78 684 439 \nQ 241 956 241 2144 \nQ 241 3472 731 4075 \nQ 1159 4600 1884 4600 \nQ 2425 4600 2770 4297 \nQ 3116 3994 3184 3459 \nz\nM 888 1484 \nQ 888 1194 1011 928 \nQ 1134 663 1356 523 \nQ 1578 384 1822 384 \nQ 2178 384 2434 671 \nQ 2691 959 2691 1453 \nQ 2691 1928 2437 2201 \nQ 2184 2475 1800 2475 \nQ 1419 2475 1153 2201 \nQ 888 1928 888 1484 \nz\n\" transform=\"scale(0.015625)\"/>\n     </defs>\n     <use xlink:href=\"#ArialMT-30\"/>\n     <use xlink:href=\"#ArialMT-2e\" x=\"55.615234\"/>\n     <use xlink:href=\"#ArialMT-37\" x=\"83.398438\"/>\n     <use xlink:href=\"#ArialMT-36\" x=\"139.013672\"/>\n    </g>\n   </g>\n   <g id=\"text_20\">\n    <!-- 0.04 -->\n    <g style=\"fill: #ffffff\" transform=\"translate(35.934844 157.777031)scale(0.1 -0.1)\">\n     <defs>\n      <path id=\"ArialMT-34\" d=\"M 2069 0 \nL 2069 1097 \nL 81 1097 \nL 81 1613 \nL 2172 4581 \nL 2631 4581 \nL 2631 1613 \nL 3250 1613 \nL 3250 1097 \nL 2631 1097 \nL 2631 0 \nL 2069 0 \nz\nM 2069 1613 \nL 2069 3678 \nL 634 1613 \nL 2069 1613 \nz\n\" transform=\"scale(0.015625)\"/>\n     </defs>\n     <use xlink:href=\"#ArialMT-30\"/>\n     <use xlink:href=\"#ArialMT-2e\" x=\"55.615234\"/>\n     <use xlink:href=\"#ArialMT-30\" x=\"83.398438\"/>\n     <use xlink:href=\"#ArialMT-34\" x=\"139.013672\"/>\n    </g>\n   </g>\n   <g id=\"text_21\">\n    <!-- -0.46 -->\n    <g style=\"fill: #ffffff\" transform=\"translate(78.91 157.777031)scale(0.1 -0.1)\">\n     <defs>\n      <path id=\"ArialMT-2d\" d=\"M 203 1375 \nL 203 1941 \nL 1931 1941 \nL 1931 1375 \nL 203 1375 \nz\n\" transform=\"scale(0.015625)\"/>\n     </defs>\n     <use xlink:href=\"#ArialMT-2d\"/>\n     <use xlink:href=\"#ArialMT-30\" x=\"33.300781\"/>\n     <use xlink:href=\"#ArialMT-2e\" x=\"88.916016\"/>\n     <use xlink:href=\"#ArialMT-34\" x=\"116.699219\"/>\n     <use xlink:href=\"#ArialMT-36\" x=\"172.314453\"/>\n    </g>\n   </g>\n   <g id=\"text_22\">\n    <!-- -0.24 -->\n    <g style=\"fill: #ffffff\" transform=\"translate(123.55 157.777031)scale(0.1 -0.1)\">\n     <defs>\n      <path id=\"ArialMT-32\" d=\"M 3222 541 \nL 3222 0 \nL 194 0 \nQ 188 203 259 391 \nQ 375 700 629 1000 \nQ 884 1300 1366 1694 \nQ 2113 2306 2375 2664 \nQ 2638 3022 2638 3341 \nQ 2638 3675 2398 3904 \nQ 2159 4134 1775 4134 \nQ 1369 4134 1125 3890 \nQ 881 3647 878 3216 \nL 300 3275 \nQ 359 3922 746 4261 \nQ 1134 4600 1788 4600 \nQ 2447 4600 2831 4234 \nQ 3216 3869 3216 3328 \nQ 3216 3053 3103 2787 \nQ 2991 2522 2730 2228 \nQ 2469 1934 1863 1422 \nQ 1356 997 1212 845 \nQ 1069 694 975 541 \nL 3222 541 \nz\n\" transform=\"scale(0.015625)\"/>\n     </defs>\n     <use xlink:href=\"#ArialMT-2d\"/>\n     <use xlink:href=\"#ArialMT-30\" x=\"33.300781\"/>\n     <use xlink:href=\"#ArialMT-2e\" x=\"88.916016\"/>\n     <use xlink:href=\"#ArialMT-32\" x=\"116.699219\"/>\n     <use xlink:href=\"#ArialMT-34\" x=\"172.314453\"/>\n    </g>\n   </g>\n   <g id=\"text_23\">\n    <!-- -0.08 -->\n    <g style=\"fill: #ffffff\" transform=\"translate(34.27 195.892031)scale(0.1 -0.1)\">\n     <use xlink:href=\"#ArialMT-2d\"/>\n     <use xlink:href=\"#ArialMT-30\" x=\"33.300781\"/>\n     <use xlink:href=\"#ArialMT-2e\" x=\"88.916016\"/>\n     <use xlink:href=\"#ArialMT-30\" x=\"116.699219\"/>\n     <use xlink:href=\"#ArialMT-38\" x=\"172.314453\"/>\n    </g>\n   </g>\n   <g id=\"text_24\">\n    <!-- -0.22 -->\n    <g style=\"fill: #ffffff\" transform=\"translate(78.91 195.892031)scale(0.1 -0.1)\">\n     <use xlink:href=\"#ArialMT-2d\"/>\n     <use xlink:href=\"#ArialMT-30\" x=\"33.300781\"/>\n     <use xlink:href=\"#ArialMT-2e\" x=\"88.916016\"/>\n     <use xlink:href=\"#ArialMT-32\" x=\"116.699219\"/>\n     <use xlink:href=\"#ArialMT-32\" x=\"172.314453\"/>\n    </g>\n   </g>\n   <g id=\"text_25\">\n    <!-- -0.12 -->\n    <g style=\"fill: #ffffff\" transform=\"translate(123.55 195.892031)scale(0.1 -0.1)\">\n     <defs>\n      <path id=\"ArialMT-31\" d=\"M 2384 0 \nL 1822 0 \nL 1822 3584 \nQ 1619 3391 1289 3197 \nQ 959 3003 697 2906 \nL 697 3450 \nQ 1169 3672 1522 3987 \nQ 1875 4303 2022 4600 \nL 2384 4600 \nL 2384 0 \nz\n\" transform=\"scale(0.015625)\"/>\n     </defs>\n     <use xlink:href=\"#ArialMT-2d\"/>\n     <use xlink:href=\"#ArialMT-30\" x=\"33.300781\"/>\n     <use xlink:href=\"#ArialMT-2e\" x=\"88.916016\"/>\n     <use xlink:href=\"#ArialMT-31\" x=\"116.699219\"/>\n     <use xlink:href=\"#ArialMT-32\" x=\"172.314453\"/>\n    </g>\n   </g>\n   <g id=\"text_26\">\n    <!-- 0.13 -->\n    <g style=\"fill: #ffffff\" transform=\"translate(169.854844 195.892031)scale(0.1 -0.1)\">\n     <defs>\n      <path id=\"ArialMT-33\" d=\"M 269 1209 \nL 831 1284 \nQ 928 806 1161 595 \nQ 1394 384 1728 384 \nQ 2125 384 2398 659 \nQ 2672 934 2672 1341 \nQ 2672 1728 2419 1979 \nQ 2166 2231 1775 2231 \nQ 1616 2231 1378 2169 \nL 1441 2663 \nQ 1497 2656 1531 2656 \nQ 1891 2656 2178 2843 \nQ 2466 3031 2466 3422 \nQ 2466 3731 2256 3934 \nQ 2047 4138 1716 4138 \nQ 1388 4138 1169 3931 \nQ 950 3725 888 3313 \nL 325 3413 \nQ 428 3978 793 4289 \nQ 1159 4600 1703 4600 \nQ 2078 4600 2393 4439 \nQ 2709 4278 2876 4000 \nQ 3044 3722 3044 3409 \nQ 3044 3113 2884 2869 \nQ 2725 2625 2413 2481 \nQ 2819 2388 3044 2092 \nQ 3269 1797 3269 1353 \nQ 3269 753 2831 336 \nQ 2394 -81 1725 -81 \nQ 1122 -81 723 278 \nQ 325 638 269 1209 \nz\n\" transform=\"scale(0.015625)\"/>\n     </defs>\n     <use xlink:href=\"#ArialMT-30\"/>\n     <use xlink:href=\"#ArialMT-2e\" x=\"55.615234\"/>\n     <use xlink:href=\"#ArialMT-31\" x=\"83.398438\"/>\n     <use xlink:href=\"#ArialMT-33\" x=\"139.013672\"/>\n    </g>\n   </g>\n   <g id=\"text_27\">\n    <!-- 0.02 -->\n    <g style=\"fill: #ffffff\" transform=\"translate(35.934844 234.007031)scale(0.1 -0.1)\">\n     <use xlink:href=\"#ArialMT-30\"/>\n     <use xlink:href=\"#ArialMT-2e\" x=\"55.615234\"/>\n     <use xlink:href=\"#ArialMT-30\" x=\"83.398438\"/>\n     <use xlink:href=\"#ArialMT-32\" x=\"139.013672\"/>\n    </g>\n   </g>\n   <g id=\"text_28\">\n    <!-- 0.71 -->\n    <g style=\"fill: #262626\" transform=\"translate(80.574844 234.007031)scale(0.1 -0.1)\">\n     <use xlink:href=\"#ArialMT-30\"/>\n     <use xlink:href=\"#ArialMT-2e\" x=\"55.615234\"/>\n     <use xlink:href=\"#ArialMT-37\" x=\"83.398438\"/>\n     <use xlink:href=\"#ArialMT-31\" x=\"139.013672\"/>\n    </g>\n   </g>\n   <g id=\"text_29\">\n    <!-- 0.47 -->\n    <g style=\"fill: #ffffff\" transform=\"translate(125.214844 234.007031)scale(0.1 -0.1)\">\n     <use xlink:href=\"#ArialMT-30\"/>\n     <use xlink:href=\"#ArialMT-2e\" x=\"55.615234\"/>\n     <use xlink:href=\"#ArialMT-34\" x=\"83.398438\"/>\n     <use xlink:href=\"#ArialMT-37\" x=\"139.013672\"/>\n    </g>\n   </g>\n   <g id=\"text_30\">\n    <!-- -0.53 -->\n    <g style=\"fill: #ffffff\" transform=\"translate(168.19 234.007031)scale(0.1 -0.1)\">\n     <defs>\n      <path id=\"ArialMT-35\" d=\"M 266 1200 \nL 856 1250 \nQ 922 819 1161 601 \nQ 1400 384 1738 384 \nQ 2144 384 2425 690 \nQ 2706 997 2706 1503 \nQ 2706 1984 2436 2262 \nQ 2166 2541 1728 2541 \nQ 1456 2541 1237 2417 \nQ 1019 2294 894 2097 \nL 366 2166 \nL 809 4519 \nL 3088 4519 \nL 3088 3981 \nL 1259 3981 \nL 1013 2750 \nQ 1425 3038 1878 3038 \nQ 2478 3038 2890 2622 \nQ 3303 2206 3303 1553 \nQ 3303 931 2941 478 \nQ 2500 -78 1738 -78 \nQ 1113 -78 717 272 \nQ 322 622 266 1200 \nz\n\" transform=\"scale(0.015625)\"/>\n     </defs>\n     <use xlink:href=\"#ArialMT-2d\"/>\n     <use xlink:href=\"#ArialMT-30\" x=\"33.300781\"/>\n     <use xlink:href=\"#ArialMT-2e\" x=\"88.916016\"/>\n     <use xlink:href=\"#ArialMT-35\" x=\"116.699219\"/>\n     <use xlink:href=\"#ArialMT-33\" x=\"172.314453\"/>\n    </g>\n   </g>\n   <g id=\"text_31\">\n    <!-- -0.21 -->\n    <g style=\"fill: #ffffff\" transform=\"translate(212.83 234.007031)scale(0.1 -0.1)\">\n     <use xlink:href=\"#ArialMT-2d\"/>\n     <use xlink:href=\"#ArialMT-30\" x=\"33.300781\"/>\n     <use xlink:href=\"#ArialMT-2e\" x=\"88.916016\"/>\n     <use xlink:href=\"#ArialMT-32\" x=\"116.699219\"/>\n     <use xlink:href=\"#ArialMT-31\" x=\"172.314453\"/>\n    </g>\n   </g>\n   <g id=\"text_32\">\n    <!-- -0.01 -->\n    <g style=\"fill: #ffffff\" transform=\"translate(34.27 272.122031)scale(0.1 -0.1)\">\n     <use xlink:href=\"#ArialMT-2d\"/>\n     <use xlink:href=\"#ArialMT-30\" x=\"33.300781\"/>\n     <use xlink:href=\"#ArialMT-2e\" x=\"88.916016\"/>\n     <use xlink:href=\"#ArialMT-30\" x=\"116.699219\"/>\n     <use xlink:href=\"#ArialMT-31\" x=\"172.314453\"/>\n    </g>\n   </g>\n   <g id=\"text_33\">\n    <!-- 0.11 -->\n    <g style=\"fill: #ffffff\" transform=\"translate(80.943594 272.122031)scale(0.1 -0.1)\">\n     <use xlink:href=\"#ArialMT-30\"/>\n     <use xlink:href=\"#ArialMT-2e\" x=\"55.615234\"/>\n     <use xlink:href=\"#ArialMT-31\" x=\"83.398438\"/>\n     <use xlink:href=\"#ArialMT-31\" x=\"131.638672\"/>\n    </g>\n   </g>\n   <g id=\"text_34\">\n    <!-- 0.05 -->\n    <g style=\"fill: #ffffff\" transform=\"translate(125.214844 272.122031)scale(0.1 -0.1)\">\n     <use xlink:href=\"#ArialMT-30\"/>\n     <use xlink:href=\"#ArialMT-2e\" x=\"55.615234\"/>\n     <use xlink:href=\"#ArialMT-30\" x=\"83.398438\"/>\n     <use xlink:href=\"#ArialMT-35\" x=\"139.013672\"/>\n    </g>\n   </g>\n   <g id=\"text_35\">\n    <!-- 0.50 -->\n    <g style=\"fill: #ffffff\" transform=\"translate(169.854844 272.122031)scale(0.1 -0.1)\">\n     <use xlink:href=\"#ArialMT-30\"/>\n     <use xlink:href=\"#ArialMT-2e\" x=\"55.615234\"/>\n     <use xlink:href=\"#ArialMT-35\" x=\"83.398438\"/>\n     <use xlink:href=\"#ArialMT-30\" x=\"139.013672\"/>\n    </g>\n   </g>\n   <g id=\"text_36\">\n    <!-- 0.32 -->\n    <g style=\"fill: #ffffff\" transform=\"translate(214.494844 272.122031)scale(0.1 -0.1)\">\n     <use xlink:href=\"#ArialMT-30\"/>\n     <use xlink:href=\"#ArialMT-2e\" x=\"55.615234\"/>\n     <use xlink:href=\"#ArialMT-33\" x=\"83.398438\"/>\n     <use xlink:href=\"#ArialMT-32\" x=\"139.013672\"/>\n    </g>\n   </g>\n   <g id=\"text_37\">\n    <!-- 0.30 -->\n    <g style=\"fill: #ffffff\" transform=\"translate(259.134844 272.122031)scale(0.1 -0.1)\">\n     <use xlink:href=\"#ArialMT-30\"/>\n     <use xlink:href=\"#ArialMT-2e\" x=\"55.615234\"/>\n     <use xlink:href=\"#ArialMT-33\" x=\"83.398438\"/>\n     <use xlink:href=\"#ArialMT-30\" x=\"139.013672\"/>\n    </g>\n   </g>\n   <g id=\"text_38\">\n    <!-- 0.03 -->\n    <g style=\"fill: #ffffff\" transform=\"translate(35.934844 310.237031)scale(0.1 -0.1)\">\n     <use xlink:href=\"#ArialMT-30\"/>\n     <use xlink:href=\"#ArialMT-2e\" x=\"55.615234\"/>\n     <use xlink:href=\"#ArialMT-30\" x=\"83.398438\"/>\n     <use xlink:href=\"#ArialMT-33\" x=\"139.013672\"/>\n    </g>\n   </g>\n   <g id=\"text_39\">\n    <!-- 0.86 -->\n    <g style=\"fill: #262626\" transform=\"translate(80.574844 310.237031)scale(0.1 -0.1)\">\n     <use xlink:href=\"#ArialMT-30\"/>\n     <use xlink:href=\"#ArialMT-2e\" x=\"55.615234\"/>\n     <use xlink:href=\"#ArialMT-38\" x=\"83.398438\"/>\n     <use xlink:href=\"#ArialMT-36\" x=\"139.013672\"/>\n    </g>\n   </g>\n   <g id=\"text_40\">\n    <!-- 0.73 -->\n    <g style=\"fill: #262626\" transform=\"translate(125.214844 310.237031)scale(0.1 -0.1)\">\n     <use xlink:href=\"#ArialMT-30\"/>\n     <use xlink:href=\"#ArialMT-2e\" x=\"55.615234\"/>\n     <use xlink:href=\"#ArialMT-37\" x=\"83.398438\"/>\n     <use xlink:href=\"#ArialMT-33\" x=\"139.013672\"/>\n    </g>\n   </g>\n   <g id=\"text_41\">\n    <!-- -0.39 -->\n    <g style=\"fill: #ffffff\" transform=\"translate(168.19 310.237031)scale(0.1 -0.1)\">\n     <defs>\n      <path id=\"ArialMT-39\" d=\"M 350 1059 \nL 891 1109 \nQ 959 728 1153 556 \nQ 1347 384 1650 384 \nQ 1909 384 2104 503 \nQ 2300 622 2425 820 \nQ 2550 1019 2634 1356 \nQ 2719 1694 2719 2044 \nQ 2719 2081 2716 2156 \nQ 2547 1888 2255 1720 \nQ 1963 1553 1622 1553 \nQ 1053 1553 659 1965 \nQ 266 2378 266 3053 \nQ 266 3750 677 4175 \nQ 1088 4600 1706 4600 \nQ 2153 4600 2523 4359 \nQ 2894 4119 3086 3673 \nQ 3278 3228 3278 2384 \nQ 3278 1506 3087 986 \nQ 2897 466 2520 194 \nQ 2144 -78 1638 -78 \nQ 1100 -78 759 220 \nQ 419 519 350 1059 \nz\nM 2653 3081 \nQ 2653 3566 2395 3850 \nQ 2138 4134 1775 4134 \nQ 1400 4134 1122 3828 \nQ 844 3522 844 3034 \nQ 844 2597 1108 2323 \nQ 1372 2050 1759 2050 \nQ 2150 2050 2401 2323 \nQ 2653 2597 2653 3081 \nz\n\" transform=\"scale(0.015625)\"/>\n     </defs>\n     <use xlink:href=\"#ArialMT-2d\"/>\n     <use xlink:href=\"#ArialMT-30\" x=\"33.300781\"/>\n     <use xlink:href=\"#ArialMT-2e\" x=\"88.916016\"/>\n     <use xlink:href=\"#ArialMT-33\" x=\"116.699219\"/>\n     <use xlink:href=\"#ArialMT-39\" x=\"172.314453\"/>\n    </g>\n   </g>\n   <g id=\"text_42\">\n    <!-- 0.24 -->\n    <g style=\"fill: #ffffff\" transform=\"translate(214.494844 310.237031)scale(0.1 -0.1)\">\n     <use xlink:href=\"#ArialMT-30\"/>\n     <use xlink:href=\"#ArialMT-2e\" x=\"55.615234\"/>\n     <use xlink:href=\"#ArialMT-32\" x=\"83.398438\"/>\n     <use xlink:href=\"#ArialMT-34\" x=\"139.013672\"/>\n    </g>\n   </g>\n   <g id=\"text_43\">\n    <!-- 0.65 -->\n    <g style=\"fill: #262626\" transform=\"translate(259.134844 310.237031)scale(0.1 -0.1)\">\n     <use xlink:href=\"#ArialMT-30\"/>\n     <use xlink:href=\"#ArialMT-2e\" x=\"55.615234\"/>\n     <use xlink:href=\"#ArialMT-36\" x=\"83.398438\"/>\n     <use xlink:href=\"#ArialMT-35\" x=\"139.013672\"/>\n    </g>\n   </g>\n   <g id=\"text_44\">\n    <!-- 0.32 -->\n    <g style=\"fill: #ffffff\" transform=\"translate(303.774844 310.237031)scale(0.1 -0.1)\">\n     <use xlink:href=\"#ArialMT-30\"/>\n     <use xlink:href=\"#ArialMT-2e\" x=\"55.615234\"/>\n     <use xlink:href=\"#ArialMT-33\" x=\"83.398438\"/>\n     <use xlink:href=\"#ArialMT-32\" x=\"139.013672\"/>\n    </g>\n   </g>\n   <g id=\"text_45\">\n    <!-- Тепловая карта матрицы корреляций -->\n    <g style=\"fill: #262626\" transform=\"translate(97.827813 15.789375)scale(0.12 -0.12)\">\n     <defs>\n      <path id=\"ArialMT-422\" d=\"M 1659 0 \nL 1659 4041 \nL 150 4041 \nL 150 4581 \nL 3781 4581 \nL 3781 4041 \nL 2266 4041 \nL 2266 0 \nL 1659 0 \nz\n\" transform=\"scale(0.015625)\"/>\n      <path id=\"ArialMT-435\" d=\"M 2694 1069 \nL 3275 997 \nQ 3138 488 2766 206 \nQ 2394 -75 1816 -75 \nQ 1088 -75 661 373 \nQ 234 822 234 1631 \nQ 234 2469 665 2931 \nQ 1097 3394 1784 3394 \nQ 2450 3394 2872 2941 \nQ 3294 2488 3294 1666 \nQ 3294 1616 3291 1516 \nL 816 1516 \nQ 847 969 1125 678 \nQ 1403 388 1819 388 \nQ 2128 388 2347 550 \nQ 2566 713 2694 1069 \nz\nM 847 1978 \nL 2700 1978 \nQ 2663 2397 2488 2606 \nQ 2219 2931 1791 2931 \nQ 1403 2931 1139 2672 \nQ 875 2413 847 1978 \nz\n\" transform=\"scale(0.015625)\"/>\n      <path id=\"ArialMT-43f\" d=\"M 425 3319 \nL 3044 3319 \nL 3044 0 \nL 2481 0 \nL 2481 2853 \nL 988 2853 \nL 988 0 \nL 425 0 \nL 425 3319 \nz\n\" transform=\"scale(0.015625)\"/>\n      <path id=\"ArialMT-43b\" d=\"M 697 3319 \nL 3309 3319 \nL 3309 0 \nL 2750 0 \nL 2750 2853 \nL 1259 2853 \nL 1259 1200 \nQ 1259 622 1221 437 \nQ 1184 253 1015 115 \nQ 847 -22 528 -22 \nQ 331 -22 75 3 \nL 75 472 \nL 322 472 \nQ 497 472 572 508 \nQ 647 544 672 622 \nQ 697 700 697 1131 \nL 697 3319 \nz\n\" transform=\"scale(0.015625)\"/>\n      <path id=\"ArialMT-43e\" d=\"M 213 1659 \nQ 213 2581 725 3025 \nQ 1153 3394 1769 3394 \nQ 2453 3394 2887 2945 \nQ 3322 2497 3322 1706 \nQ 3322 1066 3130 698 \nQ 2938 331 2570 128 \nQ 2203 -75 1769 -75 \nQ 1072 -75 642 372 \nQ 213 819 213 1659 \nz\nM 791 1659 \nQ 791 1022 1069 705 \nQ 1347 388 1769 388 \nQ 2188 388 2466 706 \nQ 2744 1025 2744 1678 \nQ 2744 2294 2464 2611 \nQ 2184 2928 1769 2928 \nQ 1347 2928 1069 2612 \nQ 791 2297 791 1659 \nz\n\" transform=\"scale(0.015625)\"/>\n      <path id=\"ArialMT-432\" d=\"M 425 3319 \nL 1722 3319 \nQ 2200 3319 2433 3239 \nQ 2666 3159 2833 2946 \nQ 3000 2734 3000 2438 \nQ 3000 2200 2901 2023 \nQ 2803 1847 2606 1728 \nQ 2841 1650 2995 1436 \nQ 3150 1222 3150 928 \nQ 3119 456 2812 228 \nQ 2506 0 1922 0 \nL 425 0 \nL 425 3319 \nz\nM 988 1922 \nL 1588 1922 \nQ 1947 1922 2081 1959 \nQ 2216 1997 2322 2111 \nQ 2428 2225 2428 2384 \nQ 2428 2647 2242 2750 \nQ 2056 2853 1606 2853 \nL 988 2853 \nL 988 1922 \nz\nM 988 463 \nL 1728 463 \nQ 2206 463 2384 573 \nQ 2563 684 2572 956 \nQ 2572 1116 2469 1252 \nQ 2366 1388 2200 1423 \nQ 2034 1459 1669 1459 \nL 988 1459 \nL 988 463 \nz\n\" transform=\"scale(0.015625)\"/>\n      <path id=\"ArialMT-430\" d=\"M 2588 409 \nQ 2275 144 1986 34 \nQ 1697 -75 1366 -75 \nQ 819 -75 525 192 \nQ 231 459 231 875 \nQ 231 1119 342 1320 \nQ 453 1522 633 1644 \nQ 813 1766 1038 1828 \nQ 1203 1872 1538 1913 \nQ 2219 1994 2541 2106 \nQ 2544 2222 2544 2253 \nQ 2544 2597 2384 2738 \nQ 2169 2928 1744 2928 \nQ 1347 2928 1158 2789 \nQ 969 2650 878 2297 \nL 328 2372 \nQ 403 2725 575 2942 \nQ 747 3159 1072 3276 \nQ 1397 3394 1825 3394 \nQ 2250 3394 2515 3294 \nQ 2781 3194 2906 3042 \nQ 3031 2891 3081 2659 \nQ 3109 2516 3109 2141 \nL 3109 1391 \nQ 3109 606 3145 398 \nQ 3181 191 3288 0 \nL 2700 0 \nQ 2613 175 2588 409 \nz\nM 2541 1666 \nQ 2234 1541 1622 1453 \nQ 1275 1403 1131 1340 \nQ 988 1278 909 1158 \nQ 831 1038 831 891 \nQ 831 666 1001 516 \nQ 1172 366 1500 366 \nQ 1825 366 2078 508 \nQ 2331 650 2450 897 \nQ 2541 1088 2541 1459 \nL 2541 1666 \nz\n\" transform=\"scale(0.015625)\"/>\n      <path id=\"ArialMT-44f\" d=\"M 3034 3319 \nL 3034 0 \nL 2475 0 \nL 2475 1294 \nL 2150 1294 \nQ 1853 1294 1708 1217 \nQ 1563 1141 1284 725 \nL 794 0 \nL 97 0 \nL 703 894 \nQ 981 1303 1256 1356 \nQ 775 1422 542 1703 \nQ 309 1984 309 2350 \nQ 309 2781 614 3050 \nQ 919 3319 1497 3319 \nL 3034 3319 \nz\nM 2475 2853 \nL 1675 2853 \nQ 1172 2853 1026 2697 \nQ 881 2541 881 2331 \nQ 881 2034 1095 1895 \nQ 1309 1756 1853 1756 \nL 2475 1756 \nL 2475 2853 \nz\n\" transform=\"scale(0.015625)\"/>\n      <path id=\"ArialMT-20\" transform=\"scale(0.015625)\"/>\n      <path id=\"ArialMT-43a\" d=\"M 419 3319 \nL 981 3319 \nL 981 1884 \nQ 1250 1884 1358 1987 \nQ 1466 2091 1675 2588 \nQ 1841 2981 1944 3106 \nQ 2047 3231 2181 3275 \nQ 2316 3319 2613 3319 \nL 2725 3319 \nL 2725 2853 \nL 2569 2856 \nQ 2347 2856 2284 2791 \nQ 2219 2722 2084 2381 \nQ 1956 2056 1850 1931 \nQ 1744 1806 1522 1703 \nQ 1884 1606 2234 1028 \nL 2850 0 \nL 2231 0 \nL 1631 1028 \nQ 1447 1338 1309 1436 \nQ 1172 1534 981 1534 \nL 981 0 \nL 419 0 \nL 419 3319 \nz\n\" transform=\"scale(0.015625)\"/>\n      <path id=\"ArialMT-440\" d=\"M 422 -1272 \nL 422 3319 \nL 934 3319 \nL 934 2888 \nQ 1116 3141 1344 3267 \nQ 1572 3394 1897 3394 \nQ 2322 3394 2647 3175 \nQ 2972 2956 3137 2557 \nQ 3303 2159 3303 1684 \nQ 3303 1175 3120 767 \nQ 2938 359 2589 142 \nQ 2241 -75 1856 -75 \nQ 1575 -75 1351 44 \nQ 1128 163 984 344 \nL 984 -1272 \nL 422 -1272 \nz\nM 931 1641 \nQ 931 1000 1190 694 \nQ 1450 388 1819 388 \nQ 2194 388 2461 705 \nQ 2728 1022 2728 1688 \nQ 2728 2322 2467 2637 \nQ 2206 2953 1844 2953 \nQ 1484 2953 1207 2617 \nQ 931 2281 931 1641 \nz\n\" transform=\"scale(0.015625)\"/>\n      <path id=\"ArialMT-442\" d=\"M 119 3319 \nL 2816 3319 \nL 2816 2853 \nL 1747 2853 \nL 1747 0 \nL 1188 0 \nL 1188 2853 \nL 119 2853 \nL 119 3319 \nz\n\" transform=\"scale(0.015625)\"/>\n      <path id=\"ArialMT-43c\" d=\"M 438 3319 \nL 1313 3319 \nL 2184 663 \nL 3153 3319 \nL 3963 3319 \nL 3963 0 \nL 3400 0 \nL 3400 2672 \nL 2419 0 \nL 1916 0 \nL 988 2800 \nL 988 0 \nL 438 0 \nL 438 3319 \nz\n\" transform=\"scale(0.015625)\"/>\n      <path id=\"ArialMT-438\" d=\"M 422 3319 \nL 984 3319 \nL 984 788 \nL 2544 3319 \nL 3150 3319 \nL 3150 0 \nL 2588 0 \nL 2588 2516 \nL 1028 0 \nL 422 0 \nL 422 3319 \nz\n\" transform=\"scale(0.015625)\"/>\n      <path id=\"ArialMT-446\" d=\"M 431 3319 \nL 994 3319 \nL 994 463 \nL 2550 463 \nL 2550 3319 \nL 3113 3319 \nL 3113 463 \nL 3475 463 \nL 3475 -941 \nL 3013 -941 \nL 3013 0 \nL 431 0 \nL 431 3319 \nz\n\" transform=\"scale(0.015625)\"/>\n      <path id=\"ArialMT-44b\" d=\"M 3581 3319 \nL 4144 3319 \nL 4144 0 \nL 3581 0 \nL 3581 3319 \nz\nM 434 3319 \nL 997 3319 \nL 997 2022 \nL 1709 2022 \nQ 2406 2022 2782 1751 \nQ 3159 1481 3159 1006 \nQ 3159 591 2845 295 \nQ 2531 0 1841 0 \nL 434 0 \nL 434 3319 \nz\nM 997 463 \nL 1588 463 \nQ 2122 463 2350 594 \nQ 2578 725 2578 1003 \nQ 2578 1219 2409 1387 \nQ 2241 1556 1663 1556 \nL 997 1556 \nL 997 463 \nz\n\" transform=\"scale(0.015625)\"/>\n      <path id=\"ArialMT-439\" d=\"M 422 3319 \nL 984 3319 \nL 984 788 \nL 2544 3319 \nL 3150 3319 \nL 3150 0 \nL 2588 0 \nL 2588 2516 \nL 1028 0 \nL 422 0 \nL 422 3319 \nz\nM 2375 4575 \nL 2759 4575 \nQ 2713 4184 2473 3975 \nQ 2234 3766 1838 3766 \nQ 1438 3766 1198 3973 \nQ 959 4181 913 4575 \nL 1297 4575 \nQ 1341 4363 1470 4258 \nQ 1600 4153 1819 4153 \nQ 2072 4153 2201 4254 \nQ 2331 4356 2375 4575 \nz\n\" transform=\"scale(0.015625)\"/>\n     </defs>\n     <use xlink:href=\"#ArialMT-422\"/>\n     <use xlink:href=\"#ArialMT-435\" x=\"55.458984\"/>\n     <use xlink:href=\"#ArialMT-43f\" x=\"111.074219\"/>\n     <use xlink:href=\"#ArialMT-43b\" x=\"165.224609\"/>\n     <use xlink:href=\"#ArialMT-43e\" x=\"224.699219\"/>\n     <use xlink:href=\"#ArialMT-432\" x=\"280.314453\"/>\n     <use xlink:href=\"#ArialMT-430\" x=\"332.314453\"/>\n     <use xlink:href=\"#ArialMT-44f\" x=\"387.929688\"/>\n     <use xlink:href=\"#ArialMT-20\" x=\"442.080078\"/>\n     <use xlink:href=\"#ArialMT-43a\" x=\"469.863281\"/>\n     <use xlink:href=\"#ArialMT-430\" x=\"515.863281\"/>\n     <use xlink:href=\"#ArialMT-440\" x=\"571.478516\"/>\n     <use xlink:href=\"#ArialMT-442\" x=\"624.84375\"/>\n     <use xlink:href=\"#ArialMT-430\" x=\"669.519531\"/>\n     <use xlink:href=\"#ArialMT-20\" x=\"725.134766\"/>\n     <use xlink:href=\"#ArialMT-43c\" x=\"752.917969\"/>\n     <use xlink:href=\"#ArialMT-430\" x=\"821.667969\"/>\n     <use xlink:href=\"#ArialMT-442\" x=\"875.033203\"/>\n     <use xlink:href=\"#ArialMT-440\" x=\"920.833984\"/>\n     <use xlink:href=\"#ArialMT-438\" x=\"976.449219\"/>\n     <use xlink:href=\"#ArialMT-446\" x=\"1032.308594\"/>\n     <use xlink:href=\"#ArialMT-44b\" x=\"1089.583984\"/>\n     <use xlink:href=\"#ArialMT-20\" x=\"1161.458984\"/>\n     <use xlink:href=\"#ArialMT-43a\" x=\"1189.242188\"/>\n     <use xlink:href=\"#ArialMT-43e\" x=\"1234.117188\"/>\n     <use xlink:href=\"#ArialMT-440\" x=\"1289.732422\"/>\n     <use xlink:href=\"#ArialMT-440\" x=\"1345.347656\"/>\n     <use xlink:href=\"#ArialMT-435\" x=\"1400.962891\"/>\n     <use xlink:href=\"#ArialMT-43b\" x=\"1453.203125\"/>\n     <use xlink:href=\"#ArialMT-44f\" x=\"1511.552734\"/>\n     <use xlink:href=\"#ArialMT-446\" x=\"1565.703125\"/>\n     <use xlink:href=\"#ArialMT-438\" x=\"1622.978516\"/>\n     <use xlink:href=\"#ArialMT-439\" x=\"1678.837891\"/>\n    </g>\n   </g>\n  </g>\n  <g id=\"axes_2\">\n   <g id=\"patch_3\">\n    <path d=\"M 402.785313 326.709375 \nL 418.031313 326.709375 \nL 418.031313 21.789375 \nL 402.785313 21.789375 \nz\n\" style=\"fill: #eaeaf2\"/>\n   </g>\n   <g id=\"patch_4\">\n    <path clip-path=\"url(#p9ada4fff4a)\" style=\"fill: #eaeaf2; stroke: #eaeaf2; stroke-width: 0.01; stroke-linejoin: miter\"/>\n   </g>\n   <g id=\"matplotlib.axis_3\">\n    <g id=\"ytick_9\">\n     <g id=\"line2d_17\"/>\n     <g id=\"text_46\">\n      <!-- −0.4 -->\n      <g style=\"fill: #262626\" transform=\"translate(425.031313 301.44008)scale(0.1 -0.1)\">\n       <defs>\n        <path id=\"ArialMT-2212\" d=\"M 3381 1997 \nL 356 1997 \nL 356 2522 \nL 3381 2522 \nL 3381 1997 \nz\n\" transform=\"scale(0.015625)\"/>\n       </defs>\n       <use xlink:href=\"#ArialMT-2212\"/>\n       <use xlink:href=\"#ArialMT-30\" x=\"58.398438\"/>\n       <use xlink:href=\"#ArialMT-2e\" x=\"114.013672\"/>\n       <use xlink:href=\"#ArialMT-34\" x=\"141.796875\"/>\n      </g>\n     </g>\n    </g>\n    <g id=\"ytick_10\">\n     <g id=\"line2d_18\"/>\n     <g id=\"text_47\">\n      <!-- −0.2 -->\n      <g style=\"fill: #262626\" transform=\"translate(425.031313 257.68547)scale(0.1 -0.1)\">\n       <use xlink:href=\"#ArialMT-2212\"/>\n       <use xlink:href=\"#ArialMT-30\" x=\"58.398438\"/>\n       <use xlink:href=\"#ArialMT-2e\" x=\"114.013672\"/>\n       <use xlink:href=\"#ArialMT-32\" x=\"141.796875\"/>\n      </g>\n     </g>\n    </g>\n    <g id=\"ytick_11\">\n     <g id=\"line2d_19\"/>\n     <g id=\"text_48\">\n      <!-- 0.0 -->\n      <g style=\"fill: #262626\" transform=\"translate(425.031313 213.93086)scale(0.1 -0.1)\">\n       <use xlink:href=\"#ArialMT-30\"/>\n       <use xlink:href=\"#ArialMT-2e\" x=\"55.615234\"/>\n       <use xlink:href=\"#ArialMT-30\" x=\"83.398438\"/>\n      </g>\n     </g>\n    </g>\n    <g id=\"ytick_12\">\n     <g id=\"line2d_20\"/>\n     <g id=\"text_49\">\n      <!-- 0.2 -->\n      <g style=\"fill: #262626\" transform=\"translate(425.031313 170.17625)scale(0.1 -0.1)\">\n       <use xlink:href=\"#ArialMT-30\"/>\n       <use xlink:href=\"#ArialMT-2e\" x=\"55.615234\"/>\n       <use xlink:href=\"#ArialMT-32\" x=\"83.398438\"/>\n      </g>\n     </g>\n    </g>\n    <g id=\"ytick_13\">\n     <g id=\"line2d_21\"/>\n     <g id=\"text_50\">\n      <!-- 0.4 -->\n      <g style=\"fill: #262626\" transform=\"translate(425.031313 126.42164)scale(0.1 -0.1)\">\n       <use xlink:href=\"#ArialMT-30\"/>\n       <use xlink:href=\"#ArialMT-2e\" x=\"55.615234\"/>\n       <use xlink:href=\"#ArialMT-34\" x=\"83.398438\"/>\n      </g>\n     </g>\n    </g>\n    <g id=\"ytick_14\">\n     <g id=\"line2d_22\"/>\n     <g id=\"text_51\">\n      <!-- 0.6 -->\n      <g style=\"fill: #262626\" transform=\"translate(425.031313 82.66703)scale(0.1 -0.1)\">\n       <use xlink:href=\"#ArialMT-30\"/>\n       <use xlink:href=\"#ArialMT-2e\" x=\"55.615234\"/>\n       <use xlink:href=\"#ArialMT-36\" x=\"83.398438\"/>\n      </g>\n     </g>\n    </g>\n    <g id=\"ytick_15\">\n     <g id=\"line2d_23\"/>\n     <g id=\"text_52\">\n      <!-- 0.8 -->\n      <g style=\"fill: #262626\" transform=\"translate(425.031313 38.91242)scale(0.1 -0.1)\">\n       <use xlink:href=\"#ArialMT-30\"/>\n       <use xlink:href=\"#ArialMT-2e\" x=\"55.615234\"/>\n       <use xlink:href=\"#ArialMT-38\" x=\"83.398438\"/>\n      </g>\n     </g>\n    </g>\n   </g>\n   <image xlink:href=\"data:image/png;base64,\niVBORw0KGgoAAAANSUhEUgAAABYAAAGoCAYAAABCAxWKAAACL0lEQVR4nO2cwY3DMBAD7STXxPXfZ/KwtHYD8xhgWACxICmuHAg533//3wPAiyA9juP4nBAxOPHJzIwRk+bpJqbMe2XeAjcxpbHw5L105nXyNorbTeyTotocYp951eYQG6VguDvSA19tJsXAF7ekGPjiptwgtom7eG8YuyLzFoRdwZmH0LbzHmjnDeqKm9i4QSDiUrGhLCEGmTcgf3dj4MuxL26ZNxCa18V7w3hhEeaYga8rhFIILywUsU8KX9w6eRvleJB5N3HmbWTeADQPeUVvjJvxqwki9t02M2/g64rMG/gmFm6Q4oYTg+bp4pZ5G3XFTZx5Q2zsY0YLoXm+HAvj9mXcy7yBryuUy1RXmzbizBuQvxT6pNBNDDW90jwG5JtCaudBxF1YBpjGWCqUUiC8wiOdeYPMG4DmQZ9NpHkMMTgxpHE5HpDmUcRCKXQTY19NPil8E2feAlZCviuWUYritokP4c6TEfuk4CamqJNi4IubUgrbO3rw5CXFBXJi6lV65i1k3sAnhW9i4d/+ZN6DmBnaJ4XviiWU4oBu3r64Cc07oa4QSlGOH8RJccEXN6EUVAn54lYJDciJqZMn/Gryxa3avKDsCsg84Y9NmUcTk+bp4sbtPJ155XihHPPEbZBBJTQobg9inxS+iTNvoa54ECfFAvmw+c0Q+6QQTlxtLii7gjp5QinaIBewPs68gU8KX21i7eaTwhe3z5kUC764dfIGvrh18ga+uPlO3g/nTi8PlA4peQAAAABJRU5ErkJggg==\" id=\"imagefaa9ee52e1\" transform=\"scale(1 -1)translate(0 -305.28)\" x=\"402.48\" y=\"-21.6\" width=\"15.84\" height=\"305.28\"/>\n   <g id=\"LineCollection_1\"/>\n   <g id=\"patch_5\">\n    <path d=\"M 402.785313 326.709375 \nL 410.408313 326.709375 \nL 418.031313 326.709375 \nL 418.031313 21.789375 \nL 410.408313 21.789375 \nL 402.785313 21.789375 \nL 402.785313 326.709375 \nz\n\" style=\"fill: none\"/>\n   </g>\n  </g>\n </g>\n <defs>\n  <clipPath id=\"p7bc3462a7d\">\n   <rect x=\"23.345312\" y=\"21.789375\" width=\"357.12\" height=\"304.92\"/>\n  </clipPath>\n  <clipPath id=\"p9ada4fff4a\">\n   <rect x=\"402.785313\" y=\"21.789375\" width=\"15.246\" height=\"304.92\"/>\n  </clipPath>\n </defs>\n</svg>\n",
      "text/plain": [
       "<Figure size 800x550 with 2 Axes>"
      ]
     },
     "metadata": {},
     "output_type": "display_data"
    }
   ],
   "source": [
    "# строим тепловую карту матрицы корреляций\n",
    "sns.heatmap(data.corr(), annot=True, fmt='.2f', mask = np.triu(data.corr())).set(\n",
    "    title = \"Тепловая карта матрицы корреляций\"\n",
    ");"
   ]
  },
  {
   "cell_type": "code",
   "execution_count": 5,
   "metadata": {},
   "outputs": [
    {
     "name": "stdout",
     "output_type": "stream",
     "text": [
      "Por        0.861910\n",
      "Perm       0.727426\n",
      "TOC        0.654445\n",
      "AI         0.390835\n",
      "VR         0.323182\n",
      "Brittle    0.237155\n",
      "Well       0.026817\n",
      "Name: Prod, dtype: float64\n"
     ]
    },
    {
     "data": {
      "image/svg+xml": "<?xml version=\"1.0\" encoding=\"utf-8\" standalone=\"no\"?>\n<!DOCTYPE svg PUBLIC \"-//W3C//DTD SVG 1.1//EN\"\n  \"http://www.w3.org/Graphics/SVG/1.1/DTD/svg11.dtd\">\n<svg xmlns:xlink=\"http://www.w3.org/1999/xlink\" width=\"604.960938pt\" height=\"252.305312pt\" viewBox=\"0 0 604.960938 252.305312\" xmlns=\"http://www.w3.org/2000/svg\" version=\"1.1\">\n <metadata>\n  <rdf:RDF xmlns:dc=\"http://purl.org/dc/elements/1.1/\" xmlns:cc=\"http://creativecommons.org/ns#\" xmlns:rdf=\"http://www.w3.org/1999/02/22-rdf-syntax-ns#\">\n   <cc:Work>\n    <dc:type rdf:resource=\"http://purl.org/dc/dcmitype/StillImage\"/>\n    <dc:date>2023-02-19T22:33:17.265034</dc:date>\n    <dc:format>image/svg+xml</dc:format>\n    <dc:creator>\n     <cc:Agent>\n      <dc:title>Matplotlib v3.5.2, https://matplotlib.org/</dc:title>\n     </cc:Agent>\n    </dc:creator>\n   </cc:Work>\n  </rdf:RDF>\n </metadata>\n <defs>\n  <style type=\"text/css\">*{stroke-linejoin: round; stroke-linecap: butt}</style>\n </defs>\n <g id=\"figure_1\">\n  <g id=\"patch_1\">\n   <path d=\"M 0 252.305312 \nL 604.960938 252.305312 \nL 604.960938 0 \nL 0 0 \nz\n\" style=\"fill: #ffffff\"/>\n  </g>\n  <g id=\"axes_1\">\n   <g id=\"patch_2\">\n    <path d=\"M 39.760938 228.96 \nL 597.760937 228.96 \nL 597.760937 7.2 \nL 39.760938 7.2 \nz\n\" style=\"fill: #eaeaf2\"/>\n   </g>\n   <g id=\"matplotlib.axis_1\">\n    <g id=\"xtick_1\">\n     <g id=\"line2d_1\">\n      <path d=\"M 39.760938 228.96 \nL 39.760938 7.2 \n\" clip-path=\"url(#p0a5b134ebb)\" style=\"fill: none; stroke: #ffffff; stroke-linecap: round\"/>\n     </g>\n     <g id=\"line2d_2\"/>\n     <g id=\"text_1\">\n      <!-- 0.0 -->\n      <g style=\"fill: #262626\" transform=\"translate(32.810938 243.117812)scale(0.1 -0.1)\">\n       <defs>\n        <path id=\"ArialMT-30\" d=\"M 266 2259 \nQ 266 3072 433 3567 \nQ 600 4063 929 4331 \nQ 1259 4600 1759 4600 \nQ 2128 4600 2406 4451 \nQ 2684 4303 2865 4023 \nQ 3047 3744 3150 3342 \nQ 3253 2941 3253 2259 \nQ 3253 1453 3087 958 \nQ 2922 463 2592 192 \nQ 2263 -78 1759 -78 \nQ 1097 -78 719 397 \nQ 266 969 266 2259 \nz\nM 844 2259 \nQ 844 1131 1108 757 \nQ 1372 384 1759 384 \nQ 2147 384 2411 759 \nQ 2675 1134 2675 2259 \nQ 2675 3391 2411 3762 \nQ 2147 4134 1753 4134 \nQ 1366 4134 1134 3806 \nQ 844 3388 844 2259 \nz\n\" transform=\"scale(0.015625)\"/>\n        <path id=\"ArialMT-2e\" d=\"M 581 0 \nL 581 641 \nL 1222 641 \nL 1222 0 \nL 581 0 \nz\n\" transform=\"scale(0.015625)\"/>\n       </defs>\n       <use xlink:href=\"#ArialMT-30\"/>\n       <use xlink:href=\"#ArialMT-2e\" x=\"55.615234\"/>\n       <use xlink:href=\"#ArialMT-30\" x=\"83.398438\"/>\n      </g>\n     </g>\n    </g>\n    <g id=\"xtick_2\">\n     <g id=\"line2d_3\">\n      <path d=\"M 163.075171 228.96 \nL 163.075171 7.2 \n\" clip-path=\"url(#p0a5b134ebb)\" style=\"fill: none; stroke: #ffffff; stroke-linecap: round\"/>\n     </g>\n     <g id=\"line2d_4\"/>\n     <g id=\"text_2\">\n      <!-- 0.2 -->\n      <g style=\"fill: #262626\" transform=\"translate(156.125171 243.117812)scale(0.1 -0.1)\">\n       <defs>\n        <path id=\"ArialMT-32\" d=\"M 3222 541 \nL 3222 0 \nL 194 0 \nQ 188 203 259 391 \nQ 375 700 629 1000 \nQ 884 1300 1366 1694 \nQ 2113 2306 2375 2664 \nQ 2638 3022 2638 3341 \nQ 2638 3675 2398 3904 \nQ 2159 4134 1775 4134 \nQ 1369 4134 1125 3890 \nQ 881 3647 878 3216 \nL 300 3275 \nQ 359 3922 746 4261 \nQ 1134 4600 1788 4600 \nQ 2447 4600 2831 4234 \nQ 3216 3869 3216 3328 \nQ 3216 3053 3103 2787 \nQ 2991 2522 2730 2228 \nQ 2469 1934 1863 1422 \nQ 1356 997 1212 845 \nQ 1069 694 975 541 \nL 3222 541 \nz\n\" transform=\"scale(0.015625)\"/>\n       </defs>\n       <use xlink:href=\"#ArialMT-30\"/>\n       <use xlink:href=\"#ArialMT-2e\" x=\"55.615234\"/>\n       <use xlink:href=\"#ArialMT-32\" x=\"83.398438\"/>\n      </g>\n     </g>\n    </g>\n    <g id=\"xtick_3\">\n     <g id=\"line2d_5\">\n      <path d=\"M 286.389405 228.96 \nL 286.389405 7.2 \n\" clip-path=\"url(#p0a5b134ebb)\" style=\"fill: none; stroke: #ffffff; stroke-linecap: round\"/>\n     </g>\n     <g id=\"line2d_6\"/>\n     <g id=\"text_3\">\n      <!-- 0.4 -->\n      <g style=\"fill: #262626\" transform=\"translate(279.439405 243.117812)scale(0.1 -0.1)\">\n       <defs>\n        <path id=\"ArialMT-34\" d=\"M 2069 0 \nL 2069 1097 \nL 81 1097 \nL 81 1613 \nL 2172 4581 \nL 2631 4581 \nL 2631 1613 \nL 3250 1613 \nL 3250 1097 \nL 2631 1097 \nL 2631 0 \nL 2069 0 \nz\nM 2069 1613 \nL 2069 3678 \nL 634 1613 \nL 2069 1613 \nz\n\" transform=\"scale(0.015625)\"/>\n       </defs>\n       <use xlink:href=\"#ArialMT-30\"/>\n       <use xlink:href=\"#ArialMT-2e\" x=\"55.615234\"/>\n       <use xlink:href=\"#ArialMT-34\" x=\"83.398438\"/>\n      </g>\n     </g>\n    </g>\n    <g id=\"xtick_4\">\n     <g id=\"line2d_7\">\n      <path d=\"M 409.703638 228.96 \nL 409.703638 7.2 \n\" clip-path=\"url(#p0a5b134ebb)\" style=\"fill: none; stroke: #ffffff; stroke-linecap: round\"/>\n     </g>\n     <g id=\"line2d_8\"/>\n     <g id=\"text_4\">\n      <!-- 0.6 -->\n      <g style=\"fill: #262626\" transform=\"translate(402.753638 243.117812)scale(0.1 -0.1)\">\n       <defs>\n        <path id=\"ArialMT-36\" d=\"M 3184 3459 \nL 2625 3416 \nQ 2550 3747 2413 3897 \nQ 2184 4138 1850 4138 \nQ 1581 4138 1378 3988 \nQ 1113 3794 959 3422 \nQ 806 3050 800 2363 \nQ 1003 2672 1297 2822 \nQ 1591 2972 1913 2972 \nQ 2475 2972 2870 2558 \nQ 3266 2144 3266 1488 \nQ 3266 1056 3080 686 \nQ 2894 316 2569 119 \nQ 2244 -78 1831 -78 \nQ 1128 -78 684 439 \nQ 241 956 241 2144 \nQ 241 3472 731 4075 \nQ 1159 4600 1884 4600 \nQ 2425 4600 2770 4297 \nQ 3116 3994 3184 3459 \nz\nM 888 1484 \nQ 888 1194 1011 928 \nQ 1134 663 1356 523 \nQ 1578 384 1822 384 \nQ 2178 384 2434 671 \nQ 2691 959 2691 1453 \nQ 2691 1928 2437 2201 \nQ 2184 2475 1800 2475 \nQ 1419 2475 1153 2201 \nQ 888 1928 888 1484 \nz\n\" transform=\"scale(0.015625)\"/>\n       </defs>\n       <use xlink:href=\"#ArialMT-30\"/>\n       <use xlink:href=\"#ArialMT-2e\" x=\"55.615234\"/>\n       <use xlink:href=\"#ArialMT-36\" x=\"83.398438\"/>\n      </g>\n     </g>\n    </g>\n    <g id=\"xtick_5\">\n     <g id=\"line2d_9\">\n      <path d=\"M 533.017872 228.96 \nL 533.017872 7.2 \n\" clip-path=\"url(#p0a5b134ebb)\" style=\"fill: none; stroke: #ffffff; stroke-linecap: round\"/>\n     </g>\n     <g id=\"line2d_10\"/>\n     <g id=\"text_5\">\n      <!-- 0.8 -->\n      <g style=\"fill: #262626\" transform=\"translate(526.067872 243.117812)scale(0.1 -0.1)\">\n       <defs>\n        <path id=\"ArialMT-38\" d=\"M 1131 2484 \nQ 781 2613 612 2850 \nQ 444 3088 444 3419 \nQ 444 3919 803 4259 \nQ 1163 4600 1759 4600 \nQ 2359 4600 2725 4251 \nQ 3091 3903 3091 3403 \nQ 3091 3084 2923 2848 \nQ 2756 2613 2416 2484 \nQ 2838 2347 3058 2040 \nQ 3278 1734 3278 1309 \nQ 3278 722 2862 322 \nQ 2447 -78 1769 -78 \nQ 1091 -78 675 323 \nQ 259 725 259 1325 \nQ 259 1772 486 2073 \nQ 713 2375 1131 2484 \nz\nM 1019 3438 \nQ 1019 3113 1228 2906 \nQ 1438 2700 1772 2700 \nQ 2097 2700 2305 2904 \nQ 2513 3109 2513 3406 \nQ 2513 3716 2298 3927 \nQ 2084 4138 1766 4138 \nQ 1444 4138 1231 3931 \nQ 1019 3725 1019 3438 \nz\nM 838 1322 \nQ 838 1081 952 856 \nQ 1066 631 1291 507 \nQ 1516 384 1775 384 \nQ 2178 384 2440 643 \nQ 2703 903 2703 1303 \nQ 2703 1709 2433 1975 \nQ 2163 2241 1756 2241 \nQ 1359 2241 1098 1978 \nQ 838 1716 838 1322 \nz\n\" transform=\"scale(0.015625)\"/>\n       </defs>\n       <use xlink:href=\"#ArialMT-30\"/>\n       <use xlink:href=\"#ArialMT-2e\" x=\"55.615234\"/>\n       <use xlink:href=\"#ArialMT-38\" x=\"83.398438\"/>\n      </g>\n     </g>\n    </g>\n   </g>\n   <g id=\"matplotlib.axis_2\">\n    <g id=\"ytick_1\">\n     <g id=\"line2d_11\">\n      <path d=\"M 39.760938 213.12 \nL 597.760937 213.12 \n\" clip-path=\"url(#p0a5b134ebb)\" style=\"fill: none; stroke: #ffffff; stroke-linecap: round\"/>\n     </g>\n     <g id=\"line2d_12\"/>\n     <g id=\"text_6\">\n      <!-- Well -->\n      <g style=\"fill: #262626\" transform=\"translate(13.492188 216.698906)scale(0.1 -0.1)\">\n       <defs>\n        <path id=\"ArialMT-57\" d=\"M 1294 0 \nL 78 4581 \nL 700 4581 \nL 1397 1578 \nQ 1509 1106 1591 641 \nQ 1766 1375 1797 1488 \nL 2669 4581 \nL 3400 4581 \nL 4056 2263 \nQ 4303 1400 4413 641 \nQ 4500 1075 4641 1638 \nL 5359 4581 \nL 5969 4581 \nL 4713 0 \nL 4128 0 \nL 3163 3491 \nQ 3041 3928 3019 4028 \nQ 2947 3713 2884 3491 \nL 1913 0 \nL 1294 0 \nz\n\" transform=\"scale(0.015625)\"/>\n        <path id=\"ArialMT-65\" d=\"M 2694 1069 \nL 3275 997 \nQ 3138 488 2766 206 \nQ 2394 -75 1816 -75 \nQ 1088 -75 661 373 \nQ 234 822 234 1631 \nQ 234 2469 665 2931 \nQ 1097 3394 1784 3394 \nQ 2450 3394 2872 2941 \nQ 3294 2488 3294 1666 \nQ 3294 1616 3291 1516 \nL 816 1516 \nQ 847 969 1125 678 \nQ 1403 388 1819 388 \nQ 2128 388 2347 550 \nQ 2566 713 2694 1069 \nz\nM 847 1978 \nL 2700 1978 \nQ 2663 2397 2488 2606 \nQ 2219 2931 1791 2931 \nQ 1403 2931 1139 2672 \nQ 875 2413 847 1978 \nz\n\" transform=\"scale(0.015625)\"/>\n        <path id=\"ArialMT-6c\" d=\"M 409 0 \nL 409 4581 \nL 972 4581 \nL 972 0 \nL 409 0 \nz\n\" transform=\"scale(0.015625)\"/>\n       </defs>\n       <use xlink:href=\"#ArialMT-57\"/>\n       <use xlink:href=\"#ArialMT-65\" x=\"92.634766\"/>\n       <use xlink:href=\"#ArialMT-6c\" x=\"148.25\"/>\n       <use xlink:href=\"#ArialMT-6c\" x=\"170.466797\"/>\n      </g>\n     </g>\n    </g>\n    <g id=\"ytick_2\">\n     <g id=\"line2d_13\">\n      <path d=\"M 39.760938 181.44 \nL 597.760937 181.44 \n\" clip-path=\"url(#p0a5b134ebb)\" style=\"fill: none; stroke: #ffffff; stroke-linecap: round\"/>\n     </g>\n     <g id=\"line2d_14\"/>\n     <g id=\"text_7\">\n      <!-- Brittle -->\n      <g style=\"fill: #262626\" transform=\"translate(7.2 185.018906)scale(0.1 -0.1)\">\n       <defs>\n        <path id=\"ArialMT-42\" d=\"M 469 0 \nL 469 4581 \nL 2188 4581 \nQ 2713 4581 3030 4442 \nQ 3347 4303 3526 4014 \nQ 3706 3725 3706 3409 \nQ 3706 3116 3547 2856 \nQ 3388 2597 3066 2438 \nQ 3481 2316 3704 2022 \nQ 3928 1728 3928 1328 \nQ 3928 1006 3792 729 \nQ 3656 453 3456 303 \nQ 3256 153 2954 76 \nQ 2653 0 2216 0 \nL 469 0 \nz\nM 1075 2656 \nL 2066 2656 \nQ 2469 2656 2644 2709 \nQ 2875 2778 2992 2937 \nQ 3109 3097 3109 3338 \nQ 3109 3566 3000 3739 \nQ 2891 3913 2687 3977 \nQ 2484 4041 1991 4041 \nL 1075 4041 \nL 1075 2656 \nz\nM 1075 541 \nL 2216 541 \nQ 2509 541 2628 563 \nQ 2838 600 2978 687 \nQ 3119 775 3209 942 \nQ 3300 1109 3300 1328 \nQ 3300 1584 3169 1773 \nQ 3038 1963 2805 2039 \nQ 2572 2116 2134 2116 \nL 1075 2116 \nL 1075 541 \nz\n\" transform=\"scale(0.015625)\"/>\n        <path id=\"ArialMT-72\" d=\"M 416 0 \nL 416 3319 \nL 922 3319 \nL 922 2816 \nQ 1116 3169 1280 3281 \nQ 1444 3394 1641 3394 \nQ 1925 3394 2219 3213 \nL 2025 2691 \nQ 1819 2813 1613 2813 \nQ 1428 2813 1281 2702 \nQ 1134 2591 1072 2394 \nQ 978 2094 978 1738 \nL 978 0 \nL 416 0 \nz\n\" transform=\"scale(0.015625)\"/>\n        <path id=\"ArialMT-69\" d=\"M 425 3934 \nL 425 4581 \nL 988 4581 \nL 988 3934 \nL 425 3934 \nz\nM 425 0 \nL 425 3319 \nL 988 3319 \nL 988 0 \nL 425 0 \nz\n\" transform=\"scale(0.015625)\"/>\n        <path id=\"ArialMT-74\" d=\"M 1650 503 \nL 1731 6 \nQ 1494 -44 1306 -44 \nQ 1000 -44 831 53 \nQ 663 150 594 308 \nQ 525 466 525 972 \nL 525 2881 \nL 113 2881 \nL 113 3319 \nL 525 3319 \nL 525 4141 \nL 1084 4478 \nL 1084 3319 \nL 1650 3319 \nL 1650 2881 \nL 1084 2881 \nL 1084 941 \nQ 1084 700 1114 631 \nQ 1144 563 1211 522 \nQ 1278 481 1403 481 \nQ 1497 481 1650 503 \nz\n\" transform=\"scale(0.015625)\"/>\n       </defs>\n       <use xlink:href=\"#ArialMT-42\"/>\n       <use xlink:href=\"#ArialMT-72\" x=\"66.699219\"/>\n       <use xlink:href=\"#ArialMT-69\" x=\"100\"/>\n       <use xlink:href=\"#ArialMT-74\" x=\"122.216797\"/>\n       <use xlink:href=\"#ArialMT-74\" x=\"150\"/>\n       <use xlink:href=\"#ArialMT-6c\" x=\"177.783203\"/>\n       <use xlink:href=\"#ArialMT-65\" x=\"200\"/>\n      </g>\n     </g>\n    </g>\n    <g id=\"ytick_3\">\n     <g id=\"line2d_15\">\n      <path d=\"M 39.760938 149.76 \nL 597.760937 149.76 \n\" clip-path=\"url(#p0a5b134ebb)\" style=\"fill: none; stroke: #ffffff; stroke-linecap: round\"/>\n     </g>\n     <g id=\"line2d_16\"/>\n     <g id=\"text_8\">\n      <!-- VR -->\n      <g style=\"fill: #262626\" transform=\"translate(18.86875 153.338906)scale(0.1 -0.1)\">\n       <defs>\n        <path id=\"ArialMT-56\" d=\"M 1803 0 \nL 28 4581 \nL 684 4581 \nL 1875 1253 \nQ 2019 853 2116 503 \nQ 2222 878 2363 1253 \nL 3600 4581 \nL 4219 4581 \nL 2425 0 \nL 1803 0 \nz\n\" transform=\"scale(0.015625)\"/>\n        <path id=\"ArialMT-52\" d=\"M 503 0 \nL 503 4581 \nL 2534 4581 \nQ 3147 4581 3465 4457 \nQ 3784 4334 3975 4021 \nQ 4166 3709 4166 3331 \nQ 4166 2844 3850 2509 \nQ 3534 2175 2875 2084 \nQ 3116 1969 3241 1856 \nQ 3506 1613 3744 1247 \nL 4541 0 \nL 3778 0 \nL 3172 953 \nQ 2906 1366 2734 1584 \nQ 2563 1803 2427 1890 \nQ 2291 1978 2150 2013 \nQ 2047 2034 1813 2034 \nL 1109 2034 \nL 1109 0 \nL 503 0 \nz\nM 1109 2559 \nL 2413 2559 \nQ 2828 2559 3062 2645 \nQ 3297 2731 3419 2920 \nQ 3541 3109 3541 3331 \nQ 3541 3656 3305 3865 \nQ 3069 4075 2559 4075 \nL 1109 4075 \nL 1109 2559 \nz\n\" transform=\"scale(0.015625)\"/>\n       </defs>\n       <use xlink:href=\"#ArialMT-56\"/>\n       <use xlink:href=\"#ArialMT-52\" x=\"66.699219\"/>\n      </g>\n     </g>\n    </g>\n    <g id=\"ytick_4\">\n     <g id=\"line2d_17\">\n      <path d=\"M 39.760938 118.08 \nL 597.760937 118.08 \n\" clip-path=\"url(#p0a5b134ebb)\" style=\"fill: none; stroke: #ffffff; stroke-linecap: round\"/>\n     </g>\n     <g id=\"line2d_18\"/>\n     <g id=\"text_9\">\n      <!-- AI -->\n      <g style=\"fill: #262626\" transform=\"translate(23.3125 121.658906)scale(0.1 -0.1)\">\n       <defs>\n        <path id=\"ArialMT-41\" d=\"M -9 0 \nL 1750 4581 \nL 2403 4581 \nL 4278 0 \nL 3588 0 \nL 3053 1388 \nL 1138 1388 \nL 634 0 \nL -9 0 \nz\nM 1313 1881 \nL 2866 1881 \nL 2388 3150 \nQ 2169 3728 2063 4100 \nQ 1975 3659 1816 3225 \nL 1313 1881 \nz\n\" transform=\"scale(0.015625)\"/>\n        <path id=\"ArialMT-49\" d=\"M 597 0 \nL 597 4581 \nL 1203 4581 \nL 1203 0 \nL 597 0 \nz\n\" transform=\"scale(0.015625)\"/>\n       </defs>\n       <use xlink:href=\"#ArialMT-41\"/>\n       <use xlink:href=\"#ArialMT-49\" x=\"66.699219\"/>\n      </g>\n     </g>\n    </g>\n    <g id=\"ytick_5\">\n     <g id=\"line2d_19\">\n      <path d=\"M 39.760938 86.4 \nL 597.760937 86.4 \n\" clip-path=\"url(#p0a5b134ebb)\" style=\"fill: none; stroke: #ffffff; stroke-linecap: round\"/>\n     </g>\n     <g id=\"line2d_20\"/>\n     <g id=\"text_10\">\n      <!-- TOC -->\n      <g style=\"fill: #262626\" transform=\"translate(11.828125 89.978906)scale(0.1 -0.1)\">\n       <defs>\n        <path id=\"ArialMT-54\" d=\"M 1659 0 \nL 1659 4041 \nL 150 4041 \nL 150 4581 \nL 3781 4581 \nL 3781 4041 \nL 2266 4041 \nL 2266 0 \nL 1659 0 \nz\n\" transform=\"scale(0.015625)\"/>\n        <path id=\"ArialMT-4f\" d=\"M 309 2231 \nQ 309 3372 921 4017 \nQ 1534 4663 2503 4663 \nQ 3138 4663 3647 4359 \nQ 4156 4056 4423 3514 \nQ 4691 2972 4691 2284 \nQ 4691 1588 4409 1038 \nQ 4128 488 3612 205 \nQ 3097 -78 2500 -78 \nQ 1853 -78 1343 234 \nQ 834 547 571 1087 \nQ 309 1628 309 2231 \nz\nM 934 2222 \nQ 934 1394 1379 917 \nQ 1825 441 2497 441 \nQ 3181 441 3623 922 \nQ 4066 1403 4066 2288 \nQ 4066 2847 3877 3264 \nQ 3688 3681 3323 3911 \nQ 2959 4141 2506 4141 \nQ 1863 4141 1398 3698 \nQ 934 3256 934 2222 \nz\n\" transform=\"scale(0.015625)\"/>\n        <path id=\"ArialMT-43\" d=\"M 3763 1606 \nL 4369 1453 \nQ 4178 706 3683 314 \nQ 3188 -78 2472 -78 \nQ 1731 -78 1267 223 \nQ 803 525 561 1097 \nQ 319 1669 319 2325 \nQ 319 3041 592 3573 \nQ 866 4106 1370 4382 \nQ 1875 4659 2481 4659 \nQ 3169 4659 3637 4309 \nQ 4106 3959 4291 3325 \nL 3694 3184 \nQ 3534 3684 3231 3912 \nQ 2928 4141 2469 4141 \nQ 1941 4141 1586 3887 \nQ 1231 3634 1087 3207 \nQ 944 2781 944 2328 \nQ 944 1744 1114 1308 \nQ 1284 872 1643 656 \nQ 2003 441 2422 441 \nQ 2931 441 3284 734 \nQ 3638 1028 3763 1606 \nz\n\" transform=\"scale(0.015625)\"/>\n       </defs>\n       <use xlink:href=\"#ArialMT-54\"/>\n       <use xlink:href=\"#ArialMT-4f\" x=\"59.333984\"/>\n       <use xlink:href=\"#ArialMT-43\" x=\"137.117188\"/>\n      </g>\n     </g>\n    </g>\n    <g id=\"ytick_6\">\n     <g id=\"line2d_21\">\n      <path d=\"M 39.760938 54.72 \nL 597.760937 54.72 \n\" clip-path=\"url(#p0a5b134ebb)\" style=\"fill: none; stroke: #ffffff; stroke-linecap: round\"/>\n     </g>\n     <g id=\"line2d_22\"/>\n     <g id=\"text_11\">\n      <!-- Perm -->\n      <g style=\"fill: #262626\" transform=\"translate(8.870313 58.298906)scale(0.1 -0.1)\">\n       <defs>\n        <path id=\"ArialMT-50\" d=\"M 494 0 \nL 494 4581 \nL 2222 4581 \nQ 2678 4581 2919 4538 \nQ 3256 4481 3484 4323 \nQ 3713 4166 3852 3881 \nQ 3991 3597 3991 3256 \nQ 3991 2672 3619 2267 \nQ 3247 1863 2275 1863 \nL 1100 1863 \nL 1100 0 \nL 494 0 \nz\nM 1100 2403 \nL 2284 2403 \nQ 2872 2403 3119 2622 \nQ 3366 2841 3366 3238 \nQ 3366 3525 3220 3729 \nQ 3075 3934 2838 4000 \nQ 2684 4041 2272 4041 \nL 1100 4041 \nL 1100 2403 \nz\n\" transform=\"scale(0.015625)\"/>\n        <path id=\"ArialMT-6d\" d=\"M 422 0 \nL 422 3319 \nL 925 3319 \nL 925 2853 \nQ 1081 3097 1340 3245 \nQ 1600 3394 1931 3394 \nQ 2300 3394 2536 3241 \nQ 2772 3088 2869 2813 \nQ 3263 3394 3894 3394 \nQ 4388 3394 4653 3120 \nQ 4919 2847 4919 2278 \nL 4919 0 \nL 4359 0 \nL 4359 2091 \nQ 4359 2428 4304 2576 \nQ 4250 2725 4106 2815 \nQ 3963 2906 3769 2906 \nQ 3419 2906 3187 2673 \nQ 2956 2441 2956 1928 \nL 2956 0 \nL 2394 0 \nL 2394 2156 \nQ 2394 2531 2256 2718 \nQ 2119 2906 1806 2906 \nQ 1569 2906 1367 2781 \nQ 1166 2656 1075 2415 \nQ 984 2175 984 1722 \nL 984 0 \nL 422 0 \nz\n\" transform=\"scale(0.015625)\"/>\n       </defs>\n       <use xlink:href=\"#ArialMT-50\"/>\n       <use xlink:href=\"#ArialMT-65\" x=\"66.699219\"/>\n       <use xlink:href=\"#ArialMT-72\" x=\"122.314453\"/>\n       <use xlink:href=\"#ArialMT-6d\" x=\"155.615234\"/>\n      </g>\n     </g>\n    </g>\n    <g id=\"ytick_7\">\n     <g id=\"line2d_23\">\n      <path d=\"M 39.760938 23.04 \nL 597.760937 23.04 \n\" clip-path=\"url(#p0a5b134ebb)\" style=\"fill: none; stroke: #ffffff; stroke-linecap: round\"/>\n     </g>\n     <g id=\"line2d_24\"/>\n     <g id=\"text_12\">\n      <!-- Por -->\n      <g style=\"fill: #262626\" transform=\"translate(17.2 26.618906)scale(0.1 -0.1)\">\n       <defs>\n        <path id=\"ArialMT-6f\" d=\"M 213 1659 \nQ 213 2581 725 3025 \nQ 1153 3394 1769 3394 \nQ 2453 3394 2887 2945 \nQ 3322 2497 3322 1706 \nQ 3322 1066 3130 698 \nQ 2938 331 2570 128 \nQ 2203 -75 1769 -75 \nQ 1072 -75 642 372 \nQ 213 819 213 1659 \nz\nM 791 1659 \nQ 791 1022 1069 705 \nQ 1347 388 1769 388 \nQ 2188 388 2466 706 \nQ 2744 1025 2744 1678 \nQ 2744 2294 2464 2611 \nQ 2184 2928 1769 2928 \nQ 1347 2928 1069 2612 \nQ 791 2297 791 1659 \nz\n\" transform=\"scale(0.015625)\"/>\n       </defs>\n       <use xlink:href=\"#ArialMT-50\"/>\n       <use xlink:href=\"#ArialMT-6f\" x=\"66.699219\"/>\n       <use xlink:href=\"#ArialMT-72\" x=\"122.314453\"/>\n      </g>\n     </g>\n    </g>\n   </g>\n   <g id=\"patch_3\">\n    <path d=\"M 39.760938 221.04 \nL 56.295389 221.04 \nL 56.295389 205.2 \nL 39.760938 205.2 \nz\n\" clip-path=\"url(#p0a5b134ebb)\" style=\"fill: #4c72b0\"/>\n   </g>\n   <g id=\"patch_4\">\n    <path d=\"M 39.760938 189.36 \nL 185.984079 189.36 \nL 185.984079 173.52 \nL 39.760938 173.52 \nz\n\" clip-path=\"url(#p0a5b134ebb)\" style=\"fill: #4c72b0\"/>\n   </g>\n   <g id=\"patch_5\">\n    <path d=\"M 39.760938 157.68 \nL 239.025362 157.68 \nL 239.025362 141.84 \nL 39.760938 141.84 \nz\n\" clip-path=\"url(#p0a5b134ebb)\" style=\"fill: #4c72b0\"/>\n   </g>\n   <g id=\"patch_6\">\n    <path d=\"M 39.760938 126 \nL 280.738386 126 \nL 280.738386 110.16 \nL 39.760938 110.16 \nz\n\" clip-path=\"url(#p0a5b134ebb)\" style=\"fill: #4c72b0\"/>\n   </g>\n   <g id=\"patch_7\">\n    <path d=\"M 39.760938 94.32 \nL 443.272979 94.32 \nL 443.272979 78.48 \nL 39.760938 78.48 \nz\n\" clip-path=\"url(#p0a5b134ebb)\" style=\"fill: #4c72b0\"/>\n   </g>\n   <g id=\"patch_8\">\n    <path d=\"M 39.760938 62.64 \nL 488.270923 62.64 \nL 488.270923 46.8 \nL 39.760938 46.8 \nz\n\" clip-path=\"url(#p0a5b134ebb)\" style=\"fill: #4c72b0\"/>\n   </g>\n   <g id=\"patch_9\">\n    <path d=\"M 39.760938 30.96 \nL 571.189509 30.96 \nL 571.189509 15.12 \nL 39.760938 15.12 \nz\n\" clip-path=\"url(#p0a5b134ebb)\" style=\"fill: #4c72b0\"/>\n   </g>\n   <g id=\"patch_10\">\n    <path d=\"M 39.760938 228.96 \nL 39.760938 7.2 \n\" style=\"fill: none\"/>\n   </g>\n   <g id=\"patch_11\">\n    <path d=\"M 597.760937 228.96 \nL 597.760937 7.2 \n\" style=\"fill: none\"/>\n   </g>\n   <g id=\"patch_12\">\n    <path d=\"M 39.760938 228.96 \nL 597.760937 228.96 \n\" style=\"fill: none\"/>\n   </g>\n   <g id=\"patch_13\">\n    <path d=\"M 39.760938 7.2 \nL 597.760937 7.2 \n\" style=\"fill: none\"/>\n   </g>\n  </g>\n </g>\n <defs>\n  <clipPath id=\"p0a5b134ebb\">\n   <rect x=\"39.760938\" y=\"7.2\" width=\"558\" height=\"221.76\"/>\n  </clipPath>\n </defs>\n</svg>\n",
      "text/plain": [
       "<Figure size 1000x400 with 1 Axes>"
      ]
     },
     "metadata": {},
     "output_type": "display_data"
    }
   ],
   "source": [
    "# выведем топ коррелирующих с таргетом факторов\n",
    "print(data.corr()[\"Prod\"].apply(lambda x: abs(x)).sort_values(ascending=False)[1:])\n",
    "data.corr()[\"Prod\"].apply(lambda x: abs(x)).sort_values()[:-1].plot.barh(figsize=(10, 4));"
   ]
  },
  {
   "attachments": {},
   "cell_type": "markdown",
   "metadata": {},
   "source": [
    "2. Вычислите ранг полученной матрицы корреляций:"
   ]
  },
  {
   "cell_type": "code",
   "execution_count": 6,
   "metadata": {},
   "outputs": [
    {
     "name": "stdout",
     "output_type": "stream",
     "text": [
      "Ранг матрицы корреляций равен 8\n"
     ]
    }
   ],
   "source": [
    "print(f'Ранг матрицы корреляций равен {np.linalg.matrix_rank(data.corr())}')"
   ]
  },
  {
   "attachments": {},
   "cell_type": "markdown",
   "metadata": {},
   "source": [
    "3. Вычислите определитель матрицы корреляций. Ответ округлите до четвёртого знака после точки-разделителя."
   ]
  },
  {
   "cell_type": "code",
   "execution_count": 7,
   "metadata": {},
   "outputs": [
    {
     "name": "stdout",
     "output_type": "stream",
     "text": [
      "Определитель матрицы коррелиций: 0.0007\n"
     ]
    }
   ],
   "source": [
    "print(f'Определитель матрицы коррелиций: {round(np.linalg.det(data.corr()),4)}')"
   ]
  },
  {
   "attachments": {},
   "cell_type": "markdown",
   "metadata": {},
   "source": [
    "***"
   ]
  },
  {
   "attachments": {},
   "cell_type": "markdown",
   "metadata": {},
   "source": [
    "### Задание 5.2\n",
    "\n",
    "Создайте матрицу наблюдений. Обозначьте её за **X**, а вектор правильных ответов — за **y**.\n",
    "\n",
    "1. Постройте модель линейной регрессии по методу наименьших квадратов. Для этого используйте **матричную формулу NumPy**. В качестве ответа укажите полученные оценки коэффициентов модели. Ответ округлите до целого числа."
   ]
  },
  {
   "cell_type": "code",
   "execution_count": 8,
   "metadata": {},
   "outputs": [],
   "source": [
    "# создаем матрицу наблюдений X и вектор правильных ответов y\n",
    "X = np.array(data.drop(['Prod'], axis=1))\n",
    "y = np.array(data[['Prod']])\n",
    "\n",
    "# строим модель линейной регрессии\n",
    "# создаём вектор из единиц\n",
    "ones = np.ones(X.shape[0])\n",
    "# добавляем вектор к таблице первым столбцом\n",
    "X = np.column_stack([ones, X])\n",
    "# вычисляем обратную матрицу Q\n",
    "Q = np.linalg.inv(X.T @ X)\n",
    "# вычисляем вектор коэффициентов\n",
    "w = Q @ X.T @ y"
   ]
  },
  {
   "cell_type": "code",
   "execution_count": 9,
   "metadata": {},
   "outputs": [
    {
     "name": "stdout",
     "output_type": "stream",
     "text": [
      "Vector w:\n",
      " [[-1232.]\n",
      " [    0.]\n",
      " [  230.]\n",
      " [  116.]\n",
      " [ -365.]\n",
      " [   25.]\n",
      " [  -78.]\n",
      " [  785.]]\n"
     ]
    }
   ],
   "source": [
    "# выводим вычисленные значения коэффициентов в виде вектора\n",
    "print('Vector w:\\n {}'.format(np.around(w)))"
   ]
  },
  {
   "cell_type": "code",
   "execution_count": 10,
   "metadata": {},
   "outputs": [
    {
     "data": {
      "text/html": [
       "<div>\n",
       "<style scoped>\n",
       "    .dataframe tbody tr th:only-of-type {\n",
       "        vertical-align: middle;\n",
       "    }\n",
       "\n",
       "    .dataframe tbody tr th {\n",
       "        vertical-align: top;\n",
       "    }\n",
       "\n",
       "    .dataframe thead th {\n",
       "        text-align: right;\n",
       "    }\n",
       "</style>\n",
       "<table border=\"1\" class=\"dataframe\">\n",
       "  <thead>\n",
       "    <tr style=\"text-align: right;\">\n",
       "      <th></th>\n",
       "      <th>Features</th>\n",
       "      <th>Coefficients</th>\n",
       "    </tr>\n",
       "  </thead>\n",
       "  <tbody>\n",
       "    <tr>\n",
       "      <th>0</th>\n",
       "      <td>INTERCEPT</td>\n",
       "      <td>-1232.0</td>\n",
       "    </tr>\n",
       "    <tr>\n",
       "      <th>1</th>\n",
       "      <td>Well</td>\n",
       "      <td>0.0</td>\n",
       "    </tr>\n",
       "    <tr>\n",
       "      <th>2</th>\n",
       "      <td>Por</td>\n",
       "      <td>230.0</td>\n",
       "    </tr>\n",
       "    <tr>\n",
       "      <th>3</th>\n",
       "      <td>Perm</td>\n",
       "      <td>116.0</td>\n",
       "    </tr>\n",
       "    <tr>\n",
       "      <th>4</th>\n",
       "      <td>AI</td>\n",
       "      <td>-365.0</td>\n",
       "    </tr>\n",
       "    <tr>\n",
       "      <th>5</th>\n",
       "      <td>Brittle</td>\n",
       "      <td>25.0</td>\n",
       "    </tr>\n",
       "    <tr>\n",
       "      <th>6</th>\n",
       "      <td>TOC</td>\n",
       "      <td>-78.0</td>\n",
       "    </tr>\n",
       "    <tr>\n",
       "      <th>7</th>\n",
       "      <td>VR</td>\n",
       "      <td>785.0</td>\n",
       "    </tr>\n",
       "  </tbody>\n",
       "</table>\n",
       "</div>"
      ],
      "text/plain": [
       "    Features  Coefficients\n",
       "0  INTERCEPT       -1232.0\n",
       "1       Well           0.0\n",
       "2        Por         230.0\n",
       "3       Perm         116.0\n",
       "4         AI        -365.0\n",
       "5    Brittle          25.0\n",
       "6        TOC         -78.0\n",
       "7         VR         785.0"
      ]
     },
     "metadata": {},
     "output_type": "display_data"
    }
   ],
   "source": [
    "# составляем таблицу из признаков и их коэффициентов округленных до целого\n",
    "w_df = pd.DataFrame({\n",
    "    'Features': data.drop('Prod', axis=1).columns, \n",
    "    'Coefficients': np.round(w[1:,0])\n",
    "})\n",
    "\n",
    "# составляем строку таблицы со свободным членом\n",
    "intercept_df =pd.DataFrame({\n",
    "    'Features': ['INTERCEPT'], \n",
    "    'Coefficients': round(w[0,0])\n",
    "})\n",
    "\n",
    "# объединяем таблицы\n",
    "coef_df = pd.concat([intercept_df, w_df], ignore_index=True)\n",
    "\n",
    "display(coef_df)"
   ]
  },
  {
   "attachments": {},
   "cell_type": "markdown",
   "metadata": {},
   "source": [
    "***"
   ]
  },
  {
   "attachments": {},
   "cell_type": "markdown",
   "metadata": {},
   "source": [
    "### Задание 5.3\n",
    "\n",
    "Далее потренируемся строить предсказание для наблюдений целевой переменной.\n",
    "\n",
    "1. Постройте прогноз выработки газа для скважины с параметрами, указанными ниже. Чему равна абсолютная ошибка построенного вами прогноза для предложенной скважины (в миллионах кубических футов в день). Ответ округлите до целого числа."
   ]
  },
  {
   "cell_type": "code",
   "execution_count": 11,
   "metadata": {},
   "outputs": [
    {
     "name": "stdout",
     "output_type": "stream",
     "text": [
      "Предсказанное значение: 4723.064053707253\n",
      "Реальное значение: 4748.315024\n",
      "Абсолютная ошибка: 25.250970292747297\n"
     ]
    }
   ],
   "source": [
    "# задаём параметры\n",
    "well_param = 106\n",
    "por_param = 15.32\n",
    "perm_param = 3.71\n",
    "ai_param = 3.29\n",
    "brittle_param = 55.99 \n",
    "toc_param = 1.35\n",
    "vr_param = 2.42\n",
    "\n",
    "# зададим реальное количество добычи газа в сутки\n",
    "prod_real = 4748.315024\n",
    "\n",
    "# делаем предсказание\n",
    "prod_predict = (\n",
    "    w[0,0] + \n",
    "    w[1,0]*well_param + \n",
    "    w[2,0]*por_param + \n",
    "    w[3,0]*perm_param + \n",
    "    w[4,0]*ai_param + \n",
    "    w[5,0]*brittle_param + \n",
    "    w[6,0]*toc_param + \n",
    "    w[7,0]*vr_param\n",
    ")\n",
    "\n",
    "print('Предсказанное значение: {}'.format(prod_predict))\n",
    "print('Реальное значение: {}'.format(prod_real))\n",
    "print('Абсолютная ошибка: {}'.format(prod_real - prod_predict))"
   ]
  },
  {
   "attachments": {},
   "cell_type": "markdown",
   "metadata": {},
   "source": [
    "2. Постройте прогноз выработки газа для всех скважин из обучающего набора данных. Чему равно значение метрики **MAPE** вашей модели? Ответ приведите в процентах (не указывайте знак процента), округлив его до первого знака после точки-разделителя."
   ]
  },
  {
   "cell_type": "code",
   "execution_count": 12,
   "metadata": {},
   "outputs": [
    {
     "name": "stdout",
     "output_type": "stream",
     "text": [
      "MAPE score: 3.6 %\n"
     ]
    }
   ],
   "source": [
    "# задаем столбец с предсказанным таргетом\n",
    "data['Prod_predict'] = 0\n",
    "\n",
    "# перебираем строки датасета\n",
    "for index, row in data.iterrows():\n",
    "    # задаём параметры\n",
    "    well_param = row['Well']\n",
    "    por_param = row['Por']\n",
    "    perm_param = row['Perm']\n",
    "    ai_param = row['AI']\n",
    "    brittle_param = row['Brittle'] \n",
    "    toc_param = row['TOC']\n",
    "    vr_param = row['VR']\n",
    "\n",
    "    # делаем предсказание\n",
    "    data.loc[index, 'Prod_predict'] = (\n",
    "        w[0,0] + \n",
    "        w[1,0]*well_param + \n",
    "        w[2,0]*por_param + \n",
    "        w[3,0]*perm_param + \n",
    "        w[4,0]*ai_param + \n",
    "        w[5,0]*brittle_param + \n",
    "        w[6,0]*toc_param + \n",
    "        w[7,0]*vr_param\n",
    "    )    \n",
    "\n",
    "# задаем реальные значения таргета\n",
    "y_real = data['Prod']\n",
    "# задаем предсказанные значения таргета\n",
    "y_predict = data['Prod_predict']\n",
    "\n",
    "#Рассчитываем MAPE\n",
    "print('MAPE score: {:.1f} %'.format(metrics.mean_absolute_percentage_error(y_real, y_predict) * 100))"
   ]
  },
  {
   "attachments": {},
   "cell_type": "markdown",
   "metadata": {},
   "source": [
    "***"
   ]
  },
  {
   "attachments": {},
   "cell_type": "markdown",
   "metadata": {},
   "source": [
    "Задание 5.4\n",
    "\n",
    "Настало время анализа построенной модели. Посмотрите на коэффициенты и сравните их знаки со значениями выборочных корреляций между целевым признаком и факторами, которые вы нашли ранее.\n",
    "\n",
    "\n",
    "1. Есть ли в вашей модели фактор, при котором коэффициент в модели линейной регрессии противоречит соответствующему коэффициенту корреляции? Например, корреляция говорит, что зависимость между фактором и целью прямая, а модель говорит обратное."
   ]
  },
  {
   "cell_type": "code",
   "execution_count": 13,
   "metadata": {},
   "outputs": [
    {
     "data": {
      "text/html": [
       "<div>\n",
       "<style scoped>\n",
       "    .dataframe tbody tr th:only-of-type {\n",
       "        vertical-align: middle;\n",
       "    }\n",
       "\n",
       "    .dataframe tbody tr th {\n",
       "        vertical-align: top;\n",
       "    }\n",
       "\n",
       "    .dataframe thead th {\n",
       "        text-align: right;\n",
       "    }\n",
       "</style>\n",
       "<table border=\"1\" class=\"dataframe\">\n",
       "  <thead>\n",
       "    <tr style=\"text-align: right;\">\n",
       "      <th></th>\n",
       "      <th>Features</th>\n",
       "      <th>Coefficients</th>\n",
       "    </tr>\n",
       "  </thead>\n",
       "  <tbody>\n",
       "    <tr>\n",
       "      <th>0</th>\n",
       "      <td>INTERCEPT</td>\n",
       "      <td>-1232.0</td>\n",
       "    </tr>\n",
       "    <tr>\n",
       "      <th>1</th>\n",
       "      <td>Well</td>\n",
       "      <td>0.0</td>\n",
       "    </tr>\n",
       "    <tr>\n",
       "      <th>2</th>\n",
       "      <td>Por</td>\n",
       "      <td>230.0</td>\n",
       "    </tr>\n",
       "    <tr>\n",
       "      <th>3</th>\n",
       "      <td>Perm</td>\n",
       "      <td>116.0</td>\n",
       "    </tr>\n",
       "    <tr>\n",
       "      <th>4</th>\n",
       "      <td>AI</td>\n",
       "      <td>-365.0</td>\n",
       "    </tr>\n",
       "    <tr>\n",
       "      <th>5</th>\n",
       "      <td>Brittle</td>\n",
       "      <td>25.0</td>\n",
       "    </tr>\n",
       "    <tr>\n",
       "      <th>6</th>\n",
       "      <td>TOC</td>\n",
       "      <td>-78.0</td>\n",
       "    </tr>\n",
       "    <tr>\n",
       "      <th>7</th>\n",
       "      <td>VR</td>\n",
       "      <td>785.0</td>\n",
       "    </tr>\n",
       "  </tbody>\n",
       "</table>\n",
       "</div>"
      ],
      "text/plain": [
       "    Features  Coefficients\n",
       "0  INTERCEPT       -1232.0\n",
       "1       Well           0.0\n",
       "2        Por         230.0\n",
       "3       Perm         116.0\n",
       "4         AI        -365.0\n",
       "5    Brittle          25.0\n",
       "6        TOC         -78.0\n",
       "7         VR         785.0"
      ]
     },
     "metadata": {},
     "output_type": "display_data"
    },
    {
     "data": {
      "text/plain": [
       "Well            0.026817\n",
       "Por             0.861910\n",
       "Perm            0.727426\n",
       "AI             -0.390835\n",
       "Brittle         0.237155\n",
       "TOC             0.654445\n",
       "VR              0.323182\n",
       "Prod            1.000000\n",
       "Prod_predict    0.979720\n",
       "Name: Prod, dtype: float64"
      ]
     },
     "metadata": {},
     "output_type": "display_data"
    }
   ],
   "source": [
    "display(coef_df)\n",
    "display(data.corr()[\"Prod\"])"
   ]
  },
  {
   "attachments": {},
   "cell_type": "markdown",
   "metadata": {},
   "source": [
    "Действительно, есть такой коэффициент **w_TOC**. Согласно построенной модели, зависимость между процентом органического углерода и производительностью скважины обратная. Однако, согласно положительному коэффициенту корреляции между этим факторым и целевым признаком, равным 0.65 (а также согласно реальным фактам из сферы добычи газа), зависимость должна быть прямой.     \n",
    "Чтобы убедиться в этом, можно построить диаграмму рассеяния, отражающую зависимость между **TOC** и **Prod**:"
   ]
  },
  {
   "cell_type": "code",
   "execution_count": 14,
   "metadata": {},
   "outputs": [
    {
     "data": {
      "image/svg+xml": "<?xml version=\"1.0\" encoding=\"utf-8\" standalone=\"no\"?>\n<!DOCTYPE svg PUBLIC \"-//W3C//DTD SVG 1.1//EN\"\n  \"http://www.w3.org/Graphics/SVG/1.1/DTD/svg11.dtd\">\n<svg xmlns:xlink=\"http://www.w3.org/1999/xlink\" width=\"504.103594pt\" height=\"349.525156pt\" viewBox=\"0 0 504.103594 349.525156\" xmlns=\"http://www.w3.org/2000/svg\" version=\"1.1\">\n <metadata>\n  <rdf:RDF xmlns:dc=\"http://purl.org/dc/elements/1.1/\" xmlns:cc=\"http://creativecommons.org/ns#\" xmlns:rdf=\"http://www.w3.org/1999/02/22-rdf-syntax-ns#\">\n   <cc:Work>\n    <dc:type rdf:resource=\"http://purl.org/dc/dcmitype/StillImage\"/>\n    <dc:date>2023-02-19T22:33:17.611149</dc:date>\n    <dc:format>image/svg+xml</dc:format>\n    <dc:creator>\n     <cc:Agent>\n      <dc:title>Matplotlib v3.5.2, https://matplotlib.org/</dc:title>\n     </cc:Agent>\n    </dc:creator>\n   </cc:Work>\n  </rdf:RDF>\n </metadata>\n <defs>\n  <style type=\"text/css\">*{stroke-linejoin: round; stroke-linecap: butt}</style>\n </defs>\n <g id=\"figure_1\">\n  <g id=\"patch_1\">\n   <path d=\"M 0 349.525156 \nL 504.103594 349.525156 \nL 504.103594 0 \nL 0 0 \nz\n\" style=\"fill: #ffffff\"/>\n  </g>\n  <g id=\"axes_1\">\n   <g id=\"patch_2\">\n    <path d=\"M 50.503594 312.12 \nL 496.903594 312.12 \nL 496.903594 7.2 \nL 50.503594 7.2 \nz\n\" style=\"fill: #eaeaf2\"/>\n   </g>\n   <g id=\"matplotlib.axis_1\">\n    <g id=\"xtick_1\">\n     <g id=\"line2d_1\">\n      <path d=\"M 103.32845 312.12 \nL 103.32845 7.2 \n\" clip-path=\"url(#p547c880ab9)\" style=\"fill: none; stroke: #ffffff; stroke-linecap: round\"/>\n     </g>\n     <g id=\"line2d_2\"/>\n     <g id=\"text_1\">\n      <!-- 0.0 -->\n      <g style=\"fill: #262626\" transform=\"translate(96.37845 326.277812)scale(0.1 -0.1)\">\n       <defs>\n        <path id=\"ArialMT-30\" d=\"M 266 2259 \nQ 266 3072 433 3567 \nQ 600 4063 929 4331 \nQ 1259 4600 1759 4600 \nQ 2128 4600 2406 4451 \nQ 2684 4303 2865 4023 \nQ 3047 3744 3150 3342 \nQ 3253 2941 3253 2259 \nQ 3253 1453 3087 958 \nQ 2922 463 2592 192 \nQ 2263 -78 1759 -78 \nQ 1097 -78 719 397 \nQ 266 969 266 2259 \nz\nM 844 2259 \nQ 844 1131 1108 757 \nQ 1372 384 1759 384 \nQ 2147 384 2411 759 \nQ 2675 1134 2675 2259 \nQ 2675 3391 2411 3762 \nQ 2147 4134 1753 4134 \nQ 1366 4134 1134 3806 \nQ 844 3388 844 2259 \nz\n\" transform=\"scale(0.015625)\"/>\n        <path id=\"ArialMT-2e\" d=\"M 581 0 \nL 581 641 \nL 1222 641 \nL 1222 0 \nL 581 0 \nz\n\" transform=\"scale(0.015625)\"/>\n       </defs>\n       <use xlink:href=\"#ArialMT-30\"/>\n       <use xlink:href=\"#ArialMT-2e\" x=\"55.615234\"/>\n       <use xlink:href=\"#ArialMT-30\" x=\"83.398438\"/>\n      </g>\n     </g>\n    </g>\n    <g id=\"xtick_2\">\n     <g id=\"line2d_3\">\n      <path d=\"M 188.9441 312.12 \nL 188.9441 7.2 \n\" clip-path=\"url(#p547c880ab9)\" style=\"fill: none; stroke: #ffffff; stroke-linecap: round\"/>\n     </g>\n     <g id=\"line2d_4\"/>\n     <g id=\"text_2\">\n      <!-- 0.5 -->\n      <g style=\"fill: #262626\" transform=\"translate(181.9941 326.277812)scale(0.1 -0.1)\">\n       <defs>\n        <path id=\"ArialMT-35\" d=\"M 266 1200 \nL 856 1250 \nQ 922 819 1161 601 \nQ 1400 384 1738 384 \nQ 2144 384 2425 690 \nQ 2706 997 2706 1503 \nQ 2706 1984 2436 2262 \nQ 2166 2541 1728 2541 \nQ 1456 2541 1237 2417 \nQ 1019 2294 894 2097 \nL 366 2166 \nL 809 4519 \nL 3088 4519 \nL 3088 3981 \nL 1259 3981 \nL 1013 2750 \nQ 1425 3038 1878 3038 \nQ 2478 3038 2890 2622 \nQ 3303 2206 3303 1553 \nQ 3303 931 2941 478 \nQ 2500 -78 1738 -78 \nQ 1113 -78 717 272 \nQ 322 622 266 1200 \nz\n\" transform=\"scale(0.015625)\"/>\n       </defs>\n       <use xlink:href=\"#ArialMT-30\"/>\n       <use xlink:href=\"#ArialMT-2e\" x=\"55.615234\"/>\n       <use xlink:href=\"#ArialMT-35\" x=\"83.398438\"/>\n      </g>\n     </g>\n    </g>\n    <g id=\"xtick_3\">\n     <g id=\"line2d_5\">\n      <path d=\"M 274.55975 312.12 \nL 274.55975 7.2 \n\" clip-path=\"url(#p547c880ab9)\" style=\"fill: none; stroke: #ffffff; stroke-linecap: round\"/>\n     </g>\n     <g id=\"line2d_6\"/>\n     <g id=\"text_3\">\n      <!-- 1.0 -->\n      <g style=\"fill: #262626\" transform=\"translate(267.60975 326.277812)scale(0.1 -0.1)\">\n       <defs>\n        <path id=\"ArialMT-31\" d=\"M 2384 0 \nL 1822 0 \nL 1822 3584 \nQ 1619 3391 1289 3197 \nQ 959 3003 697 2906 \nL 697 3450 \nQ 1169 3672 1522 3987 \nQ 1875 4303 2022 4600 \nL 2384 4600 \nL 2384 0 \nz\n\" transform=\"scale(0.015625)\"/>\n       </defs>\n       <use xlink:href=\"#ArialMT-31\"/>\n       <use xlink:href=\"#ArialMT-2e\" x=\"55.615234\"/>\n       <use xlink:href=\"#ArialMT-30\" x=\"83.398438\"/>\n      </g>\n     </g>\n    </g>\n    <g id=\"xtick_4\">\n     <g id=\"line2d_7\">\n      <path d=\"M 360.1754 312.12 \nL 360.1754 7.2 \n\" clip-path=\"url(#p547c880ab9)\" style=\"fill: none; stroke: #ffffff; stroke-linecap: round\"/>\n     </g>\n     <g id=\"line2d_8\"/>\n     <g id=\"text_4\">\n      <!-- 1.5 -->\n      <g style=\"fill: #262626\" transform=\"translate(353.2254 326.277812)scale(0.1 -0.1)\">\n       <use xlink:href=\"#ArialMT-31\"/>\n       <use xlink:href=\"#ArialMT-2e\" x=\"55.615234\"/>\n       <use xlink:href=\"#ArialMT-35\" x=\"83.398438\"/>\n      </g>\n     </g>\n    </g>\n    <g id=\"xtick_5\">\n     <g id=\"line2d_9\">\n      <path d=\"M 445.791051 312.12 \nL 445.791051 7.2 \n\" clip-path=\"url(#p547c880ab9)\" style=\"fill: none; stroke: #ffffff; stroke-linecap: round\"/>\n     </g>\n     <g id=\"line2d_10\"/>\n     <g id=\"text_5\">\n      <!-- 2.0 -->\n      <g style=\"fill: #262626\" transform=\"translate(438.841051 326.277812)scale(0.1 -0.1)\">\n       <defs>\n        <path id=\"ArialMT-32\" d=\"M 3222 541 \nL 3222 0 \nL 194 0 \nQ 188 203 259 391 \nQ 375 700 629 1000 \nQ 884 1300 1366 1694 \nQ 2113 2306 2375 2664 \nQ 2638 3022 2638 3341 \nQ 2638 3675 2398 3904 \nQ 2159 4134 1775 4134 \nQ 1369 4134 1125 3890 \nQ 881 3647 878 3216 \nL 300 3275 \nQ 359 3922 746 4261 \nQ 1134 4600 1788 4600 \nQ 2447 4600 2831 4234 \nQ 3216 3869 3216 3328 \nQ 3216 3053 3103 2787 \nQ 2991 2522 2730 2228 \nQ 2469 1934 1863 1422 \nQ 1356 997 1212 845 \nQ 1069 694 975 541 \nL 3222 541 \nz\n\" transform=\"scale(0.015625)\"/>\n       </defs>\n       <use xlink:href=\"#ArialMT-32\"/>\n       <use xlink:href=\"#ArialMT-2e\" x=\"55.615234\"/>\n       <use xlink:href=\"#ArialMT-30\" x=\"83.398438\"/>\n      </g>\n     </g>\n    </g>\n    <g id=\"text_6\">\n     <!-- TOC -->\n     <g style=\"fill: #262626\" transform=\"translate(262.190547 340.138906)scale(0.11 -0.11)\">\n      <defs>\n       <path id=\"ArialMT-54\" d=\"M 1659 0 \nL 1659 4041 \nL 150 4041 \nL 150 4581 \nL 3781 4581 \nL 3781 4041 \nL 2266 4041 \nL 2266 0 \nL 1659 0 \nz\n\" transform=\"scale(0.015625)\"/>\n       <path id=\"ArialMT-4f\" d=\"M 309 2231 \nQ 309 3372 921 4017 \nQ 1534 4663 2503 4663 \nQ 3138 4663 3647 4359 \nQ 4156 4056 4423 3514 \nQ 4691 2972 4691 2284 \nQ 4691 1588 4409 1038 \nQ 4128 488 3612 205 \nQ 3097 -78 2500 -78 \nQ 1853 -78 1343 234 \nQ 834 547 571 1087 \nQ 309 1628 309 2231 \nz\nM 934 2222 \nQ 934 1394 1379 917 \nQ 1825 441 2497 441 \nQ 3181 441 3623 922 \nQ 4066 1403 4066 2288 \nQ 4066 2847 3877 3264 \nQ 3688 3681 3323 3911 \nQ 2959 4141 2506 4141 \nQ 1863 4141 1398 3698 \nQ 934 3256 934 2222 \nz\n\" transform=\"scale(0.015625)\"/>\n       <path id=\"ArialMT-43\" d=\"M 3763 1606 \nL 4369 1453 \nQ 4178 706 3683 314 \nQ 3188 -78 2472 -78 \nQ 1731 -78 1267 223 \nQ 803 525 561 1097 \nQ 319 1669 319 2325 \nQ 319 3041 592 3573 \nQ 866 4106 1370 4382 \nQ 1875 4659 2481 4659 \nQ 3169 4659 3637 4309 \nQ 4106 3959 4291 3325 \nL 3694 3184 \nQ 3534 3684 3231 3912 \nQ 2928 4141 2469 4141 \nQ 1941 4141 1586 3887 \nQ 1231 3634 1087 3207 \nQ 944 2781 944 2328 \nQ 944 1744 1114 1308 \nQ 1284 872 1643 656 \nQ 2003 441 2422 441 \nQ 2931 441 3284 734 \nQ 3638 1028 3763 1606 \nz\n\" transform=\"scale(0.015625)\"/>\n      </defs>\n      <use xlink:href=\"#ArialMT-54\"/>\n      <use xlink:href=\"#ArialMT-4f\" x=\"59.333984\"/>\n      <use xlink:href=\"#ArialMT-43\" x=\"137.117188\"/>\n     </g>\n    </g>\n   </g>\n   <g id=\"matplotlib.axis_2\">\n    <g id=\"ytick_1\">\n     <g id=\"line2d_11\">\n      <path d=\"M 50.503594 304.779407 \nL 496.903594 304.779407 \n\" clip-path=\"url(#p547c880ab9)\" style=\"fill: none; stroke: #ffffff; stroke-linecap: round\"/>\n     </g>\n     <g id=\"line2d_12\"/>\n     <g id=\"text_7\">\n      <!-- 2000 -->\n      <g style=\"fill: #262626\" transform=\"translate(21.259844 308.358313)scale(0.1 -0.1)\">\n       <use xlink:href=\"#ArialMT-32\"/>\n       <use xlink:href=\"#ArialMT-30\" x=\"55.615234\"/>\n       <use xlink:href=\"#ArialMT-30\" x=\"111.230469\"/>\n       <use xlink:href=\"#ArialMT-30\" x=\"166.845703\"/>\n      </g>\n     </g>\n    </g>\n    <g id=\"ytick_2\">\n     <g id=\"line2d_13\">\n      <path d=\"M 50.503594 243.929657 \nL 496.903594 243.929657 \n\" clip-path=\"url(#p547c880ab9)\" style=\"fill: none; stroke: #ffffff; stroke-linecap: round\"/>\n     </g>\n     <g id=\"line2d_14\"/>\n     <g id=\"text_8\">\n      <!-- 3000 -->\n      <g style=\"fill: #262626\" transform=\"translate(21.259844 247.508563)scale(0.1 -0.1)\">\n       <defs>\n        <path id=\"ArialMT-33\" d=\"M 269 1209 \nL 831 1284 \nQ 928 806 1161 595 \nQ 1394 384 1728 384 \nQ 2125 384 2398 659 \nQ 2672 934 2672 1341 \nQ 2672 1728 2419 1979 \nQ 2166 2231 1775 2231 \nQ 1616 2231 1378 2169 \nL 1441 2663 \nQ 1497 2656 1531 2656 \nQ 1891 2656 2178 2843 \nQ 2466 3031 2466 3422 \nQ 2466 3731 2256 3934 \nQ 2047 4138 1716 4138 \nQ 1388 4138 1169 3931 \nQ 950 3725 888 3313 \nL 325 3413 \nQ 428 3978 793 4289 \nQ 1159 4600 1703 4600 \nQ 2078 4600 2393 4439 \nQ 2709 4278 2876 4000 \nQ 3044 3722 3044 3409 \nQ 3044 3113 2884 2869 \nQ 2725 2625 2413 2481 \nQ 2819 2388 3044 2092 \nQ 3269 1797 3269 1353 \nQ 3269 753 2831 336 \nQ 2394 -81 1725 -81 \nQ 1122 -81 723 278 \nQ 325 638 269 1209 \nz\n\" transform=\"scale(0.015625)\"/>\n       </defs>\n       <use xlink:href=\"#ArialMT-33\"/>\n       <use xlink:href=\"#ArialMT-30\" x=\"55.615234\"/>\n       <use xlink:href=\"#ArialMT-30\" x=\"111.230469\"/>\n       <use xlink:href=\"#ArialMT-30\" x=\"166.845703\"/>\n      </g>\n     </g>\n    </g>\n    <g id=\"ytick_3\">\n     <g id=\"line2d_15\">\n      <path d=\"M 50.503594 183.079907 \nL 496.903594 183.079907 \n\" clip-path=\"url(#p547c880ab9)\" style=\"fill: none; stroke: #ffffff; stroke-linecap: round\"/>\n     </g>\n     <g id=\"line2d_16\"/>\n     <g id=\"text_9\">\n      <!-- 4000 -->\n      <g style=\"fill: #262626\" transform=\"translate(21.259844 186.658813)scale(0.1 -0.1)\">\n       <defs>\n        <path id=\"ArialMT-34\" d=\"M 2069 0 \nL 2069 1097 \nL 81 1097 \nL 81 1613 \nL 2172 4581 \nL 2631 4581 \nL 2631 1613 \nL 3250 1613 \nL 3250 1097 \nL 2631 1097 \nL 2631 0 \nL 2069 0 \nz\nM 2069 1613 \nL 2069 3678 \nL 634 1613 \nL 2069 1613 \nz\n\" transform=\"scale(0.015625)\"/>\n       </defs>\n       <use xlink:href=\"#ArialMT-34\"/>\n       <use xlink:href=\"#ArialMT-30\" x=\"55.615234\"/>\n       <use xlink:href=\"#ArialMT-30\" x=\"111.230469\"/>\n       <use xlink:href=\"#ArialMT-30\" x=\"166.845703\"/>\n      </g>\n     </g>\n    </g>\n    <g id=\"ytick_4\">\n     <g id=\"line2d_17\">\n      <path d=\"M 50.503594 122.230157 \nL 496.903594 122.230157 \n\" clip-path=\"url(#p547c880ab9)\" style=\"fill: none; stroke: #ffffff; stroke-linecap: round\"/>\n     </g>\n     <g id=\"line2d_18\"/>\n     <g id=\"text_10\">\n      <!-- 5000 -->\n      <g style=\"fill: #262626\" transform=\"translate(21.259844 125.809063)scale(0.1 -0.1)\">\n       <use xlink:href=\"#ArialMT-35\"/>\n       <use xlink:href=\"#ArialMT-30\" x=\"55.615234\"/>\n       <use xlink:href=\"#ArialMT-30\" x=\"111.230469\"/>\n       <use xlink:href=\"#ArialMT-30\" x=\"166.845703\"/>\n      </g>\n     </g>\n    </g>\n    <g id=\"ytick_5\">\n     <g id=\"line2d_19\">\n      <path d=\"M 50.503594 61.380406 \nL 496.903594 61.380406 \n\" clip-path=\"url(#p547c880ab9)\" style=\"fill: none; stroke: #ffffff; stroke-linecap: round\"/>\n     </g>\n     <g id=\"line2d_20\"/>\n     <g id=\"text_11\">\n      <!-- 6000 -->\n      <g style=\"fill: #262626\" transform=\"translate(21.259844 64.959313)scale(0.1 -0.1)\">\n       <defs>\n        <path id=\"ArialMT-36\" d=\"M 3184 3459 \nL 2625 3416 \nQ 2550 3747 2413 3897 \nQ 2184 4138 1850 4138 \nQ 1581 4138 1378 3988 \nQ 1113 3794 959 3422 \nQ 806 3050 800 2363 \nQ 1003 2672 1297 2822 \nQ 1591 2972 1913 2972 \nQ 2475 2972 2870 2558 \nQ 3266 2144 3266 1488 \nQ 3266 1056 3080 686 \nQ 2894 316 2569 119 \nQ 2244 -78 1831 -78 \nQ 1128 -78 684 439 \nQ 241 956 241 2144 \nQ 241 3472 731 4075 \nQ 1159 4600 1884 4600 \nQ 2425 4600 2770 4297 \nQ 3116 3994 3184 3459 \nz\nM 888 1484 \nQ 888 1194 1011 928 \nQ 1134 663 1356 523 \nQ 1578 384 1822 384 \nQ 2178 384 2434 671 \nQ 2691 959 2691 1453 \nQ 2691 1928 2437 2201 \nQ 2184 2475 1800 2475 \nQ 1419 2475 1153 2201 \nQ 888 1928 888 1484 \nz\n\" transform=\"scale(0.015625)\"/>\n       </defs>\n       <use xlink:href=\"#ArialMT-36\"/>\n       <use xlink:href=\"#ArialMT-30\" x=\"55.615234\"/>\n       <use xlink:href=\"#ArialMT-30\" x=\"111.230469\"/>\n       <use xlink:href=\"#ArialMT-30\" x=\"166.845703\"/>\n      </g>\n     </g>\n    </g>\n    <g id=\"text_12\">\n     <!-- Prod -->\n     <g style=\"fill: #262626\" transform=\"translate(15.073594 171.277031)rotate(-90)scale(0.11 -0.11)\">\n      <defs>\n       <path id=\"ArialMT-50\" d=\"M 494 0 \nL 494 4581 \nL 2222 4581 \nQ 2678 4581 2919 4538 \nQ 3256 4481 3484 4323 \nQ 3713 4166 3852 3881 \nQ 3991 3597 3991 3256 \nQ 3991 2672 3619 2267 \nQ 3247 1863 2275 1863 \nL 1100 1863 \nL 1100 0 \nL 494 0 \nz\nM 1100 2403 \nL 2284 2403 \nQ 2872 2403 3119 2622 \nQ 3366 2841 3366 3238 \nQ 3366 3525 3220 3729 \nQ 3075 3934 2838 4000 \nQ 2684 4041 2272 4041 \nL 1100 4041 \nL 1100 2403 \nz\n\" transform=\"scale(0.015625)\"/>\n       <path id=\"ArialMT-72\" d=\"M 416 0 \nL 416 3319 \nL 922 3319 \nL 922 2816 \nQ 1116 3169 1280 3281 \nQ 1444 3394 1641 3394 \nQ 1925 3394 2219 3213 \nL 2025 2691 \nQ 1819 2813 1613 2813 \nQ 1428 2813 1281 2702 \nQ 1134 2591 1072 2394 \nQ 978 2094 978 1738 \nL 978 0 \nL 416 0 \nz\n\" transform=\"scale(0.015625)\"/>\n       <path id=\"ArialMT-6f\" d=\"M 213 1659 \nQ 213 2581 725 3025 \nQ 1153 3394 1769 3394 \nQ 2453 3394 2887 2945 \nQ 3322 2497 3322 1706 \nQ 3322 1066 3130 698 \nQ 2938 331 2570 128 \nQ 2203 -75 1769 -75 \nQ 1072 -75 642 372 \nQ 213 819 213 1659 \nz\nM 791 1659 \nQ 791 1022 1069 705 \nQ 1347 388 1769 388 \nQ 2188 388 2466 706 \nQ 2744 1025 2744 1678 \nQ 2744 2294 2464 2611 \nQ 2184 2928 1769 2928 \nQ 1347 2928 1069 2612 \nQ 791 2297 791 1659 \nz\n\" transform=\"scale(0.015625)\"/>\n       <path id=\"ArialMT-64\" d=\"M 2575 0 \nL 2575 419 \nQ 2259 -75 1647 -75 \nQ 1250 -75 917 144 \nQ 584 363 401 755 \nQ 219 1147 219 1656 \nQ 219 2153 384 2558 \nQ 550 2963 881 3178 \nQ 1213 3394 1622 3394 \nQ 1922 3394 2156 3267 \nQ 2391 3141 2538 2938 \nL 2538 4581 \nL 3097 4581 \nL 3097 0 \nL 2575 0 \nz\nM 797 1656 \nQ 797 1019 1065 703 \nQ 1334 388 1700 388 \nQ 2069 388 2326 689 \nQ 2584 991 2584 1609 \nQ 2584 2291 2321 2609 \nQ 2059 2928 1675 2928 \nQ 1300 2928 1048 2622 \nQ 797 2316 797 1656 \nz\n\" transform=\"scale(0.015625)\"/>\n      </defs>\n      <use xlink:href=\"#ArialMT-50\"/>\n      <use xlink:href=\"#ArialMT-72\" x=\"66.699219\"/>\n      <use xlink:href=\"#ArialMT-6f\" x=\"100\"/>\n      <use xlink:href=\"#ArialMT-64\" x=\"155.615234\"/>\n     </g>\n    </g>\n   </g>\n   <g id=\"PathCollection_1\">\n    <defs>\n     <path id=\"m1c16f4af91\" d=\"M 0 3.5 \nC 0.928211 3.5 1.81853 3.131218 2.474874 2.474874 \nC 3.131218 1.81853 3.5 0.928211 3.5 0 \nC 3.5 -0.928211 3.131218 -1.81853 2.474874 -2.474874 \nC 1.81853 -3.131218 0.928211 -3.5 0 -3.5 \nC -0.928211 -3.5 -1.81853 -3.131218 -2.474874 -2.474874 \nC -3.131218 -1.81853 -3.5 -0.928211 -3.5 0 \nC -3.5 0.928211 -3.131218 1.81853 -2.474874 2.474874 \nC -1.81853 3.131218 -0.928211 3.5 0 3.5 \nz\n\" style=\"stroke: #ffffff; stroke-width: 0.56\"/>\n    </defs>\n    <g clip-path=\"url(#p547c880ab9)\">\n     <use xlink:href=\"#m1c16f4af91\" x=\"301.956758\" y=\"173.02776\" style=\"fill: #4c72b0; stroke: #ffffff; stroke-width: 0.56\"/>\n     <use xlink:href=\"#m1c16f4af91\" x=\"255.724307\" y=\"209.78405\" style=\"fill: #4c72b0; stroke: #ffffff; stroke-width: 0.56\"/>\n     <use xlink:href=\"#m1c16f4af91\" x=\"255.724307\" y=\"165.777367\" style=\"fill: #4c72b0; stroke: #ffffff; stroke-width: 0.56\"/>\n     <use xlink:href=\"#m1c16f4af91\" x=\"288.258254\" y=\"116.22545\" style=\"fill: #4c72b0; stroke: #ffffff; stroke-width: 0.56\"/>\n     <use xlink:href=\"#m1c16f4af91\" x=\"361.887713\" y=\"219.216575\" style=\"fill: #4c72b0; stroke: #ffffff; stroke-width: 0.56\"/>\n     <use xlink:href=\"#m1c16f4af91\" x=\"264.285872\" y=\"158.997811\" style=\"fill: #4c72b0; stroke: #ffffff; stroke-width: 0.56\"/>\n     <use xlink:href=\"#m1c16f4af91\" x=\"240.31349\" y=\"176.727132\" style=\"fill: #4c72b0; stroke: #ffffff; stroke-width: 0.56\"/>\n     <use xlink:href=\"#m1c16f4af91\" x=\"221.478047\" y=\"213.702987\" style=\"fill: #4c72b0; stroke: #ffffff; stroke-width: 0.56\"/>\n     <use xlink:href=\"#m1c16f4af91\" x=\"265.998185\" y=\"181.50687\" style=\"fill: #4c72b0; stroke: #ffffff; stroke-width: 0.56\"/>\n     <use xlink:href=\"#m1c16f4af91\" x=\"298.532132\" y=\"165.736138\" style=\"fill: #4c72b0; stroke: #ffffff; stroke-width: 0.56\"/>\n     <use xlink:href=\"#m1c16f4af91\" x=\"288.258254\" y=\"140.999487\" style=\"fill: #4c72b0; stroke: #ffffff; stroke-width: 0.56\"/>\n     <use xlink:href=\"#m1c16f4af91\" x=\"365.312339\" y=\"114.429038\" style=\"fill: #4c72b0; stroke: #ffffff; stroke-width: 0.56\"/>\n     <use xlink:href=\"#m1c16f4af91\" x=\"303.669071\" y=\"115.296889\" style=\"fill: #4c72b0; stroke: #ffffff; stroke-width: 0.56\"/>\n     <use xlink:href=\"#m1c16f4af91\" x=\"423.530982\" y=\"88.979909\" style=\"fill: #4c72b0; stroke: #ffffff; stroke-width: 0.56\"/>\n     <use xlink:href=\"#m1c16f4af91\" x=\"134.150084\" y=\"163.390843\" style=\"fill: #4c72b0; stroke: #ffffff; stroke-width: 0.56\"/>\n     <use xlink:href=\"#m1c16f4af91\" x=\"200.930291\" y=\"211.071749\" style=\"fill: #4c72b0; stroke: #ffffff; stroke-width: 0.56\"/>\n     <use xlink:href=\"#m1c16f4af91\" x=\"332.778392\" y=\"96.314211\" style=\"fill: #4c72b0; stroke: #ffffff; stroke-width: 0.56\"/>\n     <use xlink:href=\"#m1c16f4af91\" x=\"334.490705\" y=\"195.491002\" style=\"fill: #4c72b0; stroke: #ffffff; stroke-width: 0.56\"/>\n     <use xlink:href=\"#m1c16f4af91\" x=\"257.43662\" y=\"150.550487\" style=\"fill: #4c72b0; stroke: #ffffff; stroke-width: 0.56\"/>\n     <use xlink:href=\"#m1c16f4af91\" x=\"257.43662\" y=\"195.042275\" style=\"fill: #4c72b0; stroke: #ffffff; stroke-width: 0.56\"/>\n     <use xlink:href=\"#m1c16f4af91\" x=\"319.079888\" y=\"74.837238\" style=\"fill: #4c72b0; stroke: #ffffff; stroke-width: 0.56\"/>\n     <use xlink:href=\"#m1c16f4af91\" x=\"310.518323\" y=\"136.146018\" style=\"fill: #4c72b0; stroke: #ffffff; stroke-width: 0.56\"/>\n     <use xlink:href=\"#m1c16f4af91\" x=\"274.55975\" y=\"275.201834\" style=\"fill: #4c72b0; stroke: #ffffff; stroke-width: 0.56\"/>\n     <use xlink:href=\"#m1c16f4af91\" x=\"168.396344\" y=\"273.414968\" style=\"fill: #4c72b0; stroke: #ffffff; stroke-width: 0.56\"/>\n     <use xlink:href=\"#m1c16f4af91\" x=\"406.407852\" y=\"58.565647\" style=\"fill: #4c72b0; stroke: #ffffff; stroke-width: 0.56\"/>\n     <use xlink:href=\"#m1c16f4af91\" x=\"96.479198\" y=\"283.403529\" style=\"fill: #4c72b0; stroke: #ffffff; stroke-width: 0.56\"/>\n     <use xlink:href=\"#m1c16f4af91\" x=\"337.915331\" y=\"123.935212\" style=\"fill: #4c72b0; stroke: #ffffff; stroke-width: 0.56\"/>\n     <use xlink:href=\"#m1c16f4af91\" x=\"291.68288\" y=\"183.1034\" style=\"fill: #4c72b0; stroke: #ffffff; stroke-width: 0.56\"/>\n     <use xlink:href=\"#m1c16f4af91\" x=\"226.614986\" y=\"258.504025\" style=\"fill: #4c72b0; stroke: #ffffff; stroke-width: 0.56\"/>\n     <use xlink:href=\"#m1c16f4af91\" x=\"242.025803\" y=\"193.688342\" style=\"fill: #4c72b0; stroke: #ffffff; stroke-width: 0.56\"/>\n     <use xlink:href=\"#m1c16f4af91\" x=\"351.613835\" y=\"69.914686\" style=\"fill: #4c72b0; stroke: #ffffff; stroke-width: 0.56\"/>\n     <use xlink:href=\"#m1c16f4af91\" x=\"260.861246\" y=\"196.711396\" style=\"fill: #4c72b0; stroke: #ffffff; stroke-width: 0.56\"/>\n     <use xlink:href=\"#m1c16f4af91\" x=\"238.601177\" y=\"188.721334\" style=\"fill: #4c72b0; stroke: #ffffff; stroke-width: 0.56\"/>\n     <use xlink:href=\"#m1c16f4af91\" x=\"296.819819\" y=\"175.885441\" style=\"fill: #4c72b0; stroke: #ffffff; stroke-width: 0.56\"/>\n     <use xlink:href=\"#m1c16f4af91\" x=\"176.957909\" y=\"206.126073\" style=\"fill: #4c72b0; stroke: #ffffff; stroke-width: 0.56\"/>\n     <use xlink:href=\"#m1c16f4af91\" x=\"195.793352\" y=\"261.049555\" style=\"fill: #4c72b0; stroke: #ffffff; stroke-width: 0.56\"/>\n     <use xlink:href=\"#m1c16f4af91\" x=\"185.519474\" y=\"206.904121\" style=\"fill: #4c72b0; stroke: #ffffff; stroke-width: 0.56\"/>\n     <use xlink:href=\"#m1c16f4af91\" x=\"331.066079\" y=\"107.040505\" style=\"fill: #4c72b0; stroke: #ffffff; stroke-width: 0.56\"/>\n     <use xlink:href=\"#m1c16f4af91\" x=\"298.532132\" y=\"168.504452\" style=\"fill: #4c72b0; stroke: #ffffff; stroke-width: 0.56\"/>\n     <use xlink:href=\"#m1c16f4af91\" x=\"252.299681\" y=\"154.404987\" style=\"fill: #4c72b0; stroke: #ffffff; stroke-width: 0.56\"/>\n     <use xlink:href=\"#m1c16f4af91\" x=\"269.422811\" y=\"160.979104\" style=\"fill: #4c72b0; stroke: #ffffff; stroke-width: 0.56\"/>\n     <use xlink:href=\"#m1c16f4af91\" x=\"276.272063\" y=\"152.95899\" style=\"fill: #4c72b0; stroke: #ffffff; stroke-width: 0.56\"/>\n     <use xlink:href=\"#m1c16f4af91\" x=\"70.794503\" y=\"237.939812\" style=\"fill: #4c72b0; stroke: #ffffff; stroke-width: 0.56\"/>\n     <use xlink:href=\"#m1c16f4af91\" x=\"245.450429\" y=\"263.566032\" style=\"fill: #4c72b0; stroke: #ffffff; stroke-width: 0.56\"/>\n     <use xlink:href=\"#m1c16f4af91\" x=\"457.777242\" y=\"74.774844\" style=\"fill: #4c72b0; stroke: #ffffff; stroke-width: 0.56\"/>\n     <use xlink:href=\"#m1c16f4af91\" x=\"216.341108\" y=\"231.09636\" style=\"fill: #4c72b0; stroke: #ffffff; stroke-width: 0.56\"/>\n     <use xlink:href=\"#m1c16f4af91\" x=\"154.69784\" y=\"245.923082\" style=\"fill: #4c72b0; stroke: #ffffff; stroke-width: 0.56\"/>\n     <use xlink:href=\"#m1c16f4af91\" x=\"117.026954\" y=\"279.476552\" style=\"fill: #4c72b0; stroke: #ffffff; stroke-width: 0.56\"/>\n     <use xlink:href=\"#m1c16f4af91\" x=\"274.55975\" y=\"87.969266\" style=\"fill: #4c72b0; stroke: #ffffff; stroke-width: 0.56\"/>\n     <use xlink:href=\"#m1c16f4af91\" x=\"315.655262\" y=\"101.71492\" style=\"fill: #4c72b0; stroke: #ffffff; stroke-width: 0.56\"/>\n     <use xlink:href=\"#m1c16f4af91\" x=\"375.586217\" y=\"81.428101\" style=\"fill: #4c72b0; stroke: #ffffff; stroke-width: 0.56\"/>\n     <use xlink:href=\"#m1c16f4af91\" x=\"365.312339\" y=\"67.504715\" style=\"fill: #4c72b0; stroke: #ffffff; stroke-width: 0.56\"/>\n     <use xlink:href=\"#m1c16f4af91\" x=\"240.31349\" y=\"146.504867\" style=\"fill: #4c72b0; stroke: #ffffff; stroke-width: 0.56\"/>\n     <use xlink:href=\"#m1c16f4af91\" x=\"233.464238\" y=\"198.832132\" style=\"fill: #4c72b0; stroke: #ffffff; stroke-width: 0.56\"/>\n     <use xlink:href=\"#m1c16f4af91\" x=\"440.654112\" y=\"85.356537\" style=\"fill: #4c72b0; stroke: #ffffff; stroke-width: 0.56\"/>\n     <use xlink:href=\"#m1c16f4af91\" x=\"233.464238\" y=\"178.212273\" style=\"fill: #4c72b0; stroke: #ffffff; stroke-width: 0.56\"/>\n     <use xlink:href=\"#m1c16f4af91\" x=\"209.491856\" y=\"235.013456\" style=\"fill: #4c72b0; stroke: #ffffff; stroke-width: 0.56\"/>\n     <use xlink:href=\"#m1c16f4af91\" x=\"236.888864\" y=\"201.831825\" style=\"fill: #4c72b0; stroke: #ffffff; stroke-width: 0.56\"/>\n     <use xlink:href=\"#m1c16f4af91\" x=\"289.970567\" y=\"210.916666\" style=\"fill: #4c72b0; stroke: #ffffff; stroke-width: 0.56\"/>\n     <use xlink:href=\"#m1c16f4af91\" x=\"137.57471\" y=\"184.932293\" style=\"fill: #4c72b0; stroke: #ffffff; stroke-width: 0.56\"/>\n     <use xlink:href=\"#m1c16f4af91\" x=\"325.92914\" y=\"70.445535\" style=\"fill: #4c72b0; stroke: #ffffff; stroke-width: 0.56\"/>\n     <use xlink:href=\"#m1c16f4af91\" x=\"286.545941\" y=\"199.27996\" style=\"fill: #4c72b0; stroke: #ffffff; stroke-width: 0.56\"/>\n     <use xlink:href=\"#m1c16f4af91\" x=\"295.107506\" y=\"84.447853\" style=\"fill: #4c72b0; stroke: #ffffff; stroke-width: 0.56\"/>\n     <use xlink:href=\"#m1c16f4af91\" x=\"286.545941\" y=\"163.628549\" style=\"fill: #4c72b0; stroke: #ffffff; stroke-width: 0.56\"/>\n     <use xlink:href=\"#m1c16f4af91\" x=\"389.284721\" y=\"84.476183\" style=\"fill: #4c72b0; stroke: #ffffff; stroke-width: 0.56\"/>\n     <use xlink:href=\"#m1c16f4af91\" x=\"110.177702\" y=\"156.798544\" style=\"fill: #4c72b0; stroke: #ffffff; stroke-width: 0.56\"/>\n     <use xlink:href=\"#m1c16f4af91\" x=\"312.230636\" y=\"221.032887\" style=\"fill: #4c72b0; stroke: #ffffff; stroke-width: 0.56\"/>\n     <use xlink:href=\"#m1c16f4af91\" x=\"322.504514\" y=\"183.081164\" style=\"fill: #4c72b0; stroke: #ffffff; stroke-width: 0.56\"/>\n     <use xlink:href=\"#m1c16f4af91\" x=\"281.409002\" y=\"162.606052\" style=\"fill: #4c72b0; stroke: #ffffff; stroke-width: 0.56\"/>\n     <use xlink:href=\"#m1c16f4af91\" x=\"183.807161\" y=\"197.251666\" style=\"fill: #4c72b0; stroke: #ffffff; stroke-width: 0.56\"/>\n     <use xlink:href=\"#m1c16f4af91\" x=\"130.725458\" y=\"232.9395\" style=\"fill: #4c72b0; stroke: #ffffff; stroke-width: 0.56\"/>\n     <use xlink:href=\"#m1c16f4af91\" x=\"259.148933\" y=\"163.574252\" style=\"fill: #4c72b0; stroke: #ffffff; stroke-width: 0.56\"/>\n     <use xlink:href=\"#m1c16f4af91\" x=\"226.614986\" y=\"169.659063\" style=\"fill: #4c72b0; stroke: #ffffff; stroke-width: 0.56\"/>\n     <use xlink:href=\"#m1c16f4af91\" x=\"291.68288\" y=\"177.75374\" style=\"fill: #4c72b0; stroke: #ffffff; stroke-width: 0.56\"/>\n     <use xlink:href=\"#m1c16f4af91\" x=\"185.519474\" y=\"102.668792\" style=\"fill: #4c72b0; stroke: #ffffff; stroke-width: 0.56\"/>\n     <use xlink:href=\"#m1c16f4af91\" x=\"346.476896\" y=\"58.151027\" style=\"fill: #4c72b0; stroke: #ffffff; stroke-width: 0.56\"/>\n     <use xlink:href=\"#m1c16f4af91\" x=\"355.038461\" y=\"95.041875\" style=\"fill: #4c72b0; stroke: #ffffff; stroke-width: 0.56\"/>\n     <use xlink:href=\"#m1c16f4af91\" x=\"182.094848\" y=\"232.325633\" style=\"fill: #4c72b0; stroke: #ffffff; stroke-width: 0.56\"/>\n     <use xlink:href=\"#m1c16f4af91\" x=\"240.31349\" y=\"166.260427\" style=\"fill: #4c72b0; stroke: #ffffff; stroke-width: 0.56\"/>\n     <use xlink:href=\"#m1c16f4af91\" x=\"300.244445\" y=\"90.694384\" style=\"fill: #4c72b0; stroke: #ffffff; stroke-width: 0.56\"/>\n     <use xlink:href=\"#m1c16f4af91\" x=\"303.669071\" y=\"149.299363\" style=\"fill: #4c72b0; stroke: #ffffff; stroke-width: 0.56\"/>\n     <use xlink:href=\"#m1c16f4af91\" x=\"312.230636\" y=\"153.306546\" style=\"fill: #4c72b0; stroke: #ffffff; stroke-width: 0.56\"/>\n     <use xlink:href=\"#m1c16f4af91\" x=\"168.396344\" y=\"163.620922\" style=\"fill: #4c72b0; stroke: #ffffff; stroke-width: 0.56\"/>\n     <use xlink:href=\"#m1c16f4af91\" x=\"206.06723\" y=\"176.195035\" style=\"fill: #4c72b0; stroke: #ffffff; stroke-width: 0.56\"/>\n     <use xlink:href=\"#m1c16f4af91\" x=\"204.354917\" y=\"260.068595\" style=\"fill: #4c72b0; stroke: #ffffff; stroke-width: 0.56\"/>\n     <use xlink:href=\"#m1c16f4af91\" x=\"281.409002\" y=\"174.414494\" style=\"fill: #4c72b0; stroke: #ffffff; stroke-width: 0.56\"/>\n     <use xlink:href=\"#m1c16f4af91\" x=\"336.203018\" y=\"170.412514\" style=\"fill: #4c72b0; stroke: #ffffff; stroke-width: 0.56\"/>\n     <use xlink:href=\"#m1c16f4af91\" x=\"265.998185\" y=\"151.442701\" style=\"fill: #4c72b0; stroke: #ffffff; stroke-width: 0.56\"/>\n     <use xlink:href=\"#m1c16f4af91\" x=\"192.368726\" y=\"221.767339\" style=\"fill: #4c72b0; stroke: #ffffff; stroke-width: 0.56\"/>\n     <use xlink:href=\"#m1c16f4af91\" x=\"303.669071\" y=\"209.69345\" style=\"fill: #4c72b0; stroke: #ffffff; stroke-width: 0.56\"/>\n     <use xlink:href=\"#m1c16f4af91\" x=\"247.162742\" y=\"194.870811\" style=\"fill: #4c72b0; stroke: #ffffff; stroke-width: 0.56\"/>\n     <use xlink:href=\"#m1c16f4af91\" x=\"168.396344\" y=\"297.519087\" style=\"fill: #4c72b0; stroke: #ffffff; stroke-width: 0.56\"/>\n     <use xlink:href=\"#m1c16f4af91\" x=\"355.038461\" y=\"129.671185\" style=\"fill: #4c72b0; stroke: #ffffff; stroke-width: 0.56\"/>\n     <use xlink:href=\"#m1c16f4af91\" x=\"170.108657\" y=\"207.913179\" style=\"fill: #4c72b0; stroke: #ffffff; stroke-width: 0.56\"/>\n     <use xlink:href=\"#m1c16f4af91\" x=\"265.998185\" y=\"140.471426\" style=\"fill: #4c72b0; stroke: #ffffff; stroke-width: 0.56\"/>\n     <use xlink:href=\"#m1c16f4af91\" x=\"260.861246\" y=\"100.87498\" style=\"fill: #4c72b0; stroke: #ffffff; stroke-width: 0.56\"/>\n     <use xlink:href=\"#m1c16f4af91\" x=\"355.038461\" y=\"105.266134\" style=\"fill: #4c72b0; stroke: #ffffff; stroke-width: 0.56\"/>\n     <use xlink:href=\"#m1c16f4af91\" x=\"375.586217\" y=\"33.690841\" style=\"fill: #4c72b0; stroke: #ffffff; stroke-width: 0.56\"/>\n     <use xlink:href=\"#m1c16f4af91\" x=\"247.162742\" y=\"203.041975\" style=\"fill: #4c72b0; stroke: #ffffff; stroke-width: 0.56\"/>\n     <use xlink:href=\"#m1c16f4af91\" x=\"368.736965\" y=\"125.337804\" style=\"fill: #4c72b0; stroke: #ffffff; stroke-width: 0.56\"/>\n     <use xlink:href=\"#m1c16f4af91\" x=\"271.135124\" y=\"154.791163\" style=\"fill: #4c72b0; stroke: #ffffff; stroke-width: 0.56\"/>\n     <use xlink:href=\"#m1c16f4af91\" x=\"250.587368\" y=\"182.844116\" style=\"fill: #4c72b0; stroke: #ffffff; stroke-width: 0.56\"/>\n     <use xlink:href=\"#m1c16f4af91\" x=\"180.382535\" y=\"221.046507\" style=\"fill: #4c72b0; stroke: #ffffff; stroke-width: 0.56\"/>\n     <use xlink:href=\"#m1c16f4af91\" x=\"284.833628\" y=\"191.78191\" style=\"fill: #4c72b0; stroke: #ffffff; stroke-width: 0.56\"/>\n     <use xlink:href=\"#m1c16f4af91\" x=\"402.983226\" y=\"141.128127\" style=\"fill: #4c72b0; stroke: #ffffff; stroke-width: 0.56\"/>\n     <use xlink:href=\"#m1c16f4af91\" x=\"334.490705\" y=\"137.545124\" style=\"fill: #4c72b0; stroke: #ffffff; stroke-width: 0.56\"/>\n     <use xlink:href=\"#m1c16f4af91\" x=\"188.9441\" y=\"189.747335\" style=\"fill: #4c72b0; stroke: #ffffff; stroke-width: 0.56\"/>\n     <use xlink:href=\"#m1c16f4af91\" x=\"348.189209\" y=\"138.41828\" style=\"fill: #4c72b0; stroke: #ffffff; stroke-width: 0.56\"/>\n     <use xlink:href=\"#m1c16f4af91\" x=\"459.489555\" y=\"32.163958\" style=\"fill: #4c72b0; stroke: #ffffff; stroke-width: 0.56\"/>\n     <use xlink:href=\"#m1c16f4af91\" x=\"300.244445\" y=\"137.3233\" style=\"fill: #4c72b0; stroke: #ffffff; stroke-width: 0.56\"/>\n     <use xlink:href=\"#m1c16f4af91\" x=\"202.642604\" y=\"156.938781\" style=\"fill: #4c72b0; stroke: #ffffff; stroke-width: 0.56\"/>\n     <use xlink:href=\"#m1c16f4af91\" x=\"168.396344\" y=\"201.602237\" style=\"fill: #4c72b0; stroke: #ffffff; stroke-width: 0.56\"/>\n     <use xlink:href=\"#m1c16f4af91\" x=\"341.339957\" y=\"101.893596\" style=\"fill: #4c72b0; stroke: #ffffff; stroke-width: 0.56\"/>\n     <use xlink:href=\"#m1c16f4af91\" x=\"331.066079\" y=\"50.917361\" style=\"fill: #4c72b0; stroke: #ffffff; stroke-width: 0.56\"/>\n     <use xlink:href=\"#m1c16f4af91\" x=\"243.738116\" y=\"110.780348\" style=\"fill: #4c72b0; stroke: #ffffff; stroke-width: 0.56\"/>\n     <use xlink:href=\"#m1c16f4af91\" x=\"343.05227\" y=\"96.088421\" style=\"fill: #4c72b0; stroke: #ffffff; stroke-width: 0.56\"/>\n     <use xlink:href=\"#m1c16f4af91\" x=\"242.025803\" y=\"171.460678\" style=\"fill: #4c72b0; stroke: #ffffff; stroke-width: 0.56\"/>\n     <use xlink:href=\"#m1c16f4af91\" x=\"363.600026\" y=\"163.542003\" style=\"fill: #4c72b0; stroke: #ffffff; stroke-width: 0.56\"/>\n     <use xlink:href=\"#m1c16f4af91\" x=\"277.984376\" y=\"226.981835\" style=\"fill: #4c72b0; stroke: #ffffff; stroke-width: 0.56\"/>\n     <use xlink:href=\"#m1c16f4af91\" x=\"313.942949\" y=\"87.659618\" style=\"fill: #4c72b0; stroke: #ffffff; stroke-width: 0.56\"/>\n     <use xlink:href=\"#m1c16f4af91\" x=\"185.519474\" y=\"136.74031\" style=\"fill: #4c72b0; stroke: #ffffff; stroke-width: 0.56\"/>\n     <use xlink:href=\"#m1c16f4af91\" x=\"303.669071\" y=\"238.085559\" style=\"fill: #4c72b0; stroke: #ffffff; stroke-width: 0.56\"/>\n     <use xlink:href=\"#m1c16f4af91\" x=\"293.395193\" y=\"62.298029\" style=\"fill: #4c72b0; stroke: #ffffff; stroke-width: 0.56\"/>\n     <use xlink:href=\"#m1c16f4af91\" x=\"188.9441\" y=\"183.843471\" style=\"fill: #4c72b0; stroke: #ffffff; stroke-width: 0.56\"/>\n     <use xlink:href=\"#m1c16f4af91\" x=\"476.612685\" y=\"115.678528\" style=\"fill: #4c72b0; stroke: #ffffff; stroke-width: 0.56\"/>\n     <use xlink:href=\"#m1c16f4af91\" x=\"331.066079\" y=\"147.131393\" style=\"fill: #4c72b0; stroke: #ffffff; stroke-width: 0.56\"/>\n     <use xlink:href=\"#m1c16f4af91\" x=\"296.819819\" y=\"159.049809\" style=\"fill: #4c72b0; stroke: #ffffff; stroke-width: 0.56\"/>\n     <use xlink:href=\"#m1c16f4af91\" x=\"380.723156\" y=\"134.328937\" style=\"fill: #4c72b0; stroke: #ffffff; stroke-width: 0.56\"/>\n     <use xlink:href=\"#m1c16f4af91\" x=\"262.573559\" y=\"175.863921\" style=\"fill: #4c72b0; stroke: #ffffff; stroke-width: 0.56\"/>\n     <use xlink:href=\"#m1c16f4af91\" x=\"363.600026\" y=\"197.50535\" style=\"fill: #4c72b0; stroke: #ffffff; stroke-width: 0.56\"/>\n     <use xlink:href=\"#m1c16f4af91\" x=\"303.669071\" y=\"147.592686\" style=\"fill: #4c72b0; stroke: #ffffff; stroke-width: 0.56\"/>\n     <use xlink:href=\"#m1c16f4af91\" x=\"353.326148\" y=\"106.565014\" style=\"fill: #4c72b0; stroke: #ffffff; stroke-width: 0.56\"/>\n     <use xlink:href=\"#m1c16f4af91\" x=\"156.410153\" y=\"228.213919\" style=\"fill: #4c72b0; stroke: #ffffff; stroke-width: 0.56\"/>\n     <use xlink:href=\"#m1c16f4af91\" x=\"262.573559\" y=\"128.534379\" style=\"fill: #4c72b0; stroke: #ffffff; stroke-width: 0.56\"/>\n     <use xlink:href=\"#m1c16f4af91\" x=\"207.779543\" y=\"273.83688\" style=\"fill: #4c72b0; stroke: #ffffff; stroke-width: 0.56\"/>\n     <use xlink:href=\"#m1c16f4af91\" x=\"365.312339\" y=\"204.042782\" style=\"fill: #4c72b0; stroke: #ffffff; stroke-width: 0.56\"/>\n     <use xlink:href=\"#m1c16f4af91\" x=\"168.396344\" y=\"164.811425\" style=\"fill: #4c72b0; stroke: #ffffff; stroke-width: 0.56\"/>\n     <use xlink:href=\"#m1c16f4af91\" x=\"281.409002\" y=\"148.614562\" style=\"fill: #4c72b0; stroke: #ffffff; stroke-width: 0.56\"/>\n     <use xlink:href=\"#m1c16f4af91\" x=\"166.684031\" y=\"298.26\" style=\"fill: #4c72b0; stroke: #ffffff; stroke-width: 0.56\"/>\n     <use xlink:href=\"#m1c16f4af91\" x=\"202.642604\" y=\"183.748465\" style=\"fill: #4c72b0; stroke: #ffffff; stroke-width: 0.56\"/>\n     <use xlink:href=\"#m1c16f4af91\" x=\"337.915331\" y=\"67.259818\" style=\"fill: #4c72b0; stroke: #ffffff; stroke-width: 0.56\"/>\n     <use xlink:href=\"#m1c16f4af91\" x=\"247.162742\" y=\"167.258675\" style=\"fill: #4c72b0; stroke: #ffffff; stroke-width: 0.56\"/>\n     <use xlink:href=\"#m1c16f4af91\" x=\"384.147782\" y=\"61.569014\" style=\"fill: #4c72b0; stroke: #ffffff; stroke-width: 0.56\"/>\n     <use xlink:href=\"#m1c16f4af91\" x=\"188.9441\" y=\"231.942592\" style=\"fill: #4c72b0; stroke: #ffffff; stroke-width: 0.56\"/>\n     <use xlink:href=\"#m1c16f4af91\" x=\"301.956758\" y=\"154.093071\" style=\"fill: #4c72b0; stroke: #ffffff; stroke-width: 0.56\"/>\n     <use xlink:href=\"#m1c16f4af91\" x=\"356.750774\" y=\"146.217129\" style=\"fill: #4c72b0; stroke: #ffffff; stroke-width: 0.56\"/>\n     <use xlink:href=\"#m1c16f4af91\" x=\"176.957909\" y=\"172.078999\" style=\"fill: #4c72b0; stroke: #ffffff; stroke-width: 0.56\"/>\n     <use xlink:href=\"#m1c16f4af91\" x=\"377.29853\" y=\"97.867449\" style=\"fill: #4c72b0; stroke: #ffffff; stroke-width: 0.56\"/>\n     <use xlink:href=\"#m1c16f4af91\" x=\"120.45158\" y=\"186.10459\" style=\"fill: #4c72b0; stroke: #ffffff; stroke-width: 0.56\"/>\n     <use xlink:href=\"#m1c16f4af91\" x=\"319.079888\" y=\"218.465829\" style=\"fill: #4c72b0; stroke: #ffffff; stroke-width: 0.56\"/>\n     <use xlink:href=\"#m1c16f4af91\" x=\"243.738116\" y=\"261.827477\" style=\"fill: #4c72b0; stroke: #ffffff; stroke-width: 0.56\"/>\n     <use xlink:href=\"#m1c16f4af91\" x=\"180.382535\" y=\"230.573624\" style=\"fill: #4c72b0; stroke: #ffffff; stroke-width: 0.56\"/>\n     <use xlink:href=\"#m1c16f4af91\" x=\"387.572408\" y=\"85.262991\" style=\"fill: #4c72b0; stroke: #ffffff; stroke-width: 0.56\"/>\n     <use xlink:href=\"#m1c16f4af91\" x=\"211.204169\" y=\"117.16027\" style=\"fill: #4c72b0; stroke: #ffffff; stroke-width: 0.56\"/>\n     <use xlink:href=\"#m1c16f4af91\" x=\"360.1754\" y=\"223.170294\" style=\"fill: #4c72b0; stroke: #ffffff; stroke-width: 0.56\"/>\n     <use xlink:href=\"#m1c16f4af91\" x=\"185.519474\" y=\"191.14624\" style=\"fill: #4c72b0; stroke: #ffffff; stroke-width: 0.56\"/>\n     <use xlink:href=\"#m1c16f4af91\" x=\"331.066079\" y=\"83.896629\" style=\"fill: #4c72b0; stroke: #ffffff; stroke-width: 0.56\"/>\n     <use xlink:href=\"#m1c16f4af91\" x=\"344.764583\" y=\"130.805851\" style=\"fill: #4c72b0; stroke: #ffffff; stroke-width: 0.56\"/>\n     <use xlink:href=\"#m1c16f4af91\" x=\"283.121315\" y=\"177.437277\" style=\"fill: #4c72b0; stroke: #ffffff; stroke-width: 0.56\"/>\n     <use xlink:href=\"#m1c16f4af91\" x=\"277.984376\" y=\"67.576791\" style=\"fill: #4c72b0; stroke: #ffffff; stroke-width: 0.56\"/>\n     <use xlink:href=\"#m1c16f4af91\" x=\"310.518323\" y=\"117.022089\" style=\"fill: #4c72b0; stroke: #ffffff; stroke-width: 0.56\"/>\n     <use xlink:href=\"#m1c16f4af91\" x=\"401.270913\" y=\"154.426802\" style=\"fill: #4c72b0; stroke: #ffffff; stroke-width: 0.56\"/>\n     <use xlink:href=\"#m1c16f4af91\" x=\"151.273214\" y=\"187.704649\" style=\"fill: #4c72b0; stroke: #ffffff; stroke-width: 0.56\"/>\n     <use xlink:href=\"#m1c16f4af91\" x=\"206.06723\" y=\"216.008986\" style=\"fill: #4c72b0; stroke: #ffffff; stroke-width: 0.56\"/>\n     <use xlink:href=\"#m1c16f4af91\" x=\"257.43662\" y=\"182.243159\" style=\"fill: #4c72b0; stroke: #ffffff; stroke-width: 0.56\"/>\n     <use xlink:href=\"#m1c16f4af91\" x=\"367.024652\" y=\"111.544994\" style=\"fill: #4c72b0; stroke: #ffffff; stroke-width: 0.56\"/>\n     <use xlink:href=\"#m1c16f4af91\" x=\"372.161591\" y=\"37.301622\" style=\"fill: #4c72b0; stroke: #ffffff; stroke-width: 0.56\"/>\n     <use xlink:href=\"#m1c16f4af91\" x=\"289.970567\" y=\"232.805352\" style=\"fill: #4c72b0; stroke: #ffffff; stroke-width: 0.56\"/>\n     <use xlink:href=\"#m1c16f4af91\" x=\"373.873904\" y=\"130.62376\" style=\"fill: #4c72b0; stroke: #ffffff; stroke-width: 0.56\"/>\n     <use xlink:href=\"#m1c16f4af91\" x=\"110.177702\" y=\"247.521264\" style=\"fill: #4c72b0; stroke: #ffffff; stroke-width: 0.56\"/>\n     <use xlink:href=\"#m1c16f4af91\" x=\"168.396344\" y=\"256.639153\" style=\"fill: #4c72b0; stroke: #ffffff; stroke-width: 0.56\"/>\n     <use xlink:href=\"#m1c16f4af91\" x=\"331.066079\" y=\"94.889511\" style=\"fill: #4c72b0; stroke: #ffffff; stroke-width: 0.56\"/>\n     <use xlink:href=\"#m1c16f4af91\" x=\"123.876206\" y=\"242.016987\" style=\"fill: #4c72b0; stroke: #ffffff; stroke-width: 0.56\"/>\n     <use xlink:href=\"#m1c16f4af91\" x=\"317.367575\" y=\"215.914569\" style=\"fill: #4c72b0; stroke: #ffffff; stroke-width: 0.56\"/>\n     <use xlink:href=\"#m1c16f4af91\" x=\"346.476896\" y=\"173.447744\" style=\"fill: #4c72b0; stroke: #ffffff; stroke-width: 0.56\"/>\n     <use xlink:href=\"#m1c16f4af91\" x=\"281.409002\" y=\"156.229842\" style=\"fill: #4c72b0; stroke: #ffffff; stroke-width: 0.56\"/>\n     <use xlink:href=\"#m1c16f4af91\" x=\"288.258254\" y=\"223.608062\" style=\"fill: #4c72b0; stroke: #ffffff; stroke-width: 0.56\"/>\n     <use xlink:href=\"#m1c16f4af91\" x=\"163.259405\" y=\"254.88396\" style=\"fill: #4c72b0; stroke: #ffffff; stroke-width: 0.56\"/>\n     <use xlink:href=\"#m1c16f4af91\" x=\"313.942949\" y=\"68.63457\" style=\"fill: #4c72b0; stroke: #ffffff; stroke-width: 0.56\"/>\n     <use xlink:href=\"#m1c16f4af91\" x=\"98.191511\" y=\"282.735408\" style=\"fill: #4c72b0; stroke: #ffffff; stroke-width: 0.56\"/>\n     <use xlink:href=\"#m1c16f4af91\" x=\"127.300832\" y=\"165.429082\" style=\"fill: #4c72b0; stroke: #ffffff; stroke-width: 0.56\"/>\n     <use xlink:href=\"#m1c16f4af91\" x=\"218.053421\" y=\"174.304107\" style=\"fill: #4c72b0; stroke: #ffffff; stroke-width: 0.56\"/>\n     <use xlink:href=\"#m1c16f4af91\" x=\"192.368726\" y=\"235.316926\" style=\"fill: #4c72b0; stroke: #ffffff; stroke-width: 0.56\"/>\n     <use xlink:href=\"#m1c16f4af91\" x=\"387.572408\" y=\"80.078505\" style=\"fill: #4c72b0; stroke: #ffffff; stroke-width: 0.56\"/>\n     <use xlink:href=\"#m1c16f4af91\" x=\"363.600026\" y=\"163.646123\" style=\"fill: #4c72b0; stroke: #ffffff; stroke-width: 0.56\"/>\n     <use xlink:href=\"#m1c16f4af91\" x=\"226.614986\" y=\"133.970761\" style=\"fill: #4c72b0; stroke: #ffffff; stroke-width: 0.56\"/>\n     <use xlink:href=\"#m1c16f4af91\" x=\"322.504514\" y=\"189.172191\" style=\"fill: #4c72b0; stroke: #ffffff; stroke-width: 0.56\"/>\n     <use xlink:href=\"#m1c16f4af91\" x=\"242.025803\" y=\"218.75384\" style=\"fill: #4c72b0; stroke: #ffffff; stroke-width: 0.56\"/>\n     <use xlink:href=\"#m1c16f4af91\" x=\"269.422811\" y=\"159.609341\" style=\"fill: #4c72b0; stroke: #ffffff; stroke-width: 0.56\"/>\n     <use xlink:href=\"#m1c16f4af91\" x=\"356.750774\" y=\"165.329876\" style=\"fill: #4c72b0; stroke: #ffffff; stroke-width: 0.56\"/>\n     <use xlink:href=\"#m1c16f4af91\" x=\"361.887713\" y=\"219.143022\" style=\"fill: #4c72b0; stroke: #ffffff; stroke-width: 0.56\"/>\n     <use xlink:href=\"#m1c16f4af91\" x=\"151.273214\" y=\"293.35338\" style=\"fill: #4c72b0; stroke: #ffffff; stroke-width: 0.56\"/>\n     <use xlink:href=\"#m1c16f4af91\" x=\"343.05227\" y=\"67.509473\" style=\"fill: #4c72b0; stroke: #ffffff; stroke-width: 0.56\"/>\n     <use xlink:href=\"#m1c16f4af91\" x=\"122.163893\" y=\"191.846497\" style=\"fill: #4c72b0; stroke: #ffffff; stroke-width: 0.56\"/>\n     <use xlink:href=\"#m1c16f4af91\" x=\"406.407852\" y=\"92.444741\" style=\"fill: #4c72b0; stroke: #ffffff; stroke-width: 0.56\"/>\n     <use xlink:href=\"#m1c16f4af91\" x=\"240.31349\" y=\"192.355173\" style=\"fill: #4c72b0; stroke: #ffffff; stroke-width: 0.56\"/>\n     <use xlink:href=\"#m1c16f4af91\" x=\"271.135124\" y=\"85.645636\" style=\"fill: #4c72b0; stroke: #ffffff; stroke-width: 0.56\"/>\n     <use xlink:href=\"#m1c16f4af91\" x=\"96.479198\" y=\"219.007098\" style=\"fill: #4c72b0; stroke: #ffffff; stroke-width: 0.56\"/>\n     <use xlink:href=\"#m1c16f4af91\" x=\"426.955608\" y=\"116.900196\" style=\"fill: #4c72b0; stroke: #ffffff; stroke-width: 0.56\"/>\n     <use xlink:href=\"#m1c16f4af91\" x=\"396.133973\" y=\"21.06\" style=\"fill: #4c72b0; stroke: #ffffff; stroke-width: 0.56\"/>\n    </g>\n   </g>\n   <g id=\"patch_3\">\n    <path d=\"M 50.503594 312.12 \nL 50.503594 7.2 \n\" style=\"fill: none\"/>\n   </g>\n   <g id=\"patch_4\">\n    <path d=\"M 496.903594 312.12 \nL 496.903594 7.2 \n\" style=\"fill: none\"/>\n   </g>\n   <g id=\"patch_5\">\n    <path d=\"M 50.503594 312.12 \nL 496.903594 312.12 \n\" style=\"fill: none\"/>\n   </g>\n   <g id=\"patch_6\">\n    <path d=\"M 50.503594 7.2 \nL 496.903594 7.2 \n\" style=\"fill: none\"/>\n   </g>\n  </g>\n </g>\n <defs>\n  <clipPath id=\"p547c880ab9\">\n   <rect x=\"50.503594\" y=\"7.2\" width=\"446.4\" height=\"304.92\"/>\n  </clipPath>\n </defs>\n</svg>\n",
      "text/plain": [
       "<Figure size 800x550 with 1 Axes>"
      ]
     },
     "metadata": {},
     "output_type": "display_data"
    }
   ],
   "source": [
    "sns.scatterplot(x='TOC', y='Prod', data=data);"
   ]
  },
  {
   "attachments": {},
   "cell_type": "markdown",
   "metadata": {},
   "source": [
    "Из графика видно, что зависимость прямая и линейная."
   ]
  },
  {
   "attachments": {},
   "cell_type": "markdown",
   "metadata": {},
   "source": [
    "2. Как бы вы объяснили полученный результат?"
   ]
  },
  {
   "attachments": {},
   "cell_type": "markdown",
   "metadata": {},
   "source": [
    "Наличие сильной мультиколлинеарности в данных, которая «портит» коэффициенты. "
   ]
  },
  {
   "attachments": {},
   "cell_type": "markdown",
   "metadata": {},
   "source": [
    "***"
   ]
  },
  {
   "attachments": {},
   "cell_type": "markdown",
   "metadata": {},
   "source": [
    "### Задание 5.5\n",
    "\n",
    "Исключите из данных сильно коррелированные между собой факторы. Под сильной корреляцией в данной задаче будем понимать значения, выше **0.7**. Выбирая, какой из коррелированных факторов оставить, руководствуйтесь коэффициентом корреляции с целевой переменной: оставляйте тот фактор, который больше всего коррелирует с объёмом добычи газа.\n",
    "\n",
    "Также исключите из данных факторы, для которых корреляция с целевой переменной меньше **0.05**"
   ]
  },
  {
   "attachments": {},
   "cell_type": "markdown",
   "metadata": {},
   "source": [
    "1. Сильно коррелированные между собой факторы:\n",
    "- **Perm** - **Por**\n",
    "- **TOC** - **Por**\n",
    "\n",
    "Оставляем **Por** (наибольший коэффициент корреляции с целевой переменной).    \n",
    "Удаляем, соответственно, факторы **Perm**, **TOC**. Также удаляем фактор **Well**, т.к. корреляция с целевой переменной менее **0.05**"
   ]
  },
  {
   "attachments": {},
   "cell_type": "markdown",
   "metadata": {},
   "source": [
    "2. Постройте линейную регрессию на обновлённых после удаления факторов данных по методу наименьших квадратов. Для этого используйте **матричную формулу NumPy**."
   ]
  },
  {
   "cell_type": "code",
   "execution_count": 15,
   "metadata": {},
   "outputs": [],
   "source": [
    "# обновляем исходный датасет\n",
    "data.drop(['Perm', 'TOC', 'Well', 'Prod_predict'], axis=1, inplace=True)"
   ]
  },
  {
   "cell_type": "code",
   "execution_count": 16,
   "metadata": {},
   "outputs": [],
   "source": [
    "# создаем матрицу наблюдений X и вектор правильных ответов y\n",
    "X = np.array(data.drop(['Prod'], axis=1))\n",
    "y = np.array(data[['Prod']])\n",
    "\n",
    "# строим модель линейной регрессии\n",
    "# создаём вектор из единиц\n",
    "ones = np.ones(X.shape[0])\n",
    "# добавляем вектор к таблице первым столбцом\n",
    "X = np.column_stack([ones, X])\n",
    "# вычисляем обратную матрицу Q\n",
    "Q = np.linalg.inv(X.T @ X)\n",
    "# вычисляем вектор коэффициентов\n",
    "w = Q @ X.T @ y"
   ]
  },
  {
   "cell_type": "code",
   "execution_count": 17,
   "metadata": {},
   "outputs": [
    {
     "name": "stdout",
     "output_type": "stream",
     "text": [
      "Vector w:\n",
      " [[-1835.]\n",
      " [  293.]\n",
      " [ -200.]\n",
      " [   28.]\n",
      " [  517.]]\n"
     ]
    }
   ],
   "source": [
    "#Выводим вычисленные значения коэффициентов в виде вектора\n",
    "print('Vector w:\\n {}'.format(np.around(w)))"
   ]
  },
  {
   "cell_type": "code",
   "execution_count": 18,
   "metadata": {},
   "outputs": [
    {
     "data": {
      "text/html": [
       "<div>\n",
       "<style scoped>\n",
       "    .dataframe tbody tr th:only-of-type {\n",
       "        vertical-align: middle;\n",
       "    }\n",
       "\n",
       "    .dataframe tbody tr th {\n",
       "        vertical-align: top;\n",
       "    }\n",
       "\n",
       "    .dataframe thead th {\n",
       "        text-align: right;\n",
       "    }\n",
       "</style>\n",
       "<table border=\"1\" class=\"dataframe\">\n",
       "  <thead>\n",
       "    <tr style=\"text-align: right;\">\n",
       "      <th></th>\n",
       "      <th>Features</th>\n",
       "      <th>Coefficients</th>\n",
       "    </tr>\n",
       "  </thead>\n",
       "  <tbody>\n",
       "    <tr>\n",
       "      <th>0</th>\n",
       "      <td>INTERCEPT</td>\n",
       "      <td>-1835.0</td>\n",
       "    </tr>\n",
       "    <tr>\n",
       "      <th>1</th>\n",
       "      <td>Por</td>\n",
       "      <td>293.0</td>\n",
       "    </tr>\n",
       "    <tr>\n",
       "      <th>2</th>\n",
       "      <td>AI</td>\n",
       "      <td>-200.0</td>\n",
       "    </tr>\n",
       "    <tr>\n",
       "      <th>3</th>\n",
       "      <td>Brittle</td>\n",
       "      <td>28.0</td>\n",
       "    </tr>\n",
       "    <tr>\n",
       "      <th>4</th>\n",
       "      <td>VR</td>\n",
       "      <td>517.0</td>\n",
       "    </tr>\n",
       "  </tbody>\n",
       "</table>\n",
       "</div>"
      ],
      "text/plain": [
       "    Features  Coefficients\n",
       "0  INTERCEPT       -1835.0\n",
       "1        Por         293.0\n",
       "2         AI        -200.0\n",
       "3    Brittle          28.0\n",
       "4         VR         517.0"
      ]
     },
     "metadata": {},
     "output_type": "display_data"
    }
   ],
   "source": [
    "# составляем таблицу из признаков и их коэффициентов округленных до целого\n",
    "w_df = pd.DataFrame({\n",
    "    'Features': data.drop(['Prod'], axis=1).columns, \n",
    "    'Coefficients': np.round(w[1:,0])\n",
    "})\n",
    "\n",
    "# составляем строку таблицы со свободным членом\n",
    "intercept_df =pd.DataFrame({\n",
    "    'Features': ['INTERCEPT'], \n",
    "    'Coefficients': round(w[0,0])\n",
    "})\n",
    "\n",
    "# объединяем таблицы\n",
    "coef_df = pd.concat([intercept_df, w_df], ignore_index=True)\n",
    "\n",
    "display(coef_df)"
   ]
  },
  {
   "attachments": {},
   "cell_type": "markdown",
   "metadata": {},
   "source": [
    "3. Сделайте прогноз для всего обучающего набора данных и рассчитайте метрику **MAPE** (Mean Absolute Percentage Error). Результат приведите в процентах (не указывайте знак процента), округлив его до первого знака после точки-разделителя."
   ]
  },
  {
   "cell_type": "code",
   "execution_count": 19,
   "metadata": {},
   "outputs": [
    {
     "name": "stdout",
     "output_type": "stream",
     "text": [
      "MAPE score: 4.0 %\n"
     ]
    }
   ],
   "source": [
    "# задаем столбец с предсказанным таргетом\n",
    "data['Prod_predict'] = 0\n",
    "\n",
    "# перебираем строки датасета\n",
    "for index, row in data.iterrows():\n",
    "    # задаём параметры\n",
    "    por_param = row['Por']\n",
    "    ai_param = row['AI']\n",
    "    brittle_param = row['Brittle'] \n",
    "    vr_param = row['VR']\n",
    "\n",
    "    # делаем предсказание\n",
    "    data.loc[index, 'Prod_predict'] = (\n",
    "        w[0,0] + \n",
    "        w[1,0]*por_param + \n",
    "        w[2,0]*ai_param + \n",
    "        w[3,0]*brittle_param + \n",
    "        w[4,0]*vr_param\n",
    "    )    \n",
    "\n",
    "# задаем реальные значения таргета\n",
    "y_real = data['Prod']\n",
    "# задаем предсказанные значения таргета\n",
    "y_predict = data['Prod_predict']\n",
    "\n",
    "#Рассчитываем MAPE\n",
    "print('MAPE score: {:.1f} %'.format(metrics.mean_absolute_percentage_error(y_real, y_predict) * 100))"
   ]
  },
  {
   "cell_type": "code",
   "execution_count": 20,
   "metadata": {},
   "outputs": [
    {
     "data": {
      "text/html": [
       "<div>\n",
       "<style scoped>\n",
       "    .dataframe tbody tr th:only-of-type {\n",
       "        vertical-align: middle;\n",
       "    }\n",
       "\n",
       "    .dataframe tbody tr th {\n",
       "        vertical-align: top;\n",
       "    }\n",
       "\n",
       "    .dataframe thead th {\n",
       "        text-align: right;\n",
       "    }\n",
       "</style>\n",
       "<table border=\"1\" class=\"dataframe\">\n",
       "  <thead>\n",
       "    <tr style=\"text-align: right;\">\n",
       "      <th></th>\n",
       "      <th>Features</th>\n",
       "      <th>Coefficients</th>\n",
       "    </tr>\n",
       "  </thead>\n",
       "  <tbody>\n",
       "    <tr>\n",
       "      <th>0</th>\n",
       "      <td>INTERCEPT</td>\n",
       "      <td>-1835.0</td>\n",
       "    </tr>\n",
       "    <tr>\n",
       "      <th>1</th>\n",
       "      <td>Por</td>\n",
       "      <td>293.0</td>\n",
       "    </tr>\n",
       "    <tr>\n",
       "      <th>2</th>\n",
       "      <td>AI</td>\n",
       "      <td>-200.0</td>\n",
       "    </tr>\n",
       "    <tr>\n",
       "      <th>3</th>\n",
       "      <td>Brittle</td>\n",
       "      <td>28.0</td>\n",
       "    </tr>\n",
       "    <tr>\n",
       "      <th>4</th>\n",
       "      <td>VR</td>\n",
       "      <td>517.0</td>\n",
       "    </tr>\n",
       "  </tbody>\n",
       "</table>\n",
       "</div>"
      ],
      "text/plain": [
       "    Features  Coefficients\n",
       "0  INTERCEPT       -1835.0\n",
       "1        Por         293.0\n",
       "2         AI        -200.0\n",
       "3    Brittle          28.0\n",
       "4         VR         517.0"
      ]
     },
     "metadata": {},
     "output_type": "display_data"
    },
    {
     "data": {
      "text/plain": [
       "Por             0.861910\n",
       "AI             -0.390835\n",
       "Brittle         0.237155\n",
       "VR              0.323182\n",
       "Prod            1.000000\n",
       "Prod_predict    0.972214\n",
       "Name: Prod, dtype: float64"
      ]
     },
     "metadata": {},
     "output_type": "display_data"
    }
   ],
   "source": [
    "# сравним корреляцию факторов с таргетом и коэффициенты\n",
    "display(coef_df)\n",
    "display(data.corr()[\"Prod\"])"
   ]
  },
  {
   "attachments": {},
   "cell_type": "markdown",
   "metadata": {},
   "source": [
    "4. Удалось ли вам побороть противоречие коэффициентов линейной регрессии и коэффициентов корреляции?"
   ]
  },
  {
   "attachments": {},
   "cell_type": "markdown",
   "metadata": {},
   "source": [
    "Да, знаки корреляций совпадают со знаками коэффициентов регрессии."
   ]
  },
  {
   "attachments": {},
   "cell_type": "markdown",
   "metadata": {},
   "source": [
    "***\n",
    "***"
   ]
  },
  {
   "attachments": {},
   "cell_type": "markdown",
   "metadata": {},
   "source": [
    "Мы хотим попробовать улучшить наш результат — метрику MAPE. Для этого воспользуемся моделью полиномиальной регрессии третьей степени. Однако теперь мы знаем, что полиномиальным моделям очень легко переобучиться под исходную выборку, поэтому для контроля качества модели мы будем использовать кросс-валидацию."
   ]
  },
  {
   "attachments": {},
   "cell_type": "markdown",
   "metadata": {},
   "source": [
    "### Задание 8.1\n",
    "\n",
    "Сгенерируйте полиномиальные признаки третьего порядка на факторах, которые вы выбрали для обучения моделей. Для этого воспользуйтесь генератором полиномов PolynomialFeatures из библиотеки sklearn. Параметр include_bias установите в значение False.\n",
    "\n",
    "1. Сколько факторов у вас получилось после генерации полиномиальных признаков?"
   ]
  },
  {
   "cell_type": "code",
   "execution_count": 21,
   "metadata": {},
   "outputs": [
    {
     "data": {
      "text/plain": [
       "34"
      ]
     },
     "execution_count": 21,
     "metadata": {},
     "output_type": "execute_result"
    }
   ],
   "source": [
    "# создаем матрицу наблюдений X и вектор правильных ответов y\n",
    "X = data.drop(['Prod', 'Prod_predict'], axis=1)\n",
    "y = data[['Prod']]\n",
    "\n",
    "# добавляем полиномиальные признаки\n",
    "poly = PolynomialFeatures(degree=3, include_bias=False)\n",
    "X = poly.fit_transform(X)\n",
    "\n",
    "# узнаем полученное количество факторов\n",
    "X.shape[1]"
   ]
  },
  {
   "attachments": {},
   "cell_type": "markdown",
   "metadata": {},
   "source": [
    "2. Обучите модель линейной регрессии из библиотеки sklearn (LinearRegression) на полученных полиномиальных факторах.\n",
    "\n",
    "Оцените среднее значение метрики MAPE, используя кросс-валидацию на пяти фолдах."
   ]
  },
  {
   "cell_type": "code",
   "execution_count": 22,
   "metadata": {},
   "outputs": [
    {
     "name": "stdout",
     "output_type": "stream",
     "text": [
      "MAPE на тренировочных фолдах: 1.8 %\n",
      "MAPE на валидационных фолдах: 2.7 %\n"
     ]
    }
   ],
   "source": [
    "# создаём модель линейной регрессии\n",
    "lr = LinearRegression()\n",
    " \n",
    "# оцениваем качество модели на кросс-валидации, метрика — MAPE\n",
    "cv_results = cross_validate(\n",
    "    lr, \n",
    "    X, \n",
    "    y, \n",
    "    scoring='neg_mean_absolute_percentage_error', \n",
    "    cv=5, \n",
    "    return_train_score=True\n",
    ")\n",
    "\n",
    "print('MAPE на тренировочных фолдах: {:.1f} %'.format(-cv_results['train_score'].mean()* 100))\n",
    "print('MAPE на валидационных фолдах: {:.1f} %'.format(-cv_results['test_score'].mean() * 100))"
   ]
  },
  {
   "attachments": {},
   "cell_type": "markdown",
   "metadata": {},
   "source": [
    "### Задание 8.2\n",
    "\n",
    "Теперь попробуем воспользоваться линейной регрессией с регуляризацией. Для начала возьмём L1-регуляризацию.\n",
    "\n",
    "Обучите модель Lasso из библиотеки sklearn на полученных полиномиальных факторах, предварительно стандартизировав факторы с помощью StandardScaler. Коэффициент регуляризации выставите равным 5.\n",
    "\n",
    "Оцените среднее значение метрики MAPE, используя кросс-валидацию на пяти фолдах.\n",
    "\n",
    "Чему равны средние значения метрики MAPE на тренировочных и валидационных фолдах? Ответ приведите в процентах (не указывайте знак процента), округлив его до первого знака после точки-разделителя."
   ]
  },
  {
   "cell_type": "code",
   "execution_count": 23,
   "metadata": {},
   "outputs": [
    {
     "name": "stdout",
     "output_type": "stream",
     "text": [
      "MAPE на тренировочных фолдах: 1.8 %\n",
      "MAPE на валидационных фолдах: 2.3 %\n"
     ]
    }
   ],
   "source": [
    "# создаем матрицу наблюдений X и вектор правильных ответов y\n",
    "X = data.drop(['Prod', 'Prod_predict'], axis=1)\n",
    "y = data[['Prod']]\n",
    "\n",
    "# проводим стандартизацию\n",
    "scaler = StandardScaler()\n",
    "X = scaler.fit_transform(X)\n",
    "\n",
    "# добавляем полиномиальные признаки\n",
    "poly = PolynomialFeatures(degree=3, include_bias=False)\n",
    "X = poly.fit_transform(X)\n",
    "\n",
    "# создаём модель линейной регрессии\n",
    "lr = Lasso(alpha=5)\n",
    " \n",
    "# оцениваем качество модели на кросс-валидации, метрика — MAPE\n",
    "cv_results = cross_validate(\n",
    "    lr, \n",
    "    X, \n",
    "    y, \n",
    "    scoring='neg_mean_absolute_percentage_error', \n",
    "    cv=5, \n",
    "    return_train_score=True\n",
    ")\n",
    "\n",
    "print('MAPE на тренировочных фолдах: {:.1f} %'.format(-cv_results['train_score'].mean()* 100))\n",
    "print('MAPE на валидационных фолдах: {:.1f} %'.format(-cv_results['test_score'].mean() * 100))"
   ]
  },
  {
   "attachments": {},
   "cell_type": "markdown",
   "metadata": {},
   "source": [
    "### Задание 8.3\n",
    "\n",
    "Проделаем то же самое с L2-регуляризацией.\n",
    "\n",
    "Обучите модель Ridge из библиотеки sklearn на полученных полиномиальных факторах, предварительно стандартизировав факторы с помощью StandardScaler. Коэффициент регуляризации выставите равным 1.\n",
    "\n",
    "Оцените среднее значение метрики MAPE, используя кросс-валидацию на пяти фолдах.\n",
    "\n",
    "Чему равны средние значения метрики MAPE на тренировочных и валидационных фолдах? Ответ приведите в процентах (не указывайте знак процента), округлив его до первого знака после точки-разделителя."
   ]
  },
  {
   "cell_type": "code",
   "execution_count": 24,
   "metadata": {},
   "outputs": [
    {
     "name": "stdout",
     "output_type": "stream",
     "text": [
      "MAPE на тренировочных фолдах: 1.8 %\n",
      "MAPE на валидационных фолдах: 2.7 %\n"
     ]
    }
   ],
   "source": [
    "# создаем матрицу наблюдений X и вектор правильных ответов y\n",
    "X = data.drop(['Prod', 'Prod_predict'], axis=1)\n",
    "y = data[['Prod']]\n",
    "\n",
    "# проводим стандартизацию\n",
    "scaler = StandardScaler()\n",
    "X = scaler.fit_transform(X)\n",
    "\n",
    "# добавляем полиномиальные признаки\n",
    "poly = PolynomialFeatures(degree=3, include_bias=False)\n",
    "X = poly.fit_transform(X)\n",
    "\n",
    "# создаём модель линейной регрессии\n",
    "lr = Ridge(alpha=1)\n",
    " \n",
    "# оцениваем качество модели на кросс-валидации, метрика — MAPE\n",
    "cv_results = cross_validate(\n",
    "    lr, \n",
    "    X, \n",
    "    y, \n",
    "    scoring='neg_mean_absolute_percentage_error', \n",
    "    cv=5, \n",
    "    return_train_score=True\n",
    ")\n",
    "\n",
    "print('MAPE на тренировочных фолдах: {:.1f} %'.format(-cv_results['train_score'].mean()* 100))\n",
    "print('MAPE на валидационных фолдах: {:.1f} %'.format(-cv_results['test_score'].mean() * 100))"
   ]
  }
 ],
 "metadata": {
  "kernelspec": {
   "display_name": "base",
   "language": "python",
   "name": "python3"
  },
  "language_info": {
   "codemirror_mode": {
    "name": "ipython",
    "version": 3
   },
   "file_extension": ".py",
   "mimetype": "text/x-python",
   "name": "python",
   "nbconvert_exporter": "python",
   "pygments_lexer": "ipython3",
   "version": "3.9.13"
  },
  "orig_nbformat": 4,
  "vscode": {
   "interpreter": {
    "hash": "f36bc87df21c273bcf1acb6f69b38df1d5d9d4bdc1ffc65bd9fbfb1f1e29beda"
   }
  }
 },
 "nbformat": 4,
 "nbformat_minor": 2
}
