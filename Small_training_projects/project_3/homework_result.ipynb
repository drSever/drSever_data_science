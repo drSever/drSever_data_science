{
 "cells": [
  {
   "cell_type": "markdown",
   "metadata": {},
   "source": [
    "Александр Журавлев DST-120  \n",
    "[ссылка](https://github.com/drSever/drSever_data_science/tree/main/Small_training_projects/project_3) на GitHub проекта.\n",
    "***\n",
    "## Домашнее задание\n",
    "\n",
    "Используя информацию по мидиям Петербурга и Магадана, которые представлены в виде двух массивов **petersburg** и **magadan** в разделе ANOVA тест, проверьте данные на нормальность и на наличие корреляции. Для этого объедините 2 массива в DataFrame. Обоснуйте выбор теста на корреляцию. Сделайте вывод по гипотезе.  \n",
    "Также ответьте на вопрос: Какова разница в среднем размере мидии в зависимости от города-производителя. Обоснуйте выбор теста. Сделайте вывод по гипотезе.\n",
    "\n",
    "Исходные данные:"
   ]
  },
  {
   "cell_type": "code",
   "execution_count": 1,
   "metadata": {},
   "outputs": [],
   "source": [
    "petersburg = [0.0974, 0.1352, 0.0817, 0.1016, 0.0968, 0.1064, 0.105]\n",
    "magadan = [0.1033, 0.0915, 0.0781, 0.0685, 0.0677, 0.0697, 0.0764,\n",
    "           0.0689]"
   ]
  },
  {
   "cell_type": "markdown",
   "metadata": {},
   "source": [
    "***"
   ]
  },
  {
   "cell_type": "markdown",
   "metadata": {},
   "source": [
    "## Решение"
   ]
  },
  {
   "cell_type": "markdown",
   "metadata": {},
   "source": [
    "#### 1). Загрузим необходимые библиотеки."
   ]
  },
  {
   "cell_type": "code",
   "execution_count": 2,
   "metadata": {},
   "outputs": [],
   "source": [
    "# pip install scipy\n",
    "# pip install statsmodels"
   ]
  },
  {
   "cell_type": "code",
   "execution_count": 3,
   "metadata": {},
   "outputs": [],
   "source": [
    "import pandas as pd\n",
    "\n",
    "from scipy.stats import shapiro # тест Шапиро-Уилка\n",
    "from scipy.stats import normaltest # тест Д’Агостино\n",
    "from scipy.stats import ttest_ind # независимый T-тест\n",
    "\n",
    "from scipy.stats import pearsonr # корреляция Пирсона\n"
   ]
  },
  {
   "cell_type": "markdown",
   "metadata": {},
   "source": [
    "***"
   ]
  },
  {
   "cell_type": "markdown",
   "metadata": {},
   "source": [
    "#### 2). Создадим новый DataFrame **data_mussels**, объединив 2 массива **petersburg** и **magadan**."
   ]
  },
  {
   "cell_type": "code",
   "execution_count": 4,
   "metadata": {},
   "outputs": [],
   "source": [
    "# учитывая разную длинну массивов, объединим их \n",
    "# через создание объектов Series\n",
    "\n",
    "petersburg_series = pd.Series(\n",
    "    data = petersburg,\n",
    "    name = 'petersburg'\n",
    ")\n",
    "\n",
    "magadan_series = pd.Series(\n",
    "    data = magadan,\n",
    "    name = 'magadan'\n",
    ")\n",
    "\n",
    "# создадим DataFrame, объединив 2 объекта Series\n",
    "data_mussels = pd.concat([petersburg_series, magadan_series], axis=1)"
   ]
  },
  {
   "cell_type": "code",
   "execution_count": 5,
   "metadata": {},
   "outputs": [
    {
     "data": {
      "text/html": [
       "<div>\n",
       "<style scoped>\n",
       "    .dataframe tbody tr th:only-of-type {\n",
       "        vertical-align: middle;\n",
       "    }\n",
       "\n",
       "    .dataframe tbody tr th {\n",
       "        vertical-align: top;\n",
       "    }\n",
       "\n",
       "    .dataframe thead th {\n",
       "        text-align: right;\n",
       "    }\n",
       "</style>\n",
       "<table border=\"1\" class=\"dataframe\">\n",
       "  <thead>\n",
       "    <tr style=\"text-align: right;\">\n",
       "      <th></th>\n",
       "      <th>petersburg</th>\n",
       "      <th>magadan</th>\n",
       "    </tr>\n",
       "  </thead>\n",
       "  <tbody>\n",
       "    <tr>\n",
       "      <th>0</th>\n",
       "      <td>0.0974</td>\n",
       "      <td>0.1033</td>\n",
       "    </tr>\n",
       "    <tr>\n",
       "      <th>1</th>\n",
       "      <td>0.1352</td>\n",
       "      <td>0.0915</td>\n",
       "    </tr>\n",
       "    <tr>\n",
       "      <th>2</th>\n",
       "      <td>0.0817</td>\n",
       "      <td>0.0781</td>\n",
       "    </tr>\n",
       "    <tr>\n",
       "      <th>3</th>\n",
       "      <td>0.1016</td>\n",
       "      <td>0.0685</td>\n",
       "    </tr>\n",
       "    <tr>\n",
       "      <th>4</th>\n",
       "      <td>0.0968</td>\n",
       "      <td>0.0677</td>\n",
       "    </tr>\n",
       "    <tr>\n",
       "      <th>5</th>\n",
       "      <td>0.1064</td>\n",
       "      <td>0.0697</td>\n",
       "    </tr>\n",
       "    <tr>\n",
       "      <th>6</th>\n",
       "      <td>0.1050</td>\n",
       "      <td>0.0764</td>\n",
       "    </tr>\n",
       "    <tr>\n",
       "      <th>7</th>\n",
       "      <td>NaN</td>\n",
       "      <td>0.0689</td>\n",
       "    </tr>\n",
       "  </tbody>\n",
       "</table>\n",
       "</div>"
      ],
      "text/plain": [
       "   petersburg  magadan\n",
       "0      0.0974   0.1033\n",
       "1      0.1352   0.0915\n",
       "2      0.0817   0.0781\n",
       "3      0.1016   0.0685\n",
       "4      0.0968   0.0677\n",
       "5      0.1064   0.0697\n",
       "6      0.1050   0.0764\n",
       "7         NaN   0.0689"
      ]
     },
     "execution_count": 5,
     "metadata": {},
     "output_type": "execute_result"
    }
   ],
   "source": [
    "data_mussels.head(8)"
   ]
  },
  {
   "cell_type": "markdown",
   "metadata": {},
   "source": [
    "**Вывод.** Мы создали новый DataFrame, объеденив два изначальных массива, однако из-за их разной длины в итоговой таблице имеется пустое значение **NaN**."
   ]
  },
  {
   "cell_type": "markdown",
   "metadata": {},
   "source": [
    "***"
   ]
  },
  {
   "cell_type": "markdown",
   "metadata": {},
   "source": [
    "#### 3). Проверим данные на нормальность."
   ]
  },
  {
   "cell_type": "markdown",
   "metadata": {},
   "source": [
    "Сформулируем гипотезы."
   ]
  },
  {
   "cell_type": "code",
   "execution_count": 6,
   "metadata": {},
   "outputs": [],
   "source": [
    "H0 = 'Данные распределены нормально'\n",
    "Ha = 'Данные не распределены нормально (мы отвергаем H0)'"
   ]
  },
  {
   "cell_type": "markdown",
   "metadata": {},
   "source": [
    "Установим уровень значимости"
   ]
  },
  {
   "cell_type": "code",
   "execution_count": 7,
   "metadata": {},
   "outputs": [],
   "source": [
    "alpha = 0.05"
   ]
  },
  {
   "cell_type": "markdown",
   "metadata": {},
   "source": [
    "- Используем **тест Шапиро-Уилка**"
   ]
  },
  {
   "cell_type": "code",
   "execution_count": 8,
   "metadata": {},
   "outputs": [
    {
     "name": "stdout",
     "output_type": "stream",
     "text": [
      "Результаты теста Шапиро-Уилка\n",
      "p=1.000\n",
      "Данные распределены нормально\n"
     ]
    }
   ],
   "source": [
    "print('Результаты теста Шапиро-Уилка')\n",
    "\n",
    "# проводим тест и выводим результат\n",
    "_, p = shapiro(data_mussels)\n",
    "print('p=%.3f' % p)\n",
    "\n",
    "# Интерпретация результатов теста\n",
    "if p > alpha:\n",
    "\tprint(H0)\n",
    "else:\n",
    "\tprint(Ha)"
   ]
  },
  {
   "cell_type": "markdown",
   "metadata": {},
   "source": [
    "- используем **тест Д’Агостино**.  \n",
    "К сожалению, в данной ситуации мы не можем использовать данный тест, т.к. в нашем DataFrame имеется пустое значение **NaN** и тест возвращает нам также **NaN**. Если мы попытаемся удалить строку с пустым значением либо проигнорировать его, то получим другую ошибку - количество значений в данных меньше 8."
   ]
  },
  {
   "cell_type": "markdown",
   "metadata": {},
   "source": [
    "**Вывод.** Согласно тесту Шапиро-Уилка данные распределены нормально."
   ]
  },
  {
   "cell_type": "markdown",
   "metadata": {},
   "source": [
    "***"
   ]
  },
  {
   "cell_type": "markdown",
   "metadata": {},
   "source": [
    "#### 4). Проверим данные на наличие корреляции."
   ]
  },
  {
   "cell_type": "markdown",
   "metadata": {},
   "source": [
    "Так как мы имеем дело с непрерывными признаками и данные распределены нормально, то использовать мы будем **корреляцию Пирсона**."
   ]
  },
  {
   "cell_type": "code",
   "execution_count": 9,
   "metadata": {},
   "outputs": [
    {
     "data": {
      "text/html": [
       "<div>\n",
       "<style scoped>\n",
       "    .dataframe tbody tr th:only-of-type {\n",
       "        vertical-align: middle;\n",
       "    }\n",
       "\n",
       "    .dataframe tbody tr th {\n",
       "        vertical-align: top;\n",
       "    }\n",
       "\n",
       "    .dataframe thead th {\n",
       "        text-align: right;\n",
       "    }\n",
       "</style>\n",
       "<table border=\"1\" class=\"dataframe\">\n",
       "  <thead>\n",
       "    <tr style=\"text-align: right;\">\n",
       "      <th></th>\n",
       "      <th>petersburg</th>\n",
       "      <th>magadan</th>\n",
       "    </tr>\n",
       "  </thead>\n",
       "  <tbody>\n",
       "    <tr>\n",
       "      <th>petersburg</th>\n",
       "      <td>1.000000</td>\n",
       "      <td>0.255095</td>\n",
       "    </tr>\n",
       "    <tr>\n",
       "      <th>magadan</th>\n",
       "      <td>0.255095</td>\n",
       "      <td>1.000000</td>\n",
       "    </tr>\n",
       "  </tbody>\n",
       "</table>\n",
       "</div>"
      ],
      "text/plain": [
       "            petersburg   magadan\n",
       "petersburg    1.000000  0.255095\n",
       "magadan       0.255095  1.000000"
      ]
     },
     "execution_count": 9,
     "metadata": {},
     "output_type": "execute_result"
    }
   ],
   "source": [
    "data_mussels.corr()"
   ]
  },
  {
   "cell_type": "markdown",
   "metadata": {},
   "source": [
    "Итак, коэффициент корреляции 0,26, что соответствует отсутствию связи или очень слабой связи между признаками.\n",
    "Однако, давайте решим эту задачу другим способом, получив коэффициент **p-value**."
   ]
  },
  {
   "cell_type": "markdown",
   "metadata": {},
   "source": [
    "Сформулируем гипотезы."
   ]
  },
  {
   "cell_type": "code",
   "execution_count": 10,
   "metadata": {},
   "outputs": [],
   "source": [
    "H0 = 'Нет зависимости между размером раковины мидий в двух разных местах.'\n",
    "Ha = 'Есть зависимость между размерами раковины мидий в двух разных местах.'"
   ]
  },
  {
   "cell_type": "markdown",
   "metadata": {},
   "source": [
    "Уровень значимости **alpha** уже установлен, проведем тест."
   ]
  },
  {
   "cell_type": "code",
   "execution_count": 11,
   "metadata": {},
   "outputs": [
    {
     "name": "stdout",
     "output_type": "stream",
     "text": [
      "Результаты теста Пирсона\n",
      "corr = 0.255, p-value = 0.581\n",
      "0.581 > 0.05. Нет зависимости между размером раковины мидий в двух разных местах.\n"
     ]
    }
   ],
   "source": [
    "# чтобы обойти ошибку с NaN удалим строку его содержащюю\n",
    "data_mussels_dropna = data_mussels.dropna()\n",
    "\n",
    "# выполняем тест Пирсона\n",
    "corr, p = pearsonr(data_mussels_dropna['petersburg'], data_mussels_dropna['magadan'])\n",
    "\n",
    "# округлим значения\n",
    "corr = round(corr, 3)\n",
    "p = round(p, 3)\n",
    "\n",
    "# выводим результат теста\n",
    "print('Результаты теста Пирсона')\n",
    "print(f'corr = {corr}, p-value = {p}')\n",
    "\n",
    "# интерпретируем результат теста\n",
    "if p>alpha:\n",
    "    print(f\"{p} > {alpha}. {H0}\")\n",
    "else:\n",
    "    print(f\"{p} <= {alpha}. {Ha}\")"
   ]
  },
  {
   "cell_type": "markdown",
   "metadata": {},
   "source": [
    "**Вывод.** Отсутствует зависимость между размерами раковин мидий в двух разных местах."
   ]
  },
  {
   "cell_type": "markdown",
   "metadata": {},
   "source": [
    "***"
   ]
  },
  {
   "cell_type": "markdown",
   "metadata": {},
   "source": [
    "#### 5). Какова разница в среднем размере мидии в зависимости от города-производителя."
   ]
  },
  {
   "cell_type": "markdown",
   "metadata": {},
   "source": [
    "У нас имеется 1 независимая категориальная переменная **город-производитель** и одна зависимая количественная переменная - **размер мидии**.  \n",
    "Группы происходят из разных совокупностей (**petersburg**, **magadan**).  \n",
    "Данные, как мы выяснили, распределены нормально.  \n",
    "Мы сравниваем 2 группы, объектов в выборке меньше 30, отсутствует информация о разбросе данных.  \n",
    "\n",
    "Следовательно, мы будем использовать параметрический **независимый Т-тест**."
   ]
  },
  {
   "cell_type": "markdown",
   "metadata": {},
   "source": [
    "Сформулируем гипотезы."
   ]
  },
  {
   "cell_type": "code",
   "execution_count": 12,
   "metadata": {},
   "outputs": [],
   "source": [
    "H0 = 'Нет значимой разницы между средним размером раковины мидий в двух разных местах.'\n",
    "Ha = 'Есть значимая разница между средним размером раковины мидий в двух разных местах.'"
   ]
  },
  {
   "cell_type": "markdown",
   "metadata": {},
   "source": [
    "Уровень значимости **alpha** уже установлен, проведем тест."
   ]
  },
  {
   "cell_type": "code",
   "execution_count": 13,
   "metadata": {},
   "outputs": [
    {
     "name": "stdout",
     "output_type": "stream",
     "text": [
      "0.005 <= 0.05.\n",
      "Мы отвергаем нулевую гипотезу. Есть значимая разница между средним размером раковины мидий в двух разных местах.\n"
     ]
    }
   ],
   "source": [
    "# проводим Т-тест, игнорируя NaN, по умолчанию equal_var=True \n",
    "_, p = ttest_ind(data_mussels['petersburg'], data_mussels['magadan'], nan_policy='omit')\n",
    "\n",
    "# округлим значение p-value\n",
    "p = round(p, 3)\n",
    "\n",
    "# выводим и интерпретируем результаты теста\n",
    "if p>alpha:\n",
    "  print(f\"{p} > {alpha}.\", f\"Мы не можем отвергнуть нулевую гипотезу. {H0}\", sep=\"\\n\")\n",
    "else:\n",
    "  print(f\"{p} <= {alpha}.\", f\"Мы отвергаем нулевую гипотезу. {Ha}\", sep=\"\\n\")"
   ]
  },
  {
   "cell_type": "markdown",
   "metadata": {},
   "source": [
    "**Вывод.** Есть значимая разница между средним размером раковины мидий в зависимости от города-производителя."
   ]
  }
 ],
 "metadata": {
  "kernelspec": {
   "display_name": "Python 3.9.13 64-bit",
   "language": "python",
   "name": "python3"
  },
  "language_info": {
   "codemirror_mode": {
    "name": "ipython",
    "version": 3
   },
   "file_extension": ".py",
   "mimetype": "text/x-python",
   "name": "python",
   "nbconvert_exporter": "python",
   "pygments_lexer": "ipython3",
   "version": "3.9.13"
  },
  "orig_nbformat": 4,
  "vscode": {
   "interpreter": {
    "hash": "aee8b7b246df8f9039afb4144a1f6fd8d2ca17a180786b69acc140d282b71a49"
   }
  }
 },
 "nbformat": 4,
 "nbformat_minor": 2
}
