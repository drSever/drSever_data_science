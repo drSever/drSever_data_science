{
 "cells": [
  {
   "cell_type": "markdown",
   "metadata": {},
   "source": [
    "# Задача"
   ]
  },
  {
   "cell_type": "markdown",
   "metadata": {},
   "source": [
    "Реализуйте класс для модели LeNet-5\n",
    "\n",
    "Создайте экземпляр нейросети и примените его к нескольким примерам из MNIST.\n",
    "\n",
    "Убедитесь, что сеть выдает случайные классы, т.к. веса были проинициализированы случайно."
   ]
  },
  {
   "cell_type": "markdown",
   "metadata": {},
   "source": [
    "***\n",
    "***"
   ]
  },
  {
   "cell_type": "markdown",
   "metadata": {},
   "source": [
    "# Решение"
   ]
  },
  {
   "cell_type": "markdown",
   "metadata": {},
   "source": [
    "## Архитектура сети"
   ]
  },
  {
   "cell_type": "markdown",
   "metadata": {},
   "source": [
    "<img src=\"https://blog.paperspace.com/content/images/2021/10/image-17.png\" alt=\"LeNet-5\" width=\"800\"/>"
   ]
  },
  {
   "cell_type": "markdown",
   "metadata": {},
   "source": [
    "<div class=\"cell border-box-sizing text_cell rendered\"><div class=\"inner_cell\">\n",
    "<div class=\"text_cell_render border-box-sizing rendered_html\">\n",
    "<h3 id=\"Details-of-the-architecture\"><strong>Details of the architecture</strong><a class=\"anchor-link\" href=\"#Details-of-the-architecture\"><i class=\"fas fa-link fa-xs\"></i></a></h3><p>Note : In the following, convolutional layers are labeled as Cx, subsampling layers are labeled as Sx, and fully connected\n",
    "layers are labeled as Fx, where x is the layer index.</p>\n",
    "<ul>\n",
    "<li>Convolutional part:</li>\n",
    "</ul>\n",
    "<table>\n",
    "<thead><tr>\n",
    "<th>Layer</th>\n",
    "<th style=\"text-align:center\">Name</th>\n",
    "<th style=\"text-align:center\">Input channels</th>\n",
    "<th style=\"text-align:center\">Output channels (number of kernels)</th>\n",
    "<th style=\"text-align:center\">Kernel size</th>\n",
    "<th style=\"text-align:center\">stride</th>\n",
    "</tr>\n",
    "</thead>\n",
    "<tbody>\n",
    "<tr>\n",
    "<td>Convolution</td>\n",
    "<td style=\"text-align:center\">C1</td>\n",
    "<td style=\"text-align:center\">1</td>\n",
    "<td style=\"text-align:center\">6</td>\n",
    "<td style=\"text-align:center\">5x5</td>\n",
    "<td style=\"text-align:center\">1</td>\n",
    "</tr>\n",
    "<tr>\n",
    "<td>tanh</td>\n",
    "<td style=\"text-align:center\"></td>\n",
    "<td style=\"text-align:center\">6</td>\n",
    "<td style=\"text-align:center\">6</td>\n",
    "<td style=\"text-align:center\"></td>\n",
    "<td style=\"text-align:center\"></td>\n",
    "</tr>\n",
    "<tr>\n",
    "<td>AvgPooling</td>\n",
    "<td style=\"text-align:center\">S2</td>\n",
    "<td style=\"text-align:center\">6</td>\n",
    "<td style=\"text-align:center\">6</td>\n",
    "<td style=\"text-align:center\">2x2</td>\n",
    "<td style=\"text-align:center\">2</td>\n",
    "</tr>\n",
    "<tr>\n",
    "<td>Convolution</td>\n",
    "<td style=\"text-align:center\">C3</td>\n",
    "<td style=\"text-align:center\">6</td>\n",
    "<td style=\"text-align:center\">16</td>\n",
    "<td style=\"text-align:center\">5x5</td>\n",
    "<td style=\"text-align:center\">1</td>\n",
    "</tr>\n",
    "<tr>\n",
    "<td>tanh</td>\n",
    "<td style=\"text-align:center\"></td>\n",
    "<td style=\"text-align:center\">16</td>\n",
    "<td style=\"text-align:center\">16</td>\n",
    "<td style=\"text-align:center\"></td>\n",
    "<td style=\"text-align:center\"></td>\n",
    "</tr>\n",
    "<tr>\n",
    "<td>AvgPooling</td>\n",
    "<td style=\"text-align:center\">S4</td>\n",
    "<td style=\"text-align:center\">16</td>\n",
    "<td style=\"text-align:center\">16</td>\n",
    "<td style=\"text-align:center\">2x2</td>\n",
    "<td style=\"text-align:center\">2</td>\n",
    "</tr>\n",
    "<tr>\n",
    "<td>Convolution</td>\n",
    "<td style=\"text-align:center\">C5</td>\n",
    "<td style=\"text-align:center\">6</td>\n",
    "<td style=\"text-align:center\">120</td>\n",
    "<td style=\"text-align:center\">5x5</td>\n",
    "<td style=\"text-align:center\">1</td>\n",
    "</tr>\n",
    "<tr>\n",
    "<td>tanh</td>\n",
    "<td style=\"text-align:center\"></td>\n",
    "<td style=\"text-align:center\">120</td>\n",
    "<td style=\"text-align:center\">120</td>\n",
    "<td style=\"text-align:center\"></td>\n",
    "</tr>\n",
    "</tbody>\n",
    "</table>\n",
    "<ul>\n",
    "<li>Fully Connected part:</li>\n",
    "</ul>\n",
    "<table>\n",
    "<thead><tr>\n",
    "<th>Layer</th>\n",
    "<th style=\"text-align:center\">Name</th>\n",
    "<th style=\"text-align:center\">Input size</th>\n",
    "<th style=\"text-align:center\">Output size</th>\n",
    "</tr>\n",
    "</thead>\n",
    "<tbody>\n",
    "<tr>\n",
    "<td>Linear</td>\n",
    "<td style=\"text-align:center\">F5</td>\n",
    "<td style=\"text-align:center\">120</td>\n",
    "<td style=\"text-align:center\">84</td>\n",
    "</tr>\n",
    "<tr>\n",
    "<td>tanh</td>\n",
    "<td style=\"text-align:center\"></td>\n",
    "<td style=\"text-align:center\"></td>\n",
    "<td style=\"text-align:center\"></td>\n",
    "</tr>\n",
    "<tr>\n",
    "<td>Linear</td>\n",
    "<td style=\"text-align:center\">F6</td>\n",
    "<td style=\"text-align:center\">84</td>\n",
    "<td style=\"text-align:center\">10</td>\n",
    "</tr>\n",
    "<tr>\n",
    "<td>LogSoftmax</td>\n",
    "<td style=\"text-align:center\"></td>\n",
    "<td style=\"text-align:center\"></td>\n",
    "<td style=\"text-align:center\"></td>\n",
    "</tr>\n",
    "</tbody>\n",
    "</table>\n"
   ]
  },
  {
   "cell_type": "markdown",
   "metadata": {},
   "source": [
    "## Импорт необходимых библиотек"
   ]
  },
  {
   "cell_type": "code",
   "execution_count": 2,
   "metadata": {},
   "outputs": [],
   "source": [
    "import torch\n",
    "import torch.nn as nn\n",
    "import torch.nn.functional as F\n",
    "import torch.optim as optim\n",
    "from torchvision import datasets, transforms\n",
    "\n",
    "torch.set_printoptions(precision=3)\n",
    "\n",
    "import sys\n",
    "import colorama # выделение цветом текста в выводной ячейке\n",
    "from collections import OrderedDict\n",
    "import matplotlib.pyplot as plt "
   ]
  },
  {
   "cell_type": "markdown",
   "metadata": {},
   "source": [
    "## Знакомимся с датасетом"
   ]
  },
  {
   "cell_type": "code",
   "execution_count": 3,
   "metadata": {},
   "outputs": [
    {
     "name": "stdout",
     "output_type": "stream",
     "text": [
      "Downloading http://yann.lecun.com/exdb/mnist/train-images-idx3-ubyte.gz\n",
      "Downloading http://yann.lecun.com/exdb/mnist/train-images-idx3-ubyte.gz to ./data/MNIST/raw/train-images-idx3-ubyte.gz\n"
     ]
    },
    {
     "name": "stderr",
     "output_type": "stream",
     "text": [
      "100%|██████████| 9912422/9912422 [00:01<00:00, 6746664.25it/s]\n"
     ]
    },
    {
     "name": "stdout",
     "output_type": "stream",
     "text": [
      "Extracting ./data/MNIST/raw/train-images-idx3-ubyte.gz to ./data/MNIST/raw\n",
      "\n",
      "Downloading http://yann.lecun.com/exdb/mnist/train-labels-idx1-ubyte.gz\n",
      "Downloading http://yann.lecun.com/exdb/mnist/train-labels-idx1-ubyte.gz to ./data/MNIST/raw/train-labels-idx1-ubyte.gz\n"
     ]
    },
    {
     "name": "stderr",
     "output_type": "stream",
     "text": [
      "100%|██████████| 28881/28881 [00:00<00:00, 18974889.38it/s]"
     ]
    },
    {
     "name": "stdout",
     "output_type": "stream",
     "text": [
      "Extracting ./data/MNIST/raw/train-labels-idx1-ubyte.gz to ./data/MNIST/raw\n",
      "\n",
      "Downloading http://yann.lecun.com/exdb/mnist/t10k-images-idx3-ubyte.gz\n",
      "Downloading http://yann.lecun.com/exdb/mnist/t10k-images-idx3-ubyte.gz to ./data/MNIST/raw/t10k-images-idx3-ubyte.gz\n"
     ]
    },
    {
     "name": "stderr",
     "output_type": "stream",
     "text": [
      "\n",
      "100%|██████████| 1648877/1648877 [00:00<00:00, 6236763.93it/s]\n"
     ]
    },
    {
     "name": "stdout",
     "output_type": "stream",
     "text": [
      "Extracting ./data/MNIST/raw/t10k-images-idx3-ubyte.gz to ./data/MNIST/raw\n",
      "\n",
      "Downloading http://yann.lecun.com/exdb/mnist/t10k-labels-idx1-ubyte.gz\n",
      "Downloading http://yann.lecun.com/exdb/mnist/t10k-labels-idx1-ubyte.gz to ./data/MNIST/raw/t10k-labels-idx1-ubyte.gz\n"
     ]
    },
    {
     "name": "stderr",
     "output_type": "stream",
     "text": [
      "100%|██████████| 4542/4542 [00:00<00:00, 14836860.41it/s]"
     ]
    },
    {
     "name": "stdout",
     "output_type": "stream",
     "text": [
      "Extracting ./data/MNIST/raw/t10k-labels-idx1-ubyte.gz to ./data/MNIST/raw\n",
      "\n"
     ]
    },
    {
     "name": "stderr",
     "output_type": "stream",
     "text": [
      "\n"
     ]
    }
   ],
   "source": [
    "# задаем необходимые трансформации\n",
    "transformations = transforms.Compose([\n",
    "    transforms.Resize((32, 32)),\n",
    "    transforms.ToTensor()\n",
    "])\n",
    "\n",
    "# определяем тренировочную выборку\n",
    "train_data = datasets.MNIST('./data', \n",
    "                            train = True, \n",
    "                            download = True,\n",
    "                            transform = transformations)\n",
    "\n",
    "# определяем тестовую выборку\n",
    "test_data = datasets.MNIST('./data', \n",
    "                            train = False, \n",
    "                            download = True,\n",
    "                            transform = transformations)\n",
    "\n",
    "# задаем тренировочный и тестовый даталоадеры\n",
    "train_loader = torch.utils.data.DataLoader(train_data, batch_size=256, shuffle=True)\n",
    "test_loader = torch.utils.data.DataLoader(test_data, batch_size=1024, shuffle=False)"
   ]
  },
  {
   "cell_type": "code",
   "execution_count": 4,
   "metadata": {},
   "outputs": [
    {
     "data": {
      "image/png": "[encoded data removed]",
      "text/plain": [
       "<Figure size 1600x900 with 10 Axes>"
      ]
     },
     "metadata": {},
     "output_type": "display_data"
    }
   ],
   "source": [
    "# ознакомимся с тренировочным датасетом\n",
    "plt.figure(figsize=(16,9))\n",
    "data, target = next(iter(train_loader))\n",
    "for i in range(10):\n",
    "    img = data.squeeze(1)[i]\n",
    "    plt.subplot(1, 10, i+1)\n",
    "    plt.imshow(img, cmap=\"gray\", interpolation=\"none\")\n",
    "    plt.xlabel(target[i].item(), fontsize=18)\n",
    "    plt.xticks([])\n",
    "    plt.yticks([])"
   ]
  },
  {
   "cell_type": "markdown",
   "metadata": {},
   "source": [
    "## Создаем архитектуру модели"
   ]
  },
  {
   "cell_type": "code",
   "execution_count": 5,
   "metadata": {},
   "outputs": [],
   "source": [
    "class LeNet5(nn.Module):\n",
    "    def __init__(self):\n",
    "        super(LeNet5, self).__init__()\n",
    "        \n",
    "        self.conv_net = nn.Sequential(OrderedDict([               \n",
    "            ('C1', nn.Conv2d(1, 6, kernel_size=(5, 5))),\n",
    "            ('Tanh1', nn.Tanh()),\n",
    "            \n",
    "            ('S2', nn.AvgPool2d(kernel_size=(2, 2), stride=2)),\n",
    "            ('C3', nn.Conv2d(6, 16, kernel_size=(5, 5))),\n",
    "            ('Tanh3', nn.Tanh()),\n",
    "            \n",
    "            ('S4', nn.AvgPool2d(kernel_size=(2, 2), stride=2)),\n",
    "            ('C5', nn.Conv2d(16, 120, kernel_size=(5, 5))),\n",
    "            ('Tanh5', nn.Tanh()),\n",
    "        ]))\n",
    "        \n",
    "        self.fully_connected = nn.Sequential(OrderedDict([\n",
    "            ('F6', nn.Linear(120, 84)),\n",
    "            ('Tanh6', nn.Tanh()),\n",
    "            ('F7', nn.Linear(84, 10)),\n",
    "            ('LogSoftmax', nn.LogSoftmax(dim=-1))\n",
    "        ]))\n",
    "\n",
    "\n",
    "    def forward(self, imgs):\n",
    "        output = self.conv_net(imgs)\n",
    "        output = output.view(imgs.shape[0], -1)  # imgs.shape[0]это размер батча\n",
    "        output = self.fully_connected(output)\n",
    "        return output     "
   ]
  },
  {
   "cell_type": "code",
   "execution_count": 6,
   "metadata": {},
   "outputs": [
    {
     "name": "stdout",
     "output_type": "stream",
     "text": [
      "LeNet5(\n",
      "  (conv_net): Sequential(\n",
      "    (C1): Conv2d(1, 6, kernel_size=(5, 5), stride=(1, 1))\n",
      "    (Tanh1): Tanh()\n",
      "    (S2): AvgPool2d(kernel_size=(2, 2), stride=2, padding=0)\n",
      "    (C3): Conv2d(6, 16, kernel_size=(5, 5), stride=(1, 1))\n",
      "    (Tanh3): Tanh()\n",
      "    (S4): AvgPool2d(kernel_size=(2, 2), stride=2, padding=0)\n",
      "    (C5): Conv2d(16, 120, kernel_size=(5, 5), stride=(1, 1))\n",
      "    (Tanh5): Tanh()\n",
      "  )\n",
      "  (fully_connected): Sequential(\n",
      "    (F6): Linear(in_features=120, out_features=84, bias=True)\n",
      "    (Tanh6): Tanh()\n",
      "    (F7): Linear(in_features=84, out_features=10, bias=True)\n",
      "    (LogSoftmax): LogSoftmax(dim=-1)\n",
      "  )\n",
      ")\n"
     ]
    }
   ],
   "source": [
    "# создаем нашу сеть и выводим ее архитектуру\n",
    "conv_net = LeNet5()\n",
    "print(conv_net)"
   ]
  },
  {
   "cell_type": "markdown",
   "metadata": {},
   "source": [
    "## Визуализируем предсказания \n",
    "(сеть еще не обучена и веса инициализированы случайно)"
   ]
  },
  {
   "cell_type": "markdown",
   "metadata": {},
   "source": [
    "Зададим функцию для визуализации предсказаний"
   ]
  },
  {
   "cell_type": "code",
   "execution_count": 7,
   "metadata": {},
   "outputs": [],
   "source": [
    "def visualize_predictions(model, dataloader, device):\n",
    "    '''\n",
    "    Функция принимает на вход модель, даталоадер и устройство,\n",
    "    на котором будет работать модель, возвращает изображения и \n",
    "    классы этих изображений\n",
    "    '''\n",
    "    # получаем изображение и метку класса из даталоадера\n",
    "    data, labels = next(iter(dataloader))\n",
    "    # переносим первые 10 изображений на указанное устройство (GPU), выделяем метки этих изображений\n",
    "    data, labels = data[:10].to(device), labels[:10]\n",
    "    # делаем предсказание\n",
    "    predictions = model(data).max(1)[1]\n",
    "    \n",
    "    # переносим предсказания и изображения на устройство (в данном случае CPU)\n",
    "    predictions, data = predictions.cpu(), data.cpu()\n",
    "    \n",
    "    # выводим изображения и их классы\n",
    "    plt.figure(figsize=(16,9))\n",
    "    for i in range(10):\n",
    "        img = data.squeeze(1)[i]\n",
    "        plt.subplot(1, 10, i+1)\n",
    "        plt.imshow(img, cmap=\"gray\", interpolation=\"none\")\n",
    "        plt.xlabel(predictions[i].item(), fontsize=18)\n",
    "        plt.xticks([])\n",
    "        plt.yticks([])      "
   ]
  },
  {
   "cell_type": "code",
   "execution_count": 8,
   "metadata": {},
   "outputs": [],
   "source": [
    "# определим устройство для работы модели и перенесем туда модель\n",
    "device = torch.device('mps') # GPU-ядра MacBook m1 pro\n",
    "conv_net = conv_net.to(device)"
   ]
  },
  {
   "cell_type": "code",
   "execution_count": 9,
   "metadata": {},
   "outputs": [
    {
     "data": {
      "image/png": "[encoded data removed]",
      "text/plain": [
       "<Figure size 1600x900 with 10 Axes>"
      ]
     },
     "metadata": {},
     "output_type": "display_data"
    }
   ],
   "source": [
    "# визуализируем предсказания модели для 10 изображений\n",
    "visualize_predictions(conv_net, test_loader, device)"
   ]
  },
  {
   "cell_type": "markdown",
   "metadata": {},
   "source": [
    "**Вывод:** модель не прошла обучение, поэтому не выдает правильные предсказания"
   ]
  },
  {
   "cell_type": "markdown",
   "metadata": {},
   "source": [
    "## Функции для обучения сети"
   ]
  },
  {
   "cell_type": "code",
   "execution_count": 10,
   "metadata": {},
   "outputs": [],
   "source": [
    "def train_cnn(model, train_loader, test_loader, device, num_epochs=3, lr=0.1):\n",
    "\n",
    "    \"\"\" Обучаем LeNet-5 \n",
    "    Функция принимает на вход модель, тренировочный и тестовый даталоадеры, устройство на \n",
    "    котором будет проходить обучение, кол-во эпох и темп обучения.\n",
    "    Функция проводит обучение модели с рассчетом accuracy в конце каждой эпохи, выводя\n",
    "    эти данные для ознакомления.\n",
    "    \"\"\"\n",
    "\n",
    "    # задаем оптимайзер и функцию потерь\n",
    "    optimizer = torch.optim.Adam(model.parameters(), lr=lr)\n",
    "    criterion = torch.nn.CrossEntropyLoss()\n",
    "\n",
    "    for epoch in range(num_epochs):\n",
    "        print(\"=\" * 30, \"Starting epoch %d\" % (epoch + 1), \"=\" * 30)\n",
    "      \n",
    "        model.train()  # Not necessary in our example, but still good practice.\n",
    "                       # Only models with nn.Dropout and nn.BatchNorm modules require it\n",
    "              \n",
    "        # dataloader возвращает батчи с изображениями в 'data' и тензор с их соответствующими метками в 'labels'\n",
    "        for batch_idx, (data, labels) in enumerate(train_loader):\n",
    "            data, labels = data.to(device), labels.to(device)\n",
    "\n",
    "            optimizer.zero_grad()\n",
    "            output = model(data)\n",
    "            loss = criterion(output, labels)\n",
    "            loss.backward()\n",
    "            optimizer.step()\n",
    "          \n",
    "            if batch_idx % 40 == 0:\n",
    "                print(\"Batch %d/%d, Loss=%.4f\" % (batch_idx, len(train_loader), loss.item()))\n",
    "      \n",
    "        # рассчитываем accuracy на train и test в конце каждой эпохи\n",
    "        train_acc = accuracy(model, train_loader, device)\n",
    "        test_acc = accuracy(model, test_loader, device)\n",
    "      \n",
    "        print(colorama.Fore.GREEN, \"\\nAccuracy on training: %.2f%%\" % (100*train_acc))\n",
    "        print(\"Accuracy on test: %.2f%%\" % (100*test_acc), colorama.Fore.RESET)"
   ]
  },
  {
   "cell_type": "code",
   "execution_count": 11,
   "metadata": {},
   "outputs": [],
   "source": [
    "def accuracy(model, dataloader, device):\n",
    "    \"\"\" \n",
    "    Функция принимает на вход модель, даталоадер и устройство на котором будет обучаться\n",
    "    модель.\n",
    "    Функция вычисляет точность модели на данных, предоставленных dataloader'ом.\n",
    "    \"\"\"\n",
    "    model.eval()\n",
    "    \n",
    "    num_correct = 0\n",
    "    num_samples = 0\n",
    "    with torch.no_grad():  # deactivates autograd, reduces memory usage and speeds up computations\n",
    "        for data, labels in dataloader:\n",
    "            data, labels = data.to(device), labels.to(device)\n",
    "\n",
    "            predictions = model(data).max(1)[1]  # индексы максимумов вдоль второго измерения\n",
    "            num_correct += (predictions == labels).sum().item()\n",
    "            num_samples += predictions.shape[0]\n",
    "        \n",
    "    return num_correct / num_samples"
   ]
  },
  {
   "cell_type": "markdown",
   "metadata": {},
   "source": [
    "## Обучаем модель"
   ]
  },
  {
   "cell_type": "code",
   "execution_count": 12,
   "metadata": {},
   "outputs": [
    {
     "name": "stdout",
     "output_type": "stream",
     "text": [
      "============================== Starting epoch 1 ==============================\n",
      "Batch 0/235, Loss=2.2999\n",
      "Batch 40/235, Loss=0.4926\n",
      "Batch 80/235, Loss=0.2461\n",
      "Batch 120/235, Loss=0.2395\n",
      "Batch 160/235, Loss=0.1443\n",
      "Batch 200/235, Loss=0.2560\n",
      "\u001b[32m \n",
      "Accuracy on training: 96.04%\n",
      "Accuracy on test: 95.94% \u001b[39m\n",
      "============================== Starting epoch 2 ==============================\n",
      "Batch 0/235, Loss=0.1158\n",
      "Batch 40/235, Loss=0.1292\n",
      "Batch 80/235, Loss=0.1229\n",
      "Batch 120/235, Loss=0.1035\n",
      "Batch 160/235, Loss=0.1512\n",
      "Batch 200/235, Loss=0.1338\n",
      "\u001b[32m \n",
      "Accuracy on training: 97.46%\n",
      "Accuracy on test: 97.06% \u001b[39m\n",
      "============================== Starting epoch 3 ==============================\n",
      "Batch 0/235, Loss=0.1240\n",
      "Batch 40/235, Loss=0.1141\n",
      "Batch 80/235, Loss=0.0517\n",
      "Batch 120/235, Loss=0.1364\n",
      "Batch 160/235, Loss=0.0476\n",
      "Batch 200/235, Loss=0.0451\n",
      "\u001b[32m \n",
      "Accuracy on training: 98.42%\n",
      "Accuracy on test: 97.95% \u001b[39m\n",
      "============================== Starting epoch 4 ==============================\n",
      "Batch 0/235, Loss=0.0472\n",
      "Batch 40/235, Loss=0.0939\n",
      "Batch 80/235, Loss=0.0567\n",
      "Batch 120/235, Loss=0.0328\n",
      "Batch 160/235, Loss=0.0911\n",
      "Batch 200/235, Loss=0.0400\n",
      "\u001b[32m \n",
      "Accuracy on training: 98.81%\n",
      "Accuracy on test: 98.22% \u001b[39m\n",
      "============================== Starting epoch 5 ==============================\n",
      "Batch 0/235, Loss=0.0275\n",
      "Batch 40/235, Loss=0.0319\n",
      "Batch 80/235, Loss=0.0375\n",
      "Batch 120/235, Loss=0.0273\n",
      "Batch 160/235, Loss=0.0713\n",
      "Batch 200/235, Loss=0.0472\n",
      "\u001b[32m \n",
      "Accuracy on training: 99.03%\n",
      "Accuracy on test: 98.18% \u001b[39m\n",
      "============================== Starting epoch 6 ==============================\n",
      "Batch 0/235, Loss=0.0268\n",
      "Batch 40/235, Loss=0.0189\n",
      "Batch 80/235, Loss=0.0297\n",
      "Batch 120/235, Loss=0.0285\n",
      "Batch 160/235, Loss=0.0092\n",
      "Batch 200/235, Loss=0.0455\n",
      "\u001b[32m \n",
      "Accuracy on training: 99.27%\n",
      "Accuracy on test: 98.56% \u001b[39m\n",
      "============================== Starting epoch 7 ==============================\n",
      "Batch 0/235, Loss=0.0383\n",
      "Batch 40/235, Loss=0.0188\n",
      "Batch 80/235, Loss=0.0260\n",
      "Batch 120/235, Loss=0.0328\n",
      "Batch 160/235, Loss=0.0478\n",
      "Batch 200/235, Loss=0.0232\n",
      "\u001b[32m \n",
      "Accuracy on training: 99.30%\n",
      "Accuracy on test: 98.37% \u001b[39m\n",
      "============================== Starting epoch 8 ==============================\n",
      "Batch 0/235, Loss=0.0125\n",
      "Batch 40/235, Loss=0.0162\n",
      "Batch 80/235, Loss=0.0055\n",
      "Batch 120/235, Loss=0.0192\n",
      "Batch 160/235, Loss=0.0270\n",
      "Batch 200/235, Loss=0.0413\n",
      "\u001b[32m \n",
      "Accuracy on training: 99.24%\n",
      "Accuracy on test: 98.43% \u001b[39m\n",
      "============================== Starting epoch 9 ==============================\n",
      "Batch 0/235, Loss=0.0165\n",
      "Batch 40/235, Loss=0.0232\n",
      "Batch 80/235, Loss=0.0096\n",
      "Batch 120/235, Loss=0.0148\n",
      "Batch 160/235, Loss=0.0268\n",
      "Batch 200/235, Loss=0.0148\n",
      "\u001b[32m \n",
      "Accuracy on training: 99.51%\n",
      "Accuracy on test: 98.47% \u001b[39m\n",
      "============================== Starting epoch 10 ==============================\n",
      "Batch 0/235, Loss=0.0213\n",
      "Batch 40/235, Loss=0.0121\n",
      "Batch 80/235, Loss=0.0066\n",
      "Batch 120/235, Loss=0.0042\n",
      "Batch 160/235, Loss=0.0090\n",
      "Batch 200/235, Loss=0.0402\n",
      "\u001b[32m \n",
      "Accuracy on training: 99.60%\n",
      "Accuracy on test: 98.61% \u001b[39m\n"
     ]
    }
   ],
   "source": [
    "train_cnn(conv_net, train_loader, test_loader, device, num_epochs=10, lr=2e-3)"
   ]
  },
  {
   "cell_type": "markdown",
   "metadata": {},
   "source": [
    "## Визуализируем предсказания"
   ]
  },
  {
   "cell_type": "code",
   "execution_count": 13,
   "metadata": {},
   "outputs": [
    {
     "data": {
      "image/png": "[encoded data removed]",
      "text/plain": [
       "<Figure size 1600x900 with 10 Axes>"
      ]
     },
     "metadata": {},
     "output_type": "display_data"
    }
   ],
   "source": [
    "visualize_predictions(conv_net, test_loader, device)"
   ]
  },
  {
   "cell_type": "markdown",
   "metadata": {},
   "source": [
    "**Выводы:**\n",
    "- произведено обучение модели LeNet-5 на 10 эпохах\n",
    "- *acccuracy* на тренировочной выборке достигли 99.60%, на тестовой - 98.61\n",
    "- модель правильно предсказала класс в 10 случаях из 10 на тестовой выборке"
   ]
  }
 ],
 "metadata": {
  "kernelspec": {
   "display_name": "pt_mac_m1",
   "language": "python",
   "name": "python3"
  },
  "language_info": {
   "codemirror_mode": {
    "name": "ipython",
    "version": 3
   },
   "file_extension": ".py",
   "mimetype": "text/x-python",
   "name": "python",
   "nbconvert_exporter": "python",
   "pygments_lexer": "ipython3",
   "version": "3.11.7"
  }
 },
 "nbformat": 4,
 "nbformat_minor": 2
}
