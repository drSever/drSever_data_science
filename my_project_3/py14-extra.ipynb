{
 "cells": [
  {
   "cell_type": "markdown",
   "metadata": {},
   "source": [
    "\n",
    "## PYTHON-14. Очистка данных 9. Итоги  \n",
    "Журавлев Александр DST-120\n",
    "***\n",
    "**Условия задачи**  \n",
    "Имеются две базы данных (два листа Excel-файла): база с ценами конкурентов (**Data_Parsing**) и внутренняя база компании (**Data_Company**).\n",
    "В базе парсинга есть два ***id***, однозначно определяющие товар: ***producer_id*** и ***producer_color***.\n",
    "В базе компании есть два аналогичных поля: ***item_id*** и ***color_id***.\n",
    "Нам известно, что коды в двух базах отличаются наличием набора служебных символов. В базе парсинга встречаются следующие символы: **_, -, ~, \\\\, /.**  \n",
    "Файл с данными можно скачать [здесь](https://lms.skillfactory.ru/assets/courseware/v1/958d35ff25f2486f65613da4459e6647/asset-v1:SkillFactory+DST-3.0+28FEB2021+type@asset+block/Data_TSUM.xlsx).\n",
    "\n",
    "Необходимо:\n",
    "\n",
    "- Считать данные из Excel в DataFrame (**Data_Parsing**) и (**Data_Company**).  \n",
    "- Подтянуть к базе парсинга данные из базы компании (***item_id, color_id, current_price***) и сформировать столбец разницы цен в % (цена конкурента к нашей цене).  \n",
    "- Определить сильные отклонения от среднего в разности цен в пределах бренда-категории (то есть убрать случайные выбросы, сильно искажающие сравнение).   Критерий — по вкусу, написать комментарий в коде.  \n",
    "- Записать новый файл Excel с базой парсинга, приклееными к ней столбцами из пункта 2 и с учётом пункта 3 (можно добавить столбец ***outlier*** и проставить **Yes** для выбросов).  "
   ]
  },
  {
   "cell_type": "code",
   "execution_count": 1,
   "metadata": {},
   "outputs": [
    {
     "data": {
      "text/html": [
       "<div>\n",
       "<style scoped>\n",
       "    .dataframe tbody tr th:only-of-type {\n",
       "        vertical-align: middle;\n",
       "    }\n",
       "\n",
       "    .dataframe tbody tr th {\n",
       "        vertical-align: top;\n",
       "    }\n",
       "\n",
       "    .dataframe thead th {\n",
       "        text-align: right;\n",
       "    }\n",
       "</style>\n",
       "<table border=\"1\" class=\"dataframe\">\n",
       "  <thead>\n",
       "    <tr style=\"text-align: right;\">\n",
       "      <th></th>\n",
       "      <th>brand</th>\n",
       "      <th>Category</th>\n",
       "      <th>producer_id</th>\n",
       "      <th>producer_color</th>\n",
       "      <th>price</th>\n",
       "    </tr>\n",
       "  </thead>\n",
       "  <tbody>\n",
       "    <tr>\n",
       "      <th>0</th>\n",
       "      <td>Valentino</td>\n",
       "      <td>Shoes</td>\n",
       "      <td>aaaaa1111_11</td>\n",
       "      <td>black</td>\n",
       "      <td>167</td>\n",
       "    </tr>\n",
       "    <tr>\n",
       "      <th>1</th>\n",
       "      <td>Valentino</td>\n",
       "      <td>Shoes</td>\n",
       "      <td>aaaaa1111_12</td>\n",
       "      <td>black</td>\n",
       "      <td>188</td>\n",
       "    </tr>\n",
       "    <tr>\n",
       "      <th>2</th>\n",
       "      <td>Valentino</td>\n",
       "      <td>Shoes</td>\n",
       "      <td>aaaaa1111_13</td>\n",
       "      <td>black</td>\n",
       "      <td>184</td>\n",
       "    </tr>\n",
       "    <tr>\n",
       "      <th>3</th>\n",
       "      <td>Valentino</td>\n",
       "      <td>Shoes</td>\n",
       "      <td>aaaaa1111_14</td>\n",
       "      <td>bla//ck</td>\n",
       "      <td>196</td>\n",
       "    </tr>\n",
       "    <tr>\n",
       "      <th>4</th>\n",
       "      <td>Valentino</td>\n",
       "      <td>Shoes</td>\n",
       "      <td>aaaaa1111_15</td>\n",
       "      <td>bla\\\\ck</td>\n",
       "      <td>250</td>\n",
       "    </tr>\n",
       "    <tr>\n",
       "      <th>...</th>\n",
       "      <td>...</td>\n",
       "      <td>...</td>\n",
       "      <td>...</td>\n",
       "      <td>...</td>\n",
       "      <td>...</td>\n",
       "    </tr>\n",
       "    <tr>\n",
       "      <th>70</th>\n",
       "      <td>Stone Island</td>\n",
       "      <td>Bags</td>\n",
       "      <td>sssss1111_31</td>\n",
       "      <td>~~~red</td>\n",
       "      <td>164</td>\n",
       "    </tr>\n",
       "    <tr>\n",
       "      <th>71</th>\n",
       "      <td>Stone Island</td>\n",
       "      <td>Bags</td>\n",
       "      <td>sssss1111_32</td>\n",
       "      <td>~~~red</td>\n",
       "      <td>158</td>\n",
       "    </tr>\n",
       "    <tr>\n",
       "      <th>72</th>\n",
       "      <td>Stone Island</td>\n",
       "      <td>Bags</td>\n",
       "      <td>sssss1111_33</td>\n",
       "      <td>~~~red</td>\n",
       "      <td>194</td>\n",
       "    </tr>\n",
       "    <tr>\n",
       "      <th>73</th>\n",
       "      <td>Stone Island</td>\n",
       "      <td>Bags</td>\n",
       "      <td>sssss1111_34</td>\n",
       "      <td>~~~red</td>\n",
       "      <td>256</td>\n",
       "    </tr>\n",
       "    <tr>\n",
       "      <th>74</th>\n",
       "      <td>Stone Island</td>\n",
       "      <td>Bags</td>\n",
       "      <td>sssss1111_35</td>\n",
       "      <td>~~~red</td>\n",
       "      <td>205</td>\n",
       "    </tr>\n",
       "  </tbody>\n",
       "</table>\n",
       "<p>75 rows × 5 columns</p>\n",
       "</div>"
      ],
      "text/plain": [
       "           brand Category   producer_id producer_color  price\n",
       "0      Valentino    Shoes  aaaaa1111_11          black    167\n",
       "1      Valentino    Shoes  aaaaa1111_12          black    188\n",
       "2      Valentino    Shoes  aaaaa1111_13          black    184\n",
       "3      Valentino    Shoes  aaaaa1111_14        bla//ck    196\n",
       "4      Valentino    Shoes  aaaaa1111_15        bla\\\\ck    250\n",
       "..           ...      ...           ...            ...    ...\n",
       "70  Stone Island     Bags  sssss1111_31         ~~~red    164\n",
       "71  Stone Island     Bags  sssss1111_32         ~~~red    158\n",
       "72  Stone Island     Bags  sssss1111_33         ~~~red    194\n",
       "73  Stone Island     Bags  sssss1111_34         ~~~red    256\n",
       "74  Stone Island     Bags  sssss1111_35         ~~~red    205\n",
       "\n",
       "[75 rows x 5 columns]"
      ]
     },
     "metadata": {},
     "output_type": "display_data"
    },
    {
     "data": {
      "text/html": [
       "<div>\n",
       "<style scoped>\n",
       "    .dataframe tbody tr th:only-of-type {\n",
       "        vertical-align: middle;\n",
       "    }\n",
       "\n",
       "    .dataframe tbody tr th {\n",
       "        vertical-align: top;\n",
       "    }\n",
       "\n",
       "    .dataframe thead th {\n",
       "        text-align: right;\n",
       "    }\n",
       "</style>\n",
       "<table border=\"1\" class=\"dataframe\">\n",
       "  <thead>\n",
       "    <tr style=\"text-align: right;\">\n",
       "      <th></th>\n",
       "      <th>brand</th>\n",
       "      <th>Category</th>\n",
       "      <th>item_id</th>\n",
       "      <th>color_id</th>\n",
       "      <th>current price</th>\n",
       "    </tr>\n",
       "  </thead>\n",
       "  <tbody>\n",
       "    <tr>\n",
       "      <th>0</th>\n",
       "      <td>Valentino</td>\n",
       "      <td>Shoes</td>\n",
       "      <td>aaaaa111111</td>\n",
       "      <td>black</td>\n",
       "      <td>247</td>\n",
       "    </tr>\n",
       "    <tr>\n",
       "      <th>1</th>\n",
       "      <td>Valentino</td>\n",
       "      <td>Shoes</td>\n",
       "      <td>aaaaa111112</td>\n",
       "      <td>black</td>\n",
       "      <td>161</td>\n",
       "    </tr>\n",
       "    <tr>\n",
       "      <th>2</th>\n",
       "      <td>Valentino</td>\n",
       "      <td>Shoes</td>\n",
       "      <td>aaaaa111113</td>\n",
       "      <td>black</td>\n",
       "      <td>234</td>\n",
       "    </tr>\n",
       "    <tr>\n",
       "      <th>3</th>\n",
       "      <td>Valentino</td>\n",
       "      <td>Shoes</td>\n",
       "      <td>aaaaa111114</td>\n",
       "      <td>black</td>\n",
       "      <td>167</td>\n",
       "    </tr>\n",
       "    <tr>\n",
       "      <th>4</th>\n",
       "      <td>Valentino</td>\n",
       "      <td>Shoes</td>\n",
       "      <td>aaaaa111115</td>\n",
       "      <td>black</td>\n",
       "      <td>153</td>\n",
       "    </tr>\n",
       "    <tr>\n",
       "      <th>...</th>\n",
       "      <td>...</td>\n",
       "      <td>...</td>\n",
       "      <td>...</td>\n",
       "      <td>...</td>\n",
       "      <td>...</td>\n",
       "    </tr>\n",
       "    <tr>\n",
       "      <th>70</th>\n",
       "      <td>Stone Island</td>\n",
       "      <td>Bags</td>\n",
       "      <td>sssss111131</td>\n",
       "      <td>red</td>\n",
       "      <td>165</td>\n",
       "    </tr>\n",
       "    <tr>\n",
       "      <th>71</th>\n",
       "      <td>Stone Island</td>\n",
       "      <td>Bags</td>\n",
       "      <td>sssss111132</td>\n",
       "      <td>red</td>\n",
       "      <td>196</td>\n",
       "    </tr>\n",
       "    <tr>\n",
       "      <th>72</th>\n",
       "      <td>Stone Island</td>\n",
       "      <td>Bags</td>\n",
       "      <td>sssss111133</td>\n",
       "      <td>red</td>\n",
       "      <td>236</td>\n",
       "    </tr>\n",
       "    <tr>\n",
       "      <th>73</th>\n",
       "      <td>Stone Island</td>\n",
       "      <td>Bags</td>\n",
       "      <td>sssss111134</td>\n",
       "      <td>red</td>\n",
       "      <td>222</td>\n",
       "    </tr>\n",
       "    <tr>\n",
       "      <th>74</th>\n",
       "      <td>Stone Island</td>\n",
       "      <td>Bags</td>\n",
       "      <td>sssss111135</td>\n",
       "      <td>red</td>\n",
       "      <td>275</td>\n",
       "    </tr>\n",
       "  </tbody>\n",
       "</table>\n",
       "<p>75 rows × 5 columns</p>\n",
       "</div>"
      ],
      "text/plain": [
       "           brand Category      item_id color_id  current price\n",
       "0      Valentino    Shoes  aaaaa111111    black            247\n",
       "1      Valentino    Shoes  aaaaa111112    black            161\n",
       "2      Valentino    Shoes  aaaaa111113    black            234\n",
       "3      Valentino    Shoes  aaaaa111114    black            167\n",
       "4      Valentino    Shoes  aaaaa111115    black            153\n",
       "..           ...      ...          ...      ...            ...\n",
       "70  Stone Island     Bags  sssss111131      red            165\n",
       "71  Stone Island     Bags  sssss111132      red            196\n",
       "72  Stone Island     Bags  sssss111133      red            236\n",
       "73  Stone Island     Bags  sssss111134      red            222\n",
       "74  Stone Island     Bags  sssss111135      red            275\n",
       "\n",
       "[75 rows x 5 columns]"
      ]
     },
     "metadata": {},
     "output_type": "display_data"
    }
   ],
   "source": [
    "import pandas as pd\n",
    "import numpy as np\n",
    "# установим библиотеку plotly.express - она нужна для визуализации\n",
    "import plotly.express as px\n",
    "# импортируем модуль re для коррекции даных в признаках producer_id, producer_color\n",
    "import re \n",
    "\n",
    "# Установить openpyxl через терминал, если не установлен и выдает ошибку:    pip install openpyxl\n",
    "\n",
    "# загружаем лист №1 Data_Parsing (из файла Data_TSUM.xlsx) в одноименный DataFrame\n",
    "Data_Parsing = pd.read_excel('data/Data_TSUM.xlsx', engine='openpyxl', sheet_name='Data_Parsing')\n",
    "# загружаем лист №2 Data_Company (из файла Data_TSUM.xlsx) в одноименный DataFrame\n",
    "Data_Company = pd.read_excel('data/Data_TSUM.xlsx', engine='openpyxl', sheet_name='Data_Company')\n",
    "\n",
    "# проверим, что все загрузили правильно\n",
    "display(Data_Parsing)\n",
    "display(Data_Company)"
   ]
  },
  {
   "cell_type": "markdown",
   "metadata": {},
   "source": [
    "**Выводы из представленных таблиц**:  \n",
    "- Просмотрев первые 5 и последние 5 сторок таблиц, можно заметить, что строчки таблиц соответствуют друг другу, кроме признака Цены.\n",
    "- Признак ***item_id*** соответствует признаку ***producer_id***, однако в последнем имеются служебные символы\n",
    "- Признак ***color_id*** соответствует признаку ***producer_color***, однако в последнем также имеются служебные символы\n",
    "\n",
    "**Алгоритм объединения таблиц:**\n",
    "- В принципе, можно не заморачиваясь, объединить таблицы по индексам, добавив нужные столбцы\n",
    "- Можно заморочиться и сначала очистить столбцы ***producer_id*** и ***producer_color*** от служебных символов и уже потом объединить столбцы - этим и займемся\n"
   ]
  },
  {
   "cell_type": "code",
   "execution_count": 2,
   "metadata": {},
   "outputs": [
    {
     "data": {
      "text/html": [
       "<div>\n",
       "<style scoped>\n",
       "    .dataframe tbody tr th:only-of-type {\n",
       "        vertical-align: middle;\n",
       "    }\n",
       "\n",
       "    .dataframe tbody tr th {\n",
       "        vertical-align: top;\n",
       "    }\n",
       "\n",
       "    .dataframe thead th {\n",
       "        text-align: right;\n",
       "    }\n",
       "</style>\n",
       "<table border=\"1\" class=\"dataframe\">\n",
       "  <thead>\n",
       "    <tr style=\"text-align: right;\">\n",
       "      <th></th>\n",
       "      <th>brand</th>\n",
       "      <th>Category</th>\n",
       "      <th>producer_id</th>\n",
       "      <th>producer_color</th>\n",
       "      <th>price</th>\n",
       "      <th>item_id</th>\n",
       "      <th>color_id</th>\n",
       "      <th>current price</th>\n",
       "    </tr>\n",
       "  </thead>\n",
       "  <tbody>\n",
       "    <tr>\n",
       "      <th>0</th>\n",
       "      <td>Valentino</td>\n",
       "      <td>Shoes</td>\n",
       "      <td>aaaaa111111</td>\n",
       "      <td>black</td>\n",
       "      <td>167</td>\n",
       "      <td>aaaaa111111</td>\n",
       "      <td>black</td>\n",
       "      <td>247</td>\n",
       "    </tr>\n",
       "    <tr>\n",
       "      <th>1</th>\n",
       "      <td>Valentino</td>\n",
       "      <td>Shoes</td>\n",
       "      <td>aaaaa111112</td>\n",
       "      <td>black</td>\n",
       "      <td>188</td>\n",
       "      <td>aaaaa111112</td>\n",
       "      <td>black</td>\n",
       "      <td>161</td>\n",
       "    </tr>\n",
       "    <tr>\n",
       "      <th>2</th>\n",
       "      <td>Valentino</td>\n",
       "      <td>Shoes</td>\n",
       "      <td>aaaaa111113</td>\n",
       "      <td>black</td>\n",
       "      <td>184</td>\n",
       "      <td>aaaaa111113</td>\n",
       "      <td>black</td>\n",
       "      <td>234</td>\n",
       "    </tr>\n",
       "    <tr>\n",
       "      <th>3</th>\n",
       "      <td>Valentino</td>\n",
       "      <td>Shoes</td>\n",
       "      <td>aaaaa111114</td>\n",
       "      <td>black</td>\n",
       "      <td>196</td>\n",
       "      <td>aaaaa111114</td>\n",
       "      <td>black</td>\n",
       "      <td>167</td>\n",
       "    </tr>\n",
       "    <tr>\n",
       "      <th>4</th>\n",
       "      <td>Valentino</td>\n",
       "      <td>Shoes</td>\n",
       "      <td>aaaaa111115</td>\n",
       "      <td>black</td>\n",
       "      <td>250</td>\n",
       "      <td>aaaaa111115</td>\n",
       "      <td>black</td>\n",
       "      <td>153</td>\n",
       "    </tr>\n",
       "    <tr>\n",
       "      <th>...</th>\n",
       "      <td>...</td>\n",
       "      <td>...</td>\n",
       "      <td>...</td>\n",
       "      <td>...</td>\n",
       "      <td>...</td>\n",
       "      <td>...</td>\n",
       "      <td>...</td>\n",
       "      <td>...</td>\n",
       "    </tr>\n",
       "    <tr>\n",
       "      <th>70</th>\n",
       "      <td>Stone Island</td>\n",
       "      <td>Bags</td>\n",
       "      <td>sssss111131</td>\n",
       "      <td>red</td>\n",
       "      <td>164</td>\n",
       "      <td>sssss111131</td>\n",
       "      <td>red</td>\n",
       "      <td>165</td>\n",
       "    </tr>\n",
       "    <tr>\n",
       "      <th>71</th>\n",
       "      <td>Stone Island</td>\n",
       "      <td>Bags</td>\n",
       "      <td>sssss111132</td>\n",
       "      <td>red</td>\n",
       "      <td>158</td>\n",
       "      <td>sssss111132</td>\n",
       "      <td>red</td>\n",
       "      <td>196</td>\n",
       "    </tr>\n",
       "    <tr>\n",
       "      <th>72</th>\n",
       "      <td>Stone Island</td>\n",
       "      <td>Bags</td>\n",
       "      <td>sssss111133</td>\n",
       "      <td>red</td>\n",
       "      <td>194</td>\n",
       "      <td>sssss111133</td>\n",
       "      <td>red</td>\n",
       "      <td>236</td>\n",
       "    </tr>\n",
       "    <tr>\n",
       "      <th>73</th>\n",
       "      <td>Stone Island</td>\n",
       "      <td>Bags</td>\n",
       "      <td>sssss111134</td>\n",
       "      <td>red</td>\n",
       "      <td>256</td>\n",
       "      <td>sssss111134</td>\n",
       "      <td>red</td>\n",
       "      <td>222</td>\n",
       "    </tr>\n",
       "    <tr>\n",
       "      <th>74</th>\n",
       "      <td>Stone Island</td>\n",
       "      <td>Bags</td>\n",
       "      <td>sssss111135</td>\n",
       "      <td>red</td>\n",
       "      <td>205</td>\n",
       "      <td>sssss111135</td>\n",
       "      <td>red</td>\n",
       "      <td>275</td>\n",
       "    </tr>\n",
       "  </tbody>\n",
       "</table>\n",
       "<p>75 rows × 8 columns</p>\n",
       "</div>"
      ],
      "text/plain": [
       "           brand Category  producer_id producer_color  price      item_id  \\\n",
       "0      Valentino    Shoes  aaaaa111111          black    167  aaaaa111111   \n",
       "1      Valentino    Shoes  aaaaa111112          black    188  aaaaa111112   \n",
       "2      Valentino    Shoes  aaaaa111113          black    184  aaaaa111113   \n",
       "3      Valentino    Shoes  aaaaa111114          black    196  aaaaa111114   \n",
       "4      Valentino    Shoes  aaaaa111115          black    250  aaaaa111115   \n",
       "..           ...      ...          ...            ...    ...          ...   \n",
       "70  Stone Island     Bags  sssss111131            red    164  sssss111131   \n",
       "71  Stone Island     Bags  sssss111132            red    158  sssss111132   \n",
       "72  Stone Island     Bags  sssss111133            red    194  sssss111133   \n",
       "73  Stone Island     Bags  sssss111134            red    256  sssss111134   \n",
       "74  Stone Island     Bags  sssss111135            red    205  sssss111135   \n",
       "\n",
       "   color_id  current price  \n",
       "0     black            247  \n",
       "1     black            161  \n",
       "2     black            234  \n",
       "3     black            167  \n",
       "4     black            153  \n",
       "..      ...            ...  \n",
       "70      red            165  \n",
       "71      red            196  \n",
       "72      red            236  \n",
       "73      red            222  \n",
       "74      red            275  \n",
       "\n",
       "[75 rows x 8 columns]"
      ]
     },
     "metadata": {},
     "output_type": "display_data"
    }
   ],
   "source": [
    "# правим в Data_Parsing значения признаков producer_id, producer_color, очищая их от служебных символов\n",
    "Data_Parsing['producer_id'] = Data_Parsing['producer_id'].apply(lambda x: re.sub('[^A-Za-z0-9]', '', x))\n",
    "Data_Parsing['producer_color'] = Data_Parsing['producer_color'].apply(lambda x: re.sub('[^A-Za-z0-9]', '', x))\n",
    "\n",
    "# display(Data_Parsing) # проверим, что все получилось как мы планировали\n",
    "\n",
    "# объединяем таблицы по признаку producer_id/item_id, добавляя необходимые столбцы\n",
    "Data_Parsing = Data_Parsing.merge(\n",
    "    Data_Company[['item_id','color_id','current price']],\n",
    "    left_on='producer_id',\n",
    "    right_on='item_id'\n",
    ")\n",
    "display(Data_Parsing) # проверим, что все правильно"
   ]
  },
  {
   "cell_type": "code",
   "execution_count": 3,
   "metadata": {},
   "outputs": [
    {
     "data": {
      "text/html": [
       "<div>\n",
       "<style scoped>\n",
       "    .dataframe tbody tr th:only-of-type {\n",
       "        vertical-align: middle;\n",
       "    }\n",
       "\n",
       "    .dataframe tbody tr th {\n",
       "        vertical-align: top;\n",
       "    }\n",
       "\n",
       "    .dataframe thead th {\n",
       "        text-align: right;\n",
       "    }\n",
       "</style>\n",
       "<table border=\"1\" class=\"dataframe\">\n",
       "  <thead>\n",
       "    <tr style=\"text-align: right;\">\n",
       "      <th></th>\n",
       "      <th>brand</th>\n",
       "      <th>Category</th>\n",
       "      <th>producer_id</th>\n",
       "      <th>producer_color</th>\n",
       "      <th>price</th>\n",
       "      <th>item_id</th>\n",
       "      <th>color_id</th>\n",
       "      <th>current price</th>\n",
       "      <th>price_difference</th>\n",
       "    </tr>\n",
       "  </thead>\n",
       "  <tbody>\n",
       "    <tr>\n",
       "      <th>0</th>\n",
       "      <td>Valentino</td>\n",
       "      <td>Shoes</td>\n",
       "      <td>aaaaa111111</td>\n",
       "      <td>black</td>\n",
       "      <td>167</td>\n",
       "      <td>aaaaa111111</td>\n",
       "      <td>black</td>\n",
       "      <td>247</td>\n",
       "      <td>67.611336</td>\n",
       "    </tr>\n",
       "    <tr>\n",
       "      <th>1</th>\n",
       "      <td>Valentino</td>\n",
       "      <td>Shoes</td>\n",
       "      <td>aaaaa111112</td>\n",
       "      <td>black</td>\n",
       "      <td>188</td>\n",
       "      <td>aaaaa111112</td>\n",
       "      <td>black</td>\n",
       "      <td>161</td>\n",
       "      <td>116.770186</td>\n",
       "    </tr>\n",
       "    <tr>\n",
       "      <th>2</th>\n",
       "      <td>Valentino</td>\n",
       "      <td>Shoes</td>\n",
       "      <td>aaaaa111113</td>\n",
       "      <td>black</td>\n",
       "      <td>184</td>\n",
       "      <td>aaaaa111113</td>\n",
       "      <td>black</td>\n",
       "      <td>234</td>\n",
       "      <td>78.632479</td>\n",
       "    </tr>\n",
       "    <tr>\n",
       "      <th>3</th>\n",
       "      <td>Valentino</td>\n",
       "      <td>Shoes</td>\n",
       "      <td>aaaaa111114</td>\n",
       "      <td>black</td>\n",
       "      <td>196</td>\n",
       "      <td>aaaaa111114</td>\n",
       "      <td>black</td>\n",
       "      <td>167</td>\n",
       "      <td>117.365269</td>\n",
       "    </tr>\n",
       "    <tr>\n",
       "      <th>4</th>\n",
       "      <td>Valentino</td>\n",
       "      <td>Shoes</td>\n",
       "      <td>aaaaa111115</td>\n",
       "      <td>black</td>\n",
       "      <td>250</td>\n",
       "      <td>aaaaa111115</td>\n",
       "      <td>black</td>\n",
       "      <td>153</td>\n",
       "      <td>163.398693</td>\n",
       "    </tr>\n",
       "    <tr>\n",
       "      <th>...</th>\n",
       "      <td>...</td>\n",
       "      <td>...</td>\n",
       "      <td>...</td>\n",
       "      <td>...</td>\n",
       "      <td>...</td>\n",
       "      <td>...</td>\n",
       "      <td>...</td>\n",
       "      <td>...</td>\n",
       "      <td>...</td>\n",
       "    </tr>\n",
       "    <tr>\n",
       "      <th>70</th>\n",
       "      <td>Stone Island</td>\n",
       "      <td>Bags</td>\n",
       "      <td>sssss111131</td>\n",
       "      <td>red</td>\n",
       "      <td>164</td>\n",
       "      <td>sssss111131</td>\n",
       "      <td>red</td>\n",
       "      <td>165</td>\n",
       "      <td>99.393939</td>\n",
       "    </tr>\n",
       "    <tr>\n",
       "      <th>71</th>\n",
       "      <td>Stone Island</td>\n",
       "      <td>Bags</td>\n",
       "      <td>sssss111132</td>\n",
       "      <td>red</td>\n",
       "      <td>158</td>\n",
       "      <td>sssss111132</td>\n",
       "      <td>red</td>\n",
       "      <td>196</td>\n",
       "      <td>80.612245</td>\n",
       "    </tr>\n",
       "    <tr>\n",
       "      <th>72</th>\n",
       "      <td>Stone Island</td>\n",
       "      <td>Bags</td>\n",
       "      <td>sssss111133</td>\n",
       "      <td>red</td>\n",
       "      <td>194</td>\n",
       "      <td>sssss111133</td>\n",
       "      <td>red</td>\n",
       "      <td>236</td>\n",
       "      <td>82.203390</td>\n",
       "    </tr>\n",
       "    <tr>\n",
       "      <th>73</th>\n",
       "      <td>Stone Island</td>\n",
       "      <td>Bags</td>\n",
       "      <td>sssss111134</td>\n",
       "      <td>red</td>\n",
       "      <td>256</td>\n",
       "      <td>sssss111134</td>\n",
       "      <td>red</td>\n",
       "      <td>222</td>\n",
       "      <td>115.315315</td>\n",
       "    </tr>\n",
       "    <tr>\n",
       "      <th>74</th>\n",
       "      <td>Stone Island</td>\n",
       "      <td>Bags</td>\n",
       "      <td>sssss111135</td>\n",
       "      <td>red</td>\n",
       "      <td>205</td>\n",
       "      <td>sssss111135</td>\n",
       "      <td>red</td>\n",
       "      <td>275</td>\n",
       "      <td>74.545455</td>\n",
       "    </tr>\n",
       "  </tbody>\n",
       "</table>\n",
       "<p>75 rows × 9 columns</p>\n",
       "</div>"
      ],
      "text/plain": [
       "           brand Category  producer_id producer_color  price      item_id  \\\n",
       "0      Valentino    Shoes  aaaaa111111          black    167  aaaaa111111   \n",
       "1      Valentino    Shoes  aaaaa111112          black    188  aaaaa111112   \n",
       "2      Valentino    Shoes  aaaaa111113          black    184  aaaaa111113   \n",
       "3      Valentino    Shoes  aaaaa111114          black    196  aaaaa111114   \n",
       "4      Valentino    Shoes  aaaaa111115          black    250  aaaaa111115   \n",
       "..           ...      ...          ...            ...    ...          ...   \n",
       "70  Stone Island     Bags  sssss111131            red    164  sssss111131   \n",
       "71  Stone Island     Bags  sssss111132            red    158  sssss111132   \n",
       "72  Stone Island     Bags  sssss111133            red    194  sssss111133   \n",
       "73  Stone Island     Bags  sssss111134            red    256  sssss111134   \n",
       "74  Stone Island     Bags  sssss111135            red    205  sssss111135   \n",
       "\n",
       "   color_id  current price  price_difference  \n",
       "0     black            247         67.611336  \n",
       "1     black            161        116.770186  \n",
       "2     black            234         78.632479  \n",
       "3     black            167        117.365269  \n",
       "4     black            153        163.398693  \n",
       "..      ...            ...               ...  \n",
       "70      red            165         99.393939  \n",
       "71      red            196         80.612245  \n",
       "72      red            236         82.203390  \n",
       "73      red            222        115.315315  \n",
       "74      red            275         74.545455  \n",
       "\n",
       "[75 rows x 9 columns]"
      ]
     },
     "metadata": {},
     "output_type": "display_data"
    }
   ],
   "source": [
    "# создаем новый столбец разницы цен в % (цена конкурента к нашей цене)\n",
    "Data_Parsing['price_difference'] = (Data_Parsing['price'] / Data_Parsing['current price']) * 100\n",
    "\n",
    "display(Data_Parsing) # проверяем, что все получилось\n",
    "\n"
   ]
  },
  {
   "cell_type": "markdown",
   "metadata": {},
   "source": [
    "Выводы по итоговой таблице:  \n",
    "- в новой таблице значения признака ***producer_id*** идентичны значениям признака ***item_id***\n",
    "- в новой таблице значения признака ***producer_color*** идентичны значениям признака ***color_id***  \n",
    "\n",
    "В принципе, дублирующие столбцы можно удалить, однако такой задачи поставлено не было, поэтому оставляем. "
   ]
  },
  {
   "cell_type": "markdown",
   "metadata": {},
   "source": [
    "***\n",
    "Попробуем провести разведывательный анализ."
   ]
  },
  {
   "cell_type": "code",
   "execution_count": 4,
   "metadata": {},
   "outputs": [
    {
     "data": {
      "application/vnd.plotly.v1+json": {
       "config": {
        "plotlyServerURL": "https://plot.ly"
       },
       "data": [
        {
         "alignmentgroup": "True",
         "hovertemplate": "Бренды (признак brand) =%{y}<br>Разница в цене в % (признак price_difference) =%{x}<extra></extra>",
         "legendgroup": "Valentino",
         "marker": {
          "color": "#636efa"
         },
         "name": "Valentino",
         "notched": false,
         "offsetgroup": "Valentino",
         "orientation": "h",
         "showlegend": true,
         "type": "box",
         "x": [
          67.61133603238866,
          116.77018633540372,
          78.63247863247864,
          117.36526946107784,
          163.3986928104575,
          72.0754716981132,
          128.99408284023667,
          61.13207547169811,
          94.39999999999999,
          69.80392156862744,
          58.56164383561644,
          94.8,
          168.42105263157893,
          109.28270042194093,
          92.10526315789474,
          97.10743801652893,
          144.3349753694581,
          112.6984126984127,
          93.20388349514563,
          60.278745644599304,
          135.44973544973544,
          58.02047781569966,
          88.42105263157895,
          104.04411764705883,
          147.05882352941177
         ],
         "x0": " ",
         "xaxis": "x",
         "y": [
          "Valentino",
          "Valentino",
          "Valentino",
          "Valentino",
          "Valentino",
          "Valentino",
          "Valentino",
          "Valentino",
          "Valentino",
          "Valentino",
          "Valentino",
          "Valentino",
          "Valentino",
          "Valentino",
          "Valentino",
          "Valentino",
          "Valentino",
          "Valentino",
          "Valentino",
          "Valentino",
          "Valentino",
          "Valentino",
          "Valentino",
          "Valentino",
          "Valentino"
         ],
         "y0": " ",
         "yaxis": "y"
        },
        {
         "alignmentgroup": "True",
         "hovertemplate": "Бренды (признак brand) =%{y}<br>Разница в цене в % (признак price_difference) =%{x}<extra></extra>",
         "legendgroup": "Brioni",
         "marker": {
          "color": "#EF553B"
         },
         "name": "Brioni",
         "notched": false,
         "offsetgroup": "Brioni",
         "orientation": "h",
         "showlegend": true,
         "type": "box",
         "x": [
          106.47773279352226,
          114.89361702127661,
          114.46808510638297,
          118.36734693877551,
          108.53658536585367,
          67.13780918727915,
          146.96969696969697,
          70.2127659574468,
          95.65217391304348,
          66.015625,
          110.18518518518519,
          96.29629629629629,
          96.18055555555556,
          162.8415300546448,
          117.64705882352942,
          81.6593886462882,
          83.60655737704919,
          133.33333333333331,
          108.12182741116752,
          85.78947368421052,
          163.69426751592357,
          91.18942731277532,
          129.16666666666669,
          86.60714285714286,
          63.745019920318725
         ],
         "x0": " ",
         "xaxis": "x",
         "y": [
          "Brioni",
          "Brioni",
          "Brioni",
          "Brioni",
          "Brioni",
          "Brioni",
          "Brioni",
          "Brioni",
          "Brioni",
          "Brioni",
          "Brioni",
          "Brioni",
          "Brioni",
          "Brioni",
          "Brioni",
          "Brioni",
          "Brioni",
          "Brioni",
          "Brioni",
          "Brioni",
          "Brioni",
          "Brioni",
          "Brioni",
          "Brioni",
          "Brioni"
         ],
         "y0": " ",
         "yaxis": "y"
        },
        {
         "alignmentgroup": "True",
         "hovertemplate": "Бренды (признак brand) =%{y}<br>Разница в цене в % (признак price_difference) =%{x}<extra></extra>",
         "legendgroup": "Stone Island",
         "marker": {
          "color": "#00cc96"
         },
         "name": "Stone Island",
         "notched": false,
         "offsetgroup": "Stone Island",
         "orientation": "h",
         "showlegend": true,
         "type": "box",
         "x": [
          121.24999999999999,
          72.95081967213115,
          76.44927536231883,
          95.63106796116504,
          104.64285714285715,
          155.67567567567568,
          117.19745222929936,
          118.18181818181819,
          71.03174603174604,
          133.74233128834356,
          138.88888888888889,
          95.40636042402826,
          68.96551724137932,
          86.66666666666667,
          88.98305084745762,
          160.37735849056605,
          68.36363636363636,
          92.93478260869566,
          108.96860986547085,
          118.3406113537118,
          99.39393939393939,
          80.61224489795919,
          82.20338983050848,
          115.31531531531532,
          74.54545454545455
         ],
         "x0": " ",
         "xaxis": "x",
         "y": [
          "Stone Island",
          "Stone Island",
          "Stone Island",
          "Stone Island",
          "Stone Island",
          "Stone Island",
          "Stone Island",
          "Stone Island",
          "Stone Island",
          "Stone Island",
          "Stone Island",
          "Stone Island",
          "Stone Island",
          "Stone Island",
          "Stone Island",
          "Stone Island",
          "Stone Island",
          "Stone Island",
          "Stone Island",
          "Stone Island",
          "Stone Island",
          "Stone Island",
          "Stone Island",
          "Stone Island",
          "Stone Island"
         ],
         "y0": " ",
         "yaxis": "y"
        }
       ],
       "layout": {
        "boxmode": "overlay",
        "height": 500,
        "legend": {
         "title": {
          "text": "Бренды (признак brand) "
         },
         "tracegroupgap": 0
        },
        "template": {
         "data": {
          "bar": [
           {
            "error_x": {
             "color": "#2a3f5f"
            },
            "error_y": {
             "color": "#2a3f5f"
            },
            "marker": {
             "line": {
              "color": "#E5ECF6",
              "width": 0.5
             },
             "pattern": {
              "fillmode": "overlay",
              "size": 10,
              "solidity": 0.2
             }
            },
            "type": "bar"
           }
          ],
          "barpolar": [
           {
            "marker": {
             "line": {
              "color": "#E5ECF6",
              "width": 0.5
             },
             "pattern": {
              "fillmode": "overlay",
              "size": 10,
              "solidity": 0.2
             }
            },
            "type": "barpolar"
           }
          ],
          "carpet": [
           {
            "aaxis": {
             "endlinecolor": "#2a3f5f",
             "gridcolor": "white",
             "linecolor": "white",
             "minorgridcolor": "white",
             "startlinecolor": "#2a3f5f"
            },
            "baxis": {
             "endlinecolor": "#2a3f5f",
             "gridcolor": "white",
             "linecolor": "white",
             "minorgridcolor": "white",
             "startlinecolor": "#2a3f5f"
            },
            "type": "carpet"
           }
          ],
          "choropleth": [
           {
            "colorbar": {
             "outlinewidth": 0,
             "ticks": ""
            },
            "type": "choropleth"
           }
          ],
          "contour": [
           {
            "colorbar": {
             "outlinewidth": 0,
             "ticks": ""
            },
            "colorscale": [
             [
              0,
              "#0d0887"
             ],
             [
              0.1111111111111111,
              "#46039f"
             ],
             [
              0.2222222222222222,
              "#7201a8"
             ],
             [
              0.3333333333333333,
              "#9c179e"
             ],
             [
              0.4444444444444444,
              "#bd3786"
             ],
             [
              0.5555555555555556,
              "#d8576b"
             ],
             [
              0.6666666666666666,
              "#ed7953"
             ],
             [
              0.7777777777777778,
              "#fb9f3a"
             ],
             [
              0.8888888888888888,
              "#fdca26"
             ],
             [
              1,
              "#f0f921"
             ]
            ],
            "type": "contour"
           }
          ],
          "contourcarpet": [
           {
            "colorbar": {
             "outlinewidth": 0,
             "ticks": ""
            },
            "type": "contourcarpet"
           }
          ],
          "heatmap": [
           {
            "colorbar": {
             "outlinewidth": 0,
             "ticks": ""
            },
            "colorscale": [
             [
              0,
              "#0d0887"
             ],
             [
              0.1111111111111111,
              "#46039f"
             ],
             [
              0.2222222222222222,
              "#7201a8"
             ],
             [
              0.3333333333333333,
              "#9c179e"
             ],
             [
              0.4444444444444444,
              "#bd3786"
             ],
             [
              0.5555555555555556,
              "#d8576b"
             ],
             [
              0.6666666666666666,
              "#ed7953"
             ],
             [
              0.7777777777777778,
              "#fb9f3a"
             ],
             [
              0.8888888888888888,
              "#fdca26"
             ],
             [
              1,
              "#f0f921"
             ]
            ],
            "type": "heatmap"
           }
          ],
          "heatmapgl": [
           {
            "colorbar": {
             "outlinewidth": 0,
             "ticks": ""
            },
            "colorscale": [
             [
              0,
              "#0d0887"
             ],
             [
              0.1111111111111111,
              "#46039f"
             ],
             [
              0.2222222222222222,
              "#7201a8"
             ],
             [
              0.3333333333333333,
              "#9c179e"
             ],
             [
              0.4444444444444444,
              "#bd3786"
             ],
             [
              0.5555555555555556,
              "#d8576b"
             ],
             [
              0.6666666666666666,
              "#ed7953"
             ],
             [
              0.7777777777777778,
              "#fb9f3a"
             ],
             [
              0.8888888888888888,
              "#fdca26"
             ],
             [
              1,
              "#f0f921"
             ]
            ],
            "type": "heatmapgl"
           }
          ],
          "histogram": [
           {
            "marker": {
             "pattern": {
              "fillmode": "overlay",
              "size": 10,
              "solidity": 0.2
             }
            },
            "type": "histogram"
           }
          ],
          "histogram2d": [
           {
            "colorbar": {
             "outlinewidth": 0,
             "ticks": ""
            },
            "colorscale": [
             [
              0,
              "#0d0887"
             ],
             [
              0.1111111111111111,
              "#46039f"
             ],
             [
              0.2222222222222222,
              "#7201a8"
             ],
             [
              0.3333333333333333,
              "#9c179e"
             ],
             [
              0.4444444444444444,
              "#bd3786"
             ],
             [
              0.5555555555555556,
              "#d8576b"
             ],
             [
              0.6666666666666666,
              "#ed7953"
             ],
             [
              0.7777777777777778,
              "#fb9f3a"
             ],
             [
              0.8888888888888888,
              "#fdca26"
             ],
             [
              1,
              "#f0f921"
             ]
            ],
            "type": "histogram2d"
           }
          ],
          "histogram2dcontour": [
           {
            "colorbar": {
             "outlinewidth": 0,
             "ticks": ""
            },
            "colorscale": [
             [
              0,
              "#0d0887"
             ],
             [
              0.1111111111111111,
              "#46039f"
             ],
             [
              0.2222222222222222,
              "#7201a8"
             ],
             [
              0.3333333333333333,
              "#9c179e"
             ],
             [
              0.4444444444444444,
              "#bd3786"
             ],
             [
              0.5555555555555556,
              "#d8576b"
             ],
             [
              0.6666666666666666,
              "#ed7953"
             ],
             [
              0.7777777777777778,
              "#fb9f3a"
             ],
             [
              0.8888888888888888,
              "#fdca26"
             ],
             [
              1,
              "#f0f921"
             ]
            ],
            "type": "histogram2dcontour"
           }
          ],
          "mesh3d": [
           {
            "colorbar": {
             "outlinewidth": 0,
             "ticks": ""
            },
            "type": "mesh3d"
           }
          ],
          "parcoords": [
           {
            "line": {
             "colorbar": {
              "outlinewidth": 0,
              "ticks": ""
             }
            },
            "type": "parcoords"
           }
          ],
          "pie": [
           {
            "automargin": true,
            "type": "pie"
           }
          ],
          "scatter": [
           {
            "fillpattern": {
             "fillmode": "overlay",
             "size": 10,
             "solidity": 0.2
            },
            "type": "scatter"
           }
          ],
          "scatter3d": [
           {
            "line": {
             "colorbar": {
              "outlinewidth": 0,
              "ticks": ""
             }
            },
            "marker": {
             "colorbar": {
              "outlinewidth": 0,
              "ticks": ""
             }
            },
            "type": "scatter3d"
           }
          ],
          "scattercarpet": [
           {
            "marker": {
             "colorbar": {
              "outlinewidth": 0,
              "ticks": ""
             }
            },
            "type": "scattercarpet"
           }
          ],
          "scattergeo": [
           {
            "marker": {
             "colorbar": {
              "outlinewidth": 0,
              "ticks": ""
             }
            },
            "type": "scattergeo"
           }
          ],
          "scattergl": [
           {
            "marker": {
             "colorbar": {
              "outlinewidth": 0,
              "ticks": ""
             }
            },
            "type": "scattergl"
           }
          ],
          "scattermapbox": [
           {
            "marker": {
             "colorbar": {
              "outlinewidth": 0,
              "ticks": ""
             }
            },
            "type": "scattermapbox"
           }
          ],
          "scatterpolar": [
           {
            "marker": {
             "colorbar": {
              "outlinewidth": 0,
              "ticks": ""
             }
            },
            "type": "scatterpolar"
           }
          ],
          "scatterpolargl": [
           {
            "marker": {
             "colorbar": {
              "outlinewidth": 0,
              "ticks": ""
             }
            },
            "type": "scatterpolargl"
           }
          ],
          "scatterternary": [
           {
            "marker": {
             "colorbar": {
              "outlinewidth": 0,
              "ticks": ""
             }
            },
            "type": "scatterternary"
           }
          ],
          "surface": [
           {
            "colorbar": {
             "outlinewidth": 0,
             "ticks": ""
            },
            "colorscale": [
             [
              0,
              "#0d0887"
             ],
             [
              0.1111111111111111,
              "#46039f"
             ],
             [
              0.2222222222222222,
              "#7201a8"
             ],
             [
              0.3333333333333333,
              "#9c179e"
             ],
             [
              0.4444444444444444,
              "#bd3786"
             ],
             [
              0.5555555555555556,
              "#d8576b"
             ],
             [
              0.6666666666666666,
              "#ed7953"
             ],
             [
              0.7777777777777778,
              "#fb9f3a"
             ],
             [
              0.8888888888888888,
              "#fdca26"
             ],
             [
              1,
              "#f0f921"
             ]
            ],
            "type": "surface"
           }
          ],
          "table": [
           {
            "cells": {
             "fill": {
              "color": "#EBF0F8"
             },
             "line": {
              "color": "white"
             }
            },
            "header": {
             "fill": {
              "color": "#C8D4E3"
             },
             "line": {
              "color": "white"
             }
            },
            "type": "table"
           }
          ]
         },
         "layout": {
          "annotationdefaults": {
           "arrowcolor": "#2a3f5f",
           "arrowhead": 0,
           "arrowwidth": 1
          },
          "autotypenumbers": "strict",
          "coloraxis": {
           "colorbar": {
            "outlinewidth": 0,
            "ticks": ""
           }
          },
          "colorscale": {
           "diverging": [
            [
             0,
             "#8e0152"
            ],
            [
             0.1,
             "#c51b7d"
            ],
            [
             0.2,
             "#de77ae"
            ],
            [
             0.3,
             "#f1b6da"
            ],
            [
             0.4,
             "#fde0ef"
            ],
            [
             0.5,
             "#f7f7f7"
            ],
            [
             0.6,
             "#e6f5d0"
            ],
            [
             0.7,
             "#b8e186"
            ],
            [
             0.8,
             "#7fbc41"
            ],
            [
             0.9,
             "#4d9221"
            ],
            [
             1,
             "#276419"
            ]
           ],
           "sequential": [
            [
             0,
             "#0d0887"
            ],
            [
             0.1111111111111111,
             "#46039f"
            ],
            [
             0.2222222222222222,
             "#7201a8"
            ],
            [
             0.3333333333333333,
             "#9c179e"
            ],
            [
             0.4444444444444444,
             "#bd3786"
            ],
            [
             0.5555555555555556,
             "#d8576b"
            ],
            [
             0.6666666666666666,
             "#ed7953"
            ],
            [
             0.7777777777777778,
             "#fb9f3a"
            ],
            [
             0.8888888888888888,
             "#fdca26"
            ],
            [
             1,
             "#f0f921"
            ]
           ],
           "sequentialminus": [
            [
             0,
             "#0d0887"
            ],
            [
             0.1111111111111111,
             "#46039f"
            ],
            [
             0.2222222222222222,
             "#7201a8"
            ],
            [
             0.3333333333333333,
             "#9c179e"
            ],
            [
             0.4444444444444444,
             "#bd3786"
            ],
            [
             0.5555555555555556,
             "#d8576b"
            ],
            [
             0.6666666666666666,
             "#ed7953"
            ],
            [
             0.7777777777777778,
             "#fb9f3a"
            ],
            [
             0.8888888888888888,
             "#fdca26"
            ],
            [
             1,
             "#f0f921"
            ]
           ]
          },
          "colorway": [
           "#636efa",
           "#EF553B",
           "#00cc96",
           "#ab63fa",
           "#FFA15A",
           "#19d3f3",
           "#FF6692",
           "#B6E880",
           "#FF97FF",
           "#FECB52"
          ],
          "font": {
           "color": "#2a3f5f"
          },
          "geo": {
           "bgcolor": "white",
           "lakecolor": "white",
           "landcolor": "#E5ECF6",
           "showlakes": true,
           "showland": true,
           "subunitcolor": "white"
          },
          "hoverlabel": {
           "align": "left"
          },
          "hovermode": "closest",
          "mapbox": {
           "style": "light"
          },
          "paper_bgcolor": "white",
          "plot_bgcolor": "#E5ECF6",
          "polar": {
           "angularaxis": {
            "gridcolor": "white",
            "linecolor": "white",
            "ticks": ""
           },
           "bgcolor": "#E5ECF6",
           "radialaxis": {
            "gridcolor": "white",
            "linecolor": "white",
            "ticks": ""
           }
          },
          "scene": {
           "xaxis": {
            "backgroundcolor": "#E5ECF6",
            "gridcolor": "white",
            "gridwidth": 2,
            "linecolor": "white",
            "showbackground": true,
            "ticks": "",
            "zerolinecolor": "white"
           },
           "yaxis": {
            "backgroundcolor": "#E5ECF6",
            "gridcolor": "white",
            "gridwidth": 2,
            "linecolor": "white",
            "showbackground": true,
            "ticks": "",
            "zerolinecolor": "white"
           },
           "zaxis": {
            "backgroundcolor": "#E5ECF6",
            "gridcolor": "white",
            "gridwidth": 2,
            "linecolor": "white",
            "showbackground": true,
            "ticks": "",
            "zerolinecolor": "white"
           }
          },
          "shapedefaults": {
           "line": {
            "color": "#2a3f5f"
           }
          },
          "ternary": {
           "aaxis": {
            "gridcolor": "white",
            "linecolor": "white",
            "ticks": ""
           },
           "baxis": {
            "gridcolor": "white",
            "linecolor": "white",
            "ticks": ""
           },
           "bgcolor": "#E5ECF6",
           "caxis": {
            "gridcolor": "white",
            "linecolor": "white",
            "ticks": ""
           }
          },
          "title": {
           "x": 0.05
          },
          "xaxis": {
           "automargin": true,
           "gridcolor": "white",
           "linecolor": "white",
           "ticks": "",
           "title": {
            "standoff": 15
           },
           "zerolinecolor": "white",
           "zerolinewidth": 2
          },
          "yaxis": {
           "automargin": true,
           "gridcolor": "white",
           "linecolor": "white",
           "ticks": "",
           "title": {
            "standoff": 15
           },
           "zerolinecolor": "white",
           "zerolinewidth": 2
          }
         }
        },
        "title": {
         "text": "Распределение разницы в цене в % в разрезе по брендам"
        },
        "width": 1200,
        "xaxis": {
         "anchor": "y",
         "domain": [
          0,
          1
         ],
         "title": {
          "text": "Разница в цене в % (признак price_difference) "
         }
        },
        "yaxis": {
         "anchor": "x",
         "categoryarray": [
          "Stone Island",
          "Brioni",
          "Valentino"
         ],
         "categoryorder": "array",
         "domain": [
          0,
          1
         ],
         "title": {
          "text": "Бренды (признак brand) "
         }
        }
       }
      }
     },
     "metadata": {},
     "output_type": "display_data"
    },
    {
     "data": {
      "application/vnd.plotly.v1+json": {
       "config": {
        "plotlyServerURL": "https://plot.ly"
       },
       "data": [
        {
         "hovertemplate": "Бренды (признак brand) =%{y}<br>Разница в цене в % (признак price_difference) =%{x}<extra></extra>",
         "legendgroup": "Valentino",
         "marker": {
          "color": "#636efa",
          "symbol": "circle"
         },
         "mode": "markers",
         "name": "Valentino",
         "orientation": "h",
         "showlegend": true,
         "type": "scatter",
         "x": [
          67.61133603238866,
          116.77018633540372,
          78.63247863247864,
          117.36526946107784,
          163.3986928104575,
          72.0754716981132,
          128.99408284023667,
          61.13207547169811,
          94.39999999999999,
          69.80392156862744,
          58.56164383561644,
          94.8,
          168.42105263157893,
          109.28270042194093,
          92.10526315789474,
          97.10743801652893,
          144.3349753694581,
          112.6984126984127,
          93.20388349514563,
          60.278745644599304,
          135.44973544973544,
          58.02047781569966,
          88.42105263157895,
          104.04411764705883,
          147.05882352941177
         ],
         "xaxis": "x",
         "y": [
          "Valentino",
          "Valentino",
          "Valentino",
          "Valentino",
          "Valentino",
          "Valentino",
          "Valentino",
          "Valentino",
          "Valentino",
          "Valentino",
          "Valentino",
          "Valentino",
          "Valentino",
          "Valentino",
          "Valentino",
          "Valentino",
          "Valentino",
          "Valentino",
          "Valentino",
          "Valentino",
          "Valentino",
          "Valentino",
          "Valentino",
          "Valentino",
          "Valentino"
         ],
         "yaxis": "y"
        },
        {
         "hovertemplate": "Бренды (признак brand) =%{y}<br>Разница в цене в % (признак price_difference) =%{x}<extra></extra>",
         "legendgroup": "Brioni",
         "marker": {
          "color": "#EF553B",
          "symbol": "circle"
         },
         "mode": "markers",
         "name": "Brioni",
         "orientation": "h",
         "showlegend": true,
         "type": "scatter",
         "x": [
          106.47773279352226,
          114.89361702127661,
          114.46808510638297,
          118.36734693877551,
          108.53658536585367,
          67.13780918727915,
          146.96969696969697,
          70.2127659574468,
          95.65217391304348,
          66.015625,
          110.18518518518519,
          96.29629629629629,
          96.18055555555556,
          162.8415300546448,
          117.64705882352942,
          81.6593886462882,
          83.60655737704919,
          133.33333333333331,
          108.12182741116752,
          85.78947368421052,
          163.69426751592357,
          91.18942731277532,
          129.16666666666669,
          86.60714285714286,
          63.745019920318725
         ],
         "xaxis": "x",
         "y": [
          "Brioni",
          "Brioni",
          "Brioni",
          "Brioni",
          "Brioni",
          "Brioni",
          "Brioni",
          "Brioni",
          "Brioni",
          "Brioni",
          "Brioni",
          "Brioni",
          "Brioni",
          "Brioni",
          "Brioni",
          "Brioni",
          "Brioni",
          "Brioni",
          "Brioni",
          "Brioni",
          "Brioni",
          "Brioni",
          "Brioni",
          "Brioni",
          "Brioni"
         ],
         "yaxis": "y"
        },
        {
         "hovertemplate": "Бренды (признак brand) =%{y}<br>Разница в цене в % (признак price_difference) =%{x}<extra></extra>",
         "legendgroup": "Stone Island",
         "marker": {
          "color": "#00cc96",
          "symbol": "circle"
         },
         "mode": "markers",
         "name": "Stone Island",
         "orientation": "h",
         "showlegend": true,
         "type": "scatter",
         "x": [
          121.24999999999999,
          72.95081967213115,
          76.44927536231883,
          95.63106796116504,
          104.64285714285715,
          155.67567567567568,
          117.19745222929936,
          118.18181818181819,
          71.03174603174604,
          133.74233128834356,
          138.88888888888889,
          95.40636042402826,
          68.96551724137932,
          86.66666666666667,
          88.98305084745762,
          160.37735849056605,
          68.36363636363636,
          92.93478260869566,
          108.96860986547085,
          118.3406113537118,
          99.39393939393939,
          80.61224489795919,
          82.20338983050848,
          115.31531531531532,
          74.54545454545455
         ],
         "xaxis": "x",
         "y": [
          "Stone Island",
          "Stone Island",
          "Stone Island",
          "Stone Island",
          "Stone Island",
          "Stone Island",
          "Stone Island",
          "Stone Island",
          "Stone Island",
          "Stone Island",
          "Stone Island",
          "Stone Island",
          "Stone Island",
          "Stone Island",
          "Stone Island",
          "Stone Island",
          "Stone Island",
          "Stone Island",
          "Stone Island",
          "Stone Island",
          "Stone Island",
          "Stone Island",
          "Stone Island",
          "Stone Island",
          "Stone Island"
         ],
         "yaxis": "y"
        }
       ],
       "layout": {
        "height": 500,
        "legend": {
         "title": {
          "text": "Бренды (признак brand) "
         },
         "tracegroupgap": 0
        },
        "template": {
         "data": {
          "bar": [
           {
            "error_x": {
             "color": "#2a3f5f"
            },
            "error_y": {
             "color": "#2a3f5f"
            },
            "marker": {
             "line": {
              "color": "#E5ECF6",
              "width": 0.5
             },
             "pattern": {
              "fillmode": "overlay",
              "size": 10,
              "solidity": 0.2
             }
            },
            "type": "bar"
           }
          ],
          "barpolar": [
           {
            "marker": {
             "line": {
              "color": "#E5ECF6",
              "width": 0.5
             },
             "pattern": {
              "fillmode": "overlay",
              "size": 10,
              "solidity": 0.2
             }
            },
            "type": "barpolar"
           }
          ],
          "carpet": [
           {
            "aaxis": {
             "endlinecolor": "#2a3f5f",
             "gridcolor": "white",
             "linecolor": "white",
             "minorgridcolor": "white",
             "startlinecolor": "#2a3f5f"
            },
            "baxis": {
             "endlinecolor": "#2a3f5f",
             "gridcolor": "white",
             "linecolor": "white",
             "minorgridcolor": "white",
             "startlinecolor": "#2a3f5f"
            },
            "type": "carpet"
           }
          ],
          "choropleth": [
           {
            "colorbar": {
             "outlinewidth": 0,
             "ticks": ""
            },
            "type": "choropleth"
           }
          ],
          "contour": [
           {
            "colorbar": {
             "outlinewidth": 0,
             "ticks": ""
            },
            "colorscale": [
             [
              0,
              "#0d0887"
             ],
             [
              0.1111111111111111,
              "#46039f"
             ],
             [
              0.2222222222222222,
              "#7201a8"
             ],
             [
              0.3333333333333333,
              "#9c179e"
             ],
             [
              0.4444444444444444,
              "#bd3786"
             ],
             [
              0.5555555555555556,
              "#d8576b"
             ],
             [
              0.6666666666666666,
              "#ed7953"
             ],
             [
              0.7777777777777778,
              "#fb9f3a"
             ],
             [
              0.8888888888888888,
              "#fdca26"
             ],
             [
              1,
              "#f0f921"
             ]
            ],
            "type": "contour"
           }
          ],
          "contourcarpet": [
           {
            "colorbar": {
             "outlinewidth": 0,
             "ticks": ""
            },
            "type": "contourcarpet"
           }
          ],
          "heatmap": [
           {
            "colorbar": {
             "outlinewidth": 0,
             "ticks": ""
            },
            "colorscale": [
             [
              0,
              "#0d0887"
             ],
             [
              0.1111111111111111,
              "#46039f"
             ],
             [
              0.2222222222222222,
              "#7201a8"
             ],
             [
              0.3333333333333333,
              "#9c179e"
             ],
             [
              0.4444444444444444,
              "#bd3786"
             ],
             [
              0.5555555555555556,
              "#d8576b"
             ],
             [
              0.6666666666666666,
              "#ed7953"
             ],
             [
              0.7777777777777778,
              "#fb9f3a"
             ],
             [
              0.8888888888888888,
              "#fdca26"
             ],
             [
              1,
              "#f0f921"
             ]
            ],
            "type": "heatmap"
           }
          ],
          "heatmapgl": [
           {
            "colorbar": {
             "outlinewidth": 0,
             "ticks": ""
            },
            "colorscale": [
             [
              0,
              "#0d0887"
             ],
             [
              0.1111111111111111,
              "#46039f"
             ],
             [
              0.2222222222222222,
              "#7201a8"
             ],
             [
              0.3333333333333333,
              "#9c179e"
             ],
             [
              0.4444444444444444,
              "#bd3786"
             ],
             [
              0.5555555555555556,
              "#d8576b"
             ],
             [
              0.6666666666666666,
              "#ed7953"
             ],
             [
              0.7777777777777778,
              "#fb9f3a"
             ],
             [
              0.8888888888888888,
              "#fdca26"
             ],
             [
              1,
              "#f0f921"
             ]
            ],
            "type": "heatmapgl"
           }
          ],
          "histogram": [
           {
            "marker": {
             "pattern": {
              "fillmode": "overlay",
              "size": 10,
              "solidity": 0.2
             }
            },
            "type": "histogram"
           }
          ],
          "histogram2d": [
           {
            "colorbar": {
             "outlinewidth": 0,
             "ticks": ""
            },
            "colorscale": [
             [
              0,
              "#0d0887"
             ],
             [
              0.1111111111111111,
              "#46039f"
             ],
             [
              0.2222222222222222,
              "#7201a8"
             ],
             [
              0.3333333333333333,
              "#9c179e"
             ],
             [
              0.4444444444444444,
              "#bd3786"
             ],
             [
              0.5555555555555556,
              "#d8576b"
             ],
             [
              0.6666666666666666,
              "#ed7953"
             ],
             [
              0.7777777777777778,
              "#fb9f3a"
             ],
             [
              0.8888888888888888,
              "#fdca26"
             ],
             [
              1,
              "#f0f921"
             ]
            ],
            "type": "histogram2d"
           }
          ],
          "histogram2dcontour": [
           {
            "colorbar": {
             "outlinewidth": 0,
             "ticks": ""
            },
            "colorscale": [
             [
              0,
              "#0d0887"
             ],
             [
              0.1111111111111111,
              "#46039f"
             ],
             [
              0.2222222222222222,
              "#7201a8"
             ],
             [
              0.3333333333333333,
              "#9c179e"
             ],
             [
              0.4444444444444444,
              "#bd3786"
             ],
             [
              0.5555555555555556,
              "#d8576b"
             ],
             [
              0.6666666666666666,
              "#ed7953"
             ],
             [
              0.7777777777777778,
              "#fb9f3a"
             ],
             [
              0.8888888888888888,
              "#fdca26"
             ],
             [
              1,
              "#f0f921"
             ]
            ],
            "type": "histogram2dcontour"
           }
          ],
          "mesh3d": [
           {
            "colorbar": {
             "outlinewidth": 0,
             "ticks": ""
            },
            "type": "mesh3d"
           }
          ],
          "parcoords": [
           {
            "line": {
             "colorbar": {
              "outlinewidth": 0,
              "ticks": ""
             }
            },
            "type": "parcoords"
           }
          ],
          "pie": [
           {
            "automargin": true,
            "type": "pie"
           }
          ],
          "scatter": [
           {
            "fillpattern": {
             "fillmode": "overlay",
             "size": 10,
             "solidity": 0.2
            },
            "type": "scatter"
           }
          ],
          "scatter3d": [
           {
            "line": {
             "colorbar": {
              "outlinewidth": 0,
              "ticks": ""
             }
            },
            "marker": {
             "colorbar": {
              "outlinewidth": 0,
              "ticks": ""
             }
            },
            "type": "scatter3d"
           }
          ],
          "scattercarpet": [
           {
            "marker": {
             "colorbar": {
              "outlinewidth": 0,
              "ticks": ""
             }
            },
            "type": "scattercarpet"
           }
          ],
          "scattergeo": [
           {
            "marker": {
             "colorbar": {
              "outlinewidth": 0,
              "ticks": ""
             }
            },
            "type": "scattergeo"
           }
          ],
          "scattergl": [
           {
            "marker": {
             "colorbar": {
              "outlinewidth": 0,
              "ticks": ""
             }
            },
            "type": "scattergl"
           }
          ],
          "scattermapbox": [
           {
            "marker": {
             "colorbar": {
              "outlinewidth": 0,
              "ticks": ""
             }
            },
            "type": "scattermapbox"
           }
          ],
          "scatterpolar": [
           {
            "marker": {
             "colorbar": {
              "outlinewidth": 0,
              "ticks": ""
             }
            },
            "type": "scatterpolar"
           }
          ],
          "scatterpolargl": [
           {
            "marker": {
             "colorbar": {
              "outlinewidth": 0,
              "ticks": ""
             }
            },
            "type": "scatterpolargl"
           }
          ],
          "scatterternary": [
           {
            "marker": {
             "colorbar": {
              "outlinewidth": 0,
              "ticks": ""
             }
            },
            "type": "scatterternary"
           }
          ],
          "surface": [
           {
            "colorbar": {
             "outlinewidth": 0,
             "ticks": ""
            },
            "colorscale": [
             [
              0,
              "#0d0887"
             ],
             [
              0.1111111111111111,
              "#46039f"
             ],
             [
              0.2222222222222222,
              "#7201a8"
             ],
             [
              0.3333333333333333,
              "#9c179e"
             ],
             [
              0.4444444444444444,
              "#bd3786"
             ],
             [
              0.5555555555555556,
              "#d8576b"
             ],
             [
              0.6666666666666666,
              "#ed7953"
             ],
             [
              0.7777777777777778,
              "#fb9f3a"
             ],
             [
              0.8888888888888888,
              "#fdca26"
             ],
             [
              1,
              "#f0f921"
             ]
            ],
            "type": "surface"
           }
          ],
          "table": [
           {
            "cells": {
             "fill": {
              "color": "#EBF0F8"
             },
             "line": {
              "color": "white"
             }
            },
            "header": {
             "fill": {
              "color": "#C8D4E3"
             },
             "line": {
              "color": "white"
             }
            },
            "type": "table"
           }
          ]
         },
         "layout": {
          "annotationdefaults": {
           "arrowcolor": "#2a3f5f",
           "arrowhead": 0,
           "arrowwidth": 1
          },
          "autotypenumbers": "strict",
          "coloraxis": {
           "colorbar": {
            "outlinewidth": 0,
            "ticks": ""
           }
          },
          "colorscale": {
           "diverging": [
            [
             0,
             "#8e0152"
            ],
            [
             0.1,
             "#c51b7d"
            ],
            [
             0.2,
             "#de77ae"
            ],
            [
             0.3,
             "#f1b6da"
            ],
            [
             0.4,
             "#fde0ef"
            ],
            [
             0.5,
             "#f7f7f7"
            ],
            [
             0.6,
             "#e6f5d0"
            ],
            [
             0.7,
             "#b8e186"
            ],
            [
             0.8,
             "#7fbc41"
            ],
            [
             0.9,
             "#4d9221"
            ],
            [
             1,
             "#276419"
            ]
           ],
           "sequential": [
            [
             0,
             "#0d0887"
            ],
            [
             0.1111111111111111,
             "#46039f"
            ],
            [
             0.2222222222222222,
             "#7201a8"
            ],
            [
             0.3333333333333333,
             "#9c179e"
            ],
            [
             0.4444444444444444,
             "#bd3786"
            ],
            [
             0.5555555555555556,
             "#d8576b"
            ],
            [
             0.6666666666666666,
             "#ed7953"
            ],
            [
             0.7777777777777778,
             "#fb9f3a"
            ],
            [
             0.8888888888888888,
             "#fdca26"
            ],
            [
             1,
             "#f0f921"
            ]
           ],
           "sequentialminus": [
            [
             0,
             "#0d0887"
            ],
            [
             0.1111111111111111,
             "#46039f"
            ],
            [
             0.2222222222222222,
             "#7201a8"
            ],
            [
             0.3333333333333333,
             "#9c179e"
            ],
            [
             0.4444444444444444,
             "#bd3786"
            ],
            [
             0.5555555555555556,
             "#d8576b"
            ],
            [
             0.6666666666666666,
             "#ed7953"
            ],
            [
             0.7777777777777778,
             "#fb9f3a"
            ],
            [
             0.8888888888888888,
             "#fdca26"
            ],
            [
             1,
             "#f0f921"
            ]
           ]
          },
          "colorway": [
           "#636efa",
           "#EF553B",
           "#00cc96",
           "#ab63fa",
           "#FFA15A",
           "#19d3f3",
           "#FF6692",
           "#B6E880",
           "#FF97FF",
           "#FECB52"
          ],
          "font": {
           "color": "#2a3f5f"
          },
          "geo": {
           "bgcolor": "white",
           "lakecolor": "white",
           "landcolor": "#E5ECF6",
           "showlakes": true,
           "showland": true,
           "subunitcolor": "white"
          },
          "hoverlabel": {
           "align": "left"
          },
          "hovermode": "closest",
          "mapbox": {
           "style": "light"
          },
          "paper_bgcolor": "white",
          "plot_bgcolor": "#E5ECF6",
          "polar": {
           "angularaxis": {
            "gridcolor": "white",
            "linecolor": "white",
            "ticks": ""
           },
           "bgcolor": "#E5ECF6",
           "radialaxis": {
            "gridcolor": "white",
            "linecolor": "white",
            "ticks": ""
           }
          },
          "scene": {
           "xaxis": {
            "backgroundcolor": "#E5ECF6",
            "gridcolor": "white",
            "gridwidth": 2,
            "linecolor": "white",
            "showbackground": true,
            "ticks": "",
            "zerolinecolor": "white"
           },
           "yaxis": {
            "backgroundcolor": "#E5ECF6",
            "gridcolor": "white",
            "gridwidth": 2,
            "linecolor": "white",
            "showbackground": true,
            "ticks": "",
            "zerolinecolor": "white"
           },
           "zaxis": {
            "backgroundcolor": "#E5ECF6",
            "gridcolor": "white",
            "gridwidth": 2,
            "linecolor": "white",
            "showbackground": true,
            "ticks": "",
            "zerolinecolor": "white"
           }
          },
          "shapedefaults": {
           "line": {
            "color": "#2a3f5f"
           }
          },
          "ternary": {
           "aaxis": {
            "gridcolor": "white",
            "linecolor": "white",
            "ticks": ""
           },
           "baxis": {
            "gridcolor": "white",
            "linecolor": "white",
            "ticks": ""
           },
           "bgcolor": "#E5ECF6",
           "caxis": {
            "gridcolor": "white",
            "linecolor": "white",
            "ticks": ""
           }
          },
          "title": {
           "x": 0.05
          },
          "xaxis": {
           "automargin": true,
           "gridcolor": "white",
           "linecolor": "white",
           "ticks": "",
           "title": {
            "standoff": 15
           },
           "zerolinecolor": "white",
           "zerolinewidth": 2
          },
          "yaxis": {
           "automargin": true,
           "gridcolor": "white",
           "linecolor": "white",
           "ticks": "",
           "title": {
            "standoff": 15
           },
           "zerolinecolor": "white",
           "zerolinewidth": 2
          }
         }
        },
        "title": {
         "text": "Распределение разницы в цене в % в разрезе по брендам"
        },
        "width": 1200,
        "xaxis": {
         "anchor": "y",
         "domain": [
          0,
          1
         ],
         "title": {
          "text": "Разница в цене в % (признак price_difference) "
         }
        },
        "yaxis": {
         "anchor": "x",
         "categoryarray": [
          "Stone Island",
          "Brioni",
          "Valentino"
         ],
         "categoryorder": "array",
         "domain": [
          0,
          1
         ],
         "title": {
          "text": "Бренды (признак brand) "
         }
        }
       }
      }
     },
     "metadata": {},
     "output_type": "display_data"
    }
   ],
   "source": [
    "# построим коробку с усами где рассмотрим полученный признак 'price_difference'\n",
    "# в разрезе по признаку 'вrand'\n",
    "fig = px.box(Data_Parsing, x='price_difference', y='brand', color='brand',\n",
    "             title='Распределение разницы в цене в % в разрезе по брендам',\n",
    "             labels={'price_difference':'Разница в цене в % (признак price_difference) ',\n",
    "                     'brand':'Бренды (признак brand) '\n",
    "                     },\n",
    "             height=500,width=1200\n",
    "             ) \n",
    "\n",
    "fig.show()\n",
    "\n",
    "# построим диаграмму рассеяния, где рассмотрим полученный признак 'price_difference'\n",
    "# в разрезе по признаку 'вrand'\n",
    "fig = px.scatter(Data_Parsing, x='price_difference', y='brand', color='brand', \n",
    "                 title=\"Распределение разницы в цене в % в разрезе по брендам\",\n",
    "                 labels={'price_difference':'Разница в цене в % (признак price_difference) ',\n",
    "                         'brand':'Бренды (признак brand) '\n",
    "                         },\n",
    "                 height=500,width=1200\n",
    "                 )\n",
    "\n",
    "fig.show()"
   ]
  },
  {
   "cell_type": "markdown",
   "metadata": {},
   "source": [
    "**Выводы по графикам:**\n",
    "- на верхнем графике отсутствуют аномальные выбросы; усы ящиков справа длиннеее, чем слева - вероятно, сильные отклонения будем искать справа.\n",
    "- на нижнем графике чисто визуально можно предположить, что сильные оклонения - это 2 крайних значения справа по каждому бренду, т.е. суммарно будет 6 значений.\n",
    "\n",
    "Однако, давайте проведем исследование на наличие выбросов, используя **метод сигм (z-отклонения)**."
   ]
  },
  {
   "cell_type": "code",
   "execution_count": 5,
   "metadata": {},
   "outputs": [
    {
     "name": "stdout",
     "output_type": "stream",
     "text": [
      "Число выбросов по методу z-отклонения в бренде Valentino: 0\n",
      "Результирующее число записей: 25\n",
      "Число выбросов по методу z-отклонения в бренде Brioni: 0\n",
      "Результирующее число записей: 25\n",
      "Число выбросов по методу z-отклонения в бренде Stone Island: 0\n",
      "Результирующее число записей: 25\n"
     ]
    }
   ],
   "source": [
    "# воспользуемся функцией по поиску отклонений по методу сигм (z-отклонения)\n",
    "def outliers_z_score(data, feature):\n",
    "    \n",
    "    x = data[feature]\n",
    "    mu = x.mean()\n",
    "    sigma = x.std()\n",
    "    lower_bound = mu - 3 * sigma # нижняя граница выставлена по стандартным значениям\n",
    "    upper_bound = mu + 3 * sigma # верхняя граница выставлена по стандартным значениям\n",
    "    outliers = data[(x < lower_bound) | (x > upper_bound)]\n",
    "    cleaned = data[(x > lower_bound) & (x < upper_bound)]\n",
    "    return outliers, cleaned\n",
    "\n",
    "# создадим список, куда положим названия брендов\n",
    "brand_list = list(Data_Parsing['brand'].value_counts().index)\n",
    "\n",
    "# запустим цикл, в котором с каждой итерацией по бренду будем получать выбросы в признаке 'price_difference'\n",
    "for brand_name in brand_list:\n",
    "\n",
    "    mask = Data_Parsing['brand'] == brand_name\n",
    "    outliers, cleaned = outliers_z_score(Data_Parsing[mask], 'price_difference')\n",
    "    print(f'Число выбросов по методу z-отклонения в бренде {brand_name}: {outliers.shape[0]}')\n",
    "    print(f'Результирующее число записей: {cleaned.shape[0]}')\n",
    "    \n",
    "    \n"
   ]
  },
  {
   "cell_type": "markdown",
   "metadata": {},
   "source": [
    "**Выводы:**  \n",
    "Выбросы отсутствуют. Попробуем уменьшить границы поиска."
   ]
  },
  {
   "cell_type": "code",
   "execution_count": 6,
   "metadata": {},
   "outputs": [
    {
     "name": "stdout",
     "output_type": "stream",
     "text": [
      "Число выбросов по методу z-отклонения в бренде Valentino: 1\n",
      "Результирующее число записей: 24\n",
      "Число выбросов по методу z-отклонения в бренде Brioni: 2\n",
      "Результирующее число записей: 23\n",
      "Число выбросов по методу z-отклонения в бренде Stone Island: 2\n",
      "Результирующее число записей: 23\n"
     ]
    }
   ],
   "source": [
    "# воспользуемся функцией по поиску отклонений по методу сигм (z-отклонения)\n",
    "def outliers_z_score(data, feature):\n",
    "    \n",
    "    x = data[feature]\n",
    "    mu = x.mean()\n",
    "    sigma = x.std()\n",
    "    lower_bound = mu - 2 * sigma # уменьшаем нижнюю границу\n",
    "    upper_bound = mu + 2 * sigma # уменьшаем верхнюю границу\n",
    "    outliers = data[(x < lower_bound) | (x > upper_bound)]\n",
    "    cleaned = data[(x > lower_bound) & (x < upper_bound)]\n",
    "    return outliers, cleaned\n",
    "\n",
    "# создадим список, куда положим названия брендов\n",
    "brand_list = list(Data_Parsing['brand'].value_counts().index)\n",
    "\n",
    "# запустим цикл, в котором с каждой итерацией по бренду будем получать выбросы в признаке 'price_difference'\n",
    "for brand_name in brand_list:\n",
    "\n",
    "    mask = Data_Parsing['brand'] == brand_name\n",
    "    outliers, cleaned = outliers_z_score(Data_Parsing[mask], 'price_difference')\n",
    "    print(f'Число выбросов по методу z-отклонения в бренде {brand_name}: {outliers.shape[0]}')\n",
    "    print(f'Результирующее число записей: {cleaned.shape[0]}')"
   ]
  },
  {
   "cell_type": "markdown",
   "metadata": {},
   "source": [
    "**Выводы:**  \n",
    "Выбросы появились, их общее количество - 5, что не сильно отличается от нашего предположения при анализе диаграмм.\n",
    "***\n",
    "**Алгоритм дальнейших действий:**\n",
    "- выявим полученные выбросы\n",
    "- создадим новый признак ***outlier***\n",
    "- пометим в новом столбце выбросы значением 'yes'\n",
    "- сохраним итоговую таблицу в файл согласно условиям задачи"
   ]
  },
  {
   "cell_type": "code",
   "execution_count": 7,
   "metadata": {},
   "outputs": [
    {
     "name": "stdout",
     "output_type": "stream",
     "text": [
      "<class 'pandas.core.frame.DataFrame'>\n",
      "Int64Index: 75 entries, 0 to 74\n",
      "Data columns (total 10 columns):\n",
      " #   Column            Non-Null Count  Dtype  \n",
      "---  ------            --------------  -----  \n",
      " 0   brand             75 non-null     object \n",
      " 1   Category          75 non-null     object \n",
      " 2   producer_id       75 non-null     object \n",
      " 3   producer_color    75 non-null     object \n",
      " 4   price             75 non-null     int64  \n",
      " 5   item_id           75 non-null     object \n",
      " 6   color_id          75 non-null     object \n",
      " 7   current price     75 non-null     int64  \n",
      " 8   price_difference  75 non-null     float64\n",
      " 9   outlier           75 non-null     object \n",
      "dtypes: float64(1), int64(2), object(7)\n",
      "memory usage: 8.5+ KB\n"
     ]
    },
    {
     "data": {
      "text/plain": [
       "None"
      ]
     },
     "metadata": {},
     "output_type": "display_data"
    },
    {
     "data": {
      "text/plain": [
       "no     70\n",
       "yes     5\n",
       "Name: outlier, dtype: int64"
      ]
     },
     "metadata": {},
     "output_type": "display_data"
    }
   ],
   "source": [
    "# Окончательный код по выявлению отклонений\n",
    "\n",
    "# воспользуемся функцией по поиску отклонений по методу сигм (z-отклонения)\n",
    "def outliers_z_score(data, feature):\n",
    "    \n",
    "    x = data[feature]\n",
    "    mu = x.mean()\n",
    "    sigma = x.std()\n",
    "    lower_bound = mu - 2 * sigma # изменен стандартный параметр (почему - см.выше)\n",
    "    upper_bound = mu + 2 * sigma # изменен стандартный параметр (почему - см.выше)\n",
    "    outliers = data[(x < lower_bound) | (x > upper_bound)]\n",
    "    cleaned = data[(x > lower_bound) & (x < upper_bound)]\n",
    "    return outliers, cleaned\n",
    "\n",
    "# создаем дополнительный признак 'outlier' и заполняем его по умолчанию значениями 'no'\n",
    "Data_Parsing['outlier'] = 'no'\n",
    "\n",
    "# создадим список, куда положим названия брендов\n",
    "brand_list = list(Data_Parsing['brand'].value_counts().index)\n",
    "\n",
    "# запустим цикл, в котором с каждой итерацией по бренду будем получать выбросы в признаке 'price_difference'\n",
    "for brand_name in brand_list:\n",
    "\n",
    "    mask = Data_Parsing['brand'] == brand_name\n",
    "    outliers, cleaned = outliers_z_score(Data_Parsing[mask], 'price_difference')\n",
    "    \n",
    "    Data_Parsing.loc[outliers.index, 'outlier'] = 'yes' # помечаем выброс значением 'yes' в столбце 'outlier'\n",
    "    \n",
    "# проверим, что все выполнено правильно\n",
    "display(Data_Parsing.info())\n",
    "display(Data_Parsing['outlier'].value_counts())"
   ]
  },
  {
   "cell_type": "code",
   "execution_count": 8,
   "metadata": {},
   "outputs": [
    {
     "data": {
      "application/vnd.plotly.v1+json": {
       "config": {
        "plotlyServerURL": "https://plot.ly"
       },
       "data": [
        {
         "hovertemplate": "Бренды (признак brand) =Valentino<br>Разница в цене в % (признак price_difference) =%{x}<br>outlier=%{y}<extra></extra>",
         "legendgroup": "Valentino",
         "marker": {
          "color": "#636efa",
          "symbol": "circle"
         },
         "mode": "markers",
         "name": "Valentino",
         "orientation": "h",
         "showlegend": true,
         "type": "scatter",
         "x": [
          67.61133603238866,
          116.77018633540372,
          78.63247863247864,
          117.36526946107784,
          163.3986928104575,
          72.0754716981132,
          128.99408284023667,
          61.13207547169811,
          94.39999999999999,
          69.80392156862744,
          58.56164383561644,
          94.8,
          168.42105263157893,
          109.28270042194093,
          92.10526315789474,
          97.10743801652893,
          144.3349753694581,
          112.6984126984127,
          93.20388349514563,
          60.278745644599304,
          135.44973544973544,
          58.02047781569966,
          88.42105263157895,
          104.04411764705883,
          147.05882352941177
         ],
         "xaxis": "x",
         "y": [
          "no",
          "no",
          "no",
          "no",
          "no",
          "no",
          "no",
          "no",
          "no",
          "no",
          "no",
          "no",
          "yes",
          "no",
          "no",
          "no",
          "no",
          "no",
          "no",
          "no",
          "no",
          "no",
          "no",
          "no",
          "no"
         ],
         "yaxis": "y"
        },
        {
         "hovertemplate": "Бренды (признак brand) =Brioni<br>Разница в цене в % (признак price_difference) =%{x}<br>outlier=%{y}<extra></extra>",
         "legendgroup": "Brioni",
         "marker": {
          "color": "#EF553B",
          "symbol": "circle"
         },
         "mode": "markers",
         "name": "Brioni",
         "orientation": "h",
         "showlegend": true,
         "type": "scatter",
         "x": [
          106.47773279352226,
          114.89361702127661,
          114.46808510638297,
          118.36734693877551,
          108.53658536585367,
          67.13780918727915,
          146.96969696969697,
          70.2127659574468,
          95.65217391304348,
          66.015625,
          110.18518518518519,
          96.29629629629629,
          96.18055555555556,
          162.8415300546448,
          117.64705882352942,
          81.6593886462882,
          83.60655737704919,
          133.33333333333331,
          108.12182741116752,
          85.78947368421052,
          163.69426751592357,
          91.18942731277532,
          129.16666666666669,
          86.60714285714286,
          63.745019920318725
         ],
         "xaxis": "x",
         "y": [
          "no",
          "no",
          "no",
          "no",
          "no",
          "no",
          "no",
          "no",
          "no",
          "no",
          "no",
          "no",
          "no",
          "yes",
          "no",
          "no",
          "no",
          "no",
          "no",
          "no",
          "yes",
          "no",
          "no",
          "no",
          "no"
         ],
         "yaxis": "y"
        },
        {
         "hovertemplate": "Бренды (признак brand) =Stone Island<br>Разница в цене в % (признак price_difference) =%{x}<br>outlier=%{y}<extra></extra>",
         "legendgroup": "Stone Island",
         "marker": {
          "color": "#00cc96",
          "symbol": "circle"
         },
         "mode": "markers",
         "name": "Stone Island",
         "orientation": "h",
         "showlegend": true,
         "type": "scatter",
         "x": [
          121.24999999999999,
          72.95081967213115,
          76.44927536231883,
          95.63106796116504,
          104.64285714285715,
          155.67567567567568,
          117.19745222929936,
          118.18181818181819,
          71.03174603174604,
          133.74233128834356,
          138.88888888888889,
          95.40636042402826,
          68.96551724137932,
          86.66666666666667,
          88.98305084745762,
          160.37735849056605,
          68.36363636363636,
          92.93478260869566,
          108.96860986547085,
          118.3406113537118,
          99.39393939393939,
          80.61224489795919,
          82.20338983050848,
          115.31531531531532,
          74.54545454545455
         ],
         "xaxis": "x",
         "y": [
          "no",
          "no",
          "no",
          "no",
          "no",
          "yes",
          "no",
          "no",
          "no",
          "no",
          "no",
          "no",
          "no",
          "no",
          "no",
          "yes",
          "no",
          "no",
          "no",
          "no",
          "no",
          "no",
          "no",
          "no",
          "no"
         ],
         "yaxis": "y"
        }
       ],
       "layout": {
        "height": 500,
        "legend": {
         "title": {
          "text": "Бренды (признак brand) "
         },
         "tracegroupgap": 0
        },
        "template": {
         "data": {
          "bar": [
           {
            "error_x": {
             "color": "#2a3f5f"
            },
            "error_y": {
             "color": "#2a3f5f"
            },
            "marker": {
             "line": {
              "color": "#E5ECF6",
              "width": 0.5
             },
             "pattern": {
              "fillmode": "overlay",
              "size": 10,
              "solidity": 0.2
             }
            },
            "type": "bar"
           }
          ],
          "barpolar": [
           {
            "marker": {
             "line": {
              "color": "#E5ECF6",
              "width": 0.5
             },
             "pattern": {
              "fillmode": "overlay",
              "size": 10,
              "solidity": 0.2
             }
            },
            "type": "barpolar"
           }
          ],
          "carpet": [
           {
            "aaxis": {
             "endlinecolor": "#2a3f5f",
             "gridcolor": "white",
             "linecolor": "white",
             "minorgridcolor": "white",
             "startlinecolor": "#2a3f5f"
            },
            "baxis": {
             "endlinecolor": "#2a3f5f",
             "gridcolor": "white",
             "linecolor": "white",
             "minorgridcolor": "white",
             "startlinecolor": "#2a3f5f"
            },
            "type": "carpet"
           }
          ],
          "choropleth": [
           {
            "colorbar": {
             "outlinewidth": 0,
             "ticks": ""
            },
            "type": "choropleth"
           }
          ],
          "contour": [
           {
            "colorbar": {
             "outlinewidth": 0,
             "ticks": ""
            },
            "colorscale": [
             [
              0,
              "#0d0887"
             ],
             [
              0.1111111111111111,
              "#46039f"
             ],
             [
              0.2222222222222222,
              "#7201a8"
             ],
             [
              0.3333333333333333,
              "#9c179e"
             ],
             [
              0.4444444444444444,
              "#bd3786"
             ],
             [
              0.5555555555555556,
              "#d8576b"
             ],
             [
              0.6666666666666666,
              "#ed7953"
             ],
             [
              0.7777777777777778,
              "#fb9f3a"
             ],
             [
              0.8888888888888888,
              "#fdca26"
             ],
             [
              1,
              "#f0f921"
             ]
            ],
            "type": "contour"
           }
          ],
          "contourcarpet": [
           {
            "colorbar": {
             "outlinewidth": 0,
             "ticks": ""
            },
            "type": "contourcarpet"
           }
          ],
          "heatmap": [
           {
            "colorbar": {
             "outlinewidth": 0,
             "ticks": ""
            },
            "colorscale": [
             [
              0,
              "#0d0887"
             ],
             [
              0.1111111111111111,
              "#46039f"
             ],
             [
              0.2222222222222222,
              "#7201a8"
             ],
             [
              0.3333333333333333,
              "#9c179e"
             ],
             [
              0.4444444444444444,
              "#bd3786"
             ],
             [
              0.5555555555555556,
              "#d8576b"
             ],
             [
              0.6666666666666666,
              "#ed7953"
             ],
             [
              0.7777777777777778,
              "#fb9f3a"
             ],
             [
              0.8888888888888888,
              "#fdca26"
             ],
             [
              1,
              "#f0f921"
             ]
            ],
            "type": "heatmap"
           }
          ],
          "heatmapgl": [
           {
            "colorbar": {
             "outlinewidth": 0,
             "ticks": ""
            },
            "colorscale": [
             [
              0,
              "#0d0887"
             ],
             [
              0.1111111111111111,
              "#46039f"
             ],
             [
              0.2222222222222222,
              "#7201a8"
             ],
             [
              0.3333333333333333,
              "#9c179e"
             ],
             [
              0.4444444444444444,
              "#bd3786"
             ],
             [
              0.5555555555555556,
              "#d8576b"
             ],
             [
              0.6666666666666666,
              "#ed7953"
             ],
             [
              0.7777777777777778,
              "#fb9f3a"
             ],
             [
              0.8888888888888888,
              "#fdca26"
             ],
             [
              1,
              "#f0f921"
             ]
            ],
            "type": "heatmapgl"
           }
          ],
          "histogram": [
           {
            "marker": {
             "pattern": {
              "fillmode": "overlay",
              "size": 10,
              "solidity": 0.2
             }
            },
            "type": "histogram"
           }
          ],
          "histogram2d": [
           {
            "colorbar": {
             "outlinewidth": 0,
             "ticks": ""
            },
            "colorscale": [
             [
              0,
              "#0d0887"
             ],
             [
              0.1111111111111111,
              "#46039f"
             ],
             [
              0.2222222222222222,
              "#7201a8"
             ],
             [
              0.3333333333333333,
              "#9c179e"
             ],
             [
              0.4444444444444444,
              "#bd3786"
             ],
             [
              0.5555555555555556,
              "#d8576b"
             ],
             [
              0.6666666666666666,
              "#ed7953"
             ],
             [
              0.7777777777777778,
              "#fb9f3a"
             ],
             [
              0.8888888888888888,
              "#fdca26"
             ],
             [
              1,
              "#f0f921"
             ]
            ],
            "type": "histogram2d"
           }
          ],
          "histogram2dcontour": [
           {
            "colorbar": {
             "outlinewidth": 0,
             "ticks": ""
            },
            "colorscale": [
             [
              0,
              "#0d0887"
             ],
             [
              0.1111111111111111,
              "#46039f"
             ],
             [
              0.2222222222222222,
              "#7201a8"
             ],
             [
              0.3333333333333333,
              "#9c179e"
             ],
             [
              0.4444444444444444,
              "#bd3786"
             ],
             [
              0.5555555555555556,
              "#d8576b"
             ],
             [
              0.6666666666666666,
              "#ed7953"
             ],
             [
              0.7777777777777778,
              "#fb9f3a"
             ],
             [
              0.8888888888888888,
              "#fdca26"
             ],
             [
              1,
              "#f0f921"
             ]
            ],
            "type": "histogram2dcontour"
           }
          ],
          "mesh3d": [
           {
            "colorbar": {
             "outlinewidth": 0,
             "ticks": ""
            },
            "type": "mesh3d"
           }
          ],
          "parcoords": [
           {
            "line": {
             "colorbar": {
              "outlinewidth": 0,
              "ticks": ""
             }
            },
            "type": "parcoords"
           }
          ],
          "pie": [
           {
            "automargin": true,
            "type": "pie"
           }
          ],
          "scatter": [
           {
            "fillpattern": {
             "fillmode": "overlay",
             "size": 10,
             "solidity": 0.2
            },
            "type": "scatter"
           }
          ],
          "scatter3d": [
           {
            "line": {
             "colorbar": {
              "outlinewidth": 0,
              "ticks": ""
             }
            },
            "marker": {
             "colorbar": {
              "outlinewidth": 0,
              "ticks": ""
             }
            },
            "type": "scatter3d"
           }
          ],
          "scattercarpet": [
           {
            "marker": {
             "colorbar": {
              "outlinewidth": 0,
              "ticks": ""
             }
            },
            "type": "scattercarpet"
           }
          ],
          "scattergeo": [
           {
            "marker": {
             "colorbar": {
              "outlinewidth": 0,
              "ticks": ""
             }
            },
            "type": "scattergeo"
           }
          ],
          "scattergl": [
           {
            "marker": {
             "colorbar": {
              "outlinewidth": 0,
              "ticks": ""
             }
            },
            "type": "scattergl"
           }
          ],
          "scattermapbox": [
           {
            "marker": {
             "colorbar": {
              "outlinewidth": 0,
              "ticks": ""
             }
            },
            "type": "scattermapbox"
           }
          ],
          "scatterpolar": [
           {
            "marker": {
             "colorbar": {
              "outlinewidth": 0,
              "ticks": ""
             }
            },
            "type": "scatterpolar"
           }
          ],
          "scatterpolargl": [
           {
            "marker": {
             "colorbar": {
              "outlinewidth": 0,
              "ticks": ""
             }
            },
            "type": "scatterpolargl"
           }
          ],
          "scatterternary": [
           {
            "marker": {
             "colorbar": {
              "outlinewidth": 0,
              "ticks": ""
             }
            },
            "type": "scatterternary"
           }
          ],
          "surface": [
           {
            "colorbar": {
             "outlinewidth": 0,
             "ticks": ""
            },
            "colorscale": [
             [
              0,
              "#0d0887"
             ],
             [
              0.1111111111111111,
              "#46039f"
             ],
             [
              0.2222222222222222,
              "#7201a8"
             ],
             [
              0.3333333333333333,
              "#9c179e"
             ],
             [
              0.4444444444444444,
              "#bd3786"
             ],
             [
              0.5555555555555556,
              "#d8576b"
             ],
             [
              0.6666666666666666,
              "#ed7953"
             ],
             [
              0.7777777777777778,
              "#fb9f3a"
             ],
             [
              0.8888888888888888,
              "#fdca26"
             ],
             [
              1,
              "#f0f921"
             ]
            ],
            "type": "surface"
           }
          ],
          "table": [
           {
            "cells": {
             "fill": {
              "color": "#EBF0F8"
             },
             "line": {
              "color": "white"
             }
            },
            "header": {
             "fill": {
              "color": "#C8D4E3"
             },
             "line": {
              "color": "white"
             }
            },
            "type": "table"
           }
          ]
         },
         "layout": {
          "annotationdefaults": {
           "arrowcolor": "#2a3f5f",
           "arrowhead": 0,
           "arrowwidth": 1
          },
          "autotypenumbers": "strict",
          "coloraxis": {
           "colorbar": {
            "outlinewidth": 0,
            "ticks": ""
           }
          },
          "colorscale": {
           "diverging": [
            [
             0,
             "#8e0152"
            ],
            [
             0.1,
             "#c51b7d"
            ],
            [
             0.2,
             "#de77ae"
            ],
            [
             0.3,
             "#f1b6da"
            ],
            [
             0.4,
             "#fde0ef"
            ],
            [
             0.5,
             "#f7f7f7"
            ],
            [
             0.6,
             "#e6f5d0"
            ],
            [
             0.7,
             "#b8e186"
            ],
            [
             0.8,
             "#7fbc41"
            ],
            [
             0.9,
             "#4d9221"
            ],
            [
             1,
             "#276419"
            ]
           ],
           "sequential": [
            [
             0,
             "#0d0887"
            ],
            [
             0.1111111111111111,
             "#46039f"
            ],
            [
             0.2222222222222222,
             "#7201a8"
            ],
            [
             0.3333333333333333,
             "#9c179e"
            ],
            [
             0.4444444444444444,
             "#bd3786"
            ],
            [
             0.5555555555555556,
             "#d8576b"
            ],
            [
             0.6666666666666666,
             "#ed7953"
            ],
            [
             0.7777777777777778,
             "#fb9f3a"
            ],
            [
             0.8888888888888888,
             "#fdca26"
            ],
            [
             1,
             "#f0f921"
            ]
           ],
           "sequentialminus": [
            [
             0,
             "#0d0887"
            ],
            [
             0.1111111111111111,
             "#46039f"
            ],
            [
             0.2222222222222222,
             "#7201a8"
            ],
            [
             0.3333333333333333,
             "#9c179e"
            ],
            [
             0.4444444444444444,
             "#bd3786"
            ],
            [
             0.5555555555555556,
             "#d8576b"
            ],
            [
             0.6666666666666666,
             "#ed7953"
            ],
            [
             0.7777777777777778,
             "#fb9f3a"
            ],
            [
             0.8888888888888888,
             "#fdca26"
            ],
            [
             1,
             "#f0f921"
            ]
           ]
          },
          "colorway": [
           "#636efa",
           "#EF553B",
           "#00cc96",
           "#ab63fa",
           "#FFA15A",
           "#19d3f3",
           "#FF6692",
           "#B6E880",
           "#FF97FF",
           "#FECB52"
          ],
          "font": {
           "color": "#2a3f5f"
          },
          "geo": {
           "bgcolor": "white",
           "lakecolor": "white",
           "landcolor": "#E5ECF6",
           "showlakes": true,
           "showland": true,
           "subunitcolor": "white"
          },
          "hoverlabel": {
           "align": "left"
          },
          "hovermode": "closest",
          "mapbox": {
           "style": "light"
          },
          "paper_bgcolor": "white",
          "plot_bgcolor": "#E5ECF6",
          "polar": {
           "angularaxis": {
            "gridcolor": "white",
            "linecolor": "white",
            "ticks": ""
           },
           "bgcolor": "#E5ECF6",
           "radialaxis": {
            "gridcolor": "white",
            "linecolor": "white",
            "ticks": ""
           }
          },
          "scene": {
           "xaxis": {
            "backgroundcolor": "#E5ECF6",
            "gridcolor": "white",
            "gridwidth": 2,
            "linecolor": "white",
            "showbackground": true,
            "ticks": "",
            "zerolinecolor": "white"
           },
           "yaxis": {
            "backgroundcolor": "#E5ECF6",
            "gridcolor": "white",
            "gridwidth": 2,
            "linecolor": "white",
            "showbackground": true,
            "ticks": "",
            "zerolinecolor": "white"
           },
           "zaxis": {
            "backgroundcolor": "#E5ECF6",
            "gridcolor": "white",
            "gridwidth": 2,
            "linecolor": "white",
            "showbackground": true,
            "ticks": "",
            "zerolinecolor": "white"
           }
          },
          "shapedefaults": {
           "line": {
            "color": "#2a3f5f"
           }
          },
          "ternary": {
           "aaxis": {
            "gridcolor": "white",
            "linecolor": "white",
            "ticks": ""
           },
           "baxis": {
            "gridcolor": "white",
            "linecolor": "white",
            "ticks": ""
           },
           "bgcolor": "#E5ECF6",
           "caxis": {
            "gridcolor": "white",
            "linecolor": "white",
            "ticks": ""
           }
          },
          "title": {
           "x": 0.05
          },
          "xaxis": {
           "automargin": true,
           "gridcolor": "white",
           "linecolor": "white",
           "ticks": "",
           "title": {
            "standoff": 15
           },
           "zerolinecolor": "white",
           "zerolinewidth": 2
          },
          "yaxis": {
           "automargin": true,
           "gridcolor": "white",
           "linecolor": "white",
           "ticks": "",
           "title": {
            "standoff": 15
           },
           "zerolinecolor": "white",
           "zerolinewidth": 2
          }
         }
        },
        "title": {
         "text": "Распределение разницы в цене в %"
        },
        "width": 1200,
        "xaxis": {
         "anchor": "y",
         "domain": [
          0,
          1
         ],
         "title": {
          "text": "Разница в цене в % (признак price_difference) "
         }
        },
        "yaxis": {
         "anchor": "x",
         "domain": [
          0,
          1
         ],
         "title": {
          "text": "outlier"
         }
        }
       }
      }
     },
     "metadata": {},
     "output_type": "display_data"
    }
   ],
   "source": [
    "# Дополнительно постороим еще одну диаграмму рассеяния\n",
    "fig = px.scatter(Data_Parsing, x='price_difference', y='outlier', color='brand', \n",
    "                 title=\"Распределение разницы в цене в %\",\n",
    "                 labels={'price_difference':'Разница в цене в % (признак price_difference) ',\n",
    "                         'brand':'Бренды (признак brand) '\n",
    "                         },\n",
    "                 height=500,width=1200\n",
    "                 )\n",
    "\n",
    "fig.show()"
   ]
  },
  {
   "cell_type": "markdown",
   "metadata": {},
   "source": [
    "**Выводы про графику:**  \n",
    "На графике видно, что как мы и предполагали выбросами оказались 2 крайних значения справа в разрезе по брендам, правда в бренде Valentino выбросом оказалось только 1 значение.\n"
   ]
  },
  {
   "cell_type": "code",
   "execution_count": 9,
   "metadata": {},
   "outputs": [],
   "source": [
    "# сохраняем итоговую таблицу в Excel-файл.\n",
    "Data_Parsing.to_excel('data/Data_TSUM_result.xlsx', engine='openpyxl', sheet_name='Data_Parsing')"
   ]
  }
 ],
 "metadata": {
  "kernelspec": {
   "display_name": "Python 3.9.13 64-bit",
   "language": "python",
   "name": "python3"
  },
  "language_info": {
   "codemirror_mode": {
    "name": "ipython",
    "version": 3
   },
   "file_extension": ".py",
   "mimetype": "text/x-python",
   "name": "python",
   "nbconvert_exporter": "python",
   "pygments_lexer": "ipython3",
   "version": "3.9.13"
  },
  "orig_nbformat": 4,
  "vscode": {
   "interpreter": {
    "hash": "aee8b7b246df8f9039afb4144a1f6fd8d2ca17a180786b69acc140d282b71a49"
   }
  }
 },
 "nbformat": 4,
 "nbformat_minor": 2
}
