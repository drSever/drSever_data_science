{
 "cells": [
  {
   "cell_type": "markdown",
   "metadata": {},
   "source": [
    "# Создание и нормализация базы данных"
   ]
  },
  {
   "cell_type": "markdown",
   "metadata": {},
   "source": [
    "# 1. Экспортируем из исходных данных 2 .csv файла с каждого листа\n",
    "\n",
    "Из исходного файла `customer_and_transaction.xlsx` (Excel: Файл -> Сохранить как) получаем 2 файла `customer.csv` и `transaction.csv`"
   ]
  },
  {
   "cell_type": "markdown",
   "metadata": {},
   "source": [
    "# 2. Загружаем полученные файлы в DBeaver, создав 2 одноименные таблицы"
   ]
  },
  {
   "cell_type": "markdown",
   "metadata": {},
   "source": [
    "Используем при импорте разделитель `;`"
   ]
  },
  {
   "cell_type": "markdown",
   "metadata": {},
   "source": [
    "Импорт `transaction.csv`:"
   ]
  },
  {
   "cell_type": "markdown",
   "metadata": {},
   "source": [
    "<img src=\"imgs/image01.png\" width=\"500\"/>  "
   ]
  },
  {
   "cell_type": "markdown",
   "metadata": {},
   "source": [
    "<img src=\"imgs/image02.png\" width=\"900\"/>"
   ]
  },
  {
   "cell_type": "markdown",
   "metadata": {},
   "source": [
    "Импорт `customer.csv`:"
   ]
  },
  {
   "cell_type": "markdown",
   "metadata": {},
   "source": [
    "<img src=\"imgs/image03.png\" width=\"900\"/>  "
   ]
  },
  {
   "cell_type": "markdown",
   "metadata": {},
   "source": [
    "Таблица `transaction`:"
   ]
  },
  {
   "cell_type": "markdown",
   "metadata": {},
   "source": [
    "<img src=\"imgs/image04.png\" width=\"900\"/>  "
   ]
  },
  {
   "cell_type": "markdown",
   "metadata": {},
   "source": [
    "Таблица `customer`:"
   ]
  },
  {
   "cell_type": "markdown",
   "metadata": {},
   "source": [
    "<img src=\"imgs/image05.png\" width=\"900\"/>  "
   ]
  },
  {
   "cell_type": "markdown",
   "metadata": {},
   "source": [
    "# 3. Опишем атрибуты данных в наших таблицах\n",
    "\n",
    "Таблица `transaction`:\n",
    "- **transaction_id** - идентификатор транзакции\n",
    "- **product_id** - идентификатор продукта\n",
    "- **customer_id** - идентификатор клиента\n",
    "- **transaction_date** - дата транзакции\n",
    "- **online_order** - онлайн заказ (значение да/нет)\n",
    "- **order_status** - статус заказа (подтвержен/отменен)\n",
    "- **brand** - бренд товара\n",
    "- **product_line** - продуктовая линейка\n",
    "- **product_class** - класс продукта\n",
    "- **product_size** - размер продукта (не совсем понятно - физический размер?)\n",
    "- **list_price** - прейскурантная цена\n",
    "- **standard_cost** - стандартная (фактическая) цена\n",
    "\n",
    "Речь, скорее всего, идет о продажах велосипедов.\n",
    "\n",
    "Таблица `customer`:\n",
    "- **customer_id** - идентификатор клиента\n",
    "- **first_name** - имя\n",
    "- **last_name** - фамилия\n",
    "- **gender** - пол\n",
    "- **DOB** - дата рождения\n",
    "- **job_title** - название должности\n",
    "- **job_industry_category** - отраслевая категория\n",
    "- **wealth_segment** - уровень благосостояния\n",
    "- **deceased_indicator** - индикатор умершего клиента\n",
    "- **owns_car** - наличие собственного авто\n",
    "- **address** - адресс\n",
    "- **postcode** - почтовый индекс\n",
    "- **state** - штат\n",
    "- **country** - страна (все значения Австралия, нужно ли это поле вообще?)\n",
    "- **property_valuation** - оценка имущества/недвижимости (?)"
   ]
  },
  {
   "cell_type": "markdown",
   "metadata": {},
   "source": [
    "Можно сразу отметить, что все клиенты проживают в Австралии:"
   ]
  },
  {
   "cell_type": "code",
   "execution_count": null,
   "metadata": {
    "vscode": {
     "languageId": "sql"
    }
   },
   "outputs": [],
   "source": [
    "select distinct c.country \n",
    "from customer c "
   ]
  },
  {
   "cell_type": "markdown",
   "metadata": {},
   "source": [
    "# 4. Нормализуем БД"
   ]
  },
  {
   "cell_type": "markdown",
   "metadata": {},
   "source": [
    "## 4.1. 1 нормальная форма\n",
    "\n",
    "Для того чтобы таблица была в 1НФ все атрибуты в таблице должны быть **простыми**, все сохраняемые данные на пересечении столбцов и строк — содержать лишь **скалярные значения** (не вектора).\n",
    "\n",
    "Не должно быть составных данных и дубликатов столбцов."
   ]
  },
  {
   "cell_type": "markdown",
   "metadata": {},
   "source": [
    "В таблице `transaction`:\n",
    "- атрибут **transaction_date** имеет тип данных *varchar(50)*, он составной (день, месяц, год) однако, если мы переводем его в тип данных *date*, то это уже не будет составной тип даннх, т.к. PostgreSQL умеет с ними работать как с датами и извлекать необходимую дополнительную информация (отдельно день, например).\n",
    "\n",
    "В таблице `customer`:\n",
    "- атрибут **DOB** также имеет тип данных *varchar(50)*, он составной (год, месяц, день) однако, если мы переводем его в тип данных *date*, то это уже не будет составной тип даннх, т.к. PostgreSQL умеет с ними работать как с датами и извлекать необходимую дополнительную информация (отдельно день, например).\n",
    "- атрибут **address** состоит из улицы и номера дома, в теории если клиентов очень много, то, возможно, имеет смысл разделить этот атрибут отдельно на улицу и номер дома - например, у нас будет несколько клиентов жить на одной улице в одном населенном пункте. Но так как все-же база небольшая, вероятно в данной ситуации это не нужно делать.\n",
    "\n",
    "Повторяющихся столбцов нет."
   ]
  },
  {
   "cell_type": "markdown",
   "metadata": {},
   "source": [
    "## 4.2. 2 нормальная форма\n",
    "\n",
    "Отношения будут соответствовать 2НФ, если сама БД находится в 1НФ, а **каждый столбец**, который не является ключом, *неприводимо* зависит от **первичного ключа**.\n",
    "\n",
    "В обеих таблицах есть первичные ключи от которых зависят определнные атрибуты:\n",
    "- **transaction_id** - идентификатор транзакции\n",
    "- **product_id** - идентификатор продукта\n",
    "- **customer_id** - идентификатор клиента, он также является и внешним ключом\n"
   ]
  },
  {
   "cell_type": "markdown",
   "metadata": {},
   "source": [
    "## 4.3. 3 нормальная форма\n",
    "\n",
    "Таблица должна находиться во 2НФ, плюс **любой столбец**, который не является ключом, должен *нетранзитивно* зависеть лишь от **первичного ключа**.\n",
    "\n",
    "Покажем нетранзитивную зависимость атрибутов от первичных ключей:\n",
    "- таблица `transaction`:\n",
    "    - **transaction_id** :\n",
    "        - *transaction_date*\n",
    "        - *online_order*\n",
    "        - *order_status*\n",
    "    - **product_id** :\n",
    "        - *brand*\n",
    "        - *product_line*\n",
    "        - *product_class*\n",
    "        - *product_size*\n",
    "        - *list_price*\n",
    "        - *standard_cost*\n",
    "\n",
    "        \n",
    "- таблица `customer`:\n",
    "    - **customer_id**\n",
    "        - *first_name*\n",
    "        - *last_name*\n",
    "        - *gender*\n",
    "        - *DOB*\n",
    "        - *job_title*\n",
    "        - *job_industry_category*\n",
    "        - *wealth_segment*\n",
    "        - *deceased_indicator*\n",
    "        - *owns_car*\n",
    "        - *property_valuation*\n",
    "    - **addres_id** (создадим, по идее, один и тот же клиент может заказывать по разным адресам)\n",
    "        - *address*\n",
    "        - *postcode*\n",
    "        - *state*\n",
    "        - *country*"
   ]
  },
  {
   "cell_type": "code",
   "execution_count": null,
   "metadata": {
    "vscode": {
     "languageId": "sql"
    }
   },
   "outputs": [],
   "source": [
    "select \n",
    "\tcount(distinct (c.customer_id )) as count_customer_id,\n",
    "\tcount(distinct (c.address )) as count_adress\n",
    "from customer c "
   ]
  },
  {
   "cell_type": "markdown",
   "metadata": {},
   "source": [
    "<img src=\"imgs/image07.png\" width=\"900\"/>  "
   ]
  },
  {
   "cell_type": "markdown",
   "metadata": {},
   "source": [
    "Видим, что количество клиентов и адресов не совпадают"
   ]
  },
  {
   "cell_type": "markdown",
   "metadata": {},
   "source": [
    "## 4.4. Итоговое представление данных"
   ]
  },
  {
   "cell_type": "markdown",
   "metadata": {},
   "source": [
    "<img src=\"imgs/image0666.png\" width=\"1200\"/>  "
   ]
  },
  {
   "cell_type": "markdown",
   "metadata": {},
   "source": [
    "**Выводы:**\n",
    "- Разбиваем исходные данные по ключам и таблицам, как представленно выше\n",
    "- меняем тип данных:\n",
    "    - *transaction_date* -> timestamp/date\n",
    "    - *DOB* -> date\n",
    "    - *list_price* -> float\n",
    "    - *standart_cost* -> float\n",
    "- получаем 4 таблицы\n",
    "- данные будут приведены к 3НФ"
   ]
  },
  {
   "cell_type": "markdown",
   "metadata": {},
   "source": [
    "# 5. Создаем итоговые таблицы"
   ]
  },
  {
   "cell_type": "markdown",
   "metadata": {},
   "source": [
    "## 5.1. Создаем таблицу `transaction`"
   ]
  },
  {
   "cell_type": "code",
   "execution_count": null,
   "metadata": {
    "vscode": {
     "languageId": "sql"
    }
   },
   "outputs": [],
   "source": [
    "-- создадим новую базу данных\n",
    "create database homework_1;\n",
    "\n",
    "-- создадим таблицу transaction\n",
    "create table transaction (\n",
    "    transaction_id integer not NULL,\n",
    "\tproduct_id integer,\n",
    "\tcustomer_id integer,\n",
    "\ttransaction_date varchar(50),\n",
    "\tonline_order boolean,\n",
    "\torder_status varchar(50)\n",
    ");\n",
    "-- создаем первичный ключ\n",
    "alter table transaction add primary key (transaction_id);"
   ]
  },
  {
   "cell_type": "markdown",
   "metadata": {},
   "source": [
    "Импортируем данные из `transaction.csv`:"
   ]
  },
  {
   "cell_type": "markdown",
   "metadata": {},
   "source": [
    "<img src=\"imgs/image08.png\" width=\"1200\"/> "
   ]
  },
  {
   "cell_type": "markdown",
   "metadata": {},
   "source": [
    "<img src=\"imgs/image09.png\" width=\"1200\"/> "
   ]
  },
  {
   "cell_type": "code",
   "execution_count": null,
   "metadata": {
    "vscode": {
     "languageId": "sql"
    }
   },
   "outputs": [],
   "source": [
    "-- добавим колонку address_id\n",
    "alter table transaction add address_id integer not null default 1;"
   ]
  },
  {
   "cell_type": "markdown",
   "metadata": {},
   "source": [
    "## 5.2. Создаем таблицу `product`:"
   ]
  },
  {
   "cell_type": "code",
   "execution_count": null,
   "metadata": {
    "vscode": {
     "languageId": "sql"
    }
   },
   "outputs": [],
   "source": [
    "-- создадим таблицу product\n",
    "create table product (\n",
    "    product_id integer not null,\n",
    "    brand varchar(50),\n",
    "    product_line varchar(50),\n",
    "    product_class varchar(50),\n",
    "    product_size varchar(50),\n",
    "    list_price varchar(50),\n",
    "    standard_cost varchar(50)\n",
    ");"
   ]
  },
  {
   "cell_type": "markdown",
   "metadata": {},
   "source": [
    "Импортируем данные из `transaction.csv`:"
   ]
  },
  {
   "cell_type": "markdown",
   "metadata": {},
   "source": [
    "<img src=\"imgs/image10.png\" width=\"1200\"/> "
   ]
  },
  {
   "cell_type": "markdown",
   "metadata": {},
   "source": [
    "<img src=\"imgs/image11.png\" width=\"1200\"/> "
   ]
  },
  {
   "cell_type": "markdown",
   "metadata": {},
   "source": [
    "## 5.3. Создадим таблице `customer`:"
   ]
  },
  {
   "cell_type": "code",
   "execution_count": null,
   "metadata": {
    "vscode": {
     "languageId": "sql"
    }
   },
   "outputs": [],
   "source": [
    "-- создадим таблицу customer\n",
    "create table customer (\n",
    "    customer_id integer,\n",
    "  first_name varchar(50),\n",
    "  last_name varchar(50),\n",
    "  gender varchar(50),\n",
    "  DOB varchar(50),\n",
    "  job_title varchar(50),\n",
    "  job_industry_category varchar(50),\n",
    "  wealth_segment varchar(50),\n",
    "  deceased_indicator varchar(50),\n",
    "  owns_car varchar(50),\n",
    "  property_valuation integer\n",
    ");"
   ]
  },
  {
   "cell_type": "markdown",
   "metadata": {},
   "source": [
    "Импортируем в нее необходимые данные из `customer.csv`:"
   ]
  },
  {
   "cell_type": "markdown",
   "metadata": {},
   "source": [
    "<img src=\"imgs/image12.png\" width=\"1200\"/> "
   ]
  },
  {
   "cell_type": "markdown",
   "metadata": {},
   "source": [
    "<img src=\"imgs/image13.png\" width=\"1200\"/> "
   ]
  },
  {
   "cell_type": "code",
   "execution_count": null,
   "metadata": {
    "vscode": {
     "languageId": "sql"
    }
   },
   "outputs": [],
   "source": [
    "-- забыл указать, что customer_id не может принимать нулевое значение\n",
    "alter table customer alter column customer_id set not null;"
   ]
  },
  {
   "cell_type": "markdown",
   "metadata": {},
   "source": [
    "## 5.4. Создаем таблицу `address`:"
   ]
  },
  {
   "cell_type": "code",
   "execution_count": null,
   "metadata": {
    "vscode": {
     "languageId": "sql"
    }
   },
   "outputs": [],
   "source": [
    "-- создадим таблицу address\n",
    "create table address (\n",
    "  address varchar(50)\n",
    "  postcode integer,\n",
    "  state varchar(50),\n",
    "  country varchar(50)\n",
    ");"
   ]
  },
  {
   "cell_type": "markdown",
   "metadata": {},
   "source": [
    "Импортируем в нее необходимые данные из `customer.csv`:"
   ]
  },
  {
   "cell_type": "markdown",
   "metadata": {},
   "source": [
    "<img src=\"imgs/image144.png\" width=\"1200\"/> "
   ]
  },
  {
   "cell_type": "markdown",
   "metadata": {},
   "source": [
    "<img src=\"imgs/image155.png\" width=\"1200\"/> "
   ]
  },
  {
   "cell_type": "code",
   "execution_count": null,
   "metadata": {
    "vscode": {
     "languageId": "sql"
    }
   },
   "outputs": [],
   "source": [
    "-- добавим колонку address_id\n",
    "alter table address add address_id integer not null default 1;"
   ]
  },
  {
   "cell_type": "markdown",
   "metadata": {},
   "source": [
    "# 6. Дополнительно"
   ]
  },
  {
   "cell_type": "markdown",
   "metadata": {},
   "source": [
    "- В таблицах `product`, `customer`, `address` не выставлял первичные ключи, т.к. загрузка данных из исходных файлов приводит к дублированию атрибутов `_id` и первичный ключ не выставляется; либо если выставить его в пустой таблице, а уже затем грузить данные - возникнет ошибка (будут опять-таки дубликаты)\n",
    "- Возможно, я неправильно понял задание и нужно было просто создать тестовые .csv с несколькими строчками уникальных даннных или использовать пару уникальных `insert into ... values ...` - тогда, естествено, все работает нормально и ключи выставляются"
   ]
  }
 ],
 "metadata": {
  "kernelspec": {
   "display_name": "base",
   "language": "python",
   "name": "python3"
  },
  "language_info": {
   "name": "python",
   "version": "3.12.2"
  }
 },
 "nbformat": 4,
 "nbformat_minor": 2
}
