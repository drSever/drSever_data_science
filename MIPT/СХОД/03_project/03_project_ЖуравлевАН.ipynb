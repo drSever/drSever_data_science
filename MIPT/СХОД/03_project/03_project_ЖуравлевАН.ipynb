{
 "cells": [
  {
   "cell_type": "markdown",
   "metadata": {},
   "source": [
    "# Группировка данных и оконные функции (vo_HW)"
   ]
  },
  {
   "cell_type": "markdown",
   "metadata": {},
   "source": [
    "## 1. Вывести распределение (количество) клиентов по сферам деятельности, отсортировав результат по убыванию количества. — (1 балл)"
   ]
  },
  {
   "cell_type": "markdown",
   "metadata": {},
   "source": [
    "Сначала проверим на нулевые значения в столбце `job_industry_category`:"
   ]
  },
  {
   "cell_type": "code",
   "execution_count": null,
   "metadata": {
    "vscode": {
     "languageId": "sql"
    }
   },
   "outputs": [],
   "source": [
    "SELECT *\n",
    "FROM customer c \n",
    "WHERE job_industry_category IS NULL;"
   ]
  },
  {
   "cell_type": "markdown",
   "metadata": {},
   "source": [
    "Нулевых значений нет, тогда выводим распределение (количество) клиентов по сферам деятельности, отсортировав результат по убыванию количества:"
   ]
  },
  {
   "cell_type": "code",
   "execution_count": null,
   "metadata": {
    "vscode": {
     "languageId": "sql"
    }
   },
   "outputs": [],
   "source": [
    "SELECT \n",
    "    job_industry_category,\n",
    "    COUNT(customer_id) as client_count\n",
    "FROM \n",
    "    customer c \n",
    "GROUP BY \n",
    "    job_industry_category\n",
    "ORDER BY \n",
    "    client_count DESC;"
   ]
  },
  {
   "cell_type": "markdown",
   "metadata": {},
   "source": [
    "![](imgs/image_01.png)"
   ]
  },
  {
   "cell_type": "markdown",
   "metadata": {},
   "source": [
    "## 2. Найти сумму транзакций за каждый месяц по сферам деятельности, отсортировав по месяцам и по сфере деятельности. — (1 балл)"
   ]
  },
  {
   "cell_type": "markdown",
   "metadata": {},
   "source": [
    "Переводим атрибут `transaction_date` из типа *varchar* в тип *date*:"
   ]
  },
  {
   "cell_type": "code",
   "execution_count": null,
   "metadata": {
    "vscode": {
     "languageId": "sql"
    }
   },
   "outputs": [],
   "source": [
    "ALTER TABLE transaction \n",
    "ALTER COLUMN transaction_date TYPE DATE \n",
    "USING TO_DATE(transaction_date, 'DD.MM.YYYY');"
   ]
  },
  {
   "cell_type": "markdown",
   "metadata": {},
   "source": [
    "Переводим атрибут `list_price` из типа *varchar* в тип *float*:"
   ]
  },
  {
   "cell_type": "code",
   "execution_count": null,
   "metadata": {
    "vscode": {
     "languageId": "sql"
    }
   },
   "outputs": [],
   "source": [
    "ALTER TABLE transaction\n",
    "ALTER COLUMN list_price TYPE FLOAT \n",
    "USING REPLACE(list_price, ',', '.')::float;"
   ]
  },
  {
   "cell_type": "markdown",
   "metadata": {},
   "source": [
    "Выводим искомые данные:"
   ]
  },
  {
   "cell_type": "code",
   "execution_count": null,
   "metadata": {
    "vscode": {
     "languageId": "sql"
    }
   },
   "outputs": [],
   "source": [
    "select \n",
    "\tc.job_industry_category,\n",
    "\textract (month from t.transaction_date) as tran_month,\n",
    "\t--extract (year from t.transaction_date) as tran_year,\n",
    "\tsum (t.list_price) as tran_sum\n",
    "from \n",
    "\ttransaction  t\n",
    "left join \n",
    "\tcustomer c on t.customer_id = c.customer_id\n",
    "group by \n",
    "\tc.job_industry_category ,\n",
    "\textract (month from t.transaction_date)\n",
    "\t--extract (year from t.transaction_date)\n",
    "order by\n",
    "\ttran_month,\n",
    "\tc.job_industry_category"
   ]
  },
  {
   "cell_type": "markdown",
   "metadata": {},
   "source": [
    "**Примечание:** так как год в данных только 2017, я данную информацию закомментировал."
   ]
  },
  {
   "cell_type": "markdown",
   "metadata": {},
   "source": [
    "![](imgs/image_02.png)"
   ]
  },
  {
   "cell_type": "markdown",
   "metadata": {},
   "source": [
    "## 3. Вывести количество онлайн-заказов для всех брендов в рамках подтвержденных заказов клиентов из сферы IT. — (1 балл)"
   ]
  },
  {
   "cell_type": "code",
   "execution_count": null,
   "metadata": {
    "vscode": {
     "languageId": "sql"
    }
   },
   "outputs": [],
   "source": [
    "select \n",
    "\tt.brand,\n",
    "\tcount (t.transaction_id )\n",
    "from \n",
    "\ttransaction t \n",
    "left join \n",
    "\tcustomer c on t.customer_id = c.customer_id\n",
    "where \n",
    "\tt.online_order and\n",
    "\tt.order_status = 'Approved' and\n",
    "\tc.job_industry_category = 'IT'\n",
    "group by \n",
    "\tbrand"
   ]
  },
  {
   "cell_type": "markdown",
   "metadata": {},
   "source": [
    "![](imgs/image_03.png)"
   ]
  },
  {
   "cell_type": "markdown",
   "metadata": {},
   "source": [
    "## 4. Найти по всем клиентам сумму всех транзакций (list_price), максимум, минимум и количество транзакций, отсортировав результат по убыванию суммы транзакций и количества клиентов. Выполните двумя способами: используя только group by и используя только оконные функции. Сравните результат. — (2 балла)"
   ]
  },
  {
   "cell_type": "markdown",
   "metadata": {},
   "source": [
    "Используем `GROUP BY`:"
   ]
  },
  {
   "cell_type": "code",
   "execution_count": null,
   "metadata": {
    "vscode": {
     "languageId": "sql"
    }
   },
   "outputs": [],
   "source": [
    "select \n",
    "\tt.customer_id ,\n",
    "\tcount (t.list_price) as tran_count,\n",
    "\tsum (t.list_price) as tran_sum,\n",
    "\tmin (t.list_price) as tran_min,\n",
    "\tmax (t.list_price) as tran_max\n",
    "from \n",
    "\ttransaction t \n",
    "group by \t\n",
    "\tt.customer_id\n",
    "order by \n",
    "\ttran_sum desc,\n",
    "\ttran_count desc"
   ]
  },
  {
   "cell_type": "markdown",
   "metadata": {},
   "source": [
    "Используем только оконные функции (в данном случае агрегирующие):"
   ]
  },
  {
   "cell_type": "code",
   "execution_count": null,
   "metadata": {
    "vscode": {
     "languageId": "sql"
    }
   },
   "outputs": [],
   "source": [
    "SELECT distinct\n",
    "\tcustomer_id, \n",
    "\tCOUNT(list_price) OVER(PARTITION BY customer_id) AS tran_count, \n",
    "\tSUM(list_price) OVER(PARTITION BY customer_id) AS tran_sum, \n",
    "\tMIN(list_price) OVER(PARTITION BY customer_id) AS tran_min,\n",
    "\tMAX(list_price) OVER(PARTITION BY customer_id) AS tran_max \t \n",
    "FROM transaction\n",
    "order by \n",
    "\ttran_sum desc,\n",
    "\ttran_count desc"
   ]
  },
  {
   "cell_type": "markdown",
   "metadata": {},
   "source": [
    "Результат в обоих случаях идентичен:"
   ]
  },
  {
   "cell_type": "markdown",
   "metadata": {},
   "source": [
    "![](imgs/image_04.png)"
   ]
  },
  {
   "cell_type": "markdown",
   "metadata": {},
   "source": [
    "## 5. Найти имена и фамилии клиентов с минимальной/максимальной суммой транзакций за весь период (сумма транзакций не может быть null). Напишите отдельные запросы для минимальной и максимальной суммы."
   ]
  },
  {
   "cell_type": "markdown",
   "metadata": {},
   "source": [
    "Клиент с минимальной сумой транзакций:"
   ]
  },
  {
   "cell_type": "code",
   "execution_count": null,
   "metadata": {
    "vscode": {
     "languageId": "sql"
    }
   },
   "outputs": [],
   "source": [
    "select \n",
    "\tc.customer_id,\n",
    "\tc.first_name,\n",
    "\tc.last_name,\n",
    "\tsum(t.list_price) as sum_amount\n",
    "from \n",
    "\ttransaction t\n",
    "left join \n",
    "\tcustomer c on t.customer_id = c.customer_id\n",
    "group by \n",
    "\tc.customer_id,\n",
    "\tc.first_name,\n",
    "\tc.last_name\n",
    "ORDER BY \n",
    "    sum_amount ASC\n",
    "LIMIT 1;"
   ]
  },
  {
   "cell_type": "markdown",
   "metadata": {},
   "source": [
    "![](imgs/image_05_1.png)"
   ]
  },
  {
   "cell_type": "markdown",
   "metadata": {},
   "source": [
    "Клиент с максимальной сумой транзакций:"
   ]
  },
  {
   "cell_type": "code",
   "execution_count": null,
   "metadata": {
    "vscode": {
     "languageId": "sql"
    }
   },
   "outputs": [],
   "source": [
    "select \n",
    "\tc.customer_id,\n",
    "\tc.first_name,\n",
    "\tc.last_name,\n",
    "\tsum(t.list_price) as sum_amount\n",
    "from \n",
    "\ttransaction t\n",
    "left join \n",
    "\tcustomer c on t.customer_id = c.customer_id\n",
    "group by \n",
    "\tc.customer_id,\n",
    "\tc.first_name,\n",
    "\tc.last_name\n",
    "ORDER BY \n",
    "    sum_amount DESC\n",
    "LIMIT 1;"
   ]
  },
  {
   "cell_type": "markdown",
   "metadata": {},
   "source": [
    "![](imgs/image_05_2.png)"
   ]
  },
  {
   "cell_type": "markdown",
   "metadata": {},
   "source": [
    "## 6. Вывести только самые первые транзакции клиентов. Решить с помощью оконных функций. — (1 балл)"
   ]
  },
  {
   "cell_type": "code",
   "execution_count": null,
   "metadata": {
    "vscode": {
     "languageId": "sql"
    }
   },
   "outputs": [],
   "source": [
    "WITH ranked_transactions AS (\n",
    "    SELECT \n",
    "        t.customer_id,\n",
    "        c.first_name,\n",
    "        c.last_name,\n",
    "        t.transaction_date,\n",
    "        ROW_NUMBER() OVER (PARTITION BY t.customer_id ORDER BY t.transaction_date) AS row_number\n",
    "    FROM \n",
    "        transaction t \n",
    "    LEFT JOIN \n",
    "        customer c ON t.customer_id = c.customer_id\n",
    ")\n",
    "SELECT \n",
    "    customer_id,\n",
    "    first_name,\n",
    "    last_name,\n",
    "    transaction_date,\n",
    "    row_number\n",
    "FROM \n",
    "    ranked_transactions\n",
    "WHERE \n",
    "    row_number = 1;"
   ]
  },
  {
   "cell_type": "markdown",
   "metadata": {},
   "source": [
    "![](imgs/image_06.png)"
   ]
  },
  {
   "cell_type": "markdown",
   "metadata": {},
   "source": [
    "## 7. Вывести имена, фамилии и профессии клиентов, между транзакциями которых был максимальный интервал (интервал вычисляется в днях) — (2 балла)."
   ]
  },
  {
   "cell_type": "code",
   "execution_count": null,
   "metadata": {
    "vscode": {
     "languageId": "sql"
    }
   },
   "outputs": [],
   "source": [
    "WITH \n",
    "transaction_intervals AS (\n",
    "    SELECT \n",
    "        t.customer_id,\n",
    "        c.first_name,\n",
    "        c.last_name,\n",
    "        c.job_title,\n",
    "        t.transaction_date,\n",
    "        LAG(t.transaction_date) OVER (PARTITION BY t.customer_id ORDER BY t.transaction_date) AS prev_transaction_date,\n",
    "        (t.transaction_date - LAG(t.transaction_date) OVER (PARTITION BY t.customer_id ORDER BY t.transaction_date)) AS interval_days\n",
    "    FROM \n",
    "        transaction t\n",
    "    JOIN \n",
    "        customer c ON t.customer_id = c.customer_id\n",
    "),\n",
    "\n",
    "max_intervals AS (\n",
    "    SELECT \n",
    "        customer_id,\n",
    "        first_name,\n",
    "        last_name,\n",
    "        job_title,\n",
    "        MAX(interval_days) AS max_interval\n",
    "    FROM \n",
    "        transaction_intervals\n",
    "    WHERE \n",
    "        interval_days IS NOT NULL\n",
    "    GROUP BY \n",
    "        customer_id,\n",
    "        first_name,\n",
    "        last_name,\n",
    "        job_title\n",
    ")\n",
    "\n",
    "SELECT \n",
    "\tcustomer_id,\n",
    "    first_name,\n",
    "    last_name,\n",
    "    job_title,\n",
    "    max_interval\n",
    "FROM \n",
    "    max_intervals\n",
    "WHERE \n",
    "    max_interval = (SELECT MAX(max_interval) FROM max_intervals)\n"
   ]
  },
  {
   "cell_type": "markdown",
   "metadata": {},
   "source": [
    "![](imgs/image_07.png)"
   ]
  }
 ],
 "metadata": {
  "language_info": {
   "name": "python"
  }
 },
 "nbformat": 4,
 "nbformat_minor": 2
}
