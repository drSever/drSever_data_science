{
 "cells": [
  {
   "cell_type": "markdown",
   "metadata": {},
   "source": [
    "# Основные операторы PostgreSQL (vo_HW)"
   ]
  },
  {
   "cell_type": "markdown",
   "metadata": {},
   "source": [
    "### Журавлев А.Н."
   ]
  },
  {
   "cell_type": "markdown",
   "metadata": {},
   "source": [
    "## 1. (1 балл) Вывести все уникальные бренды, у которых стандартная стоимость выше 1500 долларов."
   ]
  },
  {
   "cell_type": "markdown",
   "metadata": {},
   "source": [
    "**Решение.**       \n",
    "\n",
    "У нас 2 проблемы:\n",
    "- атрибут *standard_cost* имеет тип данных `varchar`\n",
    "- в этой же колонке имеются пустые значения в виде `''`"
   ]
  },
  {
   "cell_type": "code",
   "execution_count": null,
   "metadata": {
    "vscode": {
     "languageId": "sql"
    }
   },
   "outputs": [],
   "source": [
    "-- заменяем '' на NULL в столбце standard_cost\n",
    "UPDATE transaction\n",
    "SET standard_cost = NULL\n",
    "\tWHERE standard_cost = '';"
   ]
  },
  {
   "cell_type": "code",
   "execution_count": null,
   "metadata": {
    "vscode": {
     "languageId": "sql"
    }
   },
   "outputs": [],
   "source": [
    "-- переводим значения атрибута standard_cost из varchar в float\n",
    "ALTER TABLE transaction\n",
    "ALTER COLUMN standard_cost TYPE FLOAT\n",
    "USING CAST(REPLACE(standard_cost, ',', '.') AS FLOAT);"
   ]
  },
  {
   "cell_type": "markdown",
   "metadata": {},
   "source": [
    "А теперь выводим уникальные бренды, у которых стандартная соимость выше 1500"
   ]
  },
  {
   "cell_type": "code",
   "execution_count": null,
   "metadata": {
    "vscode": {
     "languageId": "sql"
    }
   },
   "outputs": [],
   "source": [
    "select \n",
    "\tdistinct(t.brand)\n",
    "from \"transaction\" as t\n",
    "where t.standard_cost  > 1500;"
   ]
  },
  {
   "cell_type": "markdown",
   "metadata": {},
   "source": [
    "![](imgs/image_01.png)"
   ]
  },
  {
   "cell_type": "markdown",
   "metadata": {},
   "source": [
    "## 2. (1 балл) Вывести все подтвержденные транзакции за период '2017-04-01' по '2017-04-09' включительно."
   ]
  },
  {
   "cell_type": "markdown",
   "metadata": {},
   "source": [
    "**Решение.**\n",
    "\n",
    "Атрибут *transaction_date* имеет тип данных `varchar`. Дата указана в виде `dd.mm.yyyy`    \n",
    "\n",
    "Проверим на наличие проблем:"
   ]
  },
  {
   "cell_type": "code",
   "execution_count": null,
   "metadata": {
    "vscode": {
     "languageId": "sql"
    }
   },
   "outputs": [],
   "source": [
    "SELECT transaction_date\n",
    "FROM transaction\n",
    "WHERE transaction_date IS NULL OR transaction_date !~ '^\\d{2}\\.\\d{2}\\.\\d{4}$';"
   ]
  },
  {
   "cell_type": "markdown",
   "metadata": {},
   "source": [
    "Проблем нет.\n",
    "\n",
    "Теперь преобразуем данные:"
   ]
  },
  {
   "cell_type": "code",
   "execution_count": null,
   "metadata": {
    "vscode": {
     "languageId": "sql"
    }
   },
   "outputs": [],
   "source": [
    "ALTER TABLE transactions\n",
    "ALTER COLUMN transaction_date TYPE DATE\n",
    "USING TO_DATE(transaction_date, 'DD.MM.YYYY');"
   ]
  },
  {
   "cell_type": "markdown",
   "metadata": {},
   "source": [
    "Подтвержденные транзакции - информация об этом, на сколько я понял, в атрибуте *order_status*.      \n",
    "Теперь глянем какой статус у транзакций бывает:"
   ]
  },
  {
   "cell_type": "code",
   "execution_count": null,
   "metadata": {
    "vscode": {
     "languageId": "sql"
    }
   },
   "outputs": [],
   "source": [
    "select distinct (order_status)\n",
    "from transaction;"
   ]
  },
  {
   "cell_type": "markdown",
   "metadata": {},
   "source": [
    "Получается 2 статуса: *Approved* и *Cancelled*\n",
    "\n",
    "Теперь выводим все подтвержденные транзакции за указанный период включительно (чтобы проверить себя отсортируем данные по дате по возрастанию):"
   ]
  },
  {
   "cell_type": "code",
   "execution_count": null,
   "metadata": {
    "vscode": {
     "languageId": "sql"
    }
   },
   "outputs": [],
   "source": [
    "SELECT *\n",
    "FROM transaction\n",
    "WHERE (transaction_date BETWEEN '2017-04-01' AND '2017-04-09') and order_status = 'Approved'\n",
    "order by transaction_date;"
   ]
  },
  {
   "cell_type": "markdown",
   "metadata": {},
   "source": [
    "![](imgs/image_02.png)"
   ]
  },
  {
   "cell_type": "markdown",
   "metadata": {},
   "source": [
    "## 3. (1 балл) Вывести все профессии у клиентов из сферы IT или Financial Services, которые начинаются с фразы 'Senior'."
   ]
  },
  {
   "cell_type": "markdown",
   "metadata": {},
   "source": [
    "В задании явно не указано, чтобы я вывел уникальные значения профессий, тогда код будет следующим:"
   ]
  },
  {
   "cell_type": "code",
   "execution_count": null,
   "metadata": {
    "vscode": {
     "languageId": "sql"
    }
   },
   "outputs": [],
   "source": [
    "select \n",
    "\tjob_title\n",
    "from customer\n",
    "where \n",
    "\t(job_industry_category = 'IT' or job_industry_category = 'Financial Services') and\n",
    "\tjob_title like 'Senior%';"
   ]
  },
  {
   "cell_type": "markdown",
   "metadata": {},
   "source": [
    "![](imgs/image_03_1.png)"
   ]
  },
  {
   "cell_type": "markdown",
   "metadata": {},
   "source": [
    "Всего 81 запись. \n",
    "\n",
    "Однако, думаю, будет правильным вывести уникальные профессии по заданным условиям:"
   ]
  },
  {
   "cell_type": "code",
   "execution_count": null,
   "metadata": {
    "vscode": {
     "languageId": "sql"
    }
   },
   "outputs": [],
   "source": [
    "select \n",
    "\tdistinct(job_title)\n",
    "from customer\n",
    "where \n",
    "\t(job_industry_category = 'IT' or job_industry_category = 'Financial Services') and\n",
    "\tjob_title like 'Senior%';\n"
   ]
  },
  {
   "cell_type": "markdown",
   "metadata": {},
   "source": [
    "![](imgs/image_03_2.png)"
   ]
  },
  {
   "cell_type": "markdown",
   "metadata": {},
   "source": [
    "## 4. (1 балл) Вывести все бренды, которые закупают клиенты, работающие в сфере Financial Services"
   ]
  },
  {
   "cell_type": "markdown",
   "metadata": {},
   "source": [
    "Пришло время объединять таблицы.     \n",
    "Основная таблица, в контексте нашего запроса, `transaction`, т.к. именно по ней мы будем знать какие бренды покупают клиенты. Следовательно, используем `LEFT JOIN` для присоединения к ней таблицы `customer`.   \n",
    "   \n",
    "Все-таки, я думаю, что в задании имеется в виду вывести уникальные бренды:"
   ]
  },
  {
   "cell_type": "code",
   "execution_count": null,
   "metadata": {
    "vscode": {
     "languageId": "sql"
    }
   },
   "outputs": [],
   "source": [
    "select \n",
    "\tdistinct(brand)\n",
    "from transaction t\n",
    "left join customer c on t.customer_id = c.customer_id\n",
    "where \n",
    "\tjob_industry_category = 'Financial Services';"
   ]
  },
  {
   "cell_type": "markdown",
   "metadata": {},
   "source": [
    "![](imgs/image_04_1.png)"
   ]
  },
  {
   "cell_type": "markdown",
   "metadata": {},
   "source": [
    "Все неплохо, но бренд под номером 1 - пустой. Может я ошибся при объединении таблиц?    \n",
    "\n",
    "Проверим на исходной таблице `transaction`:"
   ]
  },
  {
   "cell_type": "code",
   "execution_count": null,
   "metadata": {
    "vscode": {
     "languageId": "sql"
    }
   },
   "outputs": [],
   "source": [
    "select distinct(brand)\n",
    "from transaction"
   ]
  },
  {
   "cell_type": "markdown",
   "metadata": {},
   "source": [
    "![](imgs/image_04_2.png)"
   ]
  },
  {
   "cell_type": "markdown",
   "metadata": {},
   "source": [
    "Нет, ошибки нет, в исходной таблице `transaction` также есть пустой бренд."
   ]
  },
  {
   "cell_type": "markdown",
   "metadata": {},
   "source": [
    "## 5. (1 балл) Вывести 10 клиентов, которые оформили онлайн-заказ продукции из брендов 'Giant Bicycles', 'Norco Bicycles', 'Trek Bicycles'."
   ]
  },
  {
   "cell_type": "code",
   "execution_count": null,
   "metadata": {
    "vscode": {
     "languageId": "sql"
    }
   },
   "outputs": [],
   "source": [
    "select \n",
    "\tfirst_name,\n",
    "\tlast_name\n",
    "from transaction t\n",
    "left join customer c on t.customer_id = c.customer_id\n",
    "where \n",
    "\tonline_order and\n",
    "\tbrand in ( 'Giant Bicycles', 'Norco Bicycles', 'Trek Bicycles')\n",
    "limit 10;"
   ]
  },
  {
   "cell_type": "markdown",
   "metadata": {},
   "source": [
    "Либо, если в задании имеются в виду уникальные клиенты:"
   ]
  },
  {
   "cell_type": "code",
   "execution_count": null,
   "metadata": {
    "vscode": {
     "languageId": "sql"
    }
   },
   "outputs": [],
   "source": [
    "select distinct\n",
    "\tfirst_name,\n",
    "\tlast_name\n",
    "from transaction t\n",
    "left join customer c on t.customer_id = c.customer_id\n",
    "where \n",
    "\tonline_order and\n",
    "\tbrand in ( 'Giant Bicycles', 'Norco Bicycles', 'Trek Bicycles')\n",
    "limit 10;"
   ]
  },
  {
   "cell_type": "markdown",
   "metadata": {},
   "source": [
    "![](imgs/image_05.png)"
   ]
  },
  {
   "cell_type": "markdown",
   "metadata": {},
   "source": [
    "![](imgs/image_05.png)"
   ]
  },
  {
   "cell_type": "markdown",
   "metadata": {},
   "source": [
    "## 6. (1 балл) Вывести всех клиентов, у которых нет транзакций."
   ]
  },
  {
   "cell_type": "markdown",
   "metadata": {},
   "source": [
    "В основно таблице `transaction` каждая транзакция должна иметь *transaction_id* и *customer_id*.     \n",
    "На всякий случай проверим, чтобы эти поля не имели пропусков:"
   ]
  },
  {
   "cell_type": "code",
   "execution_count": null,
   "metadata": {
    "vscode": {
     "languageId": "sql"
    }
   },
   "outputs": [],
   "source": [
    "select *\n",
    "from transaction\n",
    "where customer_id is null or transaction_id is null;"
   ]
  },
  {
   "cell_type": "markdown",
   "metadata": {},
   "source": [
    "Пропусков нет, все в порядке.\n",
    "\n",
    "Чтобы вывести клиентов, у которых нет транзакций, надо к основной таблице `transaction` через `RIGHT JOIN` присоединить таблицу `customer` (либо наоборот, но уже через `LEFT JOIN`), тогда в общей таблице у клиентов без транзакций значение поля `transaction_id` будет пустым (либо, например, значение поля `customer_id` таблицы `transaction` тоже будет пустым). Вот один из вариантов решения:"
   ]
  },
  {
   "cell_type": "code",
   "execution_count": null,
   "metadata": {
    "vscode": {
     "languageId": "sql"
    }
   },
   "outputs": [],
   "source": [
    "select distinct\n",
    "\tt.customer_id,\n",
    "\tt.transaction_id transaction_id, \n",
    "\tfirst_name,\n",
    "\tlast_name\n",
    "from transaction t\n",
    "right join customer c on t.customer_id = c.customer_id\n",
    "where transaction_id is null or t.customer_id is null;"
   ]
  },
  {
   "cell_type": "markdown",
   "metadata": {},
   "source": [
    "![](imgs/image_06.png)"
   ]
  },
  {
   "cell_type": "markdown",
   "metadata": {},
   "source": [
    "![](imgs/image_06.png)"
   ]
  },
  {
   "cell_type": "markdown",
   "metadata": {},
   "source": [
    "Всего 507 человек (без `distinct` ничего не изменится). "
   ]
  },
  {
   "cell_type": "markdown",
   "metadata": {},
   "source": [
    "## 7. (2 балла) Вывести всех клиентов из IT, у которых транзакции с максимальной стандартной стоимостью."
   ]
  },
  {
   "cell_type": "code",
   "execution_count": null,
   "metadata": {
    "vscode": {
     "languageId": "sql"
    }
   },
   "outputs": [],
   "source": [
    "select distinct\n",
    "    t.customer_id,\n",
    "\tfirst_name,\n",
    "\tlast_name\n",
    "from transaction t\n",
    "left join customer c on t.customer_id = c.customer_id\n",
    "where \n",
    "\tjob_industry_category = 'IT' and\n",
    "\tt.standard_cost = (\n",
    "      SELECT MAX(standard_cost)\n",
    "      FROM transaction\n",
    "  );"
   ]
  },
  {
   "cell_type": "markdown",
   "metadata": {},
   "source": [
    "![](imgs/image_07.png)"
   ]
  },
  {
   "cell_type": "markdown",
   "metadata": {},
   "source": [
    "![](imgs/image_07.png)"
   ]
  },
  {
   "cell_type": "markdown",
   "metadata": {},
   "source": [
    "## 8. (2 балла) Вывести всех клиентов из сферы IT и Health, у которых есть подтвержденные транзакции за период '2017-07-07' по '2017-07-17'."
   ]
  },
  {
   "cell_type": "code",
   "execution_count": null,
   "metadata": {
    "vscode": {
     "languageId": "sql"
    }
   },
   "outputs": [],
   "source": [
    "select distinct\n",
    "\tt.customer_id,\n",
    "\tfirst_name,\n",
    "\tlast_name\n",
    "from transaction t\n",
    "left join customer c on t.customer_id = c.customer_id\n",
    "where \n",
    "\tjob_industry_category in ('IT', 'Health') and\n",
    "\t(transaction_date BETWEEN '2017-07-07' AND '2017-07-17') and \n",
    "\torder_status = 'Approved';"
   ]
  },
  {
   "cell_type": "markdown",
   "metadata": {},
   "source": [
    "![](imgs/image_08.png)"
   ]
  },
  {
   "cell_type": "markdown",
   "metadata": {},
   "source": [
    "![](imgs/image_08.png)"
   ]
  },
  {
   "cell_type": "markdown",
   "metadata": {},
   "source": [
    "Всего 115 уникальных клиентов."
   ]
  }
 ],
 "metadata": {
  "language_info": {
   "name": "python"
  }
 },
 "nbformat": 4,
 "nbformat_minor": 2
}
